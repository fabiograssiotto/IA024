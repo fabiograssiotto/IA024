{
  "cells": [
    {
      "cell_type": "markdown",
      "metadata": {
        "id": "fMI0JT_YuYF3"
      },
      "source": [
        "## Exercício: Modelo de Linguagem com auto-atenção\n",
        "\n",
        "Este exercício é similar ao da aula passada, mas iremos agora treinar uma rede neural *com auto-atenção* para prever a próxima palavra de um texto, data as palavras anteriores como entrada.\n",
        "\n",
        "Na camada de auto-atenção, deve-se implementar (vide slide 34):\n",
        "- Embeddings de posição\n",
        "- Projeções lineares (WQ, WK, WV, WO)\n",
        "- Camada de feed forward (2-layer MLP)\n",
        "\n",
        "Instrucões:\n",
        "- É necessário fazer duas implementações da camada de auto-atenção: uma usando laços (ineficiente, mas fácil de entender) e outra matricial (eficiente mas difícil de entender). Usar slide 36 como referência.\n",
        "\n",
        "- Fazer um assert para garantir que o resultado das duas implementações é exatamente igual.\n",
        "\n",
        "- No treinamento, usar apenas a implementação matricial."
      ]
    },
    {
      "cell_type": "markdown",
      "metadata": {},
      "source": [
        "## Imports"
      ]
    },
    {
      "cell_type": "code",
      "execution_count": 1,
      "metadata": {},
      "outputs": [],
      "source": [
        "import os\n",
        "import sys\n",
        "import random\n",
        "import torch.nn as nn\n",
        "import torch.nn.functional as F\n",
        "import time\n",
        "import math\n",
        "from sklearn.model_selection import train_test_split\n",
        "from torch import nn"
      ]
    },
    {
      "cell_type": "markdown",
      "metadata": {},
      "source": [
        "## Variáveis Globais e Inicialização"
      ]
    },
    {
      "cell_type": "code",
      "execution_count": 2,
      "metadata": {},
      "outputs": [],
      "source": [
        "# Global variables\n",
        "\n",
        "# Vocabulary\n",
        "vocab_size = 5000\n",
        "context_size = 5\n",
        "pattern = r'\\w+|[,;.:!?\\']'\n",
        "\n",
        "# Training\n",
        "batch_size = 128\n",
        "epochs = 10\n",
        "lr = 0.1\n",
        "\n",
        "# Model\n",
        "embedding_dim = 256\n",
        "hidden_dim = 128\n",
        "dropout_rate = 0.2"
      ]
    },
    {
      "cell_type": "code",
      "execution_count": 3,
      "metadata": {},
      "outputs": [],
      "source": [
        "# Colab environment\n",
        "IN_COLAB = 'google.colab' in sys.modules\n",
        "\n",
        "if (IN_COLAB):\n",
        "    %pip install colorama\n",
        "\n",
        "    # Google Drive\n",
        "    from google.colab import drive\n",
        "    drive.mount('/content/drive', force_remount=True)\n",
        "\n",
        "    project_folder=\"/content/drive/MyDrive/Classes/IA024/Aula_2_3\"\n",
        "    os.chdir(project_folder)\n",
        "    !ls -la"
      ]
    },
    {
      "cell_type": "markdown",
      "metadata": {
        "id": "bYbkEzdD37sZ"
      },
      "source": [
        "## Faz download e carrega o dataset"
      ]
    },
    {
      "cell_type": "code",
      "execution_count": 4,
      "metadata": {
        "colab": {
          "base_uri": "https://localhost:8080/"
        },
        "id": "9qAnqY_q0beK",
        "outputId": "f810fdb0-138d-4917-b7ef-69ab266acef6"
      },
      "outputs": [],
      "source": [
        "# Check if download is necessary\n",
        "if not os.path.exists(\"67724.txt.utf-8\"):\n",
        "    print(\"Downloading Gutenberg texts\")\n",
        "\n",
        "    !wget https://www.gutenberg.org/ebooks/67724.txt.utf-8\n",
        "    !wget https://www.gutenberg.org/ebooks/67725.txt.utf-8"
      ]
    },
    {
      "cell_type": "code",
      "execution_count": 5,
      "metadata": {
        "colab": {
          "base_uri": "https://localhost:8080/"
        },
        "id": "6_UzC9pV091C",
        "outputId": "1553b04f-24c4-4027-8cab-0907f92f04df"
      },
      "outputs": [
        {
          "data": {
            "text/plain": [
              "4969"
            ]
          },
          "execution_count": 5,
          "metadata": {},
          "output_type": "execute_result"
        }
      ],
      "source": [
        "text = open(\"67724.txt.utf-8\",\"r\").read()\n",
        "text += open(\"67725.txt.utf-8\",\"r\").read()\n",
        "\n",
        "paragraphs = text.split(\"\\n\\n\")\n",
        "\n",
        "len(paragraphs)"
      ]
    },
    {
      "cell_type": "code",
      "execution_count": 6,
      "metadata": {},
      "outputs": [
        {
          "name": "stdout",
          "output_type": "stream",
          "text": [
            "The Project Gutenberg eBook of O Guarany: romance brazileiro, Vol. 1 (of 2)\n",
            "    \n",
            "This ebook is for the use of anyone anywhere in the United States and\n",
            "most other parts of the world at no cost and with almost no restrictions\n",
            "whatsoever. You may copy it, give it away or re-use it under the terms\n",
            "of the Project Gutenberg License included with this ebook or online\n",
            "at www.gutenberg.org. If you are not located in the United States,\n",
            "you will have to check the laws of the country where you are located\n",
            "before using this eBook.\n"
          ]
        }
      ],
      "source": [
        "# Checking the text\n",
        "print(paragraphs[0])"
      ]
    },
    {
      "cell_type": "code",
      "execution_count": 7,
      "metadata": {
        "colab": {
          "base_uri": "https://localhost:8080/"
        },
        "id": "UhUFjtNdDuG0",
        "outputId": "78798c0c-deca-4454-d3fb-7d3ba70f3e91"
      },
      "outputs": [
        {
          "name": "stdout",
          "output_type": "stream",
          "text": [
            "--Porque é preciso.\n",
            "\n",
            "A frente da casa estava ás escuras; o fogo ganhára as outras faces do edificio e o vento o lançava para o fundo. Pery do primeiro olhar tinha visto os vultos dos Aymorés a se moverem nas sombras; e a figura horrivel e medonha de Loredano, erguendo-se como um espectro no meio das chammas que o devoravão.\n",
            "\n",
            "Neste momento ouvio-se um rumor como se as folhas se tivessem agitado.\n",
            "\n",
            "De seu chapéo de feltro pardo sem pluma escapavão-se os anneis de cabellos brancos, que cahião sobre os hombros; atravez da longa barba alva como a espuma da cascata, brilhavão suas faces rosadas, sua bocca ainda expressiva, e seus olhos pequenos mas vivos.\n",
            "\n",
            "Fechou a porta afim de interceptar a communicação com os aventureiros, e poder tranquillamente tratar o negocio que tinha em mente.\n",
            "\n",
            "Number of paragraphs: 4892\n"
          ]
        },
        {
          "data": {
            "text/plain": [
              "4892"
            ]
          },
          "execution_count": 7,
          "metadata": {},
          "output_type": "execute_result"
        }
      ],
      "source": [
        "cleaned_paragraphs = [paragraph.replace(\"\\n\", \" \") for paragraph in paragraphs if paragraph.strip()]\n",
        "\n",
        "# Print 5 random paragraphs\n",
        "num_paragraphs = len(cleaned_paragraphs)\n",
        "for i in range(0,5):\n",
        "    idx = random.randrange(num_paragraphs)\n",
        "    print(f\"{cleaned_paragraphs[idx]}\\n\")\n",
        "\n",
        "print(\"Number of paragraphs: \" + str(num_paragraphs))\n",
        "\n",
        "len(cleaned_paragraphs)"
      ]
    },
    {
      "cell_type": "markdown",
      "metadata": {
        "id": "bFVN2ihb33Rf"
      },
      "source": [
        "## Análise do dataset"
      ]
    },
    {
      "cell_type": "code",
      "execution_count": 8,
      "metadata": {
        "colab": {
          "base_uri": "https://localhost:8080/"
        },
        "id": "qSRHqe3H4ZFw",
        "outputId": "4a985c7a-ce1d-4b72-d253-c9fbbc5f9440"
      },
      "outputs": [
        {
          "data": {
            "text/plain": [
              "12610"
            ]
          },
          "execution_count": 8,
          "metadata": {},
          "output_type": "execute_result"
        }
      ],
      "source": [
        "# Conta as palavras no dataset\n",
        "from collections import Counter\n",
        "import re\n",
        "\n",
        "def count_words(texts):\n",
        "    word_counts = Counter()\n",
        "    for text in texts:\n",
        "        word_counts.update(re.findall(pattern, text.lower()))\n",
        "    return word_counts\n",
        "\n",
        "word_counts = count_words(cleaned_paragraphs)\n",
        "\n",
        "len(word_counts)"
      ]
    },
    {
      "cell_type": "markdown",
      "metadata": {
        "id": "EyGVDL9KzJ_I"
      },
      "source": [
        "## Criando um vocabulário"
      ]
    },
    {
      "cell_type": "code",
      "execution_count": 9,
      "metadata": {
        "id": "FiP7OCo9zJ_I"
      },
      "outputs": [],
      "source": [
        "most_frequent_words = [word for word, count in word_counts.most_common(vocab_size)]\n",
        "vocab = {word: i for i, word in enumerate(most_frequent_words, 1)}"
      ]
    },
    {
      "cell_type": "code",
      "execution_count": 10,
      "metadata": {},
      "outputs": [
        {
          "name": "stdout",
          "output_type": "stream",
          "text": [
            "Most Frequent Words: ['.', ',', 'a', 'que', 'o', 'de', 'e', 'se', ';', 'um']\n",
            "Vocabulary Size: 5000\n"
          ]
        }
      ],
      "source": [
        "print(f\"Most Frequent Words: {most_frequent_words[:10]}\")\n",
        "print(f\"Vocabulary Size: {len(vocab)}\")"
      ]
    },
    {
      "cell_type": "code",
      "execution_count": 11,
      "metadata": {
        "colab": {
          "base_uri": "https://localhost:8080/"
        },
        "id": "RhbhAsZbzJ_J",
        "outputId": "6a53c9e0-308d-4082-e225-cfa376e8f39a"
      },
      "outputs": [
        {
          "name": "stdout",
          "output_type": "stream",
          "text": [
            " Publicando este livro em 1857, se disse ser aquella primeira edição uma prova typographica, que algum dia talvez o autor se dispuzesse a rever.\n",
            "[0, 146, 4383, 23, 0, 2, 8, 50, 117, 276, 266, 2669, 13, 1071, 0, 2, 4, 193, 137, 287, 5, 2264, 8, 0, 3, 2672, 1]\n"
          ]
        }
      ],
      "source": [
        "def encode_sentence(sentence, vocab):\n",
        "    return [vocab.get(word, 0) for word in re.findall(pattern, sentence.lower())]\n",
        "\n",
        "print(cleaned_paragraphs[20])\n",
        "print(encode_sentence(cleaned_paragraphs[20], vocab))"
      ]
    },
    {
      "cell_type": "markdown",
      "metadata": {
        "id": "wia_ygbvzJ_J"
      },
      "source": [
        "## Classe do dataset"
      ]
    },
    {
      "cell_type": "code",
      "execution_count": 12,
      "metadata": {
        "id": "Iy-elI1magRR"
      },
      "outputs": [],
      "source": [
        "# Dataset class\n",
        "import torch\n",
        "from torch.utils.data import Dataset, DataLoader\n",
        "\n",
        "class CustomDataset(Dataset):\n",
        "  def __init__(self, paragraphs, vocab, context):\n",
        "    self.paragraphs = paragraphs\n",
        "    self.vocab = vocab\n",
        "    self.context = context\n",
        "    self.tokens, self.targets = self.setup()\n",
        "\n",
        "  def __len__(self):\n",
        "    return len(self.tokens)\n",
        "\n",
        "  def __getitem__(self, idx):\n",
        "    return torch.tensor(self.tokens[idx]), torch.tensor(self.targets[idx])\n",
        "  \n",
        "  def setup(self):\n",
        "    tokens = []\n",
        "    targets = []\n",
        "    for paragraph in self.paragraphs:\n",
        "      encoded = encode_sentence(paragraph, self.vocab)\n",
        "      \n",
        "      # If paragraph is smaller than the context, skip it.\n",
        "      if len(encoded) < self.context + 1:\n",
        "          continue\n",
        "\n",
        "      for i in range(len(encoded) - self.context):\n",
        "        tks = encoded[i:i+self.context]\n",
        "        tgt = encoded[i+self.context]\n",
        "        # Only add if there are no unknown tokens in both context and target.\n",
        "        bad_token = 0\n",
        "        if not (bad_token in tks or tgt == bad_token):\n",
        "          tokens.append(tks)\n",
        "          targets.append(tgt)\n",
        "    return tokens, targets\n"
      ]
    },
    {
      "cell_type": "code",
      "execution_count": 13,
      "metadata": {
        "colab": {
          "base_uri": "https://localhost:8080/"
        },
        "id": "aD1CVci2zJ_J",
        "outputId": "5bf0839e-f30e-4ff2-ed6f-4f3fda782b7c"
      },
      "outputs": [
        {
          "name": "stdout",
          "output_type": "stream",
          "text": [
            "Training samples: 3913\n",
            "Validation samples: 979\n",
            "\n",
            "Training dataset samples: 59646\n",
            "Validation dataset samples: 16215\n"
          ]
        }
      ],
      "source": [
        "# Train/Validation split\n",
        "train_data, val_data = train_test_split(cleaned_paragraphs, test_size=0.2, random_state=18)\n",
        "\n",
        "train_dataset = CustomDataset(train_data, vocab, context_size)\n",
        "val_dataset = CustomDataset(val_data, vocab, context_size)\n",
        "\n",
        "# Counting all Samples\n",
        "print(f\"Training samples: {len(train_data)}\")\n",
        "print(f\"Validation samples: {len(val_data)}\")\n",
        "print()\n",
        "print(f\"Training dataset samples: {len(train_dataset)}\")\n",
        "print(f\"Validation dataset samples: {len(val_dataset)}\")"
      ]
    },
    {
      "cell_type": "code",
      "execution_count": 14,
      "metadata": {
        "id": "gC0C5qn2zJ_J"
      },
      "outputs": [
        {
          "name": "stdout",
          "output_type": "stream",
          "text": [
            "[tensor([[ 162,    7,   11, 1108,   14],\n",
            "        [3352,    8,    6,  196,    2],\n",
            "        [  62,   14,  318,   11, 1361],\n",
            "        [ 596, 2935, 2460,   13,  350],\n",
            "        [2161,    2,    7,    5,  274],\n",
            "        [  30,    1,   47,    6,   73],\n",
            "        [   1,   12,   33,  272,  324],\n",
            "        [ 324,  672,    7, 2499,    9],\n",
            "        [   4,  850,   38,    5,  619],\n",
            "        [   1,    1,    1,    1,    1],\n",
            "        [   1,    1,    1,    1,    1],\n",
            "        [   7,    5, 2960,    4,  935],\n",
            "        [ 414,  658,  130,    4, 1429],\n",
            "        [   3,    4, 4303,    3, 2706],\n",
            "        [3060,   45,  322,    9,   81],\n",
            "        [   1,   12,  959,   46, 2736],\n",
            "        [  18, 2750,    5, 1776,    4],\n",
            "        [  69,  768,    2,  461,    7],\n",
            "        [   3,  266,  124,    4,  298],\n",
            "        [   4, 1991,   52,    6,  309],\n",
            "        [  30,    1,   47,    6,   73],\n",
            "        [   6,   17,  211,    5,   43],\n",
            "        [  90,  191,  420,   74,   66],\n",
            "        [   9,  558,   33,    3, 1026],\n",
            "        [   3,  941,    9,    5,  401],\n",
            "        [  31, 3483,    2,  806,    6],\n",
            "        [   6, 1667,    2, 4240, 3337],\n",
            "        [ 908,   33,    4,   64,   12],\n",
            "        [4979,    5,   80,   84,  521],\n",
            "        [ 956,    9,    7, 2172,    3],\n",
            "        [  95,  346, 1763,    7, 2543],\n",
            "        [1821,  368,   16,  608,    2],\n",
            "        [2168, 2167,  100,  385,    2],\n",
            "        [ 179,    2,  765,   11, 1337],\n",
            "        [ 585,    3, 3907,    2,    5],\n",
            "        [1731,  104, 2226, 3291,  545],\n",
            "        [ 211, 1054,    8,    6,  196],\n",
            "        [  24,  221,   11,   19,  141],\n",
            "        [  23,  307,    1, 1777,    2],\n",
            "        [ 116,   41,  470,  382,    2],\n",
            "        [2704,    3, 1866,    6,   95],\n",
            "        [   1,  271,    2,   12,  127],\n",
            "        [2163,    3,   17,  741,    2],\n",
            "        [   6,  918,    4,   29,  365],\n",
            "        [ 536,   10,  843,   24,   91],\n",
            "        [3401,   26,   10,  327,    4],\n",
            "        [ 145,  461,    2,   33,    5],\n",
            "        [   2,    7,    4,    3,  590],\n",
            "        [2126,    5, 4884,  843,    4],\n",
            "        [  58,    2,   12, 1640,    2],\n",
            "        [ 978,    6,   49,    2,   12],\n",
            "        [  24,   91,   51, 1399,   16],\n",
            "        [2023,    4,   49,   70, 1282],\n",
            "        [   6,   21,    3,  639,    6],\n",
            "        [2565,  853,    3,   99,   27],\n",
            "        [ 343,  940,  507,    4,    5],\n",
            "        [ 295,   36, 2972,    6, 1486],\n",
            "        [   2,    4,  123, 1794, 2790],\n",
            "        [   4,   15,  419, 1487,    2],\n",
            "        [  76,   16,   13, 1281,  530],\n",
            "        [  22, 2081,    6,   19, 2454],\n",
            "        [   6,   21,    2,  135,   10],\n",
            "        [   7,   64, 4316,   38,    5],\n",
            "        [ 184,   11, 2929,    9,    5],\n",
            "        [  11,  259, 1159, 3219,  282],\n",
            "        [ 982,   34,  121,    2,  975],\n",
            "        [ 312,   16,   15,   55,   11],\n",
            "        [1709,   53,  151,  155,   90],\n",
            "        [ 277,   16,   13, 2575, 1081],\n",
            "        [ 200,    6,   19,  119,    2],\n",
            "        [  31, 1071,   20,  171,    5],\n",
            "        [ 158, 2863, 2631,    6,   19],\n",
            "        [2590,    5,  215,  493,    6],\n",
            "        [   7,  173, 1298,   18,    5],\n",
            "        [4131,   10,   87,  767,    1],\n",
            "        [1672,  416, 2832,  150,   16],\n",
            "        [3132,    2, 2254,    3,   83],\n",
            "        [   6,  117, 2482,   26,   10],\n",
            "        [   4,    5, 3933,    6, 2534],\n",
            "        [  50,    3,  112,   16,   10],\n",
            "        [  13,  347,   12,    2,   39],\n",
            "        [ 132,    3,   17,  598,    9],\n",
            "        [  24,   91,   14, 1955,    9],\n",
            "        [   4,    5, 2773,    6, 2774],\n",
            "        [   3, 1184,    9,    7,   94],\n",
            "        [1358,    9,  377,  146,    5],\n",
            "        [  80,   16,    5,   19,  304],\n",
            "        [  38,    5,  399,    7, 1441],\n",
            "        [  24,  137,   23,    4, 1800],\n",
            "        [ 567,  311, 3289, 3290,   86],\n",
            "        [  71,  600,    7,  526,    2],\n",
            "        [   6,  159, 3122,    5,   19],\n",
            "        [   2,  180,    1,  120,    9],\n",
            "        [1194,    2,   15,  217,  169],\n",
            "        [2577,   36, 1375,  132,    3],\n",
            "        [  14,   83,    2,   23,    4],\n",
            "        [ 493,   31, 2246,    7,   26],\n",
            "        [ 403,   82, 4607,    2, 3542],\n",
            "        [   5, 4272,    2,  103,   18],\n",
            "        [   4, 3180,  648,    3,  211],\n",
            "        [   1,    1,    1,    1,    1],\n",
            "        [   2,  252,   88,  367,  273],\n",
            "        [   7, 1647,   51,  346,   14],\n",
            "        [   3, 1475,   11, 2259,  900],\n",
            "        [4275,    4,    8, 2976,  258],\n",
            "        [1343,   44,   60,  193,  423],\n",
            "        [   8,  160,  189, 1033,    6],\n",
            "        [   2,   31,  139,    2,  229],\n",
            "        [   4,   65,  574,  288, 3726],\n",
            "        [ 102,   20,    1,    1,    1],\n",
            "        [   3, 1603,  850,  728,   28],\n",
            "        [ 229,   15,  805,    2,    7],\n",
            "        [  75,    4,   32,   27,   19],\n",
            "        [  15,   55,    8, 1858,   18],\n",
            "        [3525, 2793, 2354,    2,    7],\n",
            "        [   1, 2833,  731,   56,  142],\n",
            "        [  85,  131,    8, 2133,    7],\n",
            "        [   7, 3610,   29,    3,  757],\n",
            "        [   8,   36, 1319,    4,   65],\n",
            "        [   1,    1,    1,    1,    1],\n",
            "        [ 207,   63,   55,    9,    3],\n",
            "        [2117,   21,    2,   37,  272],\n",
            "        [   4,  597,   51,  687,   40],\n",
            "        [3901,    9,  276,  128, 3529],\n",
            "        [ 777, 3332,    3, 1153,    1],\n",
            "        [   1,    1,    1,    1,    1],\n",
            "        [  27,  205,   67,    9,   33],\n",
            "        [ 291, 1220,    8,   19,  119]]), tensor([ 112,    7,    2,    2,   14,    9,   18,  254,    9,    1,    1,    3,\n",
            "           1,    6,    5,    9,  201,  675,  162,   18,    9,    3,  155,   11,\n",
            "         592, 4536,    5,    5,    7,   77,    1,   12,    3, 1932,   87,  746,\n",
            "          16,    6, 1400,  785, 4940,   71,    7,  951,   42,  395,   19,   28,\n",
            "          15,   12,   29,  163,    2,  503,  194,  122,    9,   15,    3,    3,\n",
            "         181,  264,  162,    6,  990, 4053,  144,  191,    1,    7,   80,  351,\n",
            "          77,  643,  649,   13,   27,  407,    1,   91,   10,   12,   62,    1,\n",
            "           8, 1095,    6,    5,    6,  995,   13,  412,   39, 1927,   17,    5,\n",
            "          54,    8,    5, 1021,    1,    1, 3973,   70,    1,   25, 2491, 2478,\n",
            "           2,  637,   13,   10, 1181,   13, 1199,   22, 2670,    4,  267,    1,\n",
            "        3103,    4,   33,    2,   96,    1,    5,    2])]\n"
          ]
        }
      ],
      "source": [
        "train_loader = DataLoader(train_dataset, batch_size=batch_size, shuffle=True)\n",
        "val_loader = DataLoader(val_dataset, batch_size=batch_size, shuffle=True)\n",
        "\n",
        "sample = next(iter(train_loader))\n",
        "print(sample)"
      ]
    },
    {
      "cell_type": "markdown",
      "metadata": {
        "id": "-5_-Yud0zJ_K"
      },
      "source": [
        "## Model"
      ]
    },
    {
      "cell_type": "markdown",
      "metadata": {},
      "source": [
        "#### Implementação das camadas de self-attention (Loop e Matricial)\n",
        "#### Positional Encoding:"
      ]
    },
    {
      "cell_type": "code",
      "execution_count": 15,
      "metadata": {},
      "outputs": [],
      "source": [
        "# Positional Embedding - as described in \"Attention is All You Need\"\n",
        "class PositionalEncoding(nn.Module):\n",
        "    def __init__(self, max_sequence, embedding_dim):\n",
        "        super().__init__()\n",
        "        device = torch.device('cuda' if torch.cuda.is_available() else 'cpu')\n",
        "        self.positional_encoding = torch.zeros(max_sequence, embedding_dim, device=device)\n",
        "        position = torch.arange(0, max_sequence, device=device).unsqueeze(1)\n",
        "        div_term = torch.exp(torch.arange(0, embedding_dim, 2, device=device) * (-math.log(10000.0) / embedding_dim))\n",
        "        self.positional_encoding[:, 0::2] = torch.sin(position * div_term)\n",
        "        self.positional_encoding[:, 1::2] = torch.cos(position * div_term)\n",
        "        self.positional_encoding = self.positional_encoding.unsqueeze(0)\n",
        "\n",
        "    def forward(self, x):\n",
        "        _, seq_length, _ = x.size()\n",
        "        positional_encoding = self.positional_encoding[:, :seq_length, :]\n",
        "        positional_encoding = positional_encoding.to(x.device)\n",
        "        # Position encoding is added to the input embeddings.\n",
        "        return x + positional_encoding   "
      ]
    },
    {
      "cell_type": "markdown",
      "metadata": {},
      "source": [
        "#### Implementação em Loop"
      ]
    },
    {
      "cell_type": "code",
      "execution_count": 16,
      "metadata": {},
      "outputs": [],
      "source": [
        "# Adaptado da implementação do Ramon, muito elegante e traduziu bem o slide em aula.\n",
        "\n",
        "class SelfAttention_Loop(nn.Module):\n",
        "  def __init__(self, embedding_dim, vocab_size):\n",
        "    super(SelfAttention_Loop, self).__init__()\n",
        "\n",
        "    self.WQ = nn.Linear(embedding_dim, embedding_dim, bias=False)\n",
        "    self.WK = nn.Linear(embedding_dim, embedding_dim, bias=False)\n",
        "    self.WV = nn.Linear(embedding_dim, embedding_dim, bias=False)\n",
        "    self.WO = nn.Linear(embedding_dim, embedding_dim, bias=False)\n",
        "    \n",
        "  def setProjections(self, WQ, WK, WV, WO):\n",
        "    self.WQ = WQ\n",
        "    self.WK = WK\n",
        "    self.WV = WV\n",
        "    self.WO = WO\n",
        "\n",
        "  def forward(self, seq):\n",
        "    E = []  \n",
        "    for Xq in seq:\n",
        "        q = self.WQ(Xq)\n",
        "        scores = []\n",
        "        for Xk in seq:\n",
        "            k = self.WK(Xk)\n",
        "            score = torch.dot(q, k.transpose(-1,0))\n",
        "            scores.append(score)\n",
        "\n",
        "        scores_tensor = torch.tensor(scores)  \n",
        "        probs         = scores_tensor.softmax(dim=-1)\n",
        "\n",
        "        e = 0\n",
        "        for xv, p in zip(seq, probs):\n",
        "            v = self.WV(xv)\n",
        "            e += v * p\n",
        "\n",
        "        e = self.WO(e)\n",
        "        E.append(e)\n",
        "\n",
        "    return torch.stack(E) "
      ]
    },
    {
      "cell_type": "markdown",
      "metadata": {},
      "source": [
        "#### Implementação Matricial"
      ]
    },
    {
      "cell_type": "code",
      "execution_count": 17,
      "metadata": {},
      "outputs": [],
      "source": [
        "# Matrix Implementation\n",
        "class SelfAttention_Matrix(nn.Module):\n",
        "  def __init__(self, embedding_dim, vocab_size):\n",
        "    super().__init__()\n",
        "\n",
        "    self.WQ = nn.Linear(embedding_dim, embedding_dim, bias=False)\n",
        "    self.WK = nn.Linear(embedding_dim, embedding_dim, bias=False)\n",
        "    self.WV = nn.Linear(embedding_dim, embedding_dim, bias=False)\n",
        "    self.WO = nn.Linear(embedding_dim, embedding_dim, bias=False)\n",
        "\n",
        "  def setProjections(self, WQ, WK, WV, WO):\n",
        "    self.WQ = WQ\n",
        "    self.WK = WK\n",
        "    self.WV = WV\n",
        "    self.WO = WO\n",
        "\n",
        "  def forward(self, inputs):\n",
        "    # Linear projections\n",
        "    Q = self.WQ(inputs)\n",
        "    K = self.WK(inputs)\n",
        "    V = self.WV(inputs)\n",
        "\n",
        "    scores = torch.matmul(Q, K.transpose(-2, -1))\n",
        "    probs = F.softmax(scores, dim=-1)\n",
        "    new_embedding = torch.matmul(probs, V)\n",
        "    # Projection in WO\n",
        "    new_embedding = self.WO(new_embedding)\n",
        "    return new_embedding"
      ]
    },
    {
      "cell_type": "markdown",
      "metadata": {},
      "source": [
        "### Teste das Camadas de Atenção"
      ]
    },
    {
      "cell_type": "code",
      "execution_count": 18,
      "metadata": {},
      "outputs": [
        {
          "name": "stdout",
          "output_type": "stream",
          "text": [
            "Loop Embeds:\n",
            "tensor([[-0.0796,  0.0439, -0.2599, -0.1832, -0.1707],\n",
            "        [ 0.3047, -0.1530, -0.5813, -0.3945, -0.1974],\n",
            "        [-0.0796,  0.0439, -0.2599, -0.1832, -0.1707],\n",
            "        [-0.0640,  0.0319, -0.3151, -0.2128, -0.2048],\n",
            "        [ 0.3623, -0.1669, -0.5186, -0.3556, -0.0991]],\n",
            "       grad_fn=<StackBackward0>)\n",
            "Matrix Embeds:\n",
            "tensor([[-0.0796,  0.0439, -0.2599, -0.1832, -0.1707],\n",
            "        [ 0.3047, -0.1530, -0.5813, -0.3945, -0.1974],\n",
            "        [-0.0796,  0.0439, -0.2599, -0.1832, -0.1707],\n",
            "        [-0.0640,  0.0319, -0.3151, -0.2128, -0.2048],\n",
            "        [ 0.3623, -0.1669, -0.5186, -0.3556, -0.0991]], grad_fn=<MmBackward0>)\n",
            "\n",
            "Loop and Matrix results are the same: True\n"
          ]
        }
      ],
      "source": [
        "# Test data\n",
        "tst_dim = 5\n",
        "tst_vocab = 10\n",
        "data = torch.randint(0, tst_vocab, (tst_dim,))\n",
        "embedding = nn.Embedding(tst_vocab, tst_dim)\n",
        "embeds = embedding(data)\n",
        "\n",
        "# Projections (need to be the same for this test)\n",
        "WQ = nn.Linear(tst_dim, tst_dim, bias=False)\n",
        "WK = nn.Linear(tst_dim, tst_dim, bias=False)\n",
        "WV = nn.Linear(tst_dim, tst_dim, bias=False)\n",
        "WO = nn.Linear(tst_dim, tst_dim, bias=False)\n",
        "\n",
        "# Loop\n",
        "attn_loop = SelfAttention_Loop(tst_dim, tst_vocab)\n",
        "attn_loop.setProjections(WQ, WK, WV, WO)\n",
        "embeds_attn_loop = attn_loop(embeds)\n",
        "# Matrix\n",
        "attn_matrix = SelfAttention_Matrix(tst_dim, tst_vocab)\n",
        "attn_matrix.setProjections(WQ, WK, WV, WO)\n",
        "embeds_attn_matrix = attn_matrix(embeds)\n",
        "\n",
        "print(\"Loop Embeds:\")\n",
        "print(embeds_attn_loop)\n",
        "\n",
        "print(\"Matrix Embeds:\")\n",
        "print(embeds_attn_matrix)\n",
        "\n",
        "# Check results\n",
        "print()\n",
        "print(f'Loop and Matrix results are the same: {torch.allclose(embeds_attn_loop, embeds_attn_matrix)}')"
      ]
    },
    {
      "cell_type": "markdown",
      "metadata": {},
      "source": [
        "### Implementação dos Modelos (Com e sem atenção, e com embeddings de posição)"
      ]
    },
    {
      "cell_type": "code",
      "execution_count": 19,
      "metadata": {},
      "outputs": [],
      "source": [
        "class BengioModel(torch.nn.Module):\n",
        "    def __init__(self, vocab_size, embedding_dim, context_size, h):\n",
        "        super(BengioModel, self).__init__()\n",
        "        self.embeddings = nn.Embedding(vocab_size+1, embedding_dim)\n",
        "        self.linear1 = nn.Linear(context_size * embedding_dim, h)\n",
        "        self.dropout1 = nn.Dropout(p = dropout_rate)\n",
        "        self.relu = torch.nn.ReLU()\n",
        "        self.linear2 = nn.Linear(h, vocab_size+1)\n",
        "        self.dropout2 = nn.Dropout(p = dropout_rate)\n",
        "        # Softmax to scale outputs\n",
        "        self.logSoftMax = torch.nn.LogSoftmax(dim=1)\n",
        "\n",
        "    def forward(self, inputs):\n",
        "        embeds = self.embeddings(inputs)\n",
        "        # Flatten embeddings\n",
        "        embeds = embeds.view(embeds.size(0), -1)\n",
        "        # Linear layer\n",
        "        out = self.linear1(embeds)\n",
        "        out = self.dropout1(out)\n",
        "        out = self.relu(out)\n",
        "        # Second layer\n",
        "        out = self.linear2(out)\n",
        "        out = self.dropout2(out)\n",
        "        # Softmax output\n",
        "        out = self.logSoftMax(out)\n",
        "        return out"
      ]
    },
    {
      "cell_type": "code",
      "execution_count": 20,
      "metadata": {},
      "outputs": [],
      "source": [
        "class BengioModel_SelfAttentionMatrix(torch.nn.Module):\n",
        "    def __init__(self, vocab_size, embedding_dim, context_size, h):\n",
        "        super(BengioModel_SelfAttentionMatrix, self).__init__()\n",
        "        self.embeddings = nn.Embedding(vocab_size+1, embedding_dim)\n",
        "        self.attention = SelfAttention_Matrix(embedding_dim, vocab_size)        \n",
        "        self.linear1 = nn.Linear(context_size * embedding_dim, h)\n",
        "        self.dropout1 = nn.Dropout(p = dropout_rate)\n",
        "        self.relu = torch.nn.ReLU()\n",
        "        self.linear2 = nn.Linear(h, vocab_size+1)\n",
        "        self.dropout2 = nn.Dropout(p = dropout_rate)\n",
        "        # Softmax to scale outputs\n",
        "        self.logSoftMax = torch.nn.LogSoftmax(dim=1)\n",
        "\n",
        "    def forward(self, inputs):\n",
        "        embeds = self.embeddings(inputs)\n",
        "        x = torch.stack(torch.unbind(embeds, dim=1), dim=1)\n",
        "        # Camada de autoatenção\n",
        "        attention  = self.attention(x)\n",
        "        # Flatten embeddings\n",
        "        embeds = embeds.view(attention.size(0), -1)\n",
        "        # Linear layer\n",
        "        out = self.linear1(embeds)\n",
        "        out = self.dropout1(out)\n",
        "        out = self.relu(out)\n",
        "        # Second layer\n",
        "        out = self.linear2(out)\n",
        "        out = self.dropout2(out)\n",
        "        # Softmax output\n",
        "        out = self.logSoftMax(out)\n",
        "        return out"
      ]
    },
    {
      "cell_type": "code",
      "execution_count": 21,
      "metadata": {
        "id": "I2qKG9YczJ_K"
      },
      "outputs": [],
      "source": [
        "class BengioModel_SelfAttentionMatrix_PosEncoding(torch.nn.Module):\n",
        "    def __init__(self, vocab_size, embedding_dim, context_size, h):\n",
        "        super(BengioModel_SelfAttentionMatrix_PosEncoding, self).__init__()\n",
        "        self.embeddings = nn.Embedding(vocab_size+1, embedding_dim)\n",
        "        self.posencoding = PositionalEncoding(context_size, embedding_dim)\n",
        "        self.attention = SelfAttention_Matrix(embedding_dim, vocab_size)        \n",
        "        self.linear1 = nn.Linear(context_size * embedding_dim, h)\n",
        "        self.dropout1 = nn.Dropout(p = dropout_rate)\n",
        "        self.relu = torch.nn.ReLU()\n",
        "        self.linear2 = nn.Linear(h, vocab_size+1)\n",
        "        self.dropout2 = nn.Dropout(p = dropout_rate)\n",
        "        # Softmax to scale outputs\n",
        "        self.logSoftMax = torch.nn.LogSoftmax(dim=1)\n",
        "\n",
        "    def forward(self, inputs):\n",
        "        embeds = self.embeddings(inputs)\n",
        "        embeds_pos = self.posencoding(embeds)\n",
        "        x = torch.stack(torch.unbind(embeds_pos, dim=1), dim=1)\n",
        "        # Camada de autoatenção\n",
        "        attention  = self.attention(x)\n",
        "        # Flatten embeddings\n",
        "        embeds = embeds.view(attention.size(0), -1)\n",
        "        # Linear layer\n",
        "        out = self.linear1(embeds)\n",
        "        out = self.dropout1(out)\n",
        "        out = self.relu(out)\n",
        "        # Second layer\n",
        "        out = self.linear2(out)\n",
        "        out = self.dropout2(out)\n",
        "        # Softmax output\n",
        "        out = self.logSoftMax(out)\n",
        "        return out"
      ]
    },
    {
      "cell_type": "markdown",
      "metadata": {},
      "source": [
        "## Funções de Treinamento e Avaliação do Modelo"
      ]
    },
    {
      "cell_type": "code",
      "execution_count": 22,
      "metadata": {},
      "outputs": [],
      "source": [
        "def count_parameters(model):\n",
        "    total_params = sum(p.numel() for p in model.parameters() if p.requires_grad)\n",
        "    print(f'The model has a total of {total_params:,} parameters.')"
      ]
    },
    {
      "cell_type": "code",
      "execution_count": 23,
      "metadata": {},
      "outputs": [],
      "source": [
        "def initial_eval(model):\n",
        "    # Initial Perplexity and Loss\n",
        "    # Before training\n",
        "    model.eval()\n",
        "\n",
        "    loss = 0\n",
        "    perp = 0\n",
        "\n",
        "    with torch.no_grad():\n",
        "        for inputs, targets in train_loader:\n",
        "            inputs = inputs.to(device)\n",
        "            targets = targets.to(device)\n",
        "            outputs = model(inputs)\n",
        "            loss += criterion(outputs, targets).item()\n",
        "\n",
        "    loss /= len(train_loader)\n",
        "    perp = torch.exp(torch.tensor(loss))\n",
        "\n",
        "    print(f'Initial Loss: {loss:.4f}')\n",
        "    print(f'Initial Perplexity: {perp:.4f}')"
      ]
    },
    {
      "cell_type": "code",
      "execution_count": 24,
      "metadata": {},
      "outputs": [],
      "source": [
        "def train(model, criterion, optimizer):\n",
        "      # Training Loop\n",
        "      model.train()\n",
        "      for epoch in range(epochs):\n",
        "\n",
        "            epoch_start = time.time()\n",
        "            # Metrics\n",
        "            epoch_loss = 0\n",
        "            epoch_correct = 0\n",
        "            epoch_samples = 0\n",
        "\n",
        "            for inputs, targets in train_loader:\n",
        "                  inputs = inputs.to(device)  # Move input data to the device\n",
        "                  targets = targets.to(device)\n",
        "\n",
        "                  # Forward pass\n",
        "                  outputs = model(inputs)\n",
        "                  loss = criterion(outputs, targets)\n",
        "\n",
        "                  # Backward pass and optimization\n",
        "                  optimizer.zero_grad()\n",
        "                  loss.backward()\n",
        "                  optimizer.step()\n",
        "\n",
        "                  # Loss\n",
        "                  epoch_loss += loss.item()\n",
        "\n",
        "                  # Predicted\n",
        "                  _, predicted = torch.max(outputs, 1)\n",
        "                  epoch_correct += (predicted == targets).sum().item()\n",
        "                  epoch_samples += targets.size(0)\n",
        "\n",
        "            # Calculate average loss and accuracy for epoch\n",
        "            avg_loss = epoch_loss / len(train_loader)\n",
        "            acc = epoch_correct / epoch_samples\n",
        "\n",
        "            # Perplexity\n",
        "            perp = torch.exp(torch.tensor(avg_loss))\n",
        "\n",
        "            epoch_end = time.time()\n",
        "            epoch_time = epoch_end - epoch_start\n",
        "            # Print epoch statistics\n",
        "            print(f'Epoch [{epoch+1}/{epochs}], Time:{epoch_time:.2f}, Loss: {avg_loss:.4f}, Accuracy: {acc:.2f}%, Perplexity: {perp:.4f}')\n"
      ]
    },
    {
      "cell_type": "code",
      "execution_count": 25,
      "metadata": {
        "id": "nXXO78GSDqPg"
      },
      "outputs": [],
      "source": [
        "def eval(model, criterion):\n",
        "    model.eval()\n",
        "\n",
        "    loss_sum = 0\n",
        "    total_sum = 0\n",
        "    correct_sum = 0\n",
        "    eval_round = 0\n",
        "\n",
        "    loss = 0\n",
        "    perp = 0\n",
        "\n",
        "    with torch.no_grad():\n",
        "        for inputs, targets in val_loader:\n",
        "            inputs = inputs.to(device)\n",
        "            targets = targets.to(device)\n",
        "\n",
        "            outputs = model(inputs)\n",
        "            loss = criterion(outputs, targets)      \n",
        "            loss_sum += loss\n",
        "\n",
        "            # Get the predicted labels\n",
        "            _, predicted = torch.max(outputs, 1)\n",
        "\n",
        "            total_sum += targets.size(0)\n",
        "            correct_sum += (predicted == targets).sum().item()\n",
        "            eval_round += 1\n",
        "\n",
        "    # Calculate accuracy\n",
        "    acc = 100 * correct_sum / total_sum\n",
        "\n",
        "    # Calculate average perplexity\n",
        "    average_loss = loss_sum / len(val_loader)\n",
        "    average_perplexity = torch.exp(average_loss)\n",
        "\n",
        "    print(f'Test Accuracy: {acc:.2f}%')\n",
        "    print(f'Average Loss: {average_loss:.2f}')\n",
        "    print(f'Average Perplexity: {average_perplexity:.2f}')"
      ]
    },
    {
      "cell_type": "code",
      "execution_count": 26,
      "metadata": {},
      "outputs": [
        {
          "data": {
            "text/plain": [
              "device(type='cuda')"
            ]
          },
          "execution_count": 26,
          "metadata": {},
          "output_type": "execute_result"
        }
      ],
      "source": [
        "device = torch.device('cuda' if torch.cuda.is_available() else 'cpu')\n",
        "device"
      ]
    },
    {
      "cell_type": "markdown",
      "metadata": {},
      "source": [
        "## Avaliação dos Modelos"
      ]
    },
    {
      "cell_type": "markdown",
      "metadata": {},
      "source": [
        "\n",
        "### 1. Sem camada de atenção"
      ]
    },
    {
      "cell_type": "code",
      "execution_count": 27,
      "metadata": {},
      "outputs": [
        {
          "name": "stdout",
          "output_type": "stream",
          "text": [
            "Model without Self Attention:\n",
            "\n",
            "The model has a total of 2,089,353 parameters.\n",
            "\n",
            "Training Start\n",
            "\n",
            "Epoch [1/10], Time:1.60, Loss: 6.9564, Accuracy: 0.10%, Perplexity: 1049.8967\n",
            "Epoch [2/10], Time:1.51, Loss: 6.3654, Accuracy: 0.12%, Perplexity: 581.3578\n",
            "Epoch [3/10], Time:1.51, Loss: 6.1000, Accuracy: 0.14%, Perplexity: 445.8703\n",
            "Epoch [4/10], Time:1.52, Loss: 5.9284, Accuracy: 0.15%, Perplexity: 375.5598\n",
            "Epoch [5/10], Time:1.56, Loss: 5.7627, Accuracy: 0.17%, Perplexity: 318.2155\n",
            "Epoch [6/10], Time:1.65, Loss: 5.6225, Accuracy: 0.18%, Perplexity: 276.5871\n",
            "Epoch [7/10], Time:1.69, Loss: 5.5044, Accuracy: 0.19%, Perplexity: 245.7831\n",
            "Epoch [8/10], Time:1.49, Loss: 5.3838, Accuracy: 0.20%, Perplexity: 217.8391\n",
            "Epoch [9/10], Time:1.51, Loss: 5.2785, Accuracy: 0.20%, Perplexity: 196.0726\n",
            "Epoch [10/10], Time:1.55, Loss: 5.1858, Accuracy: 0.21%, Perplexity: 178.7156\n",
            "\n",
            "Evaluation Start\n",
            "\n",
            "Test Accuracy: 20.23%\n",
            "Average Loss: 5.24\n",
            "Average Perplexity: 188.25\n"
          ]
        }
      ],
      "source": [
        "model = BengioModel(vocab_size, embedding_dim, context_size, hidden_dim)\n",
        "print(\"Model without Self Attention:\")\n",
        "print()\n",
        "count_parameters(model)\n",
        "\n",
        "# Cross Entropy\n",
        "criterion = nn.CrossEntropyLoss()\n",
        "\n",
        "# Optimizer\n",
        "optimizer = torch.optim.SGD(model.parameters(), lr)\n",
        "\n",
        "model.to(device)\n",
        "\n",
        "print()\n",
        "print(\"Training Start\")\n",
        "print()\n",
        "train(model, criterion, optimizer)\n",
        "\n",
        "print()\n",
        "print(\"Evaluation Start\")\n",
        "print()\n",
        "eval(model, criterion)"
      ]
    },
    {
      "cell_type": "markdown",
      "metadata": {},
      "source": [
        "### 2. Com camada de atenção"
      ]
    },
    {
      "cell_type": "code",
      "execution_count": 28,
      "metadata": {},
      "outputs": [
        {
          "name": "stdout",
          "output_type": "stream",
          "text": [
            "Model with Self Attention:\n",
            "\n",
            "The model has a total of 2,351,497 parameters.\n",
            "\n",
            "Training Start\n",
            "\n",
            "Epoch [1/10], Time:1.78, Loss: 6.9726, Accuracy: 0.10%, Perplexity: 1066.9857\n",
            "Epoch [2/10], Time:1.81, Loss: 6.3287, Accuracy: 0.13%, Perplexity: 560.4102\n",
            "Epoch [3/10], Time:2.08, Loss: 6.0812, Accuracy: 0.14%, Perplexity: 437.5363\n",
            "Epoch [4/10], Time:2.01, Loss: 5.9095, Accuracy: 0.15%, Perplexity: 368.5228\n",
            "Epoch [5/10], Time:1.71, Loss: 5.7648, Accuracy: 0.16%, Perplexity: 318.8745\n",
            "Epoch [6/10], Time:1.72, Loss: 5.6394, Accuracy: 0.18%, Perplexity: 281.2947\n",
            "Epoch [7/10], Time:1.71, Loss: 5.5118, Accuracy: 0.19%, Perplexity: 247.5934\n",
            "Epoch [8/10], Time:1.73, Loss: 5.3984, Accuracy: 0.20%, Perplexity: 221.0496\n",
            "Epoch [9/10], Time:1.73, Loss: 5.2770, Accuracy: 0.20%, Perplexity: 195.7890\n",
            "Epoch [10/10], Time:1.78, Loss: 5.1981, Accuracy: 0.21%, Perplexity: 180.9350\n",
            "\n",
            "Evaluation Start\n",
            "\n",
            "Test Accuracy: 20.44%\n",
            "Average Loss: 5.22\n",
            "Average Perplexity: 185.73\n"
          ]
        }
      ],
      "source": [
        "model_attn = BengioModel_SelfAttentionMatrix(vocab_size, embedding_dim, context_size, hidden_dim)\n",
        "print(\"Model with Self Attention:\")\n",
        "print()\n",
        "count_parameters(model_attn)\n",
        "\n",
        "# Cross Entropy\n",
        "criterion = nn.CrossEntropyLoss()\n",
        "\n",
        "# Optimizer\n",
        "optimizer = torch.optim.SGD(model_attn.parameters(), lr)\n",
        "\n",
        "model_attn.to(device)\n",
        "\n",
        "print()\n",
        "print(\"Training Start\")\n",
        "print()\n",
        "train(model_attn, criterion, optimizer)\n",
        "\n",
        "print()\n",
        "print(\"Evaluation Start\")\n",
        "print()\n",
        "eval(model_attn, criterion)"
      ]
    },
    {
      "cell_type": "markdown",
      "metadata": {},
      "source": [
        "### 3. Com camada de atenção e Embeddings Posicionais\n",
        "#### Descrição do Modelo:"
      ]
    },
    {
      "cell_type": "code",
      "execution_count": 29,
      "metadata": {},
      "outputs": [
        {
          "name": "stdout",
          "output_type": "stream",
          "text": [
            "Model with Self Attention and Positional Encodings:\n",
            "\n",
            "The model has a total of 2,351,497 parameters.\n",
            "\n",
            "Model:\n"
          ]
        },
        {
          "data": {
            "text/plain": [
              "BengioModel_SelfAttentionMatrix_PosEncoding(\n",
              "  (embeddings): Embedding(5001, 256)\n",
              "  (posencoding): PositionalEncoding()\n",
              "  (attention): SelfAttention_Matrix(\n",
              "    (WQ): Linear(in_features=256, out_features=256, bias=False)\n",
              "    (WK): Linear(in_features=256, out_features=256, bias=False)\n",
              "    (WV): Linear(in_features=256, out_features=256, bias=False)\n",
              "    (WO): Linear(in_features=256, out_features=256, bias=False)\n",
              "  )\n",
              "  (linear1): Linear(in_features=1280, out_features=128, bias=True)\n",
              "  (dropout1): Dropout(p=0.2, inplace=False)\n",
              "  (relu): ReLU()\n",
              "  (linear2): Linear(in_features=128, out_features=5001, bias=True)\n",
              "  (dropout2): Dropout(p=0.2, inplace=False)\n",
              "  (logSoftMax): LogSoftmax(dim=1)\n",
              ")"
            ]
          },
          "execution_count": 29,
          "metadata": {},
          "output_type": "execute_result"
        }
      ],
      "source": [
        "model_attn_pos = BengioModel_SelfAttentionMatrix_PosEncoding(vocab_size, embedding_dim, context_size, hidden_dim)\n",
        "print(\"Model with Self Attention and Positional Encodings:\")\n",
        "print()\n",
        "count_parameters(model_attn_pos)\n",
        "print()\n",
        "print(\"Model:\")\n",
        "model_attn_pos"
      ]
    },
    {
      "cell_type": "markdown",
      "metadata": {},
      "source": [
        "#### Perplexidade Inicial:"
      ]
    },
    {
      "cell_type": "code",
      "execution_count": 30,
      "metadata": {},
      "outputs": [
        {
          "name": "stdout",
          "output_type": "stream",
          "text": [
            "\n",
            "Initial Loss: 8.5494\n",
            "Initial Perplexity: 5163.8540\n"
          ]
        }
      ],
      "source": [
        "# Cross Entropy\n",
        "criterion = nn.CrossEntropyLoss()\n",
        "\n",
        "# Optimizer\n",
        "optimizer = torch.optim.SGD(model_attn_pos.parameters(), lr)\n",
        "\n",
        "model_attn_pos.to(device)\n",
        "print()\n",
        "initial_eval(model_attn_pos)"
      ]
    },
    {
      "cell_type": "markdown",
      "metadata": {},
      "source": [
        "#### Treinamento e Avaliação:"
      ]
    },
    {
      "cell_type": "code",
      "execution_count": 31,
      "metadata": {},
      "outputs": [
        {
          "name": "stdout",
          "output_type": "stream",
          "text": [
            "\n",
            "Training Start\n",
            "\n",
            "Epoch [1/10], Time:1.95, Loss: 6.9674, Accuracy: 0.10%, Perplexity: 1061.4371\n",
            "Epoch [2/10], Time:1.90, Loss: 6.3554, Accuracy: 0.13%, Perplexity: 575.5942\n",
            "Epoch [3/10], Time:1.82, Loss: 6.1189, Accuracy: 0.14%, Perplexity: 454.3678\n",
            "Epoch [4/10], Time:1.78, Loss: 5.9222, Accuracy: 0.16%, Perplexity: 373.2151\n",
            "Epoch [5/10], Time:1.93, Loss: 5.7688, Accuracy: 0.17%, Perplexity: 320.1421\n",
            "Epoch [6/10], Time:1.78, Loss: 5.6415, Accuracy: 0.18%, Perplexity: 281.8846\n",
            "Epoch [7/10], Time:1.76, Loss: 5.5230, Accuracy: 0.18%, Perplexity: 250.3796\n",
            "Epoch [8/10], Time:1.78, Loss: 5.4010, Accuracy: 0.19%, Perplexity: 221.6281\n",
            "Epoch [9/10], Time:1.80, Loss: 5.2879, Accuracy: 0.20%, Perplexity: 197.9175\n",
            "Epoch [10/10], Time:1.76, Loss: 5.2186, Accuracy: 0.21%, Perplexity: 184.6826\n",
            "\n",
            "Evaluation Start\n",
            "\n",
            "Test Accuracy: 20.38%\n",
            "Average Loss: 5.20\n",
            "Average Perplexity: 180.94\n"
          ]
        }
      ],
      "source": [
        "print()\n",
        "print(\"Training Start\")\n",
        "print()\n",
        "train(model_attn_pos, criterion, optimizer)\n",
        "\n",
        "print()\n",
        "print(\"Evaluation Start\")\n",
        "print()\n",
        "eval(model_attn_pos, criterion)"
      ]
    }
  ],
  "metadata": {
    "accelerator": "GPU",
    "colab": {
      "gpuType": "T4",
      "provenance": []
    },
    "kernelspec": {
      "display_name": "ml_pytorch",
      "language": "python",
      "name": "python3"
    },
    "language_info": {
      "codemirror_mode": {
        "name": "ipython",
        "version": 3
      },
      "file_extension": ".py",
      "mimetype": "text/x-python",
      "name": "python",
      "nbconvert_exporter": "python",
      "pygments_lexer": "ipython3",
      "version": "3.12.2"
    }
  },
  "nbformat": 4,
  "nbformat_minor": 0
}
