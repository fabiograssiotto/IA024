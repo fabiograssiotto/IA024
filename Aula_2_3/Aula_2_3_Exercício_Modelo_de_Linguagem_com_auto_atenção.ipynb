{
  "cells": [
    {
      "cell_type": "markdown",
      "metadata": {
        "id": "fMI0JT_YuYF3"
      },
      "source": [
        "## Exercício: Modelo de Linguagem com auto-atenção\n",
        "\n",
        "Este exercício é similar ao da aula passada, mas iremos agora treinar uma rede neural *com auto-atenção* para prever a próxima palavra de um texto, data as palavras anteriores como entrada.\n",
        "\n",
        "Na camada de auto-atenção, deve-se implementar (vide slide 34):\n",
        "- Embeddings de posição\n",
        "- Projeções lineares (WQ, WK, WV, WO)\n",
        "- Camada de feed forward (2-layer MLP)\n",
        "\n",
        "Instrucões:\n",
        "- É necessário fazer duas implementações da camada de auto-atenção: uma usando laços (ineficiente, mas fácil de entender) e outra matricial (eficiente mas difícil de entender). Usar slide 36 como referência.\n",
        "\n",
        "- Fazer um assert para garantir que o resultado das duas implementações é exatamente igual.\n",
        "\n",
        "- No treinamento, usar apenas a implementação matricial."
      ]
    },
    {
      "cell_type": "markdown",
      "metadata": {},
      "source": [
        "## Imports"
      ]
    },
    {
      "cell_type": "code",
      "execution_count": 1,
      "metadata": {},
      "outputs": [],
      "source": [
        "import os\n",
        "import sys\n",
        "import random\n",
        "import torch.nn as nn\n",
        "import torch.nn.functional as F\n",
        "import time\n",
        "import math\n",
        "from sklearn.model_selection import train_test_split\n",
        "from torch import nn"
      ]
    },
    {
      "cell_type": "markdown",
      "metadata": {},
      "source": [
        "## Variáveis Globais e Inicialização"
      ]
    },
    {
      "cell_type": "code",
      "execution_count": 2,
      "metadata": {},
      "outputs": [],
      "source": [
        "# Global variables\n",
        "\n",
        "# Vocabulary\n",
        "vocab_size = 5000\n",
        "context_size = 5\n",
        "pattern = r'\\w+|[,;.:!?\\']'\n",
        "\n",
        "# Training\n",
        "batch_size = 128\n",
        "epochs = 10\n",
        "lr = 0.1\n",
        "\n",
        "# Model\n",
        "embedding_dim = 256\n",
        "hidden_dim = 128"
      ]
    },
    {
      "cell_type": "code",
      "execution_count": 3,
      "metadata": {},
      "outputs": [],
      "source": [
        "# Colab environment\n",
        "IN_COLAB = 'google.colab' in sys.modules\n",
        "\n",
        "if (IN_COLAB):\n",
        "    %pip install colorama\n",
        "\n",
        "    # Google Drive\n",
        "    from google.colab import drive\n",
        "    drive.mount('/content/drive', force_remount=True)\n",
        "\n",
        "    project_folder=\"/content/drive/MyDrive/Classes/IA024/Aula_2_3\"\n",
        "    os.chdir(project_folder)\n",
        "    !ls -la"
      ]
    },
    {
      "cell_type": "markdown",
      "metadata": {
        "id": "bYbkEzdD37sZ"
      },
      "source": [
        "## Faz download e carrega o dataset"
      ]
    },
    {
      "cell_type": "code",
      "execution_count": 4,
      "metadata": {
        "colab": {
          "base_uri": "https://localhost:8080/"
        },
        "id": "9qAnqY_q0beK",
        "outputId": "f810fdb0-138d-4917-b7ef-69ab266acef6"
      },
      "outputs": [],
      "source": [
        "# Check if download is necessary\n",
        "if not os.path.exists(\"67724.txt.utf-8\"):\n",
        "    print(\"Downloading Gutenberg texts\")\n",
        "\n",
        "    !wget https://www.gutenberg.org/ebooks/67724.txt.utf-8\n",
        "    !wget https://www.gutenberg.org/ebooks/67725.txt.utf-8"
      ]
    },
    {
      "cell_type": "code",
      "execution_count": 5,
      "metadata": {
        "colab": {
          "base_uri": "https://localhost:8080/"
        },
        "id": "6_UzC9pV091C",
        "outputId": "1553b04f-24c4-4027-8cab-0907f92f04df"
      },
      "outputs": [
        {
          "data": {
            "text/plain": [
              "4969"
            ]
          },
          "execution_count": 5,
          "metadata": {},
          "output_type": "execute_result"
        }
      ],
      "source": [
        "text = open(\"67724.txt.utf-8\",\"r\").read()\n",
        "text += open(\"67725.txt.utf-8\",\"r\").read()\n",
        "\n",
        "paragraphs = text.split(\"\\n\\n\")\n",
        "\n",
        "len(paragraphs)"
      ]
    },
    {
      "cell_type": "code",
      "execution_count": 6,
      "metadata": {},
      "outputs": [
        {
          "name": "stdout",
          "output_type": "stream",
          "text": [
            "The Project Gutenberg eBook of O Guarany: romance brazileiro, Vol. 1 (of 2)\n",
            "    \n",
            "This ebook is for the use of anyone anywhere in the United States and\n",
            "most other parts of the world at no cost and with almost no restrictions\n",
            "whatsoever. You may copy it, give it away or re-use it under the terms\n",
            "of the Project Gutenberg License included with this ebook or online\n",
            "at www.gutenberg.org. If you are not located in the United States,\n",
            "you will have to check the laws of the country where you are located\n",
            "before using this eBook.\n"
          ]
        }
      ],
      "source": [
        "# Checking the text\n",
        "print(paragraphs[0])"
      ]
    },
    {
      "cell_type": "code",
      "execution_count": 7,
      "metadata": {
        "colab": {
          "base_uri": "https://localhost:8080/"
        },
        "id": "UhUFjtNdDuG0",
        "outputId": "78798c0c-deca-4454-d3fb-7d3ba70f3e91"
      },
      "outputs": [
        {
          "name": "stdout",
          "output_type": "stream",
          "text": [
            "VERME E FLOR\n",
            "\n",
            "--E porque não confessais? Não vos mereço confiança? Tendes em mim um amigo.\n",
            "\n",
            "Voltou o rosto e continuou a pensar em sua senhora, e a rever a sua imagem; debalde a menina selvagem, lhe apresentava um lindo fructo, um alimento, um vinho saboroso; elle não lhe dava attenção.\n",
            "\n",
            "--Deus tenha sua alma!\n",
            "\n",
            "Passeava pois embalando-se de novo nas suas esperanças, quando Martim Vaz, sahindo do alpendre, chegou-se a elle.\n",
            "\n",
            "Number of paragraphs: 4892\n"
          ]
        },
        {
          "data": {
            "text/plain": [
              "4892"
            ]
          },
          "execution_count": 7,
          "metadata": {},
          "output_type": "execute_result"
        }
      ],
      "source": [
        "cleaned_paragraphs = [paragraph.replace(\"\\n\", \" \") for paragraph in paragraphs if paragraph.strip()]\n",
        "\n",
        "# Print 5 random paragraphs\n",
        "num_paragraphs = len(cleaned_paragraphs)\n",
        "for i in range(0,5):\n",
        "    idx = random.randrange(num_paragraphs)\n",
        "    print(f\"{cleaned_paragraphs[idx]}\\n\")\n",
        "\n",
        "print(\"Number of paragraphs: \" + str(num_paragraphs))\n",
        "\n",
        "len(cleaned_paragraphs)"
      ]
    },
    {
      "cell_type": "markdown",
      "metadata": {
        "id": "bFVN2ihb33Rf"
      },
      "source": [
        "## Análise do dataset"
      ]
    },
    {
      "cell_type": "code",
      "execution_count": 8,
      "metadata": {
        "colab": {
          "base_uri": "https://localhost:8080/"
        },
        "id": "qSRHqe3H4ZFw",
        "outputId": "4a985c7a-ce1d-4b72-d253-c9fbbc5f9440"
      },
      "outputs": [
        {
          "data": {
            "text/plain": [
              "12610"
            ]
          },
          "execution_count": 8,
          "metadata": {},
          "output_type": "execute_result"
        }
      ],
      "source": [
        "# Conta as palavras no dataset\n",
        "from collections import Counter\n",
        "import re\n",
        "\n",
        "def count_words(texts):\n",
        "    word_counts = Counter()\n",
        "    for text in texts:\n",
        "        word_counts.update(re.findall(pattern, text.lower()))\n",
        "    return word_counts\n",
        "\n",
        "word_counts = count_words(cleaned_paragraphs)\n",
        "\n",
        "len(word_counts)"
      ]
    },
    {
      "cell_type": "markdown",
      "metadata": {
        "id": "EyGVDL9KzJ_I"
      },
      "source": [
        "## Criando um vocabulário"
      ]
    },
    {
      "cell_type": "code",
      "execution_count": 9,
      "metadata": {
        "id": "FiP7OCo9zJ_I"
      },
      "outputs": [],
      "source": [
        "most_frequent_words = [word for word, count in word_counts.most_common(vocab_size)]\n",
        "vocab = {word: i for i, word in enumerate(most_frequent_words, 1)}"
      ]
    },
    {
      "cell_type": "code",
      "execution_count": 10,
      "metadata": {},
      "outputs": [
        {
          "name": "stdout",
          "output_type": "stream",
          "text": [
            "Most Frequent Words: ['.', ',', 'a', 'que', 'o', 'de', 'e', 'se', ';', 'um']\n",
            "Vocabulary Size: 5000\n"
          ]
        }
      ],
      "source": [
        "print(f\"Most Frequent Words: {most_frequent_words[:10]}\")\n",
        "print(f\"Vocabulary Size: {len(vocab)}\")"
      ]
    },
    {
      "cell_type": "code",
      "execution_count": 11,
      "metadata": {
        "colab": {
          "base_uri": "https://localhost:8080/"
        },
        "id": "RhbhAsZbzJ_J",
        "outputId": "6a53c9e0-308d-4082-e225-cfa376e8f39a"
      },
      "outputs": [
        {
          "name": "stdout",
          "output_type": "stream",
          "text": [
            " Publicando este livro em 1857, se disse ser aquella primeira edição uma prova typographica, que algum dia talvez o autor se dispuzesse a rever.\n",
            "[0, 146, 4383, 23, 0, 2, 8, 50, 117, 276, 266, 2669, 13, 1071, 0, 2, 4, 193, 137, 287, 5, 2264, 8, 0, 3, 2672, 1]\n"
          ]
        }
      ],
      "source": [
        "def encode_sentence(sentence, vocab):\n",
        "    return [vocab.get(word, 0) for word in re.findall(pattern, sentence.lower())]\n",
        "\n",
        "print(cleaned_paragraphs[20])\n",
        "print(encode_sentence(cleaned_paragraphs[20], vocab))"
      ]
    },
    {
      "cell_type": "markdown",
      "metadata": {
        "id": "wia_ygbvzJ_J"
      },
      "source": [
        "## Classe do dataset"
      ]
    },
    {
      "cell_type": "code",
      "execution_count": 12,
      "metadata": {
        "id": "Iy-elI1magRR"
      },
      "outputs": [],
      "source": [
        "# Dataset class\n",
        "import torch\n",
        "from torch.utils.data import Dataset, DataLoader\n",
        "\n",
        "class CustomDataset(Dataset):\n",
        "  def __init__(self, paragraphs, vocab, context):\n",
        "    self.paragraphs = paragraphs\n",
        "    self.vocab = vocab\n",
        "    self.context = context\n",
        "    self.tokens, self.targets = self.setup()\n",
        "\n",
        "  def __len__(self):\n",
        "    return len(self.tokens)\n",
        "\n",
        "  def __getitem__(self, idx):\n",
        "    return torch.tensor(self.tokens[idx]), torch.tensor(self.targets[idx])\n",
        "  \n",
        "  def setup(self):\n",
        "    tokens = []\n",
        "    targets = []\n",
        "    for paragraph in self.paragraphs:\n",
        "      encoded = encode_sentence(paragraph, self.vocab)\n",
        "      \n",
        "      # If paragraph is smaller than the context, skip it.\n",
        "      if len(encoded) < self.context + 1:\n",
        "          continue\n",
        "\n",
        "      for i in range(len(encoded) - self.context):\n",
        "        tks = encoded[i:i+self.context]\n",
        "        tgt = encoded[i+self.context]\n",
        "        # Only add if there are no unknown tokens in both context and target.\n",
        "        bad_token = 0\n",
        "        if not (bad_token in tks or tgt == bad_token):\n",
        "          tokens.append(tks)\n",
        "          targets.append(tgt)\n",
        "    return tokens, targets\n"
      ]
    },
    {
      "cell_type": "code",
      "execution_count": 13,
      "metadata": {
        "colab": {
          "base_uri": "https://localhost:8080/"
        },
        "id": "aD1CVci2zJ_J",
        "outputId": "5bf0839e-f30e-4ff2-ed6f-4f3fda782b7c"
      },
      "outputs": [
        {
          "name": "stdout",
          "output_type": "stream",
          "text": [
            "Training samples: 3913\n",
            "Validation samples: 979\n",
            "\n",
            "Training dataset samples: 59646\n",
            "Validation dataset samples: 16215\n"
          ]
        }
      ],
      "source": [
        "# Train/Validation split\n",
        "train_data, val_data = train_test_split(cleaned_paragraphs, test_size=0.2, random_state=18)\n",
        "\n",
        "train_dataset = CustomDataset(train_data, vocab, context_size)\n",
        "val_dataset = CustomDataset(val_data, vocab, context_size)\n",
        "\n",
        "# Counting all Samples\n",
        "print(f\"Training samples: {len(train_data)}\")\n",
        "print(f\"Validation samples: {len(val_data)}\")\n",
        "print()\n",
        "print(f\"Training dataset samples: {len(train_dataset)}\")\n",
        "print(f\"Validation dataset samples: {len(val_dataset)}\")"
      ]
    },
    {
      "cell_type": "code",
      "execution_count": 14,
      "metadata": {
        "id": "gC0C5qn2zJ_J"
      },
      "outputs": [
        {
          "name": "stdout",
          "output_type": "stream",
          "text": [
            "[tensor([[ 287,  395,   59,  387,  124],\n",
            "        [2495,  579,  125,  454,   20],\n",
            "        [  55,   11,   80, 2766,   13],\n",
            "        [ 874,   84, 1841,   22,  150],\n",
            "        [ 629,   17,   57,   24,  221],\n",
            "        [  98,   40,  590,    9,  533],\n",
            "        [1052,  557,    3,  299,    2],\n",
            "        [ 904,   34,   88,   52, 3936],\n",
            "        [ 206,  201,  414,  269, 2001],\n",
            "        [   9,    7, 2685,    6,  325],\n",
            "        [   3,  481,   34,    3, 2002],\n",
            "        [   2,    7,   62,    6,   97],\n",
            "        [1606,   84, 4720,    8,   38],\n",
            "        [  16,    3,   17, 1387,    7],\n",
            "        [  12,  367,    2,  171,    3],\n",
            "        [   4, 1439,   16,    5,  221],\n",
            "        [1488,    1,    5,  980,    6],\n",
            "        [   2,    5,  826, 1856,    2],\n",
            "        [ 134,   61,   10,   78, 4170],\n",
            "        [   2, 1154,   45,  212, 3997],\n",
            "        [ 596,   12,   56,  327,   46],\n",
            "        [ 145,    2,    4, 1098,   87],\n",
            "        [   3, 2614,  381,   11, 1231],\n",
            "        [1077,   42,  572,    9,   17],\n",
            "        [1114,    3,   13,  415,    6],\n",
            "        [   7,  885,    1,   14,  307],\n",
            "        [   6, 1752,    2,  530,   22],\n",
            "        [   9,    3, 1281,   32,  123],\n",
            "        [ 219,    6,   10, 1894,  113],\n",
            "        [   4, 1022,    2,  118,  172],\n",
            "        [   7,   35,    2, 1655,   38],\n",
            "        [   7,  768,    9,  312,   17],\n",
            "        [  60,  296,  164,    2,   60],\n",
            "        [   3,  397,    9,  111,   44],\n",
            "        [3872,   52,    2,    7, 4053],\n",
            "        [   5,  291, 1057,    2,  522],\n",
            "        [   6, 2826,  976, 4009,  574],\n",
            "        [ 206, 2023,    4,   49,   70],\n",
            "        [4110,  158,   95, 2188,   13],\n",
            "        [   9, 1185,   14,  164,  396],\n",
            "        [4546,  550,  193,  137,    2],\n",
            "        [ 199,    2,   84,  763,    5],\n",
            "        [   6,   30,    1,   47,    6],\n",
            "        [  50,    3,   49,    9,   39],\n",
            "        [ 173,   35, 1816,    8,   14],\n",
            "        [  34,    3,   68,   32, 3795],\n",
            "        [   3, 1338,   14, 3329,  835],\n",
            "        [  11,   43,  393,   13, 1037],\n",
            "        [   7,   60,   12, 4688,  283],\n",
            "        [ 721, 1646,    9,  359,  168],\n",
            "        [   6, 3858,    7, 4121,  291],\n",
            "        [  14,  612,    2,    7,    6],\n",
            "        [4438,    6,   10,  351, 1407],\n",
            "        [   8,  134,   61,   10, 1863],\n",
            "        [   4, 3739,    6, 1322,    3],\n",
            "        [  80,  637,  375,   27,  295],\n",
            "        [   9,  845,   11,  107,    6],\n",
            "        [  45,  352,   55,  794,    2],\n",
            "        [  43,  744,    6,  196,  158],\n",
            "        [ 925,  114,    2,   69,  142],\n",
            "        [  30,    1,   47,    6,   73],\n",
            "        [ 106, 2652,   14,   83,    2],\n",
            "        [ 264,    2,   48,   54,  835],\n",
            "        [  10, 1179,  177, 2608,    9],\n",
            "        [   9,  234,  582, 2076,    2],\n",
            "        [  82,  455,    2,   59,  741],\n",
            "        [2902,  145,   31,  157,    2],\n",
            "        [ 250,   16,    3,  153, 1580],\n",
            "        [  94,  114,   13,  156, 3140],\n",
            "        [  24,  403,    7, 1189,    3],\n",
            "        [ 428,   23,  309,   10,  167],\n",
            "        [  34,    3,   99, 2451,    5],\n",
            "        [   5,  441,   11, 1361,    5],\n",
            "        [  47,    6,   73, 4233, 3476],\n",
            "        [1038,    3, 2043, 1078,   31],\n",
            "        [  17,  321, 1525,   13, 1854],\n",
            "        [ 213, 3031,    4,    8,  835],\n",
            "        [  65,   94, 1705,   18,  105],\n",
            "        [  36,  138,    9, 2468,  145],\n",
            "        [  10,   42,   75,    9,  127],\n",
            "        [ 291,   21,    6,  216,  553],\n",
            "        [   3,    8, 3121,  575,    9],\n",
            "        [   7,  224,    5,   19,  320],\n",
            "        [3252,  140,    1,    7,    1],\n",
            "        [  59, 1120,   16,    4,  922],\n",
            "        [   6,   21,    2,  287,    3],\n",
            "        [ 258,    4,   33,   19,  599],\n",
            "        [  15, 3463, 2778,    7, 2340],\n",
            "        [  37,  272,    4,  187,    6],\n",
            "        [2969,    9,    3,  683,  393],\n",
            "        [  38,    3,  204,    2,    7],\n",
            "        [  21,    4,   56, 2626,   20],\n",
            "        [   6,   13, 1387,    7,    6],\n",
            "        [ 353,  267,    6,   35,    2],\n",
            "        [   9,   70,  414,  199, 1925],\n",
            "        [ 164,    2, 1374,   24,   91],\n",
            "        [1891,   12, 1147,   13,  128],\n",
            "        [2459,    9,   12,   52,  899],\n",
            "        [  11,  424,  264,    6,   45],\n",
            "        [ 124,   46,    7, 2650,   28],\n",
            "        [2269,    2,  195,  113, 2932],\n",
            "        [ 694, 4461,   31,  373,   10],\n",
            "        [ 922,  258,   34,   95, 1543],\n",
            "        [  14, 4919,  368,    3,  503],\n",
            "        [   2,  100,  809,   11,  186],\n",
            "        [  12,   56, 4988,    2,   72],\n",
            "        [  54, 1537,    9,   94,   32],\n",
            "        [  76, 3460,    3,  665,   11],\n",
            "        [   2,  965,  145,  461,    2],\n",
            "        [  59,  109,    2, 1014,    6],\n",
            "        [   4, 2842,   26,   81,   15],\n",
            "        [ 601,   14,  750,   18, 1137],\n",
            "        [1941,  614, 2258,   30,   61],\n",
            "        [   1,    1,    1,    1,    1],\n",
            "        [  12, 1216,  586,   82, 4139],\n",
            "        [   3, 1939,   96, 4264,  145],\n",
            "        [  58,    2,    7, 1038,    8],\n",
            "        [ 435,  127,  156,    6,   13],\n",
            "        [  21,  833,   31,  149,   14],\n",
            "        [  22, 2789,    4,   49,  756],\n",
            "        [  41, 2227,    2,  995,    3],\n",
            "        [  22, 1151, 1502,  317,    6],\n",
            "        [ 573,    2,    5,    6, 3874],\n",
            "        [ 339,  110, 4337,   17,   57],\n",
            "        [   3,   58,    4,  298,   97],\n",
            "        [1208,   38,   15,  805,    9],\n",
            "        [1485,   15,  983,   18, 1015],\n",
            "        [ 341,   92,  332, 3227,   90]]), tensor([  20,  173, 2331,    1,   14,  607,    7,    2,    7,   13, 1285,   26,\n",
            "           5, 4980,   58,  110,   95,   40,    1,   22,  142, 1445,    2,  486,\n",
            "        1805,    1, 1269,    5,  319,   25,   15,   57,  296, 1617,    3,   15,\n",
            "           9, 1282, 2186,    6,   23,    4,   73,  557,  226,  222,    8, 1323,\n",
            "         127, 3982,  105,  196,   38, 4127, 3740,   13,  383,    7,  808,  216,\n",
            "        1363,   23,    3,   19,  768,    4,   93,    1,    1, 1688,    1, 1291,\n",
            "         207,   36,   17,    6,   38, 1251,    2,  111,    8, 1487,    1, 1931,\n",
            "          30, 1302,    2,   10,  280,  764,    3,   50,   13,  177,   19,   11,\n",
            "           1,   25,  313,   10,   24,  141,    2, 1896,  381,   56, 2852, 1171,\n",
            "          33,  160, 1397,  193,  325,    1,    1,    2,    6,  199,  299,    7,\n",
            "         595, 2167,    3,    7,   33, 2763,    5, 1728])]\n"
          ]
        }
      ],
      "source": [
        "train_loader = DataLoader(train_dataset, batch_size=batch_size, shuffle=True)\n",
        "val_loader = DataLoader(val_dataset, batch_size=batch_size, shuffle=True)\n",
        "\n",
        "sample = next(iter(train_loader))\n",
        "print(sample)"
      ]
    },
    {
      "cell_type": "markdown",
      "metadata": {
        "id": "-5_-Yud0zJ_K"
      },
      "source": [
        "## Model"
      ]
    },
    {
      "cell_type": "markdown",
      "metadata": {},
      "source": [
        "#### Implementação das camadas de self-attention (Loop e Matricial)\n",
        "#### Positional Encoding:"
      ]
    },
    {
      "cell_type": "code",
      "execution_count": 15,
      "metadata": {},
      "outputs": [],
      "source": [
        "# Positional Embedding - as described in \"Attention is All You Need\"\n",
        "class PositionalEncoding(nn.Module):\n",
        "    def __init__(self, max_sequence, embedding_dim):\n",
        "        super().__init__()\n",
        "        device = torch.device('cuda' if torch.cuda.is_available() else 'cpu')\n",
        "        self.positional_encoding = torch.zeros(max_sequence, embedding_dim, device=device)\n",
        "        position = torch.arange(0, max_sequence, device=device).unsqueeze(1)\n",
        "        div_term = torch.exp(torch.arange(0, embedding_dim, 2, device=device) * (-math.log(10000.0) / embedding_dim))\n",
        "        self.positional_encoding[:, 0::2] = torch.sin(position * div_term)\n",
        "        self.positional_encoding[:, 1::2] = torch.cos(position * div_term)\n",
        "        self.positional_encoding = self.positional_encoding.unsqueeze(0)\n",
        "\n",
        "    def forward(self, x):\n",
        "        _, seq_length, _ = x.size()\n",
        "        positional_encoding = self.positional_encoding[:, :seq_length, :]\n",
        "        positional_encoding = positional_encoding.to(x.device)\n",
        "        # Position encoding is added to the input embeddings.\n",
        "        return x + positional_encoding   "
      ]
    },
    {
      "cell_type": "markdown",
      "metadata": {},
      "source": [
        "#### Implementação em Loop"
      ]
    },
    {
      "cell_type": "code",
      "execution_count": 16,
      "metadata": {},
      "outputs": [],
      "source": [
        "# Adaptado da implementação do Ramon, muito elegante e traduziu bem o slide em aula.\n",
        "\n",
        "class SelfAttention_Loop(nn.Module):\n",
        "  def __init__(self, embedding_dim, vocab_size):\n",
        "    super(SelfAttention_Loop, self).__init__()\n",
        "\n",
        "    self.WQ = nn.Linear(embedding_dim, embedding_dim, bias=False)\n",
        "    self.WK = nn.Linear(embedding_dim, embedding_dim, bias=False)\n",
        "    self.WV = nn.Linear(embedding_dim, embedding_dim, bias=False)\n",
        "    self.WO = nn.Linear(embedding_dim, vocab_size, bias=False)\n",
        "    \n",
        "  def setProjections(self, WQ, WK, WV, WO):\n",
        "    self.WQ = WQ\n",
        "    self.WK = WK\n",
        "    self.WV = WV\n",
        "    self.WO = WO\n",
        "\n",
        "  def forward(self, seq):\n",
        "    E = []  \n",
        "    for Xq in seq:\n",
        "        q = self.WQ(Xq)\n",
        "        scores = []\n",
        "        for Xk in seq:\n",
        "            k = self.WK(Xk)\n",
        "            score = torch.dot(q, k.transpose(-1,0))\n",
        "            scores.append(score)\n",
        "\n",
        "        scores_tensor = torch.tensor(scores)  \n",
        "        probs         = scores_tensor.softmax(dim=-1)\n",
        "\n",
        "        e = 0\n",
        "        for xv, p in zip(seq, probs):\n",
        "            v = self.WV(xv)\n",
        "            e += v * p\n",
        "\n",
        "        e = self.WO(e)\n",
        "        E.append(e)\n",
        "\n",
        "    return torch.stack(E) "
      ]
    },
    {
      "cell_type": "markdown",
      "metadata": {},
      "source": [
        "#### Implementação Matricial"
      ]
    },
    {
      "cell_type": "code",
      "execution_count": 17,
      "metadata": {},
      "outputs": [],
      "source": [
        "# Matrix Implementation\n",
        "class SelfAttention_Matrix(nn.Module):\n",
        "  def __init__(self, embedding_dim, vocab_size):\n",
        "    super().__init__()\n",
        "\n",
        "    self.WQ = nn.Linear(embedding_dim, embedding_dim, bias=False)\n",
        "    self.WK = nn.Linear(embedding_dim, embedding_dim, bias=False)\n",
        "    self.WV = nn.Linear(embedding_dim, embedding_dim, bias=False)\n",
        "    self.WO = nn.Linear(embedding_dim, vocab_size, bias=False)\n",
        "\n",
        "  def setProjections(self, WQ, WK, WV, WO):\n",
        "    self.WQ = WQ\n",
        "    self.WK = WK\n",
        "    self.WV = WV\n",
        "    self.WO = WO\n",
        "\n",
        "  def forward(self, inputs):\n",
        "    # Linear projections\n",
        "    Q = self.WQ(inputs)\n",
        "    K = self.WK(inputs)\n",
        "    V = self.WV(inputs)\n",
        "\n",
        "    scores = torch.matmul(Q, K.transpose(-2, -1))\n",
        "    probs = F.softmax(scores, dim=-1)\n",
        "    new_embedding = torch.matmul(probs, V)\n",
        "    # Projection in WO\n",
        "    new_embedding = self.WO(new_embedding)\n",
        "    return new_embedding"
      ]
    },
    {
      "cell_type": "markdown",
      "metadata": {},
      "source": [
        "### Teste das Camadas de Atenção"
      ]
    },
    {
      "cell_type": "code",
      "execution_count": 18,
      "metadata": {},
      "outputs": [
        {
          "name": "stdout",
          "output_type": "stream",
          "text": [
            "Loop Embeds:\n",
            "tensor([[-0.1534, -0.5238, -0.1658, -0.4192, -0.2767,  0.2976, -0.2233, -0.3732,\n",
            "          0.4384,  0.3550],\n",
            "        [-0.1318, -0.5553, -0.0287, -0.4341, -0.3143,  0.0538, -0.4738, -0.6360,\n",
            "          0.6172,  0.4791],\n",
            "        [-0.1143, -0.5497, -0.0061, -0.4440, -0.3028,  0.0635, -0.4849, -0.6406,\n",
            "          0.6213,  0.4742],\n",
            "        [-0.1667, -0.5236, -0.1385, -0.4182, -0.2710,  0.2276, -0.2522, -0.4099,\n",
            "          0.4575,  0.4058],\n",
            "        [-0.2452, -0.5927, -0.1866, -0.3741, -0.3874,  0.0058, -0.3854, -0.5867,\n",
            "          0.5769,  0.5096]], grad_fn=<StackBackward0>)\n",
            "Matrix Embeds:\n",
            "tensor([[-0.1534, -0.5238, -0.1658, -0.4192, -0.2767,  0.2976, -0.2233, -0.3732,\n",
            "          0.4384,  0.3550],\n",
            "        [-0.1318, -0.5553, -0.0287, -0.4341, -0.3143,  0.0538, -0.4738, -0.6360,\n",
            "          0.6172,  0.4791],\n",
            "        [-0.1143, -0.5497, -0.0061, -0.4440, -0.3028,  0.0635, -0.4849, -0.6406,\n",
            "          0.6213,  0.4742],\n",
            "        [-0.1667, -0.5236, -0.1385, -0.4182, -0.2710,  0.2276, -0.2522, -0.4099,\n",
            "          0.4575,  0.4058],\n",
            "        [-0.2452, -0.5927, -0.1866, -0.3741, -0.3874,  0.0058, -0.3854, -0.5867,\n",
            "          0.5769,  0.5096]], grad_fn=<AddmmBackward0>)\n",
            "\n",
            "Loop and Matrix results are the same: True\n"
          ]
        }
      ],
      "source": [
        "# Test data\n",
        "tst_dim = 5\n",
        "tst_vocab = 10\n",
        "data = torch.randint(0, tst_vocab, (tst_dim,))\n",
        "embedding = nn.Embedding(tst_vocab, tst_dim)\n",
        "embeds = embedding(data)\n",
        "\n",
        "# Projections (need to be the same for this test)\n",
        "WQ = nn.Linear(tst_dim, tst_dim, bias=False)\n",
        "WK = nn.Linear(tst_dim, tst_dim, bias=False)\n",
        "WV = nn.Linear(tst_dim, tst_dim, bias=False)\n",
        "WO = nn.Linear(tst_dim, tst_vocab, bias=False)\n",
        "\n",
        "# Loop\n",
        "attn_loop = SelfAttention_Loop(tst_dim, tst_vocab)\n",
        "attn_loop.setProjections(WQ, WK, WV, WO)\n",
        "embeds_attn_loop = attn_loop(embeds)\n",
        "# Matrix\n",
        "attn_matrix = SelfAttention_Matrix(tst_dim, tst_vocab)\n",
        "attn_matrix.setProjections(WQ, WK, WV, WO)\n",
        "embeds_attn_matrix = attn_matrix(embeds)\n",
        "\n",
        "print(\"Loop Embeds:\")\n",
        "print(embeds_attn_loop)\n",
        "\n",
        "print(\"Matrix Embeds:\")\n",
        "print(embeds_attn_matrix)\n",
        "\n",
        "# Check results\n",
        "print()\n",
        "print(f'Loop and Matrix results are the same: {torch.allclose(embeds_attn_loop, embeds_attn_matrix)}')"
      ]
    },
    {
      "cell_type": "markdown",
      "metadata": {},
      "source": [
        "### Implementação dos Modelos (Com e sem atenção, e com embeddings de posição)"
      ]
    },
    {
      "cell_type": "code",
      "execution_count": 19,
      "metadata": {},
      "outputs": [],
      "source": [
        "class BengioModel(torch.nn.Module):\n",
        "    def __init__(self, vocab_size, embedding_dim, context_size, h):\n",
        "        super(BengioModel, self).__init__()\n",
        "        self.embeddings = nn.Embedding(vocab_size+1, embedding_dim)\n",
        "        self.linear1 = nn.Linear(context_size * embedding_dim, h)\n",
        "        self.relu = torch.nn.ReLU()\n",
        "        self.linear2 = nn.Linear(h, vocab_size+1)\n",
        "        # Softmax to scale outputs\n",
        "        self.logSoftMax = torch.nn.LogSoftmax(dim=1)\n",
        "\n",
        "    def forward(self, inputs):\n",
        "        embeds = self.embeddings(inputs)\n",
        "        # Flatten embeddings\n",
        "        embeds = embeds.view(embeds.size(0), -1)\n",
        "        # Linear layer\n",
        "        out = self.linear1(embeds)\n",
        "        out = self.relu(out)\n",
        "        # Second layer\n",
        "        out = self.linear2(out)\n",
        "        # Softmax output\n",
        "        out = self.logSoftMax(out)\n",
        "        return out"
      ]
    },
    {
      "cell_type": "code",
      "execution_count": 20,
      "metadata": {},
      "outputs": [],
      "source": [
        "class BengioModel_SelfAttentionMatrix(torch.nn.Module):\n",
        "    def __init__(self, vocab_size, embedding_dim, context_size, h):\n",
        "        super(BengioModel_SelfAttentionMatrix, self).__init__()\n",
        "        self.embeddings = nn.Embedding(vocab_size+1, embedding_dim)\n",
        "        self.attention = SelfAttention_Matrix(embedding_dim, vocab_size)        \n",
        "        self.linear1 = nn.Linear(context_size * embedding_dim, h)\n",
        "        self.relu = torch.nn.ReLU()\n",
        "        self.linear2 = nn.Linear(h, vocab_size+1)\n",
        "        # Softmax to scale outputs\n",
        "        self.logSoftMax = torch.nn.LogSoftmax(dim=1)\n",
        "\n",
        "    def forward(self, inputs):\n",
        "        embeds = self.embeddings(inputs)\n",
        "        x = torch.stack(torch.unbind(embeds, dim=1), dim=1)\n",
        "        # Camada de autoatenção\n",
        "        attention  = self.attention(x)\n",
        "        # Flatten embeddings\n",
        "        embeds = embeds.view(attention.size(0), -1)\n",
        "        # Linear layer\n",
        "        out = self.linear1(embeds)\n",
        "        out = self.relu(out)\n",
        "        # Second layer\n",
        "        out = self.linear2(out)\n",
        "        # Softmax output\n",
        "        out = self.logSoftMax(out)\n",
        "        return out"
      ]
    },
    {
      "cell_type": "code",
      "execution_count": 21,
      "metadata": {
        "id": "I2qKG9YczJ_K"
      },
      "outputs": [],
      "source": [
        "class BengioModel_SelfAttentionMatrix_PosEncoding(torch.nn.Module):\n",
        "    def __init__(self, vocab_size, embedding_dim, context_size, h):\n",
        "        super(BengioModel_SelfAttentionMatrix_PosEncoding, self).__init__()\n",
        "        self.embeddings = nn.Embedding(vocab_size+1, embedding_dim)\n",
        "        self.posencoding = PositionalEncoding(context_size, embedding_dim)\n",
        "        self.attention = SelfAttention_Matrix(embedding_dim, vocab_size)        \n",
        "        self.linear1 = nn.Linear(context_size * embedding_dim, h)\n",
        "        self.relu = torch.nn.ReLU()\n",
        "        self.linear2 = nn.Linear(h, vocab_size+1)\n",
        "        # Softmax to scale outputs\n",
        "        self.logSoftMax = torch.nn.LogSoftmax(dim=1)\n",
        "\n",
        "    def forward(self, inputs):\n",
        "        embeds = self.embeddings(inputs)\n",
        "        embeds_pos = self.posencoding(embeds)\n",
        "        x = torch.stack(torch.unbind(embeds_pos, dim=1), dim=1)\n",
        "        # Camada de autoatenção\n",
        "        attention  = self.attention(x)\n",
        "        # Flatten embeddings\n",
        "        embeds = embeds.view(attention.size(0), -1)\n",
        "        # Linear layer\n",
        "        out = self.linear1(embeds)\n",
        "        out = self.relu(out)\n",
        "        # Second layer\n",
        "        out = self.linear2(out)\n",
        "        # Softmax output\n",
        "        out = self.logSoftMax(out)\n",
        "        return out"
      ]
    },
    {
      "cell_type": "markdown",
      "metadata": {},
      "source": [
        "## Funções de Treinamento e Avaliação do Modelo"
      ]
    },
    {
      "cell_type": "code",
      "execution_count": 22,
      "metadata": {},
      "outputs": [],
      "source": [
        "def count_parameters(model):\n",
        "    total_params = sum(p.numel() for p in model.parameters() if p.requires_grad)\n",
        "    print(f'The model has a total of {total_params:,} parameters.')"
      ]
    },
    {
      "cell_type": "code",
      "execution_count": 23,
      "metadata": {},
      "outputs": [],
      "source": [
        "def initial_eval(model):\n",
        "    # Initial Perplexity and Loss\n",
        "    # Before training\n",
        "    model.eval()\n",
        "\n",
        "    loss = 0\n",
        "    perp = 0\n",
        "\n",
        "    with torch.no_grad():\n",
        "        for inputs, targets in train_loader:\n",
        "            inputs = inputs.to(device)\n",
        "            targets = targets.to(device)\n",
        "            outputs = model(inputs)\n",
        "            loss += criterion(outputs, targets).item()\n",
        "\n",
        "    loss /= len(train_loader)\n",
        "    perp = torch.exp(torch.tensor(loss))\n",
        "\n",
        "    print(f'Initial Loss: {loss:.4f}')\n",
        "    print(f'Initial Perplexity: {perp:.4f}')"
      ]
    },
    {
      "cell_type": "code",
      "execution_count": 24,
      "metadata": {},
      "outputs": [],
      "source": [
        "def train(model, criterion, optimizer):\n",
        "      # Training Loop\n",
        "      model.train()\n",
        "      for epoch in range(epochs):\n",
        "\n",
        "            epoch_start = time.time()\n",
        "            # Metrics\n",
        "            epoch_loss = 0\n",
        "            epoch_correct = 0\n",
        "            epoch_samples = 0\n",
        "\n",
        "            for inputs, targets in train_loader:\n",
        "                  inputs = inputs.to(device)  # Move input data to the device\n",
        "                  targets = targets.to(device)\n",
        "\n",
        "                  # Forward pass\n",
        "                  outputs = model(inputs)\n",
        "                  loss = criterion(outputs, targets)\n",
        "\n",
        "                  # Backward pass and optimization\n",
        "                  optimizer.zero_grad()\n",
        "                  loss.backward()\n",
        "                  optimizer.step()\n",
        "\n",
        "                  # Loss\n",
        "                  epoch_loss += loss.item()\n",
        "\n",
        "                  # Predicted\n",
        "                  _, predicted = torch.max(outputs, 1)\n",
        "                  epoch_correct += (predicted == targets).sum().item()\n",
        "                  epoch_samples += targets.size(0)\n",
        "\n",
        "            # Calculate average loss and accuracy for epoch\n",
        "            avg_loss = epoch_loss / len(train_loader)\n",
        "            acc = epoch_correct / epoch_samples\n",
        "\n",
        "            # Perplexity\n",
        "            perp = torch.exp(torch.tensor(avg_loss))\n",
        "\n",
        "            epoch_end = time.time()\n",
        "            epoch_time = epoch_end - epoch_start\n",
        "            # Print epoch statistics\n",
        "            print(f'Epoch [{epoch+1}/{epochs}], Time:{epoch_time:.2f}, Loss: {avg_loss:.4f}, Accuracy: {acc:.2f}%, Perplexity: {perp:.4f}')\n"
      ]
    },
    {
      "cell_type": "code",
      "execution_count": 25,
      "metadata": {
        "id": "nXXO78GSDqPg"
      },
      "outputs": [],
      "source": [
        "def eval(model, criterion):\n",
        "    model.eval()\n",
        "\n",
        "    loss_sum = 0\n",
        "    total_sum = 0\n",
        "    correct_sum = 0\n",
        "    eval_round = 0\n",
        "\n",
        "    loss = 0\n",
        "    perp = 0\n",
        "\n",
        "    with torch.no_grad():\n",
        "        for inputs, targets in val_loader:\n",
        "            inputs = inputs.to(device)\n",
        "            targets = targets.to(device)\n",
        "\n",
        "            outputs = model(inputs)\n",
        "            loss = criterion(outputs, targets)      \n",
        "            loss_sum += loss\n",
        "\n",
        "            # Get the predicted labels\n",
        "            _, predicted = torch.max(outputs, 1)\n",
        "\n",
        "            total_sum += targets.size(0)\n",
        "            correct_sum += (predicted == targets).sum().item()\n",
        "            eval_round += 1\n",
        "\n",
        "    # Calculate accuracy\n",
        "    acc = 100 * correct_sum / total_sum\n",
        "\n",
        "    # Calculate average perplexity\n",
        "    average_loss = loss_sum / len(val_loader)\n",
        "    average_perplexity = torch.exp(average_loss)\n",
        "\n",
        "    print(f'Test Accuracy: {acc:.2f}%')\n",
        "    print(f'Average Loss: {average_loss:.2f}')\n",
        "    print(f'Average Perplexity: {average_perplexity:.2f}')"
      ]
    },
    {
      "cell_type": "code",
      "execution_count": 26,
      "metadata": {},
      "outputs": [
        {
          "data": {
            "text/plain": [
              "device(type='cuda')"
            ]
          },
          "execution_count": 26,
          "metadata": {},
          "output_type": "execute_result"
        }
      ],
      "source": [
        "device = torch.device('cuda' if torch.cuda.is_available() else 'cpu')\n",
        "device"
      ]
    },
    {
      "cell_type": "markdown",
      "metadata": {},
      "source": [
        "## Avaliação dos Modelos"
      ]
    },
    {
      "cell_type": "markdown",
      "metadata": {},
      "source": [
        "\n",
        "### 1. Sem camada de atenção"
      ]
    },
    {
      "cell_type": "code",
      "execution_count": 27,
      "metadata": {},
      "outputs": [
        {
          "name": "stdout",
          "output_type": "stream",
          "text": [
            "Model without Self Attention:\n",
            "\n",
            "The model has a total of 2,089,353 parameters.\n"
          ]
        },
        {
          "name": "stdout",
          "output_type": "stream",
          "text": [
            "\n",
            "Training Start\n",
            "\n",
            "Epoch [1/10], Time:1.39, Loss: 6.4188, Accuracy: 0.11%, Perplexity: 613.2775\n",
            "Epoch [2/10], Time:1.28, Loss: 5.5662, Accuracy: 0.15%, Perplexity: 261.4394\n",
            "Epoch [3/10], Time:1.26, Loss: 5.1897, Accuracy: 0.17%, Perplexity: 179.4220\n",
            "Epoch [4/10], Time:1.26, Loss: 4.9069, Accuracy: 0.20%, Perplexity: 135.2157\n",
            "Epoch [5/10], Time:1.29, Loss: 4.6648, Accuracy: 0.22%, Perplexity: 106.1455\n",
            "Epoch [6/10], Time:1.27, Loss: 4.4467, Accuracy: 0.24%, Perplexity: 85.3485\n",
            "Epoch [7/10], Time:1.28, Loss: 4.2453, Accuracy: 0.26%, Perplexity: 69.7777\n",
            "Epoch [8/10], Time:1.31, Loss: 4.0522, Accuracy: 0.28%, Perplexity: 57.5264\n",
            "Epoch [9/10], Time:1.34, Loss: 3.8720, Accuracy: 0.30%, Perplexity: 48.0380\n",
            "Epoch [10/10], Time:1.35, Loss: 3.6994, Accuracy: 0.32%, Perplexity: 40.4228\n",
            "\n",
            "Evaluation Start\n",
            "\n",
            "Test Accuracy: 19.33%\n",
            "Average Loss: 5.30\n",
            "Average Perplexity: 200.13\n"
          ]
        }
      ],
      "source": [
        "model = BengioModel(vocab_size, embedding_dim, context_size, hidden_dim)\n",
        "print(\"Model without Self Attention:\")\n",
        "print()\n",
        "count_parameters(model)\n",
        "\n",
        "# Cross Entropy\n",
        "criterion = nn.CrossEntropyLoss()\n",
        "\n",
        "# Optimizer\n",
        "optimizer = torch.optim.SGD(model.parameters(), lr)\n",
        "\n",
        "model.to(device)\n",
        "\n",
        "print()\n",
        "print(\"Training Start\")\n",
        "print()\n",
        "train(model, criterion, optimizer)\n",
        "\n",
        "print()\n",
        "print(\"Evaluation Start\")\n",
        "print()\n",
        "eval(model, criterion)"
      ]
    },
    {
      "cell_type": "markdown",
      "metadata": {},
      "source": [
        "### 2. Com camada de atenção"
      ]
    },
    {
      "cell_type": "code",
      "execution_count": 28,
      "metadata": {},
      "outputs": [
        {
          "name": "stdout",
          "output_type": "stream",
          "text": [
            "Model with Self Attention:\n",
            "\n",
            "The model has a total of 3,571,729 parameters.\n",
            "\n",
            "Training Start\n",
            "\n",
            "Epoch [1/10], Time:1.58, Loss: 6.4633, Accuracy: 0.11%, Perplexity: 641.1990\n",
            "Epoch [2/10], Time:1.56, Loss: 5.5873, Accuracy: 0.15%, Perplexity: 267.0125\n",
            "Epoch [3/10], Time:1.63, Loss: 5.2036, Accuracy: 0.18%, Perplexity: 181.9296\n",
            "Epoch [4/10], Time:1.57, Loss: 4.9173, Accuracy: 0.20%, Perplexity: 136.6310\n",
            "Epoch [5/10], Time:1.56, Loss: 4.6772, Accuracy: 0.22%, Perplexity: 107.4699\n",
            "Epoch [6/10], Time:1.58, Loss: 4.4617, Accuracy: 0.24%, Perplexity: 86.6343\n",
            "Epoch [7/10], Time:1.58, Loss: 4.2589, Accuracy: 0.26%, Perplexity: 70.7296\n",
            "Epoch [8/10], Time:1.60, Loss: 4.0686, Accuracy: 0.28%, Perplexity: 58.4754\n",
            "Epoch [9/10], Time:1.56, Loss: 3.8870, Accuracy: 0.30%, Perplexity: 48.7653\n",
            "Epoch [10/10], Time:1.57, Loss: 3.7089, Accuracy: 0.32%, Perplexity: 40.8083\n",
            "\n",
            "Evaluation Start\n",
            "\n",
            "Test Accuracy: 19.03%\n",
            "Average Loss: 5.37\n",
            "Average Perplexity: 214.53\n"
          ]
        }
      ],
      "source": [
        "model_attn = BengioModel_SelfAttentionMatrix(vocab_size, embedding_dim, context_size, hidden_dim)\n",
        "print(\"Model with Self Attention:\")\n",
        "print()\n",
        "count_parameters(model_attn)\n",
        "\n",
        "# Cross Entropy\n",
        "criterion = nn.CrossEntropyLoss()\n",
        "\n",
        "# Optimizer\n",
        "optimizer = torch.optim.SGD(model_attn.parameters(), lr)\n",
        "\n",
        "model_attn.to(device)\n",
        "\n",
        "print()\n",
        "print(\"Training Start\")\n",
        "print()\n",
        "train(model_attn, criterion, optimizer)\n",
        "\n",
        "print()\n",
        "print(\"Evaluation Start\")\n",
        "print()\n",
        "eval(model_attn, criterion)"
      ]
    },
    {
      "cell_type": "markdown",
      "metadata": {},
      "source": [
        "### 3. Com camada de atenção e Embeddings Posicionais\n",
        "#### Descrição do Modelo:"
      ]
    },
    {
      "cell_type": "code",
      "execution_count": 29,
      "metadata": {},
      "outputs": [
        {
          "name": "stdout",
          "output_type": "stream",
          "text": [
            "Model with Self Attention and Positional Encodings:\n",
            "\n",
            "The model has a total of 3,571,729 parameters.\n",
            "\n",
            "Model:\n"
          ]
        },
        {
          "data": {
            "text/plain": [
              "BengioModel_SelfAttentionMatrix_PosEncoding(\n",
              "  (embeddings): Embedding(5001, 256)\n",
              "  (posencoding): PositionalEncoding()\n",
              "  (attention): SelfAttention_Matrix(\n",
              "    (WQ): Linear(in_features=256, out_features=256, bias=True)\n",
              "    (WK): Linear(in_features=256, out_features=256, bias=True)\n",
              "    (WV): Linear(in_features=256, out_features=256, bias=True)\n",
              "    (WO): Linear(in_features=256, out_features=5000, bias=True)\n",
              "  )\n",
              "  (linear1): Linear(in_features=1280, out_features=128, bias=True)\n",
              "  (relu): ReLU()\n",
              "  (linear2): Linear(in_features=128, out_features=5001, bias=True)\n",
              "  (logSoftMax): LogSoftmax(dim=1)\n",
              ")"
            ]
          },
          "execution_count": 29,
          "metadata": {},
          "output_type": "execute_result"
        }
      ],
      "source": [
        "model_attn_pos = BengioModel_SelfAttentionMatrix_PosEncoding(vocab_size, embedding_dim, context_size, hidden_dim)\n",
        "print(\"Model with Self Attention and Positional Encodings:\")\n",
        "print()\n",
        "count_parameters(model_attn_pos)\n",
        "print()\n",
        "print(\"Model:\")\n",
        "model_attn_pos"
      ]
    },
    {
      "cell_type": "markdown",
      "metadata": {},
      "source": [
        "#### Perplexidade Inicial:"
      ]
    },
    {
      "cell_type": "code",
      "execution_count": 30,
      "metadata": {},
      "outputs": [
        {
          "name": "stdout",
          "output_type": "stream",
          "text": [
            "\n",
            "Initial Loss: 8.5343\n",
            "Initial Perplexity: 5086.5068\n"
          ]
        }
      ],
      "source": [
        "# Cross Entropy\n",
        "criterion = nn.CrossEntropyLoss()\n",
        "\n",
        "# Optimizer\n",
        "optimizer = torch.optim.SGD(model_attn_pos.parameters(), lr)\n",
        "\n",
        "model_attn_pos.to(device)\n",
        "print()\n",
        "initial_eval(model_attn_pos)"
      ]
    },
    {
      "cell_type": "markdown",
      "metadata": {},
      "source": [
        "#### Treinamento e Avaliação:"
      ]
    },
    {
      "cell_type": "code",
      "execution_count": 31,
      "metadata": {},
      "outputs": [
        {
          "name": "stdout",
          "output_type": "stream",
          "text": [
            "\n",
            "Training Start\n",
            "\n",
            "Epoch [1/10], Time:1.69, Loss: 6.4338, Accuracy: 0.11%, Perplexity: 622.5213\n",
            "Epoch [2/10], Time:1.63, Loss: 5.5800, Accuracy: 0.15%, Perplexity: 265.0782\n",
            "Epoch [3/10], Time:1.69, Loss: 5.2051, Accuracy: 0.17%, Perplexity: 182.2067\n",
            "Epoch [4/10], Time:1.76, Loss: 4.9174, Accuracy: 0.20%, Perplexity: 136.6441\n",
            "Epoch [5/10], Time:1.75, Loss: 4.6756, Accuracy: 0.22%, Perplexity: 107.2996\n",
            "Epoch [6/10], Time:1.64, Loss: 4.4577, Accuracy: 0.24%, Perplexity: 86.2894\n",
            "Epoch [7/10], Time:1.57, Loss: 4.2533, Accuracy: 0.26%, Perplexity: 70.3357\n",
            "Epoch [8/10], Time:1.57, Loss: 4.0603, Accuracy: 0.28%, Perplexity: 57.9890\n",
            "Epoch [9/10], Time:1.56, Loss: 3.8789, Accuracy: 0.30%, Perplexity: 48.3722\n",
            "Epoch [10/10], Time:1.55, Loss: 3.7000, Accuracy: 0.31%, Perplexity: 40.4471\n",
            "\n",
            "Evaluation Start\n",
            "\n",
            "Test Accuracy: 20.34%\n",
            "Average Loss: 5.30\n",
            "Average Perplexity: 199.77\n"
          ]
        }
      ],
      "source": [
        "print()\n",
        "print(\"Training Start\")\n",
        "print()\n",
        "train(model_attn_pos, criterion, optimizer)\n",
        "\n",
        "print()\n",
        "print(\"Evaluation Start\")\n",
        "print()\n",
        "eval(model_attn_pos, criterion)\n",
        "\n"
      ]
    }
  ],
  "metadata": {
    "accelerator": "GPU",
    "colab": {
      "gpuType": "T4",
      "provenance": []
    },
    "kernelspec": {
      "display_name": "ml_pytorch",
      "language": "python",
      "name": "python3"
    },
    "language_info": {
      "codemirror_mode": {
        "name": "ipython",
        "version": 3
      },
      "file_extension": ".py",
      "mimetype": "text/x-python",
      "name": "python",
      "nbconvert_exporter": "python",
      "pygments_lexer": "ipython3",
      "version": "3.12.2"
    }
  },
  "nbformat": 4,
  "nbformat_minor": 0
}
