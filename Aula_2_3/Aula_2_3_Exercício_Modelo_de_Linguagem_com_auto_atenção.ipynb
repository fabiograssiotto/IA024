{
  "cells": [
    {
      "cell_type": "markdown",
      "metadata": {
        "id": "fMI0JT_YuYF3"
      },
      "source": [
        "## Exercício: Modelo de Linguagem com auto-atenção\n",
        "\n",
        "Este exercício é similar ao da aula passada, mas iremos agora treinar uma rede neural *com auto-atenção* para prever a próxima palavra de um texto, data as palavras anteriores como entrada.\n",
        "\n",
        "Na camada de auto-atenção, deve-se implementar (vide slide 34):\n",
        "- Embeddings de posição\n",
        "- Projeções lineares (WQ, WK, WV, WO)\n",
        "- Camada de feed forward (2-layer MLP)\n",
        "\n",
        "Instrucões:\n",
        "- É necessário fazer duas implementações da camada de auto-atenção: uma usando laços (ineficiente, mas fácil de entender) e outra matricial (eficiente mas difícil de entender). Usar slide 36 como referência.\n",
        "\n",
        "- Fazer um assert para garantir que o resultado das duas implementações é exatamente igual.\n",
        "\n",
        "- No treinamento, usar apenas a implementação matricial."
      ]
    },
    {
      "cell_type": "code",
      "execution_count": 1,
      "metadata": {},
      "outputs": [],
      "source": [
        "import os\n",
        "import sys\n",
        "import random\n",
        "from sklearn.model_selection import train_test_split"
      ]
    },
    {
      "cell_type": "markdown",
      "metadata": {
        "id": "bYbkEzdD37sZ"
      },
      "source": [
        "## Faz download e carrega o dataset"
      ]
    },
    {
      "cell_type": "code",
      "execution_count": 2,
      "metadata": {
        "colab": {
          "base_uri": "https://localhost:8080/"
        },
        "id": "9qAnqY_q0beK",
        "outputId": "f810fdb0-138d-4917-b7ef-69ab266acef6"
      },
      "outputs": [],
      "source": [
        "# Check if download is necessary\n",
        "if not os.path.exists(\"67724.txt.utf-8\"):\n",
        "    print(\"Downloading Gutenberg texts\")\n",
        "\n",
        "    !wget https://www.gutenberg.org/ebooks/67724.txt.utf-8\n",
        "    !wget https://www.gutenberg.org/ebooks/67725.txt.utf-8"
      ]
    },
    {
      "cell_type": "code",
      "execution_count": 3,
      "metadata": {
        "colab": {
          "base_uri": "https://localhost:8080/"
        },
        "id": "6_UzC9pV091C",
        "outputId": "1553b04f-24c4-4027-8cab-0907f92f04df"
      },
      "outputs": [
        {
          "data": {
            "text/plain": [
              "4969"
            ]
          },
          "execution_count": 3,
          "metadata": {},
          "output_type": "execute_result"
        }
      ],
      "source": [
        "text = open(\"67724.txt.utf-8\",\"r\").read()\n",
        "text += open(\"67725.txt.utf-8\",\"r\").read()\n",
        "\n",
        "paragraphs = text.split(\"\\n\\n\")\n",
        "\n",
        "len(paragraphs)"
      ]
    },
    {
      "cell_type": "code",
      "execution_count": 4,
      "metadata": {},
      "outputs": [
        {
          "name": "stdout",
          "output_type": "stream",
          "text": [
            "The Project Gutenberg eBook of O Guarany: romance brazileiro, Vol. 1 (of 2)\n",
            "    \n",
            "This ebook is for the use of anyone anywhere in the United States and\n",
            "most other parts of the world at no cost and with almost no restrictions\n",
            "whatsoever. You may copy it, give it away or re-use it under the terms\n",
            "of the Project Gutenberg License included with this ebook or online\n",
            "at www.gutenberg.org. If you are not located in the United States,\n",
            "you will have to check the laws of the country where you are located\n",
            "before using this eBook.\n"
          ]
        }
      ],
      "source": [
        "# Checking the text\n",
        "print(paragraphs[0])"
      ]
    },
    {
      "cell_type": "code",
      "execution_count": 5,
      "metadata": {
        "colab": {
          "base_uri": "https://localhost:8080/"
        },
        "id": "UhUFjtNdDuG0",
        "outputId": "78798c0c-deca-4454-d3fb-7d3ba70f3e91"
      },
      "outputs": [
        {
          "name": "stdout",
          "output_type": "stream",
          "text": [
            "--Pois vem contar-m'o.\n",
            "\n",
            "--Preguiçosa!... disse Isabel sorrindo.\n",
            "\n",
            "--Pery!...\n",
            "\n",
            "--Tu saberás. Deixa Pery fazer o que tem no pensamento.\n",
            "\n",
            "A moça ajoelhou e fez uma oração breve; pedia a Deus uma ultima graça; pedia a eternidade e a ventura do seu amor, que tinha passado tão rapido pela terra.\n",
            "\n",
            "Number of paragraphs: 4892\n"
          ]
        },
        {
          "data": {
            "text/plain": [
              "4892"
            ]
          },
          "execution_count": 5,
          "metadata": {},
          "output_type": "execute_result"
        }
      ],
      "source": [
        "cleaned_paragraphs = [paragraph.replace(\"\\n\", \" \") for paragraph in paragraphs if paragraph.strip()]\n",
        "\n",
        "# Print 5 random paragraphs\n",
        "num_paragraphs = len(cleaned_paragraphs)\n",
        "for i in range(0,5):\n",
        "    idx = random.randrange(num_paragraphs)\n",
        "    print(f\"{cleaned_paragraphs[idx]}\\n\")\n",
        "\n",
        "print(\"Number of paragraphs: \" + str(num_paragraphs))\n",
        "\n",
        "len(cleaned_paragraphs)"
      ]
    },
    {
      "cell_type": "markdown",
      "metadata": {
        "id": "bFVN2ihb33Rf"
      },
      "source": [
        "## Análise do dataset"
      ]
    },
    {
      "cell_type": "code",
      "execution_count": 6,
      "metadata": {
        "colab": {
          "base_uri": "https://localhost:8080/"
        },
        "id": "qSRHqe3H4ZFw",
        "outputId": "4a985c7a-ce1d-4b72-d253-c9fbbc5f9440"
      },
      "outputs": [
        {
          "data": {
            "text/plain": [
              "12603"
            ]
          },
          "execution_count": 6,
          "metadata": {},
          "output_type": "execute_result"
        }
      ],
      "source": [
        "# Conta as palavras no dataset\n",
        "from collections import Counter\n",
        "import re\n",
        "\n",
        "def count_words(texts):\n",
        "    word_counts = Counter()\n",
        "    for text in texts:\n",
        "        word_counts.update(re.findall(r'\\w+', text.lower()))\n",
        "    return word_counts\n",
        "\n",
        "word_counts = count_words(cleaned_paragraphs)\n",
        "\n",
        "len(word_counts)"
      ]
    },
    {
      "cell_type": "markdown",
      "metadata": {
        "id": "EyGVDL9KzJ_I"
      },
      "source": [
        "## Criando um vocabulário"
      ]
    },
    {
      "cell_type": "code",
      "execution_count": 7,
      "metadata": {
        "id": "FiP7OCo9zJ_I"
      },
      "outputs": [],
      "source": [
        "# Reduzido o tamanho do vocabulário baseado no exercício anterior.\n",
        "vocab_size = 7000\n",
        "most_frequent_words = [word for word, count in word_counts.most_common(vocab_size)]\n",
        "vocab = {word: i for i, word in enumerate(most_frequent_words, 1)}"
      ]
    },
    {
      "cell_type": "code",
      "execution_count": 8,
      "metadata": {},
      "outputs": [
        {
          "name": "stdout",
          "output_type": "stream",
          "text": [
            "{'a': 1, 'que': 2, 'o': 3, 'de': 4, 'e': 5, 'se': 6, 'um': 7, 'do': 8, 'não': 9, 'uma': 10, 'da': 11, 'os': 12, 'com': 13, 'sua': 14, 'para': 15, 'seu': 16, 'pery': 17, 'as': 18, 'em': 19, 'no': 20, 'por': 21, 'ao': 22, 'como': 23, 'lhe': 24, 'd': 25, 'á': 26, 'tinha': 27, 'era': 28, 'cecilia': 29, 'na': 30, 'é': 31, 'sobre': 32, 'mas': 33, 'elle': 34, 'the': 35, 'dos': 36, 'indio': 37, 'me': 38, 'seus': 39, 'mais': 40, 'antonio': 41, 'quando': 42, 'alvaro': 43, 'disse': 44, 'das': 45, 'vos': 46, 'of': 47, 'ella': 48, 'olhos': 49, 'te': 50, 'senhora': 51, 'menina': 52, 'pela': 53, 'tu': 54, 'depois': 55, 'nos': 56, 'isabel': 57, 'havia': 58, 'gutenberg': 59, 'fidalgo': 60, 'casa': 61, 'estava': 62, 'ainda': 63, 'tempo': 64, 'já': 65, 'mariz': 66, 'project': 67, 'aventureiros': 68, 'momento': 69, 'loredano': 70, 'só': 71, 'mesmo': 72, 'italiano': 73, 'todos': 74, 'pelo': 75, 'vida': 76, 'sem': 77, 'dous': 78, 'to': 79, 'homem': 80, 'eu': 81, 'porque': 82, 'or': 83, 'meio': 84, 'you': 85, 'foi': 86, 'tudo': 87, 'suas': 88, 'ia': 89, 'olhar': 90, 'quem': 91, 'mão': 92, 'aos': 93, 'então': 94, 'meu': 95, 'ou': 96, 'and': 97, 'essa': 98, 'esse': 99, 'rio': 100, 'entre': 101, 'cabeça': 102, 'onde': 103, 'pouco': 104, 'moça': 105, 'tão': 106, 'isto': 107, 'podia': 108, 'in': 109, 'ser': 110, 'minha': 111, 'pai': 112, 'cavalheiro': 113, 'assim': 114, 'moço': 115, 'apenas': 116, 'vez': 117, 'lo': 118, 'esta': 119, 'ha': 120, 'palavra': 121, 'sim': 122, 'selvagem': 123, 'homens': 124, 'toda': 125, 'fazer': 126, 'n': 127, 'fez': 128, 'nem': 129, 'dia': 130, 'terra': 131, 'noite': 132, '1': 133, 'coração': 134, 'bem': 135, 'alma': 136, 'corpo': 137, 'la': 138, 'este': 139, 'labios': 140, 'with': 141, 'porta': 142, 'palavras': 143, 'this': 144, 'selvagens': 145, 'voz': 146, 'ver': 147, 'work': 148, 'cousa': 149, 'morte': 150, 'nas': 151, 'ter': 152, 'ayres': 153, 'outro': 154, 'rosto': 155, 'tua': 156, 'grande': 157, 'ás': 158, 'até': 159, 'amigo': 160, 'duas': 161, 'tinhão': 162, 'pois': 163, 'respondeu': 164, 'mãi': 165, 'exclamou': 166, 'força': 167, 'filha': 168, 'inimigo': 169, 'parecia': 170, 'qual': 171, 'familia': 172, 'sr': 173, 'amor': 174, 'muito': 175, 'devia': 176, 'parte': 177, 'perguntou': 178, 'sol': 179, 'antes': 180, 'alguma': 181, 'gomes': 182, 'ruy': 183, 'any': 184, 'primeiro': 185, 'algum': 186, 'seio': 187, 'sempre': 188, 'novo': 189, 'porém': 190, 'outros': 191, 'hora': 192, 'mãos': 193, 'tambem': 194, 'espirito': 195, 'passava': 196, 'esplanada': 197, 'velho': 198, 'vezes': 199, 'céo': 200, 'contra': 201, 'lugar': 202, 'pelos': 203, 'janella': 204, 'companheiros': 205, 'arvore': 206, 'mulher': 207, 'braço': 208, 'longe': 209, 'aymorés': 210, 'dessa': 211, 'luz': 212, 'todo': 213, 'fundo': 214, 'todas': 215, 'fosse': 216, 'dizer': 217, 'vós': 218, 'idéa': 219, 'escudeiro': 220, 'works': 221, 'quasi': 222, 'sorriso': 223, 'nesse': 224, 'vai': 225, 'filho': 226, 'agora': 227, 'alguns': 228, 'floresta': 229, 'voltou': 230, 'emquanto': 231, 'pag': 232, 'dar': 233, 'tres': 234, 'pés': 235, 'lado': 236, 'arvores': 237, 'gesto': 238, 'viu': 239, 'sabia': 240, 'menos': 241, 'deus': 242, 'aventureiro': 243, 'ahi': 244, 'si': 245, 'desse': 246, 'sentia': 247, 'repente': 248, 'feito': 249, 'nunca': 250, 'delle': 251, 'not': 252, 'fazia': 253, 'nada': 254, 'senão': 255, 'outra': 256, 'movimento': 257, 'esperança': 258, 'primeira': 259, 'junto': 260, 'aqui': 261, 'face': 262, 'diante': 263, 'diogo': 264, 'preciso': 265, 'razão': 266, 'fogo': 267, 'ergueu': 268, 'aquella': 269, 'armas': 270, 'elles': 271, 'lauriana': 272, 'morrer': 273, 'electronic': 274, 'for': 275, 'triste': 276, 'quanto': 277, 'passou': 278, 'by': 279, 'talvez': 280, 'desta': 281, 'pelas': 282, 'erão': 283, 'vendo': 284, 'mesma': 285, 'silencio': 286, 'sentio': 287, 'ouvido': 288, 'és': 289, 'natureza': 290, 'aquelle': 291, 'sala': 292, 'causa': 293, 'della': 294, 'vossa': 295, 'menor': 296, 'ar': 297, 'cada': 298, 'passado': 299, 's': 300, 'dias': 301, 'mim': 302, 'tem': 303, 'foundation': 304, 'via': 305, 'braços': 306, 'tomou': 307, 'algumas': 308, 'perigo': 309, 'isso': 310, 'scena': 311, 'forte': 312, 'pensamento': 313, 'prima': 314, 'inimigos': 315, 'seria': 316, 'tanto': 317, 'agua': 318, 'neste': 319, 'quer': 320, 'sangue': 321, 'ficou': 322, 'teu': 323, 'is': 324, 'are': 325, 'india': 326, 'esses': 327, 'bento': 328, 'campo': 329, 'nome': 330, 'terrivel': 331, 'quarto': 332, 'terms': 333, 'if': 334, 'certo': 335, 'durante': 336, 'apezar': 337, 'horas': 338, 'folhas': 339, 'sombra': 340, 'fim': 341, 'soeiro': 342, 'flôr': 343, 'leito': 344, 'grandes': 345, 'pé': 346, 'ouvio': 347, 'simões': 348, 'salvar': 349, 'senhor': 350, 'ordem': 351, 'essas': 352, 'continuou': 353, 'sorrindo': 354, 'prazer': 355, 'desde': 356, 'nobre': 357, 'havião': 358, 'expressão': 359, 'tenho': 360, 'está': 361, 'sentimento': 362, 'sorrio': 363, 'são': 364, 'pequena': 365, 'vontade': 366, 'doce': 367, 'lhes': 368, 'grito': 369, 'fôra': 370, 'prisioneiro': 371, 'copyright': 372, 'arco': 373, 'ardente': 374, 'states': 375, 'janeiro': 376, 'ora': 377, 'indios': 378, 'coragem': 379, 'ultima': 380, 'passos': 381, 'instante': 382, 'segredo': 383, 'desses': 384, 'entretanto': 385, 'dava': 386, 'passar': 387, 'seja': 388, 'espada': 389, 'verdade': 390, 'nós': 391, 'peito': 392, 'poder': 393, 'ultimo': 394, 'license': 395, 'chão': 396, 'impossivel': 397, 'guerra': 398, 'tarde': 399, 'animal': 400, 'vosso': 401, 'arma': 402, 'tribu': 403, 'agreement': 404, 'plano': 405, 'visto': 406, 'nessa': 407, 'distancia': 408, 'estas': 409, 'quero': 410, 'felicidade': 411, 'guerreiros': 412, 'other': 413, 'luta': 414, 'volta': 415, 'mal': 416, 'livre': 417, 'simples': 418, 'parede': 419, 'posição': 420, 'tendes': 421, 'cuja': 422, 'companheiro': 423, 'veio': 424, 'raio': 425, 'cahir': 426, 'ti': 427, 'tivesse': 428, 'vento': 429, 'be': 430, 'all': 431, 'pequeno': 432, 'especie': 433, 'canto': 434, 'sido': 435, 'sabeis': 436, 'esperava': 437, 'tirou': 438, 'lagrimas': 439, 'deo': 440, 'dizia': 441, 'medo': 442, 'aposento': 443, 'beira': 444, 'alto': 445, 'deixou': 446, 'embora': 447, 'respeito': 448, 'mundo': 449, 'chegou': 450, 'tom': 451, 'signal': 452, 'pedra': 453, 'feliz': 454, 'estavão': 455, 'quereis': 456, 'caminho': 457, 'physionomia': 458, 'logo': 459, 'irmão': 460, 'manhã': 461, 'frade': 462, 'united': 463, 'may': 464, 'it': 465, 'aguas': 466, 'deve': 467, 'deserto': 468, 'ião': 469, 'effeito': 470, 'dedicação': 471, 'torno': 472, 'passo': 473, 'fronte': 474, 'deixar': 475, 'possivel': 476, 'immediatamente': 477, 'vingança': 478, 'irmã': 479, 'vespera': 480, 'sacrificio': 481, 'from': 482, 'that': 483, 'donations': 484, 'tronco': 485, 'direito': 486, 'ponta': 487, 'conhecia': 488, 'chefe': 489, 'desejo': 490, 'sei': 491, 'perto': 492, 'queres': 493, 'cahio': 494, 'dirigio': 495, 'nossa': 496, 'lembrança': 497, 'levantou': 498, 'use': 499, 'annos': 500, 'edificio': 501, 'frente': 502, 'jardim': 503, 'vista': 504, 'bom': 505, 'melhor': 506, 'replicou': 507, 'soltou': 508, 'oh': 509, 'ninguem': 510, 'calma': 511, 'estendeu': 512, 'alegria': 513, 'rumor': 514, 'lançou': 515, 'gabinete': 516, 'profundo': 517, 'lembrou': 518, 'horrivel': 519, 'trademark': 520, 'quatro': 521, 'rochedo': 522, 'sob': 523, 'cabana': 524, 'occasião': 525, 'qualquer': 526, 'faces': 527, 'cabellos': 528, 'abrio': 529, 'podesse': 530, 'vinha': 531, 'acabava': 532, 'susto': 533, 'los': 534, 'alpendre': 535, 'comprehender': 536, 'ebook': 537, 'at': 538, 'nesta': 539, 'ouro': 540, 'achava': 541, 'fazendo': 542, 'fallar': 543, 'hoje': 544, 'pôde': 545, 'aproximou': 546, 'côr': 547, 'forão': 548, 'resolução': 549, 'rapidamente': 550, 'tal': 551, 'momentos': 552, 'bella': 553, 'vão': 554, 'começou': 555, 'queria': 556, 'nunes': 557, 'full': 558, 'literary': 559, 'archive': 560, 'onça': 561, 'falta': 562, 'escada': 563, 'natural': 564, 'brancos': 565, 'dever': 566, 'dentro': 567, 'delles': 568, 'quiz': 569, 'cousas': 570, 'dentes': 571, 'manda': 572, 'faca': 573, 'brilhante': 574, 'estou': 575, 'defender': 576, 'teve': 577, 'chegando': 578, 'morto': 579, 'thesouro': 580, 'partir': 581, 'desespero': 582, 'amava': 583, 'conheceu': 584, 'será': 585, 'dôr': 586, 'on': 587, 'copy': 588, 'cecy': 589, 'rei': 590, 'belleza': 591, 'escravo': 592, 'sublime': 593, 'interior': 594, 'deste': 595, 'naquelle': 596, 'outras': 597, 'póde': 598, 'correu': 599, 'desgraça': 600, 'somno': 601, 'encontro': 602, 'receio': 603, 'semelhante': 604, 'canôa': 605, 'esforço': 606, 'dessas': 607, 'cruz': 608, 'azul': 609, 'modo': 610, 'amigos': 611, 'hombro': 612, 'ponto': 613, 'longa': 614, 'folhagem': 615, 'ah': 616, 'boa': 617, 'ataque': 618, 'joelhos': 619, 'setta': 620, 'tornou': 621, 'deitou': 622, 'innocente': 623, 'ficar': 624, 'sabes': 625, 'acção': 626, 'objecto': 627, 'aquelles': 628, 'entrou': 629, 'murmurou': 630, 'tanta': 631, 'imagem': 632, 'estremeceu': 633, '3': 634, 'forças': 635, 'tigre': 636, 'graça': 637, 'maior': 638, 'teus': 639, 'chegar': 640, 'estar': 641, 'sois': 642, 'clavina': 643, 'comprehendeu': 644, 'existencia': 645, 'socego': 646, 'affeição': 647, 'bastava': 648, 'crime': 649, 'perder': 650, 'lingua': 651, 'ararê': 652, 'combate': 653, 'paragraph': 654, 'f': 655, 'espaço': 656, 'corria': 657, 'margem': 658, 'resto': 659, 'esperou': 660, 'naquella': 661, 'servia': 662, 'caso': 663, 'banda': 664, 'tremula': 665, 'algodão': 666, 'elevava': 667, 'alegre': 668, 'admiração': 669, 'tendo': 670, 'vinho': 671, 'pensava': 672, 'realisar': 673, 'partio': 674, 'mestre': 675, 'palmeira': 676, 'laws': 677, 'segunda': 678, 'precipicio': 679, 'florestas': 680, 'profunda': 681, 'alta': 682, 'aspecto': 683, 'pennas': 684, 'erguendo': 685, 'lançando': 686, 'pode': 687, 'uns': 688, 'intelligencia': 689, 'daquelle': 690, 'maneira': 691, 'honra': 692, 'lentamente': 693, 'alli': 694, 'galho': 695, 'cacique': 696, 'segundo': 697, 'appareceu': 698, 'deixava': 699, 'lindo': 700, 'conhecer': 701, 'sabe': 702, 'tantos': 703, 'paixão': 704, 'ama': 705, 'nosso': 706, 'papel': 707, 'can': 708, 'must': 709, 'access': 710, 'refund': 711, '2': 712, 'brazil': 713, 'fora': 714, 'ligeiro': 715, 'procurava': 716, 'nossos': 717, 'fazião': 718, 'lá': 719, 'nelle': 720, 'immovel': 721, 'relva': 722, 'pobre': 723, 'ir': 724, 'christão': 725, 'obrigado': 726, 'guarda': 727, 'projecto': 728, 'chegado': 729, 'adormecida': 730, 'ambos': 731, 'veneno': 732, 'ouvindo': 733, 'emoção': 734, 'ferro': 735, 'fr': 736, 'desappareceu': 737, 'guarany': 738, 'www': 739, 'org': 740, 'solidão': 741, 'facto': 742, 'habitação': 743, 'dama': 744, 'dado': 745, 'vulto': 746, 'phrase': 747, 'baixa': 748, 'trazia': 749, 'cinta': 750, 'vamos': 751, 'contrario': 752, 'conversa': 753, 'tocar': 754, 'trabalho': 755, 'saber': 756, 'fructos': 757, 'digno': 758, 'principio': 759, 'vivo': 760, 'contente': 761, 'viver': 762, 'moças': 763, 'meus': 764, 'servir': 765, 'religião': 766, 'desejava': 767, 'raiva': 768, 'gritou': 769, 'conseguio': 770, 'lua': 771, 'apertou': 772, 'raça': 773, 'salvação': 774, 'including': 775, 'agree': 776, 'your': 777, 'we': 778, 'extrema': 779, 'obra': 780, 'prece': 781, 'bracelete': 782, '_paquequer_': 783, 'longo': 784, 'larga': 785, 'historia': 786, 'azues': 787, 'juramento': 788, 'sou': 789, 'abysmo': 790, 'quaes': 791, 'comtudo': 792, 'contar': 793, 'necessidade': 794, 'flor': 795, 'ouvir': 796, 'seis': 797, 'hombros': 798, 'cheio': 799, 'matta': 800, 'sombras': 801, 'raios': 802, 'redor': 803, 'lançar': 804, 'campos': 805, 'alva': 806, 'fitou': 807, 'sahio': 808, 'horizonte': 809, 'pistolas': 810, 'virgem': 811, 'resistir': 812, 'soffrer': 813, 'orgulho': 814, 'salva': 815, 'sahir': 816, 'angelo': 817, 'daquella': 818, 'guerreiro': 819, 'will': 820, 'ellas': 821, 'rapido': 822, 'deixando': 823, 'linda': 824, 'abria': 825, 'chegava': 826, 'defeza': 827, 'estendia': 828, 'animaes': 829, 'côres': 830, 'palha': 831, 'azas': 832, 'suave': 833, 'portuguez': 834, 'attenção': 835, 'circulo': 836, 'pessoas': 837, 'voltava': 838, 'respondeo': 839, 'estais': 840, 'continuava': 841, 'apresentava': 842, 'cahia': 843, 'querer': 844, 'perdido': 845, 'levou': 846, 'energia': 847, 'pescoço': 848, 'cujo': 849, 'corda': 850, 'atirou': 851, 'costas': 852, 'bocca': 853, 'direcção': 854, 'sonho': 855, 'conservava': 856, 'sentou': 857, 'olha': 858, 'sorrir': 859, 'deixa': 860, 'breve': 861, 'procurar': 862, 'sentimentos': 863, 'castigo': 864, 'fica': 865, 'tocou': 866, 'ouvia': 867, 'afim': 868, 'tomando': 869, 'desprezo': 870, 'nação': 871, 'without': 872, 'set': 873, 'forth': 874, 'fee': 875, 'information': 876, 'about': 877, 'b': 878, 'supremo': 879, 'outr': 880, 'anno': 881, 'direita': 882, 'teria': 883, 'janellas': 884, 'graciosa': 885, 'inteiramente': 886, 'entrada': 887, 'objectos': 888, 'juro': 889, 'estes': 890, 'punhal': 891, 'parece': 892, 'diz': 893, 'vêr': 894, 'dormia': 895, 'vio': 896, 'fallai': 897, 'dizei': 898, 'ameaça': 899, 'estrellas': 900, 'violenta': 901, 'nuvens': 902, 'supplicante': 903, 'tens': 904, 'matto': 905, 'voltando': 906, 'pedir': 907, 'vossas': 908, 'valente': 909, 'vencer': 910, 'tristeza': 911, 'poderosa': 912, 'meia': 913, 'dedicado': 914, 'fallava': 915, 'lembrava': 916, 'sobretudo': 917, 'comprehendia': 918, 'pallido': 919, 'semblante': 920, 'olhava': 921, 'explicar': 922, 'contava': 923, 'matar': 924, 'cima': 925, 'fortes': 926, 'amar': 927, 'começava': 928, 'located': 929, 'have': 930, 'ii': 931, 'nobreza': 932, 'dez': 933, 'entrar': 934, 'acontecimentos': 935, 'presença': 936, 'pertencia': 937, 'santo': 938, 'vinte': 939, 'riqueza': 940, 'acudio': 941, 'faz': 942, 'rapidez': 943, 'deixado': 944, 'eis': 945, 'nisto': 946, 'linha': 947, 'folha': 948, 'parou': 949, 'voltar': 950, 'mil': 951, 'houve': 952, 'amanhã': 953, 'caracter': 954, 'beijou': 955, 'differentes': 956, 'beijo': 957, 'vê': 958, 'heroismo': 959, 'martim': 960, 'oleo': 961, 'cumprir': 962, 'fugir': 963, 'certeza': 964, 'perdão': 965, 'esperavão': 966, 'olhou': 967, 'resolveu': 968, 'flôres': 969, 'precisava': 970, 'promessa': 971, 'roberio': 972, 'resultado': 973, 'admirado': 974, 'fiel': 975, 'complices': 976, 'bastante': 977, 'vais': 978, 'tranquillo': 979, 'u': 980, 'law': 981, 'distributing': 982, 'copies': 983, 'ebooks': 984, 'associated': 985, 'section': 986, 'which': 987, 'provide': 988, 'satisfação': 989, 'reconhecimento': 990, 'vi': 991, 'banho': 992, 'dir': 993, 'tivera': 994, 'formava': 995, 'braças': 996, 'cerca': 997, 'valle': 998, 'nossas': 999, 'abrir': 1000, 'prata': 1001, 'oratorio': 1002, 'revelava': 1003, 'acompanhou': 1004, 'minas': 1005, 'haver': 1006, 'fé': 1007, 'atacar': 1008, 'traição': 1009, 'podião': 1010, 'lisboa': 1011, 'fructo': 1012, 'chapéo': 1013, 'aberta': 1014, 'dizeis': 1015, 'sereno': 1016, 'naturalmente': 1017, 'deveis': 1018, 'altivez': 1019, 'superior': 1020, 'reflexos': 1021, 'flecha': 1022, 'extraordinaria': 1023, 'passagem': 1024, 'dedos': 1025, 'vem': 1026, 'nella': 1027, 'tristemente': 1028, 'gibão': 1029, 'certa': 1030, 'vingar': 1031, 'balbuciou': 1032, 'falla': 1033, 'cruel': 1034, 'muda': 1035, 'unicamente': 1036, 'viagem': 1037, 'presente': 1038, 'reflectir': 1039, 'sentir': 1040, 'esperar': 1041, 'nuvem': 1042, 'julgando': 1043, 'sorpreza': 1044, 'atravessou': 1045, 'gritos': 1046, 'fechou': 1047, 'julgou': 1048, 'espanto': 1049, 'ferido': 1050, 'som': 1051, 'pareceu': 1052, 'levar': 1053, 'almas': 1054, 'dera': 1055, 'trevas': 1056, 'settas': 1057, 'revolta': 1058, 'romance': 1059, 'brazileiro': 1060, 'under': 1061, 'using': 1062, 'tomo': 1063, 'prova': 1064, 'genio': 1065, 'testamento': 1066, 'hia': 1067, 'liberdade': 1068, 'presa': 1069, 'cidade': 1070, 'feita': 1071, 'segurança': 1072, 'cinco': 1073, 'admiravel': 1074, 'servião': 1075, 'largo': 1076, 'prestes': 1077, 'sá': 1078, 'expedição': 1079, 'cabo': 1080, 'frio': 1081, 'mostrou': 1082, 'sertão': 1083, 'seguio': 1084, 'primeiros': 1085, 'necessario': 1086, 'cavalleiros': 1087, 'motivo': 1088, 'lançava': 1089, 'devião': 1090, 'nenhum': 1091, 'pena': 1092, 'pelle': 1093, 'esquerda': 1094, 'victima': 1095, 'ligeiramente': 1096, 'disto': 1097, 'consciencia': 1098, 'vira': 1099, 'apresentou': 1100, 'collo': 1101, 'saltou': 1102, 'sorria': 1103, 'caça': 1104, 'completamente': 1105, 'colera': 1106, 'ficava': 1107, 'delicada': 1108, 'sentindo': 1109, 'correndo': 1110, 'idéas': 1111, 'risco': 1112, 'firmeza': 1113, 'posso': 1114, 'sorte': 1115, 'terreiro': 1116, 'verde': 1117, 'reflexo': 1118, 'oração': 1119, 'tomar': 1120, 'ventura': 1121, 'procurou': 1122, 'viva': 1123, 'pertence': 1124, 'vaz': 1125, 'conta': 1126, 'fraco': 1127, 'instincto': 1128, 'futuro': 1129, 'evitar': 1130, 'fitos': 1131, 'corrente': 1132, 'emfim': 1133, 'aço': 1134, 'odio': 1135, 'docemente': 1136, 'puro': 1137, 'portas': 1138, 'pessoa': 1139, 'achavão': 1140, 'caminhou': 1141, 'tratava': 1142, 'animava': 1143, 'mulheres': 1144, 'narração': 1145, 'vela': 1146, 'mandou': 1147, 'espera': 1148, 'difficil': 1149, 'distribute': 1150, 'permission': 1151, 'charge': 1152, 'such': 1153, 'distribution': 1154, 'comply': 1155, 'paid': 1156, 'state': 1157, 'tax': 1158, 'preparativos': 1159, 'amante': 1160, 'original': 1161, 'achou': 1162, 'linhas': 1163, 'parahyba': 1164, 'pontas': 1165, 'margens': 1166, 'ponte': 1167, 'madeira': 1168, 'temos': 1169, 'desenhava': 1170, 'portugal': 1171, 'sofá': 1172, 'retirou': 1173, 'serviço': 1174, 'filhos': 1175, 'seguinte': 1176, 'fortuna': 1177, 'além': 1178, 'daquelles': 1179, 'agilidade': 1180, 'dá': 1181, 'quebrou': 1182, 'umas': 1183, 'digo': 1184, 'pensativo': 1185, 'calmo': 1186, 'duvida': 1187, 'dom': 1188, 'cintura': 1189, 'ferida': 1190, 'feroz': 1191, 'parecião': 1192, 'galhos': 1193, 'tranquillamente': 1194, 'peso': 1195, 'vencedor': 1196, 'mata': 1197, 'estremecendo': 1198, 'pura': 1199, 'branco': 1200, 'cahião': 1201, 'vivacidade': 1202, 'imperceptivel': 1203, 'doces': 1204, 'perfeitamente': 1205, 'comigo': 1206, 'deves': 1207, 'contacto': 1208, 'estivesse': 1209, 'confiança': 1210, 'loucura': 1211, 'sentado': 1212, 'aproximar': 1213, 'aproximava': 1214, 'ganhou': 1215, 'unico': 1216, 'grupo': 1217, 'buscar': 1218, 'contou': 1219, 'levantar': 1220, 'vossos': 1221, 'tornar': 1222, 'correr': 1223, 'gozo': 1224, 'branca': 1225, 'basta': 1226, 'leve': 1227, 'faria': 1228, 'vou': 1229, 'vergonha': 1230, 'descobrio': 1231, 'cobria': 1232, 'responder': 1233, 'pallida': 1234, 'laço': 1235, 'fallou': 1236, 'estamos': 1237, 'irmãos': 1238, 'c': 1239, 'abaixou': 1240, 'ides': 1241, 'ficárão': 1242, 'acompanhava': 1243, 'empreza': 1244, 'significa': 1245, 'amizade': 1246, 'berço': 1247, '4': 1248, 'vol': 1249, 'anyone': 1250, 'most': 1251, 'where': 1252, 'nova': 1253, '5': 1254, 'notas': 1255, 'fio': 1256, 'varzea': 1257, 'vasto': 1258, 'rochedos': 1259, 'ondas': 1260, 'acima': 1261, 'cortinas': 1262, 'verdura': 1263, 'gracioso': 1264, 'mesa': 1265, 'seda': 1266, 'valor': 1267, 'combater': 1268, 'vir': 1269, 'verdadeiro': 1270, 'vinhão': 1271, 'idade': 1272, 'precisa': 1273, 'severidade': 1274, 'vivia': 1275, 'illuminava': 1276, 'geral': 1277, 'negra': 1278, 'traços': 1279, 'espessa': 1280, 'cuidado': 1281, 'claro': 1282, 'levando': 1283, 'punho': 1284, 'seguir': 1285, 'firme': 1286, 'ramo': 1287, 'mostrava': 1288, 'fera': 1289, 'tirar': 1290, 'apontando': 1291, 'voltado': 1292, 'satisfeito': 1293, 'negros': 1294, 'unica': 1295, 'acabou': 1296, 'gotas': 1297, 'roçando': 1298, 'mel': 1299, 'rede': 1300, 'mimoso': 1301, 'brisa': 1302, 'melancolia': 1303, 'has': 1304, 'tivessem': 1305, 'hontem': 1306, 'dormir': 1307, 'virão': 1308, 'retrucou': 1309, 'ordens': 1310, 'fumo': 1311, 'cadeira': 1312, 'succedia': 1313, 'adiantou': 1314, 'receber': 1315, 'poesia': 1316, 'immensa': 1317, 'vago': 1318, 'chegada': 1319, 'extraordinario': 1320, 'dormião': 1321, 'reconheceu': 1322, 'lindos': 1323, 'costume': 1324, 'formavão': 1325, 'deitado': 1326, 'nobres': 1327, 'supplicio': 1328, 'gozar': 1329, 'quadro': 1330, 'claridade': 1331, 'lagrima': 1332, 'queixa': 1333, 'linguagem': 1334, 'passaro': 1335, 'fizeste': 1336, 'anjo': 1337, 'fóra': 1338, 'passeava': 1339, 'contemplando': 1340, 'bala': 1341, 'golpe': 1342, 'terror': 1343, 'partida': 1344, 'afastou': 1345, 'peço': 1346, 'deixai': 1347, 'm': 1348, 'hesitou': 1349, 'posto': 1350, 'prudencia': 1351, 'espectaculo': 1352, 'pergaminho': 1353, 'pouso': 1354, 'baixo': 1355, 'chamou': 1356, 'respiração': 1357, 'goytacaz': 1358, 'circumstancias': 1359, 'apparecia': 1360, 'dominar': 1361, 'pedia': 1362, 'sente': 1363, 'emoções': 1364, 'pensamentos': 1365, 'adeus': 1366, 'inabalavel': 1367, 'memoria': 1368, 'protected': 1369, 'an': 1370, 'free': 1371, 'compliance': 1372, 'donate': 1373, 'medium': 1374, 'replacement': 1375, 'volunteers': 1376, 'limited': 1377, 'received': 1378, 'taboa': 1379, 'lealdade': 1380, 'iii': 1381, 'vii': 1382, 'revelação': 1383, 'carmelita': 1384, 'despedida': 1385, 'vigor': 1386, 'virgens': 1387, 'palmeiras': 1388, 'descrever': 1389, 'lados': 1390, 'rocha': 1391, 'mattas': 1392, 'donde': 1393, 'tomado': 1394, 'pedras': 1395, 'brancas': 1396, 'severo': 1397, 'delicado': 1398, 'cupola': 1399, 'collocado': 1400, 'escarlates': 1401, 'ninho': 1402, 'innocencia': 1403, 'leal': 1404, 'recursos': 1405, 'rapida': 1406, 'lei': 1407, 'devemos': 1408, 'corrião': 1409, 'passárão': 1410, 'entendo': 1411, 'perolas': 1412, 'gentil': 1413, 'creio': 1414, 'devo': 1415, 'pedi': 1416, 'las': 1417, 'pergunta': 1418, 'aquillo': 1419, 'coberto': 1420, 'estatura': 1421, 'fallais': 1422, 'seguirão': 1423, 'negro': 1424, 'pulo': 1425, 'movimentos': 1426, 'impaciencia': 1427, 'resposta': 1428, 'temendo': 1429, 'trinta': 1430, 'apoiado': 1431, 'tocava': 1432, 'metteu': 1433, 'escondeu': 1434, 'moribundo': 1435, 'refeição': 1436, 'passavão': 1437, 'possa': 1438, 'tuas': 1439, 'saltar': 1440, 'cão': 1441, 'abanou': 1442, 'corando': 1443, 'dirigindo': 1444, 'brilhavão': 1445, 'pequenos': 1446, 'dize': 1447, 'passeio': 1448, 'ide': 1449, 'marido': 1450, 'cheia': 1451, 'solemne': 1452, 'grave': 1453, 'suspiro': 1454, 'impressão': 1455, 'repouso': 1456, 'instantes': 1457, 'fizera': 1458, 'barreira': 1459, 'confuso': 1460, 'leva': 1461, 'fossem': 1462, 'soffrimento': 1463, 'resolvido': 1464, 'cipós': 1465, 'milagre': 1466, 'ardentes': 1467, 'violencia': 1468, 'poucos': 1469, 'humana': 1470, 'conservar': 1471, 'admirava': 1472, 'viesse': 1473, 'revelar': 1474, 'haste': 1475, 'fresta': 1476, 'murmurava': 1477, 'chamar': 1478, 'cardos': 1479, 'fallavão': 1480, 'perigos': 1481, 'lembrando': 1482, 'illuminou': 1483, 'exemplo': 1484, 'ouvi': 1485, 'abrindo': 1486, 'di': 1487, 'pedio': 1488, 'viera': 1489, 'incidente': 1490, 'goytacazes': 1491, 'hospitalidade': 1492, 'recebeu': 1493, 'torrente': 1494, 'têm': 1495, 'punição': 1496, 'passa': 1497, 'comtigo': 1498, 'tantas': 1499, 'deos': 1500, 'prompto': 1501, 'fazê': 1502, 'le': 1503, 'give': 1504, 'online': 1505, 'check': 1506, 'country': 1507, 'before': 1508, 'pequenas': 1509, 'i': 1510, 'iv': 1511, 'v': 1512, 'loura': 1513, 'viii': 1514, 'ix': 1515, 'x': 1516, 'xi': 1517, 'soltando': 1518, 'cascata': 1519, 'serpente': 1520, 'altivo': 1521, 'flores': 1522, 'penetrar': 1523, 'arte': 1524, 'meios': 1525, 'borda': 1526, 'vigorosa': 1527, 'formando': 1528, 'tecto': 1529, 'respirava': 1530, 'centro': 1531, 'vermelho': 1532, 'docel': 1533, 'couro': 1534, 'espaldar': 1535, 'aves': 1536, 'victoria': 1537, 'trabalhos': 1538, 'páo': 1539, 'zelo': 1540, 'fidelidade': 1541, 'curvou': 1542, 'joelho': 1543, 'habitantes': 1544, 'proprios': 1545, 'justiça': 1546, 'sahida': 1547, 'ambição': 1548, 'habito': 1549, 'vião': 1550, 'tranquilla': 1551, 'acto': 1552, 'armados': 1553, 'brilhantes': 1554, 'seguia': 1555, 'collocou': 1556, 'vejo': 1557, 'rubor': 1558, 'terceira': 1559, 'cortar': 1560, 'minhas': 1561, 'levantando': 1562, 'par': 1563, 'alvura': 1564, 'envolvia': 1565, 'occaso': 1566, 'proferir': 1567, 'conservou': 1568, 'dito': 1569, 'fizestes': 1570, 'vale': 1571, 'satisfazer': 1572, 'surda': 1573, 'ramos': 1574, 'boca': 1575, 'fitava': 1576, 'salto': 1577, 'bateu': 1578, 'ditas': 1579, 'tiro': 1580, 'tiros': 1581, 'houvesse': 1582, 'palmos': 1583, 'acompanhado': 1584, 'inquietação': 1585, 'sentira': 1586, 'promptos': 1587, 'velocidade': 1588, 'pernas': 1589, 'laços': 1590, 'cordas': 1591, 'pôr': 1592, 'examinou': 1593, 'rosa': 1594, 'vestido': 1595, 'mãozinha': 1596, 'perfumes': 1597, 'enlevo': 1598, 'bater': 1599, 'fugia': 1600, 'chorar': 1601, 'facil': 1602, 'acreditar': 1603, 'estás': 1604, 'esperando': 1605, 'feio': 1606, 'batendo': 1607, 'desdem': 1608, 'escuta': 1609, 'importa': 1610, 'inquieta': 1611, 'imprudencia': 1612, 'sentados': 1613, 'esperanças': 1614, 'olhares': 1615, 'moços': 1616, 'orvalho': 1617, 'ave': 1618, 'brincar': 1619, 'ajoelhou': 1620, 'offereceu': 1621, 'immenso': 1622, 'faça': 1623, 'abnegação': 1624, 'sómente': 1625, 'grossas': 1626, 'beber': 1627, 'bebidas': 1628, 'misser': 1629, 'subio': 1630, 'percebeu': 1631, 'escondido': 1632, 'pensou': 1633, 'poderia': 1634, 'aquellas': 1635, 'corações': 1636, 'entrava': 1637, 'vaga': 1638, 'silenciosa': 1639, 'subtil': 1640, 'trouxe': 1641, 'scenas': 1642, 'ligeira': 1643, 'correnteza': 1644, 'inutil': 1645, 'sequer': 1646, 'encanto': 1647, 'sentada': 1648, 'ameaçava': 1649, 'musculos': 1650, 'vencido': 1651, 'começado': 1652, 'ganhar': 1653, 'bugre': 1654, 'trazer': 1655, 'cortou': 1656, 'podeis': 1657, 'fará': 1658, 'numero': 1659, 'desobediencia': 1660, 'praticar': 1661, 'encostou': 1662, 'cahirão': 1663, '_cecy_': 1664, 'pronunciou': 1665, 'ignorava': 1666, 'segui': 1667, 'impassivel': 1668, 'desesperado': 1669, 'fôr': 1670, 'realisação': 1671, 'dizendo': 1672, 'sopro': 1673, 'tempestade': 1674, 'alvo': 1675, 'estrella': 1676, 'pede': 1677, 'estima': 1678, 'cem': 1679, 'chama': 1680, 'lamina': 1681, 'quebrar': 1682, 'soou': 1683, 'sonhos': 1684, 'escarlate': 1685, 'ajoelhar': 1686, 'commovido': 1687, 'amo': 1688, 'podes': 1689, 'soffria': 1690, 'anciedade': 1691, 'sereis': 1692, 'guardava': 1693, 'acabar': 1694, 'escuras': 1695, 'destacava': 1696, 'indigena': 1697, 'preparado': 1698, 'editions': 1699, 'creating': 1700, 'general': 1701, 'part': 1702, 'copying': 1703, 'except': 1704, 'following': 1705, 'mission': 1706, 'person': 1707, '8': 1708, 'collection': 1709, 'individual': 1710, 'right': 1711, 'displaying': 1712, 'support': 1713, 'freely': 1714, 'format': 1715, 'status': 1716, 'distributed': 1717, 'posted': 1718, 'holder': 1719, 'fees': 1720, 'providing': 1721, 'requirements': 1722, 'form': 1723, 'website': 1724, 'provided': 1725, 'owner': 1726, 'but': 1727, 'within': 1728, 'days': 1729, 'contact': 1730, 'cannot': 1731, 'damages': 1732, 'how': 1733, 'our': 1734, 'desesperada': 1735, 'fieis': 1736, 'celeste': 1737, 'joão': 1738, 'revoltados': 1739, 'esposa': 1740, 'chammas': 1741, 'l': 1742, 'travessura': 1743, 'soberbo': 1744, 'noiva': 1745, 'civilisação': 1746, 'descer': 1747, 'tornava': 1748, 'impenetravel': 1749, 'pateo': 1750, 'altura': 1751, 'finalmente': 1752, 'cujos': 1753, 'chuva': 1754, 'defronte': 1755, 'lindas': 1756, 'pelles': 1757, 'commoda': 1758, 'brasil': 1759, 'negras': 1760, 'perfume': 1761, 'herdeiro': 1762, 'contas': 1763, 'costumes': 1764, 'moral': 1765, 'batia': 1766, 'separava': 1767, 'marcha': 1768, 'enleio': 1769, 'sebastião': 1770, 'fitando': 1771, 'acções': 1772, 'justo': 1773, 'moreno': 1774, 'agil': 1775, 'cavalgata': 1776, 'offerecia': 1777, 'tomára': 1778, 'tenha': 1779, 'domingo': 1780, 'cobra': 1781, 'tunica': 1782, 'chamavão': 1783, 'cantos': 1784, 'inculta': 1785, 'erguia': 1786, 'agitava': 1787, 'enorme': 1788, 'procurando': 1789, 'abatido': 1790, 'precaução': 1791, 'necessaria': 1792, 'deixasse': 1793, 'instinctos': 1794, 'debalde': 1795, 'minutos': 1796, 'segurando': 1797, 'muitas': 1798, 'tornando': 1799, 'dahi': 1800, 'arrancou': 1801, 'flexa': 1802, 'longas': 1803, 'contemplar': 1804, 'preparar': 1805, 'palpebras': 1806, 'pousar': 1807, 'sinto': 1808, 'rindo': 1809, 'amas': 1810, 'serei': 1811, 'beijando': 1812, 'dão': 1813, 'rolinha': 1814, 'surpreza': 1815, 'seguro': 1816, 'casta': 1817, 'dedicados': 1818, 'má': 1819, 'inclinou': 1820, 'continuar': 1821, 'ultimos': 1822, 'companheira': 1823, 'menores': 1824, 'dirigia': 1825, 'erguêrão': 1826, 'desejos': 1827, 'contemplação': 1828, 'continha': 1829, 'pensando': 1830, 'roda': 1831, 'juntos': 1832, 'tenue': 1833, 'distinguir': 1834, 'voltára': 1835, 'sentido': 1836, 'prenda': 1837, 'adivinhava': 1838, 'importava': 1839, 'julgava': 1840, 'destruir': 1841, 'pedido': 1842, 'espelho': 1843, 'pezar': 1844, 'pensativa': 1845, 'quizesse': 1846, 'exclamação': 1847, 'fabuloso': 1848, 'invencivel': 1849, 'deixará': 1850, 'voltárão': 1851, 'pensar': 1852, 'choque': 1853, 'voluptuosidade': 1854, 'fizesse': 1855, 'arvoredo': 1856, 'espantosa': 1857, 'causava': 1858, 'cambraia': 1859, 'aproximando': 1860, 'arrancar': 1861, 'escapava': 1862, 'fraqueza': 1863, 'féra': 1864, 'apertando': 1865, 'proprio': 1866, 'salvado': 1867, 'dando': 1868, 'ameaçavão': 1869, 'pedindo': 1870, 'fui': 1871, 'gratidão': 1872, 'abaixando': 1873, 'esconder': 1874, 'quebrado': 1875, 'abandonado': 1876, 'gigantesca': 1877, 'vaso': 1878, 'tomasse': 1879, 'moitas': 1880, 'acompanhar': 1881, 'brilhárão': 1882, 'esperai': 1883, 'tremulos': 1884, 'cava': 1885, 'dominava': 1886, 'relampago': 1887, 'conseguira': 1888, 'santa': 1889, 'furor': 1890, 'roteiro': 1891, 'agitavão': 1892, 'pressão': 1893, 'cadaver': 1894, 'cobrio': 1895, 'adivinhar': 1896, 'profundamente': 1897, 'taba': 1898, 'vimos': 1899, 'mostrar': 1900, 'taça': 1901, 'organisação': 1902, 'situação': 1903, 'temia': 1904, 'nasceu': 1905, 'remorso': 1906, 'insulto': 1907, 'fatalidade': 1908, 'reflectia': 1909, 'dizem': 1910, 'votava': 1911, 'restavão': 1912, 'admirou': 1913, 'irmãs': 1914, 'tranquillidade': 1915, 'aymoré': 1916, 'mortos': 1917, 'suprema': 1918, 'dou': 1919, 'partido': 1920, 'soares': 1921, 'conhecião': 1922, 'realmente': 1923, '7': 1924, 'magestoso': 1925, 'visão': 1926, 'repousava': 1927, 'fechada': 1928, 'abandonar': 1929, 'tumulo': 1930, 'montante': 1931, 'clava': 1932, 'turbilhão': 1933, 'estrondo': 1934, 'ruinas': 1935, 'cost': 1936, 'away': 1937, 'included': 1938, 'date': 1939, 'available': 1940, 'start': 1941, 'xii': 1942, 'xiii': 1943, 'xiv': 1944, 'leguas': 1945, 'perde': 1946, 'pello': 1947, 'carreira': 1948, 'eminencia': 1949, 'cincoenta': 1950, 'seguião': 1951, 'largas': 1952, 'estacada': 1953, 'esquerdo': 1954, 'aza': 1955, 'angulo': 1956, 'podemos': 1957, 'damasco': 1958, 'suspensa': 1959, 'tapete': 1960, 'segurava': 1961, 'cahindo': 1962, 'portuguezes': 1963, 'nesses': 1964, 'entendia': 1965, 'abrião': 1966, 'conhecemos': 1967, 'tribus': 1968, 'facilmente': 1969, 'commum': 1970, 'rico': 1971, 'obediencia': 1972, 'quarenta': 1973, 'capaz': 1974, 'drama': 1975, 'busca': 1976, 'descoberta': 1977, 'occasiões': 1978, 'oito': 1979, 'suspeita': 1980, 'surdo': 1981, 'acaso': 1982, 'tive': 1983, 'lembrar': 1984, 'typo': 1985, 'estreita': 1986, 'reinava': 1987, 'interrompido': 1988, 'sahindo': 1989, 'cumpre': 1990, 'escapou': 1991, 'estremecer': 1992, 'encostado': 1993, 'lisa': 1994, 'pupilla': 1995, 'davão': 1996, 'pallidos': 1997, 'cauda': 1998, 'serenidade': 1999, 'fizerão': 2000, 'traz': 2001, 'vacillou': 2002, 'cascavel': 2003, 'debaixo': 2004, 'voltas': 2005, 'abateu': 2006, 'cahira': 2007, 'soltar': 2008, 'gemido': 2009, 'passando': 2010, 'trajo': 2011, 'talho': 2012, 'fios': 2013, 'languidez': 2014, 'imaginação': 2015, 'sonhava': 2016, 'timido': 2017, 'rainha': 2018, 'inexprimivel': 2019, 'irresistivel': 2020, 'cá': 2021, 'passarinho': 2022, 'admirada': 2023, 'escura': 2024, 'mesmas': 2025, 'zangada': 2026, 'desapparecido': 2027, 'envolta': 2028, 'perturbação': 2029, 'linho': 2030, 'espuma': 2031, 'terreno': 2032, 'creatura': 2033, 'dizes': 2034, 'experiencia': 2035, 'injuria': 2036, 'voltará': 2037, 'ornatos': 2038, 'culto': 2039, 'repugnancia': 2040, 'salvador': 2041, 'retirado': 2042, 'deitava': 2043, 'concerto': 2044, 'influencia': 2045, 'montanha': 2046, 'echo': 2047, 'morre': 2048, 'temor': 2049, 'sons': 2050, 'descobrirão': 2051, 'christã': 2052, 'mattos': 2053, 'acontecimento': 2054, 'sabemos': 2055, 'atirar': 2056, 'cega': 2057, 'comsigo': 2058, 'apertar': 2059, 'salvára': 2060, 'vozes': 2061, 'espiritos': 2062, 'vasco': 2063, 'perda': 2064, 'manto': 2065, 'elevando': 2066, 'encosta': 2067, 'esqueceu': 2068, 'satisfeita': 2069, 'duzentos': 2070, 'estender': 2071, 'paixões': 2072, 'condição': 2073, 'primeiras': 2074, 'aceitar': 2075, 'máo': 2076, 'fórmas': 2077, 'precipitar': 2078, 'mandava': 2079, 'veria': 2080, 'martyrio': 2081, 'percebido': 2082, 'crystal': 2083, 'providencia': 2084, 'delirio': 2085, 'vermelha': 2086, 'ares': 2087, 'peixe': 2088, 'intelligente': 2089, 'desceu': 2090, 'alguem': 2091, 'sentirão': 2092, 'trahir': 2093, 'mysterio': 2094, 'perseguia': 2095, 'procura': 2096, 'opposta': 2097, 'verdes': 2098, 'lutar': 2099, 'estrepito': 2100, 'áquella': 2101, 'féras': 2102, 'trazê': 2103, 'revolução': 2104, 'murmurio': 2105, 'vereis': 2106, 'seremos': 2107, 'fazei': 2108, 'roupa': 2109, 'concluio': 2110, 'chega': 2111, 'entrado': 2112, 'apanhou': 2113, 'cãozinho': 2114, 'partia': 2115, 'avistou': 2116, 'afflicção': 2117, 'espinhos': 2118, 'romper': 2119, 'execução': 2120, 'christo': 2121, 'soffreu': 2122, 'infernal': 2123, 'confessar': 2124, 'espadas': 2125, 'encontrão': 2126, 'botija': 2127, 'vasos': 2128, 'aproveitar': 2129, 'aviso': 2130, 'oceano': 2131, 'insecto': 2132, 'alpendrada': 2133, 'luca': 2134, 'mezes': 2135, 'estão': 2136, 'olho': 2137, 'livido': 2138, 'chegárão': 2139, 'clarão': 2140, 'legado': 2141, 'descripção': 2142, 'prometto': 2143, 'final': 2144, 'mar': 2145, 'fogos': 2146, 'frescura': 2147, 'toma': 2148, 'soffrido': 2149, 'presentes': 2150, 'trazendo': 2151, 'favoravel': 2152, 'verdadeira': 2153, 'vigoroso': 2154, 'podessem': 2155, 'venceu': 2156, 'escapar': 2157, 'ossos': 2158, 'soube': 2159, 'particular': 2160, 'melancolica': 2161, 'presentimento': 2162, 'consolava': 2163, 'agitou': 2164, 'mostrando': 2165, 'recuou': 2166, 'razões': 2167, 'prevenir': 2168, 'commetter': 2169, 'amasse': 2170, 'ali': 2171, 'agarrou': 2172, 'vivas': 2173, 'consolo': 2174, 'somos': 2175, 'perdoar': 2176, 'corpos': 2177, 'começo': 2178, 'gota': 2179, 'subita': 2180, 'veias': 2181, 'amado': 2182, 'vultos': 2183, 'abrirão': 2184, 'derão': 2185, 'flechas': 2186, 'inerte': 2187, 'encaminhou': 2188, 'incendio': 2189, 'means': 2190, 'these': 2191, 'paying': 2192, 'royalties': 2193, 'used': 2194, 'complying': 2195, 'derivative': 2196, 'please': 2197, 'read': 2198, 'return': 2199, 'obtain': 2200, 'entity': 2201, 'people': 2202, 'who': 2203, 'see': 2204, 'below': 2205, 'help': 2206, 'future': 2207, 'public': 2208, 'performing': 2209, 'its': 2210, 'than': 2211, 'unless': 2212, 'links': 2213, 'notice': 2214, 'paragraphs': 2215, '9': 2216, 'additional': 2217, 'up': 2218, 'official': 2219, 'user': 2220, 'royalty': 2221, 'applicable': 2222, 'he': 2223, 'payments': 2224, 'money': 2225, 'writing': 2226, 'defect': 2227, 'efforts': 2228, 'defective': 2229, 'equipment': 2230, 'disclaimer': 2231, 'liability': 2232, 'written': 2233, 'warranties': 2234, 'limitation': 2235, 'make': 2236, 'new': 2237, 'number': 2238, 'brecha': 2239, 'adormecido': 2240, 'chamma': 2241, 'montão': 2242, 'restava': 2243, 'delia': 2244, 'limpido': 2245, 'supplicando': 2246, 'supplicar': 2247, 'fumaça': 2248, 'prendia': 2249, 'tagapema': 2250, 'montanhas': 2251, '_curarê_': 2252, 'heroica': 2253, 'j': 2254, '71': 2255, 'rua': 2256, 'autor': 2257, '111': 2258, 'trama': 2259, 'chacara': 2260, 'submisso': 2261, 'patria': 2262, 'elementos': 2263, 'metade': 2264, 'descendo': 2265, 'degráos': 2266, 'crear': 2267, 'gradualmente': 2268, 'principal': 2269, 'cercado': 2270, 'coberta': 2271, 'rica': 2272, 'esplendida': 2273, 'olhando': 2274, 'precipitava': 2275, 'capricho': 2276, 'nascido': 2277, 'serve': 2278, 'ordinariamente': 2279, 'vôo': 2280, 'cortina': 2281, 'servio': 2282, 'modificar': 2283, 'antiga': 2284, 'prior': 2285, 'horizontes': 2286, 'échos': 2287, 'começárão': 2288, 'resistencia': 2289, 'lugares': 2290, 'colonos': 2291, 'abrigar': 2292, 'recebia': 2293, 'paquequer': 2294, 'mantinha': 2295, 'tempos': 2296, 'igual': 2297, 'conselho': 2298, 'harmonia': 2299, 'superioridade': 2300, 'rodeado': 2301, 'considerava': 2302, 'egoista': 2303, 'principaes': 2304, 'arcabuz': 2305, 'adiante': 2306, 'cobertos': 2307, 'sertões': 2308, 'cavallo': 2309, 'cedo': 2310, 'ironia': 2311, 'assomou': 2312, 'ligar': 2313, 'perguntas': 2314, 'áquelles': 2315, 'dei': 2316, 'fazeis': 2317, 'creação': 2318, 'troncos': 2319, 'seculares': 2320, 'involuntariamente': 2321, 'descobria': 2322, 'vo': 2323, 'faisca': 2324, 'depressa': 2325, 'virtude': 2326, 'feira': 2327, 'justamente': 2328, 'conter': 2329, 'fazem': 2330, 'habitual': 2331, 'esqueceis': 2332, 'olhárão': 2333, 'arcabuzes': 2334, 'abobada': 2335, 'indigenas': 2336, 'cobre': 2337, 'brilhava': 2338, 'dourados': 2339, 'prendião': 2340, 'flexivel': 2341, 'delicadas': 2342, 'veloz': 2343, 'corrida': 2344, 'brilhar': 2345, 'garras': 2346, 'fortemente': 2347, 'perdia': 2348, 'curto': 2349, 'arriscar': 2350, 'amiga': 2351, 'exprimir': 2352, 'comprehendêrão': 2353, 'fraca': 2354, 'formulou': 2355, 'ferir': 2356, 'patas': 2357, 'adiantando': 2358, 'palpitava': 2359, 'presas': 2360, 'abafado': 2361, 'esforços': 2362, 'captivo': 2363, 'halito': 2364, 'offendida': 2365, 'inspirava': 2366, 'reclinando': 2367, 'nascer': 2368, 'nestes': 2369, 'montes': 2370, 'vês': 2371, 'succedeu': 2372, 'terem': 2373, 'pensas': 2374, 'caçar': 2375, 'ficará': 2376, 'respeitão': 2377, 'obedecer': 2378, 'risonha': 2379, 'repetio': 2380, 'daria': 2381, 'porte': 2382, 'velludo': 2383, 'descoberto': 2384, 'caminhava': 2385, 'sagacidade': 2386, 'julgais': 2387, 'indigna': 2388, 'atravessava': 2389, 'respeitosa': 2390, 'guardar': 2391, 'defende': 2392, 'soleira': 2393, 'escondia': 2394, 'perdida': 2395, 'throno': 2396, 'perdendo': 2397, 'balbuciando': 2398, 'fugio': 2399, 'mocidade': 2400, 'intimo': 2401, 'curvar': 2402, 'novas': 2403, 'calice': 2404, 'graves': 2405, 'creador': 2406, 'perdidos': 2407, 'suspenso': 2408, 'recebido': 2409, 'pretexto': 2410, 'esquecia': 2411, 'salvando': 2412, 'campa': 2413, 'naquelles': 2414, 'recusa': 2415, 'magoa': 2416, 'talhas': 2417, 'embriaguez': 2418, 'proferio': 2419, 'voto': 2420, 'achais': 2421, 'valia': 2422, 'vistes': 2423, 'medida': 2424, 'cujas': 2425, 'infinito': 2426, 'caixinha': 2427, 'braça': 2428, 'plainava': 2429, 'assomo': 2430, 'pesava': 2431, 'passára': 2432, 'enthusiasmo': 2433, 'entregava': 2434, 'iria': 2435, 'merecer': 2436, 'caminhar': 2437, 'reptis': 2438, 'cobras': 2439, 'imagens': 2440, 'louca': 2441, 'forma': 2442, 'brilhou': 2443, 'cerrou': 2444, 'alcance': 2445, 'rostinho': 2446, 'infeliz': 2447, 'recordações': 2448, 'segredos': 2449, 'terriveis': 2450, 'rompeu': 2451, 'raiar': 2452, 'bonita': 2453, 'ouve': 2454, 'cantar': 2455, 'toca': 2456, 'delicadeza': 2457, 'obrigada': 2458, 'lembra': 2459, 'deu': 2460, 'admira': 2461, 'acompanha': 2462, 'quieto': 2463, 'visse': 2464, 'offender': 2465, 'beijar': 2466, 'empallideceu': 2467, 'violentas': 2468, 'ramagem': 2469, 'soubesse': 2470, 'morreu': 2471, 'barquinho': 2472, 'illudir': 2473, 'arbustos': 2474, 'produzido': 2475, 'portanto': 2476, 'chamava': 2477, 'lutava': 2478, 'grandeza': 2479, 'balsamo': 2480, 'murmurando': 2481, 'esteja': 2482, 'tocando': 2483, 'acaba': 2484, 'reflexões': 2485, 'cama': 2486, 'seios': 2487, 'pretendeis': 2488, 'aceno': 2489, 'pedes': 2490, 'curiosidade': 2491, 'commovida': 2492, 'accento': 2493, 'ambas': 2494, 'graças': 2495, 'vizinhanças': 2496, 'provisão': 2497, 'victimas': 2498, 'enchia': 2499, 'vermelhas': 2500, 'carne': 2501, 'inutilmente': 2502, 'prudente': 2503, 'columna': 2504, 'respondia': 2505, 'sentidos': 2506, 'instrumento': 2507, 'applicou': 2508, 'poderá': 2509, 'cipó': 2510, 'descobrir': 2511, 'remedio': 2512, 'denunciar': 2513, 'servirão': 2514, 'podem': 2515, 'violento': 2516, 'reparação': 2517, 'achar': 2518, 'padre': 2519, 'felippe': 2520, 'letras': 2521, 'trovão': 2522, 'carmo': 2523, 'convento': 2524, 'sahido': 2525, 'catastrophe': 2526, 'confissão': 2527, 'parente': 2528, 'diversas': 2529, 'factos': 2530, 'quantos': 2531, 'chave': 2532, 'resta': 2533, 'estivera': 2534, '_roteiro': 2535, 'graciosas': 2536, 'sinistra': 2537, 'tremendo': 2538, 'obstaculo': 2539, 'levantava': 2540, 'reunida': 2541, 'retiro': 2542, 'volvendo': 2543, 'imprevisto': 2544, 'salvaste': 2545, 'cinza': 2546, 'barbaro': 2547, 'obedece': 2548, 'levado': 2549, 'recusava': 2550, 'intenção': 2551, 'soberano': 2552, 'observação': 2553, 'preparava': 2554, 'audacia': 2555, 'suppunha': 2556, 'deixára': 2557, 'insensivelmente': 2558, 'subia': 2559, 'assustou': 2560, 'destes': 2561, 'ausencia': 2562, 'vencida': 2563, 'exaltação': 2564, 'cobrião': 2565, 'obrigados': 2566, 'cruzando': 2567, 'destreza': 2568, 'hesitar': 2569, 'repassava': 2570, 'tira': 2571, 'comprehendêra': 2572, 'indignação': 2573, 'querião': 2574, 'córou': 2575, 'perfumado': 2576, 'figura': 2577, 'apoiada': 2578, 'ineffavel': 2579, 'faltava': 2580, 'tristes': 2581, 'horror': 2582, 'tornado': 2583, 'perdoa': 2584, 'titulo': 2585, 'indifferença': 2586, 'disposição': 2587, 'planta': 2588, 'povos': 2589, 'ficai': 2590, 'atacado': 2591, 'entreabrio': 2592, 'criminoso': 2593, 'generoso': 2594, 'encontrou': 2595, 'sinistras': 2596, 'aureola': 2597, 'explicação': 2598, 'supplico': 2599, 'causado': 2600, 'desfallecida': 2601, 'serena': 2602, 'esperasse': 2603, 'carta': 2604, 'conhecido': 2605, 'perceber': 2606, 'sêde': 2607, 'paiz': 2608, 'povoado': 2609, 'succumbir': 2610, 'repellia': 2611, 'esclarecido': 2612, '6': 2613, 'g': 2614, '_jacy': 2615, 'sortida': 2616, 'combatentes': 2617, 'et': 2618, 'salvasse': 2619, 'hallucinação': 2620, 'mudos': 2621, 'prancha': 2622, 'pudor': 2623, 'roupas': 2624, 'liquido': 2625, 'fechando': 2626, 'confiado': 2627, 'soccorro': 2628, 'confusão': 2629, 'tranquillos': 2630, 'impellida': 2631, 'muro': 2632, 'feições': 2633, 'destruido': 2634, 'inevitavel': 2635, 'christãos': 2636, 'destruição': 2637, 'escravos': 2638, 'tocado': 2639, 'destinada': 2640, 'começavão': 2641, 'despensa': 2642, 'envolvião': 2643, 'membros': 2644, 'banquete': 2645, 'un': 2646, 'attento': 2647, 'fogueira': 2648, 'remo': 2649, 'tamandaré': 2650, 'anywhere': 2651, 'parts': 2652, 'world': 2653, 'almost': 2654, 'restrictions': 2655, 'whatsoever': 2656, 're': 2657, 'alencar': 2658, 'garnier': 2659, '1883': 2660, 'library': 2661, 'edição': 2662, 'ficão': 2663, 'propriedade': 2664, 'rever': 2665, 'divida': 2666, 'scenario': 2667, 'morena': 2668, 'vilania': 2669, 'recebe': 2670, 'torna': 2671, 'enroscando': 2672, 'embeber': 2673, 'rola': 2674, 'sobranceiro': 2675, 'curva': 2676, 'tapir': 2677, 'enchendo': 2678, 'estampido': 2679, 'precipita': 2680, 'trepadeiras': 2681, 'agrestes': 2682, 'luxo': 2683, 'construida': 2684, 'muralha': 2685, 'cortada': 2686, 'encontrava': 2687, 'fenda': 2688, 'curvava': 2689, 'crescião': 2690, 'tamanho': 2691, 'fendas': 2692, 'pesada': 2693, 'jacarandá': 2694, 'paredes': 2695, 'formado': 2696, 'occultava': 2697, 'fechado': 2698, 'lampada': 2699, 'distante': 2700, 'formas': 2701, 'varias': 2702, 'garça': 2703, 'aroma': 2704, 'beijoim': 2705, 'cavalheiros': 2706, 'ataques': 2707, 'governador': 2708, 'en': 2709, 'serviços': 2710, 'explorações': 2711, 'vierão': 2712, 'portugueza': 2713, 'pedro': 2714, 'legitimo': 2715, 'solar': 2716, 'viverás': 2717, 'adormecidos': 2718, 'reino': 2719, 'vender': 2720, 'precauções': 2721, 'media': 2722, 'civilisado': 2723, 'disciplina': 2724, 'justa': 2725, 'extremos': 2726, 'cumpria': 2727, 'demora': 2728, 'hesitação': 2729, 'igualmente': 2730, 'leis': 2731, 'usos': 2732, 'prejuizos': 2733, 'amores': 2734, 'mesmos': 2735, 'quinze': 2736, 'rios': 2737, 'gentileza': 2738, 'restão': 2739, 'avançando': 2740, 'corou': 2741, 'reparo': 2742, 'disfarçar': 2743, 'velha': 2744, 'mimo': 2745, 'decididamente': 2746, 'lembro': 2747, 'quizerdes': 2748, 'preoccupado': 2749, 'barba': 2750, 'profundas': 2751, 'penetrava': 2752, 'rumores': 2753, 'seccas': 2754, 'ergueo': 2755, 'atravez': 2756, 'dê': 2757, 'entender': 2758, 'lançárão': 2759, 'claramente': 2760, 'circumstancia': 2761, 'distracção': 2762, 'excellente': 2763, 'simplicidade': 2764, 'contai': 2765, 'officio': 2766, 'espião': 2767, 'infame': 2768, 'impassibilidade': 2769, 'rugido': 2770, 'empallidecêrão': 2771, 'decepado': 2772, 'talhe': 2773, 'pretos': 2774, 'alvos': 2775, 'fita': 2776, 'plumas': 2777, 'apoiava': 2778, 'andar': 2779, 'forcado': 2780, 'bolsa': 2781, 'munições': 2782, 'imperceptivelmente': 2783, 'grosso': 2784, 'mandibulas': 2785, 'aspiravão': 2786, 'agradavel': 2787, 'pontaria': 2788, 'contentamento': 2789, 'bramido': 2790, 'escapasse': 2791, 'fugindo': 2792, 'inclinado': 2793, 'sabor': 2794, 'serem': 2795, 'cautela': 2796, 'usar': 2797, 'unhas': 2798, 'tratou': 2799, 'cuidou': 2800, 'seguido': 2801, 'surgio': 2802, 'amarellas': 2803, 'entranhou': 2804, 'longes': 2805, 'suaves': 2806, 'certas': 2807, 'perfeição': 2808, 'brincava': 2809, 'oscillação': 2810, 'palpitante': 2811, 'cheios': 2812, 'preces': 2813, 'resignação': 2814, 'differente': 2815, 'contraste': 2816, 'deitada': 2817, 'bandas': 2818, 'beija': 2819, 'travessa': 2820, 'comprehendo': 2821, 'succeder': 2822, 'suavidade': 2823, 'regaço': 2824, 'ultimas': 2825, 'devem': 2826, 'severa': 2827, 'exijo': 2828, 'saltando': 2829, 'passada': 2830, 'carinho': 2831, 'trazem': 2832, 'carregando': 2833, 'tomárão': 2834, 'cercava': 2835, 'pluma': 2836, 'antigo': 2837, 'raposa': 2838, 'sra': 2839, 'mereço': 2840, 'daqui': 2841, 'ermo': 2842, 'cercada': 2843, 'escusado': 2844, 'vindo': 2845, 'servindo': 2846, 'subirão': 2847, 'separárão': 2848, 'sahião': 2849, 'confusa': 2850, 'diversos': 2851, 'cabeças': 2852, 'veneravel': 2853, 'grupos': 2854, 'silvestres': 2855, 'alvas': 2856, 'palmas': 2857, 'soltava': 2858, 'toque': 2859, 'esclarecia': 2860, 'divindade': 2861, 'ceia': 2862, 'reunião': 2863, 'caçada': 2864, 'ficara': 2865, 'animavão': 2866, 'escutava': 2867, 'pausa': 2868, 'inda': 2869, 'enxugando': 2870, 'conversava': 2871, 'admirar': 2872, 'queremos': 2873, 'ficado': 2874, 'guardai': 2875, 'respeitava': 2876, 'deserta': 2877, 'faze': 2878, 'joven': 2879, 'entregar': 2880, 'cercavão': 2881, 'metal': 2882, 'affonso': 2883, 'deita': 2884, 'rir': 2885, 'olá': 2886, 'encher': 2887, 'sentinella': 2888, 'venha': 2889, 'polvora': 2890, 'atacarão': 2891, 'após': 2892, 'opposto': 2893, 'contado': 2894, 'arranca': 2895, 'precioso': 2896, 'arranjou': 2897, 'sahira': 2898, 'suspendeu': 2899, 'segurou': 2900, 'gigante': 2901, 'examinava': 2902, 'colher': 2903, 'collocados': 2904, 'verdadeiras': 2905, 'febre': 2906, 'brazão': 2907, 'timidez': 2908, 'custo': 2909, 'affecto': 2910, 'perdoaria': 2911, 'realidade': 2912, 'ciume': 2913, 'inquieto': 2914, 'mataria': 2915, 'polida': 2916, 'insectos': 2917, 'percebia': 2918, 'pondo': 2919, 'surdamente': 2920, 'faltasse': 2921, 'enigma': 2922, 'tirava': 2923, 'enroscava': 2924, 'poderoso': 2925, 'pó': 2926, 'arzinho': 2927, 'acha': 2928, 'divino': 2929, 'deixarás': 2930, 'defenderem': 2931, 'louro': 2932, 'vertia': 2933, 'começára': 2934, 'banhar': 2935, 'caçador': 2936, 'parava': 2937, 'elevação': 2938, 'livres': 2939, 'profanação': 2940, 'offende': 2941, 'beijava': 2942, 'causar': 2943, 'constante': 2944, 'infatigavel': 2945, 'impotente': 2946, 'ler': 2947, 'indefinivel': 2948, 'lembrára': 2949, 'acabavão': 2950, 'blasphemia': 2951, 'branda': 2952, 'calor': 2953, 'calafrio': 2954, 'sumio': 2955, 'punha': 2956, 'exame': 2957, 'levada': 2958, 'offerece': 2959, 'estendendo': 2960, 'detraz': 2961, 'passasse': 2962, 'reflectio': 2963, 'ouvirão': 2964, 'touça': 2965, 'levava': 2966, 'materia': 2967, 'estorcendo': 2968, 'apoderava': 2969, 'velar': 2970, 'abraçou': 2971, 'convulsivamente': 2972, 'cabuiba': 2973, 'cimo': 2974, 'respirou': 2975, 'salvo': 2976, 'voltemos': 2977, 'personagem': 2978, 'atravessando': 2979, 'mente': 2980, 'culpa': 2981, 'destemido': 2982, 'importar': 2983, 'mergulhou': 2984, 'áquelle': 2985, 'morta': 2986, 'reflexão': 2987, 'hei': 2988, 'lh': 2989, 'decisivo': 2990, 'sobe': 2991, 'produzir': 2992, 'fascinava': 2993, 'opinião': 2994, 'inteira': 2995, 'partes': 2996, 'assustada': 2997, 'animou': 2998, 'pistola': 2999, 'desejas': 3000, 'teremos': 3001, 'importante': 3002, 'separar': 3003, 'parar': 3004, 'perturbado': 3005, 'pisadas': 3006, 'vinhos': 3007, 'alimentos': 3008, 'formosa': 3009, 'jaguar': 3010, 'volvia': 3011, 'testemunha': 3012, 'felizes': 3013, 'frocos': 3014, 'puxou': 3015, 'entendeu': 3016, 'tiverão': 3017, 'ferocidade': 3018, 'povo': 3019, 'assaltar': 3020, 'vestigio': 3021, 'exigia': 3022, 'agonisava': 3023, 'secca': 3024, 'daquellas': 3025, 'barro': 3026, 'casas': 3027, 'inteiro': 3028, 'buraco': 3029, 'conversavão': 3030, 'abalo': 3031, 'sumida': 3032, 'solemnidade': 3033, 'hirtos': 3034, 'assassinar': 3035, 'reprobo': 3036, 'dissestes': 3037, 'esqueci': 3038, 'pôz': 3039, 'arbusto': 3040, 'dará': 3041, 'reclinou': 3042, 'diabo': 3043, 'boas': 3044, 'ricos': 3045, 'fiz': 3046, 'offerecer': 3047, 'noticia': 3048, 'paga': 3049, 'felizmente': 3050, 'assentou': 3051, 'destino': 3052, 'serão': 3053, 'serás': 3054, 'bello': 3055, 'indomavel': 3056, 'igreja': 3057, 'gloria': 3058, 'fervor': 3059, 'fernão': 3060, 'aines': 3061, 'abrigo': 3062, 'despenhadeiro': 3063, 'raiz': 3064, 'quizerão': 3065, 'escuridão': 3066, 'bahia': 3067, 'guiado': 3068, 'crimes': 3069, 'souza': 3070, 'escolher': 3071, 'partilhar': 3072, 'occulto': 3073, 'aonde': 3074, 'hirto': 3075, 'apoderou': 3076, 'vacillante': 3077, 'rezava': 3078, '20': 3079, 'vagas': 3080, 'ouvião': 3081, 'espero': 3082, 'escreveu': 3083, 'vertigem': 3084, 'sentença': 3085, 'entrárão': 3086, 'passados': 3087, 'contemplava': 3088, 'saio': 3089, 'tremia': 3090, 'descia': 3091, 'tremulo': 3092, 'humilde': 3093, 'poetica': 3094, 'disserão': 3095, 'cor': 3096, 'noites': 3097, 'salvou': 3098, 'acompanhará': 3099, 'ficasse': 3100, 'voltasse': 3101, 'ignorante': 3102, 'phrases': 3103, 'velhos': 3104, 'pais': 3105, 'comnosco': 3106, 'effusão': 3107, 'bebe': 3108, 'trago': 3109, 'condições': 3110, 'conheço': 3111, 'aceito': 3112, 'deixara': 3113, 'apoderar': 3114, 'revelado': 3115, 'dissera': 3116, 'ficára': 3117, 'poucas': 3118, 'pagar': 3119, 'vinde': 3120, 'iris': 3121, 'vencê': 3122, 'arcos': 3123, 'sahia': 3124, 'guaranys': 3125, 'seguindo': 3126, 'exercia': 3127, 'deslisou': 3128, 'reminiscencias': 3129, 'afastava': 3130, 'destas': 3131, 'perdeu': 3132, 'sobrenatural': 3133, 'duvidas': 3134, 'frios': 3135, 'evitava': 3136, 'proposito': 3137, 'elevar': 3138, 'miseravel': 3139, 'cortado': 3140, 'revoltava': 3141, 'palpitações': 3142, 'ouvira': 3143, 'provas': 3144, 'accusação': 3145, 'possibilidade': 3146, 'sagrada': 3147, 'franqueza': 3148, 'fazes': 3149, 'conhece': 3150, 'santos': 3151, 'nomes': 3152, 'fosso': 3153, 'adivinhou': 3154, 'odiar': 3155, 'affeições': 3156, 'isenta': 3157, 'escamas': 3158, 'lançavão': 3159, 'cauan': 3160, 'balbuciava': 3161, 'écho': 3162, 'occultando': 3163, 'faço': 3164, 'mentir': 3165, 'paiol': 3166, 'conteve': 3167, 'volveu': 3168, 'confio': 3169, 'distrahido': 3170, 'contemplou': 3171, 'comprehendião': 3172, 'indicava': 3173, 'muitos': 3174, 'hesitava': 3175, 'estatua': 3176, 'languida': 3177, 'amada': 3178, 'ficaria': 3179, 'offensa': 3180, 'sós': 3181, 'operado': 3182, 'dilatou': 3183, 'envolveu': 3184, 'lembrado': 3185, 'compaixão': 3186, 'infancia': 3187, 'oscillava': 3188, 'afastárão': 3189, 'tido': 3190, 'encaminhárão': 3191, 'afastar': 3192, 'soffrião': 3193, 'nelles': 3194, 'impressionado': 3195, 'obstinação': 3196, 'occupava': 3197, 'arredores': 3198, 'musica': 3199, 'chronistas': 3200, 'epoca': 3201, 'casal': 3202, 'feitas': 3203, 'brazil_': 3204, 'fachos': 3205, 'one': 3206, 'old': 3207, 'owns': 3208, 'protect': 3209, 'concept': 3210, 'registered': 3211, 'anything': 3212, 'nearly': 3213, 'purpose': 3214, 'research': 3215, 'printed': 3216, 'redistribution': 3217, 'promoting': 3218, 'way': 3219, 'redistributing': 3220, 'intellectual': 3221, 'property': 3222, 'destroy': 3223, 'obtaining': 3224, 'bound': 3225, 'only': 3226, 'there': 3227, 'things': 3228, 'even': 3229, 'domain': 3230, 'based': 3231, 'references': 3232, 'removed': 3233, 'keeping': 3234, 'also': 3235, 'outside': 3236, 'concerning': 3237, 'sentence': 3238, 'active': 3239, 'immediate': 3240, 'prominently': 3241, 'copied': 3242, 'does': 3243, 'contain': 3244, 'through': 3245, 'found': 3246, 'marked': 3247, 'plain': 3248, 'vanilla': 3249, 'ascii': 3250, 'upon': 3251, 'specified': 3252, 'prepare': 3253, 'receipt': 3254, 'physical': 3255, 'accordance': 3256, '90': 3257, 'considerable': 3258, 'effort': 3259, 'they': 3260, 'computer': 3261, 'damage': 3262, 'warranty': 3263, 'costs': 3264, 'expenses': 3265, 'legal': 3266, 'breach': 3267, 'receive': 3268, 'explanation': 3269, 'lieu': 3270, 'electronically': 3271, 'second': 3272, 'implied': 3273, 'certain': 3274, 'shall': 3275, 'permitted': 3276, 'cause': 3277, 'readable': 3278, 'widest': 3279, 'computers': 3280, 'generations': 3281, 'was': 3282, 'created': 3283, 'page': 3284, 'exempt': 3285, 'federal': 3286, 'contributions': 3287, 'email': 3288, 'many': 3289, 'small': 3290, 'keep': 3291, 'solicit': 3292, 'visit': 3293, 'accepted': 3294, 'arrependimento': 3295, 'auxilio': 3296, 'entrecortadas': 3297, 'vigia': 3298, 'trocou': 3299, 'missão': 3300, 'atirado': 3301, 'animando': 3302, 'cubiculo': 3303, 'apertava': 3304, 'singular': 3305, 'entreabertos': 3306, 'mágoa': 3307, 'fique': 3308, 'nocturna': 3309, 'coruja': 3310, 'senha': 3311, 'tereis': 3312, 'horrorisado': 3313, 'baque': 3314, 'colcha': 3315, 'offegante': 3316, 'erguer': 3317, 'acendeu': 3318, 'destinado': 3319, 'sahisse': 3320, 'pronunciar': 3321, 'alvorada': 3322, 'angustia': 3323, 'radiante': 3324, 'apagar': 3325, 'solicitude': 3326, 'dorme': 3327, 'tremeu': 3328, 'pavimento': 3329, 'espantados': 3330, 'côro': 3331, 'inundação': 3332, 'exclamarão': 3333, 'assassino': 3334, 'rapidas': 3335, 'immoveis': 3336, 'colorido': 3337, 'elevou': 3338, 'queda': 3339, 'murmurios': 3340, 'instrumentos': 3341, 'alimento': 3342, 'despedaçar': 3343, 'cruzados': 3344, 'sentar': 3345, 'repassado': 3346, 'exprobação': 3347, 'ferozes': 3348, 'resvalou': 3349, 'infallivel': 3350, 'poltrona': 3351, 'aspirava': 3352, 'barbaros': 3353, 'roucos': 3354, 'velhas': 3355, 'poste': 3356, 'fadiga': 3357, 'escuro': 3358, 'dans': 3359, 'son': 3360, 'josé': 3361, 'quinta': 3362, 'direitos': 3363, 'benevolencia': 3364, 'mudou': 3365, 'sobra': 3366, 'tedio': 3367, 'ingrato': 3368, 'cingio': 3369, 'xv': 3370, '269': 3371, 'calmas': 3372, 'serenas': 3373, 'lago': 3374, 'atravessa': 3375, 'formou': 3376, 'vegetação': 3377, 'nessas': 3378, 'paragens': 3379, 'leques': 3380, 'artista': 3381, 'acabamos': 3382, 'assentado': 3383, 'fechar': 3384, 'largura': 3385, 'monte': 3386, 'gramma': 3387, 'separado': 3388, 'morada': 3389, 'descião': 3390, 'sitio': 3391, 'brasão': 3392, 'rosas': 3393, 'substituido': 3394, 'grinaldas': 3395, 'pendia': 3396, 'crucifixo': 3397, 'expulsos': 3398, 'mimosas': 3399, 'real': 3400, 'desatar': 3401, 'bico': 3402, 'atmosphera': 3403, 'paraiso': 3404, 'habitava': 3405, 'descrevemos': 3406, 'mem': 3407, 'dominio': 3408, 'estabelecido': 3409, 'descobertas': 3410, 'legua': 3411, 'embainhou': 3412, 'collocada': 3413, 'jurou': 3414, 'estabelecer': 3415, 'dada': 3416, 'altar': 3417, 'passara': 3418, 'fidalguia': 3419, 'expedições': 3420, 'productos': 3421, 'offerecião': 3422, 'inexpugnavel': 3423, 'costumavão': 3424, 'correrias': 3425, 'animado': 3426, 'castello': 3427, 'protecção': 3428, 'vassallos': 3429, 'respeitado': 3430, 'avisado': 3431, 'destemidos': 3432, 'passiva': 3433, 'proferida': 3434, 'ganho': 3435, 'recebião': 3436, 'dinheiro': 3437, 'desconhecida': 3438, 'ligados': 3439, 'fragmento': 3440, 'primitiva': 3441, 'reconhecia': 3442, 'duque': 3443, 'cumprido': 3444, 'consciência': 3445, 'mando': 3446, 'travesso': 3447, 'mimosa': 3448, 'faceirice': 3449, 'sobrinha': 3450, 'personagens': 3451, 'troço': 3452, 'costeava': 3453, 'tiracollo': 3454, 'tropa': 3455, 'caminheiros': 3456, 'esmeraldas': 3457, 'rapazes': 3458, 'chegaremos': 3459, 'cavalgadura': 3460, 'pressa': 3461, 'enfado': 3462, 'risada': 3463, 'aposto': 3464, 'gracejando': 3465, 'allusão': 3466, 'proseguio': 3467, 'fallei': 3468, 'crer': 3469, 'arranjar': 3470, 'ingenuidade': 3471, '_per': 3472, 'caminhavão': 3473, 'medir': 3474, 'nestas': 3475, 'furto': 3476, 'vivos': 3477, 'picada': 3478, 'crepusculo': 3479, 'restea': 3480, 'columnas': 3481, 'vagos': 3482, 'habituado': 3483, 'meditação': 3484, 'animo': 3485, 'abertamente': 3486, 'obediência': 3487, 'desejais': 3488, 'falle': 3489, 'confessei': 3490, 'continou': 3491, 'mordendo': 3492, 'despeito': 3493, 'carregou': 3494, 'curioso': 3495, 'apanha': 3496, 'saberei': 3497, 'habilidade': 3498, 'adaga': 3499, 'gracejar': 3500, 'encostando': 3501, 'seriamente': 3502, 'maldade': 3503, 'duro': 3504, 'diga': 3505, 'clareira': 3506, 'faxa': 3507, 'perna': 3508, 'delgado': 3509, 'diaphana': 3510, 'roçar': 3511, 'flexas': 3512, 'ondulações': 3513, 'pardo': 3514, 'preparando': 3515, 'gigantesco': 3516, 'sardonico': 3517, 'dilatadas': 3518, 'indolentemente': 3519, 'mutuamente': 3520, 'pronuncia': 3521, 'sonora': 3522, 'desdenhosamente': 3523, 'retirar': 3524, 'sumir': 3525, 'mettido': 3526, 'carniceiros': 3527, 'sede': 3528, 'esticou': 3529, 'elasticidade': 3530, 'forquilha': 3531, 'ligeireza': 3532, 'bote': 3533, 'fincando': 3534, 'debatia': 3535, 'durou': 3536, 'encontrando': 3537, 'obstaculos': 3538, 'timida': 3539, 'fumegante': 3540, 'privar': 3541, 'satisfez': 3542, 'attrito': 3543, 'jantar': 3544, 'abelha': 3545, 'regato': 3546, 'lavou': 3547, 'moita': 3548, 'espantado': 3549, 'ardia': 3550, 'embalançava': 3551, 'acacia': 3552, 'rosadas': 3553, 'vermelhos': 3554, 'humidos': 3555, 'exhalava': 3556, 'macia': 3557, 'louros': 3558, 'ricas': 3559, 'infantil': 3560, 'produz': 3561, 'corresse': 3562, 'madre': 3563, 'córava': 3564, 'casto': 3565, 'pézinho': 3566, 'encantador': 3567, 'indolencia': 3568, 'vá': 3569, 'succedido': 3570, 'faças': 3571, 'reparando': 3572, 'tio': 3573, 'amarga': 3574, 'desconfiança': 3575, 'consolar': 3576, 'causou': 3577, 'cedido': 3578, 'botão': 3579, 'imitou': 3580, 'encantadora': 3581, 'arrulhos': 3582, 'aninhar': 3583, 'achas': 3584, 'reparar': 3585, 'jambo': 3586, 'ai': 3587, 'vestia': 3588, 'botas': 3589, 'feltro': 3590, 'escapavão': 3591, 'sessenta': 3592, 'ordinaria': 3593, 'matando': 3594, 'trato': 3595, 'pensa': 3596, 'principios': 3597, 'receios': 3598, 'enganas': 3599, 'afastando': 3600, 'attitude': 3601, 'commettestes': 3602, 'tirando': 3603, 'gentio': 3604, 'respeitosamente': 3605, 'magra': 3606, 'antigos': 3607, 'collar': 3608, 'esmagar': 3609, 'reinar': 3610, 'robusta': 3611, 'sabido': 3612, 'differença': 3613, 'exprimia': 3614, 'insistir': 3615, 'proceder': 3616, 'companhia': 3617, 'inquietações': 3618, 'ladeira': 3619, 'abaixarão': 3620, 'partindo': 3621, 'expandia': 3622, 'narinas': 3623, 'testemunhas': 3624, 'chegados': 3625, 'declinava': 3626, 'alcatifa': 3627, 'maria': 3628, 'planicie': 3629, 'arêa': 3630, 'debil': 3631, 'misturado': 3632, 'quebrando': 3633, 'busto': 3634, 'magestosa': 3635, 'embebido': 3636, 'dizião': 3637, 'dignidade': 3638, 'collação': 3639, 'favor': 3640, 'vivião': 3641, 'retirada': 3642, 'consagrado': 3643, 'canoa': 3644, 'argentina': 3645, 'aproveitando': 3646, 'incidentes': 3647, 'corre': 3648, 'trocar': 3649, 'timidamente': 3650, 'varanda': 3651, 'defenderes': 3652, 'costumava': 3653, 'esteve': 3654, 'ajoelhando': 3655, 'poeta': 3656, 'esbeltas': 3657, 'alliviada': 3658, 'examinar': 3659, 'adormeceu': 3660, 'peças': 3661, 'cangirões': 3662, 'cheias': 3663, 'ananaz': 3664, 'vicio': 3665, 'excita': 3666, 'fome': 3667, 'tirai': 3668, 'achado': 3669, 'trabalhava': 3670, 'perguntárão': 3671, 'custa': 3672, 'cangirão': 3673, 'fronteiro': 3674, 'vedes': 3675, 'esforçava': 3676, 'dizieis': 3677, 'ficareis': 3678, 'pensais': 3679, 'contais': 3680, 'reprimindo': 3681, 'deixarão': 3682, 'soffrêra': 3683, 'dissesse': 3684, 'vivido': 3685, 'fardo': 3686, 'curvando': 3687, 'esteio': 3688, 'extraordinária': 3689, 'recebêra': 3690, 'partidas': 3691, 'gelosia': 3692, 'requeimava': 3693, 'brutal': 3694, 'creava': 3695, 'sociedade': 3696, 'constancia': 3697, 'crença': 3698, 'grado': 3699, 'organisações': 3700, 'respaldo': 3701, 'nenhuma': 3702, 'abaixo': 3703, 'venenosos': 3704, 'cerrado': 3705, 'evoluções': 3706, 'intento': 3707, 'treva': 3708, 'apoio': 3709, 'assistia': 3710, 'reconhecido': 3711, 'explicou': 3712, 'comprehendido': 3713, 'brilho': 3714, 'aproximasse': 3715, 'desfiava': 3716, 'deixavão': 3717, 'escaparem': 3718, 'redoma': 3719, 'collou': 3720, 'soluço': 3721, 'portinha': 3722, 'banco': 3723, 'atraz': 3724, 'louco': 3725, 'pedisse': 3726, 'apontou': 3727, 'morria': 3728, 'perdôa': 3729, 'salvarem': 3730, 'irradiava': 3731, 'acabasse': 3732, 'uncção': 3733, 'representava': 3734, 'respeitoso': 3735, 'thesouros': 3736, 'odiavão': 3737, 'antipathia': 3738, 'socegado': 3739, 'hem': 3740, 'assistido': 3741, 'sobranceira': 3742, 'sibilando': 3743, 'jura': 3744, 'duvidaria': 3745, 'prisma': 3746, 'limo': 3747, 'sapucaia': 3748, 'pendida': 3749, 'carregava': 3750, 'assustar': 3751, 'recommendação': 3752, 'confundindo': 3753, 'sorrisos': 3754, 'perspicaz': 3755, 'perguntava': 3756, 'fallas': 3757, 'calou': 3758, 'alteração': 3759, 'córar': 3760, 'ignorancia': 3761, 'percebesse': 3762, 'cactus': 3763, 'borboleta': 3764, 'viuvinha': 3765, 'escondida': 3766, 'jasmineiros': 3767, 'arranjado': 3768, 'penetrou': 3769, 'córando': 3770, 'corpinho': 3771, 'anagoa': 3772, 'pejo': 3773, 'nús': 3774, 'graciosamente': 3775, 'parasita': 3776, 'guaximas': 3777, 'ondulação': 3778, 'produzida': 3779, 'traçado': 3780, 'estendido': 3781, 'vacillar': 3782, 'reter': 3783, 'agarrar': 3784, 'encontra': 3785, 'irradiação': 3786, 'intervallo': 3787, 'aberto': 3788, 'emanações': 3789, 'tubo': 3790, 'cahisse': 3791, 'assalto': 3792, 'sacou': 3793, 'atirava': 3794, 'saude': 3795, 'tranquillisou': 3796, 'completa': 3797, 'hombreira': 3798, 'heis': 3799, 'disso': 3800, 'joia': 3801, 'pouca': 3802, 'descêrão': 3803, 'estacou': 3804, 'eil': 3805, 'queixo': 3806, 'valentes': 3807, 'arrastando': 3808, 'fulminar': 3809, 'apreciava': 3810, 'estimava': 3811, 'terminava': 3812, 'assomava': 3813, 'comum': 3814, 'vêdes': 3815, 'notou': 3816, 'pasto': 3817, 'gato': 3818, 'revendo': 3819, 'roupão': 3820, 'abrem': 3821, 'dedo': 3822, 'atalhou': 3823, 'imminente': 3824, 'gente': 3825, 'perdoai': 3826, 'tomara': 3827, 'descanço': 3828, 'estiver': 3829, 'encontrára': 3830, 'pratica': 3831, 'ousadia': 3832, 'exprobração': 3833, 'recordação': 3834, 'jasmim': 3835, 'devorava': 3836, 'temeu': 3837, 'distinguia': 3838, 'abre': 3839, 'comprehendê': 3840, 'trahido': 3841, 'facilidade': 3842, 'seguem': 3843, 'perseguir': 3844, 'apparecêra': 3845, 'cocar': 3846, 'especialmente': 3847, 'satisfazia': 3848, 'espingarda': 3849, 'reanima': 3850, 'piedade': 3851, 'rião': 3852, 'pretas': 3853, 'ouco': 3854, 'vidrado': 3855, 'continuavão': 3856, 'saltava': 3857, 'colleira': 3858, 'rouco': 3859, 'guia': 3860, 'caçadores': 3861, 'reconhecião': 3862, 'alimentava': 3863, 'estremecia': 3864, 'exterminar': 3865, 'gasto': 3866, 'avisar': 3867, 'atravessar': 3868, 'deixaria': 3869, 'denuncia': 3870, 'collocando': 3871, 'confusas': 3872, 'touca': 3873, 'formigueiro': 3874, 'paciencia': 3875, 'subterraneo': 3876, 'virá': 3877, 'existem': 3878, 'lividos': 3879, 'accidente': 3880, 'irremediavelmente': 3881, 'falso': 3882, 'esmagado': 3883, 'tivestes': 3884, 'roubar': 3885, 'pertencerá': 3886, 'escripto': 3887, 'garcia': 3888, 'ferreira': 3889, 'rolar': 3890, 'cara': 3891, 'incapaz': 3892, 'reanimou': 3893, 'punhaes': 3894, 'descrevêmos': 3895, 'restituido': 3896, 'prometti': 3897, 'hespanhas': 3898, 'marquez': 3899, 'madrid': 3900, 'palma': 3901, 'côco': 3902, 'agente': 3903, 'observando': 3904, 'abalou': 3905, 'rolo': 3906, 'atado': 3907, 'rotulo': 3908, 'tremer': 3909, 'cançado': 3910, 'ensejo': 3911, 'diabolico': 3912, 'dansa': 3913, 'traidores': 3914, 'esplendor': 3915, 'mez': 3916, 'anoitecer': 3917, 'vereda': 3918, 'missionario': 3919, 'cura': 3920, '1590': 3921, 'máos': 3922, 'salve': 3923, 'restabeleceu': 3924, 'contrahido': 3925, 'ouvisse': 3926, 'reclinado': 3927, 'haja': 3928, 'escuto': 3929, 'escrevêra': 3930, 'faltão': 3931, 'offerecêra': 3932, 'attribuia': 3933, 'geralmente': 3934, 'roubo': 3935, 'desgraçada': 3936, 'entregue': 3937, 'cabeceira': 3938, 'chegámos': 3939, 'religioso': 3940, 'scintillando': 3941, 'desenhavão': 3942, 'inesperada': 3943, 'inspiração': 3944, 'dai': 3945, 'tenhais': 3946, 'listras': 3947, 'torrentes': 3948, 'reflectindo': 3949, 'audaz': 3950, 'europa': 3951, 'canção': 3952, 'encostada': 3953, 'avezinha': 3954, 'rapidos': 3955, 'suster': 3956, 'precipitavão': 3957, 'aba': 3958, 'espectadores': 3959, 'esteira': 3960, 'generosos': 3961, 'transformar': 3962, 'aceita': 3963, 'auras': 3964, 'respondêrão': 3965, 'canna': 3966, 'cinto': 3967, 'subir': 3968, 'passarinhos': 3969, 'cantou': 3970, 'partimos': 3971, 'redes': 3972, 'gavião': 3973, 'terminou': 3974, 'creaturas': 3975, 'criança': 3976, 'déste': 3977, 'farão': 3978, 'conhecendo': 3979, 'encheu': 3980, 'corajoso': 3981, 'metter': 3982, 'transformado': 3983, 'explicai': 3984, 'decidido': 3985, 'rezar': 3986, 'cerebro': 3987, 'eleva': 3988, 'embebeu': 3989, 'carregar': 3990, 'dirigir': 3991, 'hespanhola': 3992, 'prever': 3993, 'animar': 3994, 'désse': 3995, 'podido': 3996, 'cinzas': 3997, 'ruina': 3998, 'infelizmente': 3999, 'colonia': 4000, 'heróe': 4001, 'esvoaçava': 4002, 'acredita': 4003, 'defenderá': 4004, 'atomo': 4005, 'vaidade': 4006, 'subjuga': 4007, 'ingenua': 4008, 'eximir': 4009, 'agradece': 4010, 'cantava': 4011, 'velhice': 4012, 'queima': 4013, 'murcha': 4014, 'ensinar': 4015, 'confundirão': 4016, 'ingratidão': 4017, 'interrompida': 4018, 'tomados': 4019, 'fatal': 4020, 'generosidade': 4021, 'arriscada': 4022, 'isolada': 4023, 'reptil': 4024, 'defendia': 4025, 'tregoa': 4026, 'simplesmente': 4027, 'bafejava': 4028, 'baixeza': 4029, 'agudo': 4030, 'supplicou': 4031, 'justificar': 4032, 'solo': 4033, 'tentar': 4034, 'brazileira': 4035, 'desce': 4036, 'dourado': 4037, 'julgas': 4038, 'desculpar': 4039, 'verás': 4040, 'saberás': 4041, 'ortigas': 4042, 'maldito': 4043, 'executor': 4044, 'desprendendo': 4045, 'livrar': 4046, 'veremos': 4047, 'atirando': 4048, 'tenção': 4049, 'gyrar': 4050, 'castidade': 4051, 'fraternal': 4052, 'caricia': 4053, 'farião': 4054, 'facho': 4055, 'habitos': 4056, 'melancolicamente': 4057, 'reprimio': 4058, 'empallidecendo': 4059, 'enormes': 4060, 'chorava': 4061, 'expediente': 4062, 'atravessavão': 4063, 'offendido': 4064, 'esmalte': 4065, 'bonitas': 4066, 'adorno': 4067, 'delirante': 4068, 'procedimento': 4069, 'propria': 4070, 'calar': 4071, 'morrerá': 4072, 'atou': 4073, 'serio': 4074, 'desertos': 4075, 'direi': 4076, 'agitação': 4077, 'convencido': 4078, 'obrigárão': 4079, 'despertado': 4080, 'obedeceu': 4081, 'acreditas': 4082, 'deseja': 4083, 'mandas': 4084, 'fallado': 4085, 'imperioso': 4086, 'salvará': 4087, 'deixo': 4088, 'impellido': 4089, 'impressas': 4090, 'cruzou': 4091, 'juiz': 4092, 'previsões': 4093, 'enterrar': 4094, 'despedir': 4095, 'mimosos': 4096, 'ideal': 4097, 'sensações': 4098, 'acompanhais': 4099, 'conservado': 4100, 'accusava': 4101, 'desprendia': 4102, 'lançado': 4103, 'ousavão': 4104, 'deixeis': 4105, 'dialogo': 4106, 'culpada': 4107, 'entreaberta': 4108, 'curvas': 4109, 'matava': 4110, 'queimava': 4111, 'escutai': 4112, 'precisais': 4113, 'sympathia': 4114, 'tratar': 4115, 'alheia': 4116, 'acordar': 4117, 'aproximação': 4118, 'castellã': 4119, 'basto': 4120, 'avançava': 4121, 'assassinos': 4122, 'passará': 4123, 'sahirá': 4124, 'visionario': 4125, 'crente': 4126, 'eterna': 4127, 'cabisbaixos': 4128, 'extremas': 4129, 'batalha': 4130, 'terão': 4131, 'desengano': 4132, 'queixas': 4133, 'ataca': 4134, 'engana': 4135, 'farei': 4136, 'dirigirão': 4137, 'cêa': 4138, 'esclareceu': 4139, 'mouro': 4140, 'nações': 4141, '_annaes': 4142, 'janeiro_': 4143, 'historico': 4144, '_annaes_': 4145, 'defesa': 4146, 'gabriel': 4147, 'difficuldade': 4148, 'setembro': 4149, 'especies': 4150, 'feridas': 4151, 'tradição': 4152, 'florescencia': 4153, 'occupado': 4154, 'subindo': 4155, 'pará': 4156, 'desanimo': 4157, 'quarta': 4158, 'peleja': 4159, 'encanecida': 4160, 'sacrificar': 4161, 'ido': 4162, 'minuto': 4163, 'defensores': 4164, 'descontentamento': 4165, 'tons': 4166, 'desfecho': 4167, 'perigosa': 4168, 'partis': 4169, 'querida': 4170, 'mudado': 4171, 'ingénua': 4172, 'extremo': 4173, 'vigias': 4174, 'descido': 4175, 'duvidava': 4176, 'descansado': 4177, 'mandára': 4178, 'violentamente': 4179, 'impulso': 4180, 'silenciosamente': 4181, 'aceitado': 4182, 'existência': 4183, 'frei': 4184, 'lucca': 4185, 'viração': 4186, 'desconhecido': 4187, 'agarrando': 4188, 'pensil': 4189, 'recuar': 4190, 'impeto': 4191, 'tentação': 4192, 'pregada': 4193, 'cabecinha': 4194, 'gelada': 4195, 'brilhão': 4196, 'convencionada': 4197, 'telhado': 4198, 'atear': 4199, 'mortas': 4200, 'offerecimento': 4201, 'livremente': 4202, 'perguntar': 4203, 'apparecimento': 4204, 'continuárão': 4205, 'brusca': 4206, 'excitar': 4207, 'reunir': 4208, 'demoraria': 4209, 'furtivamente': 4210, 'lançasse': 4211, 'conseguido': 4212, 'consummar': 4213, 'suavisar': 4214, 'gelado': 4215, 'adiantava': 4216, 'precipitou': 4217, 'embalançando': 4218, 'fragil': 4219, 'desenhou': 4220, 'despertada': 4221, 'feitos': 4222, 'tardava': 4223, 'realisado': 4224, 'extremidade': 4225, 'recusára': 4226, 'convulsamente': 4227, 'agonia': 4228, 'prompta': 4229, 'corredor': 4230, 'illuminado': 4231, 'digna': 4232, 'olhavão': 4233, 'imprecações': 4234, 'vil': 4235, 'herege': 4236, 'podereis': 4237, 'protegido': 4238, 'faremos': 4239, 'soltavão': 4240, 'certificar': 4241, 'excitava': 4242, 'imprevistamente': 4243, 'culpados': 4244, 'cães': 4245, 'mereceis': 4246, 'furiosos': 4247, 'injurias': 4248, 'tremor': 4249, 'altiva': 4250, 'plantas': 4251, 'encarou': 4252, 'rompendo': 4253, 'bravos': 4254, 'fanatismo': 4255, 'lavrar': 4256, 'atira': 4257, 'preparavão': 4258, 'horda': 4259, 'descansava': 4260, 'morresse': 4261, 'palissada': 4262, 'obrigou': 4263, 'reunidos': 4264, 'amavão': 4265, 'resignada': 4266, 'sentando': 4267, 'commoção': 4268, 'desligar': 4269, 'resoava': 4270, 'convicção': 4271, 'conservação': 4272, 'atacavão': 4273, 'cozinha': 4274, 'occultar': 4275, 'permittia': 4276, 'abertura': 4277, 'acenou': 4278, 'havemos': 4279, 'confiára': 4280, 'despertar': 4281, 'tomava': 4282, 'marchar': 4283, 'percorreu': 4284, 'recostado': 4285, 'velava': 4286, 'pungente': 4287, 'fê': 4288, 'supplica': 4289, 'morreremos': 4290, 'reteve': 4291, 'friamente': 4292, 'grupados': 4293, 'contavão': 4294, 'cunho': 4295, 'cingia': 4296, 'nevoa': 4297, 'fantastica': 4298, 'interrogar': 4299, 'apoiando': 4300, 'preparou': 4301, 'tromba': 4302, 'desapparecião': 4303, 'monstro': 4304, 'convulsões': 4305, 'dellas': 4306, 'expandio': 4307, 'punhos': 4308, 'reclinada': 4309, 'cardo': 4310, 'desfazia': 4311, 'ligavão': 4312, 'viveres': 4313, 'amarrada': 4314, 'formada': 4315, 'entranhas': 4316, 'extasi': 4317, 'golpes': 4318, 'iremos': 4319, 'cobrir': 4320, 'algozes': 4321, 'illudia': 4322, 'volcão': 4323, 'perturbar': 4324, 'tratado': 4325, 'inanimado': 4326, 'immobilidade': 4327, 'cêra': 4328, 'extremamente': 4329, 'habitára': 4330, 'esphera': 4331, 'luminosa': 4332, 'deitára': 4333, 'relevo': 4334, 'pódes': 4335, 'deixas': 4336, 'manta': 4337, 'embate': 4338, 'aragem': 4339, 'inspirado': 4340, 'corrixo': 4341, 'humboldt': 4342, 'dont': 4343, 'à': 4344, 'qui': 4345, 'title': 4346, 'author': 4347, 'martiniano': 4348, 'release': 4349, 'march': 4350, '28': 4351, '2022': 4352, 'language': 4353, 'portuguese': 4354, 'publication': 4355, 'credits': 4356, 'laura': 4357, 'natal': 4358, 'rodrigues': 4359, 'kristen': 4360, 'carmean': 4361, 'images': 4362, 'generously': 4363, 'made': 4364, 'hathi': 4365, 'trust': 4366, 'digital': 4367, 'livreiro': 4368, 'editor': 4369, 'ouvidor': 4370, 'paris': 4371, 'mellier': 4372, '17': 4373, 'séguier': 4374, 'reservados': 4375, 'livro': 4376, 'escrever': 4377, 'estylo': 4378, 'indice': 4379, '13': 4380, 'bandeira': 4381, 'alvorecer': 4382, '121': 4383, 'yara': 4384, '217': 4385, '257': 4386, 'mensagens': 4387, '329': 4388, 'norte': 4389, 'espreguiçar': 4390, 'vassallo': 4391, 'concentrar': 4392, 'arremesso': 4393, 'fatigado': 4394, 'estendião': 4395, 'arcarias': 4396, 'dramas': 4397, 'fundado': 4398, 'seculo': 4399, 'espaçosa': 4400, 'protegida': 4401, 'pique': 4402, 'quadradas': 4403, 'largos': 4404, 'solidamente': 4405, 'continuando': 4406, 'sombreado': 4407, 'industria': 4408, 'habilmente': 4409, 'espinheiros': 4410, 'abraçava': 4411, 'fingindo': 4412, 'creado': 4413, 'arroio': 4414, 'divan': 4415, 'miniatura': 4416, 'sapé': 4417, 'esteios': 4418, 'abas': 4419, 'sulco': 4420, 'existir': 4421, 'idosa': 4422, 'leão': 4423, 'reproduzia': 4424, 'raras': 4425, 'praia': 4426, 'gosto': 4427, 'mudava': 4428, 'alcova': 4429, 'confundião': 4430, 'cortinado': 4431, 'definir': 4432, 'vendava': 4433, 'impregnado': 4434, 'cota': 4435, 'fundadores': 4436, 'guerras': 4437, 'conquista': 4438, 'francezes': 4439, 'fundação': 4440, 'capitania': 4441, 'contrabando': 4442, 'provedor': 4443, 'alfandega': 4444, 'affeito': 4445, 'sesmaria': 4446, 'tempera': 4447, 'preso': 4448, 'cunha': 4449, 'transportar': 4450, 'coroa': 4451, 'realisava': 4452, 'vastos': 4453, 'respirar': 4454, 'desmentio': 4455, 'descobrindo': 4456, 'repetirão': 4457, 'prestado': 4458, 'vindos': 4459, 'aventureira': 4460, 'possiveis': 4461, 'preciosas': 4462, 'palissadas': 4463, 'reunindo': 4464, 'asylo': 4465, 'estimado': 4466, 'confiados': 4467, 'moradores': 4468, 'capitães': 4469, 'coloniaes': 4470, 'aprendido': 4471, 'militar': 4472, 'rigorosa': 4473, 'lucros': 4474, 'decisão': 4475, 'baraço': 4476, 'dominios': 4477, 'rara': 4478, 'tornara': 4479, 'applicação': 4480, 'conservara': 4481, 'anterior': 4482, 'troca': 4483, 'necessarios': 4484, 'nomeio': 4485, 'governando': 4486, 'massas': 4487, 'pedaço': 4488, 'bragança': 4489, 'absoluto': 4490, 'compunha': 4491, 'abusões': 4492, 'proseguir': 4493, 'honras': 4494, 'dezoito': 4495, 'pistoletes': 4496, 'ilharga': 4497, 'tocavão': 4498, 'caixas': 4499, 'vencião': 4500, 'dianteira': 4501, 'terrenos': 4502, 'auriferos': 4503, 'parecido': 4504, 'marchava': 4505, 'alegremente': 4506, 'esporas': 4507, 'viaja': 4508, 'poupar': 4509, 'mofa': 4510, 'medindo': 4511, 'sabbado': 4512, 'recobrando': 4513, 'beiços': 4514, 'peior': 4515, 'fanqueiro': 4516, 'arrecadas': 4517, 'proprias': 4518, 'amabilidade': 4519, 'restou': 4520, 'damas': 4521, 'tomais': 4522, 'praz': 4523, 'achareis': 4524, 'pense': 4525, 'pensai': 4526, 'enfiava': 4527, 'percorrer': 4528, 'malicia': 4529, 'desdenhoso': 4530, 'abobadas': 4531, 'templo': 4532, 'indecisos': 4533, 'amortecidos': 4534, 'illusão': 4535, 'indicasse': 4536, 'reprimir': 4537, 'rugando': 4538, 'ouvistes': 4539, 'merito': 4540, 'interessa': 4541, 'colhendo': 4542, 'arrogancia': 4543, 'semelhantes': 4544, 'vede': 4545, 'passão': 4546, 'fingida': 4547, 'enganais': 4548, 'fallo': 4549, 'accentuou': 4550, 'cabe': 4551, 'ameaçar': 4552, 'temer': 4553, 'accrescentou': 4554, 'parando': 4555, 'misturou': 4556, 'curiosa': 4557, 'junco': 4558, 'tez': 4559, 'mobil': 4560, 'descrevendo': 4561, 'ornada': 4562, 'axorca': 4563, 'amarellos': 4564, 'atirada': 4565, 'tauxiada': 4566, 'uso': 4567, 'prohibido': 4568, 'distinguião': 4569, 'dorso': 4570, 'marchetado': 4571, 'apoiadas': 4572, 'suspensos': 4573, 'movia': 4574, 'monstruosa': 4575, 'riso': 4576, 'contrahia': 4577, 'deleitar': 4578, 'odor': 4579, 'contempla': 4580, 'agachou': 4581, 'parára': 4582, 'procurasse': 4583, 'offenda': 4584, 'expor': 4585, 'espedaçavão': 4586, 'adversario': 4587, 'espinho': 4588, 'excedia': 4589, 'açoutando': 4590, 'inferior': 4591, 'ameaçador': 4592, 'furia': 4593, 'novamente': 4594, 'immolada': 4595, 'demorou': 4596, 'estendidas': 4597, 'monstruoso': 4598, 'dobrado': 4599, 'gancho': 4600, 'ventre': 4601, 'subjugada': 4602, 'apoiados': 4603, 'estrangulação': 4604, 'amarrar': 4605, 'cajueiro': 4606, 'bravo': 4607, 'côva': 4608, 'aproveitava': 4609, 'serião': 4610, 'focinho': 4611, 'arrepiando': 4612, 'carniça': 4613, 'filtrando': 4614, 'exhalou': 4615, 'atavão': 4616, 'ligado': 4617, 'retorcidas': 4618, 'biribá': 4619, 'acabado': 4620, 'favos': 4621, 'fabrica': 4622, 'ornado': 4623, 'trofa': 4624, 'cautelosamente': 4625, 'casado': 4626, 'silvestre': 4627, 'perfumadas': 4628, 'cerrados': 4629, 'gardenia': 4630, 'tingia': 4631, 'conceber': 4632, 'mistura': 4633, 'cassa': 4634, 'saiote': 4635, 'mangas': 4636, 'realçar': 4637, 'longos': 4638, 'tranças': 4639, 'finissima': 4640, 'imprimir': 4641, 'cedendo': 4642, 'sopros': 4643, 'anilado': 4644, 'rosado': 4645, 'desgosto': 4646, 'sonhara': 4647, 'assomos': 4648, 'sobrancelhas': 4649, 'louras': 4650, 'mudas': 4651, 'conseguia': 4652, 'desvanecer': 4653, 'formosura': 4654, 'seducção': 4655, 'contornos': 4656, 'dormindo': 4657, 'veadinho': 4658, 'captivos': 4659, 'viste': 4660, 'anda': 4661, 'bravia': 4662, 'acontecer': 4663, 'saudades': 4664, 'abandonasse': 4665, 'veado': 4666, 'estalinho': 4667, 'assetinado': 4668, 'farás': 4669, 'reprehensão': 4670, 'injustamente': 4671, 'resentida': 4672, 'cuidas': 4673, 'tratão': 4674, 'querem': 4675, 'zanga': 4676, 'amargo': 4677, 'chamando': 4678, 'sejas': 4679, 'seres': 4680, 'estavas': 4681, 'respirando': 4682, 'jurity': 4683, 'garridice': 4684, 'recem': 4685, 'tropel': 4686, 'entravão': 4687, 'semanas': 4688, 'passeavão': 4689, 'projectava': 4690, 'preto': 4691, 'café': 4692, 'calções': 4693, 'anneis': 4694, 'activa': 4695, 'discrição': 4696, 'semelhança': 4697, 'confesso': 4698, 'inoffensiva': 4699, 'acompanhas': 4700, 'desvario': 4701, 'partilho': 4702, 'atacão': 4703, 'fallaveis': 4704, 'temem': 4705, 'enganar': 4706, 'conheces': 4707, 'dominante': 4708, 'soffrerão': 4709, 'teimoso': 4710, 'offendestes': 4711, 'mostra': 4712, 'envergonhar': 4713, 'prohibo': 4714, 'partireis': 4715, 'ireis': 4716, 'cumprirei': 4717, 'lembrai': 4718, 'protege': 4719, 'coroado': 4720, 'diadema': 4721, 'arrastava': 4722, 'fidalga': 4723, 'roçavão': 4724, 'dissemos': 4725, 'devoção': 4726, 'exageração': 4727, 'satisfaze': 4728, 'doer': 4729, 'respeitou': 4730, 'tratais': 4731, 'rigor': 4732, 'perca': 4733, 'decidi': 4734, 'conduzia': 4735, 'aproximárão': 4736, 'cortejárão': 4737, 'saudação': 4738, 'conversar': 4739, 'grossos': 4740, 'noticias': 4741, 'risadas': 4742, 'tomarão': 4743, 'avidos': 4744, 'inclinar': 4745, 'pontos': 4746, 'cravava': 4747, 'amargura': 4748, 'morrendo': 4749, 'frouxa': 4750, 'deslisando': 4751, 'enrolava': 4752, 'purpura': 4753, 'aspereza': 4754, 'quéda': 4755, 'ceder': 4756, 'mysteriosa': 4757, 'ajoelha': 4758, 'quebradas': 4759, 'rendado': 4760, 'reboando': 4761, 'lento': 4762, 'grimpas': 4763, 'reunidas': 4764, 'sentião': 4765, 'realçava': 4766, 'rostos': 4767, 'ajoelhado': 4768, 'mosquete': 4769, 'saudou': 4770, 'retirando': 4771, 'benção': 4772, 'curtos': 4773, 'emprazado': 4774, 'explicava': 4775, 'apreço': 4776, 'separados': 4777, 'occupavão': 4778, 'semana': 4779, 'escutavão': 4780, 'desejoso': 4781, 'encontrámos': 4782, 'parecerá': 4783, 'onças': 4784, 'assusteis': 4785, 'conversárão': 4786, 'subião': 4787, 'pertencer': 4788, 'encommendas': 4789, 'consistião': 4790, 'joias': 4791, 'sedas': 4792, 'occupação': 4793, 'modesto': 4794, 'recolheu': 4795, 'gracejo': 4796, 'ornato': 4797, 'primores': 4798, 'causavão': 4799, 'recusando': 4800, 'quebravão': 4801, 'physica': 4802, 'sigamos': 4803, 'escudellas': 4804, 'convivas': 4805, 'quanta': 4806, 'desejar': 4807, 'licores': 4808, 'dados': 4809, 'ranger': 4810, 'replica': 4811, 'penares': 4812, 'empregado': 4813, 'largárão': 4814, 'saguão': 4815, 'eia': 4816, 'ficarem': 4817, 'entendidos': 4818, 'historias': 4819, 'acorda': 4820, 'hilaridade': 4821, 'afagado': 4822, 'costeou': 4823, 'adiantasse': 4824, 'vallado': 4825, 'entrando': 4826, 'choça': 4827, 'traga': 4828, 'vergava': 4829, 'assaltou': 4830, 'illuminada': 4831, 'tocarem': 4832, 'umbral': 4833, 'valesse': 4834, 'cerrarão': 4835, 'colono': 4836, 'posições': 4837, 'alçance': 4838, 'cortez': 4839, 'fugirem': 4840, 'desejando': 4841, 'encontrar': 4842, 'comparava': 4843, 'formal': 4844, 'deitando': 4845, 'ardimento': 4846, 'fanatica': 4847, 'dedicar': 4848, 'adorava': 4849, 'alicerce': 4850, 'corressem': 4851, 'funda': 4852, 'devorado': 4853, 'alcantis': 4854, 'revia': 4855, 'parapeito': 4856, 'manga': 4857, 'enganava': 4858, 'estaca': 4859, 'inclinando': 4860, 'partilhado': 4861, 'repercutião': 4862, 'cravou': 4863, 'suspendendo': 4864, 'previa': 4865, 'moveu': 4866, 'adoração': 4867, 'sacrificaria': 4868, 'consentir': 4869, 'sonhando': 4870, 'assetinada': 4871, 'fachada': 4872, 'atravessara': 4873, 'tremião': 4874, 'tampa': 4875, 'annel': 4876, 'estreito': 4877, 'surgir': 4878, 'trahia': 4879, 'desejou': 4880, 'rude': 4881, 'singela': 4882, 'ralhar': 4883, 'vapores': 4884, 'pallidas': 4885, 'conserves': 4886, 'perdôo': 4887, 'correres': 4888, 'infinita': 4889, 'impunha': 4890, 'altas': 4891, 'penna': 4892, 'votavão': 4893, 'vestidas': 4894, 'conseguinte': 4895, 'felpudo': 4896, 'divertia': 4897, 'pregava': 4898, 'arrastado': 4899, 'estalava': 4900, 'apanhava': 4901, 'boiavão': 4902, 'fructa': 4903, 'soffresse': 4904, 'vigilancia': 4905, 'pequiá': 4906, 'seguida': 4907, 'procurado': 4908, 'commettido': 4909, 'lido': 4910, 'mettendo': 4911, 'cortezia': 4912, 'confessa': 4913, 'galanteando': 4914, 'queimar': 4915, 'daquillo': 4916, 'fitar': 4917, 'incommodar': 4918, 'zombaria': 4919, 'espreguiçava': 4920, 'fechava': 4921, 'distilla': 4922, 'graciola': 4923, 'malvalisco': 4924, 'entorpecidas': 4925, 'zangar': 4926, 'provocado': 4927, 'revelasse': 4928, 'julgavão': 4929, 'latada': 4930, 'occultavão': 4931, 'pavilhão': 4932, 'roupagens': 4933, 'vestuario': 4934, 'malicioso': 4935, 'distinctamente': 4936, 'garças': 4937, 'casca': 4938, 'trazido': 4939, 'pontinha': 4940, 'mentia': 4941, 'lanço': 4942, 'hastes': 4943, 'corpulencia': 4944, 'collocar': 4945, 'ferindo': 4946, 'partião': 4947, 'seta': 4948, 'enfiou': 4949, 'avanço': 4950, 'retrahindo': 4951, 'gyrou': 4952, 'borbulhava': 4953, 'talhos': 4954, 'decorreu': 4955, 'alvadio': 4956, 'annunciando': 4957, 'fechárão': 4958, 'estarem': 4959, 'tardou': 4960, 'armado': 4961, 'cego': 4962, 'perro': 4963, 'teima': 4964, 'atravessada': 4965, 'baterem': 4966, 'voltavão': 4967, 'pasmo': 4968, 'produzia': 4969, 'deixe': 4970, 'pretendia': 4971, 'expulsar': 4972, 'cavalheirismo': 4973, 'severamente': 4974, 'fidalgos': 4975, 'caboclo': 4976, 'impoz': 4977, 'ligadas': 4978, 'conserva': 4979, 'produziria': 4980, 'illudo': 4981, 'energico': 4982, 'ameaçada': 4983, 'podieis': 4984, 'desapercebido': 4985, 'ignorando': 4986, 'corrêra': 4987, 'chilrear': 4988, 'jacaré': 4989, 'devorados': 4990, 'selvajaria': 4991, 'prevenções': 4992, 'aprouver': 4993, 'conversando': 4994, 'desfez': 4995, 'fresca': 4996, 'meninas': 4997, 'aproximarem': 4998, 'recommendando': 4999, 'paz': 5000, 'referio': 5001, 'ensinava': 5002, 'descuido': 5003, 'ralhareis': 5004, 'agastada': 5005, 'parada': 5006, 'alliado': 5007, 'tia': 5008, 'banhando': 5009, 'ouça': 5010, 'ouvimos': 5011, 'humido': 5012, 'acariciando': 5013, 'separou': 5014, 'sahe': 5015, 'sorrelfa': 5016, 'servirá': 5017, 'trateis': 5018, 'desculpai': 5019, 'trata': 5020, 'lembrais': 5021, 'vencendo': 5022, 'saiba': 5023, 'houver': 5024, 'succede': 5025, 'meiga': 5026, 'podendo': 5027, 'ensinará': 5028, 'expiar': 5029, 'alegres': 5030, 'escapára': 5031, 'apresentando': 5032, 'arrastada': 5033, 'cravados': 5034, 'encontrárão': 5035, 'corárão': 5036, 'outrem': 5037, 'electrica': 5038, 'abalado': 5039, 'divinos': 5040, 'parecem': 5041, 'voltarem': 5042, 'fracos': 5043, 'deixão': 5044, 'capim': 5045, 'agita': 5046, 'inauditos': 5047, 'descera': 5048, 'serra': 5049, 'orgãos': 5050, 'traduzia': 5051, 'parabyba': 5052, 'qualidade': 5053, 'acariciava': 5054, 'conquistadores': 5055, 'cannas': 5056, 'sementes': 5057, 'comprimento': 5058, 'porção': 5059, 'puros': 5060, 'levantavão': 5061, 'empurrão': 5062, 'tintas': 5063, 'revelára': 5064, 'encontrado': 5065, 'resolverão': 5066, 'sepultura': 5067, 'grutas': 5068, 'ganhara': 5069, 'medidas': 5070, 'imminencia': 5071, 'destacavão': 5072, 'estrangulado': 5073, 'partira': 5074, 'produzira': 5075, 'serviria': 5076, 'nascente': 5077, 'cavava': 5078, 'viajado': 5079, 'estreitamente': 5080, 'grossura': 5081, 'estudava': 5082, 'dio_': 5083, 'cavar': 5084, 'distincto': 5085, 'pão': 5086, 'assucar': 5087, 'encoberto': 5088, 'subterraneas': 5089, 'formão': 5090, 'descobrira': 5091, 'acompanhavão': 5092, 'trocando': 5093, 'percamos': 5094, 'batida': 5095, 'estiverdes': 5096, 'pararão': 5097, 'dispostos': 5098, 'façais': 5099, 'boccas': 5100, 'homizio': 5101, 'direis': 5102, 'conto': 5103, 'tornárão': 5104, 'comprehendeis': 5105, 'der': 5106, 'paralysado': 5107, 'fulminado': 5108, 'satanaz': 5109, 'atemorisar': 5110, 'orbitas': 5111, 'machinação': 5112, 'cera': 5113, 'preta': 5114, 'tabellião': 5115, 'levarei': 5116, 'tomai': 5117, 'preciosa': 5118, 'área': 5119, 'quebrada': 5120, 'restos': 5121, 'nascêra': 5122, 'sentárão': 5123, 'adega': 5124, 'avista': 5125, 'humor': 5126, 'costumo': 5127, 'inclinárão': 5128, 'veridica': 5129, 'el': 5130, 'demasiado': 5131, 'ante': 5132, 'maliciosamente': 5133, 'cascas': 5134, 'lograr': 5135, 'sejais': 5136, 'duvidando': 5137, 'pensavão': 5138, 'proseguia': 5139, 'supposições': 5140, 'retirava': 5141, 'vascolejar': 5142, 'poderosos': 5143, 'veneza': 5144, 'diamantes': 5145, 'estupefactos': 5146, 'bojo': 5147, 'saltára': 5148, 'avermelhado': 5149, 'dura': 5150, 'vibrante': 5151, 'terá': 5152, 'reclamo': 5153, 'acompanharem': 5154, 'agitado': 5155, 'cadaveres': 5156, 'pino': 5157, 'derramava': 5158, 'março': 5159, '1603': 5160, 'habita': 5161, 'cathequisados': 5162, 'medonha': 5163, 'frequentemente': 5164, 'serranias': 5165, 'mugindo': 5166, 'açoutava': 5167, 'nadava': 5168, 'habituados': 5169, 'estrago': 5170, 'intima': 5171, 'borrasca': 5172, 'aldear': 5173, 'familias': 5174, 'obtivera': 5175, 'roma': 5176, 'expressamente': 5177, 'rosario': 5178, 'carmelo': 5179, 'redobrava': 5180, 'maldita': 5181, 'prefiro': 5182, 'cedro': 5183, 'fendeu': 5184, 'metades': 5185, 'esguia': 5186, 'mutilada': 5187, 'peitos': 5188, 'descorados': 5189, 'prestar': 5190, 'reconhecendo': 5191, 'interromper': 5192, 'cheguei': 5193, 'acolhimento': 5194, 'poderião': 5195, 'ruas': 5196, 'successão': 5197, 'extenuado': 5198, 'obstinava': 5199, 'quizera': 5200, 'fascinado': 5201, 'realisou': 5202, 'misericordia': 5203, 'vive': 5204, 'soluços': 5205, 'apaga': 5206, 'gelados': 5207, 'rota': 5208, 'jacobina': 5209, 'summa': 5210, 'martyr': 5211, '_': 5212, 'penitente': 5213, 'entregou': 5214, 'achamalotavão': 5215, 'rolavão': 5216, 'anjos': 5217, 'estertor': 5218, 'vestio': 5219, 'candeia': 5220, 'despedindo': 5221, 'cheiro': 5222, 'promptamente': 5223, 'irrevogavel': 5224, 'acordou': 5225, 'ordenou': 5226, 'desfeito': 5227, 'verão': 5228, 'naquellas': 5229, 'fragoas': 5230, 'tecião': 5231, 'tornavão': 5232, 'avelludado': 5233, 'baixinho': 5234, 'colibri': 5235, 'folguedo': 5236, 'afinal': 5237, 'fatigada': 5238, 'estendidos': 5239, 'lã': 5240, 'arfar': 5241, 'painel': 5242, '_a': 5243, 'base': 5244, 'lasca': 5245, 'lage': 5246, 'esmaga': 5247, 'tensão': 5248, 'collina': 5249, 'desmaiada': 5250, 'gyrando': 5251, 'recostada': 5252, 'arrancando': 5253, 'correra': 5254, 'estimulo': 5255, 'reinou': 5256, 'oravão': 5257, 'ternura': 5258, 'chamas': 5259, 'allumiou': 5260, 'vestida': 5261, 'ria': 5262, 'estalou': 5263, 'educação': 5264, 'enchêra': 5265, 'acompanhada': 5266, 'vexado': 5267, 'manjar': 5268, 'licor': 5269, 'provinha': 5270, 'estrangeiro': 5271, 'introduzio': 5272, 'impede': 5273, 'chegarão': 5274, 'absolutamente': 5275, 'admittido': 5276, 'negocio': 5277, 'regimento': 5278, 'sujeita': 5279, 'marizes': 5280, 'molhou': 5281, 'fizer': 5282, 'pereça': 5283, 'camaradas': 5284, 'pousando': 5285, 'rigoroso': 5286, 'agradecer': 5287, 'fermentava': 5288, 'definitiva': 5289, 'alliviado': 5290, 'voltaria': 5291, 'estudou': 5292, 'humano': 5293, 'produzio': 5294, 'comprimida': 5295, 'vehemencia': 5296, 'armava': 5297, 'riquezas': 5298, 'conspiração': 5299, 'eventualidade': 5300, 'feri': 5301, 'deposito': 5302, 'reduzido': 5303, 'lançarem': 5304, 'previsão': 5305, 'passeando': 5306, 'territorio': 5307, 'fundada': 5308, 'fugira': 5309, 'ingrata': 5310, 'contendo': 5311, 'acompanhando': 5312, 'conseguirão': 5313, 'animados': 5314, 'brilharem': 5315, 'perfumada': 5316, 'constantemente': 5317, 'interiormente': 5318, 'traduzio': 5319, 'prodigios': 5320, 'amão': 5321, 'vêde': 5322, 'consente': 5323, 'ligeiros': 5324, 'partisse': 5325, 'monotono': 5326, 'cadencia': 5327, 'soprou': 5328, 'enterra': 5329, 'achará': 5330, 'acompanhadas': 5331, 'morreria': 5332, 'dirá': 5333, 'quantas': 5334, 'vier': 5335, 'verá': 5336, 'salta': 5337, 'commettia': 5338, 'guiava': 5339, 'ensinado': 5340, 'verbo': 5341, 'magoar': 5342, 'cahos': 5343, 'incertezas': 5344, 'seguissem': 5345, 'merecesse': 5346, 'segurar': 5347, 'polido': 5348, 'util': 5349, 'aproxima': 5350, 'devassar': 5351, 'estalido': 5352, 'circulou': 5353, 'receberia': 5354, 'ameaçára': 5355, 'confirmar': 5356, 'jogava': 5357, 'vibrado': 5358, 'auxiliado': 5359, 'mensageira': 5360, 'milagres': 5361, 'servirem': 5362, 'conservasse': 5363, 'vantagem': 5364, 'urgia': 5365, 'sobr': 5366, 'odiava': 5367, 'desprezava': 5368, 'pretendo': 5369, 'inspirais': 5370, 'injectárão': 5371, 'marchárão': 5372, 'penso': 5373, 'escolhei': 5374, 'indifferente': 5375, 'demais': 5376, 'franco': 5377, 'prende': 5378, 'acordo': 5379, 'duello': 5380, 'avelludados': 5381, 'embebidos': 5382, 'voluptuosa': 5383, 'resentimento': 5384, 'fecho': 5385, 'certeiro': 5386, 'sibillo': 5387, 'labio': 5388, 'bigode': 5389, 'segura': 5390, 'obrigava': 5391, 'dilatados': 5392, 'batião': 5393, 'lembravão': 5394, 'indigno': 5395, 'preço': 5396, 'acompanhasse': 5397, 'possuir': 5398, 'sacrifica': 5399, 'combinava': 5400, 'receava': 5401, 'cultura': 5402, 'raciocinio': 5403, 'dignas': 5404, 'possuia': 5405, 'elevado': 5406, 'dobra': 5407, 'subjugado': 5408, 'trahião': 5409, 'puni': 5410, 'intervenção': 5411, 'transtornou': 5412, 'tentativa': 5413, 'cavalheiresca': 5414, 'moldava': 5415, 'cabello': 5416, 'succedesse': 5417, 'caminhando': 5418, 'sentiria': 5419, 'ouvidos': 5420, 'zangues': 5421, 'doçura': 5422, 'abafar': 5423, 'sensibilidade': 5424, 'desenrolava': 5425, 'deslisar': 5426, 'succedendo': 5427, 'monstros': 5428, 'cresceu': 5429, 'primitivo': 5430, 'canta': 5431, 'impressões': 5432, 'queimasse': 5433, 'antecedente': 5434, 'chegarem': 5435, 'ganhava': 5436, 'mover': 5437, 'amos': 5438, 'formidavel': 5439, 'tribulações': 5440, 'chamei': 5441, 'pisada': 5442, 'atrás': 5443, 'mostraria': 5444, 'amarra': 5445, 'respeitar': 5446, 'valentemente': 5447, 'jogo': 5448, 'espadão': 5449, 'havido': 5450, 'encostas': 5451, 'aproveitou': 5452, 'saltárão': 5453, 'anginho': 5454, 'enxugou': 5455, 'corar': 5456, 'obriga': 5457, 'acreditava': 5458, 'innocentes': 5459, 'desgraçado': 5460, 'adejavão': 5461, 'cahido': 5462, 'obter': 5463, 'risonho': 5464, 'colonisadores': 5465, 'chamárão': 5466, 'embebida': 5467, 'quebrados': 5468, 'chores': 5469, 'sinistro': 5470, 'desças': 5471, 'indeciso': 5472, 'debruçou': 5473, 'debruçando': 5474, 'gelou': 5475, 'surgião': 5476, 'agitada': 5477, 'popular': 5478, 'supremos': 5479, 'chamado': 5480, 'echoou': 5481, 'silvando': 5482, 'plangente': 5483, 'retroz': 5484, 'impressionada': 5485, 'presenciára': 5486, 'soffres': 5487, 'bastado': 5488, 'mostravão': 5489, 'sentes': 5490, 'dás': 5491, 'deitará': 5492, 'pranto': 5493, 'fulgor': 5494, 'ajoelhava': 5495, 'prostrava': 5496, 'enganei': 5497, 'exprimio': 5498, 'amargamente': 5499, 'entendido': 5500, 'adivinhei': 5501, 'causaria': 5502, 'illudas': 5503, 'soubesses': 5504, 'soffro': 5505, 'soffras': 5506, 'abraçando': 5507, 'fallando': 5508, 'deixes': 5509, 'digas': 5510, 'falles': 5511, 'recusar': 5512, 'deitar': 5513, 'ficaremos': 5514, 'aproximassem': 5515, 'acompanhárão': 5516, 'notavel': 5517, 'alicerces': 5518, 'achára': 5519, 'estaria': 5520, 'sobresalto': 5521, 'prezamos': 5522, 'juventude': 5523, 'quartel': 5524, 'dispor': 5525, 'preveni': 5526, 'conhecêrão': 5527, 'esposo': 5528, 'prezo': 5529, 'sagradas': 5530, 'completar': 5531, 'erguei': 5532, 'nascimento': 5533, 'dolorosa': 5534, 'risonhos': 5535, 'executar': 5536, 'sepultada': 5537, 'mandai': 5538, 'sellou': 5539, 'estimo': 5540, 'soffrerá': 5541, 'innata': 5542, 'limpidos': 5543, 'entende': 5544, 'tecida': 5545, 'commovidos': 5546, 'mora': 5547, 'amamos': 5548, 'obedecemos': 5549, 'abandonou': 5550, 'nasceste': 5551, 'souberes': 5552, 'levaria': 5553, 'incredulidade': 5554, 'podias': 5555, 'combinar': 5556, 'fixar': 5557, 'proporção': 5558, 'solução': 5559, 'abraço': 5560, 'baixos': 5561, 'palpitando': 5562, 'despedido': 5563, 'commovia': 5564, 'sorrião': 5565, 'approvava': 5566, 'incomprehensivel': 5567, 'quantidade': 5568, 'abundante': 5569, 'podéra': 5570, 'mostrado': 5571, 'redobrou': 5572, 'involuntario': 5573, 'manchado': 5574, 'pasmado': 5575, 'enlouquecer': 5576, 'occorrido': 5577, 'espantada': 5578, 'confusamente': 5579, 'anginhos': 5580, 'admirando': 5581, 'indefinida': 5582, 'jubilo': 5583, 'expansão': 5584, 'voluptuosas': 5585, 'affectuosamente': 5586, 'trouxeste': 5587, 'obedeço': 5588, 'dirigira': 5589, 'esquecêra': 5590, 'recortava': 5591, 'descobri': 5592, 'enganára': 5593, 'lançára': 5594, 'esquecido': 5595, 'escarnecida': 5596, 'escuso': 5597, 'fosseis': 5598, 'perdoe': 5599, 'excitado': 5600, 'transe': 5601, 'bafejar': 5602, 'vehemente': 5603, 'abafada': 5604, 'reprimida': 5605, 'impetuosa': 5606, 'apaixonada': 5607, 'palpitantes': 5608, 'ajoelhada': 5609, 'expandir': 5610, 'recalcar': 5611, 'promettestes': 5612, 'concentrado': 5613, 'sincero': 5614, 'suffocava': 5615, 'consola': 5616, 'recuseis': 5617, 'aceitai': 5618, 'pronunciando': 5619, 'reservado': 5620, 'orphã': 5621, 'raças': 5622, 'inimigas': 5623, 'alimentando': 5624, 'ousava': 5625, 'illusões': 5626, 'reclinava': 5627, 'pendeu': 5628, 'imprimido': 5629, 'plumagem': 5630, 'cores': 5631, 'relação': 5632, 'entrever': 5633, 'cravar': 5634, 'dois': 5635, 'devorou': 5636, 'acreditais': 5637, 'silencioso': 5638, 'escarneo': 5639, 'estupido': 5640, 'tranquillisa': 5641, 'religiosa': 5642, 'soffrem': 5643, 'jurais': 5644, 'critica': 5645, 'abandonava': 5646, 'travára': 5647, 'isolamento': 5648, 'inspirar': 5649, 'saciar': 5650, 'universo': 5651, 'oraculo': 5652, 'preparárão': 5653, 'condemnarem': 5654, 'ignorão': 5655, 'entrará': 5656, 'realisarem': 5657, 'comprido': 5658, 'proteger': 5659, 'tremêra': 5660, 'decidira': 5661, 'recorrer': 5662, 'maviosa': 5663, 'tiver': 5664, 'apparecer': 5665, 'attribuindo': 5666, 'desconfianças': 5667, 'insubordinação': 5668, 'dirás': 5669, 'servem': 5670, 'amasses': 5671, 'livra': 5672, 'invariavel': 5673, 'noé': 5674, 'germen': 5675, 'cederia': 5676, 'cumpriria': 5677, 'ema': 5678, 'prometteu': 5679, 'saberia': 5680, 'contrariedade': 5681, 'impossiveis': 5682, 'terás': 5683, 'guitarra': 5684, 'alcaçar': 5685, 'dona': 5686, 'nacar': 5687, 'entendemos': 5688, 'lêa': 5689, 'silva': 5690, 'warnhagen': 5691, 'servido': 5692, '80': 5693, 'tê': 5694, 'observações': 5695, 'escriptores': 5696, 'degenerada': 5697, 'ticum': 5698, 'filamentos': 5699, 'europeus': 5700, 'scientifico': 5701, 'velloso': 5702, 'cresce': 5703, 'floresce': 5704, 'amarello': 5705, 'despontar': 5706, 'amanhecer': 5707, 'jasmineiro': 5708, 'aquaticas': 5709, 'naturalistas': 5710, '15': 5711, '163': 5712, 'provincia': 5713, '1589': 5714, '196': 5715, 'embaiba': 5716, 'fortaleza': 5717, '197': 5718, 'vivamente': 5719, 'conhecimentos': 5720, 'suppunhão': 5721, 'estação': 5722, 'rijas': 5723, 'chamão': 5724, 'admiravão': 5725, 'deitavão': 5726, 'descrevia': 5727, 'abatêrão': 5728, 'end': 5729, 'updated': 5730, 'replace': 5731, 'previous': 5732, 'renamed': 5733, 'print': 5734, 'so': 5735, 'special': 5736, 'rules': 5737, 'apply': 5738, 'very': 5739, 'easy': 5740, 'creation': 5741, 'reports': 5742, 'performances': 5743, 'modified': 5744, 'given': 5745, 'practically': 5746, 'subject': 5747, 'especially': 5748, 'commercial': 5749, 'file': 5750, 'reading': 5751, 'indicate': 5752, 'understand': 5753, 'accept': 5754, 'abide': 5755, 'cease': 5756, 'possession': 5757, 'whom': 5758, 'few': 5759, 'lot': 5760, 'follow': 5761, 'preserve': 5762, 'pglaf': 5763, 'compilation': 5764, 'unprotected': 5765, 'claim': 5766, 'prevent': 5767, 'long': 5768, 'course': 5769, 'hope': 5770, 'sharing': 5771, 'name': 5772, 'easily': 5773, 'same': 5774, 'attached': 5775, 'when': 5776, 'share': 5777, 'others': 5778, 'place': 5779, 'govern': 5780, 'what': 5781, 'countries': 5782, 'constant': 5783, 'change': 5784, 'addition': 5785, 'downloading': 5786, 'makes': 5787, 'representations': 5788, 'appear': 5789, 'whenever': 5790, 'appears': 5791, 'accessed': 5792, 'displayed': 5793, 'performed': 5794, 'viewed': 5795, 'derived': 5796, 'texts': 5797, 'indicating': 5798, 'charges': 5799, 'appearing': 5800, 'either': 5801, 'both': 5802, 'imposed': 5803, 'linked': 5804, 'beginning': 5805, 'unlink': 5806, 'detach': 5807, 'remove': 5808, 'files': 5809, 'containing': 5810, 'display': 5811, 'perform': 5812, 'redistribute': 5813, 'convert': 5814, 'binary': 5815, 'compressed': 5816, 'nonproprietary': 5817, 'proprietary': 5818, 'word': 5819, 'processing': 5820, 'hypertext': 5821, 'however': 5822, 'version': 5823, 'expense': 5824, 'exporting': 5825, 'request': 5826, 'alternate': 5827, 'include': 5828, 'viewing': 5829, 'reasonable': 5830, 'pay': 5831, 'gross': 5832, 'profits': 5833, 'derive': 5834, 'calculated': 5835, 'method': 5836, 'already': 5837, 'calculate': 5838, 'taxes': 5839, 'owed': 5840, 'agreed': 5841, '60': 5842, 'each': 5843, 'legally': 5844, 'required': 5845, 'periodic': 5846, 'returns': 5847, 'should': 5848, 'clearly': 5849, 'sent': 5850, 'address': 5851, 'notifies': 5852, 'mail': 5853, '30': 5854, 'require': 5855, 'possessed': 5856, 'discontinue': 5857, 'discovered': 5858, 'reported': 5859, 'wish': 5860, 'group': 5861, 'different': 5862, 'manager': 5863, 'employees': 5864, 'expend': 5865, 'identify': 5866, 'transcribe': 5867, 'proofread': 5868, 'despite': 5869, 'stored': 5870, 'defects': 5871, 'incomplete': 5872, 'inaccurate': 5873, 'corrupt': 5874, 'data': 5875, 'transcription': 5876, 'errors': 5877, 'infringement': 5878, 'damaged': 5879, 'disk': 5880, 'virus': 5881, 'codes': 5882, 'described': 5883, 'party': 5884, 'disclaim': 5885, 'remedies': 5886, 'negligence': 5887, 'strict': 5888, 'contract': 5889, 'those': 5890, 'distributor': 5891, 'liable': 5892, 'actual': 5893, 'direct': 5894, 'indirect': 5895, 'consequential': 5896, 'punitive': 5897, 'incidental': 5898, 'possibility': 5899, 'discover': 5900, 'receiving': 5901, 'sending': 5902, 'elect': 5903, 'choose': 5904, 'opportunity': 5905, 'demand': 5906, 'further': 5907, 'opportunities': 5908, 'fix': 5909, 'problem': 5910, 'kind': 5911, 'express': 5912, 'merchantability': 5913, 'fitness': 5914, 'some': 5915, 'allow': 5916, 'disclaimers': 5917, 'exclusion': 5918, 'types': 5919, 'violates': 5920, 'interpreted': 5921, 'maximum': 5922, 'invalidity': 5923, 'unenforceability': 5924, 'provision': 5925, 'void': 5926, 'remaining': 5927, 'provisions': 5928, 'indemnity': 5929, 'indemnify': 5930, 'hold': 5931, 'agent': 5932, 'employee': 5933, 'production': 5934, 'promotion': 5935, 'harmless': 5936, 'arise': 5937, 'directly': 5938, 'indirectly': 5939, 'occur': 5940, 'alteration': 5941, 'modification': 5942, 'additions': 5943, 'deletions': 5944, 'synonymous': 5945, 'formats': 5946, 'variety': 5947, 'obsolete': 5948, 'middle': 5949, 'aged': 5950, 'exists': 5951, 'because': 5952, 'hundreds': 5953, 'walks': 5954, 'life': 5955, 'financial': 5956, 'assistance': 5957, 'need': 5958, 'critical': 5959, 'reaching': 5960, 'goals': 5961, 'ensuring': 5962, 'remain': 5963, 'come': 5964, '2001': 5965, 'secure': 5966, 'permanent': 5967, 'learn': 5968, 'more': 5969, 'sections': 5970, 'non': 5971, 'profit': 5972, '501': 5973, 'educational': 5974, 'corporation': 5975, 'organized': 5976, 'mississippi': 5977, 'granted': 5978, 'internal': 5979, 'revenue': 5980, 'service': 5981, 'ein': 5982, 'identification': 5983, '64': 5984, '6221541': 5985, 'deductible': 5986, 'extent': 5987, 'business': 5988, 'office': 5989, '809': 5990, 'north': 5991, '1500': 5992, 'west': 5993, 'salt': 5994, 'lake': 5995, 'city': 5996, 'ut': 5997, '84116': 5998, '801': 5999, '596': 6000, '1887': 6001, 'depends': 6002, 'survive': 6003, 'widespread': 6004, 'carry': 6005, 'out': 6006, 'increasing': 6007, 'licensed': 6008, 'machine': 6009, 'accessible': 6010, 'array': 6011, 'outdated': 6012, '000': 6013, 'particularly': 6014, 'important': 6015, 'maintaining': 6016, 'irs': 6017, 'committed': 6018, 'regulating': 6019, 'charities': 6020, 'charitable': 6021, '50': 6022, 'uniform': 6023, 'takes': 6024, 'much': 6025, 'paperwork': 6026, 'meet': 6027, 'locations': 6028, 'confirmation': 6029, 'send': 6030, 'determine': 6031, 'while': 6032, 'met': 6033, 'solicitation': 6034, 'know': 6035, 'prohibition': 6036, 'against': 6037, 'accepting': 6038, 'unsolicited': 6039, 'donors': 6040, 'approach': 6041, 'us': 6042, 'offers': 6043, 'international': 6044, 'gratefully': 6045, 'statements': 6046, 'treatment': 6047, 'alone': 6048, 'swamp': 6049, 'staff': 6050, 'web': 6051, 'pages': 6052, 'current': 6053, 'donation': 6054, 'methods': 6055, 'addresses': 6056, 'ways': 6057, 'checks': 6058, 'credit': 6059, 'card': 6060, 'professor': 6061, 'michael': 6062, 'hart': 6063, 'originator': 6064, 'could': 6065, 'shared': 6066, 'forty': 6067, 'years': 6068, 'produced': 6069, 'loose': 6070, 'network': 6071, 'volunteer': 6072, 'often': 6073, 'several': 6074, 'confirmed': 6075, 'thus': 6076, 'necessarily': 6077, 'paper': 6078, 'edition': 6079, 'main': 6080, 'pg': 6081, 'search': 6082, 'facility': 6083, 'includes': 6084, 'produce': 6085, 'subscribe': 6086, 'newsletter': 6087, 'hear': 6088, 'verme': 6089, 'dispõe': 6090, '173': 6091, 'epilogo': 6092, 'vingativo': 6093, 'protector': 6094, 'compete': 6095, 'reconheço': 6096, 'centenas': 6097, 'esteril': 6098, 'crispim': 6099, 'tenreiro': 6100, 'habitavão': 6101, 'turbulentos': 6102, 'presididos': 6103, 'apressadamente': 6104, 'fórma': 6105, 'busina': 6106, 'intermedio': 6107, 'acolheu': 6108, 'jovial': 6109, 'honrada': 6110, 'satisfeitos': 6111, 'arriscado': 6112, 'marchão': 6113, 'escolheu': 6114, 'exigis': 6115, 'doente': 6116, 'enfermidade': 6117, 'condemnar': 6118, 'olhai': 6119, 'reunirião': 6120, 'carmim': 6121, 'recolhido': 6122, 'pureza': 6123, 'santidade': 6124, 'conhecesse': 6125, 'cantigas': 6126, 'roçou': 6127, 'adejou': 6128, 'deixasses': 6129, 'ficas': 6130, 'arrependeu': 6131, 'suspeitasse': 6132, 'concebido': 6133, 'cansado': 6134, 'situada': 6135, 'colubrina': 6136, 'arrancada': 6137, 'aperto': 6138, 'restituir': 6139, 'reliquia': 6140, 'causara': 6141, 'impregnadas': 6142, 'recalcava': 6143, 'occultos': 6144, 'pilar': 6145, 'sagrado': 6146, 'aceitará': 6147, 'esvairada': 6148, 'entrego': 6149, 'frechai': 6150, 'pesadelo': 6151, 'galas': 6152, 'oscillou': 6153, 'espavorido': 6154, 'previdencia': 6155, 'realisaria': 6156, 'complice': 6157, 'querendo': 6158, 'puras': 6159, 'lençaria': 6160, 'resaltava': 6161, 'dobras': 6162, 'transparente': 6163, 'harmoniosos': 6164, 'afugentar': 6165, 'animaria': 6166, 'scintillava': 6167, 'impregnada': 6168, 'placido': 6169, 'lamparina': 6170, 'luzira': 6171, 'instrucções': 6172, 'privilegio': 6173, 'pronunciara': 6174, 'garganta': 6175, 'especial': 6176, 'voluntariamente': 6177, 'aceitou': 6178, 'incommoda': 6179, 'humedecer': 6180, 'conheceis': 6181, 'nove': 6182, 'catre': 6183, 'illudido': 6184, 'despertasse': 6185, 'lançaria': 6186, 'demonios': 6187, 'trahisse': 6188, 'advertido': 6189, 'geito': 6190, 'crenças': 6191, 'angelica': 6192, 'colheu': 6193, 'firmou': 6194, 'bordado': 6195, 'subitamente': 6196, 'isenção': 6197, 'segundos': 6198, 'encantos': 6199, 'desvelo': 6200, 'encantadoras': 6201, 'desanimou': 6202, 'favorita': 6203, 'fria': 6204, 'emmudeceu': 6205, 'chofre': 6206, 'prepara': 6207, 'reanimára': 6208, 'ampla': 6209, 'notar': 6210, 'cosido': 6211, 'massa': 6212, 'estorceu': 6213, 'quebra': 6214, 'espedaça': 6215, 'acordados': 6216, 'destrui': 6217, 'admirados': 6218, 'erguido': 6219, 'assassinato': 6220, 'envenenado': 6221, 'sacrificados': 6222, 'adivinhais': 6223, 'bofé': 6224, 'exclamações': 6225, 'intensidade': 6226, 'convinha': 6227, 'alimarias': 6228, 'vinga': 6229, 'parlamentario': 6230, 'ouvirá': 6231, 'bastárão': 6232, 'fuzil': 6233, 'acordando': 6234, 'telhas': 6235, 'cabia': 6236, 'achamos': 6237, 'bastão': 6238, 'apresentar': 6239, 'gritárão': 6240, 'miseraveis': 6241, 'ameaças': 6242, 'physionomias': 6243, 'cólera': 6244, 'tumultuavão': 6245, 'estaticos': 6246, 'executores': 6247, 'conferencia': 6248, 'parados': 6249, 'ajoelhados': 6250, 'combatia': 6251, 'esquece': 6252, 'pintou': 6253, 'lastrava': 6254, 'rebelde': 6255, 'recolhêrão': 6256, 'prolongou': 6257, 'inubia': 6258, 'alaridos': 6259, 'retirárão': 6260, 'tratárão': 6261, 'rebeldes': 6262, 'morrerião': 6263, 'despojos': 6264, 'mudada': 6265, 'animada': 6266, 'partilhava': 6267, 'enfiando': 6268, 'praticado': 6269, 'investido': 6270, 'dispunha': 6271, 'repelli': 6272, 'perdera': 6273, 'ondular': 6274, 'loucuras': 6275, 'afflicta': 6276, 'favo': 6277, 'envolto': 6278, 'admittir': 6279, 'gyrava': 6280, 'soava': 6281, 'cuidava': 6282, 'imperiosa': 6283, 'alimentar': 6284, 'crivada': 6285, 'conserve': 6286, 'protegê': 6287, 'cumpri': 6288, 'condemnaria': 6289, 'desleal': 6290, 'julgar': 6291, 'promette': 6292, 'rejeito': 6293, 'teme': 6294, 'vencerá': 6295, 'dantes': 6296, 'tardaria': 6297, 'possuem': 6298, 'gráo': 6299, 'tropheo': 6300, 'juntar': 6301, 'pronunciava': 6302, 'cingindo': 6303, 'cocos': 6304, 'cedeu': 6305, 'espontaneo': 6306, 'repellir': 6307, 'destruida': 6308, 'oppunha': 6309, 'esgotado': 6310, 'protegia': 6311, 'atacando': 6312, 'esclarecer': 6313, 'apagou': 6314, 'precisão': 6315, 'morcego': 6316, 'agitando': 6317, 'atravessárão': 6318, 'inutilisaria': 6319, 'viga': 6320, 'suffocado': 6321, 'sacrilego': 6322, 'fizeres': 6323, 'despontava': 6324, 'communicava': 6325, 'insignificante': 6326, 'fugisse': 6327, 'lembrárão': 6328, 'pareça': 6329, 'queimando': 6330, 'surprehendido': 6331, 'revoltado': 6332, 'através': 6333, 'gyro': 6334, 'camarada': 6335, 'tabaco': 6336, 'decidio': 6337, 'hereges': 6338, 'votos': 6339, 'gestos': 6340, 'cumprimento': 6341, 'reanimava': 6342, 'entes': 6343, 'proferia': 6344, 'heroico': 6345, 'consentirei': 6346, 'figuras': 6347, 'rojar': 6348, 'lugubres': 6349, 'hallucinado': 6350, 'instantaneo': 6351, 'soberba': 6352, 'anhelante': 6353, 'oppresso': 6354, 'empunhando': 6355, 'cascatas': 6356, 'reduzidos': 6357, 'civilisados': 6358, 'inflammadas': 6359, 'voavão': 6360, 'lambia': 6361, 'creada': 6362, 'decompostos': 6363, 'alimentação': 6364, 'espiraes': 6365, 'sensual': 6366, 'espesso': 6367, 'soprava': 6368, 'brasido': 6369, 'trabalhar': 6370, 'interrompeu': 6371, 'actores': 6372, 'defendidos': 6373, 'sequiosos': 6374, 'bramindo': 6375, 'jogar': 6376, 'endireitando': 6377, 'imprimindo': 6378, 'rotação': 6379, 'abatê': 6380, 'vertião': 6381, 'fincou': 6382, 'sobrehumana': 6383, 'confessava': 6384, 'festas': 6385, 'vencedores': 6386, 'conduzirão': 6387, 'matizada': 6388, 'intenso': 6389, 'bons': 6390, 'proximo': 6391, 'embrutecido': 6392, 'desapparecêrão': 6393, 'saboroso': 6394, 'repellido': 6395, 'repellio': 6396, 'jovens': 6397, 'escolhendo': 6398, 'pedião': 6399, 'involucro': 6400, 'espontaneamente': 6401, 'sacrificado': 6402, 'singelas': 6403, 'mussurana': 6404, 'entregando': 6405, 'communicação': 6406, 'roubarem': 6407, 'demolição': 6408, 'salvaremos': 6409, 'continuai': 6410, 'marchamos': 6411, 'argila': 6412, 'arrepender': 6413, 'sinta': 6414, 'revelavão': 6415, 'lia': 6416, 'insistio': 6417, 'recostando': 6418, 'lascas': 6419, 'fermentadas': 6420, 'entoando': 6421, 'tradicional': 6422, 'libações': 6423, 'canella': 6424, 'matador': 6425, 'tacape': 6426, 'vibrar': 6427, 'estremecião': 6428, 'martyres': 6429, 'exhalar': 6430, 'instantanea': 6431, 'descarga': 6432, 'semi': 6433, 'afflicto': 6434, 'generosa': 6435, 'exigir': 6436, 'magestade': 6437, 'salvai': 6438, 'cumpra': 6439, 'scintillavão': 6440, 'estranho': 6441, 'palpitar': 6442, 'vigilante': 6443, 'festa': 6444, 'custou': 6445, 'unicos': 6446, 'precisas': 6447, 'encerrava': 6448, 'envergonhado': 6449, 'concepção': 6450, 'condemnavão': 6451, 'offenderião': 6452, 'envenenar': 6453, 'festim': 6454, 'peripecia': 6455, 'envenenamento': 6456, 'desgraçados': 6457, 'soluçando': 6458, 'horrorisados': 6459, 'abandonarias': 6460, 'acompanharão': 6461, 'realisasse': 6462, 'entrasse': 6463, 'armou': 6464, 'caro': 6465, 'chegavão': 6466, 'confusos': 6467, 'succedião': 6468, 'dependia': 6469, 'pyra': 6470, 'apoderára': 6471, 'illuminar': 6472, 'lenha': 6473, 'deixárão': 6474, 'requinte': 6475, 'estorcia': 6476, 'soffrimentos': 6477, 'recostou': 6478, 'tempestades': 6479, 'suspensas': 6480, 'bellos': 6481, 'entreabrindo': 6482, 'invisivel': 6483, 'animação': 6484, 'transformação': 6485, 'repentina': 6486, 'gozava': 6487, 'interrogou': 6488, 'hervada': 6489, 'volver': 6490, 'sombrio': 6491, 'reboou': 6492, 'grandioso': 6493, 'bramidos': 6494, 'ardor': 6495, 'envolvêrão': 6496, 'separação': 6497, 'mansão': 6498, 'justos': 6499, 'pallidez': 6500, 'mortal': 6501, 'frestas': 6502, 'cirio': 6503, 'eternidade': 6504, 'marmore': 6505, 'cesta': 6506, 'resinas': 6507, 'aromaticas': 6508, 'elevarão': 6509, 'inebriantes': 6510, 'fantastico': 6511, 'faltar': 6512, 'condensavão': 6513, 'apertavão': 6514, 'abri': 6515, 'lençol': 6516, 'mandavão': 6517, 'derradeira': 6518, 'fuga': 6519, 'importantes': 6520, 'espessas': 6521, 'annunciavão': 6522, 'fosses': 6523, 'arquejou': 6524, 'furiosa': 6525, 'amarrou': 6526, 'esmagando': 6527, 'dominando': 6528, 'vergou': 6529, 'talhadas': 6530, 'novos': 6531, 'arrancadas': 6532, 'cataclysmas': 6533, 'indecisa': 6534, 'prôa': 6535, 'descansa': 6536, 'instinctivo': 6537, 'tepida': 6538, 'remava': 6539, 'cilios': 6540, 'castos': 6541, 'mudança': 6542, 'cerravão': 6543, 'vencidas': 6544, 'incerto': 6545, 'despertou': 6546, 'perfil': 6547, 'selvas': 6548, 'annuncia': 6549, 'bafejou': 6550, 'rumorejando': 6551, 'cerradas': 6552, 'hymno': 6553, '_guanumby_': 6554, 'fogueiras': 6555, 'palacio': 6556, 'mythologia': 6557, '_atyaty_': 6558, 'polpa': 6559, 'concava': 6560, 'crystallina': 6561, 'viveremos': 6562, 'parasitas': 6563, 'remoto': 6564, 'cordilheira': 6565, 'serrania': 6566, 'phosphorescente': 6567, 'superficie': 6568, 'solemnes': 6569, 'ilha': 6570, 'baixou': 6571, 'guanumby': 6572, 'raizes': 6573, 'tupinambás': 6574, 'prisões': 6575, '_cap_': 6576, 'venenos': 6577, 'curarê': 6578, '_orenoco': 6579, 'illustrado_': 6580, 'parle': 6581, 'qu': 6582, 'est': 6583, 'dʳ': 6584, 'sigaud': 6585, 'des': 6586, 'du': 6587, 'une': 6588, 'au': 6589, '229': 6590, 'contraveneno': 6591, '67724': 6592, 'leitor': 6593, 'publicando': 6594, '1857': 6595, 'typographica': 6596, 'dispuzesse': 6597, 'empenho': 6598, 'publico': 6599, 'ledor': 6600, 'minguado': 6601, 'fiou': 6602, 'relendo': 6603, 'mau': 6604, 'incorrecto': 6605, 'escrevera': 6606, 'corrigir': 6607, 'mister': 6608, 'carece': 6609, 'labor': 6610, 'emendas': 6611, 'toleravão': 6612, 'desalinho': 6613, 'castigado': 6614, '23': 6615, '35': 6616, '45': 6617, '57': 6618, '63': 6619, '81': 6620, '91': 6621, '101': 6622, '133': 6623, '145': 6624, '157': 6625, '175': 6626, '191': 6627, '205': 6628, '231': 6629, '243': 6630, '281': 6631, '293': 6632, '305': 6633, '317': 6634, '341': 6635, '353': 6636, 'cabeços': 6637, '_serra': 6638, 'órgãos_': 6639, 'deslisa': 6640, 'dirige': 6641, 'engrossado': 6642, 'mananciaes': 6643, 'curso': 6644, 'caudal': 6645, 'magestosamente': 6646, 'tributario': 6647, 'humildemente': 6648, 'suzerano': 6649, 'selvatica': 6650, 'revoltão': 6651, 'barcos': 6652, 'canôas': 6653, 'resvalão': 6654, 'soffre': 6655, 'latego': 6656, 'foz': 6657, 'indomito': 6658, 'lança': 6659, 'espumando': 6660, 'esparso': 6661, 'foge': 6662, 'recúa': 6663, 'estende': 6664, 'adormece': 6665, 'bacia': 6666, 'ostentava': 6667, 'capiteis': 6668, 'formados': 6669, 'pomposo': 6670, 'decorado': 6671, 'magestosos': 6672, 'comparsa': 6673, '1604': 6674, 'inculto': 6675, 'semicirculo': 6676, 'irregular': 6677, 'lagedo': 6678, 'gameleiras': 6679, 'angelins': 6680, 'aproveitado': 6681, 'renques': 6682, 'alargando': 6683, 'edificada': 6684, 'architectura': 6685, 'grosseira': 6686, 'apresentão': 6687, 'primitivas': 6688, 'habitações': 6689, 'baixas': 6690, 'melões': 6691, 'desfiladeiro': 6692, 'chamaremos': 6693, 'imitação': 6694, 'copadas': 6695, 'estandal': 6696, 'relvas': 6697, 'peqneno': 6698, 'copo': 6699, 'esmerara': 6700, 'armazens': 6701, 'senzalas': 6702, 'acostados': 6703, 'privava': 6704, 'descripto': 6705, 'localidade': 6706, 'chamamos': 6707, 'época': 6708, 'caiados': 6709, 'cingidos': 6710, 'florão': 6711, 'pintura': 6712, 'fresco': 6713, 'espaços': 6714, 'pendião': 6715, 'retratos': 6716, 'representavão': 6717, 'vieiras': 6718, 'riscadas': 6719, 'pallas': 6720, 'faixas': 6721, 'escudo': 6722, 'brica': 6723, 'orlada': 6724, 'elmo': 6725, 'paquife': 6726, 'timbre': 6727, 'vieira': 6728, 'reposteiro': 6729, 'apanhados': 6730, 'cadeiras': 6731, 'torneados': 6732, 'constituião': 6733, 'mobilia': 6734, 'aposentos': 6735, 'interiores': 6736, 'decorações': 6737, 'heraldicas': 6738, 'caprichoso': 6739, 'loução': 6740, 'brocateis': 6741, 'enlaçadas': 6742, 'festões': 6743, 'orla': 6744, 'alabastro': 6745, 'escabello': 6746, 'dourada': 6747, 'guitarras': 6748, 'hespanholas': 6749, 'ciganos': 6750, 'introduzirão': 6751, 'collecção': 6752, 'curiosidades': 6753, 'mineraes': 6754, 'exquisitas': 6755, 'traste': 6756, 'matisada': 6757, 'entremeiada': 6758, 'empalada': 6759, 'tafetá': 6760, 'profanos': 6761, 'fada': 6762, 'distinguido': 6763, 'invasão': 6764, '1567': 6765, 'alcançada': 6766, 'auxiliou': 6767, 'consolidação': 6768, '1578': 6769, 'celebre': 6770, 'dr': 6771, 'salema': 6772, 'feitoria': 6773, 'fazerem': 6774, 'fazenda': 6775, 'empregos': 6776, 'republica': 6777, 'experimentado': 6778, 'activo': 6779, 'prestou': 6780, 'recompensa': 6781, 'merecimento': 6782, 'explorado': 6783, 'devoluta': 6784, 'derrota': 6785, 'alcacerquibir': 6786, 'hespanhol': 6787, 'preito': 6788, 'menagem': 6789, '1582': 6790, 'acclamado': 6791, 'filippe': 6792, 'successor': 6793, 'monarchia': 6794, 'projectada': 6795, 'pretendeo': 6796, 'crato': 6797, 'valião': 6798, 'guardaria': 6799, 'penates': 6800, 'concedera': 6801, 'assentar': 6802, 'conquistada': 6803, 'reinarás': 6804, 'estendeo': 6805, 'transmontava': 6806, 'abril': 6807, '1593': 6808, 'edificação': 6809, 'residencia': 6810, 'provisoria': 6811, 'artesãos': 6812, 'construirão': 6813, 'decorárão': 6814, 'ajuntado': 6815, 'commodidade': 6816, 'periodicamente': 6817, 'comprar': 6818, 'fazendas': 6819, 'generos': 6820, 'trocava': 6821, 'mandara': 6822, 'officiaes': 6823, 'mecanicos': 6824, 'hortelãos': 6825, 'aproveitavão': 6826, 'proverem': 6827, 'ameias': 6828, 'barbacan': 6829, 'substituidas': 6830, 'inaccessiveis': 6831, 'retirassem': 6832, 'visinhanças': 6833, 'habitados': 6834, 'entranhassem': 6835, 'cabanas': 6836, 'moravão': 6837, 'pobres': 6838, 'desejosos': 6839, 'parcerias': 6840, 'praticarem': 6841, 'costa': 6842, 'tomavão': 6843, 'feudal': 6844, 'soccorria': 6845, 'necessidades': 6846, 'visinhança': 6847, 'pratico': 6848, 'premunido': 6849, 'occurrencia': 6850, 'ousados': 6851, 'astucia': 6852, 'guerrilheiros': 6853, 'soldados': 6854, 'casos': 6855, 'presidido': 6856, 'appello': 6857, 'constituido': 6858, 'cutello': 6859, 'declarar': 6860, 'salutar': 6861, 'epocha': 6862, 'venda': 6863, 'armada': 6864, 'apurava': 6865, 'prestava': 6866, 'distribuida': 6867, 'consumo': 6868, 'ignorada': 6869, 'communhão': 6870, 'unidos': 6871, 'exercem': 6872, 'imposto': 6873, 'torrão': 6874, 'corôa': 6875, 'quinas': 6876, 'portuguezas': 6877, 'frontes': 6878, 'inclinavão': 6879, 'paulista': 6880, 'imbuida': 6881, 'religiosas': 6882, 'succedeo': 6883, 'foraes': 6884, 'gastava': 6885, 'caçadas': 6886, 'deusa': 6887, 'alegrava': 6888, 'dissessem': 6889, 'suspeitavão': 6890, 'captivado': 6891, 'demorei': 6892, 'comprehendão': 6893, 'deixarei': 6894, 'perfis': 6895, 'desenhem': 6896, 'constaria': 6897, 'ancas': 6898, 'calção': 6899, 'carregados': 6900, 'volumes': 6901, 'sarapilheira': 6902, 'alcatroada': 6903, 'abrigava': 6904, 'trote': 6905, 'atrazarem': 6906, 'montavão': 6907, 'garupa': 6908, 'ganhavão': 6909, '_bandeiras_': 6910, 'caravanas': 6911, 'entranhavão': 6912, 'terras': 6913, 'desconhecidos': 6914, 'aproximarão': 6915, 'garbo': 6916, 'diligencia': 6917, 'bandeiristas': 6918, 'accenio': 6919, 'disfarçada': 6920, 'confessareis': 6921, 'haviamos': 6922, 'desembaraço': 6923, 'meias': 6924, 'escriptura': 6925, 'anexim': 6926, 'aprendestes': 6927, 'beata': 6928, 'licenciado': 6929, 'cânones': 6930, 'ensinou': 6931, 'mercadores': 6932, 'custosos': 6933, 'brocados': 6934, 'enrubeceo': 6935, 'sarcastico': 6936, 'mordaz': 6937, 'incommodava': 6938, 'conversação': 6939, 'entrastes': 6940, 'loja': 6941, 'negocios': 6942, 'galantarias': 6943, 'fidalgas': 6944, 'frieza': 6945, 'simulada': 6946, 'demorámos': 6947, 'bacco_': 6948, 'revez': 6949, 'interrompeo': 6950, 'adiantados': 6951, 'silenciosos': 6952, 'assobiar': 6953, 'cansoneta': 6954, '_condottiere_': 6955, 'brilhara': 6956, 'desabado': 6957, 'constituição': 6958, 'musculosa': 6959, 'sombrias': 6960, 'coando': 6961, 'decompunha': 6962, 'acaris': 6963, 'araribás': 6964, 'estalar': 6965, 'pardacentas': 6966, 'sobresaltar': 6967, '_claro': 6968, 'escuro_': 6969, 'scentelha': 6970, 'sardonica': 6971, 'estaremos': 6972, 'sobrolho': 6973, 'desagrada': 6974, 'pareceis': 6975, 'guarde': 6976, 'sagrados': 6977, 'faltarei': 6978, 'duvido': 6979, 'adevinhei': 6980, 'adevinhar': 6981, 'observei': 6982, 'haverdes': 6983, 'oppôr': 6984, 'redeas': 6985, 'explica': 6986, 'recebestes': 6987, 'cortezmente': 6988, 'partistes': 6989, 'designado': 6990, 'reparastes': 6991, 'deixei': 6992, 'observar': 6993, 'observastes': 6994, 'repetir': 6995, 'somenos': 6996, 'entendem': 6997, 'noto': 6998, 'lamentar': 6999, 'empregueis': 7000}\n"
          ]
        }
      ],
      "source": [
        "print(vocab)"
      ]
    },
    {
      "cell_type": "code",
      "execution_count": 9,
      "metadata": {
        "colab": {
          "base_uri": "https://localhost:8080/"
        },
        "id": "RhbhAsZbzJ_J",
        "outputId": "6a53c9e0-308d-4082-e225-cfa376e8f39a"
      },
      "outputs": [
        {
          "data": {
            "text/plain": [
              "[6594,\n",
              " 139,\n",
              " 4376,\n",
              " 19,\n",
              " 6595,\n",
              " 6,\n",
              " 44,\n",
              " 110,\n",
              " 269,\n",
              " 259,\n",
              " 2662,\n",
              " 10,\n",
              " 1064,\n",
              " 6596,\n",
              " 2,\n",
              " 186,\n",
              " 130,\n",
              " 280,\n",
              " 3,\n",
              " 2257,\n",
              " 6,\n",
              " 6597,\n",
              " 1,\n",
              " 2665]"
            ]
          },
          "execution_count": 9,
          "metadata": {},
          "output_type": "execute_result"
        }
      ],
      "source": [
        "def encode_sentence(sentence, vocab):\n",
        "    return [vocab.get(word, 0) for word in re.findall(r'\\w+', sentence.lower())]\n",
        "\n",
        "encode_sentence(cleaned_paragraphs[20], vocab)"
      ]
    },
    {
      "cell_type": "markdown",
      "metadata": {
        "id": "wia_ygbvzJ_J"
      },
      "source": [
        "## Classe do dataset"
      ]
    },
    {
      "cell_type": "code",
      "execution_count": 10,
      "metadata": {
        "id": "Iy-elI1magRR"
      },
      "outputs": [],
      "source": [
        "# Dataset class\n",
        "import torch\n",
        "from torch.utils.data import Dataset, DataLoader\n",
        "\n",
        "class CustomDataset(Dataset):\n",
        "  def __init__(self, paragraphs, vocab, context):\n",
        "    # Define your data here\n",
        "    self.tokens = []\n",
        "    self.targets = []\n",
        "    self.removed = 0\n",
        "    for paragraph in paragraphs:\n",
        "      encoded = encode_sentence(paragraph, vocab)\n",
        "      # Do not add examples with unknown tokens\n",
        "      if 0 not in encoded:\n",
        "        for i in range(len(encoded) - context):\n",
        "          self.tokens.append(encoded[i:i+context])\n",
        "          self.targets.append(encoded[i+context])\n",
        "      else:\n",
        "        self.removed+=1\n",
        "\n",
        "  def __len__(self):\n",
        "    return len(self.tokens)\n",
        "\n",
        "  def __getitem__(self, idx):\n",
        "    return torch.tensor(self.tokens[idx]), torch.tensor(self.targets[idx])\n",
        "  \n",
        "  def __removed__(self):\n",
        "    return self.removed"
      ]
    },
    {
      "cell_type": "code",
      "execution_count": 11,
      "metadata": {
        "id": "y1aetOpmDeQd"
      },
      "outputs": [
        {
          "name": "stdout",
          "output_type": "stream",
          "text": [
            "Training samples: 3913\n",
            "Validation samples: 979\n"
          ]
        }
      ],
      "source": [
        "train_data, val_data = train_test_split(cleaned_paragraphs, test_size=0.2, random_state=18)\n",
        "\n",
        "print(\"Training samples: \" + str(len(train_data)))\n",
        "print(\"Validation samples: \" + str(len(val_data)))"
      ]
    },
    {
      "cell_type": "code",
      "execution_count": 12,
      "metadata": {
        "colab": {
          "base_uri": "https://localhost:8080/"
        },
        "id": "aD1CVci2zJ_J",
        "outputId": "5bf0839e-f30e-4ff2-ed6f-4f3fda782b7c"
      },
      "outputs": [
        {
          "name": "stdout",
          "output_type": "stream",
          "text": [
            "Training samples:\n",
            "(tensor([[4082,    2,   25,   41,    4,   66, 4083,  393, 3119],\n",
            "        [   2,   25,   41,    4,   66, 4083,  393, 3119,   50],\n",
            "        [  25,   41,    4,   66, 4083,  393, 3119,   50,    3],\n",
            "        [  41,    4,   66, 4083,  393, 3119,   50,    3,    2],\n",
            "        [   4,   66, 4083,  393, 3119,   50,    3,    2, 1336]]), tensor([  50,    3,    2, 1336,   21]))\n",
            "\n",
            "Validation samples:\n",
            "(tensor([[  31, 1602,  839,    1,  105, 1443,   21,   14,  117],\n",
            "        [1602,  839,    1,  105, 1443,   21,   14,  117,   55],\n",
            "        [ 839,    1,  105, 1443,   21,   14,  117,   55,    4],\n",
            "        [   1,  105, 1443,   21,   14,  117,   55,    4,  953],\n",
            "        [ 105, 1443,   21,   14,  117,   55,    4,  953, 2330]]), tensor([  55,    4,  953, 2330,  234]))\n",
            "\n",
            "Removed training samples: 2068\n",
            "Removed validation samples: 537\n"
          ]
        }
      ],
      "source": [
        "context_size = 9\n",
        "\n",
        "train_dataset = CustomDataset(train_data, vocab, context_size)\n",
        "val_dataset = CustomDataset(val_data, vocab, context_size)\n",
        "\n",
        "# Samples\n",
        "print(\"Training samples:\")\n",
        "print(train_dataset[:5])\n",
        "print()\n",
        "print(\"Validation samples:\")\n",
        "print(val_dataset[:5])\n",
        "print()\n",
        "print(\"Removed training samples: \" + str(train_dataset.removed))\n",
        "print(\"Removed validation samples: \" + str(val_dataset.removed))"
      ]
    },
    {
      "cell_type": "code",
      "execution_count": 13,
      "metadata": {
        "id": "gC0C5qn2zJ_J"
      },
      "outputs": [
        {
          "name": "stdout",
          "output_type": "stream",
          "text": [
            "[tensor([[  10,   71,  121,    4, 3833,  129,    4, 1333,   22],\n",
            "        [ 981,   35, 5923,   83, 5924,   47,  184, 5925,   47],\n",
            "        [3187,   23,    7,  855,    8, 1247, 3113,    3,  100],\n",
            "        [  10,   45, 1642,    2,    6, 1437,   42,   18,  161],\n",
            "        [  32,    3,  392, 3168,  693,  203,   68,    3,   16],\n",
            "        [2750, 1278,  101,    1,  171,    3,  223, 4530,  253],\n",
            "        [   3,   16, 1769,   33, 4513,    3, 6923,  508,   10],\n",
            "        [   8,   73,    2, 4242,   12,   68,   26, 1058,  153],\n",
            "        [1026, 2021,   82,  266, 1304,    4,  641,  276,   54],\n",
            "        [   1,  882, 1873,    1, 2999,   15,    1, 1885, 2024],\n",
            "        [2210, 5775,  558,   67,   59,  395, 5776,   85, 5777],\n",
            "        [  30,   14, 4867, 4847,    7,  313,    2,   15,   34],\n",
            "        [ 707,    2,   27,  151,  193,  446,    6,  426,   19],\n",
            "        [  27, 1350,    1,   92,   32,   34,   23,    3,   16],\n",
            "        [1615,    5,  129,   10,   71,  117,   24, 5589,    1],\n",
            "        [  10,  258,   15,   10,  617,  626,    2,   89, 1661],\n",
            "        [ 131,    5, 6805,    1,   92,  882,   32,    3,  790],\n",
            "        [   2, 2697,   10,  433,    4,  524,  123, 2684,    1],\n",
            "        [ 799,    4, 1386,    5,    4, 3337,   30, 4331, 4332],\n",
            "        [  21,  101,   10, 1014,   11,  229,   17,  239,   32],\n",
            "        [  14,  689,  123,    5,   30,   14, 4867, 4847,    7],\n",
            "        [ 286,   18,  143,    8,   37,    5,   42,   34, 3974],\n",
            "        [5950,   97, 2237, 3280,  465, 5951, 5952,   47,   35],\n",
            "        [ 563,    4,  453,   11,  197,   29, 3756,   26,   14],\n",
            "        [ 804,    6,   20,  656,   15,  724,    6, 2292,   20],\n",
            "        [  79,  430, 3225,  279,   35,  333,   47,  144,  404],\n",
            "        [  21,  199,    2,   31,   10, 3575,  156,   74,   50],\n",
            "        [  41,    4,   66,    1,   14,  259,  219,   27,  435],\n",
            "        [   4,   43,    9,   24, 1839,    3, 1659,   36,  315],\n",
            "        [   1,  936,    4,   17,  518,   24,    4,  248,    3],\n",
            "        [2195,  141,   35,  558,  333,   47,  144,  404, 2204],\n",
            "        [   4,  349,   14,   51,    5,    4,  860,  138,  454]]), tensor([ 752,  144,    4,  763,   90, 6956, 3463,  182,    2,  103,  465,   28,\n",
            "           7, 1196,  121,   14, 1753,    7,    1,    3,  313,  772, 2228,  314,\n",
            "         187, 3227, 4675,  804,  108,    2,  654,   20])]\n"
          ]
        }
      ],
      "source": [
        "batch_size = 32\n",
        "train_loader = DataLoader(train_dataset, batch_size=batch_size, shuffle=True)\n",
        "val_loader = DataLoader(val_dataset, batch_size=batch_size, shuffle=True)\n",
        "\n",
        "sample = next(iter(train_loader))\n",
        "print(sample)"
      ]
    },
    {
      "cell_type": "markdown",
      "metadata": {
        "id": "-5_-Yud0zJ_K"
      },
      "source": [
        "## Model"
      ]
    },
    {
      "cell_type": "code",
      "execution_count": 14,
      "metadata": {
        "id": "I2qKG9YczJ_K"
      },
      "outputs": [],
      "source": [
        "import torch.nn as nn\n",
        "import torch.nn.functional as F\n",
        "\n",
        "class BengioModel(torch.nn.Module):\n",
        "    def __init__(self, vocab_size, embedding_dim, context_size, h):\n",
        "        super(BengioModel, self).__init__()\n",
        "        self.embeddings = nn.Embedding(vocab_size+1, embedding_dim)\n",
        "        self.linear1 = nn.Linear(context_size * embedding_dim, h)\n",
        "        self.linear2 = nn.Linear(h, vocab_size+1)\n",
        "\n",
        "    def forward(self, inputs):\n",
        "        embeds = self.embeddings(inputs)\n",
        "        # Flatten embeddings\n",
        "        embeds = embeds.view(embeds.size(0), -1)\n",
        "        # Linear layer with Relu activation\n",
        "        out = self.linear1(embeds)\n",
        "        out = F.relu(out)\n",
        "        # Second layer\n",
        "        out = self.linear2(out)\n",
        "        return out"
      ]
    },
    {
      "cell_type": "code",
      "execution_count": 15,
      "metadata": {
        "id": "7yjQ1KXOzJ_K"
      },
      "outputs": [],
      "source": [
        "embedding_dim = 64\n",
        "hidden_dim = 128\n",
        "model = BengioModel(vocab_size, embedding_dim, context_size, hidden_dim)"
      ]
    },
    {
      "cell_type": "code",
      "execution_count": 16,
      "metadata": {
        "id": "xmsD59TfzJ_K"
      },
      "outputs": [
        {
          "name": "stdout",
          "output_type": "stream",
          "text": [
            "torch.Size([32, 9])\n",
            "torch.Size([32])\n"
          ]
        }
      ],
      "source": [
        "sample = next(iter(train_loader))\n",
        "input = sample[0]\n",
        "target = sample[1]\n",
        "\n",
        "print(input.shape)\n",
        "print(target.shape)"
      ]
    },
    {
      "cell_type": "code",
      "execution_count": 17,
      "metadata": {
        "id": "HGbJcT5KzJ_K"
      },
      "outputs": [],
      "source": [
        "output = model(input)"
      ]
    },
    {
      "cell_type": "code",
      "execution_count": 18,
      "metadata": {
        "colab": {
          "base_uri": "https://localhost:8080/"
        },
        "id": "um0lR4mNzJ_K",
        "outputId": "e6041da8-ca7f-4c9d-b28b-9e1250e820f2"
      },
      "outputs": [
        {
          "data": {
            "text/plain": [
              "tensor([3938,  712,  499, 2949, 3165,  846, 4949, 4256, 1997, 4468,  915, 5127,\n",
              "        2361, 1764, 2600,  817,  846, 1210, 5718, 1846,  179, 6299, 5818, 5372,\n",
              "        4639, 1997, 3598, 4737, 3173, 1833, 5205,  137])"
            ]
          },
          "execution_count": 18,
          "metadata": {},
          "output_type": "execute_result"
        }
      ],
      "source": [
        "output.argmax(dim=1)"
      ]
    },
    {
      "cell_type": "code",
      "execution_count": 19,
      "metadata": {
        "colab": {
          "base_uri": "https://localhost:8080/"
        },
        "id": "la-b-f8jzJ_L",
        "outputId": "f040cef4-e409-4d20-d335-a3133aaeb63c"
      },
      "outputs": [
        {
          "data": {
            "text/plain": [
              "tensor([   2, 4689, 1407,  200, 4397,   15, 3012,   83,  193,   20,    7,    5,\n",
              "         730,   43,    1, 1936,   42, 5064,   54,  294,    4, 3337,  236,  109,\n",
              "          31,  584,   17,  538,  146,  524, 5979,  962])"
            ]
          },
          "execution_count": 19,
          "metadata": {},
          "output_type": "execute_result"
        }
      ],
      "source": [
        "target"
      ]
    },
    {
      "cell_type": "markdown",
      "metadata": {
        "id": "UngUhyu7zJ_L"
      },
      "source": [
        "## Training"
      ]
    },
    {
      "cell_type": "code",
      "execution_count": 20,
      "metadata": {
        "colab": {
          "base_uri": "https://localhost:8080/"
        },
        "id": "wntaV50nzJ_L",
        "outputId": "a054092b-d801-4c60-eb75-85abfe57151d"
      },
      "outputs": [
        {
          "data": {
            "text/plain": [
              "device(type='cpu')"
            ]
          },
          "execution_count": 20,
          "metadata": {},
          "output_type": "execute_result"
        }
      ],
      "source": [
        "# Verifica se há uma GPU disponível e define o dispositivo para GPU se possível, caso contrário, usa a CPU\n",
        "device = torch.device('cuda' if torch.cuda.is_available() else 'cpu')\n",
        "device"
      ]
    },
    {
      "cell_type": "code",
      "execution_count": 21,
      "metadata": {
        "id": "vRwSPiwizJ_L"
      },
      "outputs": [
        {
          "data": {
            "text/plain": [
              "BengioModel(\n",
              "  (embeddings): Embedding(7001, 64)\n",
              "  (linear1): Linear(in_features=576, out_features=128, bias=True)\n",
              "  (linear2): Linear(in_features=128, out_features=7001, bias=True)\n",
              ")"
            ]
          },
          "execution_count": 21,
          "metadata": {},
          "output_type": "execute_result"
        }
      ],
      "source": [
        "epochs = 10\n",
        "\n",
        "# Learning rate\n",
        "lr = 0.01\n",
        "\n",
        "# Cross Entropy\n",
        "criterion = nn.CrossEntropyLoss()\n",
        "\n",
        "# Optimizer\n",
        "optimizer = torch.optim.Adam(model.parameters(), lr)\n",
        "\n",
        "model.to(device)"
      ]
    },
    {
      "cell_type": "code",
      "execution_count": 22,
      "metadata": {},
      "outputs": [
        {
          "name": "stdout",
          "output_type": "stream",
          "text": [
            "O modelo tem um total de 1,425,049 parâmetros.\n"
          ]
        }
      ],
      "source": [
        "def count_parameters(model):\n",
        "    return sum(p.numel() for p in model.parameters() if p.requires_grad)\n",
        "\n",
        "# Exemplo de uso:\n",
        "total_params = count_parameters(model)\n",
        "print(f'O modelo tem um total de {total_params:,} parâmetros.')"
      ]
    },
    {
      "cell_type": "code",
      "execution_count": 23,
      "metadata": {},
      "outputs": [
        {
          "name": "stdout",
          "output_type": "stream",
          "text": [
            "Initial Loss: 8.8761\n",
            "Initial Perplexity: 7158.4727\n"
          ]
        }
      ],
      "source": [
        "# Initial Perplexity and Loss\n",
        "# Before training\n",
        "model.eval()\n",
        "\n",
        "loss = 0\n",
        "perp = 0\n",
        "\n",
        "with torch.no_grad():\n",
        "    for inputs, targets in train_loader:\n",
        "        inputs = inputs.to(device)\n",
        "        targets = targets.to(device)\n",
        "        outputs = model(inputs)\n",
        "        loss += criterion(outputs, targets).item()\n",
        "\n",
        "loss /= len(train_loader)\n",
        "perp = torch.exp(torch.tensor(loss))\n",
        "\n",
        "print(f'Initial Loss: {loss:.4f}')\n",
        "print(f'Initial Perplexity: {perp:.4f}')"
      ]
    },
    {
      "cell_type": "code",
      "execution_count": 24,
      "metadata": {},
      "outputs": [
        {
          "name": "stdout",
          "output_type": "stream",
          "text": [
            "Epoch [1/10], Loss: 7.5764, Accuracy: 0.05%, Perplexity: 1951.6860\n",
            "Epoch [2/10], Loss: 6.4637, Accuracy: 0.08%, Perplexity: 641.4094\n",
            "Epoch [3/10], Loss: 6.2345, Accuracy: 0.09%, Perplexity: 510.0681\n",
            "Epoch [4/10], Loss: 6.1315, Accuracy: 0.10%, Perplexity: 460.1183\n",
            "Epoch [5/10], Loss: 6.0817, Accuracy: 0.11%, Perplexity: 437.7627\n",
            "Epoch [6/10], Loss: 6.0900, Accuracy: 0.11%, Perplexity: 441.4312\n",
            "Epoch [7/10], Loss: 6.0900, Accuracy: 0.11%, Perplexity: 441.4013\n",
            "Epoch [8/10], Loss: 6.0822, Accuracy: 0.11%, Perplexity: 438.0112\n",
            "Epoch [9/10], Loss: 6.0971, Accuracy: 0.11%, Perplexity: 444.5545\n",
            "Epoch [10/10], Loss: 6.0442, Accuracy: 0.12%, Perplexity: 421.6741\n"
          ]
        }
      ],
      "source": [
        "# Training Loop\n",
        "\n",
        "for epoch in range(epochs):\n",
        "  model.train()\n",
        "\n",
        "  # Metrics\n",
        "  epoch_loss = 0\n",
        "  epoch_correct = 0\n",
        "  epoch_samples = 0\n",
        "\n",
        "  for inputs, targets in train_loader:\n",
        "        inputs = inputs.to(device)  # Move input data to the device\n",
        "        targets = targets.to(device)\n",
        "\n",
        "        # Forward pass\n",
        "        outputs = model(inputs)\n",
        "        loss = criterion(outputs, targets)\n",
        "\n",
        "        # Backward pass and optimization\n",
        "        optimizer.zero_grad()\n",
        "        loss.backward()\n",
        "        optimizer.step()\n",
        "\n",
        "        # Loss\n",
        "        epoch_loss += loss.item()\n",
        "\n",
        "        # Predicted\n",
        "        _, predicted = torch.max(outputs, 1)\n",
        "        epoch_correct += (predicted == targets).sum().item()\n",
        "        epoch_samples += targets.size(0)\n",
        "\n",
        "  # Calculate average loss and accuracy for epoch\n",
        "  avg_loss = epoch_loss / len(train_loader)\n",
        "  acc = epoch_correct / epoch_samples\n",
        "\n",
        "  # Perplexity\n",
        "  perp = torch.exp(torch.tensor(avg_loss))\n",
        "\n",
        "  # Print epoch statistics\n",
        "  print(f'Epoch [{epoch+1}/{epochs}], Loss: {avg_loss:.4f}, Accuracy: {acc:.2f}%, Perplexity: {perp:.4f}')\n"
      ]
    },
    {
      "cell_type": "markdown",
      "metadata": {
        "id": "PSXfwYISDoPN"
      },
      "source": [
        "## Avaliação"
      ]
    },
    {
      "cell_type": "code",
      "execution_count": 25,
      "metadata": {
        "id": "nXXO78GSDqPg"
      },
      "outputs": [
        {
          "name": "stdout",
          "output_type": "stream",
          "text": [
            "Test Accuracy: 7.828337287039034%\n",
            "Average Perplexity: 3931.050048828125\n"
          ]
        },
        {
          "name": "stderr",
          "output_type": "stream",
          "text": [
            "C:\\Users\\fabiogr\\AppData\\Local\\Temp\\ipykernel_2964\\282167542.py:30: UserWarning: To copy construct from a tensor, it is recommended to use sourceTensor.clone().detach() or sourceTensor.clone().detach().requires_grad_(True), rather than torch.tensor(sourceTensor).\n",
            "  average_perplexity = torch.exp(torch.tensor(average_loss))\n"
          ]
        }
      ],
      "source": [
        "import torch.nn.functional as F\n",
        "\n",
        "model.eval()\n",
        "\n",
        "loss_sum = 0\n",
        "total_sum = 0\n",
        "correct_sum = 0\n",
        "\n",
        "with torch.no_grad():\n",
        "    for inputs, targets in val_loader:\n",
        "        inputs = inputs.to(device)\n",
        "        targets = targets.to(device)\n",
        "\n",
        "        # Forward pass\n",
        "        outputs = model(inputs)\n",
        "        loss = F.cross_entropy(outputs, targets)\n",
        "        loss_sum += loss\n",
        "\n",
        "        # Get the predicted labels\n",
        "        _, predicted = torch.max(outputs, 1)\n",
        "\n",
        "        total_sum += targets.size(0)\n",
        "        correct_sum += (predicted == targets).sum().item()\n",
        "\n",
        "# Calculate accuracy\n",
        "acc = 100 * correct_sum/total_sum\n",
        "\n",
        "# Calculate average perplexity\n",
        "average_loss = loss_sum / len(val_loader)\n",
        "average_perplexity = torch.exp(torch.tensor(average_loss))\n",
        "\n",
        "print(f'Test Accuracy: {acc}%')\n",
        "print(f'Average Perplexity: {average_perplexity}')"
      ]
    },
    {
      "cell_type": "markdown",
      "metadata": {
        "id": "A1zhxVqfzJ_M"
      },
      "source": [
        "## Exemplo de uso"
      ]
    },
    {
      "cell_type": "code",
      "execution_count": 26,
      "metadata": {
        "id": "3PExkoWOzJ_M"
      },
      "outputs": [
        {
          "name": "stdout",
          "output_type": "stream",
          "text": [
            "Frase: --Dentro de uma hora, continuou o cavalheiro apontando para o corpo de Loredano, este homem será justiçado á frente da banda; para elle não ha julgamento; eu o condemno como pai, como chefe, como um homem que mata o cão ingrato que o morde. É ignobil de mais para que o toque com as minhas armas; entrego-o ao baraço e ao cutelo.\n",
            "[567, 4, 10, 192, 353, 3, 113, 1291, 15]\n",
            "[567, 4, 10, 192, 353, 3, 113, 1291, 15, 3260]\n",
            "[567, 4, 10, 192, 353, 3, 113, 1291, 15, 3260, 2875]\n",
            "[567, 4, 10, 192, 353, 3, 113, 1291, 15, 3260, 2875, 2]\n",
            "[567, 4, 10, 192, 353, 3, 113, 1291, 15, 3260, 2875, 2, 14]\n",
            "[567, 4, 10, 192, 353, 3, 113, 1291, 15, 3260, 2875, 2, 14, 451]\n",
            "[567, 4, 10, 192, 353, 3, 113, 1291, 15, 3260, 2875, 2, 14, 451, 3]\n",
            "[567, 4, 10, 192, 353, 3, 113, 1291, 15, 3260, 2875, 2, 14, 451, 3, 5]\n",
            "[567, 4, 10, 192, 353, 3, 113, 1291, 15, 3260, 2875, 2, 14, 451, 3, 5, 23]\n",
            "[567, 4, 10, 192, 353, 3, 113, 1291, 15, 3260, 2875, 2, 14, 451, 3, 5, 23, 2718]\n",
            "[567, 4, 10, 192, 353, 3, 113, 1291, 15, 3260, 2875, 2, 14, 451, 3, 5, 23, 2718, 2696]\n",
            "\u001b[34m['dentro', 'de', 'uma', 'hora', 'continuou', 'o', 'cavalheiro', 'apontando', 'para']\u001b[0m \u001b[31m['they', 'guardai', 'que', 'sua', 'tom', 'o', 'e', 'como', 'adormecidos', 'formado']\u001b[0m \n"
          ]
        }
      ],
      "source": [
        "# Código adaptado da implementação do Cesar Bastos\n",
        "from colorama import Fore, Style\n",
        "\n",
        "text = cleaned_paragraphs\n",
        "model.to(device)\n",
        "def generate_text(model, vocab, text, max_length, context_size):\n",
        "    words = []\n",
        "    # Ensure there are enough words for at least one sequence\n",
        "    while len(words) < context_size:\n",
        "        random_number = random.randint(1, 4891)\n",
        "        words = encode_sentence(text[random_number], vocab)\n",
        "        if not words:\n",
        "            words = []\n",
        "            continue  # Skip if the sentence cannot be encoded\n",
        "        words = words[:context_size]\n",
        "        #print(words)\n",
        "        if any(token == 0 for token in words):\n",
        "            words = []\n",
        "            continue  # Skip if any token is zero (assuming 0 is a special token)\n",
        "        context = words\n",
        "\n",
        "    print(f\"Frase: {cleaned_paragraphs[random_number]}\")\n",
        "    print(words)\n",
        "\n",
        "    for _ in range(max_length):\n",
        "        words_tensor = torch.tensor(context[-context_size:], dtype=torch.long).unsqueeze(0).to(device)\n",
        "        logits = model(words_tensor)\n",
        "        probs = F.softmax(logits, dim=1)\n",
        "        next_token = torch.multinomial(probs, num_samples=1)\n",
        "        context.append(next_token.item())\n",
        "        print(context)\n",
        "    frase = []\n",
        "    for i in context: ##Agradecimentos a Ramon Abilio\n",
        "        word = next((word for word, code in vocab.items() if code == i), \"<UNKNOWN>\")\n",
        "        frase.append(word)\n",
        "\n",
        "    print(f\"{Fore.BLUE}{frase[:context_size]}{Style.RESET_ALL} {Fore.RED}{frase[-max_length:]}{Style.RESET_ALL} \")\n",
        "\n",
        "context_size = 9\n",
        "max_length= 10\n",
        "generate_text(model, vocab, text, max_length, context_size)"
      ]
    }
  ],
  "metadata": {
    "accelerator": "GPU",
    "colab": {
      "gpuType": "T4",
      "provenance": []
    },
    "kernelspec": {
      "display_name": "IA024",
      "language": "python",
      "name": "python3"
    },
    "language_info": {
      "codemirror_mode": {
        "name": "ipython",
        "version": 3
      },
      "file_extension": ".py",
      "mimetype": "text/x-python",
      "name": "python",
      "nbconvert_exporter": "python",
      "pygments_lexer": "ipython3",
      "version": "3.12.1"
    }
  },
  "nbformat": 4,
  "nbformat_minor": 0
}
