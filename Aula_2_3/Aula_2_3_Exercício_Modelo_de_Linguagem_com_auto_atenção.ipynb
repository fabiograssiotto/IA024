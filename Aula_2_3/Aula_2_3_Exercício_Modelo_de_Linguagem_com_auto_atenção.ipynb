{
  "cells": [
    {
      "cell_type": "markdown",
      "metadata": {
        "id": "fMI0JT_YuYF3"
      },
      "source": [
        "## Exercício: Modelo de Linguagem com auto-atenção\n",
        "\n",
        "Este exercício é similar ao da aula passada, mas iremos agora treinar uma rede neural *com auto-atenção* para prever a próxima palavra de um texto, data as palavras anteriores como entrada.\n",
        "\n",
        "Na camada de auto-atenção, deve-se implementar (vide slide 34):\n",
        "- Embeddings de posição\n",
        "- Projeções lineares (WQ, WK, WV, WO)\n",
        "- Camada de feed forward (2-layer MLP)\n",
        "\n",
        "Instrucões:\n",
        "- É necessário fazer duas implementações da camada de auto-atenção: uma usando laços (ineficiente, mas fácil de entender) e outra matricial (eficiente mas difícil de entender). Usar slide 36 como referência.\n",
        "\n",
        "- Fazer um assert para garantir que o resultado das duas implementações é exatamente igual.\n",
        "\n",
        "- No treinamento, usar apenas a implementação matricial."
      ]
    },
    {
      "cell_type": "markdown",
      "metadata": {},
      "source": [
        "## Imports"
      ]
    },
    {
      "cell_type": "code",
      "execution_count": 1,
      "metadata": {},
      "outputs": [],
      "source": [
        "import os\n",
        "import sys\n",
        "import random\n",
        "import torch.nn as nn\n",
        "import torch.nn.functional as F\n",
        "import time\n",
        "import math\n",
        "from sklearn.model_selection import train_test_split\n",
        "from torch import nn"
      ]
    },
    {
      "cell_type": "markdown",
      "metadata": {},
      "source": [
        "## Variáveis Globais e Inicialização"
      ]
    },
    {
      "cell_type": "code",
      "execution_count": 2,
      "metadata": {},
      "outputs": [],
      "source": [
        "# Global variables\n",
        "\n",
        "# Vocabulary\n",
        "vocab_size = 5000\n",
        "context_size = 5\n",
        "pattern = r'\\w+|[,;.:!?\\']'\n",
        "\n",
        "# Training\n",
        "batch_size = 128\n",
        "epochs = 10\n",
        "lr = 0.1\n",
        "\n",
        "# Model\n",
        "embedding_dim = 256\n",
        "hidden_dim = 128"
      ]
    },
    {
      "cell_type": "code",
      "execution_count": 3,
      "metadata": {},
      "outputs": [],
      "source": [
        "# Colab environment\n",
        "IN_COLAB = 'google.colab' in sys.modules\n",
        "\n",
        "if (IN_COLAB):\n",
        "    %pip install colorama\n",
        "\n",
        "    # Google Drive\n",
        "    from google.colab import drive\n",
        "    drive.mount('/content/drive', force_remount=True)\n",
        "\n",
        "    project_folder=\"/content/drive/MyDrive/Classes/IA024/Aula_2_3\"\n",
        "    os.chdir(project_folder)\n",
        "    !ls -la"
      ]
    },
    {
      "cell_type": "markdown",
      "metadata": {
        "id": "bYbkEzdD37sZ"
      },
      "source": [
        "## Faz download e carrega o dataset"
      ]
    },
    {
      "cell_type": "code",
      "execution_count": 4,
      "metadata": {
        "colab": {
          "base_uri": "https://localhost:8080/"
        },
        "id": "9qAnqY_q0beK",
        "outputId": "f810fdb0-138d-4917-b7ef-69ab266acef6"
      },
      "outputs": [],
      "source": [
        "# Check if download is necessary\n",
        "if not os.path.exists(\"67724.txt.utf-8\"):\n",
        "    print(\"Downloading Gutenberg texts\")\n",
        "\n",
        "    !wget https://www.gutenberg.org/ebooks/67724.txt.utf-8\n",
        "    !wget https://www.gutenberg.org/ebooks/67725.txt.utf-8"
      ]
    },
    {
      "cell_type": "code",
      "execution_count": 5,
      "metadata": {
        "colab": {
          "base_uri": "https://localhost:8080/"
        },
        "id": "6_UzC9pV091C",
        "outputId": "1553b04f-24c4-4027-8cab-0907f92f04df"
      },
      "outputs": [
        {
          "data": {
            "text/plain": [
              "4969"
            ]
          },
          "execution_count": 5,
          "metadata": {},
          "output_type": "execute_result"
        }
      ],
      "source": [
        "text = open(\"67724.txt.utf-8\",\"r\").read()\n",
        "text += open(\"67725.txt.utf-8\",\"r\").read()\n",
        "\n",
        "paragraphs = text.split(\"\\n\\n\")\n",
        "\n",
        "len(paragraphs)"
      ]
    },
    {
      "cell_type": "code",
      "execution_count": 6,
      "metadata": {},
      "outputs": [
        {
          "name": "stdout",
          "output_type": "stream",
          "text": [
            "The Project Gutenberg eBook of O Guarany: romance brazileiro, Vol. 1 (of 2)\n",
            "    \n",
            "This ebook is for the use of anyone anywhere in the United States and\n",
            "most other parts of the world at no cost and with almost no restrictions\n",
            "whatsoever. You may copy it, give it away or re-use it under the terms\n",
            "of the Project Gutenberg License included with this ebook or online\n",
            "at www.gutenberg.org. If you are not located in the United States,\n",
            "you will have to check the laws of the country where you are located\n",
            "before using this eBook.\n"
          ]
        }
      ],
      "source": [
        "# Checking the text\n",
        "print(paragraphs[0])"
      ]
    },
    {
      "cell_type": "code",
      "execution_count": 7,
      "metadata": {
        "colab": {
          "base_uri": "https://localhost:8080/"
        },
        "id": "UhUFjtNdDuG0",
        "outputId": "78798c0c-deca-4454-d3fb-7d3ba70f3e91"
      },
      "outputs": [
        {
          "name": "stdout",
          "output_type": "stream",
          "text": [
            "--De certo.\n",
            "\n",
            "--Aquelle bugre endemoninhado não se lembrou de trazer hontem uma onça viva para a casa!\n",
            "\n",
            "E fazia bem em voltar, porque o indio com o seu zelo ardente não duvidaria vasar-lhe os olhos para evitar que chegando-se á beira do rio, visse a moça a banhar-se nas aguas.\n",
            "\n",
            "De repente um rumor surdo e abafado, como de um tremor subterraneo, propagando-se por aquella solidão, quebrou o silencio profundo do ermo.\n",
            "\n",
            "--Deixai-vos dessas idéas, Isabel! Crede-me; uma unica razão póde justificar semelhante loucura.\n",
            "\n",
            "Number of paragraphs: 4892\n"
          ]
        },
        {
          "data": {
            "text/plain": [
              "4892"
            ]
          },
          "execution_count": 7,
          "metadata": {},
          "output_type": "execute_result"
        }
      ],
      "source": [
        "cleaned_paragraphs = [paragraph.replace(\"\\n\", \" \") for paragraph in paragraphs if paragraph.strip()]\n",
        "\n",
        "# Print 5 random paragraphs\n",
        "num_paragraphs = len(cleaned_paragraphs)\n",
        "for i in range(0,5):\n",
        "    idx = random.randrange(num_paragraphs)\n",
        "    print(f\"{cleaned_paragraphs[idx]}\\n\")\n",
        "\n",
        "print(\"Number of paragraphs: \" + str(num_paragraphs))\n",
        "\n",
        "len(cleaned_paragraphs)"
      ]
    },
    {
      "cell_type": "markdown",
      "metadata": {
        "id": "bFVN2ihb33Rf"
      },
      "source": [
        "## Análise do dataset"
      ]
    },
    {
      "cell_type": "code",
      "execution_count": 8,
      "metadata": {
        "colab": {
          "base_uri": "https://localhost:8080/"
        },
        "id": "qSRHqe3H4ZFw",
        "outputId": "4a985c7a-ce1d-4b72-d253-c9fbbc5f9440"
      },
      "outputs": [
        {
          "data": {
            "text/plain": [
              "12610"
            ]
          },
          "execution_count": 8,
          "metadata": {},
          "output_type": "execute_result"
        }
      ],
      "source": [
        "# Conta as palavras no dataset\n",
        "from collections import Counter\n",
        "import re\n",
        "\n",
        "def count_words(texts):\n",
        "    word_counts = Counter()\n",
        "    for text in texts:\n",
        "        word_counts.update(re.findall(pattern, text.lower()))\n",
        "    return word_counts\n",
        "\n",
        "word_counts = count_words(cleaned_paragraphs)\n",
        "\n",
        "len(word_counts)"
      ]
    },
    {
      "cell_type": "markdown",
      "metadata": {
        "id": "EyGVDL9KzJ_I"
      },
      "source": [
        "## Criando um vocabulário"
      ]
    },
    {
      "cell_type": "code",
      "execution_count": 9,
      "metadata": {
        "id": "FiP7OCo9zJ_I"
      },
      "outputs": [],
      "source": [
        "most_frequent_words = [word for word, count in word_counts.most_common(vocab_size)]\n",
        "vocab = {word: i for i, word in enumerate(most_frequent_words, 1)}"
      ]
    },
    {
      "cell_type": "code",
      "execution_count": 10,
      "metadata": {},
      "outputs": [
        {
          "name": "stdout",
          "output_type": "stream",
          "text": [
            "Most Frequent Words: ['.', ',', 'a', 'que', 'o', 'de', 'e', 'se', ';', 'um']\n",
            "Vocabulary Size: 5000\n"
          ]
        }
      ],
      "source": [
        "print(f\"Most Frequent Words: {most_frequent_words[:10]}\")\n",
        "print(f\"Vocabulary Size: {len(vocab)}\")"
      ]
    },
    {
      "cell_type": "code",
      "execution_count": 11,
      "metadata": {
        "colab": {
          "base_uri": "https://localhost:8080/"
        },
        "id": "RhbhAsZbzJ_J",
        "outputId": "6a53c9e0-308d-4082-e225-cfa376e8f39a"
      },
      "outputs": [
        {
          "name": "stdout",
          "output_type": "stream",
          "text": [
            " Publicando este livro em 1857, se disse ser aquella primeira edição uma prova typographica, que algum dia talvez o autor se dispuzesse a rever.\n",
            "[0, 146, 4383, 23, 0, 2, 8, 50, 117, 276, 266, 2669, 13, 1071, 0, 2, 4, 193, 137, 287, 5, 2264, 8, 0, 3, 2672, 1]\n"
          ]
        }
      ],
      "source": [
        "def encode_sentence(sentence, vocab):\n",
        "    return [vocab.get(word, 0) for word in re.findall(pattern, sentence.lower())]\n",
        "\n",
        "print(cleaned_paragraphs[20])\n",
        "print(encode_sentence(cleaned_paragraphs[20], vocab))"
      ]
    },
    {
      "cell_type": "markdown",
      "metadata": {
        "id": "wia_ygbvzJ_J"
      },
      "source": [
        "## Classe do dataset"
      ]
    },
    {
      "cell_type": "code",
      "execution_count": 12,
      "metadata": {
        "id": "Iy-elI1magRR"
      },
      "outputs": [],
      "source": [
        "# Dataset class\n",
        "import torch\n",
        "from torch.utils.data import Dataset, DataLoader\n",
        "\n",
        "class CustomDataset(Dataset):\n",
        "  def __init__(self, paragraphs, vocab, context):\n",
        "    self.paragraphs = paragraphs\n",
        "    self.vocab = vocab\n",
        "    self.context = context\n",
        "    self.tokens, self.targets = self.setup()\n",
        "\n",
        "  def __len__(self):\n",
        "    return len(self.tokens)\n",
        "\n",
        "  def __getitem__(self, idx):\n",
        "    return torch.tensor(self.tokens[idx]), torch.tensor(self.targets[idx])\n",
        "  \n",
        "  def setup(self):\n",
        "    tokens = []\n",
        "    targets = []\n",
        "    for paragraph in self.paragraphs:\n",
        "      encoded = encode_sentence(paragraph, self.vocab)\n",
        "      \n",
        "      # If paragraph is smaller than the context, skip it.\n",
        "      if len(encoded) < self.context + 1:\n",
        "          continue\n",
        "\n",
        "      for i in range(len(encoded) - self.context):\n",
        "        tks = encoded[i:i+self.context]\n",
        "        tgt = encoded[i+self.context]\n",
        "        # Only add if there are no unknown tokens in both context and target.\n",
        "        bad_token = 0\n",
        "        if not (bad_token in tks or tgt == bad_token):\n",
        "          tokens.append(tks)\n",
        "          targets.append(tgt)\n",
        "    return tokens, targets\n"
      ]
    },
    {
      "cell_type": "code",
      "execution_count": 13,
      "metadata": {
        "colab": {
          "base_uri": "https://localhost:8080/"
        },
        "id": "aD1CVci2zJ_J",
        "outputId": "5bf0839e-f30e-4ff2-ed6f-4f3fda782b7c"
      },
      "outputs": [
        {
          "name": "stdout",
          "output_type": "stream",
          "text": [
            "Training samples: 3913\n",
            "Validation samples: 979\n",
            "\n",
            "Training dataset samples: 59646\n",
            "Validation dataset samples: 16215\n"
          ]
        }
      ],
      "source": [
        "# Train/Validation split\n",
        "train_data, val_data = train_test_split(cleaned_paragraphs, test_size=0.2, random_state=18)\n",
        "\n",
        "train_dataset = CustomDataset(train_data, vocab, context_size)\n",
        "val_dataset = CustomDataset(val_data, vocab, context_size)\n",
        "\n",
        "# Counting all Samples\n",
        "print(f\"Training samples: {len(train_data)}\")\n",
        "print(f\"Validation samples: {len(val_data)}\")\n",
        "print()\n",
        "print(f\"Training dataset samples: {len(train_dataset)}\")\n",
        "print(f\"Validation dataset samples: {len(val_dataset)}\")"
      ]
    },
    {
      "cell_type": "code",
      "execution_count": 14,
      "metadata": {
        "id": "gC0C5qn2zJ_J"
      },
      "outputs": [
        {
          "name": "stdout",
          "output_type": "stream",
          "text": [
            "[tensor([[  50,    5,   43,   16,    3],\n",
            "        [  16,    3,  153,  374,    7],\n",
            "        [  12,    8, 1047, 1904, 1694],\n",
            "        [  55,   38,   22, 1173,   11],\n",
            "        [2001,    2,   15,   55,  352],\n",
            "        [ 137,    6, 1326,    2,  180],\n",
            "        [  10, 2417,   18, 4933,    8],\n",
            "        [   7,  667,    9,   19,  215],\n",
            "        [  38,    5,  619,    6,   21],\n",
            "        [ 527,    1,  472,  471, 3233],\n",
            "        [  13,  338, 1503,    1, 1354],\n",
            "        [   7,  102, 1769, 2722,    2],\n",
            "        [   8,    2,    7,  562,    3],\n",
            "        [ 925,  231,   76,    3,  300],\n",
            "        [  71,   13,  265,   18,   13],\n",
            "        [   6,   30,    1,   47,    6],\n",
            "        [  12, 4041,   27,  248,  106],\n",
            "        [ 282,   41,  506,   53, 1257],\n",
            "        [   3,  211,   24,   76,   23],\n",
            "        [ 155,  116,  191, 1514,  420],\n",
            "        [ 281,  155, 1735, 3264, 1736],\n",
            "        [  57,   20,    1,    1,    1],\n",
            "        [ 376,    6,  540,    9,  103],\n",
            "        [  13,  671,    6, 1094,    4],\n",
            "        [ 172,   25,    1,    1,    1],\n",
            "        [1082,    6, 1967,    2,    7],\n",
            "        [  27,  216,    2,   77,    2],\n",
            "        [ 535,    2,    7,  549,    3],\n",
            "        [   3,   17,  580,    9,    7],\n",
            "        [2537,    2,    4, 3938,   44],\n",
            "        [ 163,  486,    2,  195,   20],\n",
            "        [   1,    1,    1,    1,    1],\n",
            "        [  59,  971,    6,   17,  511],\n",
            "        [ 245,    3,   21,    7, 1180],\n",
            "        [4976,   13, 2111,   36,   68],\n",
            "        [3907,    3, 2527,  938,    2],\n",
            "        [   1,    1,    1,    1,    1],\n",
            "        [  31,  149, 1958,   16,   15],\n",
            "        [  23,    4,    3,  347,   51],\n",
            "        [  76,   23,    4, 1369,    3],\n",
            "        [  57,    9, 3115,   26,  434],\n",
            "        [  31, 2431,    4,   40,    8],\n",
            "        [   1,    1,    1,    1,    1],\n",
            "        [   2, 1256,    1,  719,   53],\n",
            "        [1408,    4,   32,   27,  855],\n",
            "        [  12,  443,  133, 4574,   14],\n",
            "        [  20,   37, 1661,    7, 1233],\n",
            "        [1778,   24,   80,   10,   97],\n",
            "        [  23,  915,  642,   20,    1],\n",
            "        [1145,    2,   10,  753, 3356],\n",
            "        [  37,    4,   88, 1818,    3],\n",
            "        [   5,  176,   14,   68,  327],\n",
            "        [   6, 1810, 2132,    6, 1546],\n",
            "        [  37,    3,  955,    9,   60],\n",
            "        [   2,   39,   11,  512,    1],\n",
            "        [   2,    7, 3508,    3,  109],\n",
            "        [  46,  560,  175,   42,  217],\n",
            "        [  17,   57,    9, 1000,    8],\n",
            "        [   6,  255,   36, 2636,    6],\n",
            "        [ 348,    5,  469,  246,    5],\n",
            "        [  10, 1587,    4,  681,   30],\n",
            "        [   1,    1,    1,    1,    1],\n",
            "        [   6, 1965,  616,    4,  158],\n",
            "        [3019,    2,    7,  924,    3],\n",
            "        [   7, 3870,    8,    6, 1621],\n",
            "        [   5,    4,   52, 5000,   20],\n",
            "        [ 254,    5, 1393,    4,  845],\n",
            "        [ 159,   16,   49,    9,  185],\n",
            "        [   3, 2611,    4,   29, 3937],\n",
            "        [   6,  216,    3, 2584,    6],\n",
            "        [2867,    2,   28,    8,  435],\n",
            "        [ 372,  627, 4597,    5,  304],\n",
            "        [ 180,    1,   30,    1,   47],\n",
            "        [   1,   47,    6,   73,   33],\n",
            "        [  15, 1532,    6, 2136,    3],\n",
            "        [  32,  413,    9,   12,   69],\n",
            "        [   5, 1556,   16,   10,  245],\n",
            "        [ 162,   14,  130,    4, 1250],\n",
            "        [1463,   23,    4,    5,   87],\n",
            "        [1088,    7, 1404,    9,   19],\n",
            "        [  22, 1145,    8, 4965,    9],\n",
            "        [  79,  521,    4,   72, 3150],\n",
            "        [   4, 1593,   48,   30,    1],\n",
            "        [  58, 2035,   36,   17, 4344],\n",
            "        [ 947,   18,  400, 3078,   24],\n",
            "        [ 194,    9,   26,  348, 2163],\n",
            "        [  77,    2,    4,  183,  941],\n",
            "        [  14,  211,    2,    7, 3508],\n",
            "        [ 715,   11,  148,   74,   66],\n",
            "        [  12,   37,  408,  119,    4],\n",
            "        [2071,   14,   46,  560,  175],\n",
            "        [ 234,   44, 2754,    2,   50],\n",
            "        [   3, 1046, 3509,   38,    5],\n",
            "        [  34,   21, 4856,    1,    5],\n",
            "        [   5,  293,    6,   64,    9],\n",
            "        [  47,    6,   73,   12,    8],\n",
            "        [ 101,   21,  246,   13,  219],\n",
            "        [ 223,    3, 2868,    3,   98],\n",
            "        [ 548,    3,  179,    9,    3],\n",
            "        [ 164,  842,   18,   13,  213],\n",
            "        [  33,   10,  862,    2,  105],\n",
            "        [3073,  688, 1572,    3,   68],\n",
            "        [ 651,    4,    5,  181,    2],\n",
            "        [ 863,   70,    3,  347, 2168],\n",
            "        [  12, 1015,   15,  241,  322],\n",
            "        [   1,    1,    1,    1,    1],\n",
            "        [1908,    1,  986,    3,  146],\n",
            "        [  61,   10,  161,  441,   14],\n",
            "        [ 127,  111,   30,    1,   47],\n",
            "        [1358,   16,    4,    5,  122],\n",
            "        [   8,   24,   46,  524,  293],\n",
            "        [1466, 1756,    4, 2842,   26],\n",
            "        [   4,   54,   12,  247,  929],\n",
            "        [ 281,  155,  286, 2209, 2210],\n",
            "        [   3,    4,   40,  944,    9],\n",
            "        [  28,    8,   15,  147,   14],\n",
            "        [   5,  730,   43,    2, 2024],\n",
            "        [   2,   77, 3161,    5,    4],\n",
            "        [   2,    3,   81,   14,   68],\n",
            "        [1414,   33,    3,  373,   11],\n",
            "        [   1,  177,   29,    4,   33],\n",
            "        [   3, 2706,    6, 1008, 1966],\n",
            "        [   8,   38,   22,  473,   18],\n",
            "        [   2,  360,   77,    2,    3],\n",
            "        [  30,    1,   47, 3174,   15],\n",
            "        [ 231,   76,   38,  276,  748],\n",
            "        [ 523,   30,   61,  277,  517],\n",
            "        [   2, 4830,    3, 1004,    7]]), tensor([ 153,  283,   82,  107,   16,    1,  208,  493,    2,  437,   44,    5,\n",
            "         133,   89,  624,   73,  401, 2658,    4, 2218,   53,   39, 1607, 4694,\n",
            "         118, 1563,   10,   17,   48,   22,    1,    1, 1413,    8,    6,  618,\n",
            "           1,   55, 2258,   17,    2, 3137,    1,  719,    1,  396,   20, 1404,\n",
            "           1,   36,  486,  133,    4,  296,  602,   38,    1, 1074,  710, 1227,\n",
            "          61,    1,   95,  387,    1,  649,    2,   29,   26,   35, 3676,  431,\n",
            "           2,   10, 1184,  283, 1676,    3,    2,  141,    5,   27,   47,    6,\n",
            "         456,    3,   36,    3,  281,   52,   42,   35,    4,  250, 1845, 4329,\n",
            "           4, 1832,  518,    4,  831,    7,   79,    4,    6,    1,  455,  299,\n",
            "           2, 3143,    1,   81,    2,  783,  323,  112,    7,    8,    1,  496,\n",
            "         404,   24, 2910,  248,   16,    2, 1644,  457])]\n"
          ]
        }
      ],
      "source": [
        "train_loader = DataLoader(train_dataset, batch_size=batch_size, shuffle=True)\n",
        "val_loader = DataLoader(val_dataset, batch_size=batch_size, shuffle=True)\n",
        "\n",
        "sample = next(iter(train_loader))\n",
        "print(sample)"
      ]
    },
    {
      "cell_type": "markdown",
      "metadata": {
        "id": "-5_-Yud0zJ_K"
      },
      "source": [
        "## Model"
      ]
    },
    {
      "cell_type": "markdown",
      "metadata": {},
      "source": [
        "#### Implementação das camadas de self-attention (Loop e Matricial)"
      ]
    },
    {
      "cell_type": "code",
      "execution_count": 15,
      "metadata": {},
      "outputs": [],
      "source": [
        "# Positional Embedding - as described in \"Attention is All You Need\"\n",
        "class PositionalEncoding(nn.Module):\n",
        "    def __init__(self, max_sequence, embedding_dim):\n",
        "        super().__init__()\n",
        "        self.positional_encoding = torch.zeros(max_sequence, embedding_dim)\n",
        "        \n",
        "        # List of positions from 0..max_sequence in vector form\n",
        "        position_list = torch.arange(0, max_sequence, dtype=torch.float)\n",
        "        position_list = position_list.unsqueeze(1)\n",
        "\n",
        "        div_term = torch.exp(torch.arange(0, embedding_dim, 2).float() * (-math.log(10000.0) / embedding_dim))\n",
        "\n",
        "        self.positional_encoding[:, 0::2] = torch.sin(position_list * div_term)\n",
        "        self.positional_encoding[:, 1::2] = torch.cos(position_list * div_term)\n",
        "        self.positional_encoding = self.positional_encoding.unsqueeze(0)\n",
        "    \n",
        "    def forward(self, x):\n",
        "        batch_size, seq_length, embedding_dim = x.size()\n",
        "        positional_encoding = self.positional_encoding[:, :seq_length, :]\n",
        "        positional_encoding = positional_encoding.to(x.device)\n",
        "        # Position encoding is added to the input embeddings.\n",
        "        return x + positional_encoding\n",
        "    "
      ]
    },
    {
      "cell_type": "code",
      "execution_count": 56,
      "metadata": {},
      "outputs": [],
      "source": [
        "# Adaptado da implementação do Ramon, muito elegante e traduziu bem o slide em aula.\n",
        "\n",
        "class SelfAttention_Loop(nn.Module):\n",
        "  def __init__(self, embedding_dim, vocab_size):\n",
        "    super(SelfAttention_Loop, self).__init__()\n",
        "    self.WQ = nn.Linear(embedding_dim, embedding_dim)\n",
        "    self.WK = nn.Linear(embedding_dim, embedding_dim)\n",
        "    self.WV = nn.Linear(embedding_dim, embedding_dim)\n",
        "    self.WO = nn.Linear(embedding_dim, vocab_size)\n",
        "\n",
        "  def __init__(self, WQ, WK, WV, WO):\n",
        "    super(SelfAttention_Loop, self).__init__()\n",
        "    self.WQ = WQ\n",
        "    self.WK = WK\n",
        "    self.WV = WV\n",
        "    self.WO = WO\n",
        "\n",
        "  def forward(self, seq):\n",
        "    E = []  \n",
        "    for Xq in seq:\n",
        "        q = self.WQ(Xq)\n",
        "        scores = []\n",
        "        for Xk in seq:\n",
        "            k = self.WK(Xk)\n",
        "            score = torch.dot(q, k.transpose(-1,0))\n",
        "            scores.append(score)\n",
        "\n",
        "        scores_tensor = torch.tensor(scores)  \n",
        "        probs         = scores_tensor.softmax(dim=-1)\n",
        "\n",
        "        e = 0\n",
        "        for xv, p in zip(seq, probs):\n",
        "            v = self.WV(xv)\n",
        "            e += v * p\n",
        "\n",
        "        e = self.WO(e)\n",
        "        E.append(e)\n",
        "\n",
        "    return torch.stack(E) "
      ]
    },
    {
      "cell_type": "code",
      "execution_count": 59,
      "metadata": {},
      "outputs": [],
      "source": [
        "# Matrix Implementation\n",
        "class SelfAttention_Matrix(nn.Module):\n",
        "  def __init__(self, embedding_dim):\n",
        "    super().__init__()\n",
        "\n",
        "    self.WQ = nn.Linear(embedding_dim, embedding_dim)\n",
        "    self.WK = nn.Linear(embedding_dim, embedding_dim)\n",
        "    self.WV = nn.Linear(embedding_dim, embedding_dim)\n",
        "    self.WO = nn.Linear(embedding_dim, vocab_size)\n",
        "  \n",
        "  def __init__(self, WQ, WK, WV, WO):\n",
        "    super(SelfAttention_Matrix, self).__init__()\n",
        "    self.WQ = WQ\n",
        "    self.WK = WK\n",
        "    self.WV = WV\n",
        "    self.WO = WO\n",
        "\n",
        "  def forward(self, inputs):\n",
        "    # Linear projections\n",
        "    Q = self.WQ(inputs)\n",
        "    K = self.WK(inputs)\n",
        "    V = self.WV(inputs)\n",
        "\n",
        "    scores = torch.matmul(Q, K.transpose(-2, -1))\n",
        "    probs = F.softmax(scores, dim=-1)\n",
        "    new_embedding = torch.matmul(probs, V)\n",
        "    # Projection in WO\n",
        "    new_embedding = self.WO(new_embedding)\n",
        "    return new_embedding"
      ]
    },
    {
      "cell_type": "markdown",
      "metadata": {},
      "source": [
        "### Teste das Camadas de Atenção"
      ]
    },
    {
      "cell_type": "code",
      "execution_count": 61,
      "metadata": {},
      "outputs": [
        {
          "name": "stdout",
          "output_type": "stream",
          "text": [
            "Loop Embeds:\n",
            "tensor([[ 0.2161,  0.4319,  0.0966,  0.4110,  0.1141,  0.4690, -0.5834,  0.3961,\n",
            "          0.3644,  0.0632],\n",
            "        [ 0.1981,  0.4274,  0.1804,  0.4123,  0.2065,  0.3911, -0.6120,  0.4778,\n",
            "          0.2714,  0.0425],\n",
            "        [ 0.2300,  0.3589,  0.0635,  0.3877,  0.0894,  0.4832, -0.5586,  0.3793,\n",
            "          0.4310,  0.1156],\n",
            "        [ 0.1980,  0.4954,  0.2507,  0.3805,  0.2272,  0.2595, -0.6232,  0.5030,\n",
            "          0.1208, -0.1602],\n",
            "        [ 0.1827,  0.4501,  0.2197,  0.4043,  0.2598,  0.3316, -0.6245,  0.5104,\n",
            "          0.1991,  0.0009]], grad_fn=<StackBackward0>)\n",
            "Matrix Embeds:\n",
            "tensor([[ 0.2161,  0.4319,  0.0966,  0.4110,  0.1141,  0.4690, -0.5834,  0.3961,\n",
            "          0.3644,  0.0632],\n",
            "        [ 0.1981,  0.4274,  0.1804,  0.4123,  0.2065,  0.3911, -0.6120,  0.4778,\n",
            "          0.2714,  0.0425],\n",
            "        [ 0.2300,  0.3589,  0.0635,  0.3877,  0.0894,  0.4832, -0.5586,  0.3793,\n",
            "          0.4310,  0.1156],\n",
            "        [ 0.1980,  0.4954,  0.2507,  0.3805,  0.2272,  0.2595, -0.6232,  0.5030,\n",
            "          0.1208, -0.1602],\n",
            "        [ 0.1827,  0.4501,  0.2197,  0.4043,  0.2598,  0.3316, -0.6245,  0.5104,\n",
            "          0.1991,  0.0009]], grad_fn=<AddmmBackward0>)\n",
            "\n",
            "Loop and Matrix results are the same: True\n"
          ]
        }
      ],
      "source": [
        "# Test data\n",
        "tst_dim = 5\n",
        "tst_vocab = 10\n",
        "data = torch.randint(0, tst_vocab, (tst_dim,))\n",
        "embedding = nn.Embedding(tst_vocab, tst_dim)\n",
        "embeds = embedding(data)\n",
        "\n",
        "# Projections (need to be the same for this test)\n",
        "WQ = nn.Linear(tst_dim, tst_dim)\n",
        "WK = nn.Linear(tst_dim, tst_dim)\n",
        "WV = nn.Linear(tst_dim, tst_dim)\n",
        "WO = nn.Linear(tst_dim, tst_vocab)\n",
        "\n",
        "# Loop\n",
        "attn_loop = SelfAttention_Loop(WQ, WK, WV, WO)\n",
        "embeds_attn_loop = attn_loop(embeds)\n",
        "# Matrix\n",
        "attn_matrix = SelfAttention_Matrix(WQ, WK, WV, WO)\n",
        "embeds_attn_matrix = attn_matrix(embeds)\n",
        "\n",
        "print(\"Loop Embeds:\")\n",
        "print(embeds_attn_loop)\n",
        "\n",
        "print(\"Matrix Embeds:\")\n",
        "print(embeds_attn_matrix)\n",
        "\n",
        "# Check results\n",
        "print()\n",
        "print(f'Loop and Matrix results are the same: {torch.allclose(embeds_attn_loop, embeds_attn_matrix)}')"
      ]
    },
    {
      "cell_type": "code",
      "execution_count": null,
      "metadata": {},
      "outputs": [],
      "source": [
        "class BengioModel_SelfAttentionMatrix(torch.nn.Module):\n",
        "    def __init__(self, vocab_size, embedding_dim, context_size, h):\n",
        "        super(BengioModel_SelfAttentionMatrix, self).__init__()\n",
        "        self.embeddings = nn.Embedding(vocab_size+1, embedding_dim)\n",
        "        self.attention = SelfAttention_Matrix()        \n",
        "        self.linear1 = nn.Linear(context_size * embedding_dim, h)\n",
        "        self.relu = torch.nn.ReLU()\n",
        "        self.linear2 = nn.Linear(h, vocab_size+1)\n",
        "        # Softmax to scale outputs\n",
        "        self.logSoftMax = torch.nn.LogSoftmax(dim=1)\n",
        "\n",
        "    def forward(self, inputs):\n",
        "        embeds = self.embeddings(inputs)\n",
        "        x = torch.stack(torch.unbind(embeds, dim=1), dim=1)\n",
        "        # Camada de autoatenção\n",
        "        attention  = self.attention(x)\n",
        "        # Flatten embeddings\n",
        "        embeds = embeds.view(attention.size(0), -1)\n",
        "        # Linear layer\n",
        "        out = self.linear1(embeds)\n",
        "        out = self.relu(out)\n",
        "        # Second layer\n",
        "        out = self.linear2(out)\n",
        "        # Softmax output\n",
        "        out = self.logSoftMax(out)\n",
        "        return out"
      ]
    },
    {
      "cell_type": "code",
      "execution_count": null,
      "metadata": {
        "id": "I2qKG9YczJ_K"
      },
      "outputs": [],
      "source": [
        "class BengioModel(torch.nn.Module):\n",
        "    def __init__(self, vocab_size, embedding_dim, context_size, h):\n",
        "        super(BengioModel, self).__init__()\n",
        "        self.embeddings = nn.Embedding(vocab_size+1, embedding_dim)\n",
        "        self.linear1 = nn.Linear(context_size * embedding_dim, h)\n",
        "        self.relu = torch.nn.ReLU()\n",
        "        self.linear2 = nn.Linear(h, vocab_size+1)\n",
        "        # Softmax to scale outputs\n",
        "        self.logSoftMax = torch.nn.LogSoftmax(dim=1)\n",
        "\n",
        "    def forward(self, inputs):\n",
        "        embeds = self.embeddings(inputs)\n",
        "        # Flatten embeddings\n",
        "        embeds = embeds.view(embeds.size(0), -1)\n",
        "        # Linear layer\n",
        "        out = self.linear1(embeds)\n",
        "        out = self.relu(out)\n",
        "        # Second layer\n",
        "        out = self.linear2(out)\n",
        "        # Softmax output\n",
        "        out = self.logSoftMax(out)\n",
        "        return out"
      ]
    },
    {
      "cell_type": "markdown",
      "metadata": {},
      "source": [
        "## Funções de Treinamento e Avaliação do Modelo"
      ]
    },
    {
      "cell_type": "code",
      "execution_count": null,
      "metadata": {},
      "outputs": [],
      "source": [
        "def count_parameters(model):\n",
        "    total_params = sum(p.numel() for p in model.parameters() if p.requires_grad)\n",
        "    print(f'The model has a total of {total_params:,} parameters.')"
      ]
    },
    {
      "cell_type": "code",
      "execution_count": null,
      "metadata": {},
      "outputs": [],
      "source": [
        "def initial_eval(model):\n",
        "    # Initial Perplexity and Loss\n",
        "    # Before training\n",
        "    model.eval()\n",
        "\n",
        "    loss = 0\n",
        "    perp = 0\n",
        "\n",
        "    with torch.no_grad():\n",
        "        for inputs, targets in train_loader:\n",
        "            inputs = inputs.to(device)\n",
        "            targets = targets.to(device)\n",
        "            outputs = model(inputs)\n",
        "            loss += criterion(outputs, targets).item()\n",
        "\n",
        "    loss /= len(train_loader)\n",
        "    perp = torch.exp(torch.tensor(loss))\n",
        "\n",
        "    print(f'Initial Loss: {loss:.4f}')\n",
        "    print(f'Initial Perplexity: {perp:.4f}')"
      ]
    },
    {
      "cell_type": "code",
      "execution_count": null,
      "metadata": {},
      "outputs": [],
      "source": [
        "def train(model, criterion, optimizer):\n",
        "      # Training Loop\n",
        "      model.train()\n",
        "      for epoch in range(epochs):\n",
        "\n",
        "            epoch_start = time.time()\n",
        "            # Metrics\n",
        "            epoch_loss = 0\n",
        "            epoch_correct = 0\n",
        "            epoch_samples = 0\n",
        "\n",
        "            for inputs, targets in train_loader:\n",
        "                  inputs = inputs.to(device)  # Move input data to the device\n",
        "                  targets = targets.to(device)\n",
        "\n",
        "                  # Forward pass\n",
        "                  outputs = model(inputs)\n",
        "                  loss = criterion(outputs, targets)\n",
        "\n",
        "                  # Backward pass and optimization\n",
        "                  optimizer.zero_grad()\n",
        "                  loss.backward()\n",
        "                  optimizer.step()\n",
        "\n",
        "                  # Loss\n",
        "                  epoch_loss += loss.item()\n",
        "\n",
        "                  # Predicted\n",
        "                  _, predicted = torch.max(outputs, 1)\n",
        "                  epoch_correct += (predicted == targets).sum().item()\n",
        "                  epoch_samples += targets.size(0)\n",
        "\n",
        "            # Calculate average loss and accuracy for epoch\n",
        "            avg_loss = epoch_loss / len(train_loader)\n",
        "            acc = epoch_correct / epoch_samples\n",
        "\n",
        "            # Perplexity\n",
        "            perp = torch.exp(torch.tensor(avg_loss))\n",
        "\n",
        "            epoch_end = time.time()\n",
        "            epoch_time = epoch_end - epoch_start\n",
        "            # Print epoch statistics\n",
        "            print(f'Epoch [{epoch+1}/{epochs}], Time:{epoch_time:.2f}, Loss: {avg_loss:.4f}, Accuracy: {acc:.2f}%, Perplexity: {perp:.4f}')\n"
      ]
    },
    {
      "cell_type": "code",
      "execution_count": null,
      "metadata": {
        "id": "nXXO78GSDqPg"
      },
      "outputs": [],
      "source": [
        "def eval(model, criterion):\n",
        "    model.eval()\n",
        "\n",
        "    loss_sum = 0\n",
        "    total_sum = 0\n",
        "    correct_sum = 0\n",
        "    eval_round = 0\n",
        "\n",
        "    loss = 0\n",
        "    perp = 0\n",
        "\n",
        "    with torch.no_grad():\n",
        "        for inputs, targets in val_loader:\n",
        "            inputs = inputs.to(device)\n",
        "            targets = targets.to(device)\n",
        "\n",
        "            outputs = model(inputs)\n",
        "            loss = criterion(outputs, targets)      \n",
        "            loss_sum += loss\n",
        "\n",
        "            # Get the predicted labels\n",
        "            _, predicted = torch.max(outputs, 1)\n",
        "\n",
        "            total_sum += targets.size(0)\n",
        "            correct_sum += (predicted == targets).sum().item()\n",
        "            eval_round += 1\n",
        "\n",
        "    # Calculate accuracy\n",
        "    acc = 100 * correct_sum / total_sum\n",
        "\n",
        "    # Calculate average perplexity\n",
        "    average_loss = loss_sum / len(val_loader)\n",
        "    average_perplexity = torch.exp(average_loss)\n",
        "\n",
        "    print(f'Test Accuracy: {acc:.2f}%')\n",
        "    print(f'Average Loss: {average_loss:.2f}')\n",
        "    print(f'Average Perplexity: {average_perplexity:.2f}')"
      ]
    },
    {
      "cell_type": "code",
      "execution_count": null,
      "metadata": {},
      "outputs": [],
      "source": [
        "device = torch.device('cuda' if torch.cuda.is_available() else 'cpu')\n",
        "device"
      ]
    },
    {
      "cell_type": "markdown",
      "metadata": {},
      "source": [
        "## 1. Sem camada de atenção"
      ]
    },
    {
      "cell_type": "code",
      "execution_count": null,
      "metadata": {},
      "outputs": [],
      "source": [
        "model = BengioModel(vocab_size, embedding_dim, context_size, hidden_dim)\n",
        "print(\"Model without Self Attention:\")\n",
        "print()\n",
        "count_parameters(model)\n",
        "\n",
        "# Cross Entropy\n",
        "criterion = nn.CrossEntropyLoss()\n",
        "\n",
        "# Optimizer\n",
        "optimizer = torch.optim.SGD(model.parameters(), lr)\n",
        "\n",
        "model.to(device)\n",
        "\n",
        "print()\n",
        "print(\"Training Start\")\n",
        "print()\n",
        "train(model, criterion, optimizer)\n",
        "\n",
        "print()\n",
        "print(\"Evaluation Start\")\n",
        "print()\n",
        "eval(model, criterion)"
      ]
    },
    {
      "cell_type": "markdown",
      "metadata": {},
      "source": [
        "## 2. Com camada de atenção"
      ]
    },
    {
      "cell_type": "code",
      "execution_count": null,
      "metadata": {},
      "outputs": [],
      "source": [
        "model_attn = BengioModel_SelfAttentionMatrix(vocab_size, embedding_dim, context_size, hidden_dim)\n",
        "print(\"Model with Self Attention:\")\n",
        "print()\n",
        "count_parameters(model_attn)\n",
        "\n",
        "# Cross Entropy\n",
        "criterion = nn.CrossEntropyLoss()\n",
        "\n",
        "# Optimizer\n",
        "optimizer = torch.optim.SGD(model_attn.parameters(), lr)\n",
        "\n",
        "model_attn.to(device)\n",
        "\n",
        "print()\n",
        "print(\"Training Start\")\n",
        "print()\n",
        "train(model_attn, criterion, optimizer)\n",
        "\n",
        "print()\n",
        "print(\"Evaluation Start\")\n",
        "print()\n",
        "eval(model_attn, criterion)"
      ]
    }
  ],
  "metadata": {
    "accelerator": "GPU",
    "colab": {
      "gpuType": "T4",
      "provenance": []
    },
    "kernelspec": {
      "display_name": "IA024",
      "language": "python",
      "name": "ia024"
    },
    "language_info": {
      "codemirror_mode": {
        "name": "ipython",
        "version": 3
      },
      "file_extension": ".py",
      "mimetype": "text/x-python",
      "name": "python",
      "nbconvert_exporter": "python",
      "pygments_lexer": "ipython3",
      "version": "3.11.4"
    }
  },
  "nbformat": 4,
  "nbformat_minor": 0
}
