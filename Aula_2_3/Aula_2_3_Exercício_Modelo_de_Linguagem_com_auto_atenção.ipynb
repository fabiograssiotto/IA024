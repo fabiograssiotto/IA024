{
  "cells": [
    {
      "cell_type": "markdown",
      "metadata": {
        "id": "fMI0JT_YuYF3"
      },
      "source": [
        "## Exercício: Modelo de Linguagem com auto-atenção\n",
        "\n",
        "Este exercício é similar ao da aula passada, mas iremos agora treinar uma rede neural *com auto-atenção* para prever a próxima palavra de um texto, data as palavras anteriores como entrada.\n",
        "\n",
        "Na camada de auto-atenção, deve-se implementar (vide slide 34):\n",
        "- Embeddings de posição\n",
        "- Projeções lineares (WQ, WK, WV, WO)\n",
        "- Camada de feed forward (2-layer MLP)\n",
        "\n",
        "Instrucões:\n",
        "- É necessário fazer duas implementações da camada de auto-atenção: uma usando laços (ineficiente, mas fácil de entender) e outra matricial (eficiente mas difícil de entender). Usar slide 36 como referência.\n",
        "\n",
        "- Fazer um assert para garantir que o resultado das duas implementações é exatamente igual.\n",
        "\n",
        "- No treinamento, usar apenas a implementação matricial."
      ]
    },
    {
      "cell_type": "markdown",
      "metadata": {},
      "source": [
        "## Imports"
      ]
    },
    {
      "cell_type": "code",
      "execution_count": 1,
      "metadata": {},
      "outputs": [],
      "source": [
        "import os\n",
        "import sys\n",
        "import random\n",
        "import torch.nn as nn\n",
        "import torch.nn.functional as F\n",
        "import time\n",
        "import math\n",
        "from sklearn.model_selection import train_test_split\n",
        "from torch import nn"
      ]
    },
    {
      "cell_type": "markdown",
      "metadata": {},
      "source": [
        "## Variáveis Globais e Inicialização"
      ]
    },
    {
      "cell_type": "code",
      "execution_count": 2,
      "metadata": {},
      "outputs": [],
      "source": [
        "# Global variables\n",
        "\n",
        "# Vocabulary\n",
        "vocab_size = 5000\n",
        "context_size = 5\n",
        "pattern = r'\\w+|[,;.:!?\\']'\n",
        "\n",
        "# Training\n",
        "batch_size = 128\n",
        "epochs = 10\n",
        "lr = 0.1\n",
        "\n",
        "# Model\n",
        "embedding_dim = 256\n",
        "hidden_dim = 128"
      ]
    },
    {
      "cell_type": "code",
      "execution_count": 3,
      "metadata": {},
      "outputs": [],
      "source": [
        "# Colab environment\n",
        "IN_COLAB = 'google.colab' in sys.modules\n",
        "\n",
        "if (IN_COLAB):\n",
        "    %pip install colorama\n",
        "\n",
        "    # Google Drive\n",
        "    from google.colab import drive\n",
        "    drive.mount('/content/drive', force_remount=True)\n",
        "\n",
        "    project_folder=\"/content/drive/MyDrive/Classes/IA024/Aula_2_3\"\n",
        "    os.chdir(project_folder)\n",
        "    !ls -la"
      ]
    },
    {
      "cell_type": "markdown",
      "metadata": {
        "id": "bYbkEzdD37sZ"
      },
      "source": [
        "## Faz download e carrega o dataset"
      ]
    },
    {
      "cell_type": "code",
      "execution_count": 4,
      "metadata": {
        "colab": {
          "base_uri": "https://localhost:8080/"
        },
        "id": "9qAnqY_q0beK",
        "outputId": "f810fdb0-138d-4917-b7ef-69ab266acef6"
      },
      "outputs": [],
      "source": [
        "# Check if download is necessary\n",
        "if not os.path.exists(\"67724.txt.utf-8\"):\n",
        "    print(\"Downloading Gutenberg texts\")\n",
        "\n",
        "    !wget https://www.gutenberg.org/ebooks/67724.txt.utf-8\n",
        "    !wget https://www.gutenberg.org/ebooks/67725.txt.utf-8"
      ]
    },
    {
      "cell_type": "code",
      "execution_count": 5,
      "metadata": {
        "colab": {
          "base_uri": "https://localhost:8080/"
        },
        "id": "6_UzC9pV091C",
        "outputId": "1553b04f-24c4-4027-8cab-0907f92f04df"
      },
      "outputs": [
        {
          "data": {
            "text/plain": [
              "4969"
            ]
          },
          "execution_count": 5,
          "metadata": {},
          "output_type": "execute_result"
        }
      ],
      "source": [
        "text = open(\"67724.txt.utf-8\",\"r\").read()\n",
        "text += open(\"67725.txt.utf-8\",\"r\").read()\n",
        "\n",
        "paragraphs = text.split(\"\\n\\n\")\n",
        "\n",
        "len(paragraphs)"
      ]
    },
    {
      "cell_type": "code",
      "execution_count": 6,
      "metadata": {},
      "outputs": [
        {
          "name": "stdout",
          "output_type": "stream",
          "text": [
            "The Project Gutenberg eBook of O Guarany: romance brazileiro, Vol. 1 (of 2)\n",
            "    \n",
            "This ebook is for the use of anyone anywhere in the United States and\n",
            "most other parts of the world at no cost and with almost no restrictions\n",
            "whatsoever. You may copy it, give it away or re-use it under the terms\n",
            "of the Project Gutenberg License included with this ebook or online\n",
            "at www.gutenberg.org. If you are not located in the United States,\n",
            "you will have to check the laws of the country where you are located\n",
            "before using this eBook.\n"
          ]
        }
      ],
      "source": [
        "# Checking the text\n",
        "print(paragraphs[0])"
      ]
    },
    {
      "cell_type": "code",
      "execution_count": 7,
      "metadata": {
        "colab": {
          "base_uri": "https://localhost:8080/"
        },
        "id": "UhUFjtNdDuG0",
        "outputId": "78798c0c-deca-4454-d3fb-7d3ba70f3e91"
      },
      "outputs": [
        {
          "name": "stdout",
          "output_type": "stream",
          "text": [
            "Da parte interior desse cinto havia uma estreita abertura pela qual elle sacou um pergaminho dobrado ao comprido, era o famoso roteiro das _minas de prata_.\n",
            "\n",
            " PAG. 11.--=D. Antonio de Mariz=.\n",
            "\n",
            "--Ha aqui então um inimigo?...\n",
            "\n",
            "1.F.5. Some states do not allow disclaimers of certain implied warranties or the exclusion or limitation of certain types of damages. If any disclaimer or limitation set forth in this agreement violates the law of the state applicable to this agreement, the agreement shall be interpreted to make the maximum disclaimer or limitation permitted by the applicable state law. The invalidity or unenforceability of any provision of this agreement shall not void the remaining provisions.\n",
            "\n",
            "--Sim, porque é minha, e quero que a conserves para mim.\n",
            "\n",
            "Number of paragraphs: 4892\n"
          ]
        },
        {
          "data": {
            "text/plain": [
              "4892"
            ]
          },
          "execution_count": 7,
          "metadata": {},
          "output_type": "execute_result"
        }
      ],
      "source": [
        "cleaned_paragraphs = [paragraph.replace(\"\\n\", \" \") for paragraph in paragraphs if paragraph.strip()]\n",
        "\n",
        "# Print 5 random paragraphs\n",
        "num_paragraphs = len(cleaned_paragraphs)\n",
        "for i in range(0,5):\n",
        "    idx = random.randrange(num_paragraphs)\n",
        "    print(f\"{cleaned_paragraphs[idx]}\\n\")\n",
        "\n",
        "print(\"Number of paragraphs: \" + str(num_paragraphs))\n",
        "\n",
        "len(cleaned_paragraphs)"
      ]
    },
    {
      "cell_type": "markdown",
      "metadata": {
        "id": "bFVN2ihb33Rf"
      },
      "source": [
        "## Análise do dataset"
      ]
    },
    {
      "cell_type": "code",
      "execution_count": 8,
      "metadata": {
        "colab": {
          "base_uri": "https://localhost:8080/"
        },
        "id": "qSRHqe3H4ZFw",
        "outputId": "4a985c7a-ce1d-4b72-d253-c9fbbc5f9440"
      },
      "outputs": [
        {
          "data": {
            "text/plain": [
              "12610"
            ]
          },
          "execution_count": 8,
          "metadata": {},
          "output_type": "execute_result"
        }
      ],
      "source": [
        "# Conta as palavras no dataset\n",
        "from collections import Counter\n",
        "import re\n",
        "\n",
        "def count_words(texts):\n",
        "    word_counts = Counter()\n",
        "    for text in texts:\n",
        "        word_counts.update(re.findall(pattern, text.lower()))\n",
        "    return word_counts\n",
        "\n",
        "word_counts = count_words(cleaned_paragraphs)\n",
        "\n",
        "len(word_counts)"
      ]
    },
    {
      "cell_type": "markdown",
      "metadata": {
        "id": "EyGVDL9KzJ_I"
      },
      "source": [
        "## Criando um vocabulário"
      ]
    },
    {
      "cell_type": "code",
      "execution_count": 9,
      "metadata": {
        "id": "FiP7OCo9zJ_I"
      },
      "outputs": [],
      "source": [
        "most_frequent_words = [word for word, count in word_counts.most_common(vocab_size)]\n",
        "vocab = {word: i for i, word in enumerate(most_frequent_words, 1)}"
      ]
    },
    {
      "cell_type": "code",
      "execution_count": 10,
      "metadata": {},
      "outputs": [
        {
          "name": "stdout",
          "output_type": "stream",
          "text": [
            "Most Frequent Words: ['.', ',', 'a', 'que', 'o', 'de', 'e', 'se', ';', 'um']\n",
            "Vocabulary Size: 5000\n"
          ]
        }
      ],
      "source": [
        "print(f\"Most Frequent Words: {most_frequent_words[:10]}\")\n",
        "print(f\"Vocabulary Size: {len(vocab)}\")"
      ]
    },
    {
      "cell_type": "code",
      "execution_count": 11,
      "metadata": {
        "colab": {
          "base_uri": "https://localhost:8080/"
        },
        "id": "RhbhAsZbzJ_J",
        "outputId": "6a53c9e0-308d-4082-e225-cfa376e8f39a"
      },
      "outputs": [
        {
          "name": "stdout",
          "output_type": "stream",
          "text": [
            " Publicando este livro em 1857, se disse ser aquella primeira edição uma prova typographica, que algum dia talvez o autor se dispuzesse a rever.\n",
            "[0, 146, 4383, 23, 0, 2, 8, 50, 117, 276, 266, 2669, 13, 1071, 0, 2, 4, 193, 137, 287, 5, 2264, 8, 0, 3, 2672, 1]\n"
          ]
        }
      ],
      "source": [
        "def encode_sentence(sentence, vocab):\n",
        "    return [vocab.get(word, 0) for word in re.findall(pattern, sentence.lower())]\n",
        "\n",
        "print(cleaned_paragraphs[20])\n",
        "print(encode_sentence(cleaned_paragraphs[20], vocab))"
      ]
    },
    {
      "cell_type": "markdown",
      "metadata": {
        "id": "wia_ygbvzJ_J"
      },
      "source": [
        "## Classe do dataset"
      ]
    },
    {
      "cell_type": "code",
      "execution_count": 12,
      "metadata": {
        "id": "Iy-elI1magRR"
      },
      "outputs": [],
      "source": [
        "# Dataset class\n",
        "import torch\n",
        "from torch.utils.data import Dataset, DataLoader\n",
        "\n",
        "class CustomDataset(Dataset):\n",
        "  def __init__(self, paragraphs, vocab, context):\n",
        "    self.paragraphs = paragraphs\n",
        "    self.vocab = vocab\n",
        "    self.context = context\n",
        "    self.tokens, self.targets = self.setup()\n",
        "\n",
        "  def __len__(self):\n",
        "    return len(self.tokens)\n",
        "\n",
        "  def __getitem__(self, idx):\n",
        "    return torch.tensor(self.tokens[idx]), torch.tensor(self.targets[idx])\n",
        "  \n",
        "  def setup(self):\n",
        "    tokens = []\n",
        "    targets = []\n",
        "    for paragraph in self.paragraphs:\n",
        "      encoded = encode_sentence(paragraph, self.vocab)\n",
        "      \n",
        "      # If paragraph is smaller than the context, skip it.\n",
        "      if len(encoded) < self.context + 1:\n",
        "          continue\n",
        "\n",
        "      for i in range(len(encoded) - self.context):\n",
        "        tks = encoded[i:i+self.context]\n",
        "        tgt = encoded[i+self.context]\n",
        "        # Only add if there are no unknown tokens in both context and target.\n",
        "        bad_token = 0\n",
        "        if not (bad_token in tks or tgt == bad_token):\n",
        "          tokens.append(tks)\n",
        "          targets.append(tgt)\n",
        "    return tokens, targets\n"
      ]
    },
    {
      "cell_type": "code",
      "execution_count": 13,
      "metadata": {
        "colab": {
          "base_uri": "https://localhost:8080/"
        },
        "id": "aD1CVci2zJ_J",
        "outputId": "5bf0839e-f30e-4ff2-ed6f-4f3fda782b7c"
      },
      "outputs": [
        {
          "name": "stdout",
          "output_type": "stream",
          "text": [
            "Training samples: 3913\n",
            "Validation samples: 979\n",
            "\n",
            "Training dataset samples: 59646\n",
            "Validation dataset samples: 16215\n"
          ]
        }
      ],
      "source": [
        "# Train/Validation split\n",
        "train_data, val_data = train_test_split(cleaned_paragraphs, test_size=0.2, random_state=18)\n",
        "\n",
        "train_dataset = CustomDataset(train_data, vocab, context_size)\n",
        "val_dataset = CustomDataset(val_data, vocab, context_size)\n",
        "\n",
        "# Counting all Samples\n",
        "print(f\"Training samples: {len(train_data)}\")\n",
        "print(f\"Validation samples: {len(val_data)}\")\n",
        "print()\n",
        "print(f\"Training dataset samples: {len(train_dataset)}\")\n",
        "print(f\"Validation dataset samples: {len(val_dataset)}\")"
      ]
    },
    {
      "cell_type": "code",
      "execution_count": 14,
      "metadata": {
        "id": "gC0C5qn2zJ_J"
      },
      "outputs": [
        {
          "name": "stdout",
          "output_type": "stream",
          "text": [
            "[tensor([[   2,   78,    3,  247,  102],\n",
            "        [1254, 2583,    9,   24,   91],\n",
            "        [  93,    5,  192,    9,  123],\n",
            "        [ 420, 1722, 2201,  116,   41],\n",
            "        [3146,   20,    1,    1,    1],\n",
            "        [ 433,    1, 1699,    5,  192],\n",
            "        [ 760,    4,  584,   16,   49],\n",
            "        [   3,  213,    9,    5, 4198],\n",
            "        [  17, 4344,    6, 1273,   16],\n",
            "        [   5,   19, 1455,    2,  195],\n",
            "        [   2,    7,    5, 2801,   11],\n",
            "        [   2,    7,   10, 3680,    6],\n",
            "        [   5,  608,    2,    7,   19],\n",
            "        [ 832,   36, 1398,    1, 4413],\n",
            "        [   2,    7,    1,    1,    1],\n",
            "        [   8,   11,  452,   42, 1266],\n",
            "        [  33,    3,   17,   83,    6],\n",
            "        [ 325,   28,   10, 1409,    6],\n",
            "        [2317,    2,  123,    8, 2811],\n",
            "        [  10,  597,    4, 3739,    6],\n",
            "        [  12,   33, 1632,    5,  966],\n",
            "        [ 133,    5,  303,  521,    2],\n",
            "        [   5,   43,   12,  247,    5],\n",
            "        [  51, 3136,   70, 2180,    2],\n",
            "        [ 337,    7,   23,  337,    6],\n",
            "        [ 312,  195,    3,   57,   63],\n",
            "        [   2, 2000,  134,   61,   10],\n",
            "        [ 314,    3,   63,   45,  313],\n",
            "        [3964,    8,   38,    3,   58],\n",
            "        [ 291,    8, 3395,   11,   19],\n",
            "        [   6,   10,   78,  144,    2],\n",
            "        [4742,    3,  838,   18,  216],\n",
            "        [   3, 1174, 4196,   38,    5],\n",
            "        [ 726,  284,    3,  114,    2],\n",
            "        [   1,    1,  173,   64, 4689],\n",
            "        [   5,  162,   11,   80,    9],\n",
            "        [1360,    2,  158,  200,    6],\n",
            "        [1010,  556,  908,    2,  287],\n",
            "        [  26,   35,    2,    7,   96],\n",
            "        [ 154,   21, 2983,    9,   45],\n",
            "        [  57,    1, 2073,    8,  166],\n",
            "        [   2, 3490,   27,  455,    7],\n",
            "        [ 224,    2,   37,  287,   79],\n",
            "        [  39,   18,  114,   37,  272],\n",
            "        [  16,    3,  580,    2,  515],\n",
            "        [  47,    6,   73,    4,   12],\n",
            "        [  12,  498,   28,    2,   12],\n",
            "        [   4,   72,   69,  298,  256],\n",
            "        [ 354,    8,   10, 4693,    6],\n",
            "        [   3,  676, 1324,    4,   29],\n",
            "        [ 205,  275,    8,  101,  195],\n",
            "        [   5,  753,  636,   36,  531],\n",
            "        [ 159,   16,   30,    1,   47],\n",
            "        [  23,    4,  114,   52, 2468],\n",
            "        [ 515,   13,  128,    6, 1822],\n",
            "        [ 637,   36,   17,  658,  315],\n",
            "        [  62,    2, 4401,   11,  613],\n",
            "        [  24,  601,   14,   68,    2],\n",
            "        [ 672,    2, 3323,    2, 4307],\n",
            "        [  46,    9,   51,  150,    6],\n",
            "        [   5, 1087, 1088,    9,   33],\n",
            "        [2071,  253,  362, 2433,   16],\n",
            "        [  40,   16,    3,  153, 2499],\n",
            "        [  98,  546,   68,  605, 4814],\n",
            "        [ 898,    7, 1563,    8,   24],\n",
            "        [ 386, 3063,    7,    6,   17],\n",
            "        [  14,  157,    4,   30,    1],\n",
            "        [ 140,    1,  885,    1,   74],\n",
            "        [   2,   89,   12,    8,  327],\n",
            "        [   5,    4,   52, 1353,    2],\n",
            "        [ 100,   45,   85,  983,    9],\n",
            "        [   7,  208,   15,  798,  132],\n",
            "        [   2,    7,    4,    3,   17],\n",
            "        [  13,  366,    6,  918,  688],\n",
            "        [   7,  969,    5,  795,    4],\n",
            "        [ 719,    1,  883,  884,   41],\n",
            "        [   9,  136,   13, 1021,    2],\n",
            "        [ 340,   53,  151,  411,    1],\n",
            "        [ 159,  442, 1078,  262,   26],\n",
            "        [   9,   39,   82,    4,  998],\n",
            "        [   6, 1207,    9, 1763, 2501],\n",
            "        [ 429,  943,  655,   18, 2950],\n",
            "        [ 465,   11,  205, 4146,    8],\n",
            "        [   5,   43, 2952,  195,    4],\n",
            "        [ 531,    6,   19,  119,    2],\n",
            "        [   4,    5,  436, 1794,    1],\n",
            "        [2265, 1524,    1,    5,  469],\n",
            "        [ 129,  241,  103,  528, 1952],\n",
            "        [  31, 4036,    2,  525,    8],\n",
            "        [ 340,   53,  151,  411,    1],\n",
            "        [   6, 2363,    5,  399,    6],\n",
            "        [   5,  250,   69,   23,  421],\n",
            "        [ 218, 2149,   11,  107, 2301],\n",
            "        [   6,  383,    9,   33, 4633],\n",
            "        [ 352, 1764,    6,  836, 2572],\n",
            "        [ 276,  143,  130,    2,  424],\n",
            "        [ 731,   18,  138,    2,   57],\n",
            "        [  13, 1051, 3696,    9,   12],\n",
            "        [  39,    5,  436,   29,  756],\n",
            "        [ 165,  206,  448, 2065,    4],\n",
            "        [  13,  347,   12,    2,   39],\n",
            "        [  24,  107,    6,  383,    2],\n",
            "        [   6,   95, 3034,    7,   15],\n",
            "        [   7,    3,  699,  288,  179],\n",
            "        [   3,  163,  600,  478,   26],\n",
            "        [   4, 1010,    3,  943,    6],\n",
            "        [   3,  153, 1458,    6, 2124],\n",
            "        [  61,   13,  755,   11, 2039],\n",
            "        [2312,  306,    3, 3461,   82],\n",
            "        [2459,   34,   12,   32,   71],\n",
            "        [  33,  924,    5,  401,  888],\n",
            "        [2434,    6, 4798,    9,    7],\n",
            "        [   3,  297,    2,  600, 3388],\n",
            "        [ 192,   31,  570,   18, 1660],\n",
            "        [1754,   11,  207,   38,    3],\n",
            "        [ 415,    4,   15, 1774,   11],\n",
            "        [  30,    1,  279,  779,   27],\n",
            "        [  10, 2061, 1327,   28,   10],\n",
            "        [2018,    6,  999,    9,  136],\n",
            "        [1945,  148,  151,  544,   90],\n",
            "        [2465,   20,   12,  443,    4],\n",
            "        [  51, 1596,    9, 2178,   33],\n",
            "        [   3,  615, 2093,   11, 2128],\n",
            "        [ 223,    2, 1871,    2, 4031],\n",
            "        [  39,  975,   12,  482,    3],\n",
            "        [ 472,  331, 1725,  148, 1158],\n",
            "        [   8, 4603,    9,  123,    8],\n",
            "        [3309,    8,    1,  310,   54]]), tensor([2535,    6,  873, 2226,  173,    2,    2,   93,    3, 1192,  328,  678,\n",
            "          97,    3,    1,    1,   81, 4944,   36, 1322,   11,    7,    4,   28,\n",
            "          17,   45,   42,    2, 1655,  587, 2651,    2,  686,   77,    1,  238,\n",
            "          30, 1742,   27,   55,   35,   31, 1156, 1120,    5,   29,  498,   23,\n",
            "         836, 1865,   16,    2,    4,   25,  291, 3138,  886,   26,    8,  906,\n",
            "          10,    4,    1,    3, 1538,  373,  271,   66,  240,   50,   39,    3,\n",
            "          99,    1,   32, 1713,  136, 2211,   13,    1,    2,   29,   16,    8,\n",
            "           7, 1805,    1, 1268,    6, 2211,   30,   16,  668,   16,    5,   28,\n",
            "          25,  444,    3,  655,   10,    7,  572,    2,   35,   13,   13,    1,\n",
            "         619,    3,  218,    2,    2,    5,  109,  336,  194, 1455,   79, 1512,\n",
            "         142,   10,    4,  103,   58,   53, 1169,  193])]\n"
          ]
        }
      ],
      "source": [
        "train_loader = DataLoader(train_dataset, batch_size=batch_size, shuffle=True)\n",
        "val_loader = DataLoader(val_dataset, batch_size=batch_size, shuffle=True)\n",
        "\n",
        "sample = next(iter(train_loader))\n",
        "print(sample)"
      ]
    },
    {
      "cell_type": "markdown",
      "metadata": {
        "id": "-5_-Yud0zJ_K"
      },
      "source": [
        "## Model"
      ]
    },
    {
      "cell_type": "markdown",
      "metadata": {},
      "source": [
        "#### Implementação das camadas de self-attention (Loop e Matricial)\n",
        "#### Positional Encoding:"
      ]
    },
    {
      "cell_type": "code",
      "execution_count": 15,
      "metadata": {},
      "outputs": [],
      "source": [
        "# Positional Embedding - as described in \"Attention is All You Need\"\n",
        "class PositionalEncoding(nn.Module):\n",
        "    def __init__(self, max_sequence, embedding_dim):\n",
        "        super().__init__()\n",
        "        device = torch.device('cuda' if torch.cuda.is_available() else 'cpu')\n",
        "        self.positional_encoding = torch.zeros(max_sequence, embedding_dim, device=device)\n",
        "        position = torch.arange(0, max_sequence, device=device).unsqueeze(1)\n",
        "        div_term = torch.exp(torch.arange(0, embedding_dim, 2, device=device) * (-math.log(10000.0) / embedding_dim))\n",
        "        self.positional_encoding[:, 0::2] = torch.sin(position * div_term)\n",
        "        self.positional_encoding[:, 1::2] = torch.cos(position * div_term)\n",
        "        self.positional_encoding = self.positional_encoding.unsqueeze(0)\n",
        "\n",
        "    def forward(self, x):\n",
        "        _, seq_length, _ = x.size()\n",
        "        positional_encoding = self.positional_encoding[:, :seq_length, :]\n",
        "        positional_encoding = positional_encoding.to(x.device)\n",
        "        # Position encoding is added to the input embeddings.\n",
        "        return x + positional_encoding   "
      ]
    },
    {
      "cell_type": "markdown",
      "metadata": {},
      "source": [
        "#### Implementação em Loop"
      ]
    },
    {
      "cell_type": "code",
      "execution_count": 16,
      "metadata": {},
      "outputs": [],
      "source": [
        "# Adaptado da implementação do Ramon, muito elegante e traduziu bem o slide em aula.\n",
        "\n",
        "class SelfAttention_Loop(nn.Module):\n",
        "  def __init__(self, embedding_dim, vocab_size):\n",
        "    super(SelfAttention_Loop, self).__init__()\n",
        "\n",
        "    self.WQ = nn.Linear(embedding_dim, embedding_dim)\n",
        "    self.WK = nn.Linear(embedding_dim, embedding_dim)\n",
        "    self.WV = nn.Linear(embedding_dim, embedding_dim)\n",
        "    self.WO = nn.Linear(embedding_dim, vocab_size)\n",
        "\n",
        "  def setProjections(self, WQ, WK, WV, WO):\n",
        "    self.WQ = WQ\n",
        "    self.WK = WK\n",
        "    self.WV = WV\n",
        "    self.WO = WO\n",
        "\n",
        "  def forward(self, seq):\n",
        "    E = []  \n",
        "    for Xq in seq:\n",
        "        q = self.WQ(Xq)\n",
        "        scores = []\n",
        "        for Xk in seq:\n",
        "            k = self.WK(Xk)\n",
        "            score = torch.dot(q, k.transpose(-1,0))\n",
        "            scores.append(score)\n",
        "\n",
        "        scores_tensor = torch.tensor(scores)  \n",
        "        probs         = scores_tensor.softmax(dim=-1)\n",
        "\n",
        "        e = 0\n",
        "        for xv, p in zip(seq, probs):\n",
        "            v = self.WV(xv)\n",
        "            e += v * p\n",
        "\n",
        "        e = self.WO(e)\n",
        "        E.append(e)\n",
        "\n",
        "    return torch.stack(E) "
      ]
    },
    {
      "cell_type": "markdown",
      "metadata": {},
      "source": [
        "#### Implementação Matricial"
      ]
    },
    {
      "cell_type": "code",
      "execution_count": 17,
      "metadata": {},
      "outputs": [],
      "source": [
        "# Matrix Implementation\n",
        "class SelfAttention_Matrix(nn.Module):\n",
        "  def __init__(self, embedding_dim, vocab_size):\n",
        "    super().__init__()\n",
        "\n",
        "    self.WQ = nn.Linear(embedding_dim, embedding_dim)\n",
        "    self.WK = nn.Linear(embedding_dim, embedding_dim)\n",
        "    self.WV = nn.Linear(embedding_dim, embedding_dim)\n",
        "    self.WO = nn.Linear(embedding_dim, vocab_size)\n",
        "\n",
        "  def setProjections(self, WQ, WK, WV, WO):\n",
        "    self.WQ = WQ\n",
        "    self.WK = WK\n",
        "    self.WV = WV\n",
        "    self.WO = WO\n",
        "\n",
        "  def forward(self, inputs):\n",
        "    # Linear projections\n",
        "    Q = self.WQ(inputs)\n",
        "    K = self.WK(inputs)\n",
        "    V = self.WV(inputs)\n",
        "\n",
        "    scores = torch.matmul(Q, K.transpose(-2, -1))\n",
        "    probs = F.softmax(scores, dim=-1)\n",
        "    new_embedding = torch.matmul(probs, V)\n",
        "    # Projection in WO\n",
        "    new_embedding = self.WO(new_embedding)\n",
        "    return new_embedding"
      ]
    },
    {
      "cell_type": "markdown",
      "metadata": {},
      "source": [
        "### Teste das Camadas de Atenção"
      ]
    },
    {
      "cell_type": "code",
      "execution_count": 18,
      "metadata": {},
      "outputs": [
        {
          "name": "stdout",
          "output_type": "stream",
          "text": [
            "Loop Embeds:\n",
            "tensor([[-0.2151,  0.8257, -0.5803,  0.5345,  0.2650,  0.3480, -0.2449, -0.6410,\n",
            "         -0.8879, -0.2705],\n",
            "        [-0.2567,  0.6301, -0.4482,  0.5167,  0.2980,  0.3146, -0.2931, -0.5103,\n",
            "         -0.7324, -0.2301],\n",
            "        [-0.1928,  0.9136, -0.6606,  0.5147,  0.2794,  0.3161, -0.2126, -0.8078,\n",
            "         -0.9546, -0.3460],\n",
            "        [-0.1912,  0.8355, -0.5850,  0.5053,  0.2787,  0.3011, -0.2131, -0.7117,\n",
            "         -0.8952, -0.3111],\n",
            "        [-0.1912,  0.8355, -0.5850,  0.5053,  0.2787,  0.3011, -0.2131, -0.7117,\n",
            "         -0.8952, -0.3111]], grad_fn=<StackBackward0>)\n",
            "Matrix Embeds:\n",
            "tensor([[-0.2151,  0.8258, -0.5803,  0.5345,  0.2650,  0.3480, -0.2449, -0.6410,\n",
            "         -0.8879, -0.2705],\n",
            "        [-0.2567,  0.6301, -0.4482,  0.5167,  0.2980,  0.3146, -0.2931, -0.5103,\n",
            "         -0.7324, -0.2301],\n",
            "        [-0.1928,  0.9136, -0.6606,  0.5147,  0.2794,  0.3161, -0.2126, -0.8078,\n",
            "         -0.9546, -0.3460],\n",
            "        [-0.1912,  0.8355, -0.5850,  0.5053,  0.2787,  0.3011, -0.2131, -0.7117,\n",
            "         -0.8952, -0.3111],\n",
            "        [-0.1912,  0.8355, -0.5850,  0.5053,  0.2787,  0.3011, -0.2131, -0.7117,\n",
            "         -0.8952, -0.3111]], grad_fn=<AddmmBackward0>)\n",
            "\n",
            "Loop and Matrix results are the same: True\n"
          ]
        }
      ],
      "source": [
        "# Test data\n",
        "tst_dim = 5\n",
        "tst_vocab = 10\n",
        "data = torch.randint(0, tst_vocab, (tst_dim,))\n",
        "embedding = nn.Embedding(tst_vocab, tst_dim)\n",
        "embeds = embedding(data)\n",
        "\n",
        "# Projections (need to be the same for this test)\n",
        "WQ = nn.Linear(tst_dim, tst_dim)\n",
        "WK = nn.Linear(tst_dim, tst_dim)\n",
        "WV = nn.Linear(tst_dim, tst_dim)\n",
        "WO = nn.Linear(tst_dim, tst_vocab)\n",
        "\n",
        "# Loop\n",
        "attn_loop = SelfAttention_Loop(tst_dim, tst_vocab)\n",
        "attn_loop.setProjections(WQ, WK, WV, WO)\n",
        "embeds_attn_loop = attn_loop(embeds)\n",
        "# Matrix\n",
        "attn_matrix = SelfAttention_Matrix(tst_dim, tst_vocab)\n",
        "attn_matrix.setProjections(WQ, WK, WV, WO)\n",
        "embeds_attn_matrix = attn_matrix(embeds)\n",
        "\n",
        "print(\"Loop Embeds:\")\n",
        "print(embeds_attn_loop)\n",
        "\n",
        "print(\"Matrix Embeds:\")\n",
        "print(embeds_attn_matrix)\n",
        "\n",
        "# Check results\n",
        "print()\n",
        "print(f'Loop and Matrix results are the same: {torch.allclose(embeds_attn_loop, embeds_attn_matrix)}')"
      ]
    },
    {
      "cell_type": "markdown",
      "metadata": {},
      "source": [
        "### Implementação dos Modelos (Com e sem atenção, e com embeddings de posição)"
      ]
    },
    {
      "cell_type": "code",
      "execution_count": 19,
      "metadata": {},
      "outputs": [],
      "source": [
        "class BengioModel(torch.nn.Module):\n",
        "    def __init__(self, vocab_size, embedding_dim, context_size, h):\n",
        "        super(BengioModel, self).__init__()\n",
        "        self.embeddings = nn.Embedding(vocab_size+1, embedding_dim)\n",
        "        self.linear1 = nn.Linear(context_size * embedding_dim, h)\n",
        "        self.relu = torch.nn.ReLU()\n",
        "        self.linear2 = nn.Linear(h, vocab_size+1)\n",
        "        # Softmax to scale outputs\n",
        "        self.logSoftMax = torch.nn.LogSoftmax(dim=1)\n",
        "\n",
        "    def forward(self, inputs):\n",
        "        embeds = self.embeddings(inputs)\n",
        "        # Flatten embeddings\n",
        "        embeds = embeds.view(embeds.size(0), -1)\n",
        "        # Linear layer\n",
        "        out = self.linear1(embeds)\n",
        "        out = self.relu(out)\n",
        "        # Second layer\n",
        "        out = self.linear2(out)\n",
        "        # Softmax output\n",
        "        out = self.logSoftMax(out)\n",
        "        return out"
      ]
    },
    {
      "cell_type": "code",
      "execution_count": 20,
      "metadata": {},
      "outputs": [],
      "source": [
        "class BengioModel_SelfAttentionMatrix(torch.nn.Module):\n",
        "    def __init__(self, vocab_size, embedding_dim, context_size, h):\n",
        "        super(BengioModel_SelfAttentionMatrix, self).__init__()\n",
        "        self.embeddings = nn.Embedding(vocab_size+1, embedding_dim)\n",
        "        self.attention = SelfAttention_Matrix(embedding_dim, vocab_size)        \n",
        "        self.linear1 = nn.Linear(context_size * embedding_dim, h)\n",
        "        self.relu = torch.nn.ReLU()\n",
        "        self.linear2 = nn.Linear(h, vocab_size+1)\n",
        "        # Softmax to scale outputs\n",
        "        self.logSoftMax = torch.nn.LogSoftmax(dim=1)\n",
        "\n",
        "    def forward(self, inputs):\n",
        "        embeds = self.embeddings(inputs)\n",
        "        x = torch.stack(torch.unbind(embeds, dim=1), dim=1)\n",
        "        # Camada de autoatenção\n",
        "        attention  = self.attention(x)\n",
        "        # Flatten embeddings\n",
        "        embeds = embeds.view(attention.size(0), -1)\n",
        "        # Linear layer\n",
        "        out = self.linear1(embeds)\n",
        "        out = self.relu(out)\n",
        "        # Second layer\n",
        "        out = self.linear2(out)\n",
        "        # Softmax output\n",
        "        out = self.logSoftMax(out)\n",
        "        return out"
      ]
    },
    {
      "cell_type": "code",
      "execution_count": 21,
      "metadata": {
        "id": "I2qKG9YczJ_K"
      },
      "outputs": [],
      "source": [
        "class BengioModel_SelfAttentionMatrix_PosEncoding(torch.nn.Module):\n",
        "    def __init__(self, vocab_size, embedding_dim, context_size, h):\n",
        "        super(BengioModel_SelfAttentionMatrix_PosEncoding, self).__init__()\n",
        "        self.embeddings = nn.Embedding(vocab_size+1, embedding_dim)\n",
        "        self.posencoding = PositionalEncoding(context_size, embedding_dim)\n",
        "        self.attention = SelfAttention_Matrix(embedding_dim, vocab_size)        \n",
        "        self.linear1 = nn.Linear(context_size * embedding_dim, h)\n",
        "        self.relu = torch.nn.ReLU()\n",
        "        self.linear2 = nn.Linear(h, vocab_size+1)\n",
        "        # Softmax to scale outputs\n",
        "        self.logSoftMax = torch.nn.LogSoftmax(dim=1)\n",
        "\n",
        "    def forward(self, inputs):\n",
        "        embeds = self.embeddings(inputs)\n",
        "        embeds_pos = self.posencoding(embeds)\n",
        "        x = torch.stack(torch.unbind(embeds_pos, dim=1), dim=1)\n",
        "        # Camada de autoatenção\n",
        "        attention  = self.attention(x)\n",
        "        # Flatten embeddings\n",
        "        embeds = embeds.view(attention.size(0), -1)\n",
        "        # Linear layer\n",
        "        out = self.linear1(embeds)\n",
        "        out = self.relu(out)\n",
        "        # Second layer\n",
        "        out = self.linear2(out)\n",
        "        # Softmax output\n",
        "        out = self.logSoftMax(out)\n",
        "        return out"
      ]
    },
    {
      "cell_type": "markdown",
      "metadata": {},
      "source": [
        "## Funções de Treinamento e Avaliação do Modelo"
      ]
    },
    {
      "cell_type": "code",
      "execution_count": 22,
      "metadata": {},
      "outputs": [],
      "source": [
        "def count_parameters(model):\n",
        "    total_params = sum(p.numel() for p in model.parameters() if p.requires_grad)\n",
        "    print(f'The model has a total of {total_params:,} parameters.')"
      ]
    },
    {
      "cell_type": "code",
      "execution_count": 23,
      "metadata": {},
      "outputs": [],
      "source": [
        "def initial_eval(model):\n",
        "    # Initial Perplexity and Loss\n",
        "    # Before training\n",
        "    model.eval()\n",
        "\n",
        "    loss = 0\n",
        "    perp = 0\n",
        "\n",
        "    with torch.no_grad():\n",
        "        for inputs, targets in train_loader:\n",
        "            inputs = inputs.to(device)\n",
        "            targets = targets.to(device)\n",
        "            outputs = model(inputs)\n",
        "            loss += criterion(outputs, targets).item()\n",
        "\n",
        "    loss /= len(train_loader)\n",
        "    perp = torch.exp(torch.tensor(loss))\n",
        "\n",
        "    print(f'Initial Loss: {loss:.4f}')\n",
        "    print(f'Initial Perplexity: {perp:.4f}')"
      ]
    },
    {
      "cell_type": "code",
      "execution_count": 24,
      "metadata": {},
      "outputs": [],
      "source": [
        "def train(model, criterion, optimizer):\n",
        "      # Training Loop\n",
        "      model.train()\n",
        "      for epoch in range(epochs):\n",
        "\n",
        "            epoch_start = time.time()\n",
        "            # Metrics\n",
        "            epoch_loss = 0\n",
        "            epoch_correct = 0\n",
        "            epoch_samples = 0\n",
        "\n",
        "            for inputs, targets in train_loader:\n",
        "                  inputs = inputs.to(device)  # Move input data to the device\n",
        "                  targets = targets.to(device)\n",
        "\n",
        "                  # Forward pass\n",
        "                  outputs = model(inputs)\n",
        "                  loss = criterion(outputs, targets)\n",
        "\n",
        "                  # Backward pass and optimization\n",
        "                  optimizer.zero_grad()\n",
        "                  loss.backward()\n",
        "                  optimizer.step()\n",
        "\n",
        "                  # Loss\n",
        "                  epoch_loss += loss.item()\n",
        "\n",
        "                  # Predicted\n",
        "                  _, predicted = torch.max(outputs, 1)\n",
        "                  epoch_correct += (predicted == targets).sum().item()\n",
        "                  epoch_samples += targets.size(0)\n",
        "\n",
        "            # Calculate average loss and accuracy for epoch\n",
        "            avg_loss = epoch_loss / len(train_loader)\n",
        "            acc = epoch_correct / epoch_samples\n",
        "\n",
        "            # Perplexity\n",
        "            perp = torch.exp(torch.tensor(avg_loss))\n",
        "\n",
        "            epoch_end = time.time()\n",
        "            epoch_time = epoch_end - epoch_start\n",
        "            # Print epoch statistics\n",
        "            print(f'Epoch [{epoch+1}/{epochs}], Time:{epoch_time:.2f}, Loss: {avg_loss:.4f}, Accuracy: {acc:.2f}%, Perplexity: {perp:.4f}')\n"
      ]
    },
    {
      "cell_type": "code",
      "execution_count": 25,
      "metadata": {
        "id": "nXXO78GSDqPg"
      },
      "outputs": [],
      "source": [
        "def eval(model, criterion):\n",
        "    model.eval()\n",
        "\n",
        "    loss_sum = 0\n",
        "    total_sum = 0\n",
        "    correct_sum = 0\n",
        "    eval_round = 0\n",
        "\n",
        "    loss = 0\n",
        "    perp = 0\n",
        "\n",
        "    with torch.no_grad():\n",
        "        for inputs, targets in val_loader:\n",
        "            inputs = inputs.to(device)\n",
        "            targets = targets.to(device)\n",
        "\n",
        "            outputs = model(inputs)\n",
        "            loss = criterion(outputs, targets)      \n",
        "            loss_sum += loss\n",
        "\n",
        "            # Get the predicted labels\n",
        "            _, predicted = torch.max(outputs, 1)\n",
        "\n",
        "            total_sum += targets.size(0)\n",
        "            correct_sum += (predicted == targets).sum().item()\n",
        "            eval_round += 1\n",
        "\n",
        "    # Calculate accuracy\n",
        "    acc = 100 * correct_sum / total_sum\n",
        "\n",
        "    # Calculate average perplexity\n",
        "    average_loss = loss_sum / len(val_loader)\n",
        "    average_perplexity = torch.exp(average_loss)\n",
        "\n",
        "    print(f'Test Accuracy: {acc:.2f}%')\n",
        "    print(f'Average Loss: {average_loss:.2f}')\n",
        "    print(f'Average Perplexity: {average_perplexity:.2f}')"
      ]
    },
    {
      "cell_type": "code",
      "execution_count": 26,
      "metadata": {},
      "outputs": [
        {
          "data": {
            "text/plain": [
              "device(type='cuda')"
            ]
          },
          "execution_count": 26,
          "metadata": {},
          "output_type": "execute_result"
        }
      ],
      "source": [
        "device = torch.device('cuda' if torch.cuda.is_available() else 'cpu')\n",
        "device"
      ]
    },
    {
      "cell_type": "markdown",
      "metadata": {},
      "source": [
        "## Avaliação dos Modelos"
      ]
    },
    {
      "cell_type": "markdown",
      "metadata": {},
      "source": [
        "\n",
        "### 1. Sem camada de atenção"
      ]
    },
    {
      "cell_type": "code",
      "execution_count": 27,
      "metadata": {},
      "outputs": [
        {
          "name": "stdout",
          "output_type": "stream",
          "text": [
            "Model without Self Attention:\n",
            "\n",
            "The model has a total of 2,089,353 parameters.\n",
            "\n",
            "Training Start\n",
            "\n",
            "Epoch [1/10], Time:5.73, Loss: 6.4472, Accuracy: 0.11%, Perplexity: 630.9467\n",
            "Epoch [2/10], Time:2.83, Loss: 5.5686, Accuracy: 0.15%, Perplexity: 262.0580\n",
            "Epoch [3/10], Time:3.11, Loss: 5.1834, Accuracy: 0.18%, Perplexity: 178.2937\n",
            "Epoch [4/10], Time:2.74, Loss: 4.8980, Accuracy: 0.20%, Perplexity: 134.0159\n",
            "Epoch [5/10], Time:2.76, Loss: 4.6592, Accuracy: 0.22%, Perplexity: 105.5497\n",
            "Epoch [6/10], Time:2.95, Loss: 4.4432, Accuracy: 0.24%, Perplexity: 85.0443\n",
            "Epoch [7/10], Time:2.82, Loss: 4.2440, Accuracy: 0.26%, Perplexity: 69.6847\n",
            "Epoch [8/10], Time:2.79, Loss: 4.0559, Accuracy: 0.28%, Perplexity: 57.7370\n",
            "Epoch [9/10], Time:2.97, Loss: 3.8715, Accuracy: 0.30%, Perplexity: 48.0146\n",
            "Epoch [10/10], Time:2.75, Loss: 3.6991, Accuracy: 0.32%, Perplexity: 40.4120\n",
            "\n",
            "Evaluation Start\n",
            "\n",
            "Test Accuracy: 19.56%\n",
            "Average Loss: 5.30\n",
            "Average Perplexity: 199.74\n"
          ]
        }
      ],
      "source": [
        "model = BengioModel(vocab_size, embedding_dim, context_size, hidden_dim)\n",
        "print(\"Model without Self Attention:\")\n",
        "print()\n",
        "count_parameters(model)\n",
        "\n",
        "# Cross Entropy\n",
        "criterion = nn.CrossEntropyLoss()\n",
        "\n",
        "# Optimizer\n",
        "optimizer = torch.optim.SGD(model.parameters(), lr)\n",
        "\n",
        "model.to(device)\n",
        "\n",
        "print()\n",
        "print(\"Training Start\")\n",
        "print()\n",
        "train(model, criterion, optimizer)\n",
        "\n",
        "print()\n",
        "print(\"Evaluation Start\")\n",
        "print()\n",
        "eval(model, criterion)"
      ]
    },
    {
      "cell_type": "markdown",
      "metadata": {},
      "source": [
        "### 2. Com camada de atenção"
      ]
    },
    {
      "cell_type": "code",
      "execution_count": 28,
      "metadata": {},
      "outputs": [
        {
          "name": "stdout",
          "output_type": "stream",
          "text": [
            "Model with Self Attention:\n",
            "\n",
            "The model has a total of 3,571,729 parameters.\n",
            "\n",
            "Training Start\n",
            "\n",
            "Epoch [1/10], Time:3.32, Loss: 6.4240, Accuracy: 0.11%, Perplexity: 616.4592\n",
            "Epoch [2/10], Time:3.34, Loss: 5.5715, Accuracy: 0.15%, Perplexity: 262.8274\n",
            "Epoch [3/10], Time:3.43, Loss: 5.1923, Accuracy: 0.18%, Perplexity: 179.8791\n",
            "Epoch [4/10], Time:3.63, Loss: 4.9039, Accuracy: 0.20%, Perplexity: 134.8128\n",
            "Epoch [5/10], Time:3.35, Loss: 4.6622, Accuracy: 0.22%, Perplexity: 105.8706\n",
            "Epoch [6/10], Time:3.33, Loss: 4.4458, Accuracy: 0.24%, Perplexity: 85.2651\n",
            "Epoch [7/10], Time:3.31, Loss: 4.2483, Accuracy: 0.26%, Perplexity: 69.9893\n",
            "Epoch [8/10], Time:3.33, Loss: 4.0561, Accuracy: 0.28%, Perplexity: 57.7496\n",
            "Epoch [9/10], Time:3.32, Loss: 3.8750, Accuracy: 0.30%, Perplexity: 48.1811\n",
            "Epoch [10/10], Time:3.33, Loss: 3.7033, Accuracy: 0.31%, Perplexity: 40.5801\n",
            "\n",
            "Evaluation Start\n",
            "\n",
            "Test Accuracy: 19.24%\n",
            "Average Loss: 5.29\n",
            "Average Perplexity: 197.73\n"
          ]
        }
      ],
      "source": [
        "model_attn = BengioModel_SelfAttentionMatrix(vocab_size, embedding_dim, context_size, hidden_dim)\n",
        "print(\"Model with Self Attention:\")\n",
        "print()\n",
        "count_parameters(model_attn)\n",
        "\n",
        "# Cross Entropy\n",
        "criterion = nn.CrossEntropyLoss()\n",
        "\n",
        "# Optimizer\n",
        "optimizer = torch.optim.SGD(model_attn.parameters(), lr)\n",
        "\n",
        "model_attn.to(device)\n",
        "\n",
        "print()\n",
        "print(\"Training Start\")\n",
        "print()\n",
        "train(model_attn, criterion, optimizer)\n",
        "\n",
        "print()\n",
        "print(\"Evaluation Start\")\n",
        "print()\n",
        "eval(model_attn, criterion)"
      ]
    },
    {
      "cell_type": "markdown",
      "metadata": {},
      "source": [
        "### 3. Com camada de atenção e Embeddings Posicionais\n",
        "#### Descrição do Modelo:"
      ]
    },
    {
      "cell_type": "code",
      "execution_count": 29,
      "metadata": {},
      "outputs": [
        {
          "name": "stdout",
          "output_type": "stream",
          "text": [
            "Model with Self Attention and Positional Encodings:\n",
            "\n",
            "The model has a total of 3,571,729 parameters.\n",
            "\n",
            "Model:\n"
          ]
        },
        {
          "data": {
            "text/plain": [
              "BengioModel_SelfAttentionMatrix_PosEncoding(\n",
              "  (embeddings): Embedding(5001, 256)\n",
              "  (posencoding): PositionalEncoding()\n",
              "  (attention): SelfAttention_Matrix(\n",
              "    (WQ): Linear(in_features=256, out_features=256, bias=True)\n",
              "    (WK): Linear(in_features=256, out_features=256, bias=True)\n",
              "    (WV): Linear(in_features=256, out_features=256, bias=True)\n",
              "    (WO): Linear(in_features=256, out_features=5000, bias=True)\n",
              "  )\n",
              "  (linear1): Linear(in_features=1280, out_features=128, bias=True)\n",
              "  (relu): ReLU()\n",
              "  (linear2): Linear(in_features=128, out_features=5001, bias=True)\n",
              "  (logSoftMax): LogSoftmax(dim=1)\n",
              ")"
            ]
          },
          "execution_count": 29,
          "metadata": {},
          "output_type": "execute_result"
        }
      ],
      "source": [
        "model_attn_pos = BengioModel_SelfAttentionMatrix_PosEncoding(vocab_size, embedding_dim, context_size, hidden_dim)\n",
        "print(\"Model with Self Attention and Positional Encodings:\")\n",
        "print()\n",
        "count_parameters(model_attn_pos)\n",
        "print()\n",
        "print(\"Model:\")\n",
        "model_attn_pos"
      ]
    },
    {
      "cell_type": "markdown",
      "metadata": {},
      "source": [
        "#### Perplexidade Inicial:"
      ]
    },
    {
      "cell_type": "code",
      "execution_count": 30,
      "metadata": {},
      "outputs": [
        {
          "name": "stdout",
          "output_type": "stream",
          "text": [
            "\n",
            "Initial Loss: 8.5487\n",
            "Initial Perplexity: 5160.1616\n"
          ]
        }
      ],
      "source": [
        "# Cross Entropy\n",
        "criterion = nn.CrossEntropyLoss()\n",
        "\n",
        "# Optimizer\n",
        "optimizer = torch.optim.SGD(model_attn_pos.parameters(), lr)\n",
        "\n",
        "model_attn_pos.to(device)\n",
        "print()\n",
        "initial_eval(model_attn_pos)"
      ]
    },
    {
      "cell_type": "markdown",
      "metadata": {},
      "source": [
        "#### Treinamento e Avaliação:"
      ]
    },
    {
      "cell_type": "code",
      "execution_count": 31,
      "metadata": {},
      "outputs": [
        {
          "name": "stdout",
          "output_type": "stream",
          "text": [
            "\n",
            "Training Start\n",
            "\n",
            "Epoch [1/10], Time:3.38, Loss: 6.4363, Accuracy: 0.11%, Perplexity: 624.0879\n",
            "Epoch [2/10], Time:3.62, Loss: 5.5656, Accuracy: 0.15%, Perplexity: 261.2738\n",
            "Epoch [3/10], Time:3.51, Loss: 5.1865, Accuracy: 0.18%, Perplexity: 178.8478\n",
            "Epoch [4/10], Time:3.28, Loss: 4.9003, Accuracy: 0.20%, Perplexity: 134.3327\n",
            "Epoch [5/10], Time:3.32, Loss: 4.6603, Accuracy: 0.22%, Perplexity: 105.6647\n",
            "Epoch [6/10], Time:3.40, Loss: 4.4421, Accuracy: 0.24%, Perplexity: 84.9524\n",
            "Epoch [7/10], Time:3.36, Loss: 4.2433, Accuracy: 0.26%, Perplexity: 69.6393\n",
            "Epoch [8/10], Time:3.32, Loss: 4.0515, Accuracy: 0.28%, Perplexity: 57.4844\n",
            "Epoch [9/10], Time:3.35, Loss: 3.8720, Accuracy: 0.30%, Perplexity: 48.0389\n",
            "Epoch [10/10], Time:3.38, Loss: 3.6972, Accuracy: 0.32%, Perplexity: 40.3344\n",
            "\n",
            "Evaluation Start\n",
            "\n",
            "Test Accuracy: 19.64%\n",
            "Average Loss: 5.31\n",
            "Average Perplexity: 201.36\n"
          ]
        }
      ],
      "source": [
        "print()\n",
        "print(\"Training Start\")\n",
        "print()\n",
        "train(model_attn_pos, criterion, optimizer)\n",
        "\n",
        "print()\n",
        "print(\"Evaluation Start\")\n",
        "print()\n",
        "eval(model_attn_pos, criterion)\n",
        "\n"
      ]
    }
  ],
  "metadata": {
    "accelerator": "GPU",
    "colab": {
      "gpuType": "T4",
      "provenance": []
    },
    "kernelspec": {
      "display_name": "IA024",
      "language": "python",
      "name": "ia024"
    },
    "language_info": {
      "codemirror_mode": {
        "name": "ipython",
        "version": 3
      },
      "file_extension": ".py",
      "mimetype": "text/x-python",
      "name": "python",
      "nbconvert_exporter": "python",
      "pygments_lexer": "ipython3",
      "version": "3.11.4"
    }
  },
  "nbformat": 4,
  "nbformat_minor": 0
}
