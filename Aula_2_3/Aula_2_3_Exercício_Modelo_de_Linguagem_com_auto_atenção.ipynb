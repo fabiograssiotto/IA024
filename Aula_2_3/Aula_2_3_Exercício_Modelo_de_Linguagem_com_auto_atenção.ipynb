{
  "cells": [
    {
      "cell_type": "markdown",
      "metadata": {
        "id": "fMI0JT_YuYF3"
      },
      "source": [
        "## Exercício: Modelo de Linguagem com auto-atenção\n",
        "\n",
        "Este exercício é similar ao da aula passada, mas iremos agora treinar uma rede neural *com auto-atenção* para prever a próxima palavra de um texto, data as palavras anteriores como entrada.\n",
        "\n",
        "Na camada de auto-atenção, deve-se implementar (vide slide 34):\n",
        "- Embeddings de posição\n",
        "- Projeções lineares (WQ, WK, WV, WO)\n",
        "- Camada de feed forward (2-layer MLP)\n",
        "\n",
        "Instrucões:\n",
        "- É necessário fazer duas implementações da camada de auto-atenção: uma usando laços (ineficiente, mas fácil de entender) e outra matricial (eficiente mas difícil de entender). Usar slide 36 como referência.\n",
        "\n",
        "- Fazer um assert para garantir que o resultado das duas implementações é exatamente igual.\n",
        "\n",
        "- No treinamento, usar apenas a implementação matricial."
      ]
    },
    {
      "cell_type": "markdown",
      "metadata": {},
      "source": [
        "## Imports"
      ]
    },
    {
      "cell_type": "code",
      "execution_count": 1,
      "metadata": {},
      "outputs": [],
      "source": [
        "import os\n",
        "import sys\n",
        "import random\n",
        "import torch.nn as nn\n",
        "import torch.nn.functional as F\n",
        "import time\n",
        "import math\n",
        "from sklearn.model_selection import train_test_split\n",
        "from torch import nn"
      ]
    },
    {
      "cell_type": "markdown",
      "metadata": {},
      "source": [
        "## Variáveis Globais e Inicialização"
      ]
    },
    {
      "cell_type": "code",
      "execution_count": 2,
      "metadata": {},
      "outputs": [],
      "source": [
        "# Global variables\n",
        "\n",
        "# Vocabulary\n",
        "vocab_size = 5000\n",
        "context_size = 5\n",
        "pattern = r'\\w+|[,;.:!?\\']'\n",
        "\n",
        "# Training\n",
        "batch_size = 128\n",
        "epochs = 50\n",
        "lr = 0.1\n",
        "\n",
        "# Model\n",
        "embedding_dim = 256\n",
        "hidden_dim = 128"
      ]
    },
    {
      "cell_type": "code",
      "execution_count": 3,
      "metadata": {},
      "outputs": [],
      "source": [
        "# Colab environment\n",
        "IN_COLAB = 'google.colab' in sys.modules\n",
        "\n",
        "if (IN_COLAB):\n",
        "    %pip install colorama\n",
        "\n",
        "    # Google Drive\n",
        "    from google.colab import drive\n",
        "    drive.mount('/content/drive', force_remount=True)\n",
        "\n",
        "    project_folder=\"/content/drive/MyDrive/Classes/IA024/Aula_2_3\"\n",
        "    os.chdir(project_folder)\n",
        "    !ls -la"
      ]
    },
    {
      "cell_type": "markdown",
      "metadata": {
        "id": "bYbkEzdD37sZ"
      },
      "source": [
        "## Faz download e carrega o dataset"
      ]
    },
    {
      "cell_type": "code",
      "execution_count": 4,
      "metadata": {
        "colab": {
          "base_uri": "https://localhost:8080/"
        },
        "id": "9qAnqY_q0beK",
        "outputId": "f810fdb0-138d-4917-b7ef-69ab266acef6"
      },
      "outputs": [],
      "source": [
        "# Check if download is necessary\n",
        "if not os.path.exists(\"67724.txt.utf-8\"):\n",
        "    print(\"Downloading Gutenberg texts\")\n",
        "\n",
        "    !wget https://www.gutenberg.org/ebooks/67724.txt.utf-8\n",
        "    !wget https://www.gutenberg.org/ebooks/67725.txt.utf-8"
      ]
    },
    {
      "cell_type": "code",
      "execution_count": 5,
      "metadata": {
        "colab": {
          "base_uri": "https://localhost:8080/"
        },
        "id": "6_UzC9pV091C",
        "outputId": "1553b04f-24c4-4027-8cab-0907f92f04df"
      },
      "outputs": [
        {
          "data": {
            "text/plain": [
              "4969"
            ]
          },
          "execution_count": 5,
          "metadata": {},
          "output_type": "execute_result"
        }
      ],
      "source": [
        "text = open(\"67724.txt.utf-8\",\"r\").read()\n",
        "text += open(\"67725.txt.utf-8\",\"r\").read()\n",
        "\n",
        "paragraphs = text.split(\"\\n\\n\")\n",
        "\n",
        "len(paragraphs)"
      ]
    },
    {
      "cell_type": "code",
      "execution_count": 6,
      "metadata": {},
      "outputs": [
        {
          "name": "stdout",
          "output_type": "stream",
          "text": [
            "The Project Gutenberg eBook of O Guarany: romance brazileiro, Vol. 1 (of 2)\n",
            "    \n",
            "This ebook is for the use of anyone anywhere in the United States and\n",
            "most other parts of the world at no cost and with almost no restrictions\n",
            "whatsoever. You may copy it, give it away or re-use it under the terms\n",
            "of the Project Gutenberg License included with this ebook or online\n",
            "at www.gutenberg.org. If you are not located in the United States,\n",
            "you will have to check the laws of the country where you are located\n",
            "before using this eBook.\n"
          ]
        }
      ],
      "source": [
        "# Checking the text\n",
        "print(paragraphs[0])"
      ]
    },
    {
      "cell_type": "code",
      "execution_count": 7,
      "metadata": {
        "colab": {
          "base_uri": "https://localhost:8080/"
        },
        "id": "UhUFjtNdDuG0",
        "outputId": "78798c0c-deca-4454-d3fb-7d3ba70f3e91"
      },
      "outputs": [
        {
          "name": "stdout",
          "output_type": "stream",
          "text": [
            "Pery te diz verdade.\n",
            "\n",
            "«A guerra nos trouxe; vencemos. A guerra acabou; voltamos.\n",
            "\n",
            "--_Per Dio_! eil-a!\n",
            "\n",
            "Quando o primeiro reflexo do dia purpureou o horizonte, as folhas se abrirão, e Pery exhausto de forças, vacillante, emmagrecido como se acabasse de uma longa enfermidade, sahio do seu retiro.\n",
            "\n",
            "The Project Gutenberg Literary Archive Foundation is a non-profit 501(c)(3) educational corporation organized under the laws of the state of Mississippi and granted tax exempt status by the Internal Revenue Service. The Foundation’s EIN or federal tax identification number is 64-6221541. Contributions to the Project Gutenberg Literary Archive Foundation are tax deductible to the full extent permitted by U.S. federal laws and your state’s laws.\n",
            "\n",
            "Number of paragraphs: 4892\n"
          ]
        },
        {
          "data": {
            "text/plain": [
              "4892"
            ]
          },
          "execution_count": 7,
          "metadata": {},
          "output_type": "execute_result"
        }
      ],
      "source": [
        "cleaned_paragraphs = [paragraph.replace(\"\\n\", \" \") for paragraph in paragraphs if paragraph.strip()]\n",
        "\n",
        "# Print 5 random paragraphs\n",
        "num_paragraphs = len(cleaned_paragraphs)\n",
        "for i in range(0,5):\n",
        "    idx = random.randrange(num_paragraphs)\n",
        "    print(f\"{cleaned_paragraphs[idx]}\\n\")\n",
        "\n",
        "print(\"Number of paragraphs: \" + str(num_paragraphs))\n",
        "\n",
        "len(cleaned_paragraphs)"
      ]
    },
    {
      "cell_type": "markdown",
      "metadata": {
        "id": "bFVN2ihb33Rf"
      },
      "source": [
        "## Análise do dataset"
      ]
    },
    {
      "cell_type": "code",
      "execution_count": 8,
      "metadata": {
        "colab": {
          "base_uri": "https://localhost:8080/"
        },
        "id": "qSRHqe3H4ZFw",
        "outputId": "4a985c7a-ce1d-4b72-d253-c9fbbc5f9440"
      },
      "outputs": [
        {
          "data": {
            "text/plain": [
              "12610"
            ]
          },
          "execution_count": 8,
          "metadata": {},
          "output_type": "execute_result"
        }
      ],
      "source": [
        "# Conta as palavras no dataset\n",
        "from collections import Counter\n",
        "import re\n",
        "\n",
        "def count_words(texts):\n",
        "    word_counts = Counter()\n",
        "    for text in texts:\n",
        "        word_counts.update(re.findall(pattern, text.lower()))\n",
        "    return word_counts\n",
        "\n",
        "word_counts = count_words(cleaned_paragraphs)\n",
        "\n",
        "len(word_counts)"
      ]
    },
    {
      "cell_type": "markdown",
      "metadata": {
        "id": "EyGVDL9KzJ_I"
      },
      "source": [
        "## Criando um vocabulário"
      ]
    },
    {
      "cell_type": "code",
      "execution_count": 9,
      "metadata": {
        "id": "FiP7OCo9zJ_I"
      },
      "outputs": [],
      "source": [
        "most_frequent_words = [word for word, count in word_counts.most_common(vocab_size)]\n",
        "vocab = {word: i for i, word in enumerate(most_frequent_words, 1)}"
      ]
    },
    {
      "cell_type": "code",
      "execution_count": 10,
      "metadata": {},
      "outputs": [
        {
          "name": "stdout",
          "output_type": "stream",
          "text": [
            "Most Frequent Words: ['.', ',', 'a', 'que', 'o', 'de', 'e', 'se', ';', 'um']\n",
            "Vocabulary Size: 2000\n"
          ]
        }
      ],
      "source": [
        "print(f\"Most Frequent Words: {most_frequent_words[:10]}\")\n",
        "print(f\"Vocabulary Size: {len(vocab)}\")"
      ]
    },
    {
      "cell_type": "code",
      "execution_count": 11,
      "metadata": {
        "colab": {
          "base_uri": "https://localhost:8080/"
        },
        "id": "RhbhAsZbzJ_J",
        "outputId": "6a53c9e0-308d-4082-e225-cfa376e8f39a"
      },
      "outputs": [
        {
          "name": "stdout",
          "output_type": "stream",
          "text": [
            " Publicando este livro em 1857, se disse ser aquella primeira edição uma prova typographica, que algum dia talvez o autor se dispuzesse a rever.\n",
            "[0, 146, 0, 23, 0, 2, 8, 50, 117, 276, 266, 0, 13, 1071, 0, 2, 4, 193, 137, 287, 5, 0, 8, 0, 3, 0, 1]\n"
          ]
        }
      ],
      "source": [
        "def encode_sentence(sentence, vocab):\n",
        "    return [vocab.get(word, 0) for word in re.findall(pattern, sentence.lower())]\n",
        "\n",
        "print(cleaned_paragraphs[20])\n",
        "print(encode_sentence(cleaned_paragraphs[20], vocab))"
      ]
    },
    {
      "cell_type": "markdown",
      "metadata": {
        "id": "wia_ygbvzJ_J"
      },
      "source": [
        "## Classe do dataset"
      ]
    },
    {
      "cell_type": "code",
      "execution_count": 12,
      "metadata": {
        "id": "Iy-elI1magRR"
      },
      "outputs": [],
      "source": [
        "# Dataset class\n",
        "import torch\n",
        "from torch.utils.data import Dataset, DataLoader\n",
        "\n",
        "class CustomDataset(Dataset):\n",
        "  def __init__(self, paragraphs, vocab, context):\n",
        "    self.paragraphs = paragraphs\n",
        "    self.vocab = vocab\n",
        "    self.context = context\n",
        "    self.tokens, self.targets = self.setup()\n",
        "\n",
        "  def __len__(self):\n",
        "    return len(self.tokens)\n",
        "\n",
        "  def __getitem__(self, idx):\n",
        "    return torch.tensor(self.tokens[idx]), torch.tensor(self.targets[idx])\n",
        "  \n",
        "  def setup(self):\n",
        "    tokens = []\n",
        "    targets = []\n",
        "    for paragraph in self.paragraphs:\n",
        "      encoded = encode_sentence(paragraph, self.vocab)\n",
        "      \n",
        "      # If paragraph is smaller than the context, skip it.\n",
        "      if len(encoded) < self.context + 1:\n",
        "          continue\n",
        "\n",
        "      for i in range(len(encoded) - self.context):\n",
        "        tks = encoded[i:i+self.context]\n",
        "        tgt = encoded[i+self.context]\n",
        "        # Only add if there are no unknown tokens in both context and target.\n",
        "        bad_token = 0\n",
        "        if not (bad_token in tks or tgt == bad_token):\n",
        "          tokens.append(tks)\n",
        "          targets.append(tgt)\n",
        "    return tokens, targets\n"
      ]
    },
    {
      "cell_type": "code",
      "execution_count": 13,
      "metadata": {
        "colab": {
          "base_uri": "https://localhost:8080/"
        },
        "id": "aD1CVci2zJ_J",
        "outputId": "5bf0839e-f30e-4ff2-ed6f-4f3fda782b7c"
      },
      "outputs": [
        {
          "name": "stdout",
          "output_type": "stream",
          "text": [
            "Training samples: 3913\n",
            "Validation samples: 979\n",
            "\n",
            "Training dataset samples: 16033\n",
            "Validation dataset samples: 4621\n"
          ]
        }
      ],
      "source": [
        "# Train/Validation split\n",
        "train_data, val_data = train_test_split(cleaned_paragraphs, test_size=0.2, random_state=18)\n",
        "\n",
        "train_dataset = CustomDataset(train_data, vocab, context_size)\n",
        "val_dataset = CustomDataset(val_data, vocab, context_size)\n",
        "\n",
        "# Counting all Samples\n",
        "print(f\"Training samples: {len(train_data)}\")\n",
        "print(f\"Validation samples: {len(val_data)}\")\n",
        "print()\n",
        "print(f\"Training dataset samples: {len(train_dataset)}\")\n",
        "print(f\"Validation dataset samples: {len(val_dataset)}\")"
      ]
    },
    {
      "cell_type": "code",
      "execution_count": 14,
      "metadata": {
        "id": "gC0C5qn2zJ_J"
      },
      "outputs": [
        {
          "name": "stdout",
          "output_type": "stream",
          "text": [
            "[tensor([[ 474,  394,    3,  ...,  942,  288,  793],\n",
            "        [   9,   62,  864,  ...,    2,    7,   16],\n",
            "        [   2,    4,   12,  ...,    2,    7, 1785],\n",
            "        ...,\n",
            "        [   4,   21,    2,  ...,   13, 1253,  688],\n",
            "        [  27,  455,    7,  ...,   45,  131,    2],\n",
            "        [ 517,  701,   69,  ...,  120,  447,   16]]), tensor([   2,   15,   26,  233,    5,   80,   14,   11,    3,   92,    9,  163,\n",
            "           1,  315,  103,    7,   39,  322, 1218,   46, 1733,    2,   15,   14,\n",
            "         836,    1,  504, 1156,  525,   25,    8,    6,  131, 1696,    2,   88,\n",
            "         604,    8,    2,   80,   81,    2,    8,  263,    2,    1, 1757,    2,\n",
            "           1,    4,   92,    1,   93,    6,    7,  519,    1,   59, 1044,   52,\n",
            "           6,  145,    7,   79,   10,   73,  542,   10,    2,  379,   13,   91,\n",
            "         175,    6,    7,   15,    4,    1,    3,    7,   23, 1712,  188,    7,\n",
            "         136,  161,    7,   19,  398,    5, 1414,  128,    5,  141,    8,  167,\n",
            "          18,   19,  465,   85,   10,   17,    3,   25,  449,  178,   16,    7,\n",
            "           1,    9,    1,   41,   45,   13,   11,    9,  107,    2,   23,    9,\n",
            "           2,   71,  348,    1,    4,    2,   12,   15])]\n"
          ]
        }
      ],
      "source": [
        "train_loader = DataLoader(train_dataset, batch_size=batch_size, shuffle=True)\n",
        "val_loader = DataLoader(val_dataset, batch_size=batch_size, shuffle=True)\n",
        "\n",
        "sample = next(iter(train_loader))\n",
        "print(sample)"
      ]
    },
    {
      "cell_type": "markdown",
      "metadata": {
        "id": "-5_-Yud0zJ_K"
      },
      "source": [
        "## Model"
      ]
    },
    {
      "cell_type": "markdown",
      "metadata": {},
      "source": [
        "#### Implementação das camadas de self-attention (Loop e Matricial)\n",
        "#### Positional Encoding:"
      ]
    },
    {
      "cell_type": "code",
      "execution_count": 15,
      "metadata": {},
      "outputs": [],
      "source": [
        "# Positional Embedding - as described in \"Attention is All You Need\"\n",
        "class PositionalEncoding(nn.Module):\n",
        "    def __init__(self, max_sequence, embedding_dim):\n",
        "        super().__init__()\n",
        "        device = torch.device('cuda' if torch.cuda.is_available() else 'cpu')\n",
        "        self.positional_encoding = torch.zeros(max_sequence, embedding_dim, device=device)\n",
        "        position = torch.arange(0, max_sequence, device=device).unsqueeze(1)\n",
        "        div_term = torch.exp(torch.arange(0, embedding_dim, 2, device=device) * (-math.log(10000.0) / embedding_dim))\n",
        "        self.positional_encoding[:, 0::2] = torch.sin(position * div_term)\n",
        "        self.positional_encoding[:, 1::2] = torch.cos(position * div_term)\n",
        "        self.positional_encoding = self.positional_encoding.unsqueeze(0)\n",
        "\n",
        "    def forward(self, x):\n",
        "        _, seq_length, _ = x.size()\n",
        "        positional_encoding = self.positional_encoding[:, :seq_length, :]\n",
        "        positional_encoding = positional_encoding.to(x.device)\n",
        "        # Position encoding is added to the input embeddings.\n",
        "        return x + positional_encoding   "
      ]
    },
    {
      "cell_type": "markdown",
      "metadata": {},
      "source": [
        "#### Implementação em Loop"
      ]
    },
    {
      "cell_type": "code",
      "execution_count": 16,
      "metadata": {},
      "outputs": [],
      "source": [
        "# Adaptado da implementação do Ramon, muito elegante e traduziu bem o slide em aula.\n",
        "\n",
        "class SelfAttention_Loop(nn.Module):\n",
        "  def __init__(self, embedding_dim, vocab_size):\n",
        "    super(SelfAttention_Loop, self).__init__()\n",
        "\n",
        "    self.WQ = nn.Linear(embedding_dim, embedding_dim)\n",
        "    self.WK = nn.Linear(embedding_dim, embedding_dim)\n",
        "    self.WV = nn.Linear(embedding_dim, embedding_dim)\n",
        "    self.WO = nn.Linear(embedding_dim, vocab_size)\n",
        "\n",
        "  def setProjections(self, WQ, WK, WV, WO):\n",
        "    self.WQ = WQ\n",
        "    self.WK = WK\n",
        "    self.WV = WV\n",
        "    self.WO = WO\n",
        "\n",
        "  def forward(self, seq):\n",
        "    E = []  \n",
        "    for Xq in seq:\n",
        "        q = self.WQ(Xq)\n",
        "        scores = []\n",
        "        for Xk in seq:\n",
        "            k = self.WK(Xk)\n",
        "            score = torch.dot(q, k.transpose(-1,0))\n",
        "            scores.append(score)\n",
        "\n",
        "        scores_tensor = torch.tensor(scores)  \n",
        "        probs         = scores_tensor.softmax(dim=-1)\n",
        "\n",
        "        e = 0\n",
        "        for xv, p in zip(seq, probs):\n",
        "            v = self.WV(xv)\n",
        "            e += v * p\n",
        "\n",
        "        e = self.WO(e)\n",
        "        E.append(e)\n",
        "\n",
        "    return torch.stack(E) "
      ]
    },
    {
      "cell_type": "markdown",
      "metadata": {},
      "source": [
        "#### Implementação Matricial"
      ]
    },
    {
      "cell_type": "code",
      "execution_count": 17,
      "metadata": {},
      "outputs": [],
      "source": [
        "# Matrix Implementation\n",
        "class SelfAttention_Matrix(nn.Module):\n",
        "  def __init__(self, embedding_dim, vocab_size):\n",
        "    super().__init__()\n",
        "\n",
        "    self.WQ = nn.Linear(embedding_dim, embedding_dim)\n",
        "    self.WK = nn.Linear(embedding_dim, embedding_dim)\n",
        "    self.WV = nn.Linear(embedding_dim, embedding_dim)\n",
        "    self.WO = nn.Linear(embedding_dim, vocab_size)\n",
        "\n",
        "  def setProjections(self, WQ, WK, WV, WO):\n",
        "    self.WQ = WQ\n",
        "    self.WK = WK\n",
        "    self.WV = WV\n",
        "    self.WO = WO\n",
        "\n",
        "  def forward(self, inputs):\n",
        "    # Linear projections\n",
        "    Q = self.WQ(inputs)\n",
        "    K = self.WK(inputs)\n",
        "    V = self.WV(inputs)\n",
        "\n",
        "    scores = torch.matmul(Q, K.transpose(-2, -1))\n",
        "    probs = F.softmax(scores, dim=-1)\n",
        "    new_embedding = torch.matmul(probs, V)\n",
        "    # Projection in WO\n",
        "    new_embedding = self.WO(new_embedding)\n",
        "    return new_embedding"
      ]
    },
    {
      "cell_type": "markdown",
      "metadata": {},
      "source": [
        "### Teste das Camadas de Atenção"
      ]
    },
    {
      "cell_type": "code",
      "execution_count": 18,
      "metadata": {},
      "outputs": [
        {
          "name": "stdout",
          "output_type": "stream",
          "text": [
            "Loop Embeds:\n",
            "tensor([[-0.1192,  0.5147, -0.1191, -0.2875,  0.1754, -0.3504,  0.4217, -0.3623,\n",
            "          0.4957, -0.4048],\n",
            "        [-0.0944,  0.5010, -0.2122, -0.2935,  0.1958, -0.3346,  0.3382, -0.3234,\n",
            "          0.4562, -0.4022],\n",
            "        [ 0.0160,  0.4849, -0.3807, -0.1848,  0.1161, -0.1352,  0.0803, -0.3809,\n",
            "          0.3138, -0.4051],\n",
            "        [-0.1127,  0.5035, -0.1804, -0.3055,  0.2039, -0.3653,  0.3801, -0.3177,\n",
            "          0.4791, -0.4021],\n",
            "        [-0.1192,  0.5147, -0.1191, -0.2875,  0.1754, -0.3504,  0.4217, -0.3623,\n",
            "          0.4957, -0.4048]], grad_fn=<StackBackward0>)\n",
            "Matrix Embeds:\n",
            "tensor([[-0.1192,  0.5147, -0.1191, -0.2875,  0.1754, -0.3504,  0.4217, -0.3623,\n",
            "          0.4957, -0.4048],\n",
            "        [-0.0944,  0.5010, -0.2122, -0.2935,  0.1958, -0.3346,  0.3382, -0.3234,\n",
            "          0.4562, -0.4022],\n",
            "        [ 0.0160,  0.4849, -0.3807, -0.1848,  0.1161, -0.1352,  0.0803, -0.3809,\n",
            "          0.3138, -0.4051],\n",
            "        [-0.1127,  0.5035, -0.1804, -0.3055,  0.2039, -0.3653,  0.3801, -0.3177,\n",
            "          0.4791, -0.4021],\n",
            "        [-0.1192,  0.5147, -0.1191, -0.2875,  0.1754, -0.3504,  0.4217, -0.3623,\n",
            "          0.4957, -0.4048]], grad_fn=<AddmmBackward0>)\n",
            "\n",
            "Loop and Matrix results are the same: True\n"
          ]
        }
      ],
      "source": [
        "# Test data\n",
        "tst_dim = 5\n",
        "tst_vocab = 10\n",
        "data = torch.randint(0, tst_vocab, (tst_dim,))\n",
        "embedding = nn.Embedding(tst_vocab, tst_dim)\n",
        "embeds = embedding(data)\n",
        "\n",
        "# Projections (need to be the same for this test)\n",
        "WQ = nn.Linear(tst_dim, tst_dim)\n",
        "WK = nn.Linear(tst_dim, tst_dim)\n",
        "WV = nn.Linear(tst_dim, tst_dim)\n",
        "WO = nn.Linear(tst_dim, tst_vocab)\n",
        "\n",
        "# Loop\n",
        "attn_loop = SelfAttention_Loop(tst_dim, tst_vocab)\n",
        "attn_loop.setProjections(WQ, WK, WV, WO)\n",
        "embeds_attn_loop = attn_loop(embeds)\n",
        "# Matrix\n",
        "attn_matrix = SelfAttention_Matrix(tst_dim, tst_vocab)\n",
        "attn_matrix.setProjections(WQ, WK, WV, WO)\n",
        "embeds_attn_matrix = attn_matrix(embeds)\n",
        "\n",
        "print(\"Loop Embeds:\")\n",
        "print(embeds_attn_loop)\n",
        "\n",
        "print(\"Matrix Embeds:\")\n",
        "print(embeds_attn_matrix)\n",
        "\n",
        "# Check results\n",
        "print()\n",
        "print(f'Loop and Matrix results are the same: {torch.allclose(embeds_attn_loop, embeds_attn_matrix)}')"
      ]
    },
    {
      "cell_type": "markdown",
      "metadata": {},
      "source": [
        "### Implementação dos Modelos (Com e sem atenção, e com embeddings de posição)"
      ]
    },
    {
      "cell_type": "code",
      "execution_count": 19,
      "metadata": {},
      "outputs": [],
      "source": [
        "class BengioModel(torch.nn.Module):\n",
        "    def __init__(self, vocab_size, embedding_dim, context_size, h):\n",
        "        super(BengioModel, self).__init__()\n",
        "        self.embeddings = nn.Embedding(vocab_size+1, embedding_dim)\n",
        "        self.linear1 = nn.Linear(context_size * embedding_dim, h)\n",
        "        self.relu = torch.nn.ReLU()\n",
        "        self.linear2 = nn.Linear(h, vocab_size+1)\n",
        "        # Softmax to scale outputs\n",
        "        self.logSoftMax = torch.nn.LogSoftmax(dim=1)\n",
        "\n",
        "    def forward(self, inputs):\n",
        "        embeds = self.embeddings(inputs)\n",
        "        # Flatten embeddings\n",
        "        embeds = embeds.view(embeds.size(0), -1)\n",
        "        # Linear layer\n",
        "        out = self.linear1(embeds)\n",
        "        out = self.relu(out)\n",
        "        # Second layer\n",
        "        out = self.linear2(out)\n",
        "        # Softmax output\n",
        "        out = self.logSoftMax(out)\n",
        "        return out"
      ]
    },
    {
      "cell_type": "code",
      "execution_count": 20,
      "metadata": {},
      "outputs": [],
      "source": [
        "class BengioModel_SelfAttentionMatrix(torch.nn.Module):\n",
        "    def __init__(self, vocab_size, embedding_dim, context_size, h):\n",
        "        super(BengioModel_SelfAttentionMatrix, self).__init__()\n",
        "        self.embeddings = nn.Embedding(vocab_size+1, embedding_dim)\n",
        "        self.attention = SelfAttention_Matrix(embedding_dim, vocab_size)        \n",
        "        self.linear1 = nn.Linear(context_size * embedding_dim, h)\n",
        "        self.relu = torch.nn.ReLU()\n",
        "        self.linear2 = nn.Linear(h, vocab_size+1)\n",
        "        # Softmax to scale outputs\n",
        "        self.logSoftMax = torch.nn.LogSoftmax(dim=1)\n",
        "\n",
        "    def forward(self, inputs):\n",
        "        embeds = self.embeddings(inputs)\n",
        "        x = torch.stack(torch.unbind(embeds, dim=1), dim=1)\n",
        "        # Camada de autoatenção\n",
        "        attention  = self.attention(x)\n",
        "        # Flatten embeddings\n",
        "        embeds = embeds.view(attention.size(0), -1)\n",
        "        # Linear layer\n",
        "        out = self.linear1(embeds)\n",
        "        out = self.relu(out)\n",
        "        # Second layer\n",
        "        out = self.linear2(out)\n",
        "        # Softmax output\n",
        "        out = self.logSoftMax(out)\n",
        "        return out"
      ]
    },
    {
      "cell_type": "code",
      "execution_count": 21,
      "metadata": {
        "id": "I2qKG9YczJ_K"
      },
      "outputs": [],
      "source": [
        "class BengioModel_SelfAttentionMatrix_PosEncoding(torch.nn.Module):\n",
        "    def __init__(self, vocab_size, embedding_dim, context_size, h):\n",
        "        super(BengioModel_SelfAttentionMatrix_PosEncoding, self).__init__()\n",
        "        self.embeddings = nn.Embedding(vocab_size+1, embedding_dim)\n",
        "        self.posencoding = PositionalEncoding(context_size, embedding_dim)\n",
        "        self.attention = SelfAttention_Matrix(embedding_dim, vocab_size)        \n",
        "        self.linear1 = nn.Linear(context_size * embedding_dim, h)\n",
        "        self.relu = torch.nn.ReLU()\n",
        "        self.linear2 = nn.Linear(h, vocab_size+1)\n",
        "        # Softmax to scale outputs\n",
        "        self.logSoftMax = torch.nn.LogSoftmax(dim=1)\n",
        "\n",
        "    def forward(self, inputs):\n",
        "        embeds = self.embeddings(inputs)\n",
        "        embeds_pos = self.posencoding(embeds)\n",
        "        x = torch.stack(torch.unbind(embeds_pos, dim=1), dim=1)\n",
        "        # Camada de autoatenção\n",
        "        attention  = self.attention(x)\n",
        "        # Flatten embeddings\n",
        "        embeds = embeds.view(attention.size(0), -1)\n",
        "        # Linear layer\n",
        "        out = self.linear1(embeds)\n",
        "        out = self.relu(out)\n",
        "        # Second layer\n",
        "        out = self.linear2(out)\n",
        "        # Softmax output\n",
        "        out = self.logSoftMax(out)\n",
        "        return out"
      ]
    },
    {
      "cell_type": "markdown",
      "metadata": {},
      "source": [
        "## Funções de Treinamento e Avaliação do Modelo"
      ]
    },
    {
      "cell_type": "code",
      "execution_count": 22,
      "metadata": {},
      "outputs": [],
      "source": [
        "def count_parameters(model):\n",
        "    total_params = sum(p.numel() for p in model.parameters() if p.requires_grad)\n",
        "    print(f'The model has a total of {total_params:,} parameters.')"
      ]
    },
    {
      "cell_type": "code",
      "execution_count": 23,
      "metadata": {},
      "outputs": [],
      "source": [
        "def initial_eval(model):\n",
        "    # Initial Perplexity and Loss\n",
        "    # Before training\n",
        "    model.eval()\n",
        "\n",
        "    loss = 0\n",
        "    perp = 0\n",
        "\n",
        "    with torch.no_grad():\n",
        "        for inputs, targets in train_loader:\n",
        "            inputs = inputs.to(device)\n",
        "            targets = targets.to(device)\n",
        "            outputs = model(inputs)\n",
        "            loss += criterion(outputs, targets).item()\n",
        "\n",
        "    loss /= len(train_loader)\n",
        "    perp = torch.exp(torch.tensor(loss))\n",
        "\n",
        "    print(f'Initial Loss: {loss:.4f}')\n",
        "    print(f'Initial Perplexity: {perp:.4f}')"
      ]
    },
    {
      "cell_type": "code",
      "execution_count": 24,
      "metadata": {},
      "outputs": [],
      "source": [
        "def train(model, criterion, optimizer):\n",
        "      # Training Loop\n",
        "      model.train()\n",
        "      for epoch in range(epochs):\n",
        "\n",
        "            epoch_start = time.time()\n",
        "            # Metrics\n",
        "            epoch_loss = 0\n",
        "            epoch_correct = 0\n",
        "            epoch_samples = 0\n",
        "\n",
        "            for inputs, targets in train_loader:\n",
        "                  inputs = inputs.to(device)  # Move input data to the device\n",
        "                  targets = targets.to(device)\n",
        "\n",
        "                  # Forward pass\n",
        "                  outputs = model(inputs)\n",
        "                  loss = criterion(outputs, targets)\n",
        "\n",
        "                  # Backward pass and optimization\n",
        "                  optimizer.zero_grad()\n",
        "                  loss.backward()\n",
        "                  optimizer.step()\n",
        "\n",
        "                  # Loss\n",
        "                  epoch_loss += loss.item()\n",
        "\n",
        "                  # Predicted\n",
        "                  _, predicted = torch.max(outputs, 1)\n",
        "                  epoch_correct += (predicted == targets).sum().item()\n",
        "                  epoch_samples += targets.size(0)\n",
        "\n",
        "            # Calculate average loss and accuracy for epoch\n",
        "            avg_loss = epoch_loss / len(train_loader)\n",
        "            acc = epoch_correct / epoch_samples\n",
        "\n",
        "            # Perplexity\n",
        "            perp = torch.exp(torch.tensor(avg_loss))\n",
        "\n",
        "            epoch_end = time.time()\n",
        "            epoch_time = epoch_end - epoch_start\n",
        "            # Print epoch statistics\n",
        "            print(f'Epoch [{epoch+1}/{epochs}], Time:{epoch_time:.2f}, Loss: {avg_loss:.4f}, Accuracy: {acc:.2f}%, Perplexity: {perp:.4f}')\n"
      ]
    },
    {
      "cell_type": "code",
      "execution_count": 25,
      "metadata": {
        "id": "nXXO78GSDqPg"
      },
      "outputs": [],
      "source": [
        "def eval(model, criterion):\n",
        "    model.eval()\n",
        "\n",
        "    loss_sum = 0\n",
        "    total_sum = 0\n",
        "    correct_sum = 0\n",
        "    eval_round = 0\n",
        "\n",
        "    loss = 0\n",
        "    perp = 0\n",
        "\n",
        "    with torch.no_grad():\n",
        "        for inputs, targets in val_loader:\n",
        "            inputs = inputs.to(device)\n",
        "            targets = targets.to(device)\n",
        "\n",
        "            outputs = model(inputs)\n",
        "            loss = criterion(outputs, targets)      \n",
        "            loss_sum += loss\n",
        "\n",
        "            # Get the predicted labels\n",
        "            _, predicted = torch.max(outputs, 1)\n",
        "\n",
        "            total_sum += targets.size(0)\n",
        "            correct_sum += (predicted == targets).sum().item()\n",
        "            eval_round += 1\n",
        "\n",
        "    # Calculate accuracy\n",
        "    acc = 100 * correct_sum / total_sum\n",
        "\n",
        "    # Calculate average perplexity\n",
        "    average_loss = loss_sum / len(val_loader)\n",
        "    average_perplexity = torch.exp(average_loss)\n",
        "\n",
        "    print(f'Test Accuracy: {acc:.2f}%')\n",
        "    print(f'Average Loss: {average_loss:.2f}')\n",
        "    print(f'Average Perplexity: {average_perplexity:.2f}')"
      ]
    },
    {
      "cell_type": "code",
      "execution_count": 26,
      "metadata": {},
      "outputs": [
        {
          "data": {
            "text/plain": [
              "device(type='cuda')"
            ]
          },
          "execution_count": 26,
          "metadata": {},
          "output_type": "execute_result"
        }
      ],
      "source": [
        "device = torch.device('cuda' if torch.cuda.is_available() else 'cpu')\n",
        "device"
      ]
    },
    {
      "cell_type": "markdown",
      "metadata": {},
      "source": [
        "## Avaliação dos Modelos"
      ]
    },
    {
      "cell_type": "markdown",
      "metadata": {},
      "source": [
        "\n",
        "### 1. Sem camada de atenção"
      ]
    },
    {
      "cell_type": "code",
      "execution_count": 27,
      "metadata": {},
      "outputs": [
        {
          "name": "stdout",
          "output_type": "stream",
          "text": [
            "Model without Self Attention:\n",
            "\n",
            "The model has a total of 1,065,425 parameters.\n",
            "\n",
            "Training Start\n",
            "\n",
            "Epoch [1/10], Time:0.51, Loss: 6.0788, Accuracy: 0.13%, Perplexity: 436.5206\n",
            "Epoch [2/10], Time:0.39, Loss: 5.0728, Accuracy: 0.19%, Perplexity: 159.6210\n",
            "Epoch [3/10], Time:0.38, Loss: 4.5613, Accuracy: 0.24%, Perplexity: 95.7098\n",
            "Epoch [4/10], Time:0.38, Loss: 4.1032, Accuracy: 0.30%, Perplexity: 60.5309\n",
            "Epoch [5/10], Time:0.37, Loss: 3.6711, Accuracy: 0.36%, Perplexity: 39.2959\n",
            "Epoch [6/10], Time:0.37, Loss: 3.2439, Accuracy: 0.42%, Perplexity: 25.6326\n",
            "Epoch [7/10], Time:0.37, Loss: 2.8525, Accuracy: 0.48%, Perplexity: 17.3318\n",
            "Epoch [8/10], Time:0.38, Loss: 2.4730, Accuracy: 0.54%, Perplexity: 11.8578\n",
            "Epoch [9/10], Time:0.37, Loss: 2.0957, Accuracy: 0.61%, Perplexity: 8.1314\n",
            "Epoch [10/10], Time:0.37, Loss: 1.7696, Accuracy: 0.67%, Perplexity: 5.8688\n",
            "\n",
            "Evaluation Start\n",
            "\n",
            "Test Accuracy: 30.64%\n",
            "Average Loss: 5.09\n",
            "Average Perplexity: 161.81\n"
          ]
        }
      ],
      "source": [
        "model = BengioModel(vocab_size, embedding_dim, context_size, hidden_dim)\n",
        "print(\"Model without Self Attention:\")\n",
        "print()\n",
        "count_parameters(model)\n",
        "\n",
        "# Cross Entropy\n",
        "criterion = nn.CrossEntropyLoss()\n",
        "\n",
        "# Optimizer\n",
        "optimizer = torch.optim.SGD(model.parameters(), lr)\n",
        "\n",
        "model.to(device)\n",
        "\n",
        "print()\n",
        "print(\"Training Start\")\n",
        "print()\n",
        "train(model, criterion, optimizer)\n",
        "\n",
        "print()\n",
        "print(\"Evaluation Start\")\n",
        "print()\n",
        "eval(model, criterion)"
      ]
    },
    {
      "cell_type": "markdown",
      "metadata": {},
      "source": [
        "### 2. Com camada de atenção"
      ]
    },
    {
      "cell_type": "code",
      "execution_count": 28,
      "metadata": {},
      "outputs": [
        {
          "name": "stdout",
          "output_type": "stream",
          "text": [
            "Model with Self Attention:\n",
            "\n",
            "The model has a total of 1,776,801 parameters.\n",
            "\n",
            "Training Start\n",
            "\n",
            "Epoch [1/10], Time:0.46, Loss: 6.0247, Accuracy: 0.13%, Perplexity: 413.5028\n",
            "Epoch [2/10], Time:0.45, Loss: 5.0745, Accuracy: 0.19%, Perplexity: 159.8996\n",
            "Epoch [3/10], Time:0.44, Loss: 4.5699, Accuracy: 0.23%, Perplexity: 96.5319\n",
            "Epoch [4/10], Time:0.46, Loss: 4.1161, Accuracy: 0.29%, Perplexity: 61.3166\n",
            "Epoch [5/10], Time:0.46, Loss: 3.6812, Accuracy: 0.35%, Perplexity: 39.6959\n",
            "Epoch [6/10], Time:0.46, Loss: 3.2629, Accuracy: 0.41%, Perplexity: 26.1263\n",
            "Epoch [7/10], Time:0.45, Loss: 2.8736, Accuracy: 0.47%, Perplexity: 17.6997\n",
            "Epoch [8/10], Time:0.45, Loss: 2.4900, Accuracy: 0.54%, Perplexity: 12.0615\n",
            "Epoch [9/10], Time:0.46, Loss: 2.1313, Accuracy: 0.60%, Perplexity: 8.4262\n",
            "Epoch [10/10], Time:0.44, Loss: 1.7940, Accuracy: 0.66%, Perplexity: 6.0137\n",
            "\n",
            "Evaluation Start\n",
            "\n",
            "Test Accuracy: 30.30%\n",
            "Average Loss: 5.20\n",
            "Average Perplexity: 181.58\n"
          ]
        }
      ],
      "source": [
        "model_attn = BengioModel_SelfAttentionMatrix(vocab_size, embedding_dim, context_size, hidden_dim)\n",
        "print(\"Model with Self Attention:\")\n",
        "print()\n",
        "count_parameters(model_attn)\n",
        "\n",
        "# Cross Entropy\n",
        "criterion = nn.CrossEntropyLoss()\n",
        "\n",
        "# Optimizer\n",
        "optimizer = torch.optim.SGD(model_attn.parameters(), lr)\n",
        "\n",
        "model_attn.to(device)\n",
        "\n",
        "print()\n",
        "print(\"Training Start\")\n",
        "print()\n",
        "train(model_attn, criterion, optimizer)\n",
        "\n",
        "print()\n",
        "print(\"Evaluation Start\")\n",
        "print()\n",
        "eval(model_attn, criterion)"
      ]
    },
    {
      "cell_type": "markdown",
      "metadata": {},
      "source": [
        "### 3. Com camada de atenção e Embeddings Posicionais\n",
        "#### Descrição do Modelo:"
      ]
    },
    {
      "cell_type": "code",
      "execution_count": 29,
      "metadata": {},
      "outputs": [
        {
          "name": "stdout",
          "output_type": "stream",
          "text": [
            "Model with Self Attention and Positional Encodings:\n",
            "\n",
            "The model has a total of 1,776,801 parameters.\n",
            "\n",
            "Model:\n"
          ]
        },
        {
          "data": {
            "text/plain": [
              "BengioModel_SelfAttentionMatrix_PosEncoding(\n",
              "  (embeddings): Embedding(2001, 256)\n",
              "  (posencoding): PositionalEncoding()\n",
              "  (attention): SelfAttention_Matrix(\n",
              "    (WQ): Linear(in_features=256, out_features=256, bias=True)\n",
              "    (WK): Linear(in_features=256, out_features=256, bias=True)\n",
              "    (WV): Linear(in_features=256, out_features=256, bias=True)\n",
              "    (WO): Linear(in_features=256, out_features=2000, bias=True)\n",
              "  )\n",
              "  (linear1): Linear(in_features=2304, out_features=128, bias=True)\n",
              "  (relu): ReLU()\n",
              "  (linear2): Linear(in_features=128, out_features=2001, bias=True)\n",
              "  (logSoftMax): LogSoftmax(dim=1)\n",
              ")"
            ]
          },
          "execution_count": 29,
          "metadata": {},
          "output_type": "execute_result"
        }
      ],
      "source": [
        "model_attn_pos = BengioModel_SelfAttentionMatrix_PosEncoding(vocab_size, embedding_dim, context_size, hidden_dim)\n",
        "print(\"Model with Self Attention and Positional Encodings:\")\n",
        "print()\n",
        "count_parameters(model_attn_pos)\n",
        "print()\n",
        "print(\"Model:\")\n",
        "model_attn_pos"
      ]
    },
    {
      "cell_type": "markdown",
      "metadata": {},
      "source": [
        "#### Perplexidade Inicial:"
      ]
    },
    {
      "cell_type": "code",
      "execution_count": 30,
      "metadata": {},
      "outputs": [
        {
          "name": "stdout",
          "output_type": "stream",
          "text": [
            "\n",
            "Initial Loss: 7.6349\n",
            "Initial Perplexity: 2069.2551\n"
          ]
        }
      ],
      "source": [
        "# Cross Entropy\n",
        "criterion = nn.CrossEntropyLoss()\n",
        "\n",
        "# Optimizer\n",
        "optimizer = torch.optim.SGD(model_attn_pos.parameters(), lr)\n",
        "\n",
        "model_attn_pos.to(device)\n",
        "print()\n",
        "initial_eval(model_attn_pos)"
      ]
    },
    {
      "cell_type": "markdown",
      "metadata": {},
      "source": [
        "#### Treinamento e Avaliação:"
      ]
    },
    {
      "cell_type": "code",
      "execution_count": 31,
      "metadata": {},
      "outputs": [
        {
          "name": "stdout",
          "output_type": "stream",
          "text": [
            "\n",
            "Training Start\n",
            "\n",
            "Epoch [1/10], Time:0.48, Loss: 6.1155, Accuracy: 0.13%, Perplexity: 452.8243\n",
            "Epoch [2/10], Time:0.50, Loss: 5.0883, Accuracy: 0.19%, Perplexity: 162.1075\n",
            "Epoch [3/10], Time:0.48, Loss: 4.5702, Accuracy: 0.24%, Perplexity: 96.5663\n",
            "Epoch [4/10], Time:0.47, Loss: 4.1169, Accuracy: 0.30%, Perplexity: 61.3686\n",
            "Epoch [5/10], Time:0.48, Loss: 3.6846, Accuracy: 0.35%, Perplexity: 39.8309\n",
            "Epoch [6/10], Time:0.46, Loss: 3.2719, Accuracy: 0.42%, Perplexity: 26.3622\n",
            "Epoch [7/10], Time:0.46, Loss: 2.8736, Accuracy: 0.48%, Perplexity: 17.6998\n",
            "Epoch [8/10], Time:0.46, Loss: 2.4923, Accuracy: 0.54%, Perplexity: 12.0885\n",
            "Epoch [9/10], Time:0.47, Loss: 2.1329, Accuracy: 0.60%, Perplexity: 8.4389\n",
            "Epoch [10/10], Time:0.45, Loss: 1.8007, Accuracy: 0.66%, Perplexity: 6.0540\n",
            "\n",
            "Evaluation Start\n",
            "\n",
            "Test Accuracy: 30.12%\n",
            "Average Loss: 5.10\n",
            "Average Perplexity: 164.28\n"
          ]
        }
      ],
      "source": [
        "print()\n",
        "print(\"Training Start\")\n",
        "print()\n",
        "train(model_attn_pos, criterion, optimizer)\n",
        "\n",
        "print()\n",
        "print(\"Evaluation Start\")\n",
        "print()\n",
        "eval(model_attn_pos, criterion)\n",
        "\n"
      ]
    }
  ],
  "metadata": {
    "accelerator": "GPU",
    "colab": {
      "gpuType": "T4",
      "provenance": []
    },
    "kernelspec": {
      "display_name": "ml_pytorch",
      "language": "python",
      "name": "python3"
    },
    "language_info": {
      "codemirror_mode": {
        "name": "ipython",
        "version": 3
      },
      "file_extension": ".py",
      "mimetype": "text/x-python",
      "name": "python",
      "nbconvert_exporter": "python",
      "pygments_lexer": "ipython3",
      "version": "3.12.2"
    }
  },
  "nbformat": 4,
  "nbformat_minor": 0
}
