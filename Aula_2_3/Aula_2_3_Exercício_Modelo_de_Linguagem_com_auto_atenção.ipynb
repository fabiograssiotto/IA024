{
  "cells": [
    {
      "cell_type": "markdown",
      "metadata": {
        "id": "fMI0JT_YuYF3"
      },
      "source": [
        "## Exercício: Modelo de Linguagem com auto-atenção\n",
        "\n",
        "Este exercício é similar ao da aula passada, mas iremos agora treinar uma rede neural *com auto-atenção* para prever a próxima palavra de um texto, data as palavras anteriores como entrada.\n",
        "\n",
        "Na camada de auto-atenção, deve-se implementar (vide slide 34):\n",
        "- Embeddings de posição\n",
        "- Projeções lineares (WQ, WK, WV, WO)\n",
        "- Camada de feed forward (2-layer MLP)\n",
        "\n",
        "Instrucões:\n",
        "- É necessário fazer duas implementações da camada de auto-atenção: uma usando laços (ineficiente, mas fácil de entender) e outra matricial (eficiente mas difícil de entender). Usar slide 36 como referência.\n",
        "\n",
        "- Fazer um assert para garantir que o resultado das duas implementações é exatamente igual.\n",
        "\n",
        "- No treinamento, usar apenas a implementação matricial."
      ]
    },
    {
      "cell_type": "markdown",
      "metadata": {},
      "source": [
        "## Imports"
      ]
    },
    {
      "cell_type": "code",
      "execution_count": 1,
      "metadata": {},
      "outputs": [],
      "source": [
        "import os\n",
        "import sys\n",
        "import random\n",
        "import torch.nn as nn\n",
        "import torch.nn.functional as F\n",
        "import time\n",
        "from sklearn.model_selection import train_test_split\n",
        "from torch import nn"
      ]
    },
    {
      "cell_type": "markdown",
      "metadata": {},
      "source": [
        "## Variáveis Globais e Inicialização"
      ]
    },
    {
      "cell_type": "code",
      "execution_count": 2,
      "metadata": {},
      "outputs": [],
      "source": [
        "# Global variables\n",
        "\n",
        "# Vocabulary\n",
        "vocab_size = 5000\n",
        "context_size = 5\n",
        "pattern = r'\\w+|[,;.:!?\\']'\n",
        "\n",
        "# Training\n",
        "batch_size = 128\n",
        "epochs = 10\n",
        "lr = 0.1\n",
        "\n",
        "# Model\n",
        "embedding_dim = 256\n",
        "hidden_dim = 128"
      ]
    },
    {
      "cell_type": "code",
      "execution_count": 3,
      "metadata": {},
      "outputs": [],
      "source": [
        "# Colab environment\n",
        "IN_COLAB = 'google.colab' in sys.modules\n",
        "\n",
        "if (IN_COLAB):\n",
        "    %pip install colorama\n",
        "\n",
        "    # Google Drive\n",
        "    from google.colab import drive\n",
        "    drive.mount('/content/drive', force_remount=True)\n",
        "\n",
        "    project_folder=\"/content/drive/MyDrive/Classes/IA024/Aula_2_3\"\n",
        "    os.chdir(project_folder)\n",
        "    !ls -la"
      ]
    },
    {
      "cell_type": "markdown",
      "metadata": {
        "id": "bYbkEzdD37sZ"
      },
      "source": [
        "## Faz download e carrega o dataset"
      ]
    },
    {
      "cell_type": "code",
      "execution_count": 4,
      "metadata": {
        "colab": {
          "base_uri": "https://localhost:8080/"
        },
        "id": "9qAnqY_q0beK",
        "outputId": "f810fdb0-138d-4917-b7ef-69ab266acef6"
      },
      "outputs": [],
      "source": [
        "# Check if download is necessary\n",
        "if not os.path.exists(\"67724.txt.utf-8\"):\n",
        "    print(\"Downloading Gutenberg texts\")\n",
        "\n",
        "    !wget https://www.gutenberg.org/ebooks/67724.txt.utf-8\n",
        "    !wget https://www.gutenberg.org/ebooks/67725.txt.utf-8"
      ]
    },
    {
      "cell_type": "code",
      "execution_count": 5,
      "metadata": {
        "colab": {
          "base_uri": "https://localhost:8080/"
        },
        "id": "6_UzC9pV091C",
        "outputId": "1553b04f-24c4-4027-8cab-0907f92f04df"
      },
      "outputs": [
        {
          "data": {
            "text/plain": [
              "4969"
            ]
          },
          "execution_count": 5,
          "metadata": {},
          "output_type": "execute_result"
        }
      ],
      "source": [
        "text = open(\"67724.txt.utf-8\",\"r\").read()\n",
        "text += open(\"67725.txt.utf-8\",\"r\").read()\n",
        "\n",
        "paragraphs = text.split(\"\\n\\n\")\n",
        "\n",
        "len(paragraphs)"
      ]
    },
    {
      "cell_type": "code",
      "execution_count": 6,
      "metadata": {},
      "outputs": [
        {
          "name": "stdout",
          "output_type": "stream",
          "text": [
            "The Project Gutenberg eBook of O Guarany: romance brazileiro, Vol. 1 (of 2)\n",
            "    \n",
            "This ebook is for the use of anyone anywhere in the United States and\n",
            "most other parts of the world at no cost and with almost no restrictions\n",
            "whatsoever. You may copy it, give it away or re-use it under the terms\n",
            "of the Project Gutenberg License included with this ebook or online\n",
            "at www.gutenberg.org. If you are not located in the United States,\n",
            "you will have to check the laws of the country where you are located\n",
            "before using this eBook.\n"
          ]
        }
      ],
      "source": [
        "# Checking the text\n",
        "print(paragraphs[0])"
      ]
    },
    {
      "cell_type": "code",
      "execution_count": 7,
      "metadata": {
        "colab": {
          "base_uri": "https://localhost:8080/"
        },
        "id": "UhUFjtNdDuG0",
        "outputId": "78798c0c-deca-4454-d3fb-7d3ba70f3e91"
      },
      "outputs": [
        {
          "name": "stdout",
          "output_type": "stream",
          "text": [
            "Quem conhece a vegetação de nossa terra desde a parasita mimosa até o cedro gigante; quem no reino animal desce do tigre e do tapir, symbolos da ferocidade e da força, até o lindo beija-flôr e o insecto dourado; quem olha este céo que passa do mais puro anil aos reflexos bronzeados que annuncião as grandes borrascas; quem viu sob a verde pellucia da relva esmaltada de flôres que cobre as nossas varzeas deslisar mil reptis que levão a morte n'um atomo de veneno, comprehende o que Alvaro sentio.\n",
            "\n",
            "--Tu viverás!\n",
            "\n",
            "O indio tinha a sua idéa.\n",
            "\n",
            "Por fim ergueu a cabeça. Seus companheiros esperavão uma palavra sua como o oraculo do seu destino; preparárão-se para ouvi-lo.\n",
            "\n",
            "--O Sr. Alvaro e os outros.\n",
            "\n",
            "Number of paragraphs: 4892\n"
          ]
        },
        {
          "data": {
            "text/plain": [
              "4892"
            ]
          },
          "execution_count": 7,
          "metadata": {},
          "output_type": "execute_result"
        }
      ],
      "source": [
        "cleaned_paragraphs = [paragraph.replace(\"\\n\", \" \") for paragraph in paragraphs if paragraph.strip()]\n",
        "\n",
        "# Print 5 random paragraphs\n",
        "num_paragraphs = len(cleaned_paragraphs)\n",
        "for i in range(0,5):\n",
        "    idx = random.randrange(num_paragraphs)\n",
        "    print(f\"{cleaned_paragraphs[idx]}\\n\")\n",
        "\n",
        "print(\"Number of paragraphs: \" + str(num_paragraphs))\n",
        "\n",
        "len(cleaned_paragraphs)"
      ]
    },
    {
      "cell_type": "markdown",
      "metadata": {
        "id": "bFVN2ihb33Rf"
      },
      "source": [
        "## Análise do dataset"
      ]
    },
    {
      "cell_type": "code",
      "execution_count": 8,
      "metadata": {
        "colab": {
          "base_uri": "https://localhost:8080/"
        },
        "id": "qSRHqe3H4ZFw",
        "outputId": "4a985c7a-ce1d-4b72-d253-c9fbbc5f9440"
      },
      "outputs": [
        {
          "data": {
            "text/plain": [
              "12610"
            ]
          },
          "execution_count": 8,
          "metadata": {},
          "output_type": "execute_result"
        }
      ],
      "source": [
        "# Conta as palavras no dataset\n",
        "from collections import Counter\n",
        "import re\n",
        "\n",
        "def count_words(texts):\n",
        "    word_counts = Counter()\n",
        "    for text in texts:\n",
        "        word_counts.update(re.findall(pattern, text.lower()))\n",
        "    return word_counts\n",
        "\n",
        "word_counts = count_words(cleaned_paragraphs)\n",
        "\n",
        "len(word_counts)"
      ]
    },
    {
      "cell_type": "markdown",
      "metadata": {
        "id": "EyGVDL9KzJ_I"
      },
      "source": [
        "## Criando um vocabulário"
      ]
    },
    {
      "cell_type": "code",
      "execution_count": 9,
      "metadata": {
        "id": "FiP7OCo9zJ_I"
      },
      "outputs": [],
      "source": [
        "most_frequent_words = [word for word, count in word_counts.most_common(vocab_size)]\n",
        "vocab = {word: i for i, word in enumerate(most_frequent_words, 1)}"
      ]
    },
    {
      "cell_type": "code",
      "execution_count": 10,
      "metadata": {},
      "outputs": [
        {
          "name": "stdout",
          "output_type": "stream",
          "text": [
            "Most Frequent Words: ['.', ',', 'a', 'que', 'o', 'de', 'e', 'se', ';', 'um']\n",
            "Vocabulary Size: 5000\n"
          ]
        }
      ],
      "source": [
        "print(f\"Most Frequent Words: {most_frequent_words[:10]}\")\n",
        "print(f\"Vocabulary Size: {len(vocab)}\")"
      ]
    },
    {
      "cell_type": "code",
      "execution_count": 11,
      "metadata": {
        "colab": {
          "base_uri": "https://localhost:8080/"
        },
        "id": "RhbhAsZbzJ_J",
        "outputId": "6a53c9e0-308d-4082-e225-cfa376e8f39a"
      },
      "outputs": [
        {
          "name": "stdout",
          "output_type": "stream",
          "text": [
            " Publicando este livro em 1857, se disse ser aquella primeira edição uma prova typographica, que algum dia talvez o autor se dispuzesse a rever.\n",
            "[0, 146, 4383, 23, 0, 2, 8, 50, 117, 276, 266, 2669, 13, 1071, 0, 2, 4, 193, 137, 287, 5, 2264, 8, 0, 3, 2672, 1]\n"
          ]
        }
      ],
      "source": [
        "def encode_sentence(sentence, vocab):\n",
        "    return [vocab.get(word, 0) for word in re.findall(pattern, sentence.lower())]\n",
        "\n",
        "print(cleaned_paragraphs[20])\n",
        "print(encode_sentence(cleaned_paragraphs[20], vocab))"
      ]
    },
    {
      "cell_type": "markdown",
      "metadata": {
        "id": "wia_ygbvzJ_J"
      },
      "source": [
        "## Classe do dataset"
      ]
    },
    {
      "cell_type": "code",
      "execution_count": 12,
      "metadata": {
        "id": "Iy-elI1magRR"
      },
      "outputs": [],
      "source": [
        "# Dataset class\n",
        "import torch\n",
        "from torch.utils.data import Dataset, DataLoader\n",
        "\n",
        "class CustomDataset(Dataset):\n",
        "  def __init__(self, paragraphs, vocab, context):\n",
        "    self.paragraphs = paragraphs\n",
        "    self.vocab = vocab\n",
        "    self.context = context\n",
        "    self.tokens, self.targets = self.setup()\n",
        "\n",
        "  def __len__(self):\n",
        "    return len(self.tokens)\n",
        "\n",
        "  def __getitem__(self, idx):\n",
        "    return torch.tensor(self.tokens[idx]), torch.tensor(self.targets[idx])\n",
        "  \n",
        "  def setup(self):\n",
        "    tokens = []\n",
        "    targets = []\n",
        "    for paragraph in self.paragraphs:\n",
        "      encoded = encode_sentence(paragraph, self.vocab)\n",
        "      \n",
        "      # If paragraph is smaller than the context, skip it.\n",
        "      if len(encoded) < self.context + 1:\n",
        "          continue\n",
        "\n",
        "      for i in range(len(encoded) - self.context):\n",
        "        tks = encoded[i:i+self.context]\n",
        "        tgt = encoded[i+self.context]\n",
        "        # Only add if there are no unknown tokens in both context and target.\n",
        "        bad_token = 0\n",
        "        if not (bad_token in tks or tgt == bad_token):\n",
        "          tokens.append(tks)\n",
        "          targets.append(tgt)\n",
        "    return tokens, targets\n"
      ]
    },
    {
      "cell_type": "code",
      "execution_count": 13,
      "metadata": {
        "colab": {
          "base_uri": "https://localhost:8080/"
        },
        "id": "aD1CVci2zJ_J",
        "outputId": "5bf0839e-f30e-4ff2-ed6f-4f3fda782b7c"
      },
      "outputs": [
        {
          "name": "stdout",
          "output_type": "stream",
          "text": [
            "Training samples: 3913\n",
            "Validation samples: 979\n",
            "\n",
            "Training dataset samples: 59646\n",
            "Validation dataset samples: 16215\n"
          ]
        }
      ],
      "source": [
        "# Train/Validation split\n",
        "train_data, val_data = train_test_split(cleaned_paragraphs, test_size=0.2, random_state=18)\n",
        "\n",
        "train_dataset = CustomDataset(train_data, vocab, context_size)\n",
        "val_dataset = CustomDataset(val_data, vocab, context_size)\n",
        "\n",
        "# Counting all Samples\n",
        "print(f\"Training samples: {len(train_data)}\")\n",
        "print(f\"Validation samples: {len(val_data)}\")\n",
        "print()\n",
        "print(f\"Training dataset samples: {len(train_dataset)}\")\n",
        "print(f\"Validation dataset samples: {len(val_dataset)}\")"
      ]
    },
    {
      "cell_type": "code",
      "execution_count": 14,
      "metadata": {
        "id": "gC0C5qn2zJ_J"
      },
      "outputs": [
        {
          "name": "stdout",
          "output_type": "stream",
          "text": [
            "[tensor([[  47,    6,   73,    2,   67],\n",
            "        [  12,    5, 3157,    9,  166],\n",
            "        [ 365,  921,   16,  638, 3704],\n",
            "        [  14,  665, 2104,    2,    7],\n",
            "        [  11,  141,    9,   40,   12],\n",
            "        [   4,   32,    2,    7,   16],\n",
            "        [4815,  152,    6,    4,   15],\n",
            "        [ 124,   23,   48,   10,  320],\n",
            "        [ 832,   36, 1398,    1, 4413],\n",
            "        [   9,  687, 1394,    8, 4402],\n",
            "        [  16,    3,  658,   24,  207],\n",
            "        [  62,   13,  372,  627, 4597],\n",
            "        [2395,   11,  337,    4,   52],\n",
            "        [4337,    2, 1627,    7,  135],\n",
            "        [1564,   21,    4,  203,   27],\n",
            "        [  11,    4,   65, 1576,    9],\n",
            "        [  98, 4515,    2,   11,    4],\n",
            "        [  11,  542,    2,  457,    8],\n",
            "        [  78,  605,  769,  142,   63],\n",
            "        [   1,    1,    1,    1,    1],\n",
            "        [   2,  948,  161,    2,  335],\n",
            "        [  47,    6,   73,    2,   17],\n",
            "        [  72, 2062,    9,   15,   85],\n",
            "        [   6, 2154,    2,  110,    5],\n",
            "        [  52, 3936,    2,  180,    1],\n",
            "        [ 255,  515,   10,  439,  376],\n",
            "        [  80,  370,   34, 3610,    3],\n",
            "        [  17,  347,    9, 4833,   36],\n",
            "        [ 251,    5,   19,  141,   93],\n",
            "        [   9, 2468,  145,    2, 2885],\n",
            "        [  74,   66,  402,  282,  438],\n",
            "        [  28,   10, 1072,    2, 1084],\n",
            "        [   7,    8,   88,   12, 2177],\n",
            "        [  78,    2,    6,  124,   23],\n",
            "        [  69, 1705,  536,    3, 3729],\n",
            "        [3075,   26,   10,   43,    2],\n",
            "        [  83,   18, 3737,    5,   19],\n",
            "        [  21,    2,   13,  468,  160],\n",
            "        [   2,  548,    8,   24, 1090],\n",
            "        [   9,  445,  274,    2,    7],\n",
            "        [   5,  735,    2,  856,  390],\n",
            "        [ 279,    2, 1655,   23,   10],\n",
            "        [  79,  243,   23,    4,   69],\n",
            "        [   5,  207,    2,   18, 1509],\n",
            "        [1825,    3,   30,    1,   47],\n",
            "        [   2,   24,  178,    8,  863],\n",
            "        [  53,   41,   74,   66,  402],\n",
            "        [  36,   17,  531,    9,    5],\n",
            "        [   4,  956, 2968,    6, 1190],\n",
            "        [   8,  365,  921,   16,  638],\n",
            "        [ 504,  283,  197,    5, 4837],\n",
            "        [  33,    5,   19,  573,    6],\n",
            "        [  90,  140,    1,    7,    1],\n",
            "        [ 968,    2,    7, 1639,   59],\n",
            "        [   6,  255,  354,    8,   10],\n",
            "        [ 443,    5,    4,   96,  133],\n",
            "        [   8,   32,  306,    1,  247],\n",
            "        [1788, 1124,  630,    4,    8],\n",
            "        [  32, 2034,    9,  123,    8],\n",
            "        [  38,    5,  790, 4907, 1084],\n",
            "        [   7,  431,  482,  433,   63],\n",
            "        [ 131,   23,  168, 2825,    9],\n",
            "        [4803,    2,  435,  442,    3],\n",
            "        [ 144,  310, 3468,    6,  957],\n",
            "        [ 294,    8, 1694,   27,  690],\n",
            "        [  12,  183, 1229,    8, 2310],\n",
            "        [  52,  300, 2749,    9,   31],\n",
            "        [ 775,    2,   12,  453,  682],\n",
            "        [ 459,  342,    6,    4,   15],\n",
            "        [   6, 3797,    2,    8,  674],\n",
            "        [2525,   10,   91,   18,   24],\n",
            "        [  89,  677,  736,   31,  755],\n",
            "        [  26,  146,   79,   71,    6],\n",
            "        [2105,    9,   15, 3976, 2007],\n",
            "        [   8, 1869,    6,  124,   23],\n",
            "        [   5,   80,    2,    4,    8],\n",
            "        [ 225,   89,   12,   15, 4106],\n",
            "        [  29,   15,  147,    9,    7],\n",
            "        [ 357,   14,   68,    7,    5],\n",
            "        [1883,    5,  336,    1,  160],\n",
            "        [   6,   77,   96,  133,   29],\n",
            "        [   2,   37,   10,  660,   23],\n",
            "        [  87,    6,  870, 1334,    7],\n",
            "        [  28,    8,   10, 4883,    6],\n",
            "        [1334,   11,   67,    2,  294],\n",
            "        [ 340,   53,  151,  411,    1],\n",
            "        [ 518,    7, 4273,    9,  160],\n",
            "        [  18, 2938,    7, 3737,    3],\n",
            "        [   3,  494,    6,   95,  839],\n",
            "        [ 679,    4,   13,  157,   12],\n",
            "        [   2, 1577,  423,   23, 1668],\n",
            "        [   4,   12,    8,  944,    9],\n",
            "        [ 276,  373, 3063,   28,    3],\n",
            "        [  16,    3, 2306, 2544, 1186],\n",
            "        [  91,   11, 1005,    9,    3],\n",
            "        [ 106, 4783,    7,  164, 1274],\n",
            "        [  31, 4036,    2,  525,    8],\n",
            "        [   3,  211,    9,   45,   55],\n",
            "        [ 133,    3,  734,   36,  204],\n",
            "        [ 146,    4,  330,  119,  447],\n",
            "        [ 102,  119,   25,   26,   13],\n",
            "        [   2,   28,    3,   46,  831],\n",
            "        [ 656,    4,  561, 2176,    1],\n",
            "        [ 843,   24,   91,   42,  152],\n",
            "        [   9,   10,  376, 4037,  681],\n",
            "        [ 105,  372, 2511,    2,    4],\n",
            "        [1823,    2,  522,    8, 3731],\n",
            "        [   5,  137,    2,  312,    3],\n",
            "        [ 619,    9,   33,   13,  265],\n",
            "        [ 648,  357,   11,  390,   11],\n",
            "        [ 829,    4,  414,  532,   40],\n",
            "        [4263,    2,    3,  766, 2927],\n",
            "        [   5,  336,    1,  160,  189],\n",
            "        [  13, 2692,    6, 1398, 2693],\n",
            "        [   9,   39, 1449,    3,  109],\n",
            "        [ 474,  648,   17,  175,    1],\n",
            "        [  17,   57,    2,    5,   43],\n",
            "        [  39,   81,   15,   45, 2369],\n",
            "        [1521,    1, 4164,    1,    1],\n",
            "        [  22, 1371,    4,  254,    9],\n",
            "        [ 811,    8,   18,   17,  175],\n",
            "        [  30,    1,   47,    6,   73],\n",
            "        [1236,  800,   56,    5,  666],\n",
            "        [  16,    3,  889, 1880,    3],\n",
            "        [ 986,    3,  146,  455,    2],\n",
            "        [2300,   16,   10, 1751, 1615],\n",
            "        [   5,  436, 1794,    1, 1805],\n",
            "        [4028,    4,   70,   65,   24]]), tensor([4442,  551,   31,  229,    8,  273,   75,    4,    3,   27,   14,    5,\n",
            "        2323,   13,  216, 1902,    5,    3, 2060,    1,  355,  214,  152,  441,\n",
            "          49,    6,   17,  531, 4096,  145,  228,    3,    3,   48,    4,   65,\n",
            "         496,  189,   11,  562,   78,   42,   35,  125,    6,   65, 1945,    4,\n",
            "         352, 3704,    9,  119, 2223,  622,  376,  165,    4, 2931,  312,    3,\n",
            "         578,  398,  300,    8,  697,    1,  188,  564,  217,    7,  670,  231,\n",
            "        4450,   45,   48,   32,   25,   13,  119,  189,  543,    4,    6,  742,\n",
            "           8, 3234,  189,  163, 1403,   33,  611,    4, 1501, 3348,  460,  752,\n",
            "           6,    8,    2,  551,  199,  627,   62,    1,   11,   12,   14,  188,\n",
            "           2,   80,  522,    2,    2,    3,   16,    1, 4958,  169,    1,   17,\n",
            "           2,   33,   20, 3006,    5,    3,  206,   19])]\n"
          ]
        }
      ],
      "source": [
        "train_loader = DataLoader(train_dataset, batch_size=batch_size, shuffle=True)\n",
        "val_loader = DataLoader(val_dataset, batch_size=batch_size, shuffle=True)\n",
        "\n",
        "sample = next(iter(train_loader))\n",
        "print(sample)"
      ]
    },
    {
      "cell_type": "markdown",
      "metadata": {
        "id": "-5_-Yud0zJ_K"
      },
      "source": [
        "## Model"
      ]
    },
    {
      "cell_type": "markdown",
      "metadata": {},
      "source": [
        "##### Implementação das camadas de self-attention"
      ]
    },
    {
      "cell_type": "code",
      "execution_count": 15,
      "metadata": {},
      "outputs": [
        {
          "name": "stdout",
          "output_type": "stream",
          "text": [
            "Initial Embedding dimensions: 128, 5, 256\n"
          ]
        }
      ],
      "source": [
        "# Loop implementation\n",
        "sample = next(iter(train_loader))\n",
        "input = sample[0]\n",
        "target = sample[1]\n",
        "\n",
        "embeddings = nn.Embedding(vocab_size+1, embedding_dim)\n",
        "embeds = embeddings(input)\n",
        "\n",
        "batch_size, sequence_length, embedding_dimension = embeds.size()\n",
        "print(f'Initial Embedding dimensions: {batch_size}, {sequence_length}, {embedding_dimension}')\n",
        "\n",
        "# New embeddings\n",
        "E = []\n",
        "for q in range(sequence_length):\n",
        "    scores = []\n",
        "    C_q = embeds[:,q,:]\n",
        "    for k in range(sequence_length):        \n",
        "        C_k = embeds[:,k,:]\n",
        "        \n",
        "        # Scalar product between the embeddings\n",
        "        score = torch.matmul(C_q, C_k.transpose(0,1))            \n",
        "        scores.append(score)\n",
        "    \n",
        "    # Stack the matrixes resulting from the scalar products\n",
        "    scores = torch.stack(scores, dim=1)\n",
        "    probs = F.softmax(scores, dim=1)\n",
        "\n",
        "    attn_embedding = torch.zeros_like(C_q)\n",
        "\n",
        "    #for v, p in zip(range(sequence_length), probs):\n",
        "    #    C_v = embeds[:,v,:]\n",
        "    #    print(C_v.size())\n",
        "    #    print(p.size())\n",
        "\n",
        "    #for v, p in zip(embeds, probs):\n",
        "    #    #attn_embedding += v * p2"
      ]
    },
    {
      "cell_type": "code",
      "execution_count": 16,
      "metadata": {},
      "outputs": [],
      "source": [
        "class SelfAttention_Matrix(nn.Module):\n",
        "  def __init__(self, embed_dim):\n",
        "    super().__init__()\n",
        "    self.embed_dim = embed_dim\n",
        "\n",
        "  def forward(self, inputs):\n",
        "    scores = torch.matmul(inputs, inputs.transpose(1, 2))\n",
        "    probs = F.softmax(scores, dim=-1)\n",
        "    new_embedding = torch.matmul(probs, inputs)\n",
        "    return new_embedding"
      ]
    },
    {
      "cell_type": "code",
      "execution_count": 17,
      "metadata": {},
      "outputs": [],
      "source": [
        "class BengioModel_SelfAttentionMatrix(torch.nn.Module):\n",
        "    def __init__(self, vocab_size, embedding_dim, context_size, h):\n",
        "        super(BengioModel_SelfAttentionMatrix, self).__init__()\n",
        "        self.embeddings = nn.Embedding(vocab_size+1, embedding_dim)\n",
        "        self.attention = SelfAttention_Matrix(embedding_dim)        \n",
        "        self.linear1 = nn.Linear(context_size * embedding_dim, h)\n",
        "        self.relu = torch.nn.ReLU()\n",
        "        self.linear2 = nn.Linear(h, vocab_size+1)\n",
        "        # Softmax to scale outputs\n",
        "        self.logSoftMax = torch.nn.LogSoftmax(dim=1)\n",
        "\n",
        "    def forward(self, inputs):\n",
        "        embeds = self.embeddings(inputs)\n",
        "        x = torch.stack(torch.unbind(embeds, dim=1), dim=1)\n",
        "        # Camada de autoatenção\n",
        "        attention  = self.attention(x)\n",
        "        # Flatten embeddings\n",
        "        embeds = embeds.view(attention.size(0), -1)\n",
        "        # Linear layer\n",
        "        out = self.linear1(embeds)\n",
        "        out = self.relu(out)\n",
        "        # Second layer\n",
        "        out = self.linear2(out)\n",
        "        # Softmax output\n",
        "        out = self.logSoftMax(out)\n",
        "        return out"
      ]
    },
    {
      "cell_type": "code",
      "execution_count": 18,
      "metadata": {
        "id": "I2qKG9YczJ_K"
      },
      "outputs": [],
      "source": [
        "class BengioModel(torch.nn.Module):\n",
        "    def __init__(self, vocab_size, embedding_dim, context_size, h):\n",
        "        super(BengioModel, self).__init__()\n",
        "        self.embeddings = nn.Embedding(vocab_size+1, embedding_dim)\n",
        "        self.linear1 = nn.Linear(context_size * embedding_dim, h)\n",
        "        self.relu = torch.nn.ReLU()\n",
        "        self.linear2 = nn.Linear(h, vocab_size+1)\n",
        "        # Softmax to scale outputs\n",
        "        self.logSoftMax = torch.nn.LogSoftmax(dim=1)\n",
        "\n",
        "    def forward(self, inputs):\n",
        "        embeds = self.embeddings(inputs)\n",
        "        # Flatten embeddings\n",
        "        embeds = embeds.view(embeds.size(0), -1)\n",
        "        # Linear layer\n",
        "        out = self.linear1(embeds)\n",
        "        out = self.relu(out)\n",
        "        # Second layer\n",
        "        out = self.linear2(out)\n",
        "        # Softmax output\n",
        "        out = self.logSoftMax(out)\n",
        "        return out"
      ]
    },
    {
      "cell_type": "markdown",
      "metadata": {},
      "source": [
        "## Funções de Treinamento e Avaliação do Modelo"
      ]
    },
    {
      "cell_type": "code",
      "execution_count": 19,
      "metadata": {},
      "outputs": [],
      "source": [
        "def count_parameters(model):\n",
        "    total_params = sum(p.numel() for p in model.parameters() if p.requires_grad)\n",
        "    print(f'The model has a total of {total_params:,} parameters.')"
      ]
    },
    {
      "cell_type": "code",
      "execution_count": 20,
      "metadata": {},
      "outputs": [],
      "source": [
        "def initial_eval(model):\n",
        "    # Initial Perplexity and Loss\n",
        "    # Before training\n",
        "    model.eval()\n",
        "\n",
        "    loss = 0\n",
        "    perp = 0\n",
        "\n",
        "    with torch.no_grad():\n",
        "        for inputs, targets in train_loader:\n",
        "            inputs = inputs.to(device)\n",
        "            targets = targets.to(device)\n",
        "            outputs = model(inputs)\n",
        "            loss += criterion(outputs, targets).item()\n",
        "\n",
        "    loss /= len(train_loader)\n",
        "    perp = torch.exp(torch.tensor(loss))\n",
        "\n",
        "    print(f'Initial Loss: {loss:.4f}')\n",
        "    print(f'Initial Perplexity: {perp:.4f}')"
      ]
    },
    {
      "cell_type": "code",
      "execution_count": 21,
      "metadata": {},
      "outputs": [],
      "source": [
        "def train(model, criterion, optimizer):\n",
        "      # Training Loop\n",
        "      model.train()\n",
        "      for epoch in range(epochs):\n",
        "\n",
        "            epoch_start = time.time()\n",
        "            # Metrics\n",
        "            epoch_loss = 0\n",
        "            epoch_correct = 0\n",
        "            epoch_samples = 0\n",
        "\n",
        "            for inputs, targets in train_loader:\n",
        "                  inputs = inputs.to(device)  # Move input data to the device\n",
        "                  targets = targets.to(device)\n",
        "\n",
        "                  # Forward pass\n",
        "                  outputs = model(inputs)\n",
        "                  loss = criterion(outputs, targets)\n",
        "\n",
        "                  # Backward pass and optimization\n",
        "                  optimizer.zero_grad()\n",
        "                  loss.backward()\n",
        "                  optimizer.step()\n",
        "\n",
        "                  # Loss\n",
        "                  epoch_loss += loss.item()\n",
        "\n",
        "                  # Predicted\n",
        "                  _, predicted = torch.max(outputs, 1)\n",
        "                  epoch_correct += (predicted == targets).sum().item()\n",
        "                  epoch_samples += targets.size(0)\n",
        "\n",
        "            # Calculate average loss and accuracy for epoch\n",
        "            avg_loss = epoch_loss / len(train_loader)\n",
        "            acc = epoch_correct / epoch_samples\n",
        "\n",
        "            # Perplexity\n",
        "            perp = torch.exp(torch.tensor(avg_loss))\n",
        "\n",
        "            epoch_end = time.time()\n",
        "            epoch_time = epoch_end - epoch_start\n",
        "            # Print epoch statistics\n",
        "            print(f'Epoch [{epoch+1}/{epochs}], Time:{epoch_time:.2f}, Loss: {avg_loss:.4f}, Accuracy: {acc:.2f}%, Perplexity: {perp:.4f}')\n"
      ]
    },
    {
      "cell_type": "code",
      "execution_count": 22,
      "metadata": {
        "id": "nXXO78GSDqPg"
      },
      "outputs": [],
      "source": [
        "def eval(model, criterion):\n",
        "    model.eval()\n",
        "\n",
        "    loss_sum = 0\n",
        "    total_sum = 0\n",
        "    correct_sum = 0\n",
        "    eval_round = 0\n",
        "\n",
        "    loss = 0\n",
        "    perp = 0\n",
        "\n",
        "    with torch.no_grad():\n",
        "        for inputs, targets in val_loader:\n",
        "            inputs = inputs.to(device)\n",
        "            targets = targets.to(device)\n",
        "\n",
        "            outputs = model(inputs)\n",
        "            loss = criterion(outputs, targets)      \n",
        "            loss_sum += loss\n",
        "\n",
        "            # Get the predicted labels\n",
        "            _, predicted = torch.max(outputs, 1)\n",
        "\n",
        "            total_sum += targets.size(0)\n",
        "            correct_sum += (predicted == targets).sum().item()\n",
        "            eval_round += 1\n",
        "\n",
        "    # Calculate accuracy\n",
        "    acc = 100 * correct_sum / total_sum\n",
        "\n",
        "    # Calculate average perplexity\n",
        "    average_loss = loss_sum / len(val_loader)\n",
        "    average_perplexity = torch.exp(average_loss)\n",
        "\n",
        "    print(f'Test Accuracy: {acc:.2f}%')\n",
        "    print(f'Average Loss: {average_loss:.2f}')\n",
        "    print(f'Average Perplexity: {average_perplexity:.2f}')"
      ]
    },
    {
      "cell_type": "code",
      "execution_count": 23,
      "metadata": {},
      "outputs": [
        {
          "data": {
            "text/plain": [
              "device(type='cpu')"
            ]
          },
          "execution_count": 23,
          "metadata": {},
          "output_type": "execute_result"
        }
      ],
      "source": [
        "device = torch.device('cuda' if torch.cuda.is_available() else 'cpu')\n",
        "device"
      ]
    },
    {
      "cell_type": "markdown",
      "metadata": {},
      "source": [
        "## 1. Sem camada de atenção"
      ]
    },
    {
      "cell_type": "code",
      "execution_count": 24,
      "metadata": {},
      "outputs": [
        {
          "name": "stdout",
          "output_type": "stream",
          "text": [
            "Model without Self Attention:\n",
            "\n",
            "The model has a total of 2,089,353 parameters.\n",
            "\n",
            "Training Start\n",
            "\n",
            "Epoch [1/10], Time:4.36, Loss: 6.4602, Accuracy: 0.11%, Perplexity: 639.2007\n",
            "Epoch [2/10], Time:4.39, Loss: 5.5800, Accuracy: 0.15%, Perplexity: 265.0808\n",
            "Epoch [3/10], Time:4.27, Loss: 5.1956, Accuracy: 0.18%, Perplexity: 180.4675\n",
            "Epoch [4/10], Time:4.59, Loss: 4.9048, Accuracy: 0.20%, Perplexity: 134.9389\n",
            "Epoch [5/10], Time:4.40, Loss: 4.6614, Accuracy: 0.22%, Perplexity: 105.7854\n",
            "Epoch [6/10], Time:4.28, Loss: 4.4434, Accuracy: 0.24%, Perplexity: 85.0617\n",
            "Epoch [7/10], Time:4.57, Loss: 4.2396, Accuracy: 0.26%, Perplexity: 69.3808\n",
            "Epoch [8/10], Time:5.21, Loss: 4.0484, Accuracy: 0.28%, Perplexity: 57.3036\n",
            "Epoch [9/10], Time:4.73, Loss: 3.8654, Accuracy: 0.30%, Perplexity: 47.7223\n",
            "Epoch [10/10], Time:4.37, Loss: 3.6916, Accuracy: 0.31%, Perplexity: 40.1082\n",
            "\n",
            "Evaluation Start\n",
            "\n",
            "Test Accuracy: 19.25%\n",
            "Average Loss: 5.30\n",
            "Average Perplexity: 200.34\n"
          ]
        }
      ],
      "source": [
        "model = BengioModel(vocab_size, embedding_dim, context_size, hidden_dim)\n",
        "print(\"Model without Self Attention:\")\n",
        "print()\n",
        "count_parameters(model)\n",
        "\n",
        "# Cross Entropy\n",
        "criterion = nn.CrossEntropyLoss()\n",
        "\n",
        "# Optimizer\n",
        "optimizer = torch.optim.SGD(model.parameters(), lr)\n",
        "\n",
        "model.to(device)\n",
        "\n",
        "print()\n",
        "print(\"Training Start\")\n",
        "print()\n",
        "train(model, criterion, optimizer)\n",
        "\n",
        "print()\n",
        "print(\"Evaluation Start\")\n",
        "print()\n",
        "eval(model, criterion)"
      ]
    },
    {
      "cell_type": "markdown",
      "metadata": {},
      "source": [
        "## 2. Com camada de atenção"
      ]
    },
    {
      "cell_type": "code",
      "execution_count": 25,
      "metadata": {},
      "outputs": [
        {
          "name": "stdout",
          "output_type": "stream",
          "text": [
            "Model with Self Attention:\n",
            "\n",
            "The model has a total of 2,089,353 parameters.\n",
            "\n",
            "Training Start\n",
            "\n",
            "Epoch [1/10], Time:4.86, Loss: 6.4468, Accuracy: 0.11%, Perplexity: 630.6918\n",
            "Epoch [2/10], Time:5.02, Loss: 5.5854, Accuracy: 0.15%, Perplexity: 266.4969\n",
            "Epoch [3/10], Time:4.78, Loss: 5.2055, Accuracy: 0.18%, Perplexity: 182.2745\n",
            "Epoch [4/10], Time:4.87, Loss: 4.9130, Accuracy: 0.20%, Perplexity: 136.0409\n",
            "Epoch [5/10], Time:4.95, Loss: 4.6676, Accuracy: 0.22%, Perplexity: 106.4436\n",
            "Epoch [6/10], Time:4.80, Loss: 4.4491, Accuracy: 0.24%, Perplexity: 85.5504\n",
            "Epoch [7/10], Time:4.72, Loss: 4.2463, Accuracy: 0.26%, Perplexity: 69.8433\n",
            "Epoch [8/10], Time:4.82, Loss: 4.0555, Accuracy: 0.28%, Perplexity: 57.7146\n",
            "Epoch [9/10], Time:4.79, Loss: 3.8739, Accuracy: 0.30%, Perplexity: 48.1315\n",
            "Epoch [10/10], Time:4.65, Loss: 3.6971, Accuracy: 0.32%, Perplexity: 40.3294\n",
            "\n",
            "Evaluation Start\n",
            "\n",
            "Test Accuracy: 19.66%\n",
            "Average Loss: 5.30\n",
            "Average Perplexity: 200.76\n"
          ]
        }
      ],
      "source": [
        "model_attn = BengioModel_SelfAttentionMatrix(vocab_size, embedding_dim, context_size, hidden_dim)\n",
        "print(\"Model with Self Attention:\")\n",
        "print()\n",
        "count_parameters(model_attn)\n",
        "\n",
        "# Cross Entropy\n",
        "criterion = nn.CrossEntropyLoss()\n",
        "\n",
        "# Optimizer\n",
        "optimizer = torch.optim.SGD(model_attn.parameters(), lr)\n",
        "\n",
        "model_attn.to(device)\n",
        "\n",
        "print()\n",
        "print(\"Training Start\")\n",
        "print()\n",
        "train(model_attn, criterion, optimizer)\n",
        "\n",
        "print()\n",
        "print(\"Evaluation Start\")\n",
        "print()\n",
        "eval(model_attn, criterion)"
      ]
    }
  ],
  "metadata": {
    "accelerator": "GPU",
    "colab": {
      "gpuType": "T4",
      "provenance": []
    },
    "kernelspec": {
      "display_name": "ml_pytorch",
      "language": "python",
      "name": "python3"
    },
    "language_info": {
      "codemirror_mode": {
        "name": "ipython",
        "version": 3
      },
      "file_extension": ".py",
      "mimetype": "text/x-python",
      "name": "python",
      "nbconvert_exporter": "python",
      "pygments_lexer": "ipython3",
      "version": "3.12.1"
    }
  },
  "nbformat": 4,
  "nbformat_minor": 0
}
