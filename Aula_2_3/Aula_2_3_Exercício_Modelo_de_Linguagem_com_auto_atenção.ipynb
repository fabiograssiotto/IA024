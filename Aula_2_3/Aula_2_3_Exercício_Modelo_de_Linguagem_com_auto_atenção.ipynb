{
  "cells": [
    {
      "cell_type": "markdown",
      "metadata": {
        "id": "fMI0JT_YuYF3"
      },
      "source": [
        "## Exercício: Modelo de Linguagem com auto-atenção\n",
        "\n",
        "Este exercício é similar ao da aula passada, mas iremos agora treinar uma rede neural *com auto-atenção* para prever a próxima palavra de um texto, data as palavras anteriores como entrada.\n",
        "\n",
        "Na camada de auto-atenção, deve-se implementar (vide slide 34):\n",
        "- Embeddings de posição\n",
        "- Projeções lineares (WQ, WK, WV, WO)\n",
        "- Camada de feed forward (2-layer MLP)\n",
        "\n",
        "Instrucões:\n",
        "- É necessário fazer duas implementações da camada de auto-atenção: uma usando laços (ineficiente, mas fácil de entender) e outra matricial (eficiente mas difícil de entender). Usar slide 36 como referência.\n",
        "\n",
        "- Fazer um assert para garantir que o resultado das duas implementações é exatamente igual.\n",
        "\n",
        "- No treinamento, usar apenas a implementação matricial."
      ]
    },
    {
      "cell_type": "code",
      "execution_count": 1,
      "metadata": {},
      "outputs": [],
      "source": [
        "import os\n",
        "import sys\n",
        "import random\n",
        "import torch.nn as nn\n",
        "import torch.nn.functional as F\n",
        "from sklearn.model_selection import train_test_split"
      ]
    },
    {
      "cell_type": "code",
      "execution_count": 2,
      "metadata": {},
      "outputs": [],
      "source": [
        "# Global variables\n",
        "\n",
        "# Vocabulary\n",
        "vocab_size = 3000\n",
        "context_size = 9\n",
        "pattern = r'\\w+|[,;.:!?\\']'\n",
        "\n",
        "# Training\n",
        "batch_size = 32\n",
        "epochs = 10\n",
        "lr = 0.01\n",
        "\n",
        "# Model\n",
        "embedding_dim = 64\n",
        "hidden_dim = 128"
      ]
    },
    {
      "cell_type": "markdown",
      "metadata": {
        "id": "bYbkEzdD37sZ"
      },
      "source": [
        "## Faz download e carrega o dataset"
      ]
    },
    {
      "cell_type": "code",
      "execution_count": 3,
      "metadata": {
        "colab": {
          "base_uri": "https://localhost:8080/"
        },
        "id": "9qAnqY_q0beK",
        "outputId": "f810fdb0-138d-4917-b7ef-69ab266acef6"
      },
      "outputs": [],
      "source": [
        "# Check if download is necessary\n",
        "if not os.path.exists(\"67724.txt.utf-8\"):\n",
        "    print(\"Downloading Gutenberg texts\")\n",
        "\n",
        "    !wget https://www.gutenberg.org/ebooks/67724.txt.utf-8\n",
        "    !wget https://www.gutenberg.org/ebooks/67725.txt.utf-8"
      ]
    },
    {
      "cell_type": "code",
      "execution_count": 4,
      "metadata": {
        "colab": {
          "base_uri": "https://localhost:8080/"
        },
        "id": "6_UzC9pV091C",
        "outputId": "1553b04f-24c4-4027-8cab-0907f92f04df"
      },
      "outputs": [
        {
          "data": {
            "text/plain": [
              "4969"
            ]
          },
          "execution_count": 4,
          "metadata": {},
          "output_type": "execute_result"
        }
      ],
      "source": [
        "text = open(\"67724.txt.utf-8\",\"r\").read()\n",
        "text += open(\"67725.txt.utf-8\",\"r\").read()\n",
        "\n",
        "paragraphs = text.split(\"\\n\\n\")\n",
        "\n",
        "len(paragraphs)"
      ]
    },
    {
      "cell_type": "code",
      "execution_count": 5,
      "metadata": {},
      "outputs": [
        {
          "name": "stdout",
          "output_type": "stream",
          "text": [
            "The Project Gutenberg eBook of O Guarany: romance brazileiro, Vol. 1 (of 2)\n",
            "    \n",
            "This ebook is for the use of anyone anywhere in the United States and\n",
            "most other parts of the world at no cost and with almost no restrictions\n",
            "whatsoever. You may copy it, give it away or re-use it under the terms\n",
            "of the Project Gutenberg License included with this ebook or online\n",
            "at www.gutenberg.org. If you are not located in the United States,\n",
            "you will have to check the laws of the country where you are located\n",
            "before using this eBook.\n"
          ]
        }
      ],
      "source": [
        "# Checking the text\n",
        "print(paragraphs[0])"
      ]
    },
    {
      "cell_type": "code",
      "execution_count": 6,
      "metadata": {
        "colab": {
          "base_uri": "https://localhost:8080/"
        },
        "id": "UhUFjtNdDuG0",
        "outputId": "78798c0c-deca-4454-d3fb-7d3ba70f3e91"
      },
      "outputs": [
        {
          "name": "stdout",
          "output_type": "stream",
          "text": [
            "O instincto selvagem suppria a industria do homem civilisado; a primeira das artes foi incontestavelmente a arte da guerra,--a arte da defeza e da vingança, os dous mais fortes estímulos do coração humano.\n",
            "\n",
            "--De um crime, irmão. Dai-me luz; vou escrever a Fr. Diogo do Rosario, nosso prior, porque de onde vou talvez não volte, nem tenhais mais novas de mim.\n",
            "\n",
            "O indio, emquanto se passava a rapida scena que descrevemos, reflectia profundamente.\n",
            "\n",
            "--E se a pedra quizer fazer mal á senhora quem a defenderá? perguntou a menina sorrindo e fazendo allusão á narração do indio.\n",
            "\n",
            "Quando o escudeiro voltou a si da vertigem, uma rodilho de cipós ligava-o ao tronco desde o joelho até os hombros; o indio seguira seu caminho placidamente.\n",
            "\n",
            "Number of paragraphs: 4892\n"
          ]
        },
        {
          "data": {
            "text/plain": [
              "4892"
            ]
          },
          "execution_count": 6,
          "metadata": {},
          "output_type": "execute_result"
        }
      ],
      "source": [
        "cleaned_paragraphs = [paragraph.replace(\"\\n\", \" \") for paragraph in paragraphs if paragraph.strip()]\n",
        "\n",
        "# Print 5 random paragraphs\n",
        "num_paragraphs = len(cleaned_paragraphs)\n",
        "for i in range(0,5):\n",
        "    idx = random.randrange(num_paragraphs)\n",
        "    print(f\"{cleaned_paragraphs[idx]}\\n\")\n",
        "\n",
        "print(\"Number of paragraphs: \" + str(num_paragraphs))\n",
        "\n",
        "len(cleaned_paragraphs)"
      ]
    },
    {
      "cell_type": "markdown",
      "metadata": {
        "id": "bFVN2ihb33Rf"
      },
      "source": [
        "## Análise do dataset"
      ]
    },
    {
      "cell_type": "code",
      "execution_count": 7,
      "metadata": {
        "colab": {
          "base_uri": "https://localhost:8080/"
        },
        "id": "qSRHqe3H4ZFw",
        "outputId": "4a985c7a-ce1d-4b72-d253-c9fbbc5f9440"
      },
      "outputs": [
        {
          "data": {
            "text/plain": [
              "12610"
            ]
          },
          "execution_count": 7,
          "metadata": {},
          "output_type": "execute_result"
        }
      ],
      "source": [
        "# Conta as palavras no dataset\n",
        "from collections import Counter\n",
        "import re\n",
        "\n",
        "def count_words(texts):\n",
        "    word_counts = Counter()\n",
        "    for text in texts:\n",
        "        word_counts.update(re.findall(pattern, text.lower()))\n",
        "    return word_counts\n",
        "\n",
        "word_counts = count_words(cleaned_paragraphs)\n",
        "\n",
        "len(word_counts)"
      ]
    },
    {
      "cell_type": "markdown",
      "metadata": {
        "id": "EyGVDL9KzJ_I"
      },
      "source": [
        "## Criando um vocabulário"
      ]
    },
    {
      "cell_type": "code",
      "execution_count": 8,
      "metadata": {
        "id": "FiP7OCo9zJ_I"
      },
      "outputs": [],
      "source": [
        "most_frequent_words = [word for word, count in word_counts.most_common(vocab_size)]\n",
        "vocab = {word: i for i, word in enumerate(most_frequent_words, 1)}"
      ]
    },
    {
      "cell_type": "code",
      "execution_count": 9,
      "metadata": {},
      "outputs": [
        {
          "name": "stdout",
          "output_type": "stream",
          "text": [
            "Most Frequent Words: ['.', ',', 'a', 'que', 'o', 'de', 'e', 'se', ';', 'um']\n",
            "Vocabulary Size: 3000\n"
          ]
        }
      ],
      "source": [
        "print(f\"Most Frequent Words: {most_frequent_words[:10]}\")\n",
        "print(f\"Vocabulary Size: {len(vocab)}\")"
      ]
    },
    {
      "cell_type": "code",
      "execution_count": 10,
      "metadata": {
        "colab": {
          "base_uri": "https://localhost:8080/"
        },
        "id": "RhbhAsZbzJ_J",
        "outputId": "6a53c9e0-308d-4082-e225-cfa376e8f39a"
      },
      "outputs": [
        {
          "name": "stdout",
          "output_type": "stream",
          "text": [
            " Publicando este livro em 1857, se disse ser aquella primeira edição uma prova typographica, que algum dia talvez o autor se dispuzesse a rever.\n",
            "[0, 146, 0, 23, 0, 2, 8, 50, 117, 276, 266, 2669, 13, 1071, 0, 2, 4, 193, 137, 287, 5, 2264, 8, 0, 3, 2672, 1]\n"
          ]
        }
      ],
      "source": [
        "#pattern = r'\\w+'\n",
        "\n",
        "def encode_sentence(sentence, vocab):\n",
        "    return [vocab.get(word, 0) for word in re.findall(pattern, sentence.lower())]\n",
        "\n",
        "print(cleaned_paragraphs[20])\n",
        "print(encode_sentence(cleaned_paragraphs[20], vocab))"
      ]
    },
    {
      "cell_type": "markdown",
      "metadata": {
        "id": "wia_ygbvzJ_J"
      },
      "source": [
        "## Classe do dataset"
      ]
    },
    {
      "cell_type": "code",
      "execution_count": 11,
      "metadata": {
        "id": "Iy-elI1magRR"
      },
      "outputs": [],
      "source": [
        "# Dataset class\n",
        "import torch\n",
        "from torch.utils.data import Dataset, DataLoader\n",
        "\n",
        "class CustomDataset(Dataset):\n",
        "  def __init__(self, paragraphs, vocab, context):\n",
        "    # Define your data here\n",
        "    self.context = context\n",
        "    self.removed = 0\n",
        "    self.tokens, self.targets = self.setup()\n",
        "\n",
        "  def __len__(self):\n",
        "    return len(self.tokens)\n",
        "\n",
        "  def __getitem__(self, idx):\n",
        "    return torch.tensor(self.tokens[idx]), torch.tensor(self.targets[idx])\n",
        "  \n",
        "  def setup(self):\n",
        "\n",
        "    tokens = []\n",
        "    targets = []\n",
        "    for paragraph in paragraphs:\n",
        "      encoded = encode_sentence(paragraph, vocab)\n",
        "      # If paragraph is smaller than the context, skip it.\n",
        "      if len(encoded) < self.context + 1:\n",
        "          continue\n",
        "\n",
        "      # Do not add examples with unknown tokens\n",
        "      if 0 not in encoded:\n",
        "        for i in range(len(encoded) - self.context):\n",
        "          tokens.append(encoded[i:i+self.context])\n",
        "          targets.append(encoded[i+self.context])\n",
        "      else:\n",
        "        self.removed+=1\n",
        "\n",
        "    return tokens, targets\n"
      ]
    },
    {
      "cell_type": "code",
      "execution_count": 12,
      "metadata": {
        "id": "y1aetOpmDeQd"
      },
      "outputs": [
        {
          "name": "stdout",
          "output_type": "stream",
          "text": [
            "Training samples: 3913\n",
            "Validation samples: 979\n"
          ]
        }
      ],
      "source": [
        "# Train/Validation split\n",
        "train_data, val_data = train_test_split(cleaned_paragraphs, test_size=0.2, random_state=18)\n",
        "\n",
        "print(\"Training samples: \" + str(len(train_data)))\n",
        "print(\"Validation samples: \" + str(len(val_data)))"
      ]
    },
    {
      "cell_type": "code",
      "execution_count": 13,
      "metadata": {
        "colab": {
          "base_uri": "https://localhost:8080/"
        },
        "id": "aD1CVci2zJ_J",
        "outputId": "5bf0839e-f30e-4ff2-ed6f-4f3fda782b7c"
      },
      "outputs": [
        {
          "name": "stdout",
          "output_type": "stream",
          "text": [
            "Training samples:\n",
            "(tensor([[  41,   74,   66,  544,   53,    5,  745,   34, 1066],\n",
            "        [  74,   66,  544,   53,    5,  745,   34, 1066, 1067],\n",
            "        [  66,  544,   53,    5,  745,   34, 1066, 1067,    2],\n",
            "        [ 544,   53,    5,  745,   34, 1066, 1067,    2, 1256],\n",
            "        [  53,    5,  745,   34, 1066, 1067,    2, 1256,    1]]), tensor([1067,    2, 1256,    1,  140]))\n",
            "\n",
            "Validation samples:\n",
            "(tensor([[  41,   74,   66,  544,   53,    5,  745,   34, 1066],\n",
            "        [  74,   66,  544,   53,    5,  745,   34, 1066, 1067],\n",
            "        [  66,  544,   53,    5,  745,   34, 1066, 1067,    2],\n",
            "        [ 544,   53,    5,  745,   34, 1066, 1067,    2, 1256],\n",
            "        [  53,    5,  745,   34, 1066, 1067,    2, 1256,    1]]), tensor([1067,    2, 1256,    1,  140]))\n",
            "\n",
            "Removed training samples: 3423\n",
            "Removed validation samples: 3423\n"
          ]
        }
      ],
      "source": [
        "train_dataset = CustomDataset(train_data, vocab, context_size)\n",
        "val_dataset = CustomDataset(val_data, vocab, context_size)\n",
        "\n",
        "# Samples\n",
        "print(\"Training samples:\")\n",
        "print(train_dataset[:5])\n",
        "print()\n",
        "print(\"Validation samples:\")\n",
        "print(val_dataset[:5])\n",
        "print()\n",
        "print(\"Removed training samples: \" + str(train_dataset.removed))\n",
        "print(\"Removed validation samples: \" + str(val_dataset.removed))"
      ]
    },
    {
      "cell_type": "code",
      "execution_count": 14,
      "metadata": {
        "id": "gC0C5qn2zJ_J"
      },
      "outputs": [
        {
          "name": "stdout",
          "output_type": "stream",
          "text": [
            "[tensor([[   7,    1,    1,    1,  173,    5,  469,   16,    3],\n",
            "        [ 719,  151,  544,  331,  282,   41,  506,   53, 1257],\n",
            "        [1490,   15,  812,   10, 2249,    6, 1942, 1239,   22],\n",
            "        [  39,  257,   29, 2379,  631,  324,   71,  721,    2],\n",
            "        [  12,   37,   46,  272,   34,  422,   31,   17,  410],\n",
            "        [   1,   66,    1,  747,    1,  341,   92,  332,  259],\n",
            "        [ 171,    3,   58,    9,   39, 1236, 1127, 1190,   18],\n",
            "        [  40,    2, 1612,    3, 2605,   11,    4,    8,  203],\n",
            "        [  17,  172,  135,   10,  245,    6, 1056,    7,  589],\n",
            "        [ 949,    9,    3,  398, 1997, 2385,    2,  171,    5],\n",
            "        [  17,  179,    2,  677,  295,   15, 1588,   42, 2341],\n",
            "        [  44, 1131,    9,  858,   38,  309,    9,   37,    3],\n",
            "        [1945,  148,  151,  544,   90, 1512,  545,  746,    1],\n",
            "        [ 178,   20,  118,  172,    9,   93,   46,  540,    6],\n",
            "        [  89,  371,   13,  504,    6,   35,    2,   12,   37],\n",
            "        [  30,    1,   47,    6,   73,  552, 1336,  235,  559],\n",
            "        [  10,  376,    4,  538, 2950,   10,  722,  540,   31],\n",
            "        [  27,   91,   11,  207,    7,   21,  833,  201,   27],\n",
            "        [   5, 1774,    6,   17,  175,    2,    7,    2,  876],\n",
            "        [ 113,  364,   28,  126,    9,    3,  418, 1186,    4],\n",
            "        [  17,  277,    7,  681,    9,   96,  154,    5,  826],\n",
            "        [   2,  102,  119,   25,   26,   13,  199,    2,    8],\n",
            "        [  35,    8,  502,    3,   19,  119,    2, 1290,   64],\n",
            "        [1817,   89, 2381,    4,   35,   44,  327,   25,   50],\n",
            "        [   6,   35,    2,  110,   12,  115,  647,   26,  300],\n",
            "        [ 231,  670, 2882,    3,    2,  180,    1,   49,    2],\n",
            "        [ 326,  456,   34,   26,   54,  453,   17,  172,    2],\n",
            "        [   4,   21,  474,  280,    9,    4,  232,  280,   26],\n",
            "        [ 257,   29, 2379,  631,  324,   71,  721,    2,   84],\n",
            "        [   1,    1,    4,  463,  224,   25,    1,    1,    1],\n",
            "        [ 339,    6,  199,   62, 2719,  159,   16,   40,  335],\n",
            "        [ 100, 2377,    2,   40,   50,   34, 2597, 1213,    9]]), tensor([ 153, 2658, 1173,   84,    1,  936,   56,    1,    1,  227,    2,  118,\n",
            "          66,   64,  397,    6,   58,  107,    3,    8, 1207,  324,    2,    5,\n",
            "          11,   50,   45,   54,  957,  904,  355, 2115])]\n"
          ]
        }
      ],
      "source": [
        "train_loader = DataLoader(train_dataset, batch_size=batch_size, shuffle=True)\n",
        "val_loader = DataLoader(val_dataset, batch_size=batch_size, shuffle=True)\n",
        "\n",
        "sample = next(iter(train_loader))\n",
        "print(sample)"
      ]
    },
    {
      "cell_type": "markdown",
      "metadata": {
        "id": "-5_-Yud0zJ_K"
      },
      "source": [
        "## Model"
      ]
    },
    {
      "cell_type": "code",
      "execution_count": 15,
      "metadata": {
        "id": "I2qKG9YczJ_K"
      },
      "outputs": [],
      "source": [
        "class BengioModel(torch.nn.Module):\n",
        "    def __init__(self, vocab_size, embedding_dim, context_size, h):\n",
        "        super(BengioModel, self).__init__()\n",
        "        self.embeddings = nn.Embedding(vocab_size+1, embedding_dim)\n",
        "        self.linear1 = nn.Linear(context_size * embedding_dim, h)\n",
        "        self.linear2 = nn.Linear(h, vocab_size+1)\n",
        "\n",
        "    def forward(self, inputs):\n",
        "        embeds = self.embeddings(inputs)\n",
        "        # Flatten embeddings\n",
        "        embeds = embeds.view(embeds.size(0), -1)\n",
        "        # Linear layer with Relu activation\n",
        "        out = self.linear1(embeds)\n",
        "        out = F.relu(out)\n",
        "        # Second layer\n",
        "        out = self.linear2(out)\n",
        "        return out"
      ]
    },
    {
      "cell_type": "code",
      "execution_count": 16,
      "metadata": {
        "id": "7yjQ1KXOzJ_K"
      },
      "outputs": [],
      "source": [
        "model = BengioModel(vocab_size, embedding_dim, context_size, hidden_dim)"
      ]
    },
    {
      "cell_type": "code",
      "execution_count": 17,
      "metadata": {
        "id": "xmsD59TfzJ_K"
      },
      "outputs": [
        {
          "name": "stdout",
          "output_type": "stream",
          "text": [
            "torch.Size([32, 9])\n",
            "torch.Size([32])\n"
          ]
        }
      ],
      "source": [
        "sample = next(iter(train_loader))\n",
        "input = sample[0]\n",
        "target = sample[1]\n",
        "\n",
        "print(input.shape)\n",
        "print(target.shape)"
      ]
    },
    {
      "cell_type": "code",
      "execution_count": 18,
      "metadata": {
        "id": "HGbJcT5KzJ_K"
      },
      "outputs": [],
      "source": [
        "output = model(input)"
      ]
    },
    {
      "cell_type": "code",
      "execution_count": 19,
      "metadata": {
        "colab": {
          "base_uri": "https://localhost:8080/"
        },
        "id": "um0lR4mNzJ_K",
        "outputId": "e6041da8-ca7f-4c9d-b28b-9e1250e820f2"
      },
      "outputs": [
        {
          "data": {
            "text/plain": [
              "tensor([1284, 1305, 1305, 1370, 1298, 2364, 1664, 1499, 2051,  227,  478,  979,\n",
              "        2120, 1305, 2992, 2667, 2364, 1974,  478, 1378, 2050, 1602, 1664, 2364,\n",
              "        1742, 1602, 2364, 1688,  478,  992, 2045,  284])"
            ]
          },
          "execution_count": 19,
          "metadata": {},
          "output_type": "execute_result"
        }
      ],
      "source": [
        "output.argmax(dim=1)"
      ]
    },
    {
      "cell_type": "code",
      "execution_count": 20,
      "metadata": {
        "colab": {
          "base_uri": "https://localhost:8080/"
        },
        "id": "la-b-f8jzJ_L",
        "outputId": "f040cef4-e409-4d20-d335-a3133aaeb63c"
      },
      "outputs": [
        {
          "data": {
            "text/plain": [
              "tensor([ 703,    1, 1310, 1591,  529,   62,    7,   19,   23,   17,    5,  189,\n",
              "          92,    9,    7,    7,    7,    7,   52,    9,  418,  557, 2936,    5,\n",
              "         110,    7,    1,    3,  265,   79,  116,    3])"
            ]
          },
          "execution_count": 20,
          "metadata": {},
          "output_type": "execute_result"
        }
      ],
      "source": [
        "target"
      ]
    },
    {
      "cell_type": "markdown",
      "metadata": {
        "id": "UngUhyu7zJ_L"
      },
      "source": [
        "## Training"
      ]
    },
    {
      "cell_type": "code",
      "execution_count": 21,
      "metadata": {
        "colab": {
          "base_uri": "https://localhost:8080/"
        },
        "id": "wntaV50nzJ_L",
        "outputId": "a054092b-d801-4c60-eb75-85abfe57151d"
      },
      "outputs": [
        {
          "data": {
            "text/plain": [
              "device(type='cpu')"
            ]
          },
          "execution_count": 21,
          "metadata": {},
          "output_type": "execute_result"
        }
      ],
      "source": [
        "# Verifica se há uma GPU disponível e define o dispositivo para GPU se possível, caso contrário, usa a CPU\n",
        "device = torch.device('cuda' if torch.cuda.is_available() else 'cpu')\n",
        "device"
      ]
    },
    {
      "cell_type": "code",
      "execution_count": 22,
      "metadata": {
        "id": "vRwSPiwizJ_L"
      },
      "outputs": [
        {
          "data": {
            "text/plain": [
              "BengioModel(\n",
              "  (embeddings): Embedding(3001, 64)\n",
              "  (linear1): Linear(in_features=576, out_features=128, bias=True)\n",
              "  (linear2): Linear(in_features=128, out_features=3001, bias=True)\n",
              ")"
            ]
          },
          "execution_count": 22,
          "metadata": {},
          "output_type": "execute_result"
        }
      ],
      "source": [
        "# Cross Entropy\n",
        "criterion = nn.CrossEntropyLoss()\n",
        "\n",
        "# Optimizer\n",
        "optimizer = torch.optim.Adam(model.parameters(), lr)\n",
        "\n",
        "model.to(device)"
      ]
    },
    {
      "cell_type": "code",
      "execution_count": 23,
      "metadata": {},
      "outputs": [
        {
          "name": "stdout",
          "output_type": "stream",
          "text": [
            "O modelo tem um total de 653,049 parâmetros.\n"
          ]
        }
      ],
      "source": [
        "def count_parameters(model):\n",
        "    return sum(p.numel() for p in model.parameters() if p.requires_grad)\n",
        "\n",
        "# Exemplo de uso:\n",
        "total_params = count_parameters(model)\n",
        "print(f'O modelo tem um total de {total_params:,} parâmetros.')"
      ]
    },
    {
      "cell_type": "code",
      "execution_count": 24,
      "metadata": {},
      "outputs": [
        {
          "name": "stdout",
          "output_type": "stream",
          "text": [
            "Initial Loss: 8.0420\n",
            "Initial Perplexity: 3108.8982\n"
          ]
        }
      ],
      "source": [
        "# Initial Perplexity and Loss\n",
        "# Before training\n",
        "model.eval()\n",
        "\n",
        "loss = 0\n",
        "perp = 0\n",
        "\n",
        "with torch.no_grad():\n",
        "    for inputs, targets in train_loader:\n",
        "        inputs = inputs.to(device)\n",
        "        targets = targets.to(device)\n",
        "        outputs = model(inputs)\n",
        "        loss += criterion(outputs, targets).item()\n",
        "\n",
        "loss /= len(train_loader)\n",
        "perp = torch.exp(torch.tensor(loss))\n",
        "\n",
        "print(f'Initial Loss: {loss:.4f}')\n",
        "print(f'Initial Perplexity: {perp:.4f}')"
      ]
    },
    {
      "cell_type": "code",
      "execution_count": 25,
      "metadata": {},
      "outputs": [
        {
          "name": "stdout",
          "output_type": "stream",
          "text": [
            "Epoch [1/10], Loss: 6.8823, Accuracy: 0.08%, Perplexity: 974.9133\n",
            "Epoch [2/10], Loss: 4.7271, Accuracy: 0.18%, Perplexity: 112.9706\n",
            "Epoch [3/10], Loss: 3.3866, Accuracy: 0.35%, Perplexity: 29.5663\n",
            "Epoch [4/10], Loss: 2.3061, Accuracy: 0.52%, Perplexity: 10.0356\n",
            "Epoch [5/10], Loss: 1.5323, Accuracy: 0.67%, Perplexity: 4.6289\n",
            "Epoch [6/10], Loss: 1.0285, Accuracy: 0.77%, Perplexity: 2.7970\n",
            "Epoch [7/10], Loss: 0.6556, Accuracy: 0.85%, Perplexity: 1.9264\n",
            "Epoch [8/10], Loss: 0.4645, Accuracy: 0.90%, Perplexity: 1.5912\n",
            "Epoch [9/10], Loss: 0.3410, Accuracy: 0.93%, Perplexity: 1.4064\n",
            "Epoch [10/10], Loss: 0.2573, Accuracy: 0.95%, Perplexity: 1.2935\n"
          ]
        }
      ],
      "source": [
        "# Training Loop\n",
        "model.train()\n",
        "for epoch in range(epochs):\n",
        "\n",
        "  # Metrics\n",
        "  epoch_loss = 0\n",
        "  epoch_correct = 0\n",
        "  epoch_samples = 0\n",
        "\n",
        "  for inputs, targets in train_loader:\n",
        "        inputs = inputs.to(device)  # Move input data to the device\n",
        "        targets = targets.to(device)\n",
        "\n",
        "        # Forward pass\n",
        "        outputs = model(inputs)\n",
        "        loss = criterion(outputs, targets)\n",
        "\n",
        "        # Backward pass and optimization\n",
        "        optimizer.zero_grad()\n",
        "        loss.backward()\n",
        "        optimizer.step()\n",
        "\n",
        "        # Loss\n",
        "        epoch_loss += loss.item()\n",
        "\n",
        "        # Predicted\n",
        "        _, predicted = torch.max(outputs, 1)\n",
        "        epoch_correct += (predicted == targets).sum().item()\n",
        "        epoch_samples += targets.size(0)\n",
        "\n",
        "  # Calculate average loss and accuracy for epoch\n",
        "  avg_loss = epoch_loss / len(train_loader)\n",
        "  acc = epoch_correct / epoch_samples\n",
        "\n",
        "  # Perplexity\n",
        "  perp = torch.exp(torch.tensor(avg_loss))\n",
        "\n",
        "  # Print epoch statistics\n",
        "  print(f'Epoch [{epoch+1}/{epochs}], Loss: {avg_loss:.4f}, Accuracy: {acc:.2f}%, Perplexity: {perp:.4f}')\n"
      ]
    },
    {
      "cell_type": "markdown",
      "metadata": {
        "id": "PSXfwYISDoPN"
      },
      "source": [
        "## Avaliação"
      ]
    },
    {
      "cell_type": "code",
      "execution_count": 26,
      "metadata": {
        "id": "nXXO78GSDqPg"
      },
      "outputs": [
        {
          "name": "stdout",
          "output_type": "stream",
          "text": [
            "Test Accuracy: 96.90%\n",
            "Average Loss: 0.16\n",
            "Average Perplexity: 1.17\n"
          ]
        }
      ],
      "source": [
        "model.eval()\n",
        "\n",
        "loss_sum = 0\n",
        "total_sum = 0\n",
        "correct_sum = 0\n",
        "eval_round = 0\n",
        "\n",
        "with torch.no_grad():\n",
        "    for inputs, targets in val_loader:\n",
        "        inputs = inputs.to(device)\n",
        "        targets = targets.to(device)\n",
        "\n",
        "        # Forward pass\n",
        "        outputs = model(inputs)\n",
        "        loss = criterion(outputs, targets)        \n",
        "        loss_sum += loss\n",
        "\n",
        "        # Get the predicted labels\n",
        "        _, predicted = torch.max(outputs, 1)\n",
        "\n",
        "        total_sum += targets.size(0)\n",
        "        correct_sum += (predicted == targets).sum().item()\n",
        "        eval_round += 1\n",
        "\n",
        "# Calculate accuracy\n",
        "acc = 100 * correct_sum/total_sum\n",
        "\n",
        "# Calculate average perplexity\n",
        "average_loss = loss_sum / eval_round\n",
        "average_perplexity = torch.exp(average_loss)\n",
        "\n",
        "print(f'Test Accuracy: {acc:.2f}%')\n",
        "print(f'Average Loss: {average_loss:.2f}')\n",
        "print(f'Average Perplexity: {average_perplexity:.2f}')"
      ]
    },
    {
      "cell_type": "markdown",
      "metadata": {
        "id": "A1zhxVqfzJ_M"
      },
      "source": [
        "## Exemplo de uso"
      ]
    },
    {
      "cell_type": "code",
      "execution_count": 27,
      "metadata": {
        "id": "3PExkoWOzJ_M"
      },
      "outputs": [
        {
          "name": "stdout",
          "output_type": "stream",
          "text": [
            "Frase: --Tendes mais experiencia do que eu, Sr. cavalheiro; mas queira Deus que vos enganeis.\n",
            "[428, 46, 2042, 11, 4, 88, 2, 180, 1]\n",
            "[428, 46, 2042, 11, 4, 88, 2, 180, 1, 141]\n",
            "[428, 46, 2042, 11, 4, 88, 2, 180, 1, 141, 9]\n",
            "[428, 46, 2042, 11, 4, 88, 2, 180, 1, 141, 9, 7]\n",
            "[428, 46, 2042, 11, 4, 88, 2, 180, 1, 141, 9, 7, 3]\n",
            "[428, 46, 2042, 11, 4, 88, 2, 180, 1, 141, 9, 7, 3, 2367]\n",
            "[428, 46, 2042, 11, 4, 88, 2, 180, 1, 141, 9, 7, 3, 2367, 79]\n",
            "[428, 46, 2042, 11, 4, 88, 2, 180, 1, 141, 9, 7, 3, 2367, 79, 3]\n",
            "[428, 46, 2042, 11, 4, 88, 2, 180, 1, 141, 9, 7, 3, 2367, 79, 3, 72]\n",
            "[428, 46, 2042, 11, 4, 88, 2, 180, 1, 141, 9, 7, 3, 2367, 79, 3, 72, 215]\n",
            "[428, 46, 2042, 11, 4, 88, 2, 180, 1, 141, 9, 7, 3, 2367, 79, 3, 72, 215, 3]\n",
            "\u001b[34m['tendes', 'mais', 'experiencia', 'do', 'que', 'eu', ',', 'sr', '.']\u001b[0m \u001b[31m['coração', ';', 'e', 'a', 'presas', 'mesmo', 'a', 'já', 'braço', 'a']\u001b[0m \n"
          ]
        }
      ],
      "source": [
        "# Código adaptado da implementação do Cesar Bastos\n",
        "from colorama import Fore, Style\n",
        "\n",
        "text = cleaned_paragraphs\n",
        "model.to(device)\n",
        "def generate_text(model, vocab, text, max_length, context_size):\n",
        "    words = []\n",
        "    # Ensure there are enough words for at least one sequence\n",
        "    while len(words) < context_size:\n",
        "        random_number = random.randint(1, 4891)\n",
        "        words = encode_sentence(text[random_number], vocab)\n",
        "        if not words:\n",
        "            words = []\n",
        "            continue  # Skip if the sentence cannot be encoded\n",
        "        words = words[:context_size]\n",
        "        #print(words)\n",
        "        if any(token == 0 for token in words):\n",
        "            words = []\n",
        "            continue  # Skip if any token is zero (assuming 0 is a special token)\n",
        "        context = words\n",
        "\n",
        "    print(f\"Frase: {cleaned_paragraphs[random_number]}\")\n",
        "    print(words)\n",
        "\n",
        "    for _ in range(max_length):\n",
        "        words_tensor = torch.tensor(context[-context_size:], dtype=torch.long).unsqueeze(0).to(device)\n",
        "        logits = model(words_tensor)\n",
        "        probs = F.softmax(logits, dim=1)\n",
        "        next_token = torch.multinomial(probs, num_samples=1)\n",
        "        context.append(next_token.item())\n",
        "        print(context)\n",
        "    frase = []\n",
        "    for i in context: ##Agradecimentos a Ramon Abilio\n",
        "        word = next((word for word, code in vocab.items() if code == i), \"<UNKNOWN>\")\n",
        "        frase.append(word)\n",
        "\n",
        "    print(f\"{Fore.BLUE}{frase[:context_size]}{Style.RESET_ALL} {Fore.RED}{frase[-max_length:]}{Style.RESET_ALL} \")\n",
        "\n",
        "context_size = 9\n",
        "max_length= 10\n",
        "generate_text(model, vocab, text, max_length, context_size)"
      ]
    }
  ],
  "metadata": {
    "accelerator": "GPU",
    "colab": {
      "gpuType": "T4",
      "provenance": []
    },
    "kernelspec": {
      "display_name": "IA024",
      "language": "python",
      "name": "python3"
    },
    "language_info": {
      "codemirror_mode": {
        "name": "ipython",
        "version": 3
      },
      "file_extension": ".py",
      "mimetype": "text/x-python",
      "name": "python",
      "nbconvert_exporter": "python",
      "pygments_lexer": "ipython3",
      "version": "3.12.1"
    }
  },
  "nbformat": 4,
  "nbformat_minor": 0
}
