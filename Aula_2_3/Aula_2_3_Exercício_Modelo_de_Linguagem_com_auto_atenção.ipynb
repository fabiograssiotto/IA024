{
  "cells": [
    {
      "cell_type": "markdown",
      "metadata": {
        "id": "fMI0JT_YuYF3"
      },
      "source": [
        "## Exercício: Modelo de Linguagem com auto-atenção\n",
        "\n",
        "Este exercício é similar ao da aula passada, mas iremos agora treinar uma rede neural *com auto-atenção* para prever a próxima palavra de um texto, data as palavras anteriores como entrada.\n",
        "\n",
        "Na camada de auto-atenção, deve-se implementar (vide slide 34):\n",
        "- Embeddings de posição\n",
        "- Projeções lineares (WQ, WK, WV, WO)\n",
        "- Camada de feed forward (2-layer MLP)\n",
        "\n",
        "Instrucões:\n",
        "- É necessário fazer duas implementações da camada de auto-atenção: uma usando laços (ineficiente, mas fácil de entender) e outra matricial (eficiente mas difícil de entender). Usar slide 36 como referência.\n",
        "\n",
        "- Fazer um assert para garantir que o resultado das duas implementações é exatamente igual.\n",
        "\n",
        "- No treinamento, usar apenas a implementação matricial."
      ]
    },
    {
      "cell_type": "markdown",
      "metadata": {},
      "source": [
        "## Imports"
      ]
    },
    {
      "cell_type": "code",
      "execution_count": 1,
      "metadata": {},
      "outputs": [],
      "source": [
        "import os\n",
        "import sys\n",
        "import random\n",
        "import torch.nn as nn\n",
        "import torch.nn.functional as F\n",
        "import time\n",
        "from sklearn.model_selection import train_test_split\n",
        "from torch import nn"
      ]
    },
    {
      "cell_type": "markdown",
      "metadata": {},
      "source": [
        "## Variáveis Globais e Inicialização"
      ]
    },
    {
      "cell_type": "code",
      "execution_count": 2,
      "metadata": {},
      "outputs": [],
      "source": [
        "# Global variables\n",
        "\n",
        "# Vocabulary\n",
        "vocab_size = 5000\n",
        "context_size = 5\n",
        "pattern = r'\\w+|[,;.:!?\\']'\n",
        "\n",
        "# Training\n",
        "batch_size = 128\n",
        "epochs = 10\n",
        "lr = 0.1\n",
        "\n",
        "# Model\n",
        "embedding_dim = 256\n",
        "hidden_dim = 128"
      ]
    },
    {
      "cell_type": "code",
      "execution_count": 3,
      "metadata": {},
      "outputs": [],
      "source": [
        "# Colab environment\n",
        "IN_COLAB = 'google.colab' in sys.modules\n",
        "\n",
        "if (IN_COLAB):\n",
        "    %pip install colorama\n",
        "\n",
        "    # Google Drive\n",
        "    from google.colab import drive\n",
        "    drive.mount('/content/drive', force_remount=True)\n",
        "\n",
        "    project_folder=\"/content/drive/MyDrive/Classes/IA024/Aula_2_3\"\n",
        "    os.chdir(project_folder)\n",
        "    !ls -la"
      ]
    },
    {
      "cell_type": "markdown",
      "metadata": {
        "id": "bYbkEzdD37sZ"
      },
      "source": [
        "## Faz download e carrega o dataset"
      ]
    },
    {
      "cell_type": "code",
      "execution_count": 4,
      "metadata": {
        "colab": {
          "base_uri": "https://localhost:8080/"
        },
        "id": "9qAnqY_q0beK",
        "outputId": "f810fdb0-138d-4917-b7ef-69ab266acef6"
      },
      "outputs": [],
      "source": [
        "# Check if download is necessary\n",
        "if not os.path.exists(\"67724.txt.utf-8\"):\n",
        "    print(\"Downloading Gutenberg texts\")\n",
        "\n",
        "    !wget https://www.gutenberg.org/ebooks/67724.txt.utf-8\n",
        "    !wget https://www.gutenberg.org/ebooks/67725.txt.utf-8"
      ]
    },
    {
      "cell_type": "code",
      "execution_count": 5,
      "metadata": {
        "colab": {
          "base_uri": "https://localhost:8080/"
        },
        "id": "6_UzC9pV091C",
        "outputId": "1553b04f-24c4-4027-8cab-0907f92f04df"
      },
      "outputs": [
        {
          "data": {
            "text/plain": [
              "4969"
            ]
          },
          "execution_count": 5,
          "metadata": {},
          "output_type": "execute_result"
        }
      ],
      "source": [
        "text = open(\"67724.txt.utf-8\",\"r\").read()\n",
        "text += open(\"67725.txt.utf-8\",\"r\").read()\n",
        "\n",
        "paragraphs = text.split(\"\\n\\n\")\n",
        "\n",
        "len(paragraphs)"
      ]
    },
    {
      "cell_type": "code",
      "execution_count": 6,
      "metadata": {},
      "outputs": [
        {
          "name": "stdout",
          "output_type": "stream",
          "text": [
            "The Project Gutenberg eBook of O Guarany: romance brazileiro, Vol. 1 (of 2)\n",
            "    \n",
            "This ebook is for the use of anyone anywhere in the United States and\n",
            "most other parts of the world at no cost and with almost no restrictions\n",
            "whatsoever. You may copy it, give it away or re-use it under the terms\n",
            "of the Project Gutenberg License included with this ebook or online\n",
            "at www.gutenberg.org. If you are not located in the United States,\n",
            "you will have to check the laws of the country where you are located\n",
            "before using this eBook.\n"
          ]
        }
      ],
      "source": [
        "# Checking the text\n",
        "print(paragraphs[0])"
      ]
    },
    {
      "cell_type": "code",
      "execution_count": 7,
      "metadata": {
        "colab": {
          "base_uri": "https://localhost:8080/"
        },
        "id": "UhUFjtNdDuG0",
        "outputId": "78798c0c-deca-4454-d3fb-7d3ba70f3e91"
      },
      "outputs": [
        {
          "name": "stdout",
          "output_type": "stream",
          "text": [
            "--Tu és livre. Partamos!\n",
            "\n",
            "Vendo aproximar-se seu pai, D. Diogo de Mariz ergueu-se e descobrindo-se esperou-o n'uma attitude respeitosa.\n",
            "\n",
            "Quando a corrente de ar expellio a fumaça do aposento, Cecilia pôde entrar e ver a scena que descrevêmos.\n",
            "\n",
            "--Deixar-te! Uma figa! Depois de ter batido esta mattaria á tua procura! Tinha que ver!\n",
            "\n",
            "--Pery vai fallar.\n",
            "\n",
            "Number of paragraphs: 4892\n"
          ]
        },
        {
          "data": {
            "text/plain": [
              "4892"
            ]
          },
          "execution_count": 7,
          "metadata": {},
          "output_type": "execute_result"
        }
      ],
      "source": [
        "cleaned_paragraphs = [paragraph.replace(\"\\n\", \" \") for paragraph in paragraphs if paragraph.strip()]\n",
        "\n",
        "# Print 5 random paragraphs\n",
        "num_paragraphs = len(cleaned_paragraphs)\n",
        "for i in range(0,5):\n",
        "    idx = random.randrange(num_paragraphs)\n",
        "    print(f\"{cleaned_paragraphs[idx]}\\n\")\n",
        "\n",
        "print(\"Number of paragraphs: \" + str(num_paragraphs))\n",
        "\n",
        "len(cleaned_paragraphs)"
      ]
    },
    {
      "cell_type": "markdown",
      "metadata": {
        "id": "bFVN2ihb33Rf"
      },
      "source": [
        "## Análise do dataset"
      ]
    },
    {
      "cell_type": "code",
      "execution_count": 8,
      "metadata": {
        "colab": {
          "base_uri": "https://localhost:8080/"
        },
        "id": "qSRHqe3H4ZFw",
        "outputId": "4a985c7a-ce1d-4b72-d253-c9fbbc5f9440"
      },
      "outputs": [
        {
          "data": {
            "text/plain": [
              "12610"
            ]
          },
          "execution_count": 8,
          "metadata": {},
          "output_type": "execute_result"
        }
      ],
      "source": [
        "# Conta as palavras no dataset\n",
        "from collections import Counter\n",
        "import re\n",
        "\n",
        "def count_words(texts):\n",
        "    word_counts = Counter()\n",
        "    for text in texts:\n",
        "        word_counts.update(re.findall(pattern, text.lower()))\n",
        "    return word_counts\n",
        "\n",
        "word_counts = count_words(cleaned_paragraphs)\n",
        "\n",
        "len(word_counts)"
      ]
    },
    {
      "cell_type": "markdown",
      "metadata": {
        "id": "EyGVDL9KzJ_I"
      },
      "source": [
        "## Criando um vocabulário"
      ]
    },
    {
      "cell_type": "code",
      "execution_count": 9,
      "metadata": {
        "id": "FiP7OCo9zJ_I"
      },
      "outputs": [],
      "source": [
        "most_frequent_words = [word for word, count in word_counts.most_common(vocab_size)]\n",
        "vocab = {word: i for i, word in enumerate(most_frequent_words, 1)}"
      ]
    },
    {
      "cell_type": "code",
      "execution_count": 10,
      "metadata": {},
      "outputs": [
        {
          "name": "stdout",
          "output_type": "stream",
          "text": [
            "Most Frequent Words: ['.', ',', 'a', 'que', 'o', 'de', 'e', 'se', ';', 'um']\n",
            "Vocabulary Size: 5000\n"
          ]
        }
      ],
      "source": [
        "print(f\"Most Frequent Words: {most_frequent_words[:10]}\")\n",
        "print(f\"Vocabulary Size: {len(vocab)}\")"
      ]
    },
    {
      "cell_type": "code",
      "execution_count": 11,
      "metadata": {
        "colab": {
          "base_uri": "https://localhost:8080/"
        },
        "id": "RhbhAsZbzJ_J",
        "outputId": "6a53c9e0-308d-4082-e225-cfa376e8f39a"
      },
      "outputs": [
        {
          "name": "stdout",
          "output_type": "stream",
          "text": [
            " Publicando este livro em 1857, se disse ser aquella primeira edição uma prova typographica, que algum dia talvez o autor se dispuzesse a rever.\n",
            "[0, 146, 4383, 23, 0, 2, 8, 50, 117, 276, 266, 2669, 13, 1071, 0, 2, 4, 193, 137, 287, 5, 2264, 8, 0, 3, 2672, 1]\n"
          ]
        }
      ],
      "source": [
        "def encode_sentence(sentence, vocab):\n",
        "    return [vocab.get(word, 0) for word in re.findall(pattern, sentence.lower())]\n",
        "\n",
        "print(cleaned_paragraphs[20])\n",
        "print(encode_sentence(cleaned_paragraphs[20], vocab))"
      ]
    },
    {
      "cell_type": "markdown",
      "metadata": {
        "id": "wia_ygbvzJ_J"
      },
      "source": [
        "## Classe do dataset"
      ]
    },
    {
      "cell_type": "code",
      "execution_count": 12,
      "metadata": {
        "id": "Iy-elI1magRR"
      },
      "outputs": [],
      "source": [
        "# Dataset class\n",
        "import torch\n",
        "from torch.utils.data import Dataset, DataLoader\n",
        "\n",
        "class CustomDataset(Dataset):\n",
        "  def __init__(self, paragraphs, vocab, context):\n",
        "    self.paragraphs = paragraphs\n",
        "    self.vocab = vocab\n",
        "    self.context = context\n",
        "    self.tokens, self.targets = self.setup()\n",
        "\n",
        "  def __len__(self):\n",
        "    return len(self.tokens)\n",
        "\n",
        "  def __getitem__(self, idx):\n",
        "    return torch.tensor(self.tokens[idx]), torch.tensor(self.targets[idx])\n",
        "  \n",
        "  def setup(self):\n",
        "    tokens = []\n",
        "    targets = []\n",
        "    for paragraph in self.paragraphs:\n",
        "      encoded = encode_sentence(paragraph, self.vocab)\n",
        "      \n",
        "      # If paragraph is smaller than the context, skip it.\n",
        "      if len(encoded) < self.context + 1:\n",
        "          continue\n",
        "\n",
        "      for i in range(len(encoded) - self.context):\n",
        "        tks = encoded[i:i+self.context]\n",
        "        tgt = encoded[i+self.context]\n",
        "        # Only add if there are no unknown tokens in both context and target.\n",
        "        bad_token = 0\n",
        "        if not (bad_token in tks or tgt == bad_token):\n",
        "          tokens.append(tks)\n",
        "          targets.append(tgt)\n",
        "    return tokens, targets\n"
      ]
    },
    {
      "cell_type": "code",
      "execution_count": 13,
      "metadata": {
        "colab": {
          "base_uri": "https://localhost:8080/"
        },
        "id": "aD1CVci2zJ_J",
        "outputId": "5bf0839e-f30e-4ff2-ed6f-4f3fda782b7c"
      },
      "outputs": [
        {
          "name": "stdout",
          "output_type": "stream",
          "text": [
            "Training samples: 3913\n",
            "Validation samples: 979\n",
            "\n",
            "Training dataset samples: 59646\n",
            "Validation dataset samples: 16215\n"
          ]
        }
      ],
      "source": [
        "# Train/Validation split\n",
        "train_data, val_data = train_test_split(cleaned_paragraphs, test_size=0.2, random_state=18)\n",
        "\n",
        "train_dataset = CustomDataset(train_data, vocab, context_size)\n",
        "val_dataset = CustomDataset(val_data, vocab, context_size)\n",
        "\n",
        "# Counting all Samples\n",
        "print(f\"Training samples: {len(train_data)}\")\n",
        "print(f\"Validation samples: {len(val_data)}\")\n",
        "print()\n",
        "print(f\"Training dataset samples: {len(train_dataset)}\")\n",
        "print(f\"Validation dataset samples: {len(val_dataset)}\")"
      ]
    },
    {
      "cell_type": "code",
      "execution_count": 14,
      "metadata": {
        "id": "gC0C5qn2zJ_J"
      },
      "outputs": [
        {
          "name": "stdout",
          "output_type": "stream",
          "text": [
            "[tensor([[1428, 1884,    2,    6,  690],\n",
            "        [ 196,    9,   15, 1053, 4023],\n",
            "        [   5, 2019,   11,   19, 1036],\n",
            "        [  18, 2938,    7, 3737,    3],\n",
            "        [ 529,  127,  111, 2619,  289],\n",
            "        [1406,   51,  244,    2,    7],\n",
            "        [ 651,    4,   12,   32, 2519],\n",
            "        [   3,  219,   51,  891,    8],\n",
            "        [1189,    5,  293,  524,   11],\n",
            "        [ 262, 2409,    3,  109,    7],\n",
            "        [  12,   65,   24,   97,    6],\n",
            "        [   3,   17,  481,    2, 1150],\n",
            "        [  14,  386,   29, 2345,   63],\n",
            "        [ 476, 4601, 4629,  125,    9],\n",
            "        [ 695,   37, 1799,   18,    3],\n",
            "        [2850,    6, 2125,    2,    4],\n",
            "        [4530,   34,   39,  201, 4531],\n",
            "        [  36,  786,   11,  510,    2],\n",
            "        [ 901,    8,  424,    6,   10],\n",
            "        [  40,   31,  299,    4,   70],\n",
            "        [   4, 1918,    3,   35,    3],\n",
            "        [ 142,  342, 3807,    2,  160],\n",
            "        [   3,  358,   14,   57,    1],\n",
            "        [2515,    5,  295,   18, 4248],\n",
            "        [   1,    1,    1,    1,    1],\n",
            "        [  12,    8, 1858, 1620,   23],\n",
            "        [ 362,  329, 1655,   31,  451],\n",
            "        [   3,  112,    9,   13, 1788],\n",
            "        [ 299,    2,  312,    8,   64],\n",
            "        [ 344,    6,  631,   40,    3],\n",
            "        [   1,  190, 1563,    8,   38],\n",
            "        [   1,   14,  307,    1, 1018],\n",
            "        [   2,  106,  690, 4435,    6],\n",
            "        [  66,  104, 2214, 3288,    1],\n",
            "        [   1,    5,  357,  922,   29],\n",
            "        [  48,    5,   43, 3549,    5],\n",
            "        [  77,  329,   10,   76, 1797],\n",
            "        [ 613,    2,    7,  692,   38],\n",
            "        [ 106, 1497, 2551,    2,    4],\n",
            "        [  13,  124,   26,  222,    2],\n",
            "        [  61,   13, 3410, 1206,    7],\n",
            "        [   5,  192,  137,    4,  268],\n",
            "        [  10,   87,  203,  121,   24],\n",
            "        [2046,  945,    7, 3742,    4],\n",
            "        [   2,    5,  597,  218,  138],\n",
            "        [   1,  120,    2,    4,   85],\n",
            "        [3618,    9,    7,  241,  206],\n",
            "        [1345, 1444,    8,  577,    4],\n",
            "        [2881,   31,  451,   11,  107],\n",
            "        [ 552,  941,    7,  154,    3],\n",
            "        [   3,  153,    6,  190, 3097],\n",
            "        [ 595,    2,   90,    3, 2197],\n",
            "        [  47,    6,   73,    4, 3820],\n",
            "        [   3,   58,   16, 1698,    1],\n",
            "        [  30,   61,   10, 1432,   32],\n",
            "        [  45,   85,  983,    9,   39],\n",
            "        [ 641,    1,  341, 1377, 1717],\n",
            "        [   1,    1,    1,  173,    3],\n",
            "        [   5,  686,    2, 2073,    3],\n",
            "        [ 588,   20,   39,  234,    2],\n",
            "        [  24, 3066, 3947,    6,   17],\n",
            "        [   2,   93, 1227,   10,  441],\n",
            "        [  96,  240, 1609, 1031,    3],\n",
            "        [   2,    4,  257,  377,  483],\n",
            "        [4803,    1,  367,   36,   99],\n",
            "        [   9,  363,  182,   71,    4],\n",
            "        [   3,  568, 3801,    8,   31],\n",
            "        [ 417,   27,  248, 3592,    5],\n",
            "        [  21, 1857,  126,   68,    9],\n",
            "        [   8, 4216,  182,    2, 1238],\n",
            "        [   3,  263,  955, 1836, 4628],\n",
            "        [ 322,    5,   43,  314,   49],\n",
            "        [  93, 4215,    8,    3,   19],\n",
            "        [  24,   91,   14, 1049, 1287],\n",
            "        [  25,    1,    1,    1,  904],\n",
            "        [  28,   30,    1,   47,    2],\n",
            "        [   9,   84,  482,    3,   17],\n",
            "        [ 133,    3,   17, 1126,   14],\n",
            "        [ 284,   21,   32,    3,  518],\n",
            "        [   8,    6,   19,  119,    2],\n",
            "        [  11, 2514,  238, 2577,   36],\n",
            "        [   4,    8,   65, 1874,   11],\n",
            "        [1030, 2464,    2,  256,    6],\n",
            "        [   2,  175,    6,  638, 3491],\n",
            "        [2801,   34,   33,    5,  678],\n",
            "        [ 548,    5,  339,    6,   35],\n",
            "        [  92,  332,  936, 1515, 1069],\n",
            "        [4827,    7, 3815,    5,  407],\n",
            "        [ 936,  116,   41,  470,  382],\n",
            "        [   4,    8,   32,  306,   36],\n",
            "        [1781,  840,    2,    3,    4],\n",
            "        [   7, 3746,    9,   37,  397],\n",
            "        [   3, 1811,    5,   19, 1167],\n",
            "        [   7,   14,  386,   29, 2345],\n",
            "        [   2,    7,  445,  258,   10],\n",
            "        [   5,   67,   12,  247,    5],\n",
            "        [   5, 2312,   23,  269, 4590],\n",
            "        [  15,  152,   11,  452,   11],\n",
            "        [ 483,    9,   10,  122,    4],\n",
            "        [ 410,   14,  164,  780,  745],\n",
            "        [ 986,   14,  487,    9,   22],\n",
            "        [4767,   14,  622,    2,  561],\n",
            "        [   8,   19, 1167,    3, 3933],\n",
            "        [ 165,  206, 4289,    3,   17],\n",
            "        [3393,    6, 3394,    2,    4],\n",
            "        [  24,  194,   11, 1036,    7],\n",
            "        [ 124,   36,   17,   83,  502],\n",
            "        [  17,  633, 2260,    7,  600],\n",
            "        [   6,  503,  138,  363,    3],\n",
            "        [   3, 1152,  868,   42,  942],\n",
            "        [  22,  277,    2,    7,   12],\n",
            "        [1629,    2,    6,   13,  418],\n",
            "        [  10,  521,    6, 2068,   14],\n",
            "        [   1,    1,    1,    1,    1],\n",
            "        [  84,  550,   51, 4049,    2],\n",
            "        [  16,   13,  374, 3354,    9],\n",
            "        [3179,    8,   34,    3, 1122],\n",
            "        [ 192,  376,    2, 3049,   38],\n",
            "        [ 144,    3,  144,    7,   31],\n",
            "        [   3,  178,  112,  310,    5],\n",
            "        [1142,    2,    4,   18,   54],\n",
            "        [   2, 1471,    3,  280,  103],\n",
            "        [ 353,   22, 2367,   11,  643],\n",
            "        [  50,    5,  122,    9,  635],\n",
            "        [   2, 1489,    8,    6,   19],\n",
            "        [2765,    4,   33, 4114,   34],\n",
            "        [  81,   15,   45, 2369,  169],\n",
            "        [   1,  367,   36,   99,    6]]), tensor([ 526,    8,    2,  163, 1748, 1283,  262, 1046, 2849, 4078,   35,    3,\n",
            "          55,   48,   83,   32, 1780, 2087,    7,   69,  558,  189,   60,    8,\n",
            "           1,  269,   11, 1124, 1655,  188,    3,    1,  255,   86,    6,  362,\n",
            "          59,   10,  323,  904, 3164,  636,   91,    5,  818,  131,    5, 1097,\n",
            "          34,  318,    2,   53,   26,   12, 3442,  975,   74,  112,   13,  102,\n",
            "         172,   14,   40,  929,    6,  495,  211,  102,   39,    3,    6,   63,\n",
            "         430,    6,   20,   15,  427,  406,    2,    6, 1375,  739,  838,   20,\n",
            "           4,    1,  151,   93,    2,  487,    5,    4,   16,   63, 1058,    4,\n",
            "         133,  529, 3503,    3,  837, 1626,    2, 4201,   32,  445,    3,   18,\n",
            "        3783,    2, 2192, 4896,  184,    1,    7,  463,  375,    3,  409, 1288,\n",
            "          33,    3,    1,  131,  119,    5,  442,   30])]\n"
          ]
        }
      ],
      "source": [
        "train_loader = DataLoader(train_dataset, batch_size=batch_size, shuffle=True)\n",
        "val_loader = DataLoader(val_dataset, batch_size=batch_size, shuffle=True)\n",
        "\n",
        "sample = next(iter(train_loader))\n",
        "print(sample)"
      ]
    },
    {
      "cell_type": "markdown",
      "metadata": {
        "id": "-5_-Yud0zJ_K"
      },
      "source": [
        "## Model"
      ]
    },
    {
      "cell_type": "markdown",
      "metadata": {},
      "source": [
        "##### Implementação das camadas de self-attention"
      ]
    },
    {
      "cell_type": "code",
      "execution_count": 75,
      "metadata": {},
      "outputs": [
        {
          "name": "stdout",
          "output_type": "stream",
          "text": [
            "Initial Embedding dimensions: 128, 5, 256\n",
            "Scalar product dimensions: torch.Size([128, 5, 128])\n",
            "Softmax from scalar products: torch.Size([128, 5, 128])\n",
            "torch.Size([5, 128, 1])\n"
          ]
        },
        {
          "ename": "RuntimeError",
          "evalue": "The size of tensor a (5) must match the size of tensor b (128) at non-singleton dimension 1",
          "output_type": "error",
          "traceback": [
            "\u001b[1;31m---------------------------------------------------------------------------\u001b[0m",
            "\u001b[1;31mRuntimeError\u001b[0m                              Traceback (most recent call last)",
            "Cell \u001b[1;32mIn[75], line 41\u001b[0m\n\u001b[0;32m     39\u001b[0m p2 \u001b[38;5;241m=\u001b[39m p\u001b[38;5;241m.\u001b[39munsqueeze(\u001b[38;5;241m-\u001b[39m\u001b[38;5;241m1\u001b[39m)\n\u001b[0;32m     40\u001b[0m \u001b[38;5;28mprint\u001b[39m(p2\u001b[38;5;241m.\u001b[39msize())\n\u001b[1;32m---> 41\u001b[0m attn_embedding \u001b[38;5;241m+\u001b[39m\u001b[38;5;241m=\u001b[39m \u001b[43mv\u001b[49m\u001b[43m \u001b[49m\u001b[38;5;241;43m*\u001b[39;49m\u001b[43m \u001b[49m\u001b[43mp2\u001b[49m\n",
            "\u001b[1;31mRuntimeError\u001b[0m: The size of tensor a (5) must match the size of tensor b (128) at non-singleton dimension 1"
          ]
        }
      ],
      "source": [
        "# Loop implementation\n",
        "sample = next(iter(train_loader))\n",
        "input = sample[0]\n",
        "target = sample[1]\n",
        "\n",
        "embeddings = nn.Embedding(vocab_size+1, embedding_dim)\n",
        "embeds = embeddings(input)\n",
        "\n",
        "batch_size, sequence_length, embedding_dimension = embeds.size()\n",
        "print(f'Initial Embedding dimensions: {batch_size}, {sequence_length}, {embedding_dimension}')\n",
        "\n",
        "# New embeddings\n",
        "E = []\n",
        "for q in range(sequence_length):\n",
        "    scores = []\n",
        "    C_q = embeds[:,q,:]\n",
        "    for k in range(sequence_length):        \n",
        "        C_k = embeds[:,k,:]\n",
        "        \n",
        "        # Scalar product between the embeddings\n",
        "        score = torch.matmul(C_q, C_k.transpose(0,1))               \n",
        "        scores.append(score)\n",
        "    \n",
        "    # Stack the matrixes resulting from the scalar products\n",
        "    scores = torch.stack(scores, dim=1)\n",
        "    probs = F.softmax(scores, dim=1)\n",
        "\n",
        "    print(f'Scalar product dimensions: {scores.size()}')   \n",
        "    print(f'Softmax from scalar products: {probs.size()}') \n",
        "\n",
        "    attn_embedding = torch.zeros_like(C_q)\n",
        "\n",
        "    #for v, p in zip(range(sequence_length), probs):\n",
        "    #    C_v = embeds[:,v,:]\n",
        "    #    print(C_v.size())\n",
        "    #    print(p.size())\n",
        "\n",
        "    for v, p in zip(embeds, probs):\n",
        "        v_q = v\n",
        "        #attn_embedding += v * p2\n",
        "\n",
        "\n",
        "\n",
        "\n",
        "    \n",
        "\n",
        "    \n",
        "    \n",
        "\n",
        "\n"
      ]
    },
    {
      "cell_type": "code",
      "execution_count": 16,
      "metadata": {},
      "outputs": [],
      "source": [
        "class SelfAttention_Loop(nn.Module):\n",
        "  def __init__(self, dim):\n",
        "    super().__init__()\n",
        "\n",
        "  def forward(self, inputs):\n",
        "\n",
        "    return "
      ]
    },
    {
      "cell_type": "code",
      "execution_count": 17,
      "metadata": {
        "id": "I2qKG9YczJ_K"
      },
      "outputs": [],
      "source": [
        "class BengioModel(torch.nn.Module):\n",
        "    def __init__(self, vocab_size, embedding_dim, context_size, h):\n",
        "        super(BengioModel, self).__init__()\n",
        "        self.embeddings = nn.Embedding(vocab_size+1, embedding_dim)\n",
        "        self.linear1 = nn.Linear(context_size * embedding_dim, h)\n",
        "        self.relu = torch.nn.ReLU()\n",
        "        self.linear2 = nn.Linear(h, vocab_size+1)\n",
        "        # Softmax to scale outputs\n",
        "        self.logSoftMax = torch.nn.LogSoftmax(dim=1)\n",
        "\n",
        "    def forward(self, inputs):\n",
        "        embeds = self.embeddings(inputs)\n",
        "        # Flatten embeddings\n",
        "        embeds = embeds.view(embeds.size(0), -1)\n",
        "        # Linear layer\n",
        "        out = self.linear1(embeds)\n",
        "        out = self.relu(out)\n",
        "        # Second layer\n",
        "        out = self.linear2(out)\n",
        "        # Softmax output\n",
        "        out = self.logSoftMax(out)\n",
        "        return out"
      ]
    },
    {
      "cell_type": "code",
      "execution_count": 18,
      "metadata": {
        "id": "7yjQ1KXOzJ_K"
      },
      "outputs": [],
      "source": [
        "model = BengioModel(vocab_size, embedding_dim, context_size, hidden_dim)"
      ]
    },
    {
      "cell_type": "code",
      "execution_count": 19,
      "metadata": {
        "id": "xmsD59TfzJ_K"
      },
      "outputs": [
        {
          "name": "stdout",
          "output_type": "stream",
          "text": [
            "torch.Size([128, 5])\n",
            "torch.Size([128])\n"
          ]
        }
      ],
      "source": [
        "sample = next(iter(train_loader))\n",
        "input = sample[0]\n",
        "target = sample[1]\n",
        "\n",
        "print(input.shape)\n",
        "print(target.shape)"
      ]
    },
    {
      "cell_type": "code",
      "execution_count": 20,
      "metadata": {
        "id": "HGbJcT5KzJ_K"
      },
      "outputs": [
        {
          "name": "stdout",
          "output_type": "stream",
          "text": [
            "tensor([[-8.7484, -8.2451, -8.1889,  ..., -8.2732, -8.4269, -8.1852],\n",
            "        [-8.3926, -8.8102, -8.2098,  ..., -8.5874, -8.8011, -8.3385],\n",
            "        [-8.4746, -8.5855, -8.3107,  ..., -8.9544, -8.4054, -8.2674],\n",
            "        ...,\n",
            "        [-8.4366, -8.5997, -8.5453,  ..., -8.5630, -8.8300, -8.3888],\n",
            "        [-8.6142, -8.3435, -8.4402,  ..., -8.6073, -8.4968, -8.6075],\n",
            "        [-8.6048, -8.5584, -8.6162,  ..., -8.5801, -8.6487, -8.6064]],\n",
            "       grad_fn=<LogSoftmaxBackward0>)\n",
            "torch.Size([128, 5001])\n"
          ]
        }
      ],
      "source": [
        "output = model(input)\n",
        "print(output)\n",
        "print(output.shape)"
      ]
    },
    {
      "cell_type": "code",
      "execution_count": 21,
      "metadata": {
        "colab": {
          "base_uri": "https://localhost:8080/"
        },
        "id": "um0lR4mNzJ_K",
        "outputId": "e6041da8-ca7f-4c9d-b28b-9e1250e820f2"
      },
      "outputs": [
        {
          "data": {
            "text/plain": [
              "tensor([ 865, 4225, 3402,  671, 3830, 1979, 4673, 2354,  135,  964, 2340,  540,\n",
              "        1541, 2152, 4377, 2698,  646, 4376,  725, 1979,  725, 2565, 4431,  704,\n",
              "        1598, 2406,  704, 3121, 3474, 3610, 3993, 1443,  753,   57, 2816, 4606,\n",
              "        1632, 1888, 2354, 3296,  510, 1830, 1511,  834, 3309, 3289, 2752, 4326,\n",
              "        2051, 1254, 1888, 2807, 4968, 3674,  133, 3462,  413, 2842,  113, 3989,\n",
              "           9,  219, 4377, 2340,  473,  596, 3474,  842, 2354,  319,  475, 2340,\n",
              "        2316,   26, 1226, 3296, 3296, 3121, 1961,  877,  257, 4338,  768, 1201,\n",
              "        3340,  617,  239,  704, 2533, 1783, 3196,  113, 4158, 4944,  826, 4794,\n",
              "        4820, 3253, 1729, 1979, 1888, 2050, 4604,  113, 3474, 3317,  358, 4326,\n",
              "        4779, 2842, 2340,  228, 3679,  358, 1442,  540, 3032,  257, 1445, 3295,\n",
              "         405, 3474,  467, 4377, 3295, 2050, 2340, 3293])"
            ]
          },
          "execution_count": 21,
          "metadata": {},
          "output_type": "execute_result"
        }
      ],
      "source": [
        "output.argmax(dim=1)"
      ]
    },
    {
      "cell_type": "code",
      "execution_count": 22,
      "metadata": {
        "colab": {
          "base_uri": "https://localhost:8080/"
        },
        "id": "la-b-f8jzJ_L",
        "outputId": "f040cef4-e409-4d20-d335-a3133aaeb63c"
      },
      "outputs": [
        {
          "data": {
            "text/plain": [
              "tensor([  15,   34,   28,   47,   65,  859,    7,   11,    2, 2079, 1666,  683,\n",
              "          48,   32,  127,    1, 1626,   36,    2,   25,    1,   34,    9,  147,\n",
              "          98,    9,    1,   24,  813,  849, 3439, 2882,    1, 1436,   77,  201,\n",
              "           1, 1054,  646,    9, 3238,    4, 4314,   27,    6,   40,   15,    2,\n",
              "           5,  685,    1, 1859,    4,   13,    7,  597, 4424,    1,  989, 1935,\n",
              "           1,   48,    2,  945,   49,   29, 1454,  281,  248, 1865,  747,    4,\n",
              "          14,   17,  249,   17,   10,   15, 2006,   18,    2,    4,   12, 1006,\n",
              "           7,    5, 1701,  323,    1,    6,    1,  868,    1,  250,  134, 2329,\n",
              "          97,  272, 3963,    1, 2684, 1044,  185,   81,    1,  314,  486,    2,\n",
              "          96,    1,    7,   32,  250,    9, 1251, 4336,  318,    3,   36,   26,\n",
              "         172,  108,  123,  147,    3,    7,  189, 3890])"
            ]
          },
          "execution_count": 22,
          "metadata": {},
          "output_type": "execute_result"
        }
      ],
      "source": [
        "target"
      ]
    },
    {
      "cell_type": "markdown",
      "metadata": {
        "id": "UngUhyu7zJ_L"
      },
      "source": [
        "## Training"
      ]
    },
    {
      "cell_type": "code",
      "execution_count": 23,
      "metadata": {
        "colab": {
          "base_uri": "https://localhost:8080/"
        },
        "id": "wntaV50nzJ_L",
        "outputId": "a054092b-d801-4c60-eb75-85abfe57151d"
      },
      "outputs": [
        {
          "data": {
            "text/plain": [
              "device(type='cuda')"
            ]
          },
          "execution_count": 23,
          "metadata": {},
          "output_type": "execute_result"
        }
      ],
      "source": [
        "# Verifica se há uma GPU disponível e define o dispositivo para GPU se possível, caso contrário, usa a CPU\n",
        "device = torch.device('cuda' if torch.cuda.is_available() else 'cpu')\n",
        "device"
      ]
    },
    {
      "cell_type": "code",
      "execution_count": 24,
      "metadata": {
        "id": "vRwSPiwizJ_L"
      },
      "outputs": [
        {
          "data": {
            "text/plain": [
              "BengioModel(\n",
              "  (embeddings): Embedding(5001, 256)\n",
              "  (linear1): Linear(in_features=1280, out_features=128, bias=True)\n",
              "  (relu): ReLU()\n",
              "  (linear2): Linear(in_features=128, out_features=5001, bias=True)\n",
              "  (logSoftMax): LogSoftmax(dim=1)\n",
              ")"
            ]
          },
          "execution_count": 24,
          "metadata": {},
          "output_type": "execute_result"
        }
      ],
      "source": [
        "# Cross Entropy\n",
        "criterion = nn.CrossEntropyLoss()\n",
        "\n",
        "# Optimizer\n",
        "#optimizer = torch.optim.Adam(model.parameters(), lr)\n",
        "optimizer = torch.optim.SGD(model.parameters(), lr)\n",
        "\n",
        "model.to(device)"
      ]
    },
    {
      "cell_type": "code",
      "execution_count": 25,
      "metadata": {},
      "outputs": [
        {
          "name": "stdout",
          "output_type": "stream",
          "text": [
            "O modelo tem um total de 2,089,353 parâmetros.\n"
          ]
        }
      ],
      "source": [
        "def count_parameters(model):\n",
        "    return sum(p.numel() for p in model.parameters() if p.requires_grad)\n",
        "\n",
        "# Exemplo de uso:\n",
        "total_params = count_parameters(model)\n",
        "print(f'O modelo tem um total de {total_params:,} parâmetros.')"
      ]
    },
    {
      "cell_type": "code",
      "execution_count": 26,
      "metadata": {},
      "outputs": [
        {
          "name": "stdout",
          "output_type": "stream",
          "text": [
            "Initial Loss: 8.5289\n",
            "Initial Perplexity: 5059.0957\n"
          ]
        }
      ],
      "source": [
        "# Initial Perplexity and Loss\n",
        "# Before training\n",
        "model.eval()\n",
        "\n",
        "loss = 0\n",
        "perp = 0\n",
        "\n",
        "with torch.no_grad():\n",
        "    for inputs, targets in train_loader:\n",
        "        inputs = inputs.to(device)\n",
        "        targets = targets.to(device)\n",
        "        outputs = model(inputs)\n",
        "        loss += criterion(outputs, targets).item()\n",
        "\n",
        "loss /= len(train_loader)\n",
        "perp = torch.exp(torch.tensor(loss))\n",
        "\n",
        "print(f'Initial Loss: {loss:.4f}')\n",
        "print(f'Initial Perplexity: {perp:.4f}')"
      ]
    },
    {
      "cell_type": "code",
      "execution_count": 27,
      "metadata": {},
      "outputs": [
        {
          "name": "stdout",
          "output_type": "stream",
          "text": [
            "Epoch [1/10], Time:2.87, Loss: 6.4396, Accuracy: 0.11%, Perplexity: 626.1467\n",
            "Epoch [2/10], Time:2.90, Loss: 5.5832, Accuracy: 0.15%, Perplexity: 265.9138\n",
            "Epoch [3/10], Time:2.99, Loss: 5.2023, Accuracy: 0.18%, Perplexity: 181.6951\n",
            "Epoch [4/10], Time:2.86, Loss: 4.9114, Accuracy: 0.20%, Perplexity: 135.8340\n",
            "Epoch [5/10], Time:2.72, Loss: 4.6699, Accuracy: 0.22%, Perplexity: 106.6835\n",
            "Epoch [6/10], Time:2.83, Loss: 4.4505, Accuracy: 0.24%, Perplexity: 85.6692\n",
            "Epoch [7/10], Time:2.43, Loss: 4.2501, Accuracy: 0.26%, Perplexity: 70.1145\n",
            "Epoch [8/10], Time:2.57, Loss: 4.0578, Accuracy: 0.28%, Perplexity: 57.8459\n",
            "Epoch [9/10], Time:2.77, Loss: 3.8782, Accuracy: 0.30%, Perplexity: 48.3391\n",
            "Epoch [10/10], Time:2.93, Loss: 3.7028, Accuracy: 0.32%, Perplexity: 40.5608\n"
          ]
        }
      ],
      "source": [
        "# Training Loop\n",
        "model.train()\n",
        "for epoch in range(epochs):\n",
        "\n",
        "  epoch_start = time.time()\n",
        "  # Metrics\n",
        "  epoch_loss = 0\n",
        "  epoch_correct = 0\n",
        "  epoch_samples = 0\n",
        "\n",
        "  for inputs, targets in train_loader:\n",
        "        inputs = inputs.to(device)  # Move input data to the device\n",
        "        targets = targets.to(device)\n",
        "\n",
        "        # Forward pass\n",
        "        outputs = model(inputs)\n",
        "        loss = criterion(outputs, targets)\n",
        "\n",
        "        # Backward pass and optimization\n",
        "        optimizer.zero_grad()\n",
        "        loss.backward()\n",
        "        optimizer.step()\n",
        "\n",
        "        # Loss\n",
        "        epoch_loss += loss.item()\n",
        "\n",
        "        # Predicted\n",
        "        _, predicted = torch.max(outputs, 1)\n",
        "        epoch_correct += (predicted == targets).sum().item()\n",
        "        epoch_samples += targets.size(0)\n",
        "\n",
        "  # Calculate average loss and accuracy for epoch\n",
        "  avg_loss = epoch_loss / len(train_loader)\n",
        "  acc = epoch_correct / epoch_samples\n",
        "\n",
        "  # Perplexity\n",
        "  perp = torch.exp(torch.tensor(avg_loss))\n",
        "\n",
        "  epoch_end = time.time()\n",
        "  epoch_time = epoch_end - epoch_start\n",
        "  # Print epoch statistics\n",
        "  print(f'Epoch [{epoch+1}/{epochs}], Time:{epoch_time:.2f}, Loss: {avg_loss:.4f}, Accuracy: {acc:.2f}%, Perplexity: {perp:.4f}')\n"
      ]
    },
    {
      "cell_type": "markdown",
      "metadata": {
        "id": "PSXfwYISDoPN"
      },
      "source": [
        "## Avaliação"
      ]
    },
    {
      "cell_type": "code",
      "execution_count": 28,
      "metadata": {
        "id": "nXXO78GSDqPg"
      },
      "outputs": [
        {
          "name": "stdout",
          "output_type": "stream",
          "text": [
            "Test Accuracy: 19.41%\n",
            "Average Loss: 5.36\n",
            "Average Perplexity: 211.84\n"
          ]
        }
      ],
      "source": [
        "model.eval()\n",
        "\n",
        "loss_sum = 0\n",
        "total_sum = 0\n",
        "correct_sum = 0\n",
        "eval_round = 0\n",
        "\n",
        "loss = 0\n",
        "perp = 0\n",
        "\n",
        "with torch.no_grad():\n",
        "    for inputs, targets in val_loader:\n",
        "        inputs = inputs.to(device)\n",
        "        targets = targets.to(device)\n",
        "\n",
        "        outputs = model(inputs)\n",
        "        loss = criterion(outputs, targets)      \n",
        "        loss_sum += loss\n",
        "\n",
        "        # Get the predicted labels\n",
        "        _, predicted = torch.max(outputs, 1)\n",
        "\n",
        "        total_sum += targets.size(0)\n",
        "        correct_sum += (predicted == targets).sum().item()\n",
        "        eval_round += 1\n",
        "\n",
        "# Calculate accuracy\n",
        "acc = 100 * correct_sum / total_sum\n",
        "\n",
        "# Calculate average perplexity\n",
        "average_loss = loss_sum / len(val_loader)\n",
        "average_perplexity = torch.exp(average_loss)\n",
        "\n",
        "print(f'Test Accuracy: {acc:.2f}%')\n",
        "print(f'Average Loss: {average_loss:.2f}')\n",
        "print(f'Average Perplexity: {average_perplexity:.2f}')"
      ]
    },
    {
      "cell_type": "markdown",
      "metadata": {
        "id": "A1zhxVqfzJ_M"
      },
      "source": [
        "## Exemplo de uso"
      ]
    },
    {
      "cell_type": "code",
      "execution_count": 29,
      "metadata": {
        "id": "3PExkoWOzJ_M"
      },
      "outputs": [
        {
          "name": "stdout",
          "output_type": "stream",
          "text": [
            "Frase:  PAG. 111.--=Malvalisco=.\n",
            "[239, 1, 2265, 1, 4931]\n",
            "[239, 1, 2265, 1, 4931, 1]\n",
            "[239, 1, 2265, 1, 4931, 1, 50]\n",
            "[239, 1, 2265, 1, 4931, 1, 50, 54]\n",
            "[239, 1, 2265, 1, 4931, 1, 50, 54, 106]\n",
            "[239, 1, 2265, 1, 4931, 1, 50, 54, 106, 1242]\n",
            "[239, 1, 2265, 1, 4931, 1, 50, 54, 106, 1242, 10]\n",
            "[239, 1, 2265, 1, 4931, 1, 50, 54, 106, 1242, 10, 2663]\n",
            "[239, 1, 2265, 1, 4931, 1, 50, 54, 106, 1242, 10, 2663, 5]\n",
            "[239, 1, 2265, 1, 4931, 1, 50, 54, 106, 1242, 10, 2663, 5, 135]\n",
            "[239, 1, 2265, 1, 4931, 1, 50, 54, 106, 1242, 10, 2663, 5, 135, 198]\n",
            "\u001b[34m['pag', '.', '111', '.', 'malvalisco']\u001b[0m \u001b[31m['.', 'disse', 'ella', 'esse', 'laço', 'um', 'whatsoever', 'o', 'fez', 'outros']\u001b[0m \n"
          ]
        }
      ],
      "source": [
        "# Código adaptado da implementação do Cesar Bastos\n",
        "from colorama import Fore, Style\n",
        "\n",
        "text = cleaned_paragraphs\n",
        "model.to(device)\n",
        "def generate_text(model, vocab, text, max_length, context_size):\n",
        "    words = []\n",
        "    # Ensure there are enough words for at least one sequence\n",
        "    while len(words) < context_size:\n",
        "        random_number = random.randint(1, 4891)\n",
        "        words = encode_sentence(text[random_number], vocab)\n",
        "        if not words:\n",
        "            words = []\n",
        "            continue  # Skip if the sentence cannot be encoded\n",
        "        words = words[:context_size]\n",
        "        #print(words)\n",
        "        if any(token == 0 for token in words):\n",
        "            words = []\n",
        "            continue  # Skip if any token is zero (assuming 0 is a special token)\n",
        "        context = words\n",
        "\n",
        "    print(f\"Frase: {cleaned_paragraphs[random_number]}\")\n",
        "    print(words)\n",
        "\n",
        "    for _ in range(max_length):\n",
        "        words_tensor = torch.tensor(context[-context_size:], dtype=torch.long).unsqueeze(0).to(device)\n",
        "        logits = model(words_tensor)\n",
        "        probs = F.softmax(logits, dim=1)\n",
        "        next_token = torch.multinomial(probs, num_samples=1)\n",
        "        context.append(next_token.item())\n",
        "        print(context)\n",
        "    frase = []\n",
        "    for i in context: ##Agradecimentos a Ramon Abilio\n",
        "        word = next((word for word, code in vocab.items() if code == i), \"<UNKNOWN>\")\n",
        "        frase.append(word)\n",
        "\n",
        "    print(f\"{Fore.BLUE}{frase[:context_size]}{Style.RESET_ALL} {Fore.RED}{frase[-max_length:]}{Style.RESET_ALL} \")\n",
        "\n",
        "\n",
        "max_length= 10\n",
        "generate_text(model, vocab, text, max_length, context_size)"
      ]
    }
  ],
  "metadata": {
    "accelerator": "GPU",
    "colab": {
      "gpuType": "T4",
      "provenance": []
    },
    "kernelspec": {
      "display_name": "IA024",
      "language": "python",
      "name": "ia024"
    },
    "language_info": {
      "codemirror_mode": {
        "name": "ipython",
        "version": 3
      },
      "file_extension": ".py",
      "mimetype": "text/x-python",
      "name": "python",
      "nbconvert_exporter": "python",
      "pygments_lexer": "ipython3",
      "version": "3.11.4"
    }
  },
  "nbformat": 4,
  "nbformat_minor": 0
}
