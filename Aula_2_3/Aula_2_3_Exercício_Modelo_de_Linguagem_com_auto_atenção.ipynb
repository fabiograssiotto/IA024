{
  "cells": [
    {
      "cell_type": "markdown",
      "metadata": {
        "id": "fMI0JT_YuYF3"
      },
      "source": [
        "## Exercício: Modelo de Linguagem com auto-atenção\n",
        "\n",
        "Este exercício é similar ao da aula passada, mas iremos agora treinar uma rede neural *com auto-atenção* para prever a próxima palavra de um texto, data as palavras anteriores como entrada.\n",
        "\n",
        "Na camada de auto-atenção, deve-se implementar (vide slide 34):\n",
        "- Embeddings de posição\n",
        "- Projeções lineares (WQ, WK, WV, WO)\n",
        "- Camada de feed forward (2-layer MLP)\n",
        "\n",
        "Instrucões:\n",
        "- É necessário fazer duas implementações da camada de auto-atenção: uma usando laços (ineficiente, mas fácil de entender) e outra matricial (eficiente mas difícil de entender). Usar slide 36 como referência.\n",
        "\n",
        "- Fazer um assert para garantir que o resultado das duas implementações é exatamente igual.\n",
        "\n",
        "- No treinamento, usar apenas a implementação matricial."
      ]
    },
    {
      "cell_type": "markdown",
      "metadata": {},
      "source": [
        "## Imports"
      ]
    },
    {
      "cell_type": "code",
      "execution_count": 1,
      "metadata": {},
      "outputs": [],
      "source": [
        "import os\n",
        "import sys\n",
        "import random\n",
        "import torch.nn as nn\n",
        "import torch.nn.functional as F\n",
        "import time\n",
        "import math\n",
        "from sklearn.model_selection import train_test_split\n",
        "from torch import nn"
      ]
    },
    {
      "cell_type": "markdown",
      "metadata": {},
      "source": [
        "## Variáveis Globais e Inicialização"
      ]
    },
    {
      "cell_type": "code",
      "execution_count": 2,
      "metadata": {},
      "outputs": [],
      "source": [
        "# Global variables\n",
        "\n",
        "# Vocabulary\n",
        "vocab_size = 5000\n",
        "context_size = 5\n",
        "pattern = r'\\w+|[,;.:!?\\']'\n",
        "\n",
        "# Training\n",
        "batch_size = 128\n",
        "epochs = 10\n",
        "lr = 0.1\n",
        "\n",
        "# Model\n",
        "embedding_dim = 256\n",
        "hidden_dim = 128"
      ]
    },
    {
      "cell_type": "code",
      "execution_count": 3,
      "metadata": {},
      "outputs": [],
      "source": [
        "# Colab environment\n",
        "IN_COLAB = 'google.colab' in sys.modules\n",
        "\n",
        "if (IN_COLAB):\n",
        "    %pip install colorama\n",
        "\n",
        "    # Google Drive\n",
        "    from google.colab import drive\n",
        "    drive.mount('/content/drive', force_remount=True)\n",
        "\n",
        "    project_folder=\"/content/drive/MyDrive/Classes/IA024/Aula_2_3\"\n",
        "    os.chdir(project_folder)\n",
        "    !ls -la"
      ]
    },
    {
      "cell_type": "markdown",
      "metadata": {
        "id": "bYbkEzdD37sZ"
      },
      "source": [
        "## Faz download e carrega o dataset"
      ]
    },
    {
      "cell_type": "code",
      "execution_count": 4,
      "metadata": {
        "colab": {
          "base_uri": "https://localhost:8080/"
        },
        "id": "9qAnqY_q0beK",
        "outputId": "f810fdb0-138d-4917-b7ef-69ab266acef6"
      },
      "outputs": [],
      "source": [
        "# Check if download is necessary\n",
        "if not os.path.exists(\"67724.txt.utf-8\"):\n",
        "    print(\"Downloading Gutenberg texts\")\n",
        "\n",
        "    !wget https://www.gutenberg.org/ebooks/67724.txt.utf-8\n",
        "    !wget https://www.gutenberg.org/ebooks/67725.txt.utf-8"
      ]
    },
    {
      "cell_type": "code",
      "execution_count": 5,
      "metadata": {
        "colab": {
          "base_uri": "https://localhost:8080/"
        },
        "id": "6_UzC9pV091C",
        "outputId": "1553b04f-24c4-4027-8cab-0907f92f04df"
      },
      "outputs": [
        {
          "data": {
            "text/plain": [
              "4969"
            ]
          },
          "execution_count": 5,
          "metadata": {},
          "output_type": "execute_result"
        }
      ],
      "source": [
        "text = open(\"67724.txt.utf-8\",\"r\").read()\n",
        "text += open(\"67725.txt.utf-8\",\"r\").read()\n",
        "\n",
        "paragraphs = text.split(\"\\n\\n\")\n",
        "\n",
        "len(paragraphs)"
      ]
    },
    {
      "cell_type": "code",
      "execution_count": 6,
      "metadata": {},
      "outputs": [
        {
          "name": "stdout",
          "output_type": "stream",
          "text": [
            "The Project Gutenberg eBook of O Guarany: romance brazileiro, Vol. 1 (of 2)\n",
            "    \n",
            "This ebook is for the use of anyone anywhere in the United States and\n",
            "most other parts of the world at no cost and with almost no restrictions\n",
            "whatsoever. You may copy it, give it away or re-use it under the terms\n",
            "of the Project Gutenberg License included with this ebook or online\n",
            "at www.gutenberg.org. If you are not located in the United States,\n",
            "you will have to check the laws of the country where you are located\n",
            "before using this eBook.\n"
          ]
        }
      ],
      "source": [
        "# Checking the text\n",
        "print(paragraphs[0])"
      ]
    },
    {
      "cell_type": "code",
      "execution_count": 7,
      "metadata": {
        "colab": {
          "base_uri": "https://localhost:8080/"
        },
        "id": "UhUFjtNdDuG0",
        "outputId": "78798c0c-deca-4454-d3fb-7d3ba70f3e91"
      },
      "outputs": [
        {
          "name": "stdout",
          "output_type": "stream",
          "text": [
            "--Precisas de Pery? disse elle.\n",
            "\n",
            "--Mas, senhora, tu não vês que tuas mãos forão feitas para as flores e não para os espinhos; teus pés para brincar e não para andar; teu corpo para a sombra e não para o sol e a chuva?\n",
            "\n",
            "--A vossa falta é daquellas que não se perdoão, disse D. Antonio; mas estamos nesse momento extremo em que Deus manda esquecer todas as offensas. Levantai-vos e preparemo-nos todos para morrer como christãos.\n",
            "\n",
            "--Bem sabes que o aborreço!...\n",
            "\n",
            " XI\n",
            "\n",
            "Number of paragraphs: 4892\n"
          ]
        },
        {
          "data": {
            "text/plain": [
              "4892"
            ]
          },
          "execution_count": 7,
          "metadata": {},
          "output_type": "execute_result"
        }
      ],
      "source": [
        "cleaned_paragraphs = [paragraph.replace(\"\\n\", \" \") for paragraph in paragraphs if paragraph.strip()]\n",
        "\n",
        "# Print 5 random paragraphs\n",
        "num_paragraphs = len(cleaned_paragraphs)\n",
        "for i in range(0,5):\n",
        "    idx = random.randrange(num_paragraphs)\n",
        "    print(f\"{cleaned_paragraphs[idx]}\\n\")\n",
        "\n",
        "print(\"Number of paragraphs: \" + str(num_paragraphs))\n",
        "\n",
        "len(cleaned_paragraphs)"
      ]
    },
    {
      "cell_type": "markdown",
      "metadata": {
        "id": "bFVN2ihb33Rf"
      },
      "source": [
        "## Análise do dataset"
      ]
    },
    {
      "cell_type": "code",
      "execution_count": 8,
      "metadata": {
        "colab": {
          "base_uri": "https://localhost:8080/"
        },
        "id": "qSRHqe3H4ZFw",
        "outputId": "4a985c7a-ce1d-4b72-d253-c9fbbc5f9440"
      },
      "outputs": [
        {
          "data": {
            "text/plain": [
              "12610"
            ]
          },
          "execution_count": 8,
          "metadata": {},
          "output_type": "execute_result"
        }
      ],
      "source": [
        "# Conta as palavras no dataset\n",
        "from collections import Counter\n",
        "import re\n",
        "\n",
        "def count_words(texts):\n",
        "    word_counts = Counter()\n",
        "    for text in texts:\n",
        "        word_counts.update(re.findall(pattern, text.lower()))\n",
        "    return word_counts\n",
        "\n",
        "word_counts = count_words(cleaned_paragraphs)\n",
        "\n",
        "len(word_counts)"
      ]
    },
    {
      "cell_type": "markdown",
      "metadata": {
        "id": "EyGVDL9KzJ_I"
      },
      "source": [
        "## Criando um vocabulário"
      ]
    },
    {
      "cell_type": "code",
      "execution_count": 9,
      "metadata": {
        "id": "FiP7OCo9zJ_I"
      },
      "outputs": [],
      "source": [
        "most_frequent_words = [word for word, count in word_counts.most_common(vocab_size)]\n",
        "vocab = {word: i for i, word in enumerate(most_frequent_words, 1)}"
      ]
    },
    {
      "cell_type": "code",
      "execution_count": 10,
      "metadata": {},
      "outputs": [
        {
          "name": "stdout",
          "output_type": "stream",
          "text": [
            "Most Frequent Words: ['.', ',', 'a', 'que', 'o', 'de', 'e', 'se', ';', 'um']\n",
            "Vocabulary Size: 5000\n"
          ]
        }
      ],
      "source": [
        "print(f\"Most Frequent Words: {most_frequent_words[:10]}\")\n",
        "print(f\"Vocabulary Size: {len(vocab)}\")"
      ]
    },
    {
      "cell_type": "code",
      "execution_count": 11,
      "metadata": {
        "colab": {
          "base_uri": "https://localhost:8080/"
        },
        "id": "RhbhAsZbzJ_J",
        "outputId": "6a53c9e0-308d-4082-e225-cfa376e8f39a"
      },
      "outputs": [
        {
          "name": "stdout",
          "output_type": "stream",
          "text": [
            " Publicando este livro em 1857, se disse ser aquella primeira edição uma prova typographica, que algum dia talvez o autor se dispuzesse a rever.\n",
            "[0, 146, 4383, 23, 0, 2, 8, 50, 117, 276, 266, 2669, 13, 1071, 0, 2, 4, 193, 137, 287, 5, 2264, 8, 0, 3, 2672, 1]\n"
          ]
        }
      ],
      "source": [
        "def encode_sentence(sentence, vocab):\n",
        "    return [vocab.get(word, 0) for word in re.findall(pattern, sentence.lower())]\n",
        "\n",
        "print(cleaned_paragraphs[20])\n",
        "print(encode_sentence(cleaned_paragraphs[20], vocab))"
      ]
    },
    {
      "cell_type": "markdown",
      "metadata": {
        "id": "wia_ygbvzJ_J"
      },
      "source": [
        "## Classe do dataset"
      ]
    },
    {
      "cell_type": "code",
      "execution_count": 12,
      "metadata": {
        "id": "Iy-elI1magRR"
      },
      "outputs": [],
      "source": [
        "# Dataset class\n",
        "import torch\n",
        "from torch.utils.data import Dataset, DataLoader\n",
        "\n",
        "class CustomDataset(Dataset):\n",
        "  def __init__(self, paragraphs, vocab, context):\n",
        "    self.paragraphs = paragraphs\n",
        "    self.vocab = vocab\n",
        "    self.context = context\n",
        "    self.tokens, self.targets = self.setup()\n",
        "\n",
        "  def __len__(self):\n",
        "    return len(self.tokens)\n",
        "\n",
        "  def __getitem__(self, idx):\n",
        "    return torch.tensor(self.tokens[idx]), torch.tensor(self.targets[idx])\n",
        "  \n",
        "  def setup(self):\n",
        "    tokens = []\n",
        "    targets = []\n",
        "    for paragraph in self.paragraphs:\n",
        "      encoded = encode_sentence(paragraph, self.vocab)\n",
        "      \n",
        "      # If paragraph is smaller than the context, skip it.\n",
        "      if len(encoded) < self.context + 1:\n",
        "          continue\n",
        "\n",
        "      for i in range(len(encoded) - self.context):\n",
        "        tks = encoded[i:i+self.context]\n",
        "        tgt = encoded[i+self.context]\n",
        "        # Only add if there are no unknown tokens in both context and target.\n",
        "        bad_token = 0\n",
        "        if not (bad_token in tks or tgt == bad_token):\n",
        "          tokens.append(tks)\n",
        "          targets.append(tgt)\n",
        "    return tokens, targets\n"
      ]
    },
    {
      "cell_type": "code",
      "execution_count": 13,
      "metadata": {
        "colab": {
          "base_uri": "https://localhost:8080/"
        },
        "id": "aD1CVci2zJ_J",
        "outputId": "5bf0839e-f30e-4ff2-ed6f-4f3fda782b7c"
      },
      "outputs": [
        {
          "name": "stdout",
          "output_type": "stream",
          "text": [
            "Training samples: 3913\n",
            "Validation samples: 979\n",
            "\n",
            "Training dataset samples: 59646\n",
            "Validation dataset samples: 16215\n"
          ]
        }
      ],
      "source": [
        "# Train/Validation split\n",
        "train_data, val_data = train_test_split(cleaned_paragraphs, test_size=0.2, random_state=18)\n",
        "\n",
        "train_dataset = CustomDataset(train_data, vocab, context_size)\n",
        "val_dataset = CustomDataset(val_data, vocab, context_size)\n",
        "\n",
        "# Counting all Samples\n",
        "print(f\"Training samples: {len(train_data)}\")\n",
        "print(f\"Validation samples: {len(val_data)}\")\n",
        "print()\n",
        "print(f\"Training dataset samples: {len(train_dataset)}\")\n",
        "print(f\"Validation dataset samples: {len(val_dataset)}\")"
      ]
    },
    {
      "cell_type": "code",
      "execution_count": 14,
      "metadata": {
        "id": "gC0C5qn2zJ_J"
      },
      "outputs": [
        {
          "name": "stdout",
          "output_type": "stream",
          "text": [
            "[tensor([[   4,   29, 1082,  229,    6],\n",
            "        [   2,    7,   12,  314,   46],\n",
            "        [   7,   93, 1606,    6, 3792],\n",
            "        [   6,  854,    7,  556,  603],\n",
            "        [   2,    7, 1471,    3, 2136],\n",
            "        [  13, 3091,    9,  525,    8],\n",
            "        [4703,   51,  473,    2,    7],\n",
            "        [  14,  426,    2,    7,   77],\n",
            "        [   2, 4616,    5,  749,    6],\n",
            "        [ 868,  169,  736,   31,  421],\n",
            "        [3997,  638, 1008, 4813,  537],\n",
            "        [  22,  915,  277,    2,   50],\n",
            "        [   2, 1769,   11,  337,    6],\n",
            "        [ 384,  220,    5,   19, 2690],\n",
            "        [  42, 3132,    2, 2254,    3],\n",
            "        [ 923,   29,  193, 2549, 3574],\n",
            "        [   4, 1346, 2921,    7, 1192],\n",
            "        [ 156,    2,  167,  160,    9],\n",
            "        [1915,    4, 2438,   38,   40],\n",
            "        [3806,    2,   57,    2,    4],\n",
            "        [ 631, 4184,    2,   50,   10],\n",
            "        [  15, 1412,    6,   17,  696],\n",
            "        [   1,    1,    1,    1,    1],\n",
            "        [   1,    1,    1,    1,    1],\n",
            "        [   9,  649,   15, 4261,  212],\n",
            "        [  64,   20,  637,   54,    9],\n",
            "        [ 371, 3436,    6,   13,  138],\n",
            "        [   5,  186,   16,    5,   19],\n",
            "        [   2,   60,  296, 3062,   28],\n",
            "        [  33,   10,   42, 1545,   11],\n",
            "        [  11,  452,   14,  213,   34],\n",
            "        [  84, 3151,    9,  392,    2],\n",
            "        [   3,   17, 4056,   33, 3027],\n",
            "        [  59,  266,  124,   62,    4],\n",
            "        [  18,  154,    8,    3,   17],\n",
            "        [ 641,    1, 1384, 1718,   53],\n",
            "        [ 177,    4,  460,    7,   87],\n",
            "        [  77,    7,    5,  250, 2648],\n",
            "        [ 321,  169,    5, 1331,    6],\n",
            "        [ 108,   15,   45,  212,    2],\n",
            "        [   5,  303, 1119,  103, 4155],\n",
            "        [  18,   78, 1481,    8,  158],\n",
            "        [ 210,  507,    1,   12,   29],\n",
            "        [ 332, 3227,   90, 1728,  717],\n",
            "        [   6,  133, 1184, 1413,    2],\n",
            "        [ 398,    2,  344,   14,  503],\n",
            "        [  94,   33,   54,    2,    7],\n",
            "        [   6,  132,    3,  174,    6],\n",
            "        [   3,  943,    6,  160,  189],\n",
            "        [   7,  466,   62,   13,  333],\n",
            "        [ 382,  104, 1258,  420, 2659],\n",
            "        [ 262,   13,  556, 1293,    2],\n",
            "        [   2,  287,    3, 1302, 3019],\n",
            "        [ 104, 2226, 3291,  545,  746],\n",
            "        [  31,  451,   11,  107,    2],\n",
            "        [   2,    4, 2099,   10, 2961],\n",
            "        [  48,   63, 2384,  371, 3436],\n",
            "        [   7, 1639,  158, 2503,  444],\n",
            "        [ 618,    2,    5,    4,  368],\n",
            "        [ 234,    5, 2185,   14, 1678],\n",
            "        [   4,    3,   85,  388,    6],\n",
            "        [   6,   73, 1363,   19,  233],\n",
            "        [1159,  282, 1377,  544,    2],\n",
            "        [   3,   17,  943,    3, 1113],\n",
            "        [  15,  217,    2, 2637,   26],\n",
            "        [   8,  229,    6,  159, 1927],\n",
            "        [  87,    4, 4587,   13,  318],\n",
            "        [ 144,    6,   17,   57,    2],\n",
            "        [ 575,    2,    6,  452, 2389],\n",
            "        [  32,   13, 3307,    3,  969],\n",
            "        [ 552, 1574,   13,  128,   70],\n",
            "        [ 175,    6,   47,   73,  651],\n",
            "        [   4,  367,    3,  302,   83],\n",
            "        [  61,  277,  517, 1644,    2],\n",
            "        [  17,  396,    2,  519,    3],\n",
            "        [   8,  203, 1345,   14,   68],\n",
            "        [4719,    3,  265,  103,    3],\n",
            "        [  31,   17,  773,    2,    7],\n",
            "        [  10,   76, 1895,  917,    3],\n",
            "        [ 211,   24,   76,   23,    4],\n",
            "        [   8,   88,   56, 3733,  276],\n",
            "        [ 337,    9,   13,   93, 1045],\n",
            "        [1184, 1413,    2,    7,    4],\n",
            "        [3226,  148, 1377,  281,  155],\n",
            "        [ 854,    2,    4,  923,    5],\n",
            "        [ 890,  328, 1088,    9,   39],\n",
            "        [ 252,   59, 1555,   14,  947],\n",
            "        [ 663,    4,    5, 1774,    6],\n",
            "        [  46,  338,   11,    4,   15],\n",
            "        [   9,   33,   13, 2595, 1115],\n",
            "        [  31,   83,    6,  250,    2],\n",
            "        [  15,   55,   27,  207,   18],\n",
            "        [ 655,   18,    4,    5,   43],\n",
            "        [ 153,    2,   21,  848,    3],\n",
            "        [ 195, 1192,    2,   48,    6],\n",
            "        [   5, 1430,    9,   39,   21],\n",
            "        [4109,   11,   19,  144,   23],\n",
            "        [  21,   12,   33,   46,   11],\n",
            "        [  54,  629,    5, 1885,   24],\n",
            "        [   2,  127,  182, 2402,    1],\n",
            "        [  18, 1297,    3, 2629,    2],\n",
            "        [   1,    7,    1, 1715,   90],\n",
            "        [   1,    1,  173,    3,   58],\n",
            "        [  60,  193,  423,   25,   12],\n",
            "        [3301,  116,    3, 2245,   53],\n",
            "        [ 503, 1499,  121,   28,   12],\n",
            "        [ 342,    1,    1,    1, 1039],\n",
            "        [  15,   55, 3562,    2,  853],\n",
            "        [  36,   17, 1375,    2,   12],\n",
            "        [  11,    4,    8,  203,    2],\n",
            "        [ 102, 2535,   23, 2432,  200],\n",
            "        [   6, 1013,   94, 4231,    2],\n",
            "        [1014, 3618,    7,    6,   10],\n",
            "        [ 126, 1984,   32,  209,   24],\n",
            "        [ 183,  772,    6, 1272,    2],\n",
            "        [   6,  117,    3, 1302,  751],\n",
            "        [ 203,  121,   24,   91,    6],\n",
            "        [   2,   13, 2768,    5,   32],\n",
            "        [ 700,   31,  299,    2,  110],\n",
            "        [  39,   21, 4079,  130,   28],\n",
            "        [   9,   27,  759,  275,    3],\n",
            "        [  10, 1195, 1081,    2,  180],\n",
            "        [  35,    1,   39,  417,    4],\n",
            "        [  34,    3,   83, 1131,    3],\n",
            "        [2579,    5,  245,   14,  333],\n",
            "        [  33,  129,    3,  226,    6],\n",
            "        [2908,    9,   98,   24, 2726],\n",
            "        [   7,  779,   16,  589,    5]]), tensor([4700,  184,    3, 1210,    5,   14,    2,  329,  117,  144, 1060,   77,\n",
            "          19,    7,   83,    2,    1,    7,    9,  521,   42,    1,    1,    1,\n",
            "           4,   16,    4,  401,    5,   43,   22,   28,    5,    3,  157, 1382,\n",
            "           8,    3, 2942,  329,    2, 1985, 2250,   86,    7, 4024, 1043,  373,\n",
            "           2,    4,   53, 1374,  218,    1,    7, 4535,    6,    4,   36,    6,\n",
            "         225,    1, 1711,    4,  106,    6, 2794,   12,    2,   24,   16, 1212,\n",
            "          23,  262,   99,    1,  593,    4, 2047,    8, 1049,    4,  169,  286,\n",
            "         961,   35,    2,   17,  217,    4, 1243, 1137, 1862, 1811,  255,  237,\n",
            "         305,    4,  107, 1810, 1001,  140,    2, 2182,  420, 1425,  335,    3,\n",
            "          18,   49, 2944,   48,  202,   79,    7, 4730,  710,  924, 1169,  659,\n",
            "           2,    1,   44,  249,    9,    4,  407,  141])]\n"
          ]
        }
      ],
      "source": [
        "train_loader = DataLoader(train_dataset, batch_size=batch_size, shuffle=True)\n",
        "val_loader = DataLoader(val_dataset, batch_size=batch_size, shuffle=True)\n",
        "\n",
        "sample = next(iter(train_loader))\n",
        "print(sample)"
      ]
    },
    {
      "cell_type": "markdown",
      "metadata": {
        "id": "-5_-Yud0zJ_K"
      },
      "source": [
        "## Model"
      ]
    },
    {
      "cell_type": "markdown",
      "metadata": {},
      "source": [
        "#### Implementação das camadas de self-attention (Loop e Matricial)"
      ]
    },
    {
      "cell_type": "code",
      "execution_count": 15,
      "metadata": {},
      "outputs": [],
      "source": [
        "# Positional Embedding - as described in \"Attention is All You Need\"\n",
        "class PositionalEncoding(nn.Module):\n",
        "    def __init__(self, max_sequence, embedding_dim):\n",
        "        super().__init__()\n",
        "        self.positional_encoding = torch.zeros(max_sequence, embedding_dim)\n",
        "        \n",
        "        # List of positions from 0..max_sequence in vector form\n",
        "        position_list = torch.arange(0, max_sequence, dtype=torch.float)\n",
        "        position_list = position_list.unsqueeze(1)\n",
        "\n",
        "        div_term = torch.exp(torch.arange(0, embedding_dim, 2).float() * (-math.log(10000.0) / embedding_dim))\n",
        "\n",
        "        self.positional_encoding[:, 0::2] = torch.sin(position_list * div_term)\n",
        "        self.positional_encoding[:, 1::2] = torch.cos(position_list * div_term)\n",
        "        self.positional_encoding = self.positional_encoding.unsqueeze(0)\n",
        "    \n",
        "    def forward(self, x):\n",
        "        batch_size, seq_length, embedding_dim = x.size()\n",
        "        positional_encoding = self.positional_encoding[:, :seq_length, :]\n",
        "        positional_encoding = positional_encoding.to(x.device)\n",
        "        # Position encoding is added to the input embeddings.\n",
        "        return x + positional_encoding\n",
        "    "
      ]
    },
    {
      "cell_type": "code",
      "execution_count": 16,
      "metadata": {},
      "outputs": [],
      "source": [
        "# Adaptado da implementação do Ramon, muito elegante e traduziu bem o slide em aula.\n",
        "\n",
        "class SelfAttention_Loop(nn.Module):\n",
        "  def __init__(self, WQ, WK, WV, WO):\n",
        "    super(SelfAttention_Loop, self).__init__()\n",
        "    self.WQ = WQ\n",
        "    self.WK = WK\n",
        "    self.WV = WV\n",
        "    self.WO = WO\n",
        "\n",
        "  def forward(self, seq):\n",
        "    E = []  \n",
        "    for Xq in seq:\n",
        "        q = self.WQ(Xq)\n",
        "        scores = []\n",
        "        for Xk in seq:\n",
        "            k = self.WK(Xk)\n",
        "            score = torch.dot(q, k.transpose(-1,0))\n",
        "            scores.append(score)\n",
        "\n",
        "        scores_tensor = torch.tensor(scores)  \n",
        "        probs         = scores_tensor.softmax(dim=-1)\n",
        "\n",
        "        e = 0\n",
        "        for xv, p in zip(seq, probs):\n",
        "            v = self.WV(xv)\n",
        "            e += v * p\n",
        "\n",
        "        e = self.WO(e)\n",
        "        E.append(e)\n",
        "\n",
        "    return torch.stack(E) "
      ]
    },
    {
      "cell_type": "code",
      "execution_count": 28,
      "metadata": {},
      "outputs": [],
      "source": [
        "# Matrix Implementation\n",
        "class SelfAttention_Matrix(nn.Module):\n",
        "  def __init__(self, embedding_dim):\n",
        "    super().__init__()\n",
        "\n",
        "    self.WQ = nn.Linear(embedding_dim, embedding_dim)\n",
        "    self.WK = nn.Linear(embedding_dim, embedding_dim)\n",
        "    self.WV = nn.Linear(embedding_dim, embedding_dim)\n",
        "    self.WO = nn.Linear(embedding_dim, vocab_size)\n",
        "\n",
        "  def forward(self, inputs):\n",
        "    # Linear projections\n",
        "    Q = self.WQ(inputs)\n",
        "    K = self.WK(inputs)\n",
        "    V = self.WV(inputs)\n",
        "\n",
        "    scores = torch.matmul(Q, K.transpose(-2, -1))\n",
        "    probs = F.softmax(scores, dim=-1)\n",
        "    new_embedding = torch.matmul(probs, V)\n",
        "    # Projection in WO\n",
        "    new_embedding = self.WO(new_embedding)\n",
        "    return new_embedding\n",
        "\n",
        "# For testing purposes only\n",
        "class SelfAttention_Matrix_tst(nn.Module):\n",
        "  def __init__(self, WQ, WK, WV, WO):\n",
        "    super(SelfAttention_Matrix_tst, self).__init__()\n",
        "    self.WQ = WQ\n",
        "    self.WK = WK\n",
        "    self.WV = WV\n",
        "    self.WO = WO\n",
        "\n",
        "  def forward(self, inputs):\n",
        "    # Linear projections\n",
        "    Q = self.WQ(inputs)\n",
        "    K = self.WK(inputs)\n",
        "    V = self.WV(inputs)\n",
        "\n",
        "    scores = torch.matmul(Q, K.transpose(-2, -1))\n",
        "    probs = F.softmax(scores, dim=-1)\n",
        "    new_embedding = torch.matmul(probs, V)\n",
        "    # Projection in WO\n",
        "    new_embedding = self.WO(new_embedding)\n",
        "    return new_embedding"
      ]
    },
    {
      "cell_type": "markdown",
      "metadata": {},
      "source": [
        "### Teste das Camadas de Atenção"
      ]
    },
    {
      "cell_type": "code",
      "execution_count": 18,
      "metadata": {},
      "outputs": [
        {
          "name": "stdout",
          "output_type": "stream",
          "text": [
            "Loop Embeds:\n",
            "tensor([[-0.2173,  0.2699,  0.6123, -0.2549, -0.2727,  0.1416,  0.3101,  0.0980,\n",
            "          0.1448,  0.2116],\n",
            "        [-0.1707,  0.2223,  0.5366, -0.1959, -0.1052,  0.0558,  0.2751,  0.0727,\n",
            "          0.0592,  0.1493],\n",
            "        [-0.1075,  0.1278,  0.3656, -0.1041,  0.0171, -0.0250,  0.2560,  0.1537,\n",
            "          0.0122,  0.1725],\n",
            "        [-0.1750,  0.2162,  0.5186, -0.1977, -0.1627,  0.0788,  0.2909,  0.1181,\n",
            "          0.0941,  0.1961],\n",
            "        [-0.1075,  0.1278,  0.3656, -0.1041,  0.0171, -0.0250,  0.2560,  0.1537,\n",
            "          0.0122,  0.1725]], grad_fn=<StackBackward0>)\n",
            "Matrix Embeds:\n",
            "tensor([[-0.2173,  0.2699,  0.6123, -0.2549, -0.2727,  0.1416,  0.3101,  0.0980,\n",
            "          0.1448,  0.2116],\n",
            "        [-0.1707,  0.2223,  0.5366, -0.1959, -0.1052,  0.0558,  0.2751,  0.0727,\n",
            "          0.0592,  0.1493],\n",
            "        [-0.1075,  0.1278,  0.3656, -0.1041,  0.0171, -0.0250,  0.2560,  0.1537,\n",
            "          0.0122,  0.1725],\n",
            "        [-0.1750,  0.2162,  0.5186, -0.1977, -0.1627,  0.0788,  0.2909,  0.1181,\n",
            "          0.0941,  0.1961],\n",
            "        [-0.1075,  0.1278,  0.3656, -0.1041,  0.0171, -0.0250,  0.2560,  0.1537,\n",
            "          0.0122,  0.1725]], grad_fn=<AddmmBackward0>)\n",
            "\n",
            "Loop and Matrix results are the same: True\n"
          ]
        }
      ],
      "source": [
        "# Test data\n",
        "tst_dim = 5\n",
        "tst_vocab = 10\n",
        "data = torch.randint(0, tst_vocab, (tst_dim,))\n",
        "embedding = nn.Embedding(tst_vocab, tst_dim)\n",
        "embeds = embedding(data)\n",
        "\n",
        "# Projections (need to be the same for this test)\n",
        "WQ = nn.Linear(tst_dim, tst_dim)\n",
        "WK = nn.Linear(tst_dim, tst_dim)\n",
        "WV = nn.Linear(tst_dim, tst_dim)\n",
        "WO = nn.Linear(tst_dim, tst_vocab)\n",
        "\n",
        "# Loop\n",
        "attn_loop = SelfAttention_Loop(WQ, WK, WV, WO)\n",
        "embeds_attn_loop = attn_loop(embeds)\n",
        "# Matrix\n",
        "attn_matrix = SelfAttention_Matrix_tst(WQ, WK, WV, WO)\n",
        "embeds_attn_matrix = attn_matrix(embeds)\n",
        "\n",
        "print(\"Loop Embeds:\")\n",
        "print(embeds_attn_loop)\n",
        "\n",
        "print(\"Matrix Embeds:\")\n",
        "print(embeds_attn_matrix)\n",
        "\n",
        "# Check results\n",
        "print()\n",
        "print(f'Loop and Matrix results are the same: {torch.allclose(embeds_attn_loop, embeds_attn_matrix)}')"
      ]
    },
    {
      "cell_type": "code",
      "execution_count": 19,
      "metadata": {},
      "outputs": [],
      "source": [
        "class BengioModel_SelfAttentionMatrix(torch.nn.Module):\n",
        "    def __init__(self, vocab_size, embedding_dim, context_size, h):\n",
        "        super(BengioModel_SelfAttentionMatrix, self).__init__()\n",
        "        self.embeddings = nn.Embedding(vocab_size+1, embedding_dim)\n",
        "        self.attention = SelfAttention_Matrix(embedding_dim)        \n",
        "        self.linear1 = nn.Linear(context_size * embedding_dim, h)\n",
        "        self.relu = torch.nn.ReLU()\n",
        "        self.linear2 = nn.Linear(h, vocab_size+1)\n",
        "        # Softmax to scale outputs\n",
        "        self.logSoftMax = torch.nn.LogSoftmax(dim=1)\n",
        "\n",
        "    def forward(self, inputs):\n",
        "        embeds = self.embeddings(inputs)\n",
        "        x = torch.stack(torch.unbind(embeds, dim=1), dim=1)\n",
        "        # Camada de autoatenção\n",
        "        attention  = self.attention(x)\n",
        "        # Flatten embeddings\n",
        "        embeds = embeds.view(attention.size(0), -1)\n",
        "        # Linear layer\n",
        "        out = self.linear1(embeds)\n",
        "        out = self.relu(out)\n",
        "        # Second layer\n",
        "        out = self.linear2(out)\n",
        "        # Softmax output\n",
        "        out = self.logSoftMax(out)\n",
        "        return out"
      ]
    },
    {
      "cell_type": "code",
      "execution_count": 20,
      "metadata": {
        "id": "I2qKG9YczJ_K"
      },
      "outputs": [],
      "source": [
        "class BengioModel(torch.nn.Module):\n",
        "    def __init__(self, vocab_size, embedding_dim, context_size, h):\n",
        "        super(BengioModel, self).__init__()\n",
        "        self.embeddings = nn.Embedding(vocab_size+1, embedding_dim)\n",
        "        self.linear1 = nn.Linear(context_size * embedding_dim, h)\n",
        "        self.relu = torch.nn.ReLU()\n",
        "        self.linear2 = nn.Linear(h, vocab_size+1)\n",
        "        # Softmax to scale outputs\n",
        "        self.logSoftMax = torch.nn.LogSoftmax(dim=1)\n",
        "\n",
        "    def forward(self, inputs):\n",
        "        embeds = self.embeddings(inputs)\n",
        "        # Flatten embeddings\n",
        "        embeds = embeds.view(embeds.size(0), -1)\n",
        "        # Linear layer\n",
        "        out = self.linear1(embeds)\n",
        "        out = self.relu(out)\n",
        "        # Second layer\n",
        "        out = self.linear2(out)\n",
        "        # Softmax output\n",
        "        out = self.logSoftMax(out)\n",
        "        return out"
      ]
    },
    {
      "cell_type": "markdown",
      "metadata": {},
      "source": [
        "## Funções de Treinamento e Avaliação do Modelo"
      ]
    },
    {
      "cell_type": "code",
      "execution_count": 21,
      "metadata": {},
      "outputs": [],
      "source": [
        "def count_parameters(model):\n",
        "    total_params = sum(p.numel() for p in model.parameters() if p.requires_grad)\n",
        "    print(f'The model has a total of {total_params:,} parameters.')"
      ]
    },
    {
      "cell_type": "code",
      "execution_count": 22,
      "metadata": {},
      "outputs": [],
      "source": [
        "def initial_eval(model):\n",
        "    # Initial Perplexity and Loss\n",
        "    # Before training\n",
        "    model.eval()\n",
        "\n",
        "    loss = 0\n",
        "    perp = 0\n",
        "\n",
        "    with torch.no_grad():\n",
        "        for inputs, targets in train_loader:\n",
        "            inputs = inputs.to(device)\n",
        "            targets = targets.to(device)\n",
        "            outputs = model(inputs)\n",
        "            loss += criterion(outputs, targets).item()\n",
        "\n",
        "    loss /= len(train_loader)\n",
        "    perp = torch.exp(torch.tensor(loss))\n",
        "\n",
        "    print(f'Initial Loss: {loss:.4f}')\n",
        "    print(f'Initial Perplexity: {perp:.4f}')"
      ]
    },
    {
      "cell_type": "code",
      "execution_count": 23,
      "metadata": {},
      "outputs": [],
      "source": [
        "def train(model, criterion, optimizer):\n",
        "      # Training Loop\n",
        "      model.train()\n",
        "      for epoch in range(epochs):\n",
        "\n",
        "            epoch_start = time.time()\n",
        "            # Metrics\n",
        "            epoch_loss = 0\n",
        "            epoch_correct = 0\n",
        "            epoch_samples = 0\n",
        "\n",
        "            for inputs, targets in train_loader:\n",
        "                  inputs = inputs.to(device)  # Move input data to the device\n",
        "                  targets = targets.to(device)\n",
        "\n",
        "                  # Forward pass\n",
        "                  outputs = model(inputs)\n",
        "                  loss = criterion(outputs, targets)\n",
        "\n",
        "                  # Backward pass and optimization\n",
        "                  optimizer.zero_grad()\n",
        "                  loss.backward()\n",
        "                  optimizer.step()\n",
        "\n",
        "                  # Loss\n",
        "                  epoch_loss += loss.item()\n",
        "\n",
        "                  # Predicted\n",
        "                  _, predicted = torch.max(outputs, 1)\n",
        "                  epoch_correct += (predicted == targets).sum().item()\n",
        "                  epoch_samples += targets.size(0)\n",
        "\n",
        "            # Calculate average loss and accuracy for epoch\n",
        "            avg_loss = epoch_loss / len(train_loader)\n",
        "            acc = epoch_correct / epoch_samples\n",
        "\n",
        "            # Perplexity\n",
        "            perp = torch.exp(torch.tensor(avg_loss))\n",
        "\n",
        "            epoch_end = time.time()\n",
        "            epoch_time = epoch_end - epoch_start\n",
        "            # Print epoch statistics\n",
        "            print(f'Epoch [{epoch+1}/{epochs}], Time:{epoch_time:.2f}, Loss: {avg_loss:.4f}, Accuracy: {acc:.2f}%, Perplexity: {perp:.4f}')\n"
      ]
    },
    {
      "cell_type": "code",
      "execution_count": 24,
      "metadata": {
        "id": "nXXO78GSDqPg"
      },
      "outputs": [],
      "source": [
        "def eval(model, criterion):\n",
        "    model.eval()\n",
        "\n",
        "    loss_sum = 0\n",
        "    total_sum = 0\n",
        "    correct_sum = 0\n",
        "    eval_round = 0\n",
        "\n",
        "    loss = 0\n",
        "    perp = 0\n",
        "\n",
        "    with torch.no_grad():\n",
        "        for inputs, targets in val_loader:\n",
        "            inputs = inputs.to(device)\n",
        "            targets = targets.to(device)\n",
        "\n",
        "            outputs = model(inputs)\n",
        "            loss = criterion(outputs, targets)      \n",
        "            loss_sum += loss\n",
        "\n",
        "            # Get the predicted labels\n",
        "            _, predicted = torch.max(outputs, 1)\n",
        "\n",
        "            total_sum += targets.size(0)\n",
        "            correct_sum += (predicted == targets).sum().item()\n",
        "            eval_round += 1\n",
        "\n",
        "    # Calculate accuracy\n",
        "    acc = 100 * correct_sum / total_sum\n",
        "\n",
        "    # Calculate average perplexity\n",
        "    average_loss = loss_sum / len(val_loader)\n",
        "    average_perplexity = torch.exp(average_loss)\n",
        "\n",
        "    print(f'Test Accuracy: {acc:.2f}%')\n",
        "    print(f'Average Loss: {average_loss:.2f}')\n",
        "    print(f'Average Perplexity: {average_perplexity:.2f}')"
      ]
    },
    {
      "cell_type": "code",
      "execution_count": 25,
      "metadata": {},
      "outputs": [
        {
          "data": {
            "text/plain": [
              "device(type='cuda')"
            ]
          },
          "execution_count": 25,
          "metadata": {},
          "output_type": "execute_result"
        }
      ],
      "source": [
        "device = torch.device('cuda' if torch.cuda.is_available() else 'cpu')\n",
        "device"
      ]
    },
    {
      "cell_type": "markdown",
      "metadata": {},
      "source": [
        "## 1. Sem camada de atenção"
      ]
    },
    {
      "cell_type": "code",
      "execution_count": 26,
      "metadata": {},
      "outputs": [
        {
          "name": "stdout",
          "output_type": "stream",
          "text": [
            "Model without Self Attention:\n",
            "\n",
            "The model has a total of 2,089,353 parameters.\n",
            "\n",
            "Training Start\n",
            "\n",
            "Epoch [1/10], Time:5.64, Loss: 6.4502, Accuracy: 0.11%, Perplexity: 632.8126\n",
            "Epoch [2/10], Time:2.82, Loss: 5.5790, Accuracy: 0.15%, Perplexity: 264.8025\n",
            "Epoch [3/10], Time:2.55, Loss: 5.1947, Accuracy: 0.18%, Perplexity: 180.3141\n",
            "Epoch [4/10], Time:2.73, Loss: 4.9040, Accuracy: 0.20%, Perplexity: 134.8277\n",
            "Epoch [5/10], Time:2.87, Loss: 4.6603, Accuracy: 0.22%, Perplexity: 105.6705\n",
            "Epoch [6/10], Time:3.10, Loss: 4.4451, Accuracy: 0.24%, Perplexity: 85.2074\n",
            "Epoch [7/10], Time:2.96, Loss: 4.2440, Accuracy: 0.26%, Perplexity: 69.6866\n",
            "Epoch [8/10], Time:2.97, Loss: 4.0530, Accuracy: 0.28%, Perplexity: 57.5683\n",
            "Epoch [9/10], Time:3.03, Loss: 3.8716, Accuracy: 0.30%, Perplexity: 48.0209\n",
            "Epoch [10/10], Time:3.02, Loss: 3.6953, Accuracy: 0.32%, Perplexity: 40.2578\n",
            "\n",
            "Evaluation Start\n",
            "\n",
            "Test Accuracy: 19.11%\n",
            "Average Loss: 5.32\n",
            "Average Perplexity: 204.95\n"
          ]
        }
      ],
      "source": [
        "model = BengioModel(vocab_size, embedding_dim, context_size, hidden_dim)\n",
        "print(\"Model without Self Attention:\")\n",
        "print()\n",
        "count_parameters(model)\n",
        "\n",
        "# Cross Entropy\n",
        "criterion = nn.CrossEntropyLoss()\n",
        "\n",
        "# Optimizer\n",
        "optimizer = torch.optim.SGD(model.parameters(), lr)\n",
        "\n",
        "model.to(device)\n",
        "\n",
        "print()\n",
        "print(\"Training Start\")\n",
        "print()\n",
        "train(model, criterion, optimizer)\n",
        "\n",
        "print()\n",
        "print(\"Evaluation Start\")\n",
        "print()\n",
        "eval(model, criterion)"
      ]
    },
    {
      "cell_type": "markdown",
      "metadata": {},
      "source": [
        "## 2. Com camada de atenção"
      ]
    },
    {
      "cell_type": "code",
      "execution_count": 29,
      "metadata": {},
      "outputs": [
        {
          "name": "stdout",
          "output_type": "stream",
          "text": [
            "Model with Self Attention:\n",
            "\n",
            "The model has a total of 3,571,729 parameters.\n",
            "\n",
            "Training Start\n",
            "\n",
            "Epoch [1/10], Time:3.50, Loss: 6.4457, Accuracy: 0.11%, Perplexity: 630.0162\n",
            "Epoch [2/10], Time:3.28, Loss: 5.5807, Accuracy: 0.15%, Perplexity: 265.2518\n",
            "Epoch [3/10], Time:3.29, Loss: 5.1977, Accuracy: 0.18%, Perplexity: 180.8607\n",
            "Epoch [4/10], Time:3.14, Loss: 4.9091, Accuracy: 0.20%, Perplexity: 135.5202\n",
            "Epoch [5/10], Time:3.25, Loss: 4.6662, Accuracy: 0.22%, Perplexity: 106.2960\n",
            "Epoch [6/10], Time:3.30, Loss: 4.4488, Accuracy: 0.24%, Perplexity: 85.5281\n",
            "Epoch [7/10], Time:3.22, Loss: 4.2458, Accuracy: 0.26%, Perplexity: 69.8131\n",
            "Epoch [8/10], Time:3.24, Loss: 4.0557, Accuracy: 0.28%, Perplexity: 57.7236\n",
            "Epoch [9/10], Time:3.28, Loss: 3.8739, Accuracy: 0.30%, Perplexity: 48.1275\n",
            "Epoch [10/10], Time:3.14, Loss: 3.6979, Accuracy: 0.32%, Perplexity: 40.3609\n",
            "\n",
            "Evaluation Start\n",
            "\n",
            "Test Accuracy: 19.32%\n",
            "Average Loss: 5.32\n",
            "Average Perplexity: 203.83\n"
          ]
        }
      ],
      "source": [
        "model_attn = BengioModel_SelfAttentionMatrix(vocab_size, embedding_dim, context_size, hidden_dim)\n",
        "print(\"Model with Self Attention:\")\n",
        "print()\n",
        "count_parameters(model_attn)\n",
        "\n",
        "# Cross Entropy\n",
        "criterion = nn.CrossEntropyLoss()\n",
        "\n",
        "# Optimizer\n",
        "optimizer = torch.optim.SGD(model_attn.parameters(), lr)\n",
        "\n",
        "model_attn.to(device)\n",
        "\n",
        "print()\n",
        "print(\"Training Start\")\n",
        "print()\n",
        "train(model_attn, criterion, optimizer)\n",
        "\n",
        "print()\n",
        "print(\"Evaluation Start\")\n",
        "print()\n",
        "eval(model_attn, criterion)"
      ]
    }
  ],
  "metadata": {
    "accelerator": "GPU",
    "colab": {
      "gpuType": "T4",
      "provenance": []
    },
    "kernelspec": {
      "display_name": "IA024",
      "language": "python",
      "name": "ia024"
    },
    "language_info": {
      "codemirror_mode": {
        "name": "ipython",
        "version": 3
      },
      "file_extension": ".py",
      "mimetype": "text/x-python",
      "name": "python",
      "nbconvert_exporter": "python",
      "pygments_lexer": "ipython3",
      "version": "3.11.4"
    }
  },
  "nbformat": 4,
  "nbformat_minor": 0
}
