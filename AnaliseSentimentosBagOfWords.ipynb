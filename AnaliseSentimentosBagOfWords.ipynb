{
  "cells": [
    {
      "cell_type": "markdown",
      "metadata": {
        "id": "9A4HuVIYGgXg"
      },
      "source": [
        "# Notebook Processo Seletivo Aluno Especial IA-024 1S2024 FEEC-UNICAMP\n",
        "versão 5 de fevereiro de 2024, 19h"
      ]
    },
    {
      "cell_type": "code",
      "execution_count": 1,
      "metadata": {
        "colab": {
          "base_uri": "https://localhost:8080/"
        },
        "id": "HA5BWLDCKmw3",
        "outputId": "de1d4b42-dd18-4605-d09b-ad3e22f27475"
      },
      "outputs": [
        {
          "name": "stdout",
          "output_type": "stream",
          "text": [
            "Requirement already satisfied: torchtext in c:\\users\\fabio.grassiotto\\research\\venv\\ml\\lib\\site-packages (0.17.0)\n",
            "Requirement already satisfied: tqdm in c:\\users\\fabio.grassiotto\\research\\venv\\ml\\lib\\site-packages (from torchtext) (4.66.1)\n",
            "Requirement already satisfied: requests in c:\\users\\fabio.grassiotto\\research\\venv\\ml\\lib\\site-packages (from torchtext) (2.31.0)\n",
            "Requirement already satisfied: torch==2.2.0 in c:\\users\\fabio.grassiotto\\research\\venv\\ml\\lib\\site-packages (from torchtext) (2.2.0+cu118)\n",
            "Requirement already satisfied: numpy in c:\\users\\fabio.grassiotto\\research\\venv\\ml\\lib\\site-packages (from torchtext) (1.26.3)\n",
            "Requirement already satisfied: torchdata==0.7.1 in c:\\users\\fabio.grassiotto\\research\\venv\\ml\\lib\\site-packages (from torchtext) (0.7.1)\n",
            "Requirement already satisfied: filelock in c:\\users\\fabio.grassiotto\\research\\venv\\ml\\lib\\site-packages (from torch==2.2.0->torchtext) (3.9.0)\n",
            "Requirement already satisfied: typing-extensions>=4.8.0 in c:\\users\\fabio.grassiotto\\research\\venv\\ml\\lib\\site-packages (from torch==2.2.0->torchtext) (4.8.0)\n",
            "Requirement already satisfied: sympy in c:\\users\\fabio.grassiotto\\research\\venv\\ml\\lib\\site-packages (from torch==2.2.0->torchtext) (1.12)\n",
            "Requirement already satisfied: networkx in c:\\users\\fabio.grassiotto\\research\\venv\\ml\\lib\\site-packages (from torch==2.2.0->torchtext) (3.2.1)\n",
            "Requirement already satisfied: jinja2 in c:\\users\\fabio.grassiotto\\research\\venv\\ml\\lib\\site-packages (from torch==2.2.0->torchtext) (3.1.2)\n",
            "Requirement already satisfied: fsspec in c:\\users\\fabio.grassiotto\\research\\venv\\ml\\lib\\site-packages (from torch==2.2.0->torchtext) (2023.4.0)\n",
            "Requirement already satisfied: urllib3>=1.25 in c:\\users\\fabio.grassiotto\\research\\venv\\ml\\lib\\site-packages (from torchdata==0.7.1->torchtext) (1.26.13)\n",
            "Requirement already satisfied: charset-normalizer<4,>=2 in c:\\users\\fabio.grassiotto\\research\\venv\\ml\\lib\\site-packages (from requests->torchtext) (2.1.1)\n",
            "Requirement already satisfied: idna<4,>=2.5 in c:\\users\\fabio.grassiotto\\research\\venv\\ml\\lib\\site-packages (from requests->torchtext) (3.4)\n",
            "Requirement already satisfied: certifi>=2017.4.17 in c:\\users\\fabio.grassiotto\\research\\venv\\ml\\lib\\site-packages (from requests->torchtext) (2022.12.7)\n",
            "Requirement already satisfied: colorama in c:\\users\\fabio.grassiotto\\research\\venv\\ml\\lib\\site-packages (from tqdm->torchtext) (0.4.6)\n",
            "Requirement already satisfied: MarkupSafe>=2.0 in c:\\users\\fabio.grassiotto\\research\\venv\\ml\\lib\\site-packages (from jinja2->torch==2.2.0->torchtext) (2.1.3)\n",
            "Requirement already satisfied: mpmath>=0.19 in c:\\users\\fabio.grassiotto\\research\\venv\\ml\\lib\\site-packages (from sympy->torch==2.2.0->torchtext) (1.3.0)\n"
          ]
        },
        {
          "name": "stderr",
          "output_type": "stream",
          "text": [
            "ERROR: Invalid requirement: \"'portalocker\"\n"
          ]
        }
      ],
      "source": [
        "!pip install torchtext\n",
        "!pip install 'portalocker>=2.0.0'"
      ]
    },
    {
      "cell_type": "code",
      "execution_count": 2,
      "metadata": {
        "id": "VorDvF62iyXF"
      },
      "outputs": [],
      "source": [
        "import torch\n",
        "from torch.utils.data import Dataset, DataLoader\n",
        "from torchtext.datasets import IMDB\n",
        "from collections import Counter\n",
        "import torch.nn as nn\n",
        "import torch.optim as optim\n",
        "\n",
        "import torchtext\n",
        "from torchtext.data import get_tokenizer"
      ]
    },
    {
      "cell_type": "code",
      "execution_count": 3,
      "metadata": {
        "id": "dTophXo7E1W-"
      },
      "outputs": [],
      "source": [
        "# Parâmetros gerais de execução do Notebook\n",
        "# Uso do Tokenizador\n",
        "use_tokenizer = True\n",
        "\n",
        "# Preloading data\n",
        "preload_to_gpu = True\n",
        "\n",
        "# Learning Rate\n",
        "best_LR = 0.1\n",
        "\n",
        "# Shuffle Dataloader (treinamento)\n",
        "train_shuffle = True\n",
        "\n",
        "# Número de amostras usadas\n",
        "n_samples = 25000\n",
        "\n",
        "# Balanceamento do dataset\n",
        "balance_dataset = False\n"
      ]
    },
    {
      "cell_type": "markdown",
      "metadata": {
        "id": "A5ovJE02CwKT"
      },
      "source": [
        "## I - Vocabulário e Tokenização"
      ]
    },
    {
      "cell_type": "code",
      "execution_count": 4,
      "metadata": {
        "colab": {
          "base_uri": "https://localhost:8080/"
        },
        "id": "mqzUqy3diz0X",
        "outputId": "5e1c7308-91c3-4317-acca-da4dee6acfbd"
      },
      "outputs": [
        {
          "name": "stdout",
          "output_type": "stream",
          "text": [
            "Amostras positivas, negativas e totais:\n",
            "Counter({'total': 25000, 'pos': 12500, 'neg': 12500})\n",
            "\n",
            "Comprimento médio do texto em palavras\n",
            "270.68748\n",
            "\n",
            "Cinco palavras mais frequentes:\n",
            "['the', '.', ',', 'and', 'a']\n",
            "\n",
            "Cinco palavras menos frequentes:\n",
            "['voicing', 'hazard', 'lynda', 'gft', 'watergate']\n",
            "\n"
          ]
        }
      ],
      "source": [
        "# limit the vocabulary size to 20000 most frequent tokens\n",
        "vocab_size = 20000\n",
        "\n",
        "# I.1. Na célula de calcular o vocabulário, aproveite o laço sobre IMDB de treinamento e utilize um segundo contador\n",
        "# para calcular o número de amostras positivas e amostras negativas.\n",
        "# Calcule também o comprimento médio do texto em número de palavras dos textos das amostras.\n",
        "\n",
        "counter = Counter()\n",
        "counter_lbl = Counter({\"pos\": 0, \"neg\": 0, \"total\": 0})\n",
        "total_review_len = 0\n",
        "avg_review_len = 0\n",
        "\n",
        "for (label, line) in list(IMDB(split='train'))[:n_samples]:\n",
        "    if (use_tokenizer):\n",
        "      tokenizer = get_tokenizer('basic_english')\n",
        "      # tokenize the sentence\n",
        "      line = tokenizer(line)\n",
        "      counter.update(line)\n",
        "    else:\n",
        "      counter.update(line.split())\n",
        "\n",
        "    # Número de amostras positivas e negativas\n",
        "    if (label == 1):\n",
        "      counter_lbl['neg'] += 1\n",
        "    else:\n",
        "      counter_lbl['pos'] += 1\n",
        "    counter_lbl['total'] += 1\n",
        "\n",
        "    if (use_tokenizer):\n",
        "      total_review_len += len(line)\n",
        "    else:\n",
        "      total_review_len += len(line.split())\n",
        "\n",
        "# Comprimento médio\n",
        "avg_review_len = total_review_len / counter_lbl['total']\n",
        "\n",
        "# I.2 Mostre as cinco palavras mais frequentes do vocabulário e as cinco palavras menos frequentes.\n",
        "# Qual é o código do token que está sendo utilizado quando a palavra não está no vocabulário?\n",
        "# Calcule quantos tokens das frases do conjunto de treinamento que não estão no vocabulário.\n",
        "\n",
        "# create a vocabulary of the 20000 most frequent tokens\n",
        "most_frequent_words = sorted(counter, key=counter.get, reverse=True)[:vocab_size]\n",
        "vocab = {word: i for i, word in enumerate(most_frequent_words, 1)} # words indexed from 1 to 20000\n",
        "vocab_size = len(vocab) #Errata\n",
        "\n",
        "print(\"Amostras positivas, negativas e totais:\")\n",
        "print(counter_lbl)\n",
        "print()\n",
        "\n",
        "print(\"Comprimento médio do texto em palavras\")\n",
        "print(avg_review_len)\n",
        "print()\n",
        "\n",
        "print(\"Cinco palavras mais frequentes:\")\n",
        "print(most_frequent_words[:5])\n",
        "print()\n",
        "\n",
        "print(\"Cinco palavras menos frequentes:\")\n",
        "print(most_frequent_words[-5:])\n",
        "print()"
      ]
    },
    {
      "cell_type": "code",
      "execution_count": 5,
      "metadata": {
        "colab": {
          "base_uri": "https://localhost:8080/"
        },
        "id": "0rZn-m1Mi110",
        "outputId": "32a3676e-fd70-4848-8855-c2ef8277fbef"
      },
      "outputs": [
        {
          "name": "stdout",
          "output_type": "stream",
          "text": [
            "Número de tokens que não estão no vocabulário na base de treinamento:\n",
            "174226\n"
          ]
        }
      ],
      "source": [
        "# I.2 Calcule quantos tokens das frases do conjunto de treinamento que não estão no vocabulário.\n",
        "\n",
        "def encode_sentence(sentence, vocab, use_tokenizer):\n",
        "    if (use_tokenizer):\n",
        "       sentence = tokenizer(sentence)\n",
        "       return [vocab.get(word, 0) for word in sentence]\n",
        "    else:\n",
        "      return [vocab.get(word, 0) for word in sentence.split()] # 0 for OOV\n",
        "\n",
        "encode_sentence(\"I like Pizza\", vocab, use_tokenizer)\n",
        "\n",
        "# Cálculo do número de tokens que não estão no vocabulário na base de treinamento:\n",
        "tokens = []\n",
        "for (label, line) in list(IMDB(split='train'))[:n_samples]:\n",
        "  tokens.extend(encode_sentence(line, vocab, use_tokenizer))\n",
        "\n",
        "print(\"Número de tokens que não estão no vocabulário na base de treinamento:\")\n",
        "print(tokens.count(0))"
      ]
    },
    {
      "cell_type": "code",
      "execution_count": 6,
      "metadata": {
        "colab": {
          "base_uri": "https://localhost:8080/"
        },
        "id": "HwYM7hAGBCeQ",
        "outputId": "293e98d5-0c8c-4ba1-d9df-c3dfee5d3bc8"
      },
      "outputs": [
        {
          "name": "stdout",
          "output_type": "stream",
          "text": [
            "Comprimento médio do texto em palavras na base balanceada\n",
            "270.68748\n",
            "\n"
          ]
        }
      ],
      "source": [
        "# Função para selecionar dados balanceados\n",
        "from random import shuffle\n",
        "\n",
        "def balanced_dataset(data, size):\n",
        "  if (balance_dataset):\n",
        "    data_pos = [(label,line) for label, line in data if label == 2][:int(size/2)]\n",
        "    data_neg = [(label,line) for label, line in data if label == 1][:int(size/2)]\n",
        "\n",
        "    data_bal = data_pos + data_neg\n",
        "    shuffle(data_bal)\n",
        "\n",
        "    return data_bal\n",
        "  else:\n",
        "     return data\n",
        "\n",
        "# Aplicando sobre a base de treinamento\n",
        "\n",
        "train_data = IMDB(split='train')\n",
        "counter = Counter()\n",
        "total_review_len = 0\n",
        "avg_review_len = 0\n",
        "\n",
        "for (label, line) in list(balanced_dataset(train_data, n_samples)):\n",
        "    counter.update(line.split())\n",
        "\n",
        "    # Comprimento médio do texto das reviews em palavras\n",
        "    tokenizer = get_tokenizer('basic_english')\n",
        "\n",
        "    # tokenize the sentence\n",
        "    tokens = tokenizer(line)\n",
        "\n",
        "    # count the number of words\n",
        "    total_review_len += len(tokens)\n",
        "\n",
        "# Comprimento médio\n",
        "avg_review_len = total_review_len / n_samples\n",
        "\n",
        "print(\"Comprimento médio do texto em palavras na base balanceada\")\n",
        "print(avg_review_len)\n",
        "print()"
      ]
    },
    {
      "cell_type": "markdown",
      "metadata": {
        "id": "5iV4bF8cDAj1"
      },
      "source": [
        "## II - Dataset"
      ]
    },
    {
      "cell_type": "code",
      "execution_count": 7,
      "metadata": {
        "id": "VDUyZoTPi262"
      },
      "outputs": [],
      "source": [
        "from torch.nn.functional import one_hot\n",
        "# Dataset Class with One-hot Encoding\n",
        "\n",
        "device = torch.device('cuda' if torch.cuda.is_available() else 'cpu')\n",
        "\n",
        "class IMDBDataset(Dataset):\n",
        "    def __init__(self, split, vocab):\n",
        "\n",
        "        # II.2.b) Trecho que precisa ser otimizado. (Esse é um problema mais difícil)\n",
        "        self.data = list(balanced_dataset(IMDB(split='train'), n_samples))\n",
        "\n",
        "        if preload_to_gpu:\n",
        "          labels = [x[0] for x in self.data]\n",
        "          lines = [x[1] for x in self.data]\n",
        "\n",
        "          # One-Hot Encoding\n",
        "          self.labels_enc = []\n",
        "          for l in labels:\n",
        "            l = 1 if l == 1 else 0\n",
        "            self.labels_enc.append(l)\n",
        "          self.labels_enc = torch.tensor(self.labels_enc)\n",
        "          self.labels_enc = self.labels_enc.to(device)\n",
        "\n",
        "          self.lines_enc = []\n",
        "          for l in lines:\n",
        "            X = torch.zeros(len(vocab) + 1)\n",
        "\n",
        "            for word in encode_sentence(l, vocab, use_tokenizer):\n",
        "              X[word] = 1\n",
        "            self.lines_enc.append(X)\n",
        "          self.lines_enc = [tensor.to(device) for tensor in self.lines_enc]\n",
        "\n",
        "        self.vocab = vocab\n",
        "\n",
        "    def __len__(self):\n",
        "        return len(self.data)\n",
        "\n",
        "    def __getitem__(self, idx):\n",
        "        if not preload_to_gpu:\n",
        "          label, line = self.data[idx]\n",
        "          label = 1 if label == 1 else 0\n",
        "\n",
        "          # one-hot encoding\n",
        "          X = torch.zeros(len(self.vocab) + 1)\n",
        "\n",
        "          for word in encode_sentence(line, self.vocab, use_tokenizer):\n",
        "              X[word] = 1\n",
        "\n",
        "          return X, torch.tensor(label)\n",
        "        else:\n",
        "          return self.lines_enc[idx], self.labels_enc[idx]"
      ]
    },
    {
      "cell_type": "code",
      "execution_count": 8,
      "metadata": {
        "colab": {
          "base_uri": "https://localhost:8080/"
        },
        "id": "pqXuAWR0E1XA",
        "outputId": "c8ec5c0b-e7b0-4cda-f240-6519babcae16"
      },
      "outputs": [
        {
          "name": "stdout",
          "output_type": "stream",
          "text": [
            "Amostras positivas, negativas e totais:\n",
            "Counter({'total': 25000, 'pos': 12500, 'neg': 12500})\n",
            "\n",
            "Quantidade média de palavras codificadas em cada vetor one-hot\n",
            "139.59268\n",
            "\n"
          ]
        }
      ],
      "source": [
        "# Load Data with One-hot Encoding\n",
        "train_data = IMDBDataset('train', vocab)\n",
        "test_data = IMDBDataset('test', vocab)\n",
        "\n",
        "# II.1.a) Investigue o dataset criado na linha 24. Faça um código que aplique um laço sobre o dataset train_data\n",
        "# e calcule novamente quantas amostras positivas e negativas do dataset.\n",
        "# II.1.b) Calcule também o número médio de palavras codificadas em cada vetor one-hot.\n",
        "# Compare este valor com o comprimento médio de cada texto (contado em palavras), conforme calculado no exercício\n",
        "\n",
        "counter_lbl = Counter({\"pos\": 0, \"neg\": 0, \"total\": 0})\n",
        "words_encoded = 0\n",
        "for (oneHot, sentiment) in train_data:\n",
        "\n",
        "    words = oneHot.tolist()\n",
        "    label = sentiment.item()\n",
        "\n",
        "    # Número de amostras positivas e negativas\n",
        "    if (label == 1):\n",
        "      counter_lbl['neg'] += 1\n",
        "    else:\n",
        "      counter_lbl['pos'] += 1\n",
        "    counter_lbl['total'] += 1\n",
        "\n",
        "    hot_encoded = sum(words[i] for i in range(len(words)) if words[i] != 0)\n",
        "    words_encoded +=  hot_encoded\n",
        "\n",
        "avg_words_enc = words_encoded / counter_lbl['total']\n",
        "\n",
        "print(\"Amostras positivas, negativas e totais:\")\n",
        "print(counter_lbl)\n",
        "print()\n",
        "\n",
        "print(\"Quantidade média de palavras codificadas em cada vetor one-hot\")\n",
        "print(avg_words_enc)\n",
        "print()"
      ]
    },
    {
      "cell_type": "markdown",
      "metadata": {
        "id": "d7RMPSvMDL5U"
      },
      "source": [
        "## III - Data Loader"
      ]
    },
    {
      "cell_type": "code",
      "execution_count": 9,
      "metadata": {
        "id": "Y7tcZv2YDIog"
      },
      "outputs": [],
      "source": [
        "batch_size = 128\n",
        "# define dataloaders\n",
        "\n",
        "train_loader = DataLoader(train_data, batch_size=batch_size, shuffle=train_shuffle)\n",
        "test_loader = DataLoader(test_data, batch_size=batch_size, shuffle=False)"
      ]
    },
    {
      "cell_type": "markdown",
      "metadata": {
        "id": "MwPeJ7h8DahT"
      },
      "source": [
        "## IV - Modelo"
      ]
    },
    {
      "cell_type": "code",
      "execution_count": 10,
      "metadata": {
        "id": "6QuDhWvji7lt"
      },
      "outputs": [],
      "source": [
        "class OneHotMLP(nn.Module):\n",
        "    def __init__(self, vocab_size):\n",
        "        super(OneHotMLP, self).__init__()\n",
        "        self.fc1 = nn.Linear(vocab_size+1, 200)\n",
        "        self.fc2 = nn.Linear(200, 1)\n",
        "        self.relu = nn.ReLU()\n",
        "\n",
        "    def forward(self, x):\n",
        "        o = self.fc1(x.float())\n",
        "        o = self.relu(o)\n",
        "        return self.fc2(o)\n",
        "\n",
        "# Model instantiation\n",
        "model = OneHotMLP(vocab_size)"
      ]
    },
    {
      "cell_type": "markdown",
      "metadata": {
        "id": "iVAhdFGXDepU"
      },
      "source": [
        "## V - Laço de Treinamento - Otimização da função de Perda pelo Gradiente descendente"
      ]
    },
    {
      "cell_type": "code",
      "execution_count": 11,
      "metadata": {
        "colab": {
          "base_uri": "https://localhost:8080/"
        },
        "id": "RaH1Uv3yHih5",
        "outputId": "7337212a-07ed-4683-bea9-59e3de833472"
      },
      "outputs": [
        {
          "name": "stdout",
          "output_type": "stream",
          "text": [
            "GPU: NVIDIA GeForce RTX 2060\n"
          ]
        }
      ],
      "source": [
        "# Verifica se há uma GPU disponível e define o dispositivo para GPU se possível, caso contrário, usa a CPU\n",
        "device = torch.device('cuda' if torch.cuda.is_available() else 'cpu')\n",
        "if device.type == 'cuda':\n",
        "    print('GPU:', torch.cuda.get_device_name(torch.cuda.current_device()))\n",
        "else:\n",
        "    print('using CPU')"
      ]
    },
    {
      "cell_type": "code",
      "execution_count": 12,
      "metadata": {
        "colab": {
          "base_uri": "https://localhost:8080/"
        },
        "id": "Nh_pe8rni93_",
        "outputId": "eb07b887-d41a-426c-bec7-f0e6047ed110"
      },
      "outputs": [
        {
          "name": "stdout",
          "output_type": "stream",
          "text": [
            "Epoch [1/5],               Loss: 0.3556,               Elapsed Time: 3.40 sec,               Loader Iterations: 196,               Spls lst batch: 40 ,               R avg: 0.4999 \n",
            "Epoch [2/5],               Loss: 0.2441,               Elapsed Time: 0.49 sec,               Loader Iterations: 196,               Spls lst batch: 40 ,               R avg: 0.4996 \n",
            "Epoch [3/5],               Loss: 0.3409,               Elapsed Time: 0.47 sec,               Loader Iterations: 196,               Spls lst batch: 40 ,               R avg: 0.5002 \n",
            "Epoch [4/5],               Loss: 0.4257,               Elapsed Time: 0.49 sec,               Loader Iterations: 196,               Spls lst batch: 40 ,               R avg: 0.5001 \n",
            "Epoch [5/5],               Loss: 0.1434,               Elapsed Time: 0.48 sec,               Loader Iterations: 196,               Spls lst batch: 40 ,               R avg: 0.5002 \n"
          ]
        }
      ],
      "source": [
        "# II.2 Com a o notebook configurado para GPU T4, meça o tempo de dois laços dentro do\n",
        "# for da linha 13 (coloque um break após dois laços) e determine quanto demora\n",
        "# demora para o passo de forward (linhas 14 a 18), para o backward (linhas 20, 21 e 22)\n",
        "# e o tempo total de um laço. Faça as contas e identifique o trecho que é mais demorado.\n",
        "# II.2.a) Tempo do laço = ; Tempo do forward = ;Tempo do backward = ; Conclusão.\n",
        "\n",
        "import time\n",
        "\n",
        "# Transformando em função o treinamento\n",
        "def train_mdl(model, lr):\n",
        "  # Debug\n",
        "  print_loop = False\n",
        "\n",
        "  model = model.to(device)\n",
        "  # Define loss and optimizer\n",
        "  criterion = nn.BCEWithLogitsLoss()\n",
        "\n",
        "  optimizer = optim.SGD(model.parameters(), lr)\n",
        "\n",
        "  # Training loop\n",
        "  num_epochs = 5\n",
        "\n",
        "  # III.2.a) Faça um laço no objeto train_loader e meça quantas iterações o Loader tem. Mostre o código para calcular essas iterações. Explique o  valor encontrado.\n",
        "  train_loader_iterations = 0\n",
        "  last_batch_samples_num = 0\n",
        "\n",
        "  for epoch in range(num_epochs):\n",
        "      start_time = time.time()  # Start time of the epoch\n",
        "      model.train()\n",
        "\n",
        "      loop_count = 0\n",
        "\n",
        "      train_loader_iterations = 0    \n",
        "      R_list = []\n",
        "      for inputs, labels in train_loader:\n",
        "          train_loader_iterations += 1\n",
        "          last_batch_samples_num = len(inputs)\n",
        "          loop_start = time.time()\n",
        "          \n",
        "          # Cálculo de R, razão amostras positivas/totais em cada batch.\n",
        "          R = torch.sum(labels == 1) / torch.numel(labels)\n",
        "          R_list.append(R)\n",
        "\n",
        "          if(loop_count == 2 and print_loop):\n",
        "            # Para medição do tempo do loop.\n",
        "            break\n",
        "\n",
        "          forward_start = time.time()\n",
        "\n",
        "          if not preload_to_gpu:\n",
        "            inputs = inputs.to(device)\n",
        "            labels = labels.to(device)\n",
        "\n",
        "          gpu_cpy_time = time.time() - forward_start\n",
        "          # Forward pass\n",
        "          model_start = time.time()\n",
        "          outputs = model(inputs)\n",
        "          model_time = time.time() - model_start\n",
        "          loss = criterion(outputs.squeeze(), labels.float())\n",
        "          forward_time = time.time() - forward_start\n",
        "\n",
        "          # Backward and optimize\n",
        "          backward_start = time.time()\n",
        "          optimizer.zero_grad()\n",
        "          loss.backward()\n",
        "          optimizer.step()\n",
        "          backward_time = time.time() - backward_start\n",
        "\n",
        "          # Loop optimization\n",
        "          loop_count += 1\n",
        "          loop_time = time.time() - loop_start\n",
        "          if (epoch == 0 and print_loop):\n",
        "            print(\"Loop #\", loop_count)\n",
        "            print(\"Tempo de loop = \", loop_time)\n",
        "            print(\"Forward pass = \", forward_time)\n",
        "            gpu_percent = gpu_cpy_time/forward_time\n",
        "            print(\"Gpu copy = \" + str(gpu_percent*100) + \" %\")\n",
        "            print(\"Model processing = \" + str((1 - gpu_percent)*100) + \" %\")\n",
        "            print(\"Backward pass = \", backward_time)\n",
        "            print()\n",
        "\n",
        "      end_time = time.time()  # End time of the epoch\n",
        "      epoch_duration = end_time - start_time  # Duration of epoch\n",
        "\n",
        "      R_avg = sum(R_list)/len(R_list)\n",
        "\n",
        "      print(f'Epoch [{epoch+1}/{num_epochs}], \\\n",
        "              Loss: {loss.item():.4f}, \\\n",
        "              Elapsed Time: {epoch_duration:.2f} sec, \\\n",
        "              Loader Iterations: {train_loader_iterations}, \\\n",
        "              Spls lst batch: {last_batch_samples_num} , \\\n",
        "              R avg: {R_avg:.4f} ')\n",
        "\n",
        "# Primeiro treinamento com a melhor taxa de Learning Rate\n",
        "model = OneHotMLP(vocab_size)\n",
        "train_mdl(model, best_LR)"
      ]
    },
    {
      "cell_type": "markdown",
      "metadata": {
        "id": "Bwvahen5D1oM"
      },
      "source": [
        "## VI - Avaliação"
      ]
    },
    {
      "cell_type": "code",
      "execution_count": 13,
      "metadata": {
        "colab": {
          "base_uri": "https://localhost:8080/"
        },
        "id": "2DtTPUBfjBj-",
        "outputId": "b5bf8ae4-5483-478e-8405-797d0bfc4571"
      },
      "outputs": [
        {
          "name": "stdout",
          "output_type": "stream",
          "text": [
            "Test Accuracy: 92.832%\n"
          ]
        },
        {
          "data": {
            "text/plain": [
              "92.832"
            ]
          },
          "execution_count": 13,
          "metadata": {},
          "output_type": "execute_result"
        }
      ],
      "source": [
        "## evaluation\n",
        "def eval_mdl(model):\n",
        "    model.eval()\n",
        "\n",
        "    with torch.no_grad():\n",
        "        correct = 0\n",
        "        total = 0\n",
        "        for inputs, labels in test_loader:\n",
        "            inputs = inputs.to(device)\n",
        "            labels = labels.to(device)\n",
        "            outputs = model(inputs)\n",
        "            predicted = torch.round(torch.sigmoid(outputs.squeeze()))\n",
        "            total += labels.size(0)\n",
        "            correct += (predicted == labels).sum().item()\n",
        "\n",
        "        acc = 100* correct/total\n",
        "        print(f'Test Accuracy: {acc}%')\n",
        "    return acc\n",
        "\n",
        "eval_mdl(model)"
      ]
    },
    {
      "cell_type": "markdown",
      "metadata": {},
      "source": [
        "# Respostas dos Exercícios"
      ]
    },
    {
      "cell_type": "markdown",
      "metadata": {},
      "source": [
        "#### Seção I\n",
        "\n",
        "##### I.1. Na célula de calcular o vocabulário, aproveite o laço sobre IMDB de treinamento e utilize um segundo contador para calcular o número de amostras positivas e amostras negativas. Calcule também o comprimento médio do texto em número de palavras dos textos das amostras.\n",
        "\n",
        "Código implementado na seção I acima. Seguem os resultados obtidos:\n",
        "\n",
        "Amostras positivas, negativas e totais:\n",
        "Counter({'total': 25000, 'pos': 12500, 'neg': 12500})\n",
        "\n",
        "Comprimento médio do texto em palavras\n",
        "270.68748"
      ]
    },
    {
      "cell_type": "markdown",
      "metadata": {},
      "source": [
        "##### I.2 Mostre as cinco palavras mais frequentes do vocabulário e as cinco palavras menos frequentes. \n",
        "\n",
        "(Utilizando o Tokenizador)\n",
        "\n",
        "Cinco palavras mais frequentes:\n",
        "['the', '.', ',', 'and', 'a']\n",
        "\n",
        "Cinco palavras menos frequentes:\n",
        "['voicing', 'hazard', 'lynda', 'gft', 'watergate']\n",
        "\n",
        "##### Qual é o código do token que está sendo utilizado quando a palavra não está no vocabulário?\n",
        "\n",
        "Na função de dicionário dict.get() o segundo parâmetro indica o valor default caso a palavra não seja encontrada no dicionário. Nesse caso o código do token usado é o número zero.\n",
        "\n",
        "##### Número de tokens que não estão no vocabulário na base de treinamento:\n",
        "174226\n"
      ]
    },
    {
      "cell_type": "markdown",
      "metadata": {},
      "source": [
        "#### I.3.a) Qual é a razão pela qual o modelo preditivo conseguiu acertar 100% das amostras de teste do dataset selecionado com apenas as primeiras 200 amostras?\n",
        "\n",
        "Ao reduzirmos a base de treinamento para apenas 200 amostras, a base se tornou totalmente desbalanceada. Como pudemos verificar, temos 200 amostras classificadas como negativas e nenhuma como positiva.\n",
        "Portanto a taxa de acurácia calculada sobre a classificação da base de testes depende unicamente da percentagem de amostras positivas ou negativas nesta base.\n",
        "\n",
        "#### I.3.b) Modifique a forma de selecionar 200 amostras do dataset, porém garantindo que ele continue balanceado, isto é, aproximadamente 100 amostras positivas e 100 amostras negativas.\n",
        "\n",
        "Para obtermos um dataset balanceado, usaremos uma função que seleciona amostras do dataset de acordo com a classificação e cria um dataset com a quantidade de amostras de cada classificação desejada conforme abaixo."
      ]
    },
    {
      "cell_type": "markdown",
      "metadata": {},
      "source": [
        "#### Seção II\n",
        "\n",
        "##### II.1.a) Investigue o dataset criado na linha 24. Faça um código que aplique um laço sobre o dataset train_data e calcule novamente quantas amostras positivas e negativas do dataset.\n",
        "\n",
        "Seção do código implementado:\n",
        "````\n",
        "counter_lbl = Counter({\"pos\": 0, \"neg\": 0, \"total\": 0})\n",
        "words_encoded = 0\n",
        "for (oneHot, sentiment) in train_data:\n",
        "\n",
        "    words = oneHot.tolist()\n",
        "    label = sentiment.item()\n",
        "\n",
        "    # Número de amostras positivas e negativas\n",
        "    if (label == 1):\n",
        "      counter_lbl['neg'] += 1\n",
        "    else:\n",
        "      counter_lbl['pos'] += 1\n",
        "    counter_lbl['total'] += 1\n",
        "\n",
        "    hot_encoded = sum(words[i] for i in range(len(words)) if words[i] != 0)\n",
        "    words_encoded +=  hot_encoded\n",
        "\n",
        "avg_words_enc = words_encoded / counter_lbl['total']\n",
        "````\n",
        "##### II.1.b) Calcule também o número médio de palavras codificadas em cada vetor one-hot.\n",
        "\n",
        "Quantidade média de palavras codificadas em cada vetor one-hot\n",
        "139.59268\n",
        "\n",
        "#### Compare este valor com o comprimento médio de cada texto (contado em palavras), conforme calculado no exercício I.1.c. e explique a diferença.\n",
        "\n",
        "No exercício I.1.c, o comprimento médio do texto em palavras depois de passar pelo tokenizador foi de cerca de 270 palavras. Essa diferença do vetor One-Hot se deve ao fato que o vetor one-hot só codifica as palavras que foram identificadas no dicionário, enquanto que o comprimento médio considera todas as palavras das sentenças. Ou seja, palavras que não foram codificadas no dicionário serão representadas por zeros.\n"
      ]
    },
    {
      "cell_type": "markdown",
      "metadata": {},
      "source": [
        "##### II.2.a) Medição dos tempos de loop\n",
        "\n",
        "Notamos que o tempo do passo do forward leva mais tempo que o passo de backward, conforme os dados obtidos abaixo para a primeira época do treinamento.\n",
        "Também notamos que a maior parte to tempo do loop de forward é gasto com a transferência dos dados da CPU para a GPU (97% no primeiro loop).\n",
        "\n",
        "```\n",
        "Loop # 1\n",
        "Tempo de loop =  0.048320770263671875\n",
        "Forward pass =  0.047322750091552734\n",
        "Gpu copy = 97.88851606662435 %\n",
        "Model processing = 2.1114839333756574 %\n",
        "Backward pass =  0.0009980201721191406\n",
        "\n",
        "Loop # 2\n",
        "Tempo de loop =  0.007141590118408203\n",
        "Forward pass =  0.005140781402587891\n",
        "Gpu copy = 80.50737408403673 %\n",
        "Model processing = 19.49262591596327 %\n",
        "Backward pass =  0.0020008087158203125\n",
        "```\n",
        "##### II.2.b) Trecho que precisa ser otimizado. (Esse é um problema mais difícil)\n",
        "\n",
        "Para otimizarmos o loop, o carregamento dos dados em GPU pode ser realizado pelo Dataloader fora do loop de treinamento, para tanto alterando o método __init__() da classe IMDBDataset.\n",
        "```\n",
        "def __init__(self, split, vocab):\n",
        "    #self.data = list(IMDB(split=split))[:n_samples]\n",
        "    self.data = list(balanced_dataset(IMDB(split=split), n_samples))        \n",
        "    self.vocab = vocab\n",
        "```\n",
        "##### II.2.c) Otimize o código e explique aqui.\n",
        "Substituimos então com a nova implementação, onde o dataset inteiro é pré-processado, codificado em forma One-Hot (uma vez que tensores não suportam strings) e movido para a GPU antes do processo de treinamento:\n",
        "````\n",
        "def __init__(self, split, vocab):\n",
        "    \n",
        "    # II.2.b) Trecho que precisa ser otimizado. (Esse é um problema mais difícil)\n",
        "    self.data = list(balanced_dataset(IMDB(split='train'), n_samples))\n",
        "\n",
        "    if preload_to_gpu:          \n",
        "        labels = [x[0] for x in self.data]\n",
        "        lines = [x[1] for x in self.data]\n",
        "\n",
        "        # One-Hot Encoding\n",
        "        self.labels_enc = []\n",
        "        for l in labels:\n",
        "        l = 1 if l == 1 else 0\n",
        "        self.labels_enc.append(l)\n",
        "        self.labels_enc = torch.tensor(self.labels_enc)\n",
        "        self.labels_enc = self.labels_enc.to(device)\n",
        "\n",
        "        self.lines_enc = []\n",
        "        for l in lines:\n",
        "        X = torch.zeros(len(vocab) + 1)\n",
        "        for word in encode_sentence(l, vocab):\n",
        "            X[word] = 1\n",
        "        self.lines_enc.append(X)\n",
        "        self.lines_enc = [tensor.to(device) for tensor in self.lines_enc]\n",
        "\n",
        "    self.vocab = vocab\n",
        "````\n",
        "##### Comparação do tempo de treinamento com a otimização (GPU RTX2060 local):\n",
        "Sem pre-load em GPU:\n",
        "````\n",
        "Epoch [1/5],             Loss: 0.6911,             Elapsed Time: 61.36 sec\n",
        "Epoch [2/5],             Loss: 0.6929,             Elapsed Time: 58.69 sec\n",
        "Epoch [3/5],             Loss: 0.6984,             Elapsed Time: 58.95 sec\n",
        "Epoch [4/5],             Loss: 0.6792,             Elapsed Time: 58.60 sec\n",
        "Epoch [5/5],             Loss: 0.6874,             Elapsed Time: 58.59 sec\n",
        "````\n",
        "Com pre-load em GPU (RTX2060)\n",
        "````\n",
        "Epoch [1/5],             Loss: 0.6896,             Elapsed Time: 3.81 sec\n",
        "Epoch [2/5],             Loss: 0.6925,             Elapsed Time: 0.58 sec\n",
        "Epoch [3/5],             Loss: 0.6933,             Elapsed Time: 0.64 sec\n",
        "Epoch [4/5],             Loss: 0.6890,             Elapsed Time: 0.58 sec\n",
        "Epoch [5/5],             Loss: 0.6904,             Elapsed Time: 0.57 sec\n",
        "````\n",
        "Notamos, no entanto, que o uso de mémória na GPU se torna muito maior, conforme pode ser visualizado abaixo (5Gb/6Gb total):\n",
        "````\n",
        "[venv:ml] $ nvidia-smi\n",
        "Mon Feb 12 08:23:42 2024\n",
        "+-----------------------------------------------------------------------------+\n",
        "| NVIDIA-SMI 516.94       Driver Version: 516.94       CUDA Version: 11.7     |\n",
        "|-------------------------------+----------------------+----------------------+\n",
        "| GPU  Name            TCC/WDDM | Bus-Id        Disp.A | Volatile Uncorr. ECC |\n",
        "| Fan  Temp  Perf  Pwr:Usage/Cap|         Memory-Usage | GPU-Util  Compute M. |\n",
        "|                               |                      |               MIG M. |\n",
        "|===============================+======================+======================|\n",
        "|   0  NVIDIA GeForce ... WDDM  | 00000000:01:00.0  On |                  N/A |\n",
        "| N/A   76C    P8    12W /  N/A |   5035MiB /  6144MiB |      1%      Default |\n",
        "|                               |                      |                  N/A |\n",
        "+-------------------------------+----------------------+----------------------+\n",
        "````"
      ]
    },
    {
      "cell_type": "markdown",
      "metadata": {
        "id": "tWuAbn_2E1XD"
      },
      "source": [
        "##### II.3 Faça a melhor escolha do LR, analisando o valor da acurácia no conjunto de teste, utilizando para cada valor de LR, a acurácia obtida. Faça um gráfico de Acurácia vs LR e escolha o LR que forneça a maior acurácia possível."
      ]
    },
    {
      "cell_type": "code",
      "execution_count": 14,
      "metadata": {
        "colab": {
          "base_uri": "https://localhost:8080/"
        },
        "id": "594pDvrHE1XD",
        "outputId": "238ac732-8c44-443e-d41c-c117c415c4d0"
      },
      "outputs": [
        {
          "name": "stdout",
          "output_type": "stream",
          "text": [
            "LR =  0.0001\n",
            "Epoch [1/5],               Loss: 0.6947,               Elapsed Time: 0.52 sec,               Loader Iterations: 196,               Spls lst batch: 40 ,               R avg: 0.4997 \n",
            "Epoch [2/5],               Loss: 0.6924,               Elapsed Time: 0.49 sec,               Loader Iterations: 196,               Spls lst batch: 40 ,               R avg: 0.5000 \n",
            "Epoch [3/5],               Loss: 0.6869,               Elapsed Time: 0.52 sec,               Loader Iterations: 196,               Spls lst batch: 40 ,               R avg: 0.5007 \n",
            "Epoch [4/5],               Loss: 0.6968,               Elapsed Time: 0.56 sec,               Loader Iterations: 196,               Spls lst batch: 40 ,               R avg: 0.4996 \n",
            "Epoch [5/5],               Loss: 0.6888,               Elapsed Time: 0.54 sec,               Loader Iterations: 196,               Spls lst batch: 40 ,               R avg: 0.5005 \n",
            "Test Accuracy: 50.792%\n",
            "\n",
            "LR =  0.001\n",
            "Epoch [1/5],               Loss: 0.6948,               Elapsed Time: 0.51 sec,               Loader Iterations: 196,               Spls lst batch: 40 ,               R avg: 0.5001 \n",
            "Epoch [2/5],               Loss: 0.6924,               Elapsed Time: 0.47 sec,               Loader Iterations: 196,               Spls lst batch: 40 ,               R avg: 0.5002 \n",
            "Epoch [3/5],               Loss: 0.6904,               Elapsed Time: 0.49 sec,               Loader Iterations: 196,               Spls lst batch: 40 ,               R avg: 0.4999 \n",
            "Epoch [4/5],               Loss: 0.6923,               Elapsed Time: 0.56 sec,               Loader Iterations: 196,               Spls lst batch: 40 ,               R avg: 0.4998 \n",
            "Epoch [5/5],               Loss: 0.6890,               Elapsed Time: 0.51 sec,               Loader Iterations: 196,               Spls lst batch: 40 ,               R avg: 0.4999 \n",
            "Test Accuracy: 69.684%\n",
            "\n",
            "LR =  0.01\n",
            "Epoch [1/5],               Loss: 0.6727,               Elapsed Time: 0.50 sec,               Loader Iterations: 196,               Spls lst batch: 40 ,               R avg: 0.5002 \n",
            "Epoch [2/5],               Loss: 0.6357,               Elapsed Time: 0.50 sec,               Loader Iterations: 196,               Spls lst batch: 40 ,               R avg: 0.4996 \n",
            "Epoch [3/5],               Loss: 0.5718,               Elapsed Time: 0.48 sec,               Loader Iterations: 196,               Spls lst batch: 40 ,               R avg: 0.4997 \n",
            "Epoch [4/5],               Loss: 0.4713,               Elapsed Time: 0.49 sec,               Loader Iterations: 196,               Spls lst batch: 40 ,               R avg: 0.5002 \n",
            "Epoch [5/5],               Loss: 0.5164,               Elapsed Time: 0.49 sec,               Loader Iterations: 196,               Spls lst batch: 40 ,               R avg: 0.5006 \n",
            "Test Accuracy: 82.716%\n",
            "\n",
            "LR =  0.1\n",
            "Epoch [1/5],               Loss: 0.4127,               Elapsed Time: 0.50 sec,               Loader Iterations: 196,               Spls lst batch: 40 ,               R avg: 0.4996 \n",
            "Epoch [2/5],               Loss: 0.3004,               Elapsed Time: 0.49 sec,               Loader Iterations: 196,               Spls lst batch: 40 ,               R avg: 0.4997 \n",
            "Epoch [3/5],               Loss: 0.4275,               Elapsed Time: 0.48 sec,               Loader Iterations: 196,               Spls lst batch: 40 ,               R avg: 0.4998 \n",
            "Epoch [4/5],               Loss: 0.1681,               Elapsed Time: 0.47 sec,               Loader Iterations: 196,               Spls lst batch: 40 ,               R avg: 0.5003 \n",
            "Epoch [5/5],               Loss: 0.2407,               Elapsed Time: 0.49 sec,               Loader Iterations: 196,               Spls lst batch: 40 ,               R avg: 0.5000 \n",
            "Test Accuracy: 92.872%\n",
            "\n",
            "[0.0001, 0.001, 0.01, 0.1]\n",
            "[50.792, 69.684, 82.716, 92.872]\n",
            "\n"
          ]
        }
      ],
      "source": [
        "lr_list = [0.0001, 0.001, 0.01, 0.1]\n",
        "acc_list = []\n",
        "\n",
        "for lr in lr_list:\n",
        "    print(\"LR = \", lr)\n",
        "    model = OneHotMLP(vocab_size) # to reset weights\n",
        "    train_mdl(model, lr)\n",
        "    acc_list.append(eval_mdl(model))\n",
        "    print()\n",
        "\n",
        "print(lr_list)\n",
        "print(acc_list)\n",
        "print()"
      ]
    },
    {
      "cell_type": "markdown",
      "metadata": {
        "id": "Qc51vZ3pE1XD"
      },
      "source": [
        "##### II.3.a) Gráfico Acurácia vs LR"
      ]
    },
    {
      "cell_type": "code",
      "execution_count": 15,
      "metadata": {
        "colab": {
          "base_uri": "https://localhost:8080/",
          "height": 472
        },
        "id": "tx1o-KJLE1XD",
        "outputId": "9b654427-2ede-4b75-b0ba-978b657039a8"
      },
      "outputs": [
        {
          "data": {
            "image/png": "[encoded data removed]",
            "text/plain": [
              "<Figure size 640x480 with 1 Axes>"
            ]
          },
          "metadata": {},
          "output_type": "display_data"
        }
      ],
      "source": [
        "import seaborn as sns\n",
        "import matplotlib.pyplot as plt\n",
        "\n",
        "sns.set_style(\"darkgrid\")\n",
        "sns.lineplot(x=lr_list, y=acc_list)\n",
        "\n",
        "# Add labels and title\n",
        "plt.xlabel(\"Learning Rate\")\n",
        "plt.ylabel(\"Accuracy\")\n",
        "plt.title(\"Accuracy vs Learning Rate\")\n",
        "\n",
        "# Show the plot\n",
        "plt.show()"
      ]
    },
    {
      "cell_type": "markdown",
      "metadata": {
        "id": "Jjsz_MbpE1XD"
      },
      "source": [
        "##### II.3.b) Valor ótimo do LR\n",
        "\n",
        "Notamos que o valor ótimo para a Learning Rate foi de cerca de 0.1, com crescimento exponencial ao aumentá-la. Valores acima deste são grandes demais e não levam à otimização do modelo.\n",
        "\n",
        "##### II.3.c) Mostre a equação utilizada no gradiente descendente e qual é o papel do LR no ajuste dos parâmetros (weights) do modelo da rede neural.\n",
        "\n",
        "No processo de otimização de uma função, a fórmula utilizada para a estimativa do próximo valor da função é dada por:\n",
        "\n",
        "````\n",
        "valor atualizado = valor anterior - learning rate*gradiente\n",
        "`````\n",
        "\n",
        "Portanto o papel da LR é definir qual é o *tamanho* do passo a ser utilizado no processo de atualização."
      ]
    },
    {
      "cell_type": "markdown",
      "metadata": {
        "id": "kxy2iwk0E1XD"
      },
      "source": [
        "##### II.4 Melhores a forma de tokenizar, isto é, pré-processar o dataset de modo que a codificação seja indiferente das palavras serem escritas com maiúsculas ou minúsculas e sejam pouco influenciadas pelas pontuações.\n",
        "##### II.4.a) Mostre os trechos modificados para este novo tokenizador, tanto na seção I - Vocabulário, como na seção II - Dataset.\n",
        "\n",
        "Na seção I - Vocabulário:\n",
        "\n",
        "````\n",
        "from torchtext.data import get_tokenizer\n",
        "\n",
        "for (label, line) in list(IMDB(split='train'))[:n_samples]:\n",
        "    if (use_tokenizer):\n",
        "      tokenizer = get_tokenizer('basic_english')\n",
        "      # tokenize the sentence\n",
        "      line = tokenizer(line)\n",
        "    counter.update(line.split())\n",
        "\n",
        "    # Número de amostras positivas e negativas\n",
        "    if (label == 1):\n",
        "      counter_lbl['neg'] += 1\n",
        "    else:\n",
        "      counter_lbl['pos'] += 1\n",
        "    counter_lbl['total'] += 1\n",
        "\n",
        "    # Comprimento médio do texto das reviews em palavras\n",
        "    tokenizer = get_tokenizer('basic_english')\n",
        "\n",
        "    # tokenize the sentence\n",
        "    tokens = tokenizer(line)\n",
        "\n",
        "    # count the number of words\n",
        "    total_review_len += len(tokens)\n",
        "\n",
        "````\n",
        "\n",
        "Na Seção II - Dataset:\n",
        "São apenas necessárias alterações no encoder da sentença, conforme abaixo.\n",
        "\n",
        "````\n",
        "def encode_sentence(sentence, vocab, use_tokenizer):\n",
        "    if (use_tokenizer):\n",
        "       sentence = tokenizer(sentence)\n",
        "       return [vocab.get(word, 0) for word in sentence]\n",
        "    else:\n",
        "      return [vocab.get(word, 0) for word in sentence.split()] # 0 for OOV\n",
        "````\n"
      ]
    },
    {
      "cell_type": "markdown",
      "metadata": {
        "id": "48Uxv3COE1XE"
      },
      "source": [
        "##### II.4.b) Recalcule novamente os valores do exercício I.2.c - número de tokens unknown, e apresente uma tabela comparando os novos valores com os valores obtidos com o tokenizador original e justifique os resultados obtidos.\n",
        "\n",
        "Sem o tokenizador:\n",
        "\n",
        "566141\n",
        "\n",
        "Com o tokenizador:\n",
        "\n",
        "174226\n",
        "\n",
        "Estes valores se justificam pelo fato que o tokenizador altera as palavras das sentenças, mantendo apenas radicais, de forma que menos palavras não serão encontradas na base do vocabulário.\n",
        "\n",
        "\n",
        "##### II.4.c) Execute agora no notebook inteiro com o novo tokenizador e veja o novo valor da acurácia obtido com a melhoria do tokenizador.\n",
        "\n",
        "Sem o tokenizador:\n",
        "\n",
        "Test Accuracy: 73.45% (Para LR = 0.1)\n",
        "\n",
        "Com o tokenizador\n",
        "\n",
        "Test Accuracy: 91.97% (Para LR = 0.1)\n",
        "\n",
        "O aumento da acurácia é justificado pelo fato que menos palavras de cada sentença não serão reconhecidas (OneHot encoding não terá tantos valores zerados)\n",
        "\n",
        "##### Os dados obtidos estão resumidos na tabela abaixo."
      ]
    },
    {
      "cell_type": "code",
      "execution_count": 16,
      "metadata": {
        "colab": {
          "base_uri": "https://localhost:8080/"
        },
        "id": "0P0mX9hVE1XE",
        "outputId": "76983838-846a-4a48-ec0b-9989a07344b9"
      },
      "outputs": [
        {
          "name": "stdout",
          "output_type": "stream",
          "text": [
            "Uso do Tokenizador      Tokens Unknown  Test Accuracy\n",
            "--------------------  ----------------  ---------------\n",
            "Sem Tokenizador                 566141  73.45%\n",
            "Com Tokenizador                 174226  91.97%\n"
          ]
        }
      ],
      "source": [
        "from tabulate import tabulate\n",
        "\n",
        "# Sample data\n",
        "data = [\n",
        "    ['Sem Tokenizador', 566141, '73.45%'],\n",
        "    ['Com Tokenizador', 174226, '91.97%'],\n",
        "]\n",
        "\n",
        "# Headers\n",
        "headers = ['Uso do Tokenizador', 'Tokens Unknown', 'Test Accuracy']\n",
        "\n",
        "# Print the table\n",
        "print(tabulate(data, headers=headers))"
      ]
    },
    {
      "cell_type": "markdown",
      "metadata": {
        "id": "cNc6iW_iE1XE"
      },
      "source": [
        "#### Seção III\n",
        "\n",
        "##### Vamos estudar agora o Data Loader da seção III do notebook. Em primeiro lugar anote a acurácia do notebook com as melhorias de eficiência de rodar em GPU, com ajustes de LR e do tokenizador. Em seguida mude o parâmetro shuffle na construção do objeto train_loader para False e execute novamente o notebook por completo e meça novamente a acurácia."
      ]
    },
    {
      "cell_type": "code",
      "execution_count": 17,
      "metadata": {
        "colab": {
          "base_uri": "https://localhost:8080/"
        },
        "id": "dv0fHI8rE1XE",
        "outputId": "9172502f-c99d-445c-9019-c3af00763eb3"
      },
      "outputs": [
        {
          "name": "stdout",
          "output_type": "stream",
          "text": [
            "Shuffle dos dados de Treinamento    Test Accuracy\n",
            "----------------------------------  ---------------\n",
            "Com Shuffle                         92.74%\n",
            "Sem Shuffle                         50.00%\n"
          ]
        }
      ],
      "source": [
        "from tabulate import tabulate\n",
        "\n",
        "# Sample data\n",
        "data = [\n",
        "    ['Com Shuffle', '92.74%'],\n",
        "    ['Sem Shuffle', '50.00%']\n",
        "]\n",
        "\n",
        "# Headers\n",
        "headers = ['Shuffle dos dados de Treinamento', 'Test Accuracy']\n",
        "\n",
        "# Print the table\n",
        "print(tabulate(data, headers=headers))"
      ]
    },
    {
      "cell_type": "markdown",
      "metadata": {},
      "source": [
        "##### III.1.a) Explique as duas principais vantagens do uso de batch no treinamento de redes neurais.\n",
        "\n",
        "O uso de lotes em treinamento é importante por causa do aumento da eficiência computacional e para aumentar a estabilidade do gradiente.\n",
        "A eficiência computacional é aumentada pois com lotes maiores a paralelização do processamento em GPUs é mais bem aproveitada, enquanto que a estabilidade do gradiente é aumentada durante o treinamento pois em cada iteração, o gradiente é calculado com base na função de perda para o lote inteiro reduzindo a variabilidade do gradiente em comparação com o cálculo individual para cada exemplo.\n",
        "\n",
        "##### III.1.b) Explique por que é importante fazer o embaralhamento das amostras do batch em cada nova época.\n",
        "\n",
        "O embarelhamento das amostras de batch do treinamento é essencial para aumentar a generabilidade do modelo. As razões para tanto são:\n",
        "\n",
        "* Redução do viés das amostras ordenadas do início ao fim do dataset.\n",
        "* Estabilização do gradiente (redução da oscilação causada por amostras ordenadas).\n",
        "* Melhoria da convergência, pois amostras agrupadas de uma classe dificultam o processo de aprendizado da rede neural.\n",
        "\n",
        "Em geral o embaralhamento de amostras de treinamento é um processo usual para a redução da generalização e a obtenção de um modelo de melhores características.\n",
        "\n",
        "\n",
        "##### III.1.c) Se você alterar o shuffle=False no instanciamento do objeto test_loader, por que o cálculo da acurácia não se altera?\n",
        "\n",
        "A acurácia não se altera pois em tempo de inferência (ou seja, fase de teste) os pesos do modelo não são alterados mais. Portanto, a base de testes é usada apenas para verificar a capacidade de generalização do modelo.\n",
        "\n"
      ]
    },
    {
      "cell_type": "markdown",
      "metadata": {},
      "source": [
        "##### III.2.a) Faça um laço no objeto train_loader e meça quantas iterações o Loader tem. Mostre o código para calcular essas iterações. Explique o valor encontrado.\n",
        "\n",
        "Modificações no código de treinamento (função train_mdl()) acima:\n",
        "````\n",
        "  for epoch in range(num_epochs):\n",
        "      start_time = time.time()  # Start time of the epoch\n",
        "      model.train()\n",
        "\n",
        "      loop_count = 0\n",
        "\n",
        "      train_loader_iterations = 0    \n",
        "      for inputs, labels in train_loader:\n",
        "          train_loader_iterations += 1\n",
        "````\n",
        "Número de interações por época:\n",
        "````\n",
        "Epoch [1/5],               Loss: 0.3918,               Elapsed Time: 6.79 sec,               Loader Iterations: 196\n",
        "Epoch [2/5],               Loss: 0.3028,               Elapsed Time: 0.56 sec,               Loader Iterations: 196\n",
        "Epoch [3/5],               Loss: 0.1997,               Elapsed Time: 0.57 sec,               Loader Iterations: 196\n",
        "Epoch [4/5],               Loss: 0.1883,               Elapsed Time: 0.57 sec,               Loader Iterations: 196\n",
        "Epoch [5/5],               Loss: 0.3806,               Elapsed Time: 0.56 sec,               Loader Iterations: 196\n",
        "\n",
        "````\n",
        "\n",
        "##### III.2.b) Imprima o número de amostras do último batch do train_loader e justifique o valor encontrado? Ele pode ser menor que o batch_size?\n",
        "\n",
        "````\n",
        "Number of samples in last batch: 40\n",
        "````\n",
        "O valor encontrado é menor que o tamanho do batch size (nesse caso, 128) pois esta é a quantidade de amostras restantes nas base. Como temos 196 iterações, o total de amostras nos primeiros 195 ciclos totaliza 24.960. Portanto, o último batch tem um total de 25.000 (tamanho da base) - 24.960 = 40.\n",
        "\n",
        "##### III.2.c) Calcule R, a relação do número de amostras positivas sobre o número de amostras no batch e no final encontre o valor médio de R, para ver se o data loader está entregando batches balanceados. Desta vez, em vez de fazer um laço explícito, utilize list comprehension para criar uma lista contendo a relação R de cada amostra no batch. No final, calcule a média dos elementos da lista para fornecer a resposta final.\n",
        "\n",
        "Médias de R por época:\n",
        "````\n",
        "R avg: 0.4999 \n",
        "R avg: 0.5004 \n",
        "R avg: 0.5003 \n",
        "R avg: 0.4999 \n",
        "R avg: 0.5000\n",
        "````\n",
        "\n",
        "##### III.2.d) Mostre a estrutura de um dos batches. Cada batch foi criado no método __getitem__ do Dataset, linha 20. É formado por uma tupla com o primeiro elemento sendo a codificação one-hot do texto e o segundo elemento o label esperado, indicando positivo ou negativo. Mostre o shape (linhas e colunas) e o tipo de dado (float ou integer), tanto da entrada da rede como do label esperado. Desta vez selecione um elemento do batch do train_loader utilizando as funções next e iter: batch = next(iter(train_loader))."
      ]
    },
    {
      "cell_type": "code",
      "execution_count": 18,
      "metadata": {},
      "outputs": [
        {
          "name": "stdout",
          "output_type": "stream",
          "text": [
            "Dado de entrada:\n",
            "torch.Size([20001])\n",
            "torch.float32\n",
            "\n",
            "Label:\n",
            "torch.Size([1])\n",
            "torch.int64\n"
          ]
        }
      ],
      "source": [
        "my_loader = DataLoader(train_data, batch_size=1)\n",
        "batch = next(iter(my_loader))\n",
        "\n",
        "# Dado de entrada\n",
        "entrada = batch[0].tolist()\n",
        "dado_entrada = (batch[0])[0]\n",
        "\n",
        "print(\"Dado de entrada:\")\n",
        "print(dado_entrada.size())\n",
        "print(dado_entrada.dtype)\n",
        "print()\n",
        "\n",
        "# Label\n",
        "print(\"Label:\")\n",
        "lbl = batch[1]\n",
        "print(lbl.size())\n",
        "print(lbl.dtype)"
      ]
    },
    {
      "cell_type": "markdown",
      "metadata": {},
      "source": [
        "##### III.3.a) Verifique a influência do batch size na acurácia final do modelo. Experimente usar um batch size de 1 amostra apenas e outro com mais de 128 e comente sobre os resultados.\n",
        "\n",
        "Notei que o cálculo de perda da linha criterion() gera um erro com batch size = 1, então usei batch size = 2 para este exercício."
      ]
    },
    {
      "cell_type": "code",
      "execution_count": 19,
      "metadata": {},
      "outputs": [
        {
          "name": "stdout",
          "output_type": "stream",
          "text": [
            "Epoch [1/5],               Loss: 0.1029,               Elapsed Time: 22.53 sec,               Loader Iterations: 12500,               Spls lst batch: 2 ,               R avg: 0.5000 \n",
            "Epoch [2/5],               Loss: 0.1376,               Elapsed Time: 33.62 sec,               Loader Iterations: 12500,               Spls lst batch: 2 ,               R avg: 0.5000 \n",
            "Epoch [3/5],               Loss: 1.3033,               Elapsed Time: 45.97 sec,               Loader Iterations: 12500,               Spls lst batch: 2 ,               R avg: 0.5000 \n",
            "Epoch [4/5],               Loss: 0.0004,               Elapsed Time: 78.76 sec,               Loader Iterations: 12500,               Spls lst batch: 2 ,               R avg: 0.5000 \n",
            "Epoch [5/5],               Loss: 0.0000,               Elapsed Time: 85.24 sec,               Loader Iterations: 12500,               Spls lst batch: 2 ,               R avg: 0.5000 \n",
            "Test Accuracy: 92.592%\n",
            "\n",
            "Epoch [1/5],               Loss: 0.4544,               Elapsed Time: 1.26 sec,               Loader Iterations: 98,               Spls lst batch: 168 ,               R avg: 0.4996 \n",
            "Epoch [2/5],               Loss: 0.3453,               Elapsed Time: 1.38 sec,               Loader Iterations: 98,               Spls lst batch: 168 ,               R avg: 0.4998 \n",
            "Epoch [3/5],               Loss: 0.2709,               Elapsed Time: 1.33 sec,               Loader Iterations: 98,               Spls lst batch: 168 ,               R avg: 0.5002 \n",
            "Epoch [4/5],               Loss: 0.2909,               Elapsed Time: 1.30 sec,               Loader Iterations: 98,               Spls lst batch: 168 ,               R avg: 0.5001 \n",
            "Epoch [5/5],               Loss: 0.2830,               Elapsed Time: 1.39 sec,               Loader Iterations: 98,               Spls lst batch: 168 ,               R avg: 0.5002 \n",
            "Test Accuracy: 87.78%\n",
            "\n"
          ]
        }
      ],
      "source": [
        "# Acurácia com batch = 2\n",
        "train_loader = DataLoader(train_data, batch_size=2, shuffle=train_shuffle)\n",
        "model = OneHotMLP(vocab_size) # to reset weights\n",
        "train_mdl(model, best_LR)\n",
        "eval_mdl(model)\n",
        "print()\n",
        "\n",
        "# Acurácia com batch = 256\n",
        "train_loader = DataLoader(train_data, batch_size=256, shuffle=train_shuffle)\n",
        "model = OneHotMLP(vocab_size) # to reset weights\n",
        "train_mdl(model, best_LR)\n",
        "eval_mdl(model)\n",
        "print()"
      ]
    },
    {
      "cell_type": "markdown",
      "metadata": {},
      "source": [
        "Pudemos verificar que o batch size muito reduzido aumenta em muito a acurácia, mas em contrapartida aumenta muito a complexidade computacional. O ganho da acurácia pode ser explicado pela melhoria na generalização. Nesse caso os pesos do modelo são atualizados depois da análise de cada amostra de forma independente. O aumento do batch size de 128 para 256 não trouxe ganhos na acurácia.\n",
        "Portanto, para datasets pequenos como o caso deste exercício, uma redução do tamanho do batch pode ser benéfico desde que o custo computacional não seja excessivo."
      ]
    },
    {
      "cell_type": "markdown",
      "metadata": {},
      "source": [
        "#### Seção IV\n",
        "\n",
        "##### IV.1.a) Faça a predição do modelo utilizando um batch do train_loader: extraia um batch do train_loader, chame de (input, target), onde input é a entrada da rede e target é o label esperado. Como a rede está com seus parâmetros (weights) aleatórios, o logito de saída da rede será um valor aleatório, porém a chamada irá executar sem erros:\n",
        "\n",
        "logit = model( input)\n",
        "\n",
        "aplique a função sigmoidal ao logito para convertê-lo numa probabilidade de valor entre 0 e 1.\n"
      ]
    },
    {
      "cell_type": "code",
      "execution_count": 20,
      "metadata": {},
      "outputs": [
        {
          "name": "stdout",
          "output_type": "stream",
          "text": [
            "Probabilidade: 50.90 %\n"
          ]
        }
      ],
      "source": [
        "import numpy as np\n",
        "new_loader = DataLoader(train_data, batch_size=128, shuffle=train_shuffle)\n",
        "model = OneHotMLP(vocab_size).to(device) \n",
        "\n",
        "input, target = next(iter(new_loader))\n",
        "logit = model(input)\n",
        "\n",
        "# Define the sigmoid function\n",
        "def sigmoid(x):\n",
        "  return 1 / (1 + torch.exp(-x))\n",
        "\n",
        "probability = sigmoid(logit[0])*100\n",
        "\n",
        "# Cálculo da probabilidade para a primeira amostra\n",
        "print(f'Probabilidade: {probability.item():.2f} %')\n"
      ]
    },
    {
      "cell_type": "markdown",
      "metadata": {},
      "source": [
        "##### IV.1.b) Agora, treine a rede executando o notebook todo e verifique se a acurácia está alta. Agora repita o exercício anterior, porém agora, compare o valor da probabilidade encontrada com o target esperado e verifique se ele acertou. Você pode considerar que se a probabilidade for maior que 0.5, pode-se dar o label 1 e se for menor que 0.5, o label 0. Observe isso que é feito na linha 11 da seção VI - Avaliação."
      ]
    },
    {
      "cell_type": "code",
      "execution_count": 21,
      "metadata": {},
      "outputs": [
        {
          "name": "stdout",
          "output_type": "stream",
          "text": [
            "Predição =  1.0\n",
            "Target Esperado =  0\n"
          ]
        }
      ],
      "source": [
        "import numpy as np\n",
        "new_loader = DataLoader(train_data, batch_size=128, shuffle=train_shuffle)\n",
        "model = OneHotMLP(vocab_size).to(device) \n",
        "\n",
        "input, target = next(iter(new_loader))\n",
        "logit = model(input).cpu()\n",
        "\n",
        "predicted = torch.round(torch.sigmoid(logit.squeeze()))\n",
        "\n",
        "print(\"Predição = \", predicted[0].item())\n",
        "print(\"Target Esperado = \", target[0].item())"
      ]
    },
    {
      "cell_type": "markdown",
      "metadata": {},
      "source": [
        "Se você der um print no modelo: print(model), você obterá:  \n",
        "````\n",
        "OneHotMLP(\n",
        "  (fc1): Linear(in_features=20001, out_features=200, bias=True)  \n",
        "  (fc2): Linear(in_features=200, out_features=1, bias=True)  \n",
        "  (relu): ReLU()\n",
        ")\n",
        "````\n",
        "Os pesos da primeira camada podem ser visualizados com model.fc1.weight e o elemento constante (bias) pode ser visualizado com model.fc1.bias  \n",
        "Calcule o número de parâmetros do modelo, preenchendo a seguinte tabela (utilize shape para verificar a estrutura de cada parâmetro do modelo)."
      ]
    },
    {
      "cell_type": "code",
      "execution_count": 22,
      "metadata": {},
      "outputs": [
        {
          "name": "stdout",
          "output_type": "stream",
          "text": [
            "Model Parameters:\n",
            "FC1 weights dimensions:  [200, 20001]\n",
            "FC2 weights dimensions:  [1, 200]\n",
            "FC1 bias dimensions:  [200]\n",
            "FC2 bias dimensions:  [1]\n",
            "\n",
            "layer    fc1            fc2           total\n",
            "-------  -------  ----  ------  ----  -------\n",
            "         weight   bias  weight  bias\n",
            "size     4000200  200   200     1\n"
          ]
        }
      ],
      "source": [
        "from tabulate import tabulate\n",
        "\n",
        "model = OneHotMLP(vocab_size)\n",
        "\n",
        "w_fc1 = model.fc1.weight.size()\n",
        "b_fc1 = model.fc1.bias.size()\n",
        "w_fc2 = model.fc2.weight.size()\n",
        "b_fc2 = model.fc2.bias.size()\n",
        "\n",
        "print(\"Model Parameters:\")\n",
        "print(\"FC1 weights dimensions: \", list(w_fc1))\n",
        "print(\"FC2 weights dimensions: \", list (w_fc2))\n",
        "print(\"FC1 bias dimensions: \", list(b_fc1))\n",
        "print(\"FC2 bias dimensions: \", list (b_fc2))\n",
        "print()\n",
        "\n",
        "# Table data\n",
        "data = [\n",
        "    ['', 'weight', 'bias', 'weight', 'bias', ''],\n",
        "    ['size', w_fc1[0]*w_fc1[1], b_fc1[0], w_fc2[0]*w_fc2[1], b_fc2[0], '']\n",
        "]\n",
        "\n",
        "# Headers\n",
        "headers = ['layer', 'fc1', '', 'fc2', '', 'total']\n",
        "\n",
        "# Print the table\n",
        "print(tabulate(data, headers=headers))"
      ]
    },
    {
      "cell_type": "markdown",
      "metadata": {},
      "source": [
        "#### Seção \n",
        "\n",
        "##### V.1.a) Qual é o valor teórico da Loss quando o modelo não está treinado, mas apenas inicializado? Isto é, a probabilidade predita tanto para a classe 0 como para a classe 1, é sempre 0,5 ? Justifique. Atenção: na equação da Entropia Cruzada utilize o logaritmo natural.\n",
        "\n",
        "Utilizando a equação da entropia cruzada, podemos obter o valor teórico da perda:\n",
        "\n",
        "Loss = -1/n SumN (yi * ln(y^i) + (1-yi)ln(1-y^i))\n",
        "\n",
        "com y^i = 0.5, temos: ln(y^i) = ln(1-y^i) = ln(0.5) = -0.69314\n",
        "\n",
        "Loss = -1/n SumN(yi * (-0.69314) + (1-yi) * (-0.69314))\n",
        "Loss = -1/n SumN(-0.69314yi - 0.69314 + 0.69314yi)\n",
        "\n",
        "cancelando ambos termos em yi ->\n",
        "\n",
        "Loss = -1/n SumN(-0.69314) e portanto Loss = 0.69314 para o modelo inicializado independente do número de amostras N.\n",
        "\n",
        "No entanto, para um modelo não inicializado, o valor da perda depende do valor dos pesos da rede neural não inicializada, que pode variar e não ser o mesmo que o valor teórico.\n"
      ]
    },
    {
      "cell_type": "markdown",
      "metadata": {},
      "source": [
        "##### V.1.b) Utilize as amostras do primeiro batch: (input,target) = next(iter(train_loader)) e calcule o valor da Loss utilizando a equação fornecida anteriormente utilizando o pytorch. Verifique se este valor confere com o valor teórico do exercício anterior."
      ]
    },
    {
      "cell_type": "code",
      "execution_count": 57,
      "metadata": {},
      "outputs": [
        {
          "name": "stdout",
          "output_type": "stream",
          "text": [
            "tensor(0.6921, device='cuda:0', grad_fn=<DivBackward0>)\n"
          ]
        }
      ],
      "source": [
        "new_loader = DataLoader(train_data, batch_size=128, shuffle=train_shuffle)\n",
        "model = OneHotMLP(vocab_size).to(device) \n",
        "\n",
        "input, target = next(iter(new_loader))\n",
        "logit = model(input)\n",
        "prob = torch.sigmoid(logit)\n",
        "\n",
        "# Calculo numérico da perda\n",
        "loss = - torch.sum(torch.mul(target, torch.log(prob).t()) + torch.mul(1-target, torch.log(1-prob).t())) / prob.shape[0]\n",
        "print(loss)\n"
      ]
    },
    {
      "cell_type": "markdown",
      "metadata": {},
      "source": [
        "Notamos que para um batch acima o valor da perda calculada não é a mesma da perda teórica, mas é muito próxima devido aos valores dos pesos não inicializados da rede neural."
      ]
    },
    {
      "cell_type": "markdown",
      "metadata": {},
      "source": [
        "##### V.1.c) O pytorch possui várias funções que facilitam o cálculo da Loss pela Entropia Cruzada. Utilize a classe nn.BCELoss (Binary Cross Entropy Loss). Você primeiro deve instanciar uma função da classe nn.BCELoss. Esta função instanciada recebe dois parâmetros (probs , targets) e retorna a Loss. Use a busca do Google para ver a documentação do BCELoss do pytorch. Calcule então a função de Loss da entropia cruzada, porém usando agora a função instanciada pelo BCELoss e confira se o resultado é exatamente o mesmo obtido no exercício anterior."
      ]
    },
    {
      "cell_type": "code",
      "execution_count": 58,
      "metadata": {},
      "outputs": [
        {
          "name": "stdout",
          "output_type": "stream",
          "text": [
            "tensor(0.6921, device='cuda:0', grad_fn=<BinaryCrossEntropyBackward0>)\n"
          ]
        }
      ],
      "source": [
        "loss_fn = nn.BCELoss()\n",
        "\n",
        "loss = loss_fn(prob.squeeze(), target.float())\n",
        "print(loss)"
      ]
    },
    {
      "cell_type": "markdown",
      "metadata": {},
      "source": [
        "Notamos que o valor foi o mesmo que o obtido acima."
      ]
    },
    {
      "cell_type": "markdown",
      "metadata": {},
      "source": [
        "##### V.1.d) Repita o mesmo exercício, porém agora usando a classe nn.BCEWithLogitsLoss, que é a opção utilizada no notebook. O resultado da Loss deve igualar aos resultados anteriores."
      ]
    },
    {
      "cell_type": "code",
      "execution_count": 60,
      "metadata": {},
      "outputs": [
        {
          "name": "stdout",
          "output_type": "stream",
          "text": [
            "tensor(0.6921, device='cuda:0',\n",
            "       grad_fn=<BinaryCrossEntropyWithLogitsBackward0>)\n"
          ]
        }
      ],
      "source": [
        "loss_fn = nn.BCEWithLogitsLoss()\n",
        "\n",
        "loss = loss_fn(logit.squeeze(), target.float())\n",
        "print(loss)"
      ]
    },
    {
      "cell_type": "markdown",
      "metadata": {},
      "source": [
        "Novamente chegamos ao mesmo valor calculado."
      ]
    },
    {
      "cell_type": "markdown",
      "metadata": {},
      "source": [
        "##### V.2.a) Modifique a célula do laço de treinamento de modo que a primeira Loss a ser impressa seja a Loss com o modelo inicializado (isto é, sem nenhum treinamento), fornecendo a Loss esperada conforme os exercícios feitos anteriormente. Observe que desta forma, fica fácil verificar se o seu modelo está correto e a Loss está sendo calculada corretamente. Atenção: Mantenha esse código da impressão do valor da Loss inicial, antes do treinamento, nesta célula, pois ela é sempre útil para verificar se não tem nada errado, antes de começar o treinamento.\n"
      ]
    },
    {
      "cell_type": "code",
      "execution_count": 71,
      "metadata": {},
      "outputs": [
        {
          "name": "stdout",
          "output_type": "stream",
          "text": [
            "Loss before training: 0.6936\n",
            "\n",
            "Epoch [1/5],               Loss: 0.4748\n",
            "Epoch [2/5],               Loss: 0.3622\n",
            "Epoch [3/5],               Loss: 0.3013\n",
            "Epoch [4/5],               Loss: 0.3028\n",
            "Epoch [5/5],               Loss: 0.4386\n",
            "\n"
          ]
        }
      ],
      "source": [
        "# Medição da perda\n",
        "def train_first_loss(model, lr):\n",
        "\n",
        "  model = model.to(device)\n",
        "  # Define loss and optimizer\n",
        "  criterion = nn.BCEWithLogitsLoss()\n",
        "\n",
        "  optimizer = optim.SGD(model.parameters(), lr)\n",
        "\n",
        "  # Training loop\n",
        "  num_epochs = 5\n",
        "  # First loss calculation\n",
        "  is_first_loss = True\n",
        "\n",
        "  for epoch in range(num_epochs):\n",
        "      start_time = time.time()\n",
        "      model.train()\n",
        "\n",
        "      for inputs, labels in train_loader:\n",
        "\n",
        "          if not preload_to_gpu:\n",
        "            inputs = inputs.to(device)\n",
        "            labels = labels.to(device)\n",
        "\n",
        "          # Forward pass\n",
        "          outputs = model(inputs)\n",
        "          loss = criterion(outputs.squeeze(), labels.float())\n",
        "\n",
        "          if is_first_loss:\n",
        "            print(f'Loss before training: {loss.item():.4f}')\n",
        "            is_first_loss = False\n",
        "            print()\n",
        "\n",
        "          # Backward and optimize\n",
        "          backward_start = time.time()\n",
        "          optimizer.zero_grad()\n",
        "          loss.backward()\n",
        "          optimizer.step()\n",
        "\n",
        "      print(f'Epoch [{epoch+1}/{num_epochs}], \\\n",
        "              Loss: {loss.item():.4f}')\n",
        "  print()\n",
        "  \n",
        "model = OneHotMLP(vocab_size)       \n",
        "train_first_loss(model, best_LR)"
      ]
    },
    {
      "cell_type": "markdown",
      "metadata": {},
      "source": [
        "Notamos que o primeiro valor calculado da perda se manteve o mesmo."
      ]
    },
    {
      "cell_type": "markdown",
      "metadata": {},
      "source": [
        "##### V.2.b) Execute a célula de treinamento por uma segunda vez e observe que a Loss continua diminuindo e o modelo está continuando a ser treinado. O que é necessário fazer para que o treinamento comece novamente do modelo aleatório? Qual(is) célula(s) é(são) preciso executar antes de executar o laço de treinamento novamente?\n",
        "\n",
        "Para que o treinamento inicie novamente, os pesos devem ser resetados a seus valores iniciais.\n",
        "Uma maneira de fazer isso é criando uma função que resete os parãmetros de cada camada, por exemplo:"
      ]
    },
    {
      "cell_type": "code",
      "execution_count": 67,
      "metadata": {},
      "outputs": [],
      "source": [
        "def reset_weights(model):\n",
        "  for module in model.modules():\n",
        "    if isinstance(module, nn.Linear):\n",
        "      module.reset_parameters()"
      ]
    },
    {
      "cell_type": "markdown",
      "metadata": {},
      "source": [
        "E adicionar ao loop de treinamento acima."
      ]
    },
    {
      "cell_type": "code",
      "execution_count": 74,
      "metadata": {},
      "outputs": [],
      "source": [
        "# Medição da perda\n",
        "def train_first_loss_reset(model, lr):\n",
        "\n",
        "  model = model.to(device)\n",
        "  reset_weights(model)\n",
        "  # Define loss and optimizer\n",
        "  criterion = nn.BCEWithLogitsLoss()\n",
        "\n",
        "  optimizer = optim.SGD(model.parameters(), lr)\n",
        "\n",
        "  # Training loop\n",
        "  num_epochs = 5\n",
        "  # First loss calculation\n",
        "  is_first_loss = True\n",
        "\n",
        "  for epoch in range(num_epochs):\n",
        "      start_time = time.time()\n",
        "      model.train()\n",
        "\n",
        "      for inputs, labels in train_loader:\n",
        "\n",
        "          if not preload_to_gpu:\n",
        "            inputs = inputs.to(device)\n",
        "            labels = labels.to(device)\n",
        "\n",
        "          # Forward pass\n",
        "          outputs = model(inputs)\n",
        "          loss = criterion(outputs.squeeze(), labels.float())\n",
        "\n",
        "          if is_first_loss:\n",
        "            print(f'Loss before training: {loss.item():.4f}')\n",
        "            is_first_loss = False\n",
        "            print()\n",
        "\n",
        "          # Backward and optimize\n",
        "          backward_start = time.time()\n",
        "          optimizer.zero_grad()\n",
        "          loss.backward()\n",
        "          optimizer.step()\n",
        "\n",
        "      print(f'Epoch [{epoch+1}/{num_epochs}], \\\n",
        "              Loss: {loss.item():.4f}')\n",
        "  print()"
      ]
    },
    {
      "cell_type": "markdown",
      "metadata": {},
      "source": [
        "Sem o reset de parâmetros:"
      ]
    },
    {
      "cell_type": "code",
      "execution_count": 75,
      "metadata": {},
      "outputs": [
        {
          "name": "stdout",
          "output_type": "stream",
          "text": [
            "Loss before training: 0.6938\n",
            "\n",
            "Epoch [1/5],               Loss: 0.4888\n",
            "Epoch [2/5],               Loss: 0.4152\n",
            "Epoch [3/5],               Loss: 0.3470\n",
            "Epoch [4/5],               Loss: 0.2847\n",
            "Epoch [5/5],               Loss: 0.2571\n",
            "\n",
            "Loss before training: 0.2448\n",
            "\n",
            "Epoch [1/5],               Loss: 0.2556\n",
            "Epoch [2/5],               Loss: 0.2712\n",
            "Epoch [3/5],               Loss: 0.1980\n",
            "Epoch [4/5],               Loss: 0.1833\n",
            "Epoch [5/5],               Loss: 0.1780\n",
            "\n"
          ]
        }
      ],
      "source": [
        "model = OneHotMLP(vocab_size)       \n",
        "train_first_loss(model, best_LR)\n",
        "train_first_loss(model, best_LR)"
      ]
    },
    {
      "cell_type": "markdown",
      "metadata": {},
      "source": [
        "Com reset de parâmetros:"
      ]
    },
    {
      "cell_type": "code",
      "execution_count": 76,
      "metadata": {},
      "outputs": [
        {
          "name": "stdout",
          "output_type": "stream",
          "text": [
            "Loss before training: 0.6931\n",
            "\n",
            "Epoch [1/5],               Loss: 0.4860\n",
            "Epoch [2/5],               Loss: 0.3120\n",
            "Epoch [3/5],               Loss: 0.3280\n",
            "Epoch [4/5],               Loss: 0.3253\n",
            "Epoch [5/5],               Loss: 0.2360\n",
            "\n",
            "Loss before training: 0.6938\n",
            "\n",
            "Epoch [1/5],               Loss: 0.4715\n",
            "Epoch [2/5],               Loss: 0.3484\n",
            "Epoch [3/5],               Loss: 0.4086\n",
            "Epoch [4/5],               Loss: 0.2413\n",
            "Epoch [5/5],               Loss: 0.4374\n",
            "\n"
          ]
        }
      ],
      "source": [
        "model = OneHotMLP(vocab_size)       \n",
        "train_first_loss_reset(model, best_LR)\n",
        "train_first_loss_reset(model, best_LR)"
      ]
    }
  ],
  "metadata": {
    "accelerator": "GPU",
    "colab": {
      "gpuType": "T4",
      "provenance": []
    },
    "kernelspec": {
      "display_name": "IA024",
      "language": "python",
      "name": "ia024"
    },
    "language_info": {
      "codemirror_mode": {
        "name": "ipython",
        "version": 3
      },
      "file_extension": ".py",
      "mimetype": "text/x-python",
      "name": "python",
      "nbconvert_exporter": "python",
      "pygments_lexer": "ipython3",
      "version": "3.11.4"
    }
  },
  "nbformat": 4,
  "nbformat_minor": 0
}
