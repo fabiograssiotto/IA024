{
  "cells": [
    {
      "cell_type": "markdown",
      "metadata": {
        "id": "fMI0JT_YuYF3"
      },
      "source": [
        "## Exercício: LoRA\n",
        "\n",
        "- Exercício didático para entender a técnica de fazer ajuste fino em modelos grandes usando poucos recursos\n",
        "- Aplicar no pré exercício de análise de sentimento ou no segundo exercício, e modelo de linguagem, com vocabulário de 3000 palavras, embedding size e 2 camadas, treinados da forma usual (medir tempo de treinamento/época)\n",
        "- Modificar o seu modelo para adotar a técnica do LoRA no embedding e nas 2 camadas, e fazer o ajuste-fino, isto é, continuar o treinamento anterior, lembrando que as matrizes originais ficarão congeladas e o ajuste dos pesos serão apenas aplicados nas matrizes do LoRA. Medir o tempo de treinamento/época.\n",
        "- Por último, substituir o modelo original, com os novos pesos calculados pelo W + LoRA."
      ]
    },
    {
      "cell_type": "code",
      "execution_count": 1,
      "metadata": {},
      "outputs": [],
      "source": [
        "import os\n",
        "import sys\n",
        "import random\n",
        "import time\n",
        "import re\n",
        "from collections import Counter\n",
        "from sklearn.model_selection import train_test_split\n",
        "\n",
        "# Pytorch\n",
        "import torch\n",
        "import torch.nn as nn\n",
        "import torch.nn.functional as F\n",
        "from torch.utils.data import Dataset, DataLoader"
      ]
    },
    {
      "cell_type": "code",
      "execution_count": 2,
      "metadata": {},
      "outputs": [],
      "source": [
        "# Global variables\n",
        "\n",
        "# Vocabulary\n",
        "vocab_size = 3000\n",
        "context_size = 9\n",
        "pattern = r'\\w+|[,;.:!?\\']'\n",
        "\n",
        "# Training\n",
        "batch_size = 32\n",
        "epochs = 10\n",
        "lr = 0.001\n",
        "\n",
        "# Model\n",
        "embedding_dim = 64\n",
        "hidden_dim = 200"
      ]
    },
    {
      "cell_type": "code",
      "execution_count": 3,
      "metadata": {},
      "outputs": [
        {
          "data": {
            "text/plain": [
              "device(type='cuda')"
            ]
          },
          "execution_count": 3,
          "metadata": {},
          "output_type": "execute_result"
        }
      ],
      "source": [
        "# Colab environment\n",
        "IN_COLAB = 'google.colab' in sys.modules\n",
        "\n",
        "if (IN_COLAB):\n",
        "    %pip install colorama\n",
        "\n",
        "    # Google Drive\n",
        "    from google.colab import drive\n",
        "    drive.mount('/content/drive', force_remount=True)\n",
        "\n",
        "    project_folder=\"/content/drive/MyDrive/Classes/IA024/Aula_2_3\"\n",
        "    os.chdir(project_folder)\n",
        "    !ls -la\n",
        "\n",
        "device = torch.device('cuda' if torch.cuda.is_available() else 'cpu')\n",
        "device"
      ]
    },
    {
      "cell_type": "markdown",
      "metadata": {
        "id": "bYbkEzdD37sZ"
      },
      "source": [
        "## Faz download e carrega o dataset"
      ]
    },
    {
      "cell_type": "code",
      "execution_count": 4,
      "metadata": {
        "colab": {
          "base_uri": "https://localhost:8080/"
        },
        "id": "9qAnqY_q0beK",
        "outputId": "f810fdb0-138d-4917-b7ef-69ab266acef6"
      },
      "outputs": [],
      "source": [
        "# Check if download is necessary\n",
        "if not os.path.exists(\"67724.txt.utf-8\"):\n",
        "    print(\"Downloading Gutenberg texts\")\n",
        "\n",
        "    !wget https://www.gutenberg.org/ebooks/67724.txt.utf-8\n",
        "    !wget https://www.gutenberg.org/ebooks/67725.txt.utf-8"
      ]
    },
    {
      "cell_type": "markdown",
      "metadata": {},
      "source": [
        "### Limpeza do texto principal"
      ]
    },
    {
      "cell_type": "code",
      "execution_count": 5,
      "metadata": {
        "colab": {
          "base_uri": "https://localhost:8080/"
        },
        "id": "6_UzC9pV091C",
        "outputId": "1553b04f-24c4-4027-8cab-0907f92f04df"
      },
      "outputs": [
        {
          "name": "stdout",
          "output_type": "stream",
          "text": [
            "Number of paragraphs: 4596\n"
          ]
        }
      ],
      "source": [
        "text_1 = open(\"67724.txt.utf-8\",\"r\").read()\n",
        "text_2 = open(\"67725.txt.utf-8\",\"r\").read()\n",
        "\n",
        "def clean_text(text):\n",
        "    start_marker = \"*** START OF THE PROJECT GUTENBERG EBOOK\"\n",
        "    end_marker = \"*** END OF THE PROJECT GUTENBERG EBOOK\"\n",
        "    text_start = text.find(start_marker)\n",
        "    text_end = text.find(end_marker)\n",
        "\n",
        "    text_content= text[text_start:text_end].replace('\\r','')\n",
        "    paragraphs = []\n",
        "    for paragraph in text_content.split(\"\\n\\n\"):\n",
        "        paragraph = paragraph.replace('\\n', ' ').strip()\n",
        "        # Validation of length and index lines\n",
        "        if (len(paragraph) > 10 and '....' not in paragraph):\n",
        "            paragraphs.append(paragraph)\n",
        "    return paragraphs\n",
        "\n",
        "cleaned_paragraphs = clean_text(text_1)+clean_text(text_2)\n",
        "print(f'Number of paragraphs: {len(cleaned_paragraphs)}')"
      ]
    },
    {
      "cell_type": "markdown",
      "metadata": {
        "id": "bFVN2ihb33Rf"
      },
      "source": [
        "## Análise do dataset"
      ]
    },
    {
      "cell_type": "code",
      "execution_count": 6,
      "metadata": {
        "colab": {
          "base_uri": "https://localhost:8080/"
        },
        "id": "qSRHqe3H4ZFw",
        "outputId": "4a985c7a-ce1d-4b72-d253-c9fbbc5f9440"
      },
      "outputs": [
        {
          "data": {
            "text/plain": [
              "11875"
            ]
          },
          "execution_count": 6,
          "metadata": {},
          "output_type": "execute_result"
        }
      ],
      "source": [
        "# Conta as palavras no dataset\n",
        "def count_words(texts):\n",
        "    word_counts = Counter()\n",
        "    for text in texts:\n",
        "        word_counts.update(re.findall(pattern, text.lower()))\n",
        "    return word_counts\n",
        "\n",
        "word_counts = count_words(cleaned_paragraphs)\n",
        "\n",
        "len(word_counts)"
      ]
    },
    {
      "cell_type": "markdown",
      "metadata": {
        "id": "EyGVDL9KzJ_I"
      },
      "source": [
        "## Criando um vocabulário"
      ]
    },
    {
      "cell_type": "code",
      "execution_count": 7,
      "metadata": {
        "id": "FiP7OCo9zJ_I"
      },
      "outputs": [],
      "source": [
        "most_frequent_words = [word for word, count in word_counts.most_common(vocab_size)]\n",
        "vocab = {word: i for i, word in enumerate(most_frequent_words, 1)}"
      ]
    },
    {
      "cell_type": "code",
      "execution_count": 8,
      "metadata": {},
      "outputs": [
        {
          "name": "stdout",
          "output_type": "stream",
          "text": [
            "Most Frequent Words: [',', '.', 'a', 'que', 'o', 'de', 'e', 'se', ';', 'um']\n",
            "Vocabulary Size: 3000\n"
          ]
        }
      ],
      "source": [
        "print(f\"Most Frequent Words: {most_frequent_words[:10]}\")\n",
        "print(f\"Vocabulary Size: {len(vocab)}\")"
      ]
    },
    {
      "cell_type": "markdown",
      "metadata": {},
      "source": [
        "#### Codificação / Decodificação das sentenças"
      ]
    },
    {
      "cell_type": "code",
      "execution_count": 84,
      "metadata": {
        "colab": {
          "base_uri": "https://localhost:8080/"
        },
        "id": "RhbhAsZbzJ_J",
        "outputId": "6a53c9e0-308d-4082-e225-cfa376e8f39a"
      },
      "outputs": [
        {
          "name": "stdout",
          "output_type": "stream",
          "text": [
            "Original Seq: Ahi, o _Paquequer_ lança-se rapido sobre o seu leito, e atravessa as florestas como o tapir, espumando, deixando o pello esparso pelas pontas de rochedo, e enchendo a solidão com o estampido de sua carreira. De repente, falta-lhe o espaço, foge-lhe a terra; o soberbo rio recúa um momento para concentrar as suas forças e precipita-se de um só arremesso, como o tigre sobre a presa.\n",
            "Encoded: [235, 1, 5, 723, 0, 8, 762, 38, 5, 19, 324, 1, 7, 0, 23, 634, 28, 5, 2447, 1, 0, 1, 763, 5, 1776, 0, 269, 1065, 6, 486, 1, 7, 2448, 3, 687, 16, 5, 2449, 6, 17, 1777, 2, 6, 240, 1, 522, 29, 5, 612, 1, 0, 29, 3, 128, 9, 5, 1577, 99, 0, 10, 72, 18, 0, 23, 87, 591, 7, 2450, 8, 6, 10, 74, 0, 1, 28, 5, 592, 38, 3, 979, 2]\n",
            "Decoded: ['ahi', ',', 'o', '_paquequer_', '<UNK>', 'se', 'rapido', 'sobre', 'o', 'seu', 'leito', ',', 'e', '<UNK>', 'as', 'florestas', 'como', 'o', 'tapir', ',', '<UNK>', ',', 'deixando', 'o', 'pello', '<UNK>', 'pelas', 'pontas', 'de', 'rochedo', ',', 'e', 'enchendo', 'a', 'solidão', 'com', 'o', 'estampido', 'de', 'sua', 'carreira', '.', 'de', 'repente', ',', 'falta', 'lhe', 'o', 'espaço', ',', '<UNK>', 'lhe', 'a', 'terra', ';', 'o', 'soberbo', 'rio', '<UNK>', 'um', 'momento', 'para', '<UNK>', 'as', 'suas', 'forças', 'e', 'precipita', 'se', 'de', 'um', 'só', '<UNK>', ',', 'como', 'o', 'tigre', 'sobre', 'a', 'presa', '.']\n",
            "Reconstructed Seq: ahi , o _paquequer_ <UNK> se rapido sobre o seu leito , e <UNK> as florestas como o tapir , <UNK> , deixando o pello <UNK> pelas pontas de rochedo , e enchendo a solidão com o estampido de sua carreira . de repente , falta lhe o espaço , <UNK> lhe a terra ; o soberbo rio <UNK> um momento para <UNK> as suas forças e precipita se de um só <UNK> , como o tigre sobre a presa .\n"
          ]
        }
      ],
      "source": [
        "def encode_sentence(sentence, vocab):\n",
        "    return [vocab.get(word, 0) for word in re.findall(pattern, sentence.lower())]\n",
        "\n",
        "def decode_sentence(encoded_sentence, vocab):\n",
        "    words = []\n",
        "    for index in encoded_sentence:\n",
        "        word = next((word for word, code in vocab.items() if code == index), \"<UNK>\")\n",
        "        words.append(word)\n",
        "\n",
        "    return words\n",
        "\n",
        "seq = cleaned_paragraphs[20]\n",
        "spc = ' '\n",
        "encoded = encode_sentence(seq, vocab)\n",
        "decoded = decode_sentence(encoded, vocab)\n",
        "\n",
        "print(f'Original Seq: {seq}')\n",
        "print(f'Encoded: {encoded}')\n",
        "print(f'Decoded: {decoded}')\n",
        "print(f'Reconstructed Seq: {spc.join(decoded)}')"
      ]
    },
    {
      "cell_type": "markdown",
      "metadata": {
        "id": "wia_ygbvzJ_J"
      },
      "source": [
        "## Classe do dataset"
      ]
    },
    {
      "cell_type": "code",
      "execution_count": 10,
      "metadata": {
        "id": "Iy-elI1magRR"
      },
      "outputs": [],
      "source": [
        "# Dataset class\n",
        "class BagOfWordsDataset(Dataset):\n",
        "  def __init__(self, paragraphs, vocab, context):\n",
        "    self.paragraphs = paragraphs\n",
        "    self.vocab = vocab\n",
        "    self.context = context\n",
        "    self.tokens, self.targets = self.setup()\n",
        "\n",
        "  def __len__(self):\n",
        "    return len(self.tokens)\n",
        "\n",
        "  def __getitem__(self, idx):\n",
        "    return torch.tensor(self.tokens[idx]), torch.tensor(self.targets[idx])\n",
        "  \n",
        "  def setup(self):\n",
        "    tokens = []\n",
        "    targets = []\n",
        "    for paragraph in self.paragraphs:\n",
        "      encoded = encode_sentence(paragraph, self.vocab)\n",
        "      \n",
        "      # If paragraph is smaller than the context, skip it.\n",
        "      if len(encoded) < self.context + 1:\n",
        "          continue\n",
        "\n",
        "      for i in range(len(encoded) - self.context):\n",
        "        tks = encoded[i:i+self.context]\n",
        "        tgt = encoded[i+self.context]\n",
        "        # Only add if there are no unknown tokens in both context and target.\n",
        "        bad_token = 0\n",
        "        if not (bad_token in tks or tgt == bad_token):\n",
        "          tokens.append(tks)\n",
        "          targets.append(tgt)\n",
        "    return tokens, targets\n"
      ]
    },
    {
      "cell_type": "code",
      "execution_count": 11,
      "metadata": {
        "colab": {
          "base_uri": "https://localhost:8080/"
        },
        "id": "aD1CVci2zJ_J",
        "outputId": "5bf0839e-f30e-4ff2-ed6f-4f3fda782b7c"
      },
      "outputs": [
        {
          "name": "stdout",
          "output_type": "stream",
          "text": [
            "Training samples: 3676\n",
            "Validation samples: 920\n",
            "\n",
            "Training dataset samples: 24360\n",
            "Validation dataset samples: 5851\n"
          ]
        }
      ],
      "source": [
        "# Train/Validation split\n",
        "train_data, val_data = train_test_split(cleaned_paragraphs, test_size=0.2, random_state=18)\n",
        "\n",
        "train_dataset = BagOfWordsDataset(train_data, vocab, context_size)\n",
        "val_dataset = BagOfWordsDataset(val_data, vocab, context_size)\n",
        "\n",
        "# Counting all Samples\n",
        "print(f\"Training samples: {len(train_data)}\")\n",
        "print(f\"Validation samples: {len(val_data)}\")\n",
        "print()\n",
        "print(f\"Training dataset samples: {len(train_dataset)}\")\n",
        "print(f\"Validation dataset samples: {len(val_dataset)}\")"
      ]
    },
    {
      "cell_type": "code",
      "execution_count": 12,
      "metadata": {},
      "outputs": [
        {
          "name": "stdout",
          "output_type": "stream",
          "text": [
            "[tensor([[394,  21,   4,   8, 506,   5, 315,   6,  34]]), tensor([2])]\n"
          ]
        }
      ],
      "source": [
        "tst_loader = DataLoader(train_dataset, batch_size = 1, shuffle=True)\n",
        "sample = next(iter(tst_loader))\n",
        "print(sample)"
      ]
    },
    {
      "cell_type": "code",
      "execution_count": 13,
      "metadata": {
        "id": "gC0C5qn2zJ_J"
      },
      "outputs": [],
      "source": [
        "# Train/val loaders\n",
        "train_loader = DataLoader(train_dataset, batch_size=batch_size, shuffle=True)\n",
        "val_loader = DataLoader(val_dataset, batch_size=batch_size, shuffle=True)"
      ]
    },
    {
      "cell_type": "markdown",
      "metadata": {
        "id": "-5_-Yud0zJ_K"
      },
      "source": [
        "## Model"
      ]
    },
    {
      "cell_type": "code",
      "execution_count": 14,
      "metadata": {
        "id": "I2qKG9YczJ_K"
      },
      "outputs": [],
      "source": [
        "class BengioModel(torch.nn.Module):\n",
        "    def __init__(self, vocab_size, embedding_dim, context_size, h):\n",
        "        super(BengioModel, self).__init__()\n",
        "        self.embeddings = nn.Embedding(vocab_size+1, embedding_dim)\n",
        "        self.linear1 = nn.Linear(context_size * embedding_dim, h, bias=True)\n",
        "        self.relu = torch.nn.ReLU()\n",
        "        self.linear2 = nn.Linear(h, vocab_size+1, bias=True)\n",
        "\n",
        "    def forward(self, inputs):\n",
        "        embeds = self.embeddings(inputs)\n",
        "        # Flatten embeddings\n",
        "        embeds = embeds.view(embeds.size(0), -1)\n",
        "        # Linear layer\n",
        "        out = self.linear1(embeds)\n",
        "        # Relu \n",
        "        out = self.relu(out)\n",
        "        # Second layer\n",
        "        out = self.linear2(out)\n",
        "\n",
        "        return out"
      ]
    },
    {
      "cell_type": "code",
      "execution_count": 15,
      "metadata": {
        "id": "7yjQ1KXOzJ_K"
      },
      "outputs": [],
      "source": [
        "model = BengioModel(vocab_size, embedding_dim, context_size, hidden_dim)"
      ]
    },
    {
      "cell_type": "markdown",
      "metadata": {},
      "source": [
        "#### Teste básico do modelo"
      ]
    },
    {
      "cell_type": "code",
      "execution_count": 16,
      "metadata": {
        "id": "xmsD59TfzJ_K"
      },
      "outputs": [
        {
          "name": "stdout",
          "output_type": "stream",
          "text": [
            "torch.Size([32, 9])\n",
            "torch.Size([32])\n",
            "tensor([1435, 2701, 1221,  633, 2053, 2462, 2327, 1546,  817,  647,  633, 1184,\n",
            "         426, 2421, 1984,  633,  943,   73, 1059, 1184, 2239, 2715, 2882, 1275,\n",
            "        2761, 1546, 2157,  223,  223,  633,  830, 1221])\n",
            "tensor([  34,    6,    8,   41,  803,    2,  357,   17,    1,    4,   40,   95,\n",
            "          10,    1,    1,    3,   10,   41,   39, 1190,  209,   90,  372,   70,\n",
            "         625,   18,  718,    1, 1370, 1443,    1,    7])\n"
          ]
        }
      ],
      "source": [
        "sample = next(iter(train_loader))\n",
        "input = sample[0]\n",
        "target = sample[1]\n",
        "\n",
        "print(input.shape)\n",
        "print(target.shape)\n",
        "\n",
        "output = model(input)\n",
        "pred = output.argmax(dim=1)\n",
        "\n",
        "print(pred)\n",
        "print(target)"
      ]
    },
    {
      "cell_type": "markdown",
      "metadata": {
        "id": "UngUhyu7zJ_L"
      },
      "source": [
        "## Training"
      ]
    },
    {
      "cell_type": "markdown",
      "metadata": {},
      "source": [
        "### Funções de Treinamento e Avaliação do Modelo"
      ]
    },
    {
      "cell_type": "markdown",
      "metadata": {},
      "source": [
        "#### Função para Contagem de Parâmetros do Modelo"
      ]
    },
    {
      "cell_type": "code",
      "execution_count": 17,
      "metadata": {},
      "outputs": [
        {
          "name": "stdout",
          "output_type": "stream",
          "text": [
            "O modelo tem um total de 910,665 parâmetros.\n"
          ]
        }
      ],
      "source": [
        "def count_parameters(model):\n",
        "    return sum(p.numel() for p in model.parameters() if p.requires_grad)\n",
        "\n",
        "# Exemplo de uso:\n",
        "total_params = count_parameters(model)\n",
        "print(f'O modelo tem um total de {total_params:,} parâmetros.')"
      ]
    },
    {
      "cell_type": "markdown",
      "metadata": {},
      "source": [
        "#### Função para Avaliação Inicial do Modelo"
      ]
    },
    {
      "cell_type": "code",
      "execution_count": 18,
      "metadata": {},
      "outputs": [],
      "source": [
        "def init_eval():\n",
        "    # Initial Perplexity and Loss\n",
        "    # Before training\n",
        "    model.eval()\n",
        "\n",
        "    loss = 0\n",
        "    perp = 0\n",
        "\n",
        "    with torch.no_grad():\n",
        "        for inputs, targets in train_loader:\n",
        "            inputs = inputs.to(device)\n",
        "            targets = targets.to(device)\n",
        "            outputs = model(inputs)\n",
        "            loss += criterion(outputs, targets).item()\n",
        "\n",
        "    loss /= len(train_loader)\n",
        "    perp = torch.exp(torch.tensor(loss))\n",
        "\n",
        "    print(f'Initial Loss: {loss:.4f}')\n",
        "    print(f'Initial Perplexity: {perp:.4f}')"
      ]
    },
    {
      "cell_type": "markdown",
      "metadata": {},
      "source": [
        "#### Função para Treinamento do Modelo"
      ]
    },
    {
      "cell_type": "code",
      "execution_count": 19,
      "metadata": {},
      "outputs": [],
      "source": [
        "def train():\n",
        "      # Training Loop\n",
        "      model.train()\n",
        "      for epoch in range(epochs):\n",
        "\n",
        "            epoch_start = time.time()\n",
        "            # Metrics\n",
        "            epoch_loss = 0\n",
        "            epoch_correct = 0\n",
        "            epoch_samples = 0\n",
        "\n",
        "            for inputs, targets in train_loader:\n",
        "                  inputs = inputs.to(device)  # Move input data to the device\n",
        "                  targets = targets.to(device)\n",
        "\n",
        "                  # Forward pass\n",
        "                  outputs = model(inputs)\n",
        "                  loss = criterion(outputs, targets)\n",
        "\n",
        "                  # Backward pass and optimization\n",
        "                  optimizer.zero_grad()\n",
        "                  loss.backward()\n",
        "                  optimizer.step()\n",
        "\n",
        "                  # Loss\n",
        "                  epoch_loss += loss.item()\n",
        "\n",
        "                  # Predicted\n",
        "                  predicted = outputs.argmax(dim=1)\n",
        "                  epoch_correct += (predicted == targets).sum().item()\n",
        "                  epoch_samples += targets.size(0)\n",
        "\n",
        "            # Calculate average loss and accuracy for epoch\n",
        "            avg_loss = epoch_loss / len(train_loader)\n",
        "            acc = epoch_correct / epoch_samples\n",
        "\n",
        "            # Perplexity\n",
        "            perp = torch.exp(torch.tensor(avg_loss))\n",
        "\n",
        "            epoch_end = time.time()\n",
        "            epoch_time = epoch_end - epoch_start\n",
        "            # Print epoch statistics\n",
        "            print(f'Epoch [{epoch+1}/{epochs}], Time:{epoch_time:.2f}, Loss: {avg_loss:.4f}, Accuracy: {acc:.2f}%, Perplexity: {perp:.4f}')\n"
      ]
    },
    {
      "cell_type": "markdown",
      "metadata": {
        "id": "PSXfwYISDoPN"
      },
      "source": [
        "#### Função para Avaliação na Base de Validação"
      ]
    },
    {
      "cell_type": "code",
      "execution_count": 20,
      "metadata": {
        "id": "nXXO78GSDqPg"
      },
      "outputs": [],
      "source": [
        "def eval():\n",
        "    model.eval()\n",
        "\n",
        "    loss_sum = 0\n",
        "    total_sum = 0\n",
        "    correct_sum = 0\n",
        "    eval_round = 0\n",
        "\n",
        "    loss = 0\n",
        "    perp = 0\n",
        "\n",
        "    with torch.no_grad():\n",
        "        for inputs, targets in val_loader:\n",
        "            inputs = inputs.to(device)\n",
        "            targets = targets.to(device)\n",
        "\n",
        "            outputs = model(inputs)\n",
        "            loss = criterion(outputs, targets)      \n",
        "            loss_sum += loss\n",
        "\n",
        "            # Get the predicted labels\n",
        "            predicted = outputs.argmax(dim=1)\n",
        "\n",
        "            total_sum += targets.size(0)\n",
        "            correct_sum += (predicted == targets).sum().item()\n",
        "            eval_round += 1\n",
        "\n",
        "    # Calculate accuracy\n",
        "    acc = 100 * correct_sum / total_sum\n",
        "\n",
        "    # Calculate average perplexity\n",
        "    average_loss = loss_sum / len(val_loader)\n",
        "    average_perplexity = torch.exp(average_loss)\n",
        "\n",
        "    print(f'Test Accuracy: {acc:.2f}%')\n",
        "    print(f'Average Loss: {average_loss:.2f}')\n",
        "    print(f'Average Perplexity: {average_perplexity:.2f}')"
      ]
    },
    {
      "cell_type": "markdown",
      "metadata": {},
      "source": [
        "### Treinamento e Avaliação"
      ]
    },
    {
      "cell_type": "code",
      "execution_count": 21,
      "metadata": {},
      "outputs": [
        {
          "name": "stdout",
          "output_type": "stream",
          "text": [
            "BengioModel(\n",
            "  (embeddings): Embedding(3001, 64)\n",
            "  (linear1): Linear(in_features=576, out_features=200, bias=True)\n",
            "  (relu): ReLU()\n",
            "  (linear2): Linear(in_features=200, out_features=3001, bias=True)\n",
            ")\n"
          ]
        },
        {
          "data": {
            "text/plain": [
              "910665"
            ]
          },
          "execution_count": 21,
          "metadata": {},
          "output_type": "execute_result"
        }
      ],
      "source": [
        "# Cross Entropy\n",
        "criterion = nn.CrossEntropyLoss()\n",
        "\n",
        "# Optimizer\n",
        "optimizer = torch.optim.SGD(model.parameters(), lr)\n",
        "\n",
        "model.to(device)\n",
        "print(model)\n",
        "count_parameters(model)"
      ]
    },
    {
      "cell_type": "code",
      "execution_count": 22,
      "metadata": {},
      "outputs": [
        {
          "name": "stdout",
          "output_type": "stream",
          "text": [
            "Initial Evaluation\n",
            "\n",
            "Initial Loss: 8.0423\n",
            "Initial Perplexity: 3109.8086\n",
            "\n",
            "Training the Model\n",
            "\n",
            "Epoch [1/10], Time:2.76, Loss: 7.9736, Accuracy: 0.00%, Perplexity: 2903.2432\n",
            "Epoch [2/10], Time:2.64, Loss: 7.8292, Accuracy: 0.03%, Perplexity: 2512.8303\n",
            "Epoch [3/10], Time:2.72, Loss: 7.6685, Accuracy: 0.05%, Perplexity: 2139.8926\n",
            "Epoch [4/10], Time:2.82, Loss: 7.4744, Accuracy: 0.06%, Perplexity: 1762.2626\n",
            "Epoch [5/10], Time:2.71, Loss: 7.2319, Accuracy: 0.06%, Perplexity: 1382.8102\n",
            "Epoch [6/10], Time:2.67, Loss: 6.9625, Accuracy: 0.06%, Perplexity: 1056.2560\n",
            "Epoch [7/10], Time:2.67, Loss: 6.7537, Accuracy: 0.06%, Perplexity: 857.2641\n",
            "Epoch [8/10], Time:2.41, Loss: 6.6226, Accuracy: 0.07%, Perplexity: 751.9162\n",
            "Epoch [9/10], Time:2.57, Loss: 6.5371, Accuracy: 0.08%, Perplexity: 690.3011\n",
            "Epoch [10/10], Time:2.51, Loss: 6.4710, Accuracy: 0.08%, Perplexity: 646.1207\n",
            "\n",
            "Evaluation on the Validation Dataset\n",
            "Test Accuracy: 7.64%\n",
            "Average Loss: 6.49\n",
            "Average Perplexity: 657.21\n"
          ]
        }
      ],
      "source": [
        "print(\"Initial Evaluation\")\n",
        "print()\n",
        "init_eval()\n",
        "print()\n",
        "print(\"Training the Model\")\n",
        "print()\n",
        "train()\n",
        "print()\n",
        "print(\"Evaluation on the Validation Dataset\")\n",
        "eval()"
      ]
    },
    {
      "cell_type": "markdown",
      "metadata": {
        "id": "A1zhxVqfzJ_M"
      },
      "source": [
        "## Geração de Sentenças"
      ]
    },
    {
      "cell_type": "code",
      "execution_count": 128,
      "metadata": {},
      "outputs": [
        {
          "name": "stderr",
          "output_type": "stream",
          "text": [
            "C:\\Users\\fabio.grassiotto\\AppData\\Local\\Temp\\ipykernel_12660\\2865815520.py:10: UserWarning: To copy construct from a tensor, it is recommended to use sourceTensor.clone().detach() or sourceTensor.clone().detach().requires_grad_(True), rather than torch.tensor(sourceTensor).\n",
            "  context = torch.tensor(inputs, dtype=torch.long).squeeze().to(device)\n",
            "C:\\Users\\fabio.grassiotto\\AppData\\Local\\Temp\\ipykernel_12660\\2865815520.py:14: UserWarning: To copy construct from a tensor, it is recommended to use sourceTensor.clone().detach() or sourceTensor.clone().detach().requires_grad_(True), rather than torch.tensor(sourceTensor).\n",
            "  output = model(torch.tensor(inputs).to(device))\n"
          ]
        },
        {
          "data": {
            "text/plain": [
              "'o indio atravessou a sala , e <UNK> se alpendrada talhe que e poesia , . e perolas chegar'"
            ]
          },
          "execution_count": 128,
          "metadata": {},
          "output_type": "execute_result"
        }
      ],
      "source": [
        "# Get a random sentence of context size\n",
        "\n",
        "seq = \"O indio atravessou a sala, e collocando-se\"\n",
        "inputs = encode_sentence(seq, vocab)\n",
        "inputs = inputs[len(inputs)-context_size:len(inputs)]\n",
        "inputs = torch.tensor([inputs])\n",
        "\n",
        "new_tokens = 10\n",
        "with torch.no_grad():\n",
        "    context = torch.tensor(inputs, dtype=torch.long).squeeze().to(device)\n",
        "    \n",
        "    for _ in range(new_tokens):\n",
        "\n",
        "        output = model(torch.tensor(inputs).to(device))\n",
        "        probs = F.softmax(output, dim=1)\n",
        "        next_token = torch.multinomial(probs, num_samples=1).squeeze()       \n",
        "        context = torch.cat([context, next_token.reshape(1)], dim=0)\n",
        "        \n",
        "' '.join(decode_sentence(context.tolist(), vocab))"
      ]
    }
  ],
  "metadata": {
    "accelerator": "GPU",
    "colab": {
      "gpuType": "T4",
      "provenance": []
    },
    "kernelspec": {
      "display_name": "IA024",
      "language": "python",
      "name": "ia024"
    },
    "language_info": {
      "codemirror_mode": {
        "name": "ipython",
        "version": 3
      },
      "file_extension": ".py",
      "mimetype": "text/x-python",
      "name": "python",
      "nbconvert_exporter": "python",
      "pygments_lexer": "ipython3",
      "version": "3.11.4"
    }
  },
  "nbformat": 4,
  "nbformat_minor": 0
}
