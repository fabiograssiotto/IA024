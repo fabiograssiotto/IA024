{
  "cells": [
    {
      "cell_type": "markdown",
      "metadata": {
        "id": "fMI0JT_YuYF3"
      },
      "source": [
        "## Exercício: Modelo de Linguagem (Bengio 2003) - MLP + Embeddings\n",
        "\n",
        "Neste exercício iremos treinar uma rede neural similar a do Bengio 2003 para prever a próxima palavra de um texto, data as palavras anteriores como entrada. Esta tarefa é chamada de \"Modelagem da Linguagem\".\n",
        "\n",
        "Portanto, você deve implementar o modelo de linguagem inspirado no artigo do Bengio, para prever a próxima palavra usando rede com embeddings e duas camadas.\n",
        "Sugestão de alguns parâmetros:\n",
        "* context_size = 9\n",
        "* max_vocab_size = 3000\n",
        "* embedding_dim = 64\n",
        "* usar pontuação no vocabulário\n",
        "* descartar qualquer contexto ou target que não esteja no vocabulário\n",
        "* É esperado conseguir uma perplexidade da ordem de 50.\n",
        "* Procurem fazer asserts para garantir que partes do seu programa estão testadas\n",
        "\n",
        "Este enunciado não é fixo, podem mudar qualquer um dos parâmetros acima, mas procurem conseguir a perplexidade esperada ou menor.\n",
        "\n",
        "Gerem alguns frases usando um contexto inicial e depois deslocando o contexto e prevendo a próxima palavra gerando frases compridas para ver se está gerando texto plausível.\n",
        "\n",
        "Algumas dicas:\n",
        "- Inclua caracteres de pontuação (ex: `.` e `,`) no vocabulário.\n",
        "- Deixe tudo como caixa baixa (lower-case).\n",
        "- A escolha do tamanho do vocabulario é importante: ser for muito grande, fica difícil para o modelo aprender boas representações. Se for muito pequeno, o modelo apenas conseguirá gerar textos simples.\n",
        "- Remova qualquer exemplo de treino/validação/teste que tenha pelo menos um token desconhecido (ou na entrada ou na saída).\n",
        "- Durante a depuração, faça seu dataset ficar bem pequeno, para que a depuração seja mais rápida e não precise de GPU. Somente ligue a GPU quando o seu laço de treinamento já está funcionando\n",
        "- Não deixe para fazer esse exercício na véspera. Ele é trabalhoso.\n",
        "\n",
        "Procure por `TODO` para entender onde você precisa inserir o seu código."
      ]
    },
    {
      "cell_type": "code",
      "execution_count": 28,
      "metadata": {},
      "outputs": [],
      "source": [
        "import os\n",
        "import sys\n",
        "import random\n",
        "import torch\n",
        "import torch.nn as nn\n",
        "import torch.nn.functional as F\n",
        "import time\n",
        "from sklearn.model_selection import train_test_split\n",
        "from collections import Counter\n",
        "import re\n",
        "import torch\n",
        "from torch.utils.data import Dataset, DataLoader"
      ]
    },
    {
      "cell_type": "code",
      "execution_count": 29,
      "metadata": {},
      "outputs": [],
      "source": [
        "# Global variables\n",
        "\n",
        "# Vocabulary\n",
        "vocab_size = 3000\n",
        "context_size = 9\n",
        "pattern = r'\\w+|[,;.:!?\\']'\n",
        "\n",
        "# Training\n",
        "batch_size = 32\n",
        "epochs = 10\n",
        "lr = 0.001\n",
        "\n",
        "# Model\n",
        "embedding_dim = 64\n",
        "hidden_dim = 128"
      ]
    },
    {
      "cell_type": "code",
      "execution_count": 30,
      "metadata": {},
      "outputs": [],
      "source": [
        "# Colab environment\n",
        "IN_COLAB = 'google.colab' in sys.modules\n",
        "\n",
        "if (IN_COLAB):\n",
        "    %pip install colorama\n",
        "\n",
        "    # Google Drive\n",
        "    from google.colab import drive\n",
        "    drive.mount('/content/drive', force_remount=True)\n",
        "\n",
        "    project_folder=\"/content/drive/MyDrive/Classes/IA024/Aula_2_3\"\n",
        "    os.chdir(project_folder)\n",
        "    !ls -la"
      ]
    },
    {
      "cell_type": "markdown",
      "metadata": {
        "id": "bYbkEzdD37sZ"
      },
      "source": [
        "## Faz download e carrega o dataset"
      ]
    },
    {
      "cell_type": "code",
      "execution_count": 31,
      "metadata": {
        "colab": {
          "base_uri": "https://localhost:8080/"
        },
        "id": "9qAnqY_q0beK",
        "outputId": "f810fdb0-138d-4917-b7ef-69ab266acef6"
      },
      "outputs": [],
      "source": [
        "# Check if download is necessary\n",
        "if not os.path.exists(\"67724.txt.utf-8\"):\n",
        "    print(\"Downloading Gutenberg texts\")\n",
        "\n",
        "    !wget https://www.gutenberg.org/ebooks/67724.txt.utf-8\n",
        "    !wget https://www.gutenberg.org/ebooks/67725.txt.utf-8"
      ]
    },
    {
      "cell_type": "code",
      "execution_count": 32,
      "metadata": {
        "colab": {
          "base_uri": "https://localhost:8080/"
        },
        "id": "6_UzC9pV091C",
        "outputId": "1553b04f-24c4-4027-8cab-0907f92f04df"
      },
      "outputs": [
        {
          "data": {
            "text/plain": [
              "4969"
            ]
          },
          "execution_count": 32,
          "metadata": {},
          "output_type": "execute_result"
        }
      ],
      "source": [
        "text = open(\"67724.txt.utf-8\",\"r\").read()\n",
        "text += open(\"67725.txt.utf-8\",\"r\").read()\n",
        "\n",
        "paragraphs = text.split(\"\\n\\n\")\n",
        "\n",
        "len(paragraphs)"
      ]
    },
    {
      "cell_type": "code",
      "execution_count": 33,
      "metadata": {},
      "outputs": [
        {
          "name": "stdout",
          "output_type": "stream",
          "text": [
            "The Project Gutenberg eBook of O Guarany: romance brazileiro, Vol. 1 (of 2)\n",
            "    \n",
            "This ebook is for the use of anyone anywhere in the United States and\n",
            "most other parts of the world at no cost and with almost no restrictions\n",
            "whatsoever. You may copy it, give it away or re-use it under the terms\n",
            "of the Project Gutenberg License included with this ebook or online\n",
            "at www.gutenberg.org. If you are not located in the United States,\n",
            "you will have to check the laws of the country where you are located\n",
            "before using this eBook.\n"
          ]
        }
      ],
      "source": [
        "# Checking the text\n",
        "print(paragraphs[0])"
      ]
    },
    {
      "cell_type": "code",
      "execution_count": 34,
      "metadata": {
        "colab": {
          "base_uri": "https://localhost:8080/"
        },
        "id": "UhUFjtNdDuG0",
        "outputId": "78798c0c-deca-4454-d3fb-7d3ba70f3e91"
      },
      "outputs": [
        {
          "name": "stdout",
          "output_type": "stream",
          "text": [
            "Ora dizei-me, Sr. cavalheiro, não vos parece claro, á vista do que me ouvistes, que adevinhei o vosso desejo de chegar o mais depressa possivel?\n",
            "\n",
            "Ayres Gomes quiz retrucar; mas a dama impoz-lhe silencio com um gesto.\n",
            "\n",
            "A esposa do prsioneiro atravessou o campo e offereceu ao vencedor um grande vaso de barro vidrado cheio de vinho de ananaz ainda espumante.\n",
            "\n",
            "A canôa resvalou pela flôr d'agua, como uma garça ligeira levada pela correnteza do rio.\n",
            "\n",
            "O BRACELETE\n",
            "\n",
            "Number of paragraphs: 4892\n"
          ]
        },
        {
          "data": {
            "text/plain": [
              "4892"
            ]
          },
          "execution_count": 34,
          "metadata": {},
          "output_type": "execute_result"
        }
      ],
      "source": [
        "cleaned_paragraphs = [paragraph.replace(\"\\n\", \" \") for paragraph in paragraphs if paragraph.strip()]\n",
        "\n",
        "# Print 5 random paragraphs\n",
        "num_paragraphs = len(cleaned_paragraphs)\n",
        "for i in range(0,5):\n",
        "    idx = random.randrange(num_paragraphs)\n",
        "    print(f\"{cleaned_paragraphs[idx]}\\n\")\n",
        "\n",
        "print(\"Number of paragraphs: \" + str(num_paragraphs))\n",
        "\n",
        "len(cleaned_paragraphs)"
      ]
    },
    {
      "cell_type": "markdown",
      "metadata": {
        "id": "bFVN2ihb33Rf"
      },
      "source": [
        "## Análise do dataset"
      ]
    },
    {
      "cell_type": "code",
      "execution_count": 35,
      "metadata": {
        "colab": {
          "base_uri": "https://localhost:8080/"
        },
        "id": "qSRHqe3H4ZFw",
        "outputId": "4a985c7a-ce1d-4b72-d253-c9fbbc5f9440"
      },
      "outputs": [
        {
          "data": {
            "text/plain": [
              "12610"
            ]
          },
          "execution_count": 35,
          "metadata": {},
          "output_type": "execute_result"
        }
      ],
      "source": [
        "# Conta as palavras no dataset\n",
        "def count_words(texts):\n",
        "    word_counts = Counter()\n",
        "    for text in texts:\n",
        "        word_counts.update(re.findall(pattern, text.lower()))\n",
        "    return word_counts\n",
        "\n",
        "word_counts = count_words(cleaned_paragraphs)\n",
        "\n",
        "len(word_counts)"
      ]
    },
    {
      "cell_type": "markdown",
      "metadata": {
        "id": "EyGVDL9KzJ_I"
      },
      "source": [
        "## Criando um vocabulário"
      ]
    },
    {
      "cell_type": "code",
      "execution_count": 36,
      "metadata": {
        "id": "FiP7OCo9zJ_I"
      },
      "outputs": [],
      "source": [
        "most_frequent_words = [word for word, count in word_counts.most_common(vocab_size)]\n",
        "vocab = {word: i for i, word in enumerate(most_frequent_words, 1)}"
      ]
    },
    {
      "cell_type": "code",
      "execution_count": 37,
      "metadata": {},
      "outputs": [
        {
          "name": "stdout",
          "output_type": "stream",
          "text": [
            "Most Frequent Words: ['.', ',', 'a', 'que', 'o', 'de', 'e', 'se', ';', 'um']\n",
            "Vocabulary Size: 3000\n"
          ]
        }
      ],
      "source": [
        "print(f\"Most Frequent Words: {most_frequent_words[:10]}\")\n",
        "print(f\"Vocabulary Size: {len(vocab)}\")"
      ]
    },
    {
      "cell_type": "code",
      "execution_count": 38,
      "metadata": {
        "colab": {
          "base_uri": "https://localhost:8080/"
        },
        "id": "RhbhAsZbzJ_J",
        "outputId": "6a53c9e0-308d-4082-e225-cfa376e8f39a"
      },
      "outputs": [
        {
          "name": "stdout",
          "output_type": "stream",
          "text": [
            " Publicando este livro em 1857, se disse ser aquella primeira edição uma prova typographica, que algum dia talvez o autor se dispuzesse a rever.\n",
            "[0, 146, 0, 23, 0, 2, 8, 50, 117, 276, 266, 2669, 13, 1071, 0, 2, 4, 193, 137, 287, 5, 2264, 8, 0, 3, 2672, 1]\n"
          ]
        }
      ],
      "source": [
        "def encode_sentence(sentence, vocab):\n",
        "    return [vocab.get(word, 0) for word in re.findall(pattern, sentence.lower())]\n",
        "\n",
        "print(cleaned_paragraphs[20])\n",
        "print(encode_sentence(cleaned_paragraphs[20], vocab))"
      ]
    },
    {
      "cell_type": "markdown",
      "metadata": {
        "id": "wia_ygbvzJ_J"
      },
      "source": [
        "## Classe do dataset"
      ]
    },
    {
      "cell_type": "code",
      "execution_count": 39,
      "metadata": {
        "id": "Iy-elI1magRR"
      },
      "outputs": [],
      "source": [
        "# Dataset class\n",
        "class CustomDataset(Dataset):\n",
        "  def __init__(self, paragraphs, vocab, context):\n",
        "    self.paragraphs = paragraphs\n",
        "    self.vocab = vocab\n",
        "    self.context = context\n",
        "    self.tokens, self.targets = self.setup()\n",
        "\n",
        "  def __len__(self):\n",
        "    return len(self.tokens)\n",
        "\n",
        "  def __getitem__(self, idx):\n",
        "    return torch.tensor(self.tokens[idx]), torch.tensor(self.targets[idx])\n",
        "  \n",
        "  def setup(self):\n",
        "    tokens = []\n",
        "    targets = []\n",
        "    for paragraph in self.paragraphs:\n",
        "      encoded = encode_sentence(paragraph, self.vocab)\n",
        "      \n",
        "      # If paragraph is smaller than the context, skip it.\n",
        "      if len(encoded) < self.context + 1:\n",
        "          continue\n",
        "\n",
        "      for i in range(len(encoded) - self.context):\n",
        "        tks = encoded[i:i+self.context]\n",
        "        tgt = encoded[i+self.context]\n",
        "        # Only add if there are no unknown tokens in both context and target.\n",
        "        bad_token = 0\n",
        "        if not (bad_token in tks or tgt == bad_token):\n",
        "          tokens.append(tks)\n",
        "          targets.append(tgt)\n",
        "    return tokens, targets\n"
      ]
    },
    {
      "cell_type": "code",
      "execution_count": 40,
      "metadata": {
        "colab": {
          "base_uri": "https://localhost:8080/"
        },
        "id": "aD1CVci2zJ_J",
        "outputId": "5bf0839e-f30e-4ff2-ed6f-4f3fda782b7c"
      },
      "outputs": [
        {
          "name": "stdout",
          "output_type": "stream",
          "text": [
            "Training samples: 3913\n",
            "Validation samples: 979\n",
            "\n",
            "Training dataset samples: 24194\n",
            "Validation dataset samples: 6815\n"
          ]
        }
      ],
      "source": [
        "# Train/Validation split\n",
        "train_data, val_data = train_test_split(cleaned_paragraphs, test_size=0.2, random_state=18)\n",
        "\n",
        "train_dataset = CustomDataset(train_data, vocab, context_size)\n",
        "val_dataset = CustomDataset(val_data, vocab, context_size)\n",
        "\n",
        "# Counting all Samples\n",
        "print(f\"Training samples: {len(train_data)}\")\n",
        "print(f\"Validation samples: {len(val_data)}\")\n",
        "print()\n",
        "print(f\"Training dataset samples: {len(train_dataset)}\")\n",
        "print(f\"Validation dataset samples: {len(val_dataset)}\")"
      ]
    },
    {
      "cell_type": "code",
      "execution_count": 55,
      "metadata": {},
      "outputs": [
        {
          "name": "stdout",
          "output_type": "stream",
          "text": [
            "[tensor([[  2, 606,  18,   3,  68,   2, 238,  35,  96]]), tensor([159])]\n"
          ]
        }
      ],
      "source": [
        "tst_loader = DataLoader(train_dataset, batch_size = 1, shuffle=True)\n",
        "sample = next(iter(tst_loader))\n",
        "print(sample)"
      ]
    },
    {
      "cell_type": "code",
      "execution_count": 41,
      "metadata": {
        "id": "gC0C5qn2zJ_J"
      },
      "outputs": [
        {
          "name": "stdout",
          "output_type": "stream",
          "text": [
            "[tensor([[  16,    5,  972,   34,  528,   30,   61,  108,  225],\n",
            "        [  64, 2856,   11,  510,   16,    5,  215,   36, 1196],\n",
            "        [   2,  305,   10,   16,   22,   95,  277,    2,  305],\n",
            "        [   6, 1805, 1952,    2, 2087,   27,  216,    2,   36],\n",
            "        [ 134,   61,  143,    6,   17,   57,    2,    7,   12],\n",
            "        [  17,  396,    2,  519,    3,   99,   38,    3,  615],\n",
            "        [ 323,   89,  220,    5,  400,   11,   87, 1345, 2953],\n",
            "        [ 345,    6, 2088,    2,    6, 1470,  526,    2,   23],\n",
            "        [   1,   37,  251,    4,  474,  648,   17,  175,    1],\n",
            "        [1100,  813,    6,  596,    1,   21,  712,    5,  436],\n",
            "        [   7, 1362,    2, 1333,   23,   13, 1307,   24,   91],\n",
            "        [  53,   41,   74,   66,  402, 1945,  148,  151,  544],\n",
            "        [ 145,   31,  157,    2,   93,   18,   30,    1,   47],\n",
            "        [  27,  762,    6,   97,   28,   88,    9,   50,    5],\n",
            "        [   6,   30,    1,   47,    6,   73,    5,  102, 1073],\n",
            "        [ 231,  620,    9,   10,  575, 2365,    8,    2,  275],\n",
            "        [  77,   93,    5,  192,    9,  123,  873,    5,  403],\n",
            "        [ 620,    2,    4,    5,  181,    6,   64,   29,  177],\n",
            "        [   2, 1996,   11,  542,    2,  457,    8,    3,   40],\n",
            "        [  82,  749,   11,   43,    9,  799,  863,   70,    3],\n",
            "        [ 128,    6, 1142,    2,    4,   18,   54,   33,  229],\n",
            "        [ 238, 2396,    5,  663,    4,    5, 1774,   11,   19],\n",
            "        [   2,  522,   10,   97,    6, 1822,    7,  676,   23],\n",
            "        [1097,  133,    2,  136,    5,    4, 1017, 1048,    1],\n",
            "        [ 136,   10,  389,    9,   39,   12,  498,    5,    4],\n",
            "        [ 769, 1632,    6, 1142,    7,  877,   20,    1,    1],\n",
            "        [  13,  396,    2,    7,   13,  615,   24,  399,    1],\n",
            "        [ 192,    9,  123,  873,    5,  403,    2,  275,    8],\n",
            "        [   1,    1,    1,    1,    1,    1,    1,    1,    1],\n",
            "        [  22,  168,  770,  365,  736,   27, 1005,    2,    7],\n",
            "        [ 388,   31,  889,   11,  120,    2,    7,  604,  555],\n",
            "        [   9,  114,  655,   18,    4,    3, 1146,   11,  122]]), tensor([  31,   13,   10,  792,   32,   11,   18,    4,    1,    9,   11,   90,\n",
            "           6,   80,    2,   16,    2,  229,    1,  265,   13,  450,  479,    3,\n",
            "         367,    1,  129,   16,    1, 1958,    8,  223])]\n"
          ]
        }
      ],
      "source": [
        "\n",
        "train_loader = DataLoader(train_dataset, batch_size=batch_size, shuffle=True)\n",
        "val_loader = DataLoader(val_dataset, batch_size=batch_size, shuffle=True)"
      ]
    },
    {
      "cell_type": "markdown",
      "metadata": {
        "id": "-5_-Yud0zJ_K"
      },
      "source": [
        "## Model"
      ]
    },
    {
      "cell_type": "code",
      "execution_count": 42,
      "metadata": {
        "id": "I2qKG9YczJ_K"
      },
      "outputs": [],
      "source": [
        "class BengioModel(torch.nn.Module):\n",
        "    def __init__(self, vocab_size, embedding_dim, context_size, h):\n",
        "        super(BengioModel, self).__init__()\n",
        "        self.embeddings = nn.Embedding(vocab_size+1, embedding_dim)\n",
        "        self.linear1 = nn.Linear(context_size * embedding_dim, h)\n",
        "        #self.relu = torch.nn.ReLU()\n",
        "        # Tanh non-linearity as described in the article\n",
        "        self.tanh = torch.nn.Tanh()\n",
        "        self.linear2 = nn.Linear(h, vocab_size+1)\n",
        "        # Softmax to scale outputs\n",
        "        self.logSoftMax = torch.nn.LogSoftmax(dim=1)\n",
        "\n",
        "    def forward(self, inputs):\n",
        "        embeds = self.embeddings(inputs)\n",
        "        # Flatten embeddings\n",
        "        embeds = embeds.view(embeds.size(0), -1)\n",
        "        # Linear layer\n",
        "        out = self.linear1(embeds)\n",
        "        out = self.tanh(out)\n",
        "        #out = self.relu(out)\n",
        "        # Second layer\n",
        "        out = self.linear2(out)\n",
        "        # Softmax output\n",
        "        out = self.logSoftMax(out)\n",
        "        return out"
      ]
    },
    {
      "cell_type": "code",
      "execution_count": 43,
      "metadata": {
        "id": "7yjQ1KXOzJ_K"
      },
      "outputs": [],
      "source": [
        "model = BengioModel(vocab_size, embedding_dim, context_size, hidden_dim)"
      ]
    },
    {
      "cell_type": "code",
      "execution_count": 44,
      "metadata": {
        "id": "xmsD59TfzJ_K"
      },
      "outputs": [
        {
          "name": "stdout",
          "output_type": "stream",
          "text": [
            "torch.Size([32, 9])\n",
            "torch.Size([32])\n"
          ]
        }
      ],
      "source": [
        "sample = next(iter(train_loader))\n",
        "input = sample[0]\n",
        "target = sample[1]\n",
        "\n",
        "print(input.shape)\n",
        "print(target.shape)"
      ]
    },
    {
      "cell_type": "code",
      "execution_count": 45,
      "metadata": {
        "id": "HGbJcT5KzJ_K"
      },
      "outputs": [
        {
          "name": "stdout",
          "output_type": "stream",
          "text": [
            "tensor([[-7.9693, -7.9946, -7.7639,  ..., -8.3126, -8.0013, -8.1966],\n",
            "        [-7.6328, -8.2133, -7.9409,  ..., -8.3627, -8.0449, -8.1198],\n",
            "        [-7.1843, -8.2905, -7.7408,  ..., -7.9079, -8.0930, -8.0568],\n",
            "        ...,\n",
            "        [-8.1622, -8.1172, -7.9562,  ..., -8.3005, -8.2247, -8.4828],\n",
            "        [-8.1401, -8.0558, -7.8546,  ..., -8.3732, -8.0077, -7.9608],\n",
            "        [-8.2382, -8.0458, -8.0519,  ..., -7.6923, -7.6369, -7.9338]],\n",
            "       grad_fn=<LogSoftmaxBackward0>)\n",
            "torch.Size([32, 3001])\n"
          ]
        }
      ],
      "source": [
        "output = model(input)\n",
        "print(output)\n",
        "print(output.shape)"
      ]
    },
    {
      "cell_type": "code",
      "execution_count": 46,
      "metadata": {
        "colab": {
          "base_uri": "https://localhost:8080/"
        },
        "id": "um0lR4mNzJ_K",
        "outputId": "e6041da8-ca7f-4c9d-b28b-9e1250e820f2"
      },
      "outputs": [
        {
          "data": {
            "text/plain": [
              "tensor([2359, 2838, 1152,  397,  295,  955, 1659, 1688, 1583, 1416, 2142, 1709,\n",
              "        1660, 1196,  298, 2342, 1375, 1010, 1349, 2030,  700, 1111, 1624, 2408,\n",
              "        2670, 2575, 1806, 2437,  944,   41, 2257,  596])"
            ]
          },
          "execution_count": 46,
          "metadata": {},
          "output_type": "execute_result"
        }
      ],
      "source": [
        "output.argmax(dim=1)"
      ]
    },
    {
      "cell_type": "code",
      "execution_count": 47,
      "metadata": {
        "colab": {
          "base_uri": "https://localhost:8080/"
        },
        "id": "la-b-f8jzJ_L",
        "outputId": "f040cef4-e409-4d20-d335-a3133aaeb63c"
      },
      "outputs": [
        {
          "data": {
            "text/plain": [
              "tensor([   7, 2156,   14,    1,   93,  105,    5,    1,    1,    1,  926,   40,\n",
              "         810,   15,   14,   29,   98,    2,    1,   23,   15,  322, 2436,   91,\n",
              "         217,    1,  590,    1,   41,    8, 1865,    4])"
            ]
          },
          "execution_count": 47,
          "metadata": {},
          "output_type": "execute_result"
        }
      ],
      "source": [
        "target"
      ]
    },
    {
      "cell_type": "markdown",
      "metadata": {
        "id": "UngUhyu7zJ_L"
      },
      "source": [
        "## Training"
      ]
    },
    {
      "cell_type": "code",
      "execution_count": 48,
      "metadata": {
        "colab": {
          "base_uri": "https://localhost:8080/"
        },
        "id": "wntaV50nzJ_L",
        "outputId": "a054092b-d801-4c60-eb75-85abfe57151d"
      },
      "outputs": [
        {
          "data": {
            "text/plain": [
              "device(type='cuda')"
            ]
          },
          "execution_count": 48,
          "metadata": {},
          "output_type": "execute_result"
        }
      ],
      "source": [
        "# Verifica se há uma GPU disponível e define o dispositivo para GPU se possível, caso contrário, usa a CPU\n",
        "device = torch.device('cuda' if torch.cuda.is_available() else 'cpu')\n",
        "device"
      ]
    },
    {
      "cell_type": "code",
      "execution_count": 49,
      "metadata": {
        "id": "vRwSPiwizJ_L"
      },
      "outputs": [
        {
          "data": {
            "text/plain": [
              "BengioModel(\n",
              "  (embeddings): Embedding(3001, 64)\n",
              "  (linear1): Linear(in_features=576, out_features=128, bias=True)\n",
              "  (tanh): Tanh()\n",
              "  (linear2): Linear(in_features=128, out_features=3001, bias=True)\n",
              "  (logSoftMax): LogSoftmax(dim=1)\n",
              ")"
            ]
          },
          "execution_count": 49,
          "metadata": {},
          "output_type": "execute_result"
        }
      ],
      "source": [
        "# Cross Entropy\n",
        "criterion = nn.CrossEntropyLoss()\n",
        "\n",
        "# Optimizer\n",
        "optimizer = torch.optim.Adam(model.parameters(), lr)\n",
        "#optimizer = torch.optim.SGD(model.parameters(), lr)\n",
        "\n",
        "model.to(device)"
      ]
    },
    {
      "cell_type": "code",
      "execution_count": 50,
      "metadata": {},
      "outputs": [
        {
          "name": "stdout",
          "output_type": "stream",
          "text": [
            "O modelo tem um total de 653,049 parâmetros.\n"
          ]
        }
      ],
      "source": [
        "def count_parameters(model):\n",
        "    return sum(p.numel() for p in model.parameters() if p.requires_grad)\n",
        "\n",
        "# Exemplo de uso:\n",
        "total_params = count_parameters(model)\n",
        "print(f'O modelo tem um total de {total_params:,} parâmetros.')"
      ]
    },
    {
      "cell_type": "code",
      "execution_count": 51,
      "metadata": {},
      "outputs": [
        {
          "name": "stdout",
          "output_type": "stream",
          "text": [
            "Initial Loss: 8.0538\n",
            "Initial Perplexity: 3145.8240\n"
          ]
        }
      ],
      "source": [
        "# Initial Perplexity and Loss\n",
        "# Before training\n",
        "model.eval()\n",
        "\n",
        "loss = 0\n",
        "perp = 0\n",
        "\n",
        "with torch.no_grad():\n",
        "    for inputs, targets in train_loader:\n",
        "        inputs = inputs.to(device)\n",
        "        targets = targets.to(device)\n",
        "        outputs = model(inputs)\n",
        "        loss += criterion(outputs, targets).item()\n",
        "\n",
        "loss /= len(train_loader)\n",
        "perp = torch.exp(torch.tensor(loss))\n",
        "\n",
        "print(f'Initial Loss: {loss:.4f}')\n",
        "print(f'Initial Perplexity: {perp:.4f}')"
      ]
    },
    {
      "cell_type": "code",
      "execution_count": 52,
      "metadata": {},
      "outputs": [
        {
          "name": "stdout",
          "output_type": "stream",
          "text": [
            "Epoch [1/50], Time:15.58, Loss: 5.9224, Accuracy: 0.12%, Perplexity: 373.3233\n",
            "Epoch [2/50], Time:12.91, Loss: 4.7200, Accuracy: 0.19%, Perplexity: 112.1685\n",
            "Epoch [3/50], Time:13.73, Loss: 4.0067, Accuracy: 0.24%, Perplexity: 54.9648\n",
            "Epoch [4/50], Time:13.98, Loss: 3.3971, Accuracy: 0.30%, Perplexity: 29.8779\n",
            "Epoch [5/50], Time:14.62, Loss: 2.8320, Accuracy: 0.38%, Perplexity: 16.9798\n",
            "Epoch [6/50], Time:14.54, Loss: 2.3235, Accuracy: 0.49%, Perplexity: 10.2114\n",
            "Epoch [7/50], Time:13.25, Loss: 1.8838, Accuracy: 0.59%, Perplexity: 6.5784\n",
            "Epoch [8/50], Time:13.22, Loss: 1.5215, Accuracy: 0.68%, Perplexity: 4.5791\n",
            "Epoch [9/50], Time:13.07, Loss: 1.2164, Accuracy: 0.75%, Perplexity: 3.3749\n",
            "Epoch [10/50], Time:13.39, Loss: 0.9662, Accuracy: 0.81%, Perplexity: 2.6278\n",
            "Epoch [11/50], Time:12.44, Loss: 0.7600, Accuracy: 0.86%, Perplexity: 2.1384\n",
            "Epoch [12/50], Time:17.23, Loss: 0.5901, Accuracy: 0.90%, Perplexity: 1.8041\n",
            "Epoch [13/50], Time:13.64, Loss: 0.4457, Accuracy: 0.93%, Perplexity: 1.5616\n",
            "Epoch [14/50], Time:14.48, Loss: 0.3344, Accuracy: 0.96%, Perplexity: 1.3971\n",
            "Epoch [15/50], Time:17.94, Loss: 0.2436, Accuracy: 0.98%, Perplexity: 1.2758\n",
            "Epoch [16/50], Time:17.87, Loss: 0.1759, Accuracy: 0.99%, Perplexity: 1.1924\n",
            "Epoch [17/50], Time:15.08, Loss: 0.1280, Accuracy: 0.99%, Perplexity: 1.1365\n",
            "Epoch [18/50], Time:19.55, Loss: 0.0973, Accuracy: 1.00%, Perplexity: 1.1022\n",
            "Epoch [19/50], Time:23.23, Loss: 0.0649, Accuracy: 1.00%, Perplexity: 1.0671\n",
            "Epoch [20/50], Time:19.73, Loss: 0.0475, Accuracy: 1.00%, Perplexity: 1.0487\n",
            "Epoch [21/50], Time:18.66, Loss: 0.0377, Accuracy: 1.00%, Perplexity: 1.0384\n",
            "Epoch [22/50], Time:16.98, Loss: 0.0302, Accuracy: 1.00%, Perplexity: 1.0307\n",
            "Epoch [23/50], Time:18.79, Loss: 0.0297, Accuracy: 1.00%, Perplexity: 1.0302\n",
            "Epoch [24/50], Time:17.74, Loss: 0.0297, Accuracy: 1.00%, Perplexity: 1.0302\n",
            "Epoch [25/50], Time:19.49, Loss: 0.0263, Accuracy: 1.00%, Perplexity: 1.0267\n",
            "Epoch [26/50], Time:17.36, Loss: 0.0138, Accuracy: 1.00%, Perplexity: 1.0139\n",
            "Epoch [27/50], Time:14.31, Loss: 0.0079, Accuracy: 1.00%, Perplexity: 1.0080\n",
            "Epoch [28/50], Time:13.89, Loss: 0.0266, Accuracy: 1.00%, Perplexity: 1.0270\n",
            "Epoch [29/50], Time:13.94, Loss: 0.0414, Accuracy: 0.99%, Perplexity: 1.0423\n",
            "Epoch [30/50], Time:17.98, Loss: 0.0165, Accuracy: 1.00%, Perplexity: 1.0166\n",
            "Epoch [31/50], Time:15.33, Loss: 0.0069, Accuracy: 1.00%, Perplexity: 1.0069\n",
            "Epoch [32/50], Time:14.52, Loss: 0.0052, Accuracy: 1.00%, Perplexity: 1.0052\n",
            "Epoch [33/50], Time:13.01, Loss: 0.0046, Accuracy: 1.00%, Perplexity: 1.0046\n",
            "Epoch [34/50], Time:13.37, Loss: 0.0042, Accuracy: 1.00%, Perplexity: 1.0043\n",
            "Epoch [35/50], Time:12.76, Loss: 0.0038, Accuracy: 1.00%, Perplexity: 1.0038\n",
            "Epoch [36/50], Time:13.03, Loss: 0.0627, Accuracy: 0.98%, Perplexity: 1.0647\n",
            "Epoch [37/50], Time:13.05, Loss: 0.0578, Accuracy: 0.99%, Perplexity: 1.0595\n",
            "Epoch [38/50], Time:12.89, Loss: 0.0095, Accuracy: 1.00%, Perplexity: 1.0096\n",
            "Epoch [39/50], Time:12.76, Loss: 0.0056, Accuracy: 1.00%, Perplexity: 1.0056\n",
            "Epoch [40/50], Time:14.59, Loss: 0.0046, Accuracy: 1.00%, Perplexity: 1.0046\n",
            "Epoch [41/50], Time:13.47, Loss: 0.0042, Accuracy: 1.00%, Perplexity: 1.0042\n",
            "Epoch [42/50], Time:14.65, Loss: 0.0037, Accuracy: 1.00%, Perplexity: 1.0037\n",
            "Epoch [43/50], Time:16.57, Loss: 0.0036, Accuracy: 1.00%, Perplexity: 1.0036\n",
            "Epoch [44/50], Time:13.53, Loss: 0.0031, Accuracy: 1.00%, Perplexity: 1.0031\n",
            "Epoch [45/50], Time:12.76, Loss: 0.0517, Accuracy: 0.99%, Perplexity: 1.0531\n",
            "Epoch [46/50], Time:13.59, Loss: 0.0463, Accuracy: 0.99%, Perplexity: 1.0474\n",
            "Epoch [47/50], Time:15.16, Loss: 0.0083, Accuracy: 1.00%, Perplexity: 1.0083\n",
            "Epoch [48/50], Time:15.14, Loss: 0.0049, Accuracy: 1.00%, Perplexity: 1.0049\n",
            "Epoch [49/50], Time:13.61, Loss: 0.0039, Accuracy: 1.00%, Perplexity: 1.0039\n",
            "Epoch [50/50], Time:13.16, Loss: 0.0035, Accuracy: 1.00%, Perplexity: 1.0035\n"
          ]
        }
      ],
      "source": [
        "# Training Loop\n",
        "model.train()\n",
        "for epoch in range(epochs):\n",
        "\n",
        "  epoch_start = time.time()\n",
        "  # Metrics\n",
        "  epoch_loss = 0\n",
        "  epoch_correct = 0\n",
        "  epoch_samples = 0\n",
        "\n",
        "  for inputs, targets in train_loader:\n",
        "        inputs = inputs.to(device)  # Move input data to the device\n",
        "        targets = targets.to(device)\n",
        "\n",
        "        # Forward pass\n",
        "        outputs = model(inputs)\n",
        "        loss = criterion(outputs, targets)\n",
        "\n",
        "        # Backward pass and optimization\n",
        "        optimizer.zero_grad()\n",
        "        loss.backward()\n",
        "        optimizer.step()\n",
        "\n",
        "        # Loss\n",
        "        epoch_loss += loss.item()\n",
        "\n",
        "        # Predicted\n",
        "        _, predicted = torch.max(outputs, 1)\n",
        "        epoch_correct += (predicted == targets).sum().item()\n",
        "        epoch_samples += targets.size(0)\n",
        "\n",
        "  # Calculate average loss and accuracy for epoch\n",
        "  avg_loss = epoch_loss / len(train_loader)\n",
        "  acc = epoch_correct / epoch_samples\n",
        "\n",
        "  # Perplexity\n",
        "  perp = torch.exp(torch.tensor(avg_loss))\n",
        "\n",
        "  epoch_end = time.time()\n",
        "  epoch_time = epoch_end - epoch_start\n",
        "  # Print epoch statistics\n",
        "  print(f'Epoch [{epoch+1}/{epochs}], Time:{epoch_time:.2f}, Loss: {avg_loss:.4f}, Accuracy: {acc:.2f}%, Perplexity: {perp:.4f}')\n"
      ]
    },
    {
      "cell_type": "markdown",
      "metadata": {
        "id": "PSXfwYISDoPN"
      },
      "source": [
        "## Avaliação"
      ]
    },
    {
      "cell_type": "code",
      "execution_count": 53,
      "metadata": {
        "id": "nXXO78GSDqPg"
      },
      "outputs": [
        {
          "name": "stdout",
          "output_type": "stream",
          "text": [
            "Test Accuracy: 25.22%\n",
            "Average Loss: 9.83\n",
            "Average Perplexity: 18555.04\n"
          ]
        }
      ],
      "source": [
        "model.eval()\n",
        "\n",
        "loss_sum = 0\n",
        "total_sum = 0\n",
        "correct_sum = 0\n",
        "eval_round = 0\n",
        "\n",
        "loss = 0\n",
        "perp = 0\n",
        "\n",
        "with torch.no_grad():\n",
        "    for inputs, targets in val_loader:\n",
        "        inputs = inputs.to(device)\n",
        "        targets = targets.to(device)\n",
        "\n",
        "        outputs = model(inputs)\n",
        "        loss = criterion(outputs, targets)      \n",
        "        loss_sum += loss\n",
        "\n",
        "        # Get the predicted labels\n",
        "        _, predicted = torch.max(outputs, 1)\n",
        "\n",
        "        total_sum += targets.size(0)\n",
        "        correct_sum += (predicted == targets).sum().item()\n",
        "        eval_round += 1\n",
        "\n",
        "# Calculate accuracy\n",
        "acc = 100 * correct_sum / total_sum\n",
        "\n",
        "# Calculate average perplexity\n",
        "average_loss = loss_sum / len(val_loader)\n",
        "average_perplexity = torch.exp(average_loss)\n",
        "\n",
        "print(f'Test Accuracy: {acc:.2f}%')\n",
        "print(f'Average Loss: {average_loss:.2f}')\n",
        "print(f'Average Perplexity: {average_perplexity:.2f}')"
      ]
    },
    {
      "cell_type": "markdown",
      "metadata": {
        "id": "A1zhxVqfzJ_M"
      },
      "source": [
        "## Exemplo de uso"
      ]
    },
    {
      "cell_type": "code",
      "execution_count": 54,
      "metadata": {
        "id": "3PExkoWOzJ_M"
      },
      "outputs": [
        {
          "name": "stdout",
          "output_type": "stream",
          "text": [
            "Frase: Adivinhava e comprehendia o que sentia então o coração de seus bons amigos; sabia que soffrião vendo-o prisioneiro, proximo a morrer, sem terem o poder e a força para salva-lo das mãos do inimigo.\n",
            "[1845, 7, 925, 5, 4, 254, 101, 5, 141]\n",
            "[1845, 7, 925, 5, 4, 254, 101, 5, 141, 12]\n",
            "[1845, 7, 925, 5, 4, 254, 101, 5, 141, 12, 29]\n",
            "[1845, 7, 925, 5, 4, 254, 101, 5, 141, 12, 29, 648]\n",
            "[1845, 7, 925, 5, 4, 254, 101, 5, 141, 12, 29, 648, 25]\n",
            "[1845, 7, 925, 5, 4, 254, 101, 5, 141, 12, 29, 648, 25, 2]\n",
            "[1845, 7, 925, 5, 4, 254, 101, 5, 141, 12, 29, 648, 25, 2, 344]\n",
            "[1845, 7, 925, 5, 4, 254, 101, 5, 141, 12, 29, 648, 25, 2, 344, 4]\n",
            "[1845, 7, 925, 5, 4, 254, 101, 5, 141, 12, 29, 648, 25, 2, 344, 4, 8]\n",
            "[1845, 7, 925, 5, 4, 254, 101, 5, 141, 12, 29, 648, 25, 2, 344, 4, 8, 6]\n",
            "[1845, 7, 925, 5, 4, 254, 101, 5, 141, 12, 29, 648, 25, 2, 344, 4, 8, 6, 137]\n",
            "\u001b[34m['adivinhava', 'e', 'comprehendia', 'o', 'que', 'sentia', 'então', 'o', 'coração']\u001b[0m \u001b[31m['não', 'lhe', 'estar', '?', ',', 'apezar', 'que', 'se', 'de', 'dia']\u001b[0m \n"
          ]
        }
      ],
      "source": [
        "# Código adaptado da implementação do Cesar Bastos\n",
        "from colorama import Fore, Style\n",
        "\n",
        "text = cleaned_paragraphs\n",
        "model.to(device)\n",
        "def generate_text(model, vocab, text, max_length, context_size):\n",
        "    words = []\n",
        "    # Ensure there are enough words for at least one sequence\n",
        "    while len(words) < context_size:\n",
        "        random_number = random.randint(1, 4891)\n",
        "        words = encode_sentence(text[random_number], vocab)\n",
        "        if not words:\n",
        "            words = []\n",
        "            continue  # Skip if the sentence cannot be encoded\n",
        "        words = words[:context_size]\n",
        "        #print(words)\n",
        "        if any(token == 0 for token in words):\n",
        "            words = []\n",
        "            continue  # Skip if any token is zero (assuming 0 is a special token)\n",
        "        context = words\n",
        "\n",
        "    print(f\"Frase: {cleaned_paragraphs[random_number]}\")\n",
        "    print(words)\n",
        "\n",
        "    for _ in range(max_length):\n",
        "        words_tensor = torch.tensor(context[-context_size:], dtype=torch.long).unsqueeze(0).to(device)\n",
        "        logits = model(words_tensor)\n",
        "        probs = F.softmax(logits, dim=1)\n",
        "        next_token = torch.multinomial(probs, num_samples=1)\n",
        "        context.append(next_token.item())\n",
        "        print(context)\n",
        "    frase = []\n",
        "    for i in context: ##Agradecimentos a Ramon Abilio\n",
        "        word = next((word for word, code in vocab.items() if code == i), \"<UNKNOWN>\")\n",
        "        frase.append(word)\n",
        "\n",
        "    print(f\"{Fore.BLUE}{frase[:context_size]}{Style.RESET_ALL} {Fore.RED}{frase[-max_length:]}{Style.RESET_ALL} \")\n",
        "\n",
        "\n",
        "max_length= 10\n",
        "generate_text(model, vocab, text, max_length, context_size)"
      ]
    }
  ],
  "metadata": {
    "accelerator": "GPU",
    "colab": {
      "gpuType": "T4",
      "provenance": []
    },
    "kernelspec": {
      "display_name": "IA024",
      "language": "python",
      "name": "ia024"
    },
    "language_info": {
      "codemirror_mode": {
        "name": "ipython",
        "version": 3
      },
      "file_extension": ".py",
      "mimetype": "text/x-python",
      "name": "python",
      "nbconvert_exporter": "python",
      "pygments_lexer": "ipython3",
      "version": "3.11.4"
    }
  },
  "nbformat": 4,
  "nbformat_minor": 0
}
