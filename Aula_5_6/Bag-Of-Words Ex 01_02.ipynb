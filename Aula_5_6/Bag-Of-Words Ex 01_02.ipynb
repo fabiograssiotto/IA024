{
  "cells": [
    {
      "cell_type": "markdown",
      "metadata": {
        "id": "fMI0JT_YuYF3"
      },
      "source": [
        "## Exercício: Modelo de Linguagem (Bengio 2003) - MLP + Embeddings\n",
        "\n",
        "Neste exercício iremos treinar uma rede neural similar a do Bengio 2003 para prever a próxima palavra de um texto, data as palavras anteriores como entrada. Esta tarefa é chamada de \"Modelagem da Linguagem\".\n",
        "\n",
        "Portanto, você deve implementar o modelo de linguagem inspirado no artigo do Bengio, para prever a próxima palavra usando rede com embeddings e duas camadas.\n",
        "Sugestão de alguns parâmetros:\n",
        "* context_size = 9\n",
        "* max_vocab_size = 3000\n",
        "* embedding_dim = 64\n",
        "* usar pontuação no vocabulário\n",
        "* descartar qualquer contexto ou target que não esteja no vocabulário\n",
        "* É esperado conseguir uma perplexidade da ordem de 50.\n",
        "* Procurem fazer asserts para garantir que partes do seu programa estão testadas\n",
        "\n",
        "Este enunciado não é fixo, podem mudar qualquer um dos parâmetros acima, mas procurem conseguir a perplexidade esperada ou menor.\n",
        "\n",
        "Gerem alguns frases usando um contexto inicial e depois deslocando o contexto e prevendo a próxima palavra gerando frases compridas para ver se está gerando texto plausível.\n",
        "\n",
        "Algumas dicas:\n",
        "- Inclua caracteres de pontuação (ex: `.` e `,`) no vocabulário.\n",
        "- Deixe tudo como caixa baixa (lower-case).\n",
        "- A escolha do tamanho do vocabulario é importante: ser for muito grande, fica difícil para o modelo aprender boas representações. Se for muito pequeno, o modelo apenas conseguirá gerar textos simples.\n",
        "- Remova qualquer exemplo de treino/validação/teste que tenha pelo menos um token desconhecido (ou na entrada ou na saída).\n",
        "- Durante a depuração, faça seu dataset ficar bem pequeno, para que a depuração seja mais rápida e não precise de GPU. Somente ligue a GPU quando o seu laço de treinamento já está funcionando\n",
        "- Não deixe para fazer esse exercício na véspera. Ele é trabalhoso.\n",
        "\n",
        "Procure por `TODO` para entender onde você precisa inserir o seu código."
      ]
    },
    {
      "cell_type": "code",
      "execution_count": 1,
      "metadata": {},
      "outputs": [],
      "source": [
        "import os\n",
        "import sys\n",
        "import random\n",
        "import torch.nn as nn\n",
        "import torch.nn.functional as F\n",
        "import time\n",
        "from sklearn.model_selection import train_test_split"
      ]
    },
    {
      "cell_type": "code",
      "execution_count": 2,
      "metadata": {},
      "outputs": [],
      "source": [
        "# Global variables\n",
        "\n",
        "# Vocabulary\n",
        "vocab_size = 5000\n",
        "context_size = 5\n",
        "pattern = r'\\w+|[,;.:!?\\']'\n",
        "\n",
        "# Training\n",
        "batch_size = 128\n",
        "epochs = 10\n",
        "lr = 0.1\n",
        "\n",
        "# Model\n",
        "embedding_dim = 256\n",
        "hidden_dim = 128"
      ]
    },
    {
      "cell_type": "code",
      "execution_count": 3,
      "metadata": {},
      "outputs": [],
      "source": [
        "# Colab environment\n",
        "IN_COLAB = 'google.colab' in sys.modules\n",
        "\n",
        "if (IN_COLAB):\n",
        "    %pip install colorama\n",
        "\n",
        "    # Google Drive\n",
        "    from google.colab import drive\n",
        "    drive.mount('/content/drive', force_remount=True)\n",
        "\n",
        "    project_folder=\"/content/drive/MyDrive/Classes/IA024/Aula_2_3\"\n",
        "    os.chdir(project_folder)\n",
        "    !ls -la"
      ]
    },
    {
      "cell_type": "markdown",
      "metadata": {
        "id": "bYbkEzdD37sZ"
      },
      "source": [
        "## Faz download e carrega o dataset"
      ]
    },
    {
      "cell_type": "code",
      "execution_count": 4,
      "metadata": {
        "colab": {
          "base_uri": "https://localhost:8080/"
        },
        "id": "9qAnqY_q0beK",
        "outputId": "f810fdb0-138d-4917-b7ef-69ab266acef6"
      },
      "outputs": [],
      "source": [
        "# Check if download is necessary\n",
        "if not os.path.exists(\"67724.txt.utf-8\"):\n",
        "    print(\"Downloading Gutenberg texts\")\n",
        "\n",
        "    !wget https://www.gutenberg.org/ebooks/67724.txt.utf-8\n",
        "    !wget https://www.gutenberg.org/ebooks/67725.txt.utf-8"
      ]
    },
    {
      "cell_type": "code",
      "execution_count": 5,
      "metadata": {
        "colab": {
          "base_uri": "https://localhost:8080/"
        },
        "id": "6_UzC9pV091C",
        "outputId": "1553b04f-24c4-4027-8cab-0907f92f04df"
      },
      "outputs": [
        {
          "data": {
            "text/plain": [
              "4969"
            ]
          },
          "execution_count": 5,
          "metadata": {},
          "output_type": "execute_result"
        }
      ],
      "source": [
        "text = open(\"67724.txt.utf-8\",\"r\").read()\n",
        "text += open(\"67725.txt.utf-8\",\"r\").read()\n",
        "\n",
        "paragraphs = text.split(\"\\n\\n\")\n",
        "\n",
        "len(paragraphs)"
      ]
    },
    {
      "cell_type": "code",
      "execution_count": 6,
      "metadata": {},
      "outputs": [
        {
          "name": "stdout",
          "output_type": "stream",
          "text": [
            "The Project Gutenberg eBook of O Guarany: romance brazileiro, Vol. 1 (of 2)\n",
            "    \n",
            "This ebook is for the use of anyone anywhere in the United States and\n",
            "most other parts of the world at no cost and with almost no restrictions\n",
            "whatsoever. You may copy it, give it away or re-use it under the terms\n",
            "of the Project Gutenberg License included with this ebook or online\n",
            "at www.gutenberg.org. If you are not located in the United States,\n",
            "you will have to check the laws of the country where you are located\n",
            "before using this eBook.\n"
          ]
        }
      ],
      "source": [
        "# Checking the text\n",
        "print(paragraphs[0])"
      ]
    },
    {
      "cell_type": "code",
      "execution_count": 7,
      "metadata": {
        "colab": {
          "base_uri": "https://localhost:8080/"
        },
        "id": "UhUFjtNdDuG0",
        "outputId": "78798c0c-deca-4454-d3fb-7d3ba70f3e91"
      },
      "outputs": [
        {
          "name": "stdout",
          "output_type": "stream",
          "text": [
            "O indio hesitou de novo:\n",
            "\n",
            "Tinha então, sempre em sonho, um desses assomos de colera de rainha offendida, que fazia arquear as sobrancelhas louras, e bater sobre a relva a ponta de um pézinho de menina.\n",
            "\n",
            "--Elles me temem, dizes tu; mas desde o momento em que se julgarem offendidos por mim soffrerão tudo para vingar-se.\n",
            "\n",
            "Parecia que devião ser seis horas da tarde, e que o dia cahindo envolvia a terra nas sombras pardacentas do occaso.\n",
            "\n",
            "O escudeiro, que depois de sua conversa com mestre Nunes tinha adormecido, fôra despertado de repente pelas imprecações e gritos que soltavão os aventureiros quando a agua começou a invadir as esteiras em que esta vão deitados.\n",
            "\n",
            "Number of paragraphs: 4892\n"
          ]
        },
        {
          "data": {
            "text/plain": [
              "4892"
            ]
          },
          "execution_count": 7,
          "metadata": {},
          "output_type": "execute_result"
        }
      ],
      "source": [
        "cleaned_paragraphs = [paragraph.replace(\"\\n\", \" \") for paragraph in paragraphs if paragraph.strip()]\n",
        "\n",
        "# Print 5 random paragraphs\n",
        "num_paragraphs = len(cleaned_paragraphs)\n",
        "for i in range(0,5):\n",
        "    idx = random.randrange(num_paragraphs)\n",
        "    print(f\"{cleaned_paragraphs[idx]}\\n\")\n",
        "\n",
        "print(\"Number of paragraphs: \" + str(num_paragraphs))\n",
        "\n",
        "len(cleaned_paragraphs)"
      ]
    },
    {
      "cell_type": "markdown",
      "metadata": {
        "id": "bFVN2ihb33Rf"
      },
      "source": [
        "## Análise do dataset"
      ]
    },
    {
      "cell_type": "code",
      "execution_count": 8,
      "metadata": {
        "colab": {
          "base_uri": "https://localhost:8080/"
        },
        "id": "qSRHqe3H4ZFw",
        "outputId": "4a985c7a-ce1d-4b72-d253-c9fbbc5f9440"
      },
      "outputs": [
        {
          "data": {
            "text/plain": [
              "12610"
            ]
          },
          "execution_count": 8,
          "metadata": {},
          "output_type": "execute_result"
        }
      ],
      "source": [
        "# Conta as palavras no dataset\n",
        "from collections import Counter\n",
        "import re\n",
        "\n",
        "def count_words(texts):\n",
        "    word_counts = Counter()\n",
        "    for text in texts:\n",
        "        word_counts.update(re.findall(pattern, text.lower()))\n",
        "    return word_counts\n",
        "\n",
        "word_counts = count_words(cleaned_paragraphs)\n",
        "\n",
        "len(word_counts)"
      ]
    },
    {
      "cell_type": "markdown",
      "metadata": {
        "id": "EyGVDL9KzJ_I"
      },
      "source": [
        "## Criando um vocabulário"
      ]
    },
    {
      "cell_type": "code",
      "execution_count": 9,
      "metadata": {
        "id": "FiP7OCo9zJ_I"
      },
      "outputs": [],
      "source": [
        "most_frequent_words = [word for word, count in word_counts.most_common(vocab_size)]\n",
        "vocab = {word: i for i, word in enumerate(most_frequent_words, 1)}"
      ]
    },
    {
      "cell_type": "code",
      "execution_count": 10,
      "metadata": {},
      "outputs": [
        {
          "name": "stdout",
          "output_type": "stream",
          "text": [
            "Most Frequent Words: ['.', ',', 'a', 'que', 'o', 'de', 'e', 'se', ';', 'um']\n",
            "Vocabulary Size: 5000\n"
          ]
        }
      ],
      "source": [
        "print(f\"Most Frequent Words: {most_frequent_words[:10]}\")\n",
        "print(f\"Vocabulary Size: {len(vocab)}\")"
      ]
    },
    {
      "cell_type": "code",
      "execution_count": 11,
      "metadata": {
        "colab": {
          "base_uri": "https://localhost:8080/"
        },
        "id": "RhbhAsZbzJ_J",
        "outputId": "6a53c9e0-308d-4082-e225-cfa376e8f39a"
      },
      "outputs": [
        {
          "name": "stdout",
          "output_type": "stream",
          "text": [
            " Publicando este livro em 1857, se disse ser aquella primeira edição uma prova typographica, que algum dia talvez o autor se dispuzesse a rever.\n",
            "[0, 146, 4383, 23, 0, 2, 8, 50, 117, 276, 266, 2669, 13, 1071, 0, 2, 4, 193, 137, 287, 5, 2264, 8, 0, 3, 2672, 1]\n"
          ]
        }
      ],
      "source": [
        "def encode_sentence(sentence, vocab):\n",
        "    return [vocab.get(word, 0) for word in re.findall(pattern, sentence.lower())]\n",
        "\n",
        "print(cleaned_paragraphs[20])\n",
        "print(encode_sentence(cleaned_paragraphs[20], vocab))"
      ]
    },
    {
      "cell_type": "markdown",
      "metadata": {
        "id": "wia_ygbvzJ_J"
      },
      "source": [
        "## Classe do dataset"
      ]
    },
    {
      "cell_type": "code",
      "execution_count": 12,
      "metadata": {
        "id": "Iy-elI1magRR"
      },
      "outputs": [],
      "source": [
        "# Dataset class\n",
        "import torch\n",
        "from torch.utils.data import Dataset, DataLoader\n",
        "\n",
        "class CustomDataset(Dataset):\n",
        "  def __init__(self, paragraphs, vocab, context):\n",
        "    self.paragraphs = paragraphs\n",
        "    self.vocab = vocab\n",
        "    self.context = context\n",
        "    self.tokens, self.targets = self.setup()\n",
        "\n",
        "  def __len__(self):\n",
        "    return len(self.tokens)\n",
        "\n",
        "  def __getitem__(self, idx):\n",
        "    return torch.tensor(self.tokens[idx]), torch.tensor(self.targets[idx])\n",
        "  \n",
        "  def setup(self):\n",
        "    tokens = []\n",
        "    targets = []\n",
        "    for paragraph in self.paragraphs:\n",
        "      encoded = encode_sentence(paragraph, self.vocab)\n",
        "      \n",
        "      # If paragraph is smaller than the context, skip it.\n",
        "      if len(encoded) < self.context + 1:\n",
        "          continue\n",
        "\n",
        "      for i in range(len(encoded) - self.context):\n",
        "        tks = encoded[i:i+self.context]\n",
        "        tgt = encoded[i+self.context]\n",
        "        # Only add if there are no unknown tokens in both context and target.\n",
        "        bad_token = 0\n",
        "        if not (bad_token in tks or tgt == bad_token):\n",
        "          tokens.append(tks)\n",
        "          targets.append(tgt)\n",
        "    return tokens, targets\n"
      ]
    },
    {
      "cell_type": "code",
      "execution_count": 13,
      "metadata": {
        "colab": {
          "base_uri": "https://localhost:8080/"
        },
        "id": "aD1CVci2zJ_J",
        "outputId": "5bf0839e-f30e-4ff2-ed6f-4f3fda782b7c"
      },
      "outputs": [
        {
          "name": "stdout",
          "output_type": "stream",
          "text": [
            "Training samples: 3913\n",
            "Validation samples: 979\n",
            "\n",
            "Training dataset samples: 59646\n",
            "Validation dataset samples: 16215\n"
          ]
        }
      ],
      "source": [
        "# Train/Validation split\n",
        "train_data, val_data = train_test_split(cleaned_paragraphs, test_size=0.2, random_state=18)\n",
        "\n",
        "train_dataset = CustomDataset(train_data, vocab, context_size)\n",
        "val_dataset = CustomDataset(val_data, vocab, context_size)\n",
        "\n",
        "# Counting all Samples\n",
        "print(f\"Training samples: {len(train_data)}\")\n",
        "print(f\"Validation samples: {len(val_data)}\")\n",
        "print()\n",
        "print(f\"Training dataset samples: {len(train_dataset)}\")\n",
        "print(f\"Validation dataset samples: {len(val_dataset)}\")"
      ]
    },
    {
      "cell_type": "code",
      "execution_count": 14,
      "metadata": {
        "id": "gC0C5qn2zJ_J"
      },
      "outputs": [
        {
          "name": "stdout",
          "output_type": "stream",
          "text": [
            "[tensor([[   5,  328,    4, 1239,    5],\n",
            "        [1716,  332,  116,   41, 2215],\n",
            "        [1455,    2,   13, 2871,    2],\n",
            "        [ 641,    2,   41,   74,   66],\n",
            "        [   5, 1017,  657,    1,  384],\n",
            "        [   5,   97,   23,  810,    6],\n",
            "        [  40,    5, 2087, 1220,    8],\n",
            "        [  10,  389,    9,   39,   12],\n",
            "        [  19, 4941,    6,  999,    4],\n",
            "        [ 215,    2,  562,    3, 1046],\n",
            "        [ 344,   42,   45, 3599,  507],\n",
            "        [ 124,   23,   48,   10,  320],\n",
            "        [3630,   11, 3017, 1084,    3],\n",
            "        [   7, 1207,  290,   22,  837],\n",
            "        [  13, 2255, 1287,    4, 2506],\n",
            "        [4687,   46,  112,   25,    1],\n",
            "        [  21,  740,   15,  584,   13],\n",
            "        [   2,    5,  378,    2,    5],\n",
            "        [ 507,    6,   17,   83, 4467],\n",
            "        [   2,   62,   11,    4,    8],\n",
            "        [4309,    6,  152,    4,    8],\n",
            "        [  15,   75, 1560,    2, 1594],\n",
            "        [4215,    8,   27,   19,  496],\n",
            "        [1347,   16,   13, 1310,  786],\n",
            "        [   5,  250,  956,    9,    7],\n",
            "        [2350,   28,    5,   19,  320],\n",
            "        [   3,   46, 3016,  112,    4],\n",
            "        [ 197,  329,   48,   15,   85],\n",
            "        [  10,   18,    5,  161,    9],\n",
            "        [1794,  393,    8,  108,  359],\n",
            "        [ 221,  581,    2,    7,    6],\n",
            "        [ 237,    8,   18,    5,  227],\n",
            "        [1861,    2,    4,    5,  378],\n",
            "        [  14,  570,    6,  460,    2],\n",
            "        [ 347,    2,    5,  303,  753],\n",
            "        [3900,    8,    2,    7,  552],\n",
            "        [   8,   13,  531,    6, 4424],\n",
            "        [  13,  153,  601,  177,  224],\n",
            "        [  15,   55, 1138,   24, 3128],\n",
            "        [  20,    1,    1,    1,  637],\n",
            "        [   3,   83,    3,   10,   87],\n",
            "        [  18,  133,    5,    4, 1957],\n",
            "        [  12,    3, 3855,    9,   33],\n",
            "        [ 950,    7,  971,   14,  511],\n",
            "        [ 271,  636,  326,   76,   24],\n",
            "        [ 132,    3,  184,    2,   28],\n",
            "        [ 178, 1091,   59, 1533,   14],\n",
            "        [   2, 3667,  361,   31,  639],\n",
            "        [1357,  574,   11,  523,   11],\n",
            "        [ 578, 1876,    6,  216,   15],\n",
            "        [ 224,   44,   70,   25,  185],\n",
            "        [ 264,    4,  260,    2, 4806],\n",
            "        [  21,  135,   10,  245,    6],\n",
            "        [ 116,  661,  140,    1,  662],\n",
            "        [ 533,   71,  400,    8, 2525],\n",
            "        [ 325,   59, 2757,   25,    1],\n",
            "        [   3,  174,    6,  556,    7],\n",
            "        [ 183,  133,    9,    7, 3058],\n",
            "        [ 348,   21,  135,   10,  613],\n",
            "        [   6, 3592,   59,  503,  157],\n",
            "        [ 726,   20,   77,    1,    3],\n",
            "        [   1,    1,    1,    1,    1],\n",
            "        [   3,   17, 1111,   18, 3551],\n",
            "        [   2,  826, 1365,    2,  257],\n",
            "        [ 252,    9,   21,   12, 2555],\n",
            "        [4068,    5,   19,  167,  852],\n",
            "        [   2,    7,  553,    8,   18],\n",
            "        [   4,    3, 1910,   23,    4],\n",
            "        [2327,    2,    3, 1044,  360],\n",
            "        [ 216,   82,  702,    6,   13],\n",
            "        [   2,   90,  148,  994,   41],\n",
            "        [  39, 1236, 1127, 1190,   18],\n",
            "        [   6,   13,  683,    2,    7],\n",
            "        [  15, 1228, 4819,    2,  190],\n",
            "        [4213,   25,  134,   61,   13],\n",
            "        [  10,  634,    4,   12,   44],\n",
            "        [   2,    4,    8, 3940, 3941],\n",
            "        [ 871,   14, 2091,  850,   38],\n",
            "        [1559,    6,   35,    2,    7],\n",
            "        [  32,  256,   13,  422,    2],\n",
            "        [  91,   11, 1123,    1,   15],\n",
            "        [ 119,    6,  132,    3,  179],\n",
            "        [   2,  447,   85,  388,    2],\n",
            "        [   9,   33,  287,   13, 4296],\n",
            "        [   5,  980,    6,   95, 2492],\n",
            "        [ 117,   18,   21,    5,  512],\n",
            "        [4893,   18,   44, 3659,   28],\n",
            "        [ 207,    3, 1049,   18,  240],\n",
            "        [  33,   13,   51,  844,    4],\n",
            "        [  31, 3802,   11,  119,    6],\n",
            "        [ 113,  831,   20,    8,   88],\n",
            "        [ 101, 2887,    8,   27,  362],\n",
            "        [  11,   80,    2,    5,  519],\n",
            "        [   5,  227,    2,    5,  765],\n",
            "        [  14,  219,    2, 2415,   24],\n",
            "        [  27,  162,    9,    7,    3],\n",
            "        [  33,    3, 3364,   11,  144],\n",
            "        [ 118,  172,   20,    1,    1],\n",
            "        [3659,  118,  175,    1, 3118],\n",
            "        [   4, 1199, 4922,   29,   15],\n",
            "        [  15, 1397,   26,   13, 2692],\n",
            "        [ 189,    2, 1591,    6,  682],\n",
            "        [ 109,    2,  536,   10,  843],\n",
            "        [2850,   26,   10,  176,  113],\n",
            "        [ 947,  368,  270,    6,  398],\n",
            "        [   2, 1243,   44,   10,  137],\n",
            "        [ 535,  572,    2,    4, 1208],\n",
            "        [1004,    6,  946,   75, 1560],\n",
            "        [   3,  621,  580,  108,   15],\n",
            "        [   4, 3161,    5, 2920,    6],\n",
            "        [2055,    9,    5,  436,    3],\n",
            "        [   7,  338,    4,    8,  849],\n",
            "        [  20,  317,   37,    6,   46],\n",
            "        [1302,  751, 4730,  697,  209],\n",
            "        [   7,    5,  295,   24,  141],\n",
            "        [   2, 4452,    3, 1275,   15],\n",
            "        [  18,   19,  167,    7,  922],\n",
            "        [ 184,    3, 2533, 1517,    1],\n",
            "        [   2,   14,  658,   42,  217],\n",
            "        [   5,   80,  135,   10,  613],\n",
            "        [   7,  360,    3, 1859,   23],\n",
            "        [ 250,    3,   17,  580,    2],\n",
            "        [ 680,  105, 4296,  591,    4],\n",
            "        [ 127,  963, 4157,    9,   37],\n",
            "        [1487,  513,   11,    4,    3],\n",
            "        [  82,  205,  703,    2,    3],\n",
            "        [  29, 1465,    2, 4807,    5],\n",
            "        [  23,   21,   16,   10,  369]]), tensor([ 407, 3237,  103,  566,    2,  252,    7,  498,    3,    1,    2,    4,\n",
            "        1447,    6,  220,    1, 3951,  176,    9,   65, 1096,   27,   18,    3,\n",
            "        2172,    9,  127,   75,   15,  168,   13,  361,  651,    5,  108, 1574,\n",
            "           2,   29,    2, 4064,   84,  131,  182,    4,  339,    3,  204,    6,\n",
            "          67,   45,   49,   23,  589,    1,    5,    1,    3,    4,  886,   10,\n",
            "        2316,    1,    1, 1658,    3,    2,  154,    8,    1,  213,  754,   56,\n",
            "          62,  349, 1077,  431,   27,   22, 1481,    7,  419,    3, 2904,    2,\n",
            "          93, 1344,   72,    3,   46,   35,   52,    6,    6,  160,  816, 1348,\n",
            "           4,    1,    3,  147,    6,  564,   24,  338,    2,    6,   38, 3810,\n",
            "         578,   64, 1468,  100,   20,    2,    6,  385,   29, 3302,    2,  886,\n",
            "          17,  429, 3029, 1539,   17,   98,   19,    6])]\n"
          ]
        }
      ],
      "source": [
        "train_loader = DataLoader(train_dataset, batch_size=batch_size, shuffle=True)\n",
        "val_loader = DataLoader(val_dataset, batch_size=batch_size, shuffle=True)\n",
        "\n",
        "sample = next(iter(train_loader))\n",
        "print(sample)"
      ]
    },
    {
      "cell_type": "markdown",
      "metadata": {
        "id": "-5_-Yud0zJ_K"
      },
      "source": [
        "## Model"
      ]
    },
    {
      "cell_type": "code",
      "execution_count": 15,
      "metadata": {
        "id": "I2qKG9YczJ_K"
      },
      "outputs": [],
      "source": [
        "class BengioModel(torch.nn.Module):\n",
        "    def __init__(self, vocab_size, embedding_dim, context_size, h):\n",
        "        super(BengioModel, self).__init__()\n",
        "        self.embeddings = nn.Embedding(vocab_size+1, embedding_dim)\n",
        "        self.linear1 = nn.Linear(context_size * embedding_dim, h)\n",
        "        self.relu = torch.nn.ReLU()\n",
        "        # Tanh non-linearity as described in the article\n",
        "        #self.tanh = torch.nn.Tanh()\n",
        "        self.linear2 = nn.Linear(h, vocab_size+1)\n",
        "        # Softmax to scale outputs\n",
        "        self.logSoftMax = torch.nn.LogSoftmax(dim=1)\n",
        "\n",
        "    def forward(self, inputs):\n",
        "        embeds = self.embeddings(inputs)\n",
        "        # Flatten embeddings\n",
        "        embeds = embeds.view(embeds.size(0), -1)\n",
        "        # Linear layer\n",
        "        out = self.linear1(embeds)\n",
        "        #out = self.tanh(out)\n",
        "        out = self.relu(out)\n",
        "        # Second layer\n",
        "        out = self.linear2(out)\n",
        "        # Softmax output\n",
        "        out = self.logSoftMax(out)\n",
        "        return out"
      ]
    },
    {
      "cell_type": "code",
      "execution_count": 16,
      "metadata": {
        "id": "7yjQ1KXOzJ_K"
      },
      "outputs": [],
      "source": [
        "model = BengioModel(vocab_size, embedding_dim, context_size, hidden_dim)"
      ]
    },
    {
      "cell_type": "code",
      "execution_count": 17,
      "metadata": {
        "id": "xmsD59TfzJ_K"
      },
      "outputs": [
        {
          "name": "stdout",
          "output_type": "stream",
          "text": [
            "torch.Size([128, 5])\n",
            "torch.Size([128])\n"
          ]
        }
      ],
      "source": [
        "sample = next(iter(train_loader))\n",
        "input = sample[0]\n",
        "target = sample[1]\n",
        "\n",
        "print(input.shape)\n",
        "print(target.shape)"
      ]
    },
    {
      "cell_type": "code",
      "execution_count": 18,
      "metadata": {
        "id": "HGbJcT5KzJ_K"
      },
      "outputs": [
        {
          "name": "stdout",
          "output_type": "stream",
          "text": [
            "tensor([[-8.7467, -8.4369, -8.5924,  ..., -8.6832, -8.8771, -8.2656],\n",
            "        [-8.7607, -8.6259, -8.8695,  ..., -8.6298, -9.1078, -8.6166],\n",
            "        [-8.5961, -8.5810, -8.3906,  ..., -8.7745, -8.6335, -8.8381],\n",
            "        ...,\n",
            "        [-8.6303, -8.3665, -8.4601,  ..., -8.9469, -8.9174, -8.3805],\n",
            "        [-8.9053, -8.6383, -8.6528,  ..., -8.4610, -8.8756, -8.5364],\n",
            "        [-8.8552, -8.6704, -8.5204,  ..., -8.7545, -8.9742, -7.8670]],\n",
            "       grad_fn=<LogSoftmaxBackward0>)\n",
            "torch.Size([128, 5001])\n"
          ]
        }
      ],
      "source": [
        "output = model(input)\n",
        "print(output)\n",
        "print(output.shape)"
      ]
    },
    {
      "cell_type": "code",
      "execution_count": 19,
      "metadata": {
        "colab": {
          "base_uri": "https://localhost:8080/"
        },
        "id": "um0lR4mNzJ_K",
        "outputId": "e6041da8-ca7f-4c9d-b28b-9e1250e820f2"
      },
      "outputs": [
        {
          "data": {
            "text/plain": [
              "tensor([4832, 4297,  663,  975, 2307, 1127,  100, 2795,  827, 4506,  824, 3160,\n",
              "        3115, 2586, 3217, 4213,  891, 4221,   25, 4191, 4946, 1958, 2692, 3828,\n",
              "        3119, 2736, 4236, 3566, 4429, 4228,  314, 3347,  511, 2377,  784,  524,\n",
              "        4429, 4698, 1847, 4889, 2264,   15, 4429, 2997, 4278, 1898, 1010, 3098,\n",
              "        4429, 3251,  865, 1847, 1898, 3612, 4476,  100, 1657, 2795, 2000, 3734,\n",
              "        1847, 4436, 1847,  105, 2377, 1791, 1676, 2377, 2201, 1847,  174, 3924,\n",
              "        2377, 2393, 3560, 1127, 1335,  511,  585, 2260, 1102, 1127, 2569, 4946,\n",
              "        4838, 2377, 2245, 4148, 4946, 2812,  100, 4429, 2377, 4125, 4544, 4204,\n",
              "        4946, 1996, 2384, 1898,  100, 4946, 3612, 1780, 1791, 4429, 2377, 3986,\n",
              "         464,   25,  762, 4892,  131, 2377, 1333, 4893,  131,  100, 4889, 3625,\n",
              "        3986, 1255, 1333, 3353, 2586, 1780, 2377, 3625])"
            ]
          },
          "execution_count": 19,
          "metadata": {},
          "output_type": "execute_result"
        }
      ],
      "source": [
        "output.argmax(dim=1)"
      ]
    },
    {
      "cell_type": "code",
      "execution_count": 20,
      "metadata": {
        "colab": {
          "base_uri": "https://localhost:8080/"
        },
        "id": "la-b-f8jzJ_L",
        "outputId": "f040cef4-e409-4d20-d335-a3133aaeb63c"
      },
      "outputs": [
        {
          "data": {
            "text/plain": [
              "tensor([ 452,   27,  226,   19,  508,    5,   26,    3,    5,    3,    5,   14,\n",
              "           4,    4,  122,    2,    2,  510, 1439,   13,  689,    2,  137,  315,\n",
              "         564,    4,   27,    7, 1289,    1,   29,  860, 3469,    5,    4,    8,\n",
              "        4571, 1758, 1485,  180,    2, 1744,   29, 3808,    8,  514,   24,  118,\n",
              "         663,    5, 2281,  375,  873,  153,    2,    4,    9,   10, 2194,    7,\n",
              "        2168,    1,    4,  545,  357, 3059,    3,    1,   70,   15, 1459,   12,\n",
              "         321,    6,   67,  784,  571,  110,   17, 2497, 3137,  405,  109,  183,\n",
              "           3,    1,   46,   45,  245,   14,  114, 3900,    1,    5,    6, 2107,\n",
              "           4,  207,  954,    6,    3,   42,    8,    5,    2,    8,   18,  134,\n",
              "           7,    3,   32,   16,  717,  405,    1,  304,  361,  118,    8,  672,\n",
              "           9,   40,   10,    2,   25,   28,    1,    7])"
            ]
          },
          "execution_count": 20,
          "metadata": {},
          "output_type": "execute_result"
        }
      ],
      "source": [
        "target"
      ]
    },
    {
      "cell_type": "markdown",
      "metadata": {
        "id": "UngUhyu7zJ_L"
      },
      "source": [
        "## Training"
      ]
    },
    {
      "cell_type": "code",
      "execution_count": 21,
      "metadata": {
        "colab": {
          "base_uri": "https://localhost:8080/"
        },
        "id": "wntaV50nzJ_L",
        "outputId": "a054092b-d801-4c60-eb75-85abfe57151d"
      },
      "outputs": [
        {
          "data": {
            "text/plain": [
              "device(type='cuda')"
            ]
          },
          "execution_count": 21,
          "metadata": {},
          "output_type": "execute_result"
        }
      ],
      "source": [
        "# Verifica se há uma GPU disponível e define o dispositivo para GPU se possível, caso contrário, usa a CPU\n",
        "device = torch.device('cuda' if torch.cuda.is_available() else 'cpu')\n",
        "device"
      ]
    },
    {
      "cell_type": "code",
      "execution_count": 22,
      "metadata": {
        "id": "vRwSPiwizJ_L"
      },
      "outputs": [
        {
          "data": {
            "text/plain": [
              "BengioModel(\n",
              "  (embeddings): Embedding(5001, 256)\n",
              "  (linear1): Linear(in_features=1280, out_features=128, bias=True)\n",
              "  (relu): ReLU()\n",
              "  (linear2): Linear(in_features=128, out_features=5001, bias=True)\n",
              "  (logSoftMax): LogSoftmax(dim=1)\n",
              ")"
            ]
          },
          "execution_count": 22,
          "metadata": {},
          "output_type": "execute_result"
        }
      ],
      "source": [
        "# Cross Entropy\n",
        "criterion = nn.CrossEntropyLoss()\n",
        "\n",
        "# Optimizer\n",
        "#optimizer = torch.optim.Adam(model.parameters(), lr)\n",
        "optimizer = torch.optim.SGD(model.parameters(), lr)\n",
        "\n",
        "model.to(device)"
      ]
    },
    {
      "cell_type": "code",
      "execution_count": 23,
      "metadata": {},
      "outputs": [
        {
          "name": "stdout",
          "output_type": "stream",
          "text": [
            "O modelo tem um total de 2,089,353 parâmetros.\n"
          ]
        }
      ],
      "source": [
        "def count_parameters(model):\n",
        "    return sum(p.numel() for p in model.parameters() if p.requires_grad)\n",
        "\n",
        "# Exemplo de uso:\n",
        "total_params = count_parameters(model)\n",
        "print(f'O modelo tem um total de {total_params:,} parâmetros.')"
      ]
    },
    {
      "cell_type": "code",
      "execution_count": 24,
      "metadata": {},
      "outputs": [
        {
          "name": "stdout",
          "output_type": "stream",
          "text": [
            "Initial Loss: 8.5447\n",
            "Initial Perplexity: 5139.2554\n"
          ]
        }
      ],
      "source": [
        "# Initial Perplexity and Loss\n",
        "# Before training\n",
        "model.eval()\n",
        "\n",
        "loss = 0\n",
        "perp = 0\n",
        "\n",
        "with torch.no_grad():\n",
        "    for inputs, targets in train_loader:\n",
        "        inputs = inputs.to(device)\n",
        "        targets = targets.to(device)\n",
        "        outputs = model(inputs)\n",
        "        loss += criterion(outputs, targets).item()\n",
        "\n",
        "loss /= len(train_loader)\n",
        "perp = torch.exp(torch.tensor(loss))\n",
        "\n",
        "print(f'Initial Loss: {loss:.4f}')\n",
        "print(f'Initial Perplexity: {perp:.4f}')"
      ]
    },
    {
      "cell_type": "code",
      "execution_count": 25,
      "metadata": {},
      "outputs": [
        {
          "name": "stdout",
          "output_type": "stream",
          "text": [
            "Epoch [1/10], Time:2.76, Loss: 6.4389, Accuracy: 0.11%, Perplexity: 625.7480\n",
            "Epoch [2/10], Time:2.84, Loss: 5.5617, Accuracy: 0.15%, Perplexity: 260.2597\n",
            "Epoch [3/10], Time:2.83, Loss: 5.1835, Accuracy: 0.18%, Perplexity: 178.3056\n",
            "Epoch [4/10], Time:2.83, Loss: 4.8998, Accuracy: 0.20%, Perplexity: 134.2661\n",
            "Epoch [5/10], Time:2.83, Loss: 4.6607, Accuracy: 0.22%, Perplexity: 105.7100\n",
            "Epoch [6/10], Time:2.86, Loss: 4.4458, Accuracy: 0.24%, Perplexity: 85.2665\n",
            "Epoch [7/10], Time:2.89, Loss: 4.2432, Accuracy: 0.26%, Perplexity: 69.6273\n",
            "Epoch [8/10], Time:2.85, Loss: 4.0552, Accuracy: 0.28%, Perplexity: 57.6966\n",
            "Epoch [9/10], Time:2.99, Loss: 3.8732, Accuracy: 0.30%, Perplexity: 48.0979\n",
            "Epoch [10/10], Time:2.94, Loss: 3.6974, Accuracy: 0.31%, Perplexity: 40.3413\n"
          ]
        }
      ],
      "source": [
        "# Training Loop\n",
        "model.train()\n",
        "for epoch in range(epochs):\n",
        "\n",
        "  epoch_start = time.time()\n",
        "  # Metrics\n",
        "  epoch_loss = 0\n",
        "  epoch_correct = 0\n",
        "  epoch_samples = 0\n",
        "\n",
        "  for inputs, targets in train_loader:\n",
        "        inputs = inputs.to(device)  # Move input data to the device\n",
        "        targets = targets.to(device)\n",
        "\n",
        "        # Forward pass\n",
        "        outputs = model(inputs)\n",
        "        loss = criterion(outputs, targets)\n",
        "\n",
        "        # Backward pass and optimization\n",
        "        optimizer.zero_grad()\n",
        "        loss.backward()\n",
        "        optimizer.step()\n",
        "\n",
        "        # Loss\n",
        "        epoch_loss += loss.item()\n",
        "\n",
        "        # Predicted\n",
        "        _, predicted = torch.max(outputs, 1)\n",
        "        epoch_correct += (predicted == targets).sum().item()\n",
        "        epoch_samples += targets.size(0)\n",
        "\n",
        "  # Calculate average loss and accuracy for epoch\n",
        "  avg_loss = epoch_loss / len(train_loader)\n",
        "  acc = epoch_correct / epoch_samples\n",
        "\n",
        "  # Perplexity\n",
        "  perp = torch.exp(torch.tensor(avg_loss))\n",
        "\n",
        "  epoch_end = time.time()\n",
        "  epoch_time = epoch_end - epoch_start\n",
        "  # Print epoch statistics\n",
        "  print(f'Epoch [{epoch+1}/{epochs}], Time:{epoch_time:.2f}, Loss: {avg_loss:.4f}, Accuracy: {acc:.2f}%, Perplexity: {perp:.4f}')\n"
      ]
    },
    {
      "cell_type": "markdown",
      "metadata": {
        "id": "PSXfwYISDoPN"
      },
      "source": [
        "## Avaliação"
      ]
    },
    {
      "cell_type": "code",
      "execution_count": 26,
      "metadata": {
        "id": "nXXO78GSDqPg"
      },
      "outputs": [
        {
          "name": "stdout",
          "output_type": "stream",
          "text": [
            "Test Accuracy: 19.61%\n",
            "Average Loss: 5.31\n",
            "Average Perplexity: 202.43\n"
          ]
        }
      ],
      "source": [
        "model.eval()\n",
        "\n",
        "loss_sum = 0\n",
        "total_sum = 0\n",
        "correct_sum = 0\n",
        "eval_round = 0\n",
        "\n",
        "loss = 0\n",
        "perp = 0\n",
        "\n",
        "with torch.no_grad():\n",
        "    for inputs, targets in val_loader:\n",
        "        inputs = inputs.to(device)\n",
        "        targets = targets.to(device)\n",
        "\n",
        "        outputs = model(inputs)\n",
        "        loss = criterion(outputs, targets)      \n",
        "        loss_sum += loss\n",
        "\n",
        "        # Get the predicted labels\n",
        "        _, predicted = torch.max(outputs, 1)\n",
        "\n",
        "        total_sum += targets.size(0)\n",
        "        correct_sum += (predicted == targets).sum().item()\n",
        "        eval_round += 1\n",
        "\n",
        "# Calculate accuracy\n",
        "acc = 100 * correct_sum / total_sum\n",
        "\n",
        "# Calculate average perplexity\n",
        "average_loss = loss_sum / len(val_loader)\n",
        "average_perplexity = torch.exp(average_loss)\n",
        "\n",
        "print(f'Test Accuracy: {acc:.2f}%')\n",
        "print(f'Average Loss: {average_loss:.2f}')\n",
        "print(f'Average Perplexity: {average_perplexity:.2f}')"
      ]
    },
    {
      "cell_type": "markdown",
      "metadata": {
        "id": "A1zhxVqfzJ_M"
      },
      "source": [
        "## Exemplo de uso"
      ]
    },
    {
      "cell_type": "code",
      "execution_count": 27,
      "metadata": {
        "id": "3PExkoWOzJ_M"
      },
      "outputs": [
        {
          "name": "stdout",
          "output_type": "stream",
          "text": [
            "Frase: Nesse momento os Aymorés preparavão settas inflammaveis para incendiar a casa de D. Antonio de Mariz; não podendo vencer o inimigo pelas armas, contavão destrui-lo pelo fogo.\n",
            "[231, 76, 15, 217, 4265]\n",
            "[231, 76, 15, 217, 4265, 151]\n",
            "[231, 76, 15, 217, 4265, 151, 103]\n",
            "[231, 76, 15, 217, 4265, 151, 103, 2288]\n",
            "[231, 76, 15, 217, 4265, 151, 103, 2288, 36]\n",
            "[231, 76, 15, 217, 4265, 151, 103, 2288, 36, 235]\n",
            "[231, 76, 15, 217, 4265, 151, 103, 2288, 36, 235, 1]\n",
            "[231, 76, 15, 217, 4265, 151, 103, 2288, 36, 235, 1, 49]\n",
            "[231, 76, 15, 217, 4265, 151, 103, 2288, 36, 235, 1, 49, 2]\n",
            "[231, 76, 15, 217, 4265, 151, 103, 2288, 36, 235, 1, 49, 2, 39]\n",
            "[231, 76, 15, 217, 4265, 151, 103, 2288, 36, 235, 1, 49, 2, 39, 26]\n",
            "\u001b[34m['nesse', 'momento', 'os', 'aymorés', 'preparavão']\u001b[0m \u001b[31m['this', 'ou', 'cortina', 'na', 'alguns', '.', 'alvaro', ',', 'mas', 'por']\u001b[0m \n"
          ]
        }
      ],
      "source": [
        "# Código adaptado da implementação do Cesar Bastos\n",
        "from colorama import Fore, Style\n",
        "\n",
        "text = cleaned_paragraphs\n",
        "model.to(device)\n",
        "def generate_text(model, vocab, text, max_length, context_size):\n",
        "    words = []\n",
        "    # Ensure there are enough words for at least one sequence\n",
        "    while len(words) < context_size:\n",
        "        random_number = random.randint(1, 4891)\n",
        "        words = encode_sentence(text[random_number], vocab)\n",
        "        if not words:\n",
        "            words = []\n",
        "            continue  # Skip if the sentence cannot be encoded\n",
        "        words = words[:context_size]\n",
        "        #print(words)\n",
        "        if any(token == 0 for token in words):\n",
        "            words = []\n",
        "            continue  # Skip if any token is zero (assuming 0 is a special token)\n",
        "        context = words\n",
        "\n",
        "    print(f\"Frase: {cleaned_paragraphs[random_number]}\")\n",
        "    print(words)\n",
        "\n",
        "    for _ in range(max_length):\n",
        "        words_tensor = torch.tensor(context[-context_size:], dtype=torch.long).unsqueeze(0).to(device)\n",
        "        logits = model(words_tensor)\n",
        "        probs = F.softmax(logits, dim=1)\n",
        "        next_token = torch.multinomial(probs, num_samples=1)\n",
        "        context.append(next_token.item())\n",
        "        print(context)\n",
        "    frase = []\n",
        "    for i in context: ##Agradecimentos a Ramon Abilio\n",
        "        word = next((word for word, code in vocab.items() if code == i), \"<UNKNOWN>\")\n",
        "        frase.append(word)\n",
        "\n",
        "    print(f\"{Fore.BLUE}{frase[:context_size]}{Style.RESET_ALL} {Fore.RED}{frase[-max_length:]}{Style.RESET_ALL} \")\n",
        "\n",
        "\n",
        "max_length= 10\n",
        "generate_text(model, vocab, text, max_length, context_size)"
      ]
    }
  ],
  "metadata": {
    "accelerator": "GPU",
    "colab": {
      "gpuType": "T4",
      "provenance": []
    },
    "kernelspec": {
      "display_name": "IA024",
      "language": "python",
      "name": "ia024"
    },
    "language_info": {
      "codemirror_mode": {
        "name": "ipython",
        "version": 3
      },
      "file_extension": ".py",
      "mimetype": "text/x-python",
      "name": "python",
      "nbconvert_exporter": "python",
      "pygments_lexer": "ipython3",
      "version": "3.11.4"
    }
  },
  "nbformat": 4,
  "nbformat_minor": 0
}
