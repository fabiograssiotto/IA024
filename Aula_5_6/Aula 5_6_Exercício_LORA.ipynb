{
  "cells": [
    {
      "cell_type": "markdown",
      "metadata": {
        "id": "fMI0JT_YuYF3"
      },
      "source": [
        "## Exercício: LoRA\n",
        "\n",
        "- Exercício didático para entender a técnica de fazer ajuste fino em modelos grandes usando poucos recursos\n",
        "- Aplicar no pré exercício de análise de sentimento ou no segundo exercício, e modelo de linguagem, com vocabulário de 3000 palavras, embedding size e 2 camadas, treinados da forma usual (medir tempo de treinamento/época)\n",
        "- Modificar o seu modelo para adotar a técnica do LoRA no embedding e nas 2 camadas, e fazer o ajuste-fino, isto é, continuar o treinamento anterior, lembrando que as matrizes originais ficarão congeladas e o ajuste dos pesos serão apenas aplicados nas matrizes do LoRA. Medir o tempo de treinamento/época.\n",
        "- Por último, substituir o modelo original, com os novos pesos calculados pelo W + LoRA."
      ]
    },
    {
      "cell_type": "code",
      "execution_count": 1,
      "metadata": {},
      "outputs": [],
      "source": [
        "import os\n",
        "import sys\n",
        "import random\n",
        "import time\n",
        "import re\n",
        "import math\n",
        "from collections import Counter\n",
        "from sklearn.model_selection import train_test_split\n",
        "\n",
        "# Pytorch\n",
        "import torch\n",
        "import torch.nn as nn\n",
        "import torch.nn.functional as F\n",
        "from torch.utils.data import Dataset, DataLoader\n",
        "\n",
        "import warnings\n",
        "warnings.filterwarnings(\"ignore\")"
      ]
    },
    {
      "cell_type": "code",
      "execution_count": 2,
      "metadata": {},
      "outputs": [],
      "source": [
        "# Global variables\n",
        "\n",
        "# Vocabulary\n",
        "vocab_size = 3000\n",
        "context_size = 9\n",
        "pattern = r'\\w+|[,;.:!?\\']'\n",
        "\n",
        "# Training\n",
        "batch_size = 32\n",
        "epochs = 25\n",
        "lr = 0.01\n",
        "\n",
        "# Model\n",
        "embedding_dim = 64\n",
        "hidden_dim = 200\n",
        "dropout_rate = 0.2\n",
        "\n",
        "# LoRA parameters\n",
        "lora_r = 1        # Rank adaptation\n",
        "lora_alpha = 2    # Scaling factor"
      ]
    },
    {
      "cell_type": "code",
      "execution_count": 3,
      "metadata": {},
      "outputs": [
        {
          "data": {
            "text/plain": [
              "device(type='cuda')"
            ]
          },
          "execution_count": 3,
          "metadata": {},
          "output_type": "execute_result"
        }
      ],
      "source": [
        "# Colab environment\n",
        "IN_COLAB = 'google.colab' in sys.modules\n",
        "\n",
        "if (IN_COLAB):\n",
        "    %pip install colorama\n",
        "\n",
        "    # Google Drive\n",
        "    from google.colab import drive\n",
        "    drive.mount('/content/drive', force_remount=True)\n",
        "\n",
        "    project_folder=\"/content/drive/MyDrive/Classes/IA024/Aula_2_3\"\n",
        "    os.chdir(project_folder)\n",
        "    !ls -la\n",
        "\n",
        "device = torch.device('cuda' if torch.cuda.is_available() else 'cpu')\n",
        "#device = 'cpu'\n",
        "device"
      ]
    },
    {
      "cell_type": "markdown",
      "metadata": {
        "id": "bYbkEzdD37sZ"
      },
      "source": [
        "## Faz download e carrega o dataset"
      ]
    },
    {
      "cell_type": "code",
      "execution_count": 4,
      "metadata": {
        "colab": {
          "base_uri": "https://localhost:8080/"
        },
        "id": "9qAnqY_q0beK",
        "outputId": "f810fdb0-138d-4917-b7ef-69ab266acef6"
      },
      "outputs": [],
      "source": [
        "# Check if download is necessary\n",
        "if not os.path.exists(\"67724.txt.utf-8\"):\n",
        "    print(\"Downloading Gutenberg texts\")\n",
        "\n",
        "    !wget https://www.gutenberg.org/ebooks/67724.txt.utf-8\n",
        "    !wget https://www.gutenberg.org/ebooks/67725.txt.utf-8"
      ]
    },
    {
      "cell_type": "markdown",
      "metadata": {},
      "source": [
        "### Limpeza do texto principal"
      ]
    },
    {
      "cell_type": "code",
      "execution_count": 5,
      "metadata": {
        "colab": {
          "base_uri": "https://localhost:8080/"
        },
        "id": "6_UzC9pV091C",
        "outputId": "1553b04f-24c4-4027-8cab-0907f92f04df"
      },
      "outputs": [
        {
          "name": "stdout",
          "output_type": "stream",
          "text": [
            "Number of paragraphs: 4596\n"
          ]
        }
      ],
      "source": [
        "text_1 = open(\"67724.txt.utf-8\",\"r\").read()\n",
        "text_2 = open(\"67725.txt.utf-8\",\"r\").read()\n",
        "\n",
        "def clean_text(text):\n",
        "    start_marker = \"*** START OF THE PROJECT GUTENBERG EBOOK\"\n",
        "    end_marker = \"*** END OF THE PROJECT GUTENBERG EBOOK\"\n",
        "    text_start = text.find(start_marker)\n",
        "    text_end = text.find(end_marker)\n",
        "\n",
        "    text_content= text[text_start:text_end].replace('\\r','')\n",
        "    paragraphs = []\n",
        "    for paragraph in text_content.split(\"\\n\\n\"):\n",
        "        paragraph = paragraph.replace('\\n', ' ').strip()\n",
        "        # Validation of length and index lines\n",
        "        if (len(paragraph) > 10 and '....' not in paragraph):\n",
        "            paragraphs.append(paragraph)\n",
        "    return paragraphs\n",
        "\n",
        "cleaned_paragraphs = clean_text(text_1)+clean_text(text_2)\n",
        "print(f'Number of paragraphs: {len(cleaned_paragraphs)}')"
      ]
    },
    {
      "cell_type": "markdown",
      "metadata": {
        "id": "bFVN2ihb33Rf"
      },
      "source": [
        "## Análise do dataset"
      ]
    },
    {
      "cell_type": "code",
      "execution_count": 6,
      "metadata": {
        "colab": {
          "base_uri": "https://localhost:8080/"
        },
        "id": "qSRHqe3H4ZFw",
        "outputId": "4a985c7a-ce1d-4b72-d253-c9fbbc5f9440"
      },
      "outputs": [
        {
          "data": {
            "text/plain": [
              "11875"
            ]
          },
          "execution_count": 6,
          "metadata": {},
          "output_type": "execute_result"
        }
      ],
      "source": [
        "# Conta as palavras no dataset\n",
        "def count_words(texts):\n",
        "    word_counts = Counter()\n",
        "    for text in texts:\n",
        "        word_counts.update(re.findall(pattern, text.lower()))\n",
        "    return word_counts\n",
        "\n",
        "word_counts = count_words(cleaned_paragraphs)\n",
        "\n",
        "len(word_counts)"
      ]
    },
    {
      "cell_type": "markdown",
      "metadata": {
        "id": "EyGVDL9KzJ_I"
      },
      "source": [
        "## Criando um vocabulário"
      ]
    },
    {
      "cell_type": "code",
      "execution_count": 7,
      "metadata": {
        "id": "FiP7OCo9zJ_I"
      },
      "outputs": [],
      "source": [
        "most_frequent_words = [word for word, count in word_counts.most_common(vocab_size)]\n",
        "vocab = {word: i for i, word in enumerate(most_frequent_words, 1)}"
      ]
    },
    {
      "cell_type": "code",
      "execution_count": 8,
      "metadata": {},
      "outputs": [
        {
          "name": "stdout",
          "output_type": "stream",
          "text": [
            "Most Frequent Words: [',', '.', 'a', 'que', 'o', 'de', 'e', 'se', ';', 'um']\n",
            "Vocabulary Size: 3000\n"
          ]
        }
      ],
      "source": [
        "print(f\"Most Frequent Words: {most_frequent_words[:10]}\")\n",
        "print(f\"Vocabulary Size: {len(vocab)}\")"
      ]
    },
    {
      "cell_type": "markdown",
      "metadata": {},
      "source": [
        "#### Codificação / Decodificação das sentenças"
      ]
    },
    {
      "cell_type": "code",
      "execution_count": 9,
      "metadata": {
        "colab": {
          "base_uri": "https://localhost:8080/"
        },
        "id": "RhbhAsZbzJ_J",
        "outputId": "6a53c9e0-308d-4082-e225-cfa376e8f39a"
      },
      "outputs": [
        {
          "name": "stdout",
          "output_type": "stream",
          "text": [
            "Original Seq: Ahi, o _Paquequer_ lança-se rapido sobre o seu leito, e atravessa as florestas como o tapir, espumando, deixando o pello esparso pelas pontas de rochedo, e enchendo a solidão com o estampido de sua carreira. De repente, falta-lhe o espaço, foge-lhe a terra; o soberbo rio recúa um momento para concentrar as suas forças e precipita-se de um só arremesso, como o tigre sobre a presa.\n",
            "Encoded: [235, 1, 5, 723, 0, 8, 762, 38, 5, 19, 324, 1, 7, 0, 23, 634, 28, 5, 2447, 1, 0, 1, 763, 5, 1776, 0, 269, 1065, 6, 486, 1, 7, 2448, 3, 687, 16, 5, 2449, 6, 17, 1777, 2, 6, 240, 1, 522, 29, 5, 612, 1, 0, 29, 3, 128, 9, 5, 1577, 99, 0, 10, 72, 18, 0, 23, 87, 591, 7, 2450, 8, 6, 10, 74, 0, 1, 28, 5, 592, 38, 3, 979, 2]\n",
            "Decoded: ['ahi', ',', 'o', '_paquequer_', '<UNK>', 'se', 'rapido', 'sobre', 'o', 'seu', 'leito', ',', 'e', '<UNK>', 'as', 'florestas', 'como', 'o', 'tapir', ',', '<UNK>', ',', 'deixando', 'o', 'pello', '<UNK>', 'pelas', 'pontas', 'de', 'rochedo', ',', 'e', 'enchendo', 'a', 'solidão', 'com', 'o', 'estampido', 'de', 'sua', 'carreira', '.', 'de', 'repente', ',', 'falta', 'lhe', 'o', 'espaço', ',', '<UNK>', 'lhe', 'a', 'terra', ';', 'o', 'soberbo', 'rio', '<UNK>', 'um', 'momento', 'para', '<UNK>', 'as', 'suas', 'forças', 'e', 'precipita', 'se', 'de', 'um', 'só', '<UNK>', ',', 'como', 'o', 'tigre', 'sobre', 'a', 'presa', '.']\n",
            "Reconstructed Seq: ahi , o _paquequer_ <UNK> se rapido sobre o seu leito , e <UNK> as florestas como o tapir , <UNK> , deixando o pello <UNK> pelas pontas de rochedo , e enchendo a solidão com o estampido de sua carreira . de repente , falta lhe o espaço , <UNK> lhe a terra ; o soberbo rio <UNK> um momento para <UNK> as suas forças e precipita se de um só <UNK> , como o tigre sobre a presa .\n"
          ]
        }
      ],
      "source": [
        "def encode_sentence(sentence, vocab):\n",
        "    return [vocab.get(word, 0) for word in re.findall(pattern, sentence.lower())]\n",
        "\n",
        "def decode_sentence(encoded_sentence, vocab):\n",
        "    words = []\n",
        "    for index in encoded_sentence:\n",
        "        word = next((word for word, code in vocab.items() if code == index), \"<UNK>\")\n",
        "        words.append(word)\n",
        "\n",
        "    return words\n",
        "\n",
        "seq = cleaned_paragraphs[20]\n",
        "spc = ' '\n",
        "encoded = encode_sentence(seq, vocab)\n",
        "decoded = decode_sentence(encoded, vocab)\n",
        "\n",
        "print(f'Original Seq: {seq}')\n",
        "print(f'Encoded: {encoded}')\n",
        "print(f'Decoded: {decoded}')\n",
        "print(f'Reconstructed Seq: {spc.join(decoded)}')"
      ]
    },
    {
      "cell_type": "markdown",
      "metadata": {
        "id": "wia_ygbvzJ_J"
      },
      "source": [
        "## Classe do dataset"
      ]
    },
    {
      "cell_type": "code",
      "execution_count": 10,
      "metadata": {
        "id": "Iy-elI1magRR"
      },
      "outputs": [],
      "source": [
        "# Dataset class\n",
        "class BagOfWordsDataset(Dataset):\n",
        "  def __init__(self, paragraphs, vocab, context):\n",
        "    self.paragraphs = paragraphs\n",
        "    self.vocab = vocab\n",
        "    self.context = context\n",
        "    self.tokens, self.targets = self.setup()\n",
        "\n",
        "  def __len__(self):\n",
        "    return len(self.tokens)\n",
        "\n",
        "  def __getitem__(self, idx):\n",
        "    return torch.tensor(self.tokens[idx]), torch.tensor(self.targets[idx])\n",
        "  \n",
        "  def setup(self):\n",
        "    tokens = []\n",
        "    targets = []\n",
        "    for paragraph in self.paragraphs:\n",
        "      encoded = encode_sentence(paragraph, self.vocab)\n",
        "      \n",
        "      # If paragraph is smaller than the context, skip it.\n",
        "      if len(encoded) < self.context + 1:\n",
        "          continue\n",
        "\n",
        "      for i in range(len(encoded) - self.context):\n",
        "        tks = encoded[i:i+self.context]\n",
        "        tgt = encoded[i+self.context]\n",
        "        # Only add if there are no unknown tokens in both context and target.\n",
        "        bad_token = 0\n",
        "        if not (bad_token in tks or tgt == bad_token):\n",
        "          tokens.append(tks)\n",
        "          targets.append(tgt)\n",
        "    return tokens, targets\n"
      ]
    },
    {
      "cell_type": "code",
      "execution_count": 11,
      "metadata": {
        "colab": {
          "base_uri": "https://localhost:8080/"
        },
        "id": "aD1CVci2zJ_J",
        "outputId": "5bf0839e-f30e-4ff2-ed6f-4f3fda782b7c"
      },
      "outputs": [
        {
          "name": "stdout",
          "output_type": "stream",
          "text": [
            "Training samples: 3676\n",
            "Validation samples: 920\n",
            "\n",
            "Training dataset samples: 24360\n",
            "Validation dataset samples: 5851\n"
          ]
        }
      ],
      "source": [
        "# Train/Validation split\n",
        "train_data, val_data = train_test_split(cleaned_paragraphs, test_size=0.2, random_state=18)\n",
        "\n",
        "train_dataset = BagOfWordsDataset(train_data, vocab, context_size)\n",
        "val_dataset = BagOfWordsDataset(val_data, vocab, context_size)\n",
        "\n",
        "# Counting all Samples\n",
        "print(f\"Training samples: {len(train_data)}\")\n",
        "print(f\"Validation samples: {len(val_data)}\")\n",
        "print()\n",
        "print(f\"Training dataset samples: {len(train_dataset)}\")\n",
        "print(f\"Validation dataset samples: {len(val_dataset)}\")"
      ]
    },
    {
      "cell_type": "code",
      "execution_count": 12,
      "metadata": {},
      "outputs": [
        {
          "name": "stdout",
          "output_type": "stream",
          "text": [
            "[tensor([[   4,  915,    3, 1275,    1,   10,  120, 1302,   16]]), tensor([10])]\n"
          ]
        }
      ],
      "source": [
        "tst_loader = DataLoader(train_dataset, batch_size = 1, shuffle=True)\n",
        "sample = next(iter(tst_loader))\n",
        "print(sample)"
      ]
    },
    {
      "cell_type": "code",
      "execution_count": 13,
      "metadata": {
        "id": "gC0C5qn2zJ_J"
      },
      "outputs": [],
      "source": [
        "# Train/val loaders\n",
        "train_loader = DataLoader(train_dataset, batch_size=batch_size, shuffle=True)\n",
        "val_loader = DataLoader(val_dataset, batch_size=batch_size, shuffle=True)"
      ]
    },
    {
      "cell_type": "markdown",
      "metadata": {
        "id": "-5_-Yud0zJ_K"
      },
      "source": [
        "## Modelo (Modificado para receber o parâmetro booleano *apply_LoRA*)\n",
        "#### Se o parâmetro é ativado, as três camandas do modelo base (embedding, linear_1 e linear_2) terão seu pesos congelados para a utilização de *low-rank adaptation*, com apenas as camadas específicas da LoRA sendo treinadas."
      ]
    },
    {
      "cell_type": "code",
      "execution_count": 14,
      "metadata": {
        "id": "I2qKG9YczJ_K"
      },
      "outputs": [],
      "source": [
        "class BengioModel(torch.nn.Module):\n",
        "    def __init__(self, apply_LoRA):\n",
        "        super(BengioModel, self).__init__()\n",
        "        self.apply_LoRA = apply_LoRA\n",
        "        self.vocab_size = vocab_size\n",
        "\n",
        "        # LoRA parameters\n",
        "        self.lora_alpha = lora_alpha\n",
        "        self.lora_r = lora_r\n",
        "        self.scaling = self.lora_alpha / self.lora_r\n",
        "        \n",
        "        # Embeddings layer\n",
        "        self.embeddings = nn.Embedding(vocab_size+1, embedding_dim)\n",
        "        if (self.apply_LoRA):\n",
        "            # Freeze weights\n",
        "            print(\"Freezing Embeddings\")\n",
        "            self.embeddings.weight.requires_grad = False\n",
        "\n",
        "            # LoRA on embeddings layer\n",
        "            self.embeddings_lora_A = torch.nn.Parameter(torch.empty(self.lora_r, embedding_dim))\n",
        "            self.embeddings_lora_B = torch.nn.Parameter(torch.empty(vocab_size+1, self.lora_r))\n",
        "            torch.nn.init.zeros_(self.embeddings_lora_A)\n",
        "            torch.nn.init.normal_(self.embeddings_lora_B)\n",
        "\n",
        "        # First Linear Layer\n",
        "        self.linear1 = nn.Linear(context_size * embedding_dim, hidden_dim, bias=True)\n",
        "        if (self.apply_LoRA):\n",
        "            # Freeze weights\n",
        "            print(\"Freezing Layer 1\")\n",
        "            self.linear1.weight.requires_grad = False\n",
        "\n",
        "            # LoRA on first linear layer\n",
        "            self.linear1_lora_A = torch.nn.Parameter(torch.empty(self.lora_r, hidden_dim))\n",
        "            self.linear1_lora_B = torch.nn.Parameter(torch.empty(context_size*embedding_dim, self.lora_r))\n",
        "            torch.nn.init.zeros_(self.linear1_lora_A)\n",
        "            torch.nn.init.normal_(self.linear1_lora_B)\n",
        "\n",
        "        self.tanh = torch.nn.Tanh()\n",
        "        self.dropout = torch.nn.Dropout(dropout_rate)\n",
        "\n",
        "        # Second Linear Layer\n",
        "        self.linear2 = nn.Linear(hidden_dim, vocab_size+1, bias=True)\n",
        "        if (self.apply_LoRA):\n",
        "            # Freeze weights\n",
        "            print(\"Freezing Layer 2\")\n",
        "            \n",
        "            # LoRA on second linear layer\n",
        "            self.linear2_lora_A = torch.nn.Parameter(torch.empty(self.lora_r, vocab_size+1))\n",
        "            self.linear2_lora_B = torch.nn.Parameter(torch.empty(hidden_dim, self.lora_r))\n",
        "            torch.nn.init.zeros_(self.linear2_lora_A)\n",
        "            torch.nn.init.normal_(self.linear2_lora_B)\n",
        "\n",
        "    def forward(self, inputs):\n",
        "        # Embeddings\n",
        "        embeds = self.embeddings(inputs)\n",
        "        if (self.apply_LoRA):\n",
        "            one_hot = torch.nn.functional.one_hot(inputs, self.vocab_size+1).to(torch.float32)\n",
        "            embeddings_LoRA = torch.matmul(one_hot,\n",
        "                                           torch.matmul(self.embeddings_lora_B, self.embeddings_lora_A))\n",
        "            embeddings_LoRA = embeddings_LoRA * self.scaling\n",
        "            embeds = embeds + embeddings_LoRA\n",
        "\n",
        "        # Flatten embeddings\n",
        "        embeds = embeds.view(embeds.size(0), -1)\n",
        "        \n",
        "        # First linear layer\n",
        "        out = self.linear1(embeds)\n",
        "        if (self.apply_LoRA):\n",
        "            linear1_lora_out = torch.matmul(embeds,\n",
        "                                            torch.matmul(self.linear1_lora_B, self.linear1_lora_A))\n",
        "            linear1_lora_out = linear1_lora_out * self.scaling\n",
        "            out = out + linear1_lora_out\n",
        "        \n",
        "        activation = self.tanh(out)\n",
        "        activation = self.dropout(activation)\n",
        "\n",
        "        # Second linear layer\n",
        "        out = self.linear2(activation)\n",
        "        if (self.apply_LoRA):\n",
        "            linear2_lora_out = torch.matmul(activation,\n",
        "                                            torch.matmul(self.linear2_lora_B, self.linear2_lora_A))\n",
        "            linear2_lora_out = linear2_lora_out * self.scaling\n",
        "            out = out + linear2_lora_out\n",
        "\n",
        "        return out"
      ]
    },
    {
      "cell_type": "code",
      "execution_count": 15,
      "metadata": {
        "id": "7yjQ1KXOzJ_K"
      },
      "outputs": [],
      "source": [
        "model = BengioModel(apply_LoRA=False)"
      ]
    },
    {
      "cell_type": "markdown",
      "metadata": {},
      "source": [
        "#### Teste básico do modelo"
      ]
    },
    {
      "cell_type": "code",
      "execution_count": 16,
      "metadata": {
        "id": "xmsD59TfzJ_K"
      },
      "outputs": [
        {
          "name": "stdout",
          "output_type": "stream",
          "text": [
            "torch.Size([32, 9])\n",
            "torch.Size([32])\n",
            "tensor([2456,  396, 1891,   29, 1304, 1154, 1831,  664, 2199,  946, 2935, 1135,\n",
            "        2096, 2805,  870, 2082,  710, 1089, 1748,  898,  711, 2819, 2194, 2920,\n",
            "        2009, 1168, 2499,  986, 2513,  791, 1746,  920])\n",
            "tensor([   4, 2158,    3,    6,    7,   16,  262,   11, 1568,  447,   25,   62,\n",
            "           4,  367,    1,  291,    4,  185,    1,    7,    1, 2201,   23,    1,\n",
            "         446,   70,   94,   84,    1,    3,   12,   95])\n"
          ]
        }
      ],
      "source": [
        "sample = next(iter(train_loader))\n",
        "input = sample[0]\n",
        "target = sample[1]\n",
        "\n",
        "print(input.shape)\n",
        "print(target.shape)\n",
        "\n",
        "output = model(input)\n",
        "pred = output.argmax(dim=1)\n",
        "\n",
        "print(pred)\n",
        "print(target)"
      ]
    },
    {
      "cell_type": "markdown",
      "metadata": {
        "id": "UngUhyu7zJ_L"
      },
      "source": [
        "## Training"
      ]
    },
    {
      "cell_type": "markdown",
      "metadata": {},
      "source": [
        "### Funções de Treinamento e Avaliação do Modelo"
      ]
    },
    {
      "cell_type": "markdown",
      "metadata": {},
      "source": [
        "#### Função para Contagem de Parâmetros do Modelo"
      ]
    },
    {
      "cell_type": "code",
      "execution_count": 17,
      "metadata": {},
      "outputs": [
        {
          "name": "stdout",
          "output_type": "stream",
          "text": [
            "O modelo tem um total de 910,665 parâmetros.\n"
          ]
        }
      ],
      "source": [
        "def count_parameters(model):\n",
        "    return sum(p.numel() for p in model.parameters() if p.requires_grad)\n",
        "\n",
        "# Exemplo de uso:\n",
        "total_params = count_parameters(model)\n",
        "print(f'O modelo tem um total de {total_params:,} parâmetros.')"
      ]
    },
    {
      "cell_type": "markdown",
      "metadata": {},
      "source": [
        "#### Função para Avaliação Inicial do Modelo"
      ]
    },
    {
      "cell_type": "code",
      "execution_count": 18,
      "metadata": {},
      "outputs": [],
      "source": [
        "def init_eval(model):\n",
        "    # Initial Perplexity and Loss\n",
        "    # Before training\n",
        "    model.eval()\n",
        "\n",
        "    loss = 0\n",
        "    perp = 0\n",
        "\n",
        "    with torch.no_grad():\n",
        "        for inputs, targets in train_loader:\n",
        "            inputs = inputs.to(device)\n",
        "            targets = targets.to(device)\n",
        "            outputs = model(inputs)\n",
        "            loss += criterion(outputs, targets).item()\n",
        "\n",
        "    loss /= len(train_loader)\n",
        "    perp = torch.exp(torch.tensor(loss))\n",
        "\n",
        "    print(f'Initial Loss: {loss:.4f}')\n",
        "    print(f'Initial Perplexity: {perp:.4f}')"
      ]
    },
    {
      "cell_type": "markdown",
      "metadata": {},
      "source": [
        "#### Função para Treinamento do Modelo"
      ]
    },
    {
      "cell_type": "code",
      "execution_count": 19,
      "metadata": {},
      "outputs": [],
      "source": [
        "def train(model):\n",
        "      # Training Loop\n",
        "      model.train()\n",
        "      for epoch in range(epochs):\n",
        "\n",
        "            epoch_start = time.time()\n",
        "            # Metrics\n",
        "            epoch_loss = 0\n",
        "            epoch_correct = 0\n",
        "            epoch_samples = 0\n",
        "            \n",
        "            # Training times\n",
        "            forward_time = 0\n",
        "\n",
        "            for inputs, targets in train_loader:\n",
        "                  inputs = inputs.to(device)  # Move input data to the device\n",
        "                  targets = targets.to(device)\n",
        "\n",
        "                  # Forward pass\n",
        "                  forward_start = time.time()\n",
        "                  outputs = model(inputs)\n",
        "                  forward_time += (time.time() - forward_start)\n",
        "\n",
        "                  loss = criterion(outputs, targets)\n",
        "\n",
        "                  # Backward pass and optimization\n",
        "                  optimizer.zero_grad()\n",
        "                  loss.backward()\n",
        "\n",
        "                  optimizer.step()\n",
        "\n",
        "                  # Loss\n",
        "                  epoch_loss += loss.item()\n",
        "\n",
        "                  # Predicted\n",
        "                  predicted = outputs.argmax(dim=1)\n",
        "                  epoch_correct += (predicted == targets).sum().item()\n",
        "                  epoch_samples += targets.size(0)\n",
        "\n",
        "            # Calculate average loss and accuracy for epoch\n",
        "            avg_loss = epoch_loss / len(train_loader)\n",
        "            acc = epoch_correct / epoch_samples\n",
        "\n",
        "            # Perplexity\n",
        "            perp = torch.exp(torch.tensor(avg_loss))\n",
        "\n",
        "            epoch_end = time.time()\n",
        "            epoch_time = epoch_end - epoch_start\n",
        "            \n",
        "            # Print epoch statistics\n",
        "            print(f'Epoch [{epoch+1}/{epochs}], Loss: {avg_loss:.4f}, Accuracy: {acc:.2f}%, Perplexity: {perp:.4f}')\n",
        "            print(f'Training Times Epoch: {epoch_time:.2f}, Forward Pass: {forward_time:.2f}, Backward Pass: {epoch_time-forward_time:.2f}')\n"
      ]
    },
    {
      "cell_type": "markdown",
      "metadata": {
        "id": "PSXfwYISDoPN"
      },
      "source": [
        "#### Função para Avaliação na Base de Validação"
      ]
    },
    {
      "cell_type": "code",
      "execution_count": 20,
      "metadata": {
        "id": "nXXO78GSDqPg"
      },
      "outputs": [],
      "source": [
        "def eval(model):\n",
        "    model.eval()\n",
        "\n",
        "    loss_sum = 0\n",
        "    total_sum = 0\n",
        "    correct_sum = 0\n",
        "    eval_round = 0\n",
        "\n",
        "    loss = 0\n",
        "    perp = 0\n",
        "\n",
        "    with torch.no_grad():\n",
        "        for inputs, targets in val_loader:\n",
        "            inputs = inputs.to(device)\n",
        "            targets = targets.to(device)\n",
        "\n",
        "            outputs = model(inputs)\n",
        "            loss = criterion(outputs, targets)      \n",
        "            loss_sum += loss\n",
        "\n",
        "            # Get the predicted labels\n",
        "            predicted = outputs.argmax(dim=1)\n",
        "\n",
        "            total_sum += targets.size(0)\n",
        "            correct_sum += (predicted == targets).sum().item()\n",
        "            eval_round += 1\n",
        "\n",
        "    # Calculate accuracy\n",
        "    acc = 100 * correct_sum / total_sum\n",
        "\n",
        "    # Calculate average perplexity\n",
        "    average_loss = loss_sum / len(val_loader)\n",
        "    average_perplexity = torch.exp(average_loss)\n",
        "\n",
        "    print(f'Test Accuracy: {acc:.2f}%')\n",
        "    print(f'Average Loss: {average_loss:.2f}')\n",
        "    print(f'Average Perplexity: {average_perplexity:.2f}')"
      ]
    },
    {
      "cell_type": "markdown",
      "metadata": {},
      "source": [
        "### Treinamento e Avaliação (Sem utilizar *low-rank adaptation*)"
      ]
    },
    {
      "cell_type": "code",
      "execution_count": 21,
      "metadata": {},
      "outputs": [
        {
          "name": "stdout",
          "output_type": "stream",
          "text": [
            "BengioModel(\n",
            "  (embeddings): Embedding(3001, 64)\n",
            "  (linear1): Linear(in_features=576, out_features=200, bias=True)\n",
            "  (tanh): Tanh()\n",
            "  (dropout): Dropout(p=0.2, inplace=False)\n",
            "  (linear2): Linear(in_features=200, out_features=3001, bias=True)\n",
            ")\n"
          ]
        },
        {
          "data": {
            "text/plain": [
              "910665"
            ]
          },
          "execution_count": 21,
          "metadata": {},
          "output_type": "execute_result"
        }
      ],
      "source": [
        "# Cross Entropy\n",
        "criterion = nn.CrossEntropyLoss()\n",
        "\n",
        "# Optimizer\n",
        "optimizer = torch.optim.SGD(model.parameters(), lr)\n",
        "\n",
        "model.to(device)\n",
        "print(model)\n",
        "count_parameters(model)"
      ]
    },
    {
      "cell_type": "code",
      "execution_count": 22,
      "metadata": {},
      "outputs": [
        {
          "name": "stdout",
          "output_type": "stream",
          "text": [
            "Base Model - No LoRA\n",
            "\n",
            "Initial Evaluation\n",
            "\n",
            "Initial Loss: 8.0519\n",
            "Initial Perplexity: 3139.6768\n",
            "\n",
            "Training the Model\n",
            "\n",
            "Epoch [1/25], Loss: 7.7308, Accuracy: 0.04%, Perplexity: 2277.3630\n",
            "Training Times Epoch: 2.79, Forward Pass: 0.37, Backward Pass: 2.41\n",
            "Epoch [2/25], Loss: 6.6301, Accuracy: 0.09%, Perplexity: 757.5321\n",
            "Training Times Epoch: 2.72, Forward Pass: 0.34, Backward Pass: 2.38\n",
            "Epoch [3/25], Loss: 6.2071, Accuracy: 0.10%, Perplexity: 496.2628\n",
            "Training Times Epoch: 3.27, Forward Pass: 0.36, Backward Pass: 2.92\n",
            "Epoch [4/25], Loss: 5.9887, Accuracy: 0.11%, Perplexity: 398.8930\n",
            "Training Times Epoch: 3.02, Forward Pass: 0.36, Backward Pass: 2.66\n",
            "Epoch [5/25], Loss: 5.8438, Accuracy: 0.11%, Perplexity: 345.1007\n",
            "Training Times Epoch: 3.26, Forward Pass: 0.34, Backward Pass: 2.91\n",
            "Epoch [6/25], Loss: 5.7306, Accuracy: 0.12%, Perplexity: 308.1585\n",
            "Training Times Epoch: 3.20, Forward Pass: 0.37, Backward Pass: 2.83\n",
            "Epoch [7/25], Loss: 5.6365, Accuracy: 0.13%, Perplexity: 280.4797\n",
            "Training Times Epoch: 3.08, Forward Pass: 0.38, Backward Pass: 2.70\n",
            "Epoch [8/25], Loss: 5.5583, Accuracy: 0.13%, Perplexity: 259.3798\n",
            "Training Times Epoch: 3.05, Forward Pass: 0.32, Backward Pass: 2.73\n",
            "Epoch [9/25], Loss: 5.4933, Accuracy: 0.14%, Perplexity: 243.0464\n",
            "Training Times Epoch: 2.94, Forward Pass: 0.33, Backward Pass: 2.61\n",
            "Epoch [10/25], Loss: 5.4292, Accuracy: 0.14%, Perplexity: 227.9669\n",
            "Training Times Epoch: 3.32, Forward Pass: 0.33, Backward Pass: 2.99\n",
            "Epoch [11/25], Loss: 5.3670, Accuracy: 0.14%, Perplexity: 214.2239\n",
            "Training Times Epoch: 3.20, Forward Pass: 0.33, Backward Pass: 2.88\n",
            "Epoch [12/25], Loss: 5.3143, Accuracy: 0.15%, Perplexity: 203.2312\n",
            "Training Times Epoch: 2.90, Forward Pass: 0.33, Backward Pass: 2.57\n",
            "Epoch [13/25], Loss: 5.2597, Accuracy: 0.15%, Perplexity: 192.4142\n",
            "Training Times Epoch: 2.90, Forward Pass: 0.33, Backward Pass: 2.57\n",
            "Epoch [14/25], Loss: 5.2132, Accuracy: 0.16%, Perplexity: 183.6806\n",
            "Training Times Epoch: 3.24, Forward Pass: 0.34, Backward Pass: 2.90\n",
            "Epoch [15/25], Loss: 5.1596, Accuracy: 0.16%, Perplexity: 174.1022\n",
            "Training Times Epoch: 2.96, Forward Pass: 0.35, Backward Pass: 2.61\n",
            "Epoch [16/25], Loss: 5.1165, Accuracy: 0.16%, Perplexity: 166.7540\n",
            "Training Times Epoch: 3.19, Forward Pass: 0.34, Backward Pass: 2.85\n",
            "Epoch [17/25], Loss: 5.0677, Accuracy: 0.17%, Perplexity: 158.8042\n",
            "Training Times Epoch: 2.92, Forward Pass: 0.36, Backward Pass: 2.56\n",
            "Epoch [18/25], Loss: 5.0267, Accuracy: 0.17%, Perplexity: 152.4259\n",
            "Training Times Epoch: 3.24, Forward Pass: 0.34, Backward Pass: 2.90\n",
            "Epoch [19/25], Loss: 4.9808, Accuracy: 0.17%, Perplexity: 145.5978\n",
            "Training Times Epoch: 2.96, Forward Pass: 0.37, Backward Pass: 2.58\n",
            "Epoch [20/25], Loss: 4.9430, Accuracy: 0.18%, Perplexity: 140.1891\n",
            "Training Times Epoch: 3.26, Forward Pass: 0.34, Backward Pass: 2.92\n",
            "Epoch [21/25], Loss: 4.9000, Accuracy: 0.18%, Perplexity: 134.2861\n",
            "Training Times Epoch: 2.89, Forward Pass: 0.33, Backward Pass: 2.56\n",
            "Epoch [22/25], Loss: 4.8558, Accuracy: 0.18%, Perplexity: 128.4870\n",
            "Training Times Epoch: 3.07, Forward Pass: 0.35, Backward Pass: 2.72\n",
            "Epoch [23/25], Loss: 4.8214, Accuracy: 0.18%, Perplexity: 124.1423\n",
            "Training Times Epoch: 3.05, Forward Pass: 0.33, Backward Pass: 2.72\n",
            "Epoch [24/25], Loss: 4.7736, Accuracy: 0.19%, Perplexity: 118.3413\n",
            "Training Times Epoch: 2.82, Forward Pass: 0.33, Backward Pass: 2.50\n",
            "Epoch [25/25], Loss: 4.7387, Accuracy: 0.20%, Perplexity: 114.2819\n",
            "Training Times Epoch: 2.88, Forward Pass: 0.34, Backward Pass: 2.54\n",
            "\n",
            "Evaluation on the Validation Dataset\n",
            "Test Accuracy: 10.55%\n",
            "Average Loss: 5.63\n",
            "Average Perplexity: 278.05\n"
          ]
        }
      ],
      "source": [
        "print(\"Base Model - No LoRA\")\n",
        "print()\n",
        "print(\"Initial Evaluation\")\n",
        "print()\n",
        "init_eval(model)\n",
        "print()\n",
        "print(\"Training the Model\")\n",
        "print()\n",
        "train(model)\n",
        "print()\n",
        "print(\"Evaluation on the Validation Dataset\")\n",
        "eval(model)"
      ]
    },
    {
      "cell_type": "markdown",
      "metadata": {},
      "source": [
        "### Treinamento e Avaliação (Utilizando *low-rank adaptation*)"
      ]
    },
    {
      "cell_type": "code",
      "execution_count": 23,
      "metadata": {},
      "outputs": [
        {
          "name": "stdout",
          "output_type": "stream",
          "text": [
            "Freezing Embeddings\n",
            "Freezing Layer 1\n",
            "Freezing Layer 2\n",
            "BengioModel(\n",
            "  (embeddings): Embedding(3001, 64)\n",
            "  (linear1): Linear(in_features=576, out_features=200, bias=True)\n",
            "  (tanh): Tanh()\n",
            "  (dropout): Dropout(p=0.2, inplace=False)\n",
            "  (linear2): Linear(in_features=200, out_features=3001, bias=True)\n",
            ")\n"
          ]
        },
        {
          "data": {
            "text/plain": [
              "610443"
            ]
          },
          "execution_count": 23,
          "metadata": {},
          "output_type": "execute_result"
        }
      ],
      "source": [
        "model_LoRA = BengioModel(apply_LoRA=True)\n",
        "\n",
        "# Cross Entropy\n",
        "criterion = nn.CrossEntropyLoss()\n",
        "\n",
        "# Optimizer\n",
        "optimizer = torch.optim.SGD(model_LoRA.parameters(), lr)\n",
        "\n",
        "model_LoRA.to(device)\n",
        "print(model_LoRA)\n",
        "count_parameters(model_LoRA)"
      ]
    },
    {
      "cell_type": "code",
      "execution_count": 24,
      "metadata": {},
      "outputs": [
        {
          "name": "stdout",
          "output_type": "stream",
          "text": [
            "Base Model - With LoRA\n",
            "\n",
            "Initial Evaluation\n",
            "\n",
            "Initial Loss: 8.0256\n",
            "Initial Perplexity: 3058.2046\n",
            "\n",
            "Training the Model\n",
            "\n",
            "Epoch [1/25], Loss: 7.6077, Accuracy: 0.02%, Perplexity: 2013.7400\n",
            "Training Times Epoch: 3.84, Forward Pass: 0.86, Backward Pass: 2.99\n",
            "Epoch [2/25], Loss: 6.9092, Accuracy: 0.04%, Perplexity: 1001.4880\n",
            "Training Times Epoch: 3.83, Forward Pass: 0.83, Backward Pass: 3.00\n",
            "Epoch [3/25], Loss: 6.7249, Accuracy: 0.04%, Perplexity: 832.8857\n",
            "Training Times Epoch: 3.87, Forward Pass: 0.82, Backward Pass: 3.05\n",
            "Epoch [4/25], Loss: 6.5924, Accuracy: 0.04%, Perplexity: 729.5425\n",
            "Training Times Epoch: 3.86, Forward Pass: 0.83, Backward Pass: 3.03\n",
            "Epoch [5/25], Loss: 6.4577, Accuracy: 0.05%, Perplexity: 637.6010\n",
            "Training Times Epoch: 3.93, Forward Pass: 0.85, Backward Pass: 3.08\n",
            "Epoch [6/25], Loss: 6.3403, Accuracy: 0.05%, Perplexity: 566.9945\n",
            "Training Times Epoch: 4.05, Forward Pass: 0.87, Backward Pass: 3.18\n",
            "Epoch [7/25], Loss: 6.2776, Accuracy: 0.05%, Perplexity: 532.4833\n",
            "Training Times Epoch: 3.75, Forward Pass: 0.83, Backward Pass: 2.92\n",
            "Epoch [8/25], Loss: 6.1926, Accuracy: 0.05%, Perplexity: 489.0969\n",
            "Training Times Epoch: 3.80, Forward Pass: 0.82, Backward Pass: 2.99\n",
            "Epoch [9/25], Loss: 6.1456, Accuracy: 0.06%, Perplexity: 466.6644\n",
            "Training Times Epoch: 3.83, Forward Pass: 0.84, Backward Pass: 3.00\n",
            "Epoch [10/25], Loss: 6.1012, Accuracy: 0.06%, Perplexity: 446.3810\n",
            "Training Times Epoch: 3.80, Forward Pass: 0.82, Backward Pass: 2.98\n",
            "Epoch [11/25], Loss: 6.0664, Accuracy: 0.06%, Perplexity: 431.1154\n",
            "Training Times Epoch: 3.84, Forward Pass: 0.83, Backward Pass: 3.01\n",
            "Epoch [12/25], Loss: 6.0290, Accuracy: 0.06%, Perplexity: 415.2941\n",
            "Training Times Epoch: 3.82, Forward Pass: 0.81, Backward Pass: 3.01\n",
            "Epoch [13/25], Loss: 6.0054, Accuracy: 0.06%, Perplexity: 405.5932\n",
            "Training Times Epoch: 3.86, Forward Pass: 0.83, Backward Pass: 3.03\n",
            "Epoch [14/25], Loss: 5.9896, Accuracy: 0.06%, Perplexity: 399.2656\n",
            "Training Times Epoch: 3.77, Forward Pass: 0.81, Backward Pass: 2.96\n",
            "Epoch [15/25], Loss: 5.9713, Accuracy: 0.07%, Perplexity: 392.0328\n",
            "Training Times Epoch: 3.67, Forward Pass: 0.79, Backward Pass: 2.88\n",
            "Epoch [16/25], Loss: 5.9406, Accuracy: 0.07%, Perplexity: 380.1441\n",
            "Training Times Epoch: 3.75, Forward Pass: 0.82, Backward Pass: 2.93\n",
            "Epoch [17/25], Loss: 5.9236, Accuracy: 0.07%, Perplexity: 373.7647\n",
            "Training Times Epoch: 3.70, Forward Pass: 0.82, Backward Pass: 2.88\n",
            "Epoch [18/25], Loss: 5.9052, Accuracy: 0.07%, Perplexity: 366.9287\n",
            "Training Times Epoch: 3.73, Forward Pass: 0.81, Backward Pass: 2.92\n",
            "Epoch [19/25], Loss: 5.8895, Accuracy: 0.07%, Perplexity: 361.2111\n",
            "Training Times Epoch: 3.73, Forward Pass: 0.80, Backward Pass: 2.92\n",
            "Epoch [20/25], Loss: 5.8729, Accuracy: 0.07%, Perplexity: 355.2705\n",
            "Training Times Epoch: 3.71, Forward Pass: 0.81, Backward Pass: 2.90\n",
            "Epoch [21/25], Loss: 5.8623, Accuracy: 0.07%, Perplexity: 351.5367\n",
            "Training Times Epoch: 3.70, Forward Pass: 0.80, Backward Pass: 2.89\n",
            "Epoch [22/25], Loss: 5.8492, Accuracy: 0.07%, Perplexity: 346.9464\n",
            "Training Times Epoch: 3.77, Forward Pass: 0.81, Backward Pass: 2.96\n",
            "Epoch [23/25], Loss: 5.8380, Accuracy: 0.07%, Perplexity: 343.0988\n",
            "Training Times Epoch: 3.72, Forward Pass: 0.81, Backward Pass: 2.91\n",
            "Epoch [24/25], Loss: 5.8177, Accuracy: 0.07%, Perplexity: 336.2097\n",
            "Training Times Epoch: 3.74, Forward Pass: 0.80, Backward Pass: 2.94\n",
            "Epoch [25/25], Loss: 5.8095, Accuracy: 0.07%, Perplexity: 333.4359\n",
            "Training Times Epoch: 3.66, Forward Pass: 0.79, Backward Pass: 2.87\n",
            "\n",
            "Evaluation on the Validation Dataset\n",
            "Test Accuracy: 5.79%\n",
            "Average Loss: 6.07\n",
            "Average Perplexity: 434.29\n"
          ]
        }
      ],
      "source": [
        "print(\"Base Model - With LoRA\")\n",
        "print()\n",
        "print(\"Initial Evaluation\")\n",
        "print()\n",
        "init_eval(model_LoRA)\n",
        "print()\n",
        "print(\"Training the Model\")\n",
        "print()\n",
        "train(model_LoRA)\n",
        "print()\n",
        "print(\"Evaluation on the Validation Dataset\")\n",
        "eval(model_LoRA)"
      ]
    },
    {
      "cell_type": "markdown",
      "metadata": {
        "id": "A1zhxVqfzJ_M"
      },
      "source": [
        "## Geração de Sentenças"
      ]
    },
    {
      "cell_type": "code",
      "execution_count": 25,
      "metadata": {},
      "outputs": [
        {
          "data": {
            "text/plain": [
              "'o indio atravessou a sala , e <UNK> se com a não via seja julgava si só pedia no'"
            ]
          },
          "execution_count": 25,
          "metadata": {},
          "output_type": "execute_result"
        }
      ],
      "source": [
        "# Get a random sentence of context size\n",
        "\n",
        "seq = \"O indio atravessou a sala, e collocando-se\"\n",
        "inputs = encode_sentence(seq, vocab)\n",
        "inputs = inputs[len(inputs)-context_size:len(inputs)]\n",
        "inputs = torch.tensor([inputs])\n",
        "\n",
        "new_tokens = 10\n",
        "with torch.no_grad():\n",
        "    context = torch.tensor(inputs, dtype=torch.long).squeeze().to(device)\n",
        "    \n",
        "    for _ in range(new_tokens):\n",
        "\n",
        "        output = model(torch.tensor(inputs).to(device))\n",
        "        probs = F.softmax(output, dim=1)\n",
        "        next_token = torch.multinomial(probs, num_samples=1).squeeze()       \n",
        "        context = torch.cat([context, next_token.reshape(1)], dim=0)\n",
        "        \n",
        "' '.join(decode_sentence(context.tolist(), vocab))"
      ]
    }
  ],
  "metadata": {
    "accelerator": "GPU",
    "colab": {
      "gpuType": "T4",
      "provenance": []
    },
    "kernelspec": {
      "display_name": "IA024",
      "language": "python",
      "name": "ia024"
    },
    "language_info": {
      "codemirror_mode": {
        "name": "ipython",
        "version": 3
      },
      "file_extension": ".py",
      "mimetype": "text/x-python",
      "name": "python",
      "nbconvert_exporter": "python",
      "pygments_lexer": "ipython3",
      "version": "3.11.4"
    }
  },
  "nbformat": 4,
  "nbformat_minor": 0
}
