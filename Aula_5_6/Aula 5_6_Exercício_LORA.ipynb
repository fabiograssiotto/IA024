{
  "cells": [
    {
      "cell_type": "markdown",
      "metadata": {
        "id": "fMI0JT_YuYF3"
      },
      "source": [
        "## Exercício: LoRA\n",
        "\n",
        "- Exercício didático para entender a técnica de fazer ajuste fino em modelos grandes usando poucos recursos\n",
        "- Aplicar no pré exercício de análise de sentimento ou no segundo exercício, e modelo de linguagem, com vocabulário de 3000 palavras, embedding size e 2 camadas, treinados da forma usual (medir tempo de treinamento/época)\n",
        "- Modificar o seu modelo para adotar a técnica do LoRA no embedding e nas 2 camadas, e fazer o ajuste-fino, isto é, continuar o treinamento anterior, lembrando que as matrizes originais ficarão congeladas e o ajuste dos pesos serão apenas aplicados nas matrizes do LoRA. Medir o tempo de treinamento/época.\n",
        "- Por último, substituir o modelo original, com os novos pesos calculados pelo W + LoRA."
      ]
    },
    {
      "cell_type": "code",
      "execution_count": 1,
      "metadata": {
        "metadata": {}
      },
      "outputs": [],
      "source": [
        "import os\n",
        "import sys\n",
        "import random\n",
        "import time\n",
        "import re\n",
        "import math\n",
        "from tqdm import tqdm\n",
        "from collections import Counter\n",
        "from sklearn.model_selection import train_test_split\n",
        "\n",
        "# Pytorch\n",
        "import torch\n",
        "import torch.nn as nn\n",
        "import torch.nn.functional as F\n",
        "from torch.utils.data import Dataset, DataLoader\n",
        "\n",
        "import warnings\n",
        "warnings.filterwarnings(\"ignore\")"
      ]
    },
    {
      "cell_type": "code",
      "execution_count": 2,
      "metadata": {
        "metadata": {}
      },
      "outputs": [],
      "source": [
        "# Global variables\n",
        "# Vocabulary\n",
        "vocab_size = 3000\n",
        "context_size = 9\n",
        "pattern = r'\\w+|[,;.:!?\\']'\n",
        "\n",
        "# Training\n",
        "batch_size = 32\n",
        "lr = 0.05\n",
        "base_epochs = 10\n",
        "lora_epochs = 10\n",
        "\n",
        "# Model\n",
        "embedding_dim = 64\n",
        "hidden_dim = 200\n",
        "dropout_rate = 0.2\n",
        "\n",
        "# LoRA parameters\n",
        "lora_r = 1         # Rank adaptation\n",
        "lora_alpha = 1     # Scaling factor\n",
        "lora_scaling = lora_alpha / lora_r "
      ]
    },
    {
      "cell_type": "code",
      "execution_count": 3,
      "metadata": {
        "metadata": {}
      },
      "outputs": [
        {
          "data": {
            "text/plain": [
              "device(type='cuda')"
            ]
          },
          "execution_count": 3,
          "metadata": {},
          "output_type": "execute_result"
        }
      ],
      "source": [
        "# Colab environment\n",
        "IN_COLAB = 'google.colab' in sys.modules\n",
        "\n",
        "if (IN_COLAB):\n",
        "    %pip install colorama\n",
        "\n",
        "    # Google Drive\n",
        "    from google.colab import drive\n",
        "    drive.mount('/content/drive', force_remount=True)\n",
        "\n",
        "    project_folder=\"/content/drive/MyDrive/Classes/IA024/Aula_2_3\"\n",
        "    os.chdir(project_folder)\n",
        "    !ls -la\n",
        "\n",
        "device = torch.device('cuda' if torch.cuda.is_available() else 'cpu')\n",
        "device"
      ]
    },
    {
      "cell_type": "markdown",
      "metadata": {
        "id": "bYbkEzdD37sZ"
      },
      "source": [
        "## Faz download e carrega o dataset"
      ]
    },
    {
      "cell_type": "code",
      "execution_count": 4,
      "metadata": {
        "colab": {
          "base_uri": "https://localhost:8080/"
        },
        "id": "9qAnqY_q0beK",
        "metadata": {},
        "outputId": "f810fdb0-138d-4917-b7ef-69ab266acef6"
      },
      "outputs": [],
      "source": [
        "# Check if download is necessary\n",
        "if not os.path.exists(\"67724.txt.utf-8\"):\n",
        "    print(\"Downloading Gutenberg texts\")\n",
        "\n",
        "    !wget https://www.gutenberg.org/ebooks/67724.txt.utf-8\n",
        "    !wget https://www.gutenberg.org/ebooks/67725.txt.utf-8"
      ]
    },
    {
      "cell_type": "markdown",
      "metadata": {},
      "source": [
        "### Limpeza do texto principal"
      ]
    },
    {
      "cell_type": "code",
      "execution_count": 5,
      "metadata": {
        "colab": {
          "base_uri": "https://localhost:8080/"
        },
        "id": "6_UzC9pV091C",
        "metadata": {},
        "outputId": "1553b04f-24c4-4027-8cab-0907f92f04df"
      },
      "outputs": [
        {
          "name": "stdout",
          "output_type": "stream",
          "text": [
            "Number of paragraphs: 4596\n"
          ]
        }
      ],
      "source": [
        "text_1 = open(\"67724.txt.utf-8\",\"r\").read()\n",
        "text_2 = open(\"67725.txt.utf-8\",\"r\").read()\n",
        "\n",
        "def clean_text(text):\n",
        "    start_marker = \"*** START OF THE PROJECT GUTENBERG EBOOK\"\n",
        "    end_marker = \"*** END OF THE PROJECT GUTENBERG EBOOK\"\n",
        "    text_start = text.find(start_marker)\n",
        "    text_end = text.find(end_marker)\n",
        "\n",
        "    text_content= text[text_start:text_end].replace('\\r','')\n",
        "    paragraphs = []\n",
        "    for paragraph in text_content.split(\"\\n\\n\"):\n",
        "        paragraph = paragraph.replace('\\n', ' ').strip()\n",
        "        # Validation of length and index lines\n",
        "        if (len(paragraph) > 10 and '....' not in paragraph):\n",
        "            paragraphs.append(paragraph)\n",
        "    return paragraphs\n",
        "\n",
        "cleaned_paragraphs = clean_text(text_1)+clean_text(text_2)\n",
        "print(f'Number of paragraphs: {len(cleaned_paragraphs)}')"
      ]
    },
    {
      "cell_type": "markdown",
      "metadata": {
        "id": "bFVN2ihb33Rf"
      },
      "source": [
        "## Análise do dataset"
      ]
    },
    {
      "cell_type": "code",
      "execution_count": 6,
      "metadata": {
        "colab": {
          "base_uri": "https://localhost:8080/"
        },
        "id": "qSRHqe3H4ZFw",
        "metadata": {},
        "outputId": "4a985c7a-ce1d-4b72-d253-c9fbbc5f9440"
      },
      "outputs": [
        {
          "data": {
            "text/plain": [
              "11875"
            ]
          },
          "execution_count": 6,
          "metadata": {},
          "output_type": "execute_result"
        }
      ],
      "source": [
        "# Conta as palavras no dataset\n",
        "def count_words(texts):\n",
        "    word_counts = Counter()\n",
        "    for text in texts:\n",
        "        word_counts.update(re.findall(pattern, text.lower()))\n",
        "    return word_counts\n",
        "\n",
        "word_counts = count_words(cleaned_paragraphs)\n",
        "\n",
        "len(word_counts)"
      ]
    },
    {
      "cell_type": "markdown",
      "metadata": {
        "id": "EyGVDL9KzJ_I"
      },
      "source": [
        "## Criando um vocabulário"
      ]
    },
    {
      "cell_type": "code",
      "execution_count": 7,
      "metadata": {
        "id": "FiP7OCo9zJ_I",
        "metadata": {}
      },
      "outputs": [],
      "source": [
        "most_frequent_words = [word for word, count in word_counts.most_common(vocab_size)]\n",
        "vocab = {word: i for i, word in enumerate(most_frequent_words, 1)}"
      ]
    },
    {
      "cell_type": "code",
      "execution_count": 8,
      "metadata": {
        "metadata": {}
      },
      "outputs": [
        {
          "name": "stdout",
          "output_type": "stream",
          "text": [
            "Most Frequent Words: [',', '.', 'a', 'que', 'o', 'de', 'e', 'se', ';', 'um']\n",
            "Vocabulary Size: 3000\n"
          ]
        }
      ],
      "source": [
        "print(f\"Most Frequent Words: {most_frequent_words[:10]}\")\n",
        "print(f\"Vocabulary Size: {len(vocab)}\")"
      ]
    },
    {
      "cell_type": "markdown",
      "metadata": {},
      "source": [
        "#### Codificação / Decodificação das sentenças"
      ]
    },
    {
      "cell_type": "code",
      "execution_count": 9,
      "metadata": {
        "colab": {
          "base_uri": "https://localhost:8080/"
        },
        "id": "RhbhAsZbzJ_J",
        "metadata": {},
        "outputId": "6a53c9e0-308d-4082-e225-cfa376e8f39a"
      },
      "outputs": [
        {
          "name": "stdout",
          "output_type": "stream",
          "text": [
            "Original Seq: Ahi, o _Paquequer_ lança-se rapido sobre o seu leito, e atravessa as florestas como o tapir, espumando, deixando o pello esparso pelas pontas de rochedo, e enchendo a solidão com o estampido de sua carreira. De repente, falta-lhe o espaço, foge-lhe a terra; o soberbo rio recúa um momento para concentrar as suas forças e precipita-se de um só arremesso, como o tigre sobre a presa.\n",
            "Encoded: [235, 1, 5, 723, 0, 8, 762, 38, 5, 19, 324, 1, 7, 0, 23, 634, 28, 5, 2447, 1, 0, 1, 763, 5, 1776, 0, 269, 1065, 6, 486, 1, 7, 2448, 3, 687, 16, 5, 2449, 6, 17, 1777, 2, 6, 240, 1, 522, 29, 5, 612, 1, 0, 29, 3, 128, 9, 5, 1577, 99, 0, 10, 72, 18, 0, 23, 87, 591, 7, 2450, 8, 6, 10, 74, 0, 1, 28, 5, 592, 38, 3, 979, 2]\n",
            "Decoded: ['ahi', ',', 'o', '_paquequer_', '<UNK>', 'se', 'rapido', 'sobre', 'o', 'seu', 'leito', ',', 'e', '<UNK>', 'as', 'florestas', 'como', 'o', 'tapir', ',', '<UNK>', ',', 'deixando', 'o', 'pello', '<UNK>', 'pelas', 'pontas', 'de', 'rochedo', ',', 'e', 'enchendo', 'a', 'solidão', 'com', 'o', 'estampido', 'de', 'sua', 'carreira', '.', 'de', 'repente', ',', 'falta', 'lhe', 'o', 'espaço', ',', '<UNK>', 'lhe', 'a', 'terra', ';', 'o', 'soberbo', 'rio', '<UNK>', 'um', 'momento', 'para', '<UNK>', 'as', 'suas', 'forças', 'e', 'precipita', 'se', 'de', 'um', 'só', '<UNK>', ',', 'como', 'o', 'tigre', 'sobre', 'a', 'presa', '.']\n",
            "Reconstructed Seq: ahi , o _paquequer_ <UNK> se rapido sobre o seu leito , e <UNK> as florestas como o tapir , <UNK> , deixando o pello <UNK> pelas pontas de rochedo , e enchendo a solidão com o estampido de sua carreira . de repente , falta lhe o espaço , <UNK> lhe a terra ; o soberbo rio <UNK> um momento para <UNK> as suas forças e precipita se de um só <UNK> , como o tigre sobre a presa .\n"
          ]
        }
      ],
      "source": [
        "def encode_sentence(sentence, vocab):\n",
        "    return [vocab.get(word, 0) for word in re.findall(pattern, sentence.lower())]\n",
        "\n",
        "def decode_sentence(encoded_sentence, vocab):\n",
        "    words = []\n",
        "    for index in encoded_sentence:\n",
        "        word = next((word for word, code in vocab.items() if code == index), \"<UNK>\")\n",
        "        words.append(word)\n",
        "\n",
        "    return words\n",
        "\n",
        "seq = cleaned_paragraphs[20]\n",
        "spc = ' '\n",
        "encoded = encode_sentence(seq, vocab)\n",
        "decoded = decode_sentence(encoded, vocab)\n",
        "\n",
        "print(f'Original Seq: {seq}')\n",
        "print(f'Encoded: {encoded}')\n",
        "print(f'Decoded: {decoded}')\n",
        "print(f'Reconstructed Seq: {spc.join(decoded)}')"
      ]
    },
    {
      "cell_type": "markdown",
      "metadata": {
        "id": "wia_ygbvzJ_J"
      },
      "source": [
        "## Classe do dataset"
      ]
    },
    {
      "cell_type": "code",
      "execution_count": 10,
      "metadata": {
        "id": "Iy-elI1magRR",
        "metadata": {}
      },
      "outputs": [],
      "source": [
        "# Dataset class\n",
        "class BagOfWordsDataset(Dataset):\n",
        "  def __init__(self, paragraphs, vocab, context):\n",
        "    self.paragraphs = paragraphs\n",
        "    self.vocab = vocab\n",
        "    self.context = context\n",
        "    self.tokens, self.targets = self.setup()\n",
        "\n",
        "  def __len__(self):\n",
        "    return len(self.tokens)\n",
        "\n",
        "  def __getitem__(self, idx):\n",
        "    return torch.tensor(self.tokens[idx]), torch.tensor(self.targets[idx])\n",
        "  \n",
        "  def setup(self):\n",
        "    tokens = []\n",
        "    targets = []\n",
        "    for paragraph in self.paragraphs:\n",
        "      encoded = encode_sentence(paragraph, self.vocab)\n",
        "      \n",
        "      # If paragraph is smaller than the context, skip it.\n",
        "      if len(encoded) < self.context + 1:\n",
        "          continue\n",
        "\n",
        "      for i in range(len(encoded) - self.context):\n",
        "        tks = encoded[i:i+self.context]\n",
        "        tgt = encoded[i+self.context]\n",
        "        # Only add if there are no unknown tokens in both context and target.\n",
        "        bad_token = 0\n",
        "        if not (bad_token in tks or tgt == bad_token):\n",
        "          tokens.append(tks)\n",
        "          targets.append(tgt)\n",
        "    return tokens, targets\n"
      ]
    },
    {
      "cell_type": "code",
      "execution_count": 11,
      "metadata": {
        "colab": {
          "base_uri": "https://localhost:8080/"
        },
        "id": "aD1CVci2zJ_J",
        "metadata": {},
        "outputId": "5bf0839e-f30e-4ff2-ed6f-4f3fda782b7c"
      },
      "outputs": [
        {
          "name": "stdout",
          "output_type": "stream",
          "text": [
            "Training samples: 3676\n",
            "Validation samples: 920\n",
            "\n",
            "Training dataset samples: 24360\n",
            "Validation dataset samples: 5851\n"
          ]
        }
      ],
      "source": [
        "# Train/Validation split\n",
        "train_data, val_data = train_test_split(cleaned_paragraphs, test_size=0.2, random_state=18)\n",
        "\n",
        "train_dataset = BagOfWordsDataset(train_data, vocab, context_size)\n",
        "val_dataset = BagOfWordsDataset(val_data, vocab, context_size)\n",
        "\n",
        "# Counting all Samples\n",
        "print(f\"Training samples: {len(train_data)}\")\n",
        "print(f\"Validation samples: {len(val_data)}\")\n",
        "print()\n",
        "print(f\"Training dataset samples: {len(train_dataset)}\")\n",
        "print(f\"Validation dataset samples: {len(val_dataset)}\")"
      ]
    },
    {
      "cell_type": "code",
      "execution_count": 12,
      "metadata": {
        "metadata": {}
      },
      "outputs": [
        {
          "name": "stdout",
          "output_type": "stream",
          "text": [
            "[tensor([[   4,   52,  852,  122,    3, 1493,   11, 1869,  868]]), tensor([7])]\n"
          ]
        }
      ],
      "source": [
        "tst_loader = DataLoader(train_dataset, batch_size = 1, shuffle=True)\n",
        "sample = next(iter(tst_loader))\n",
        "print(sample)"
      ]
    },
    {
      "cell_type": "code",
      "execution_count": 13,
      "metadata": {
        "id": "gC0C5qn2zJ_J",
        "metadata": {}
      },
      "outputs": [],
      "source": [
        "# Train/val loaders\n",
        "train_loader = DataLoader(train_dataset, batch_size=batch_size, shuffle=True)\n",
        "val_loader = DataLoader(val_dataset, batch_size=batch_size, shuffle=True)"
      ]
    },
    {
      "cell_type": "markdown",
      "metadata": {
        "id": "-5_-Yud0zJ_K"
      },
      "source": [
        "## Modelo (Modificado para habilitar ou desabilitar *low-rank adaptation*)\n",
        "Se o parâmetro é ativado, as três camandas do modelo base (embedding, linear_1 e linear_2) terão seu pesos congelados para a utilização de *low-rank adaptation*, com apenas as matrizes A e B da LoRA sendo treinadas. Quando o parâmetro é desativado, as três camadas voltam a ser treinadas. Toda essa lógica é implementada na função *forward()* abaixo."
      ]
    },
    {
      "cell_type": "code",
      "execution_count": 14,
      "metadata": {
        "id": "I2qKG9YczJ_K",
        "metadata": {}
      },
      "outputs": [],
      "source": [
        "class BengioModel(torch.nn.Module):\n",
        "    def __init__(self):\n",
        "        super(BengioModel, self).__init__()\n",
        "        self.LoRA_enabled = False # Default\n",
        "        self.vocab_size = vocab_size\n",
        "\n",
        "        # LoRA parameters\n",
        "        self.lora_alpha = lora_alpha\n",
        "        self.lora_r = lora_r\n",
        "        self.scaling = lora_scaling\n",
        "        \n",
        "        # Embeddings layer\n",
        "        self.embeddings = nn.Embedding(vocab_size+1, embedding_dim)\n",
        "        # First Linear Layer\n",
        "        self.linear1 = nn.Linear(context_size * embedding_dim, hidden_dim, bias=True)\n",
        "        # Activation and Dropout\n",
        "        self.tanh = torch.nn.Tanh()\n",
        "        self.dropout = torch.nn.Dropout(dropout_rate)\n",
        "        # Second Linear Layer\n",
        "        self.linear2 = nn.Linear(hidden_dim, vocab_size+1, bias=True)\n",
        "\n",
        "        # LoRA Matrixes\n",
        "        # LoRA on embeddings layer\n",
        "        self.embeddings_lora_B = nn.Parameter(torch.zeros(vocab_size+1, self.lora_r), requires_grad=False)\n",
        "        self.embeddings_lora_A = nn.Parameter(torch.randn(self.lora_r, embedding_dim), requires_grad=False)\n",
        "        # LoRA on the first linear layer\n",
        "        self.linear1_lora_B = nn.Parameter(torch.zeros(context_size*embedding_dim, self.lora_r), requires_grad=False)\n",
        "        self.linear1_lora_A = nn.Parameter(torch.randn(self.lora_r, hidden_dim), requires_grad=False)\n",
        "        # LoRA on the second linear layer\n",
        "        self.linear2_lora_B = nn.Parameter(torch.zeros(hidden_dim, self.lora_r), requires_grad=False)\n",
        "        self.linear2_lora_A = nn.Parameter(torch.randn(self.lora_r, vocab_size+1), requires_grad=False)\n",
        "\n",
        "    def forward(self, inputs):\n",
        "        # Embeddings\n",
        "        embeds = self.embeddings(inputs)\n",
        "        if (self.LoRA_enabled):\n",
        "            one_hot = F.one_hot(inputs, self.vocab_size+1).to(torch.float32)\n",
        "            embeddings_LoRA = one_hot @ (self.embeddings_lora_B @ self.embeddings_lora_A)\n",
        "            embeddings_LoRA = embeddings_LoRA * self.scaling\n",
        "            embeds = embeds + embeddings_LoRA\n",
        "\n",
        "        # Flatten embeddings\n",
        "        embeds = embeds.view(embeds.size(0), -1)\n",
        "        \n",
        "        # First linear layer\n",
        "        out = self.linear1(embeds)\n",
        "        if (self.LoRA_enabled):\n",
        "            linear1_lora_out = embeds @ (self.linear1_lora_B @ self.linear1_lora_A)\n",
        "            linear1_lora_out = linear1_lora_out * self.scaling\n",
        "            out = out + linear1_lora_out\n",
        "        \n",
        "        activation = self.tanh(out)\n",
        "        activation = self.dropout(activation)\n",
        "\n",
        "        # Second linear layer\n",
        "        out = self.linear2(activation)\n",
        "        if (self.LoRA_enabled):\n",
        "            linear2_lora_out = activation @ (self.linear2_lora_B @ self.linear2_lora_A)\n",
        "            linear2_lora_out = linear2_lora_out * self.scaling\n",
        "            out = out + linear2_lora_out\n",
        "\n",
        "        return out\n",
        "    \n",
        "    def enable_LoRA(self):\n",
        "        self.LoRA_enabled = True\n",
        "        # Freeze base model parameters\n",
        "        print(\"Freezing Embeddings\")\n",
        "        self.embeddings.weight.requires_grad = False\n",
        "        print(\"Freezing Layer 1\")\n",
        "        self.linear1.weight.requires_grad = False\n",
        "        print(\"Freezing Layer 2\")\n",
        "        self.linear2.weight.requires_grad = False\n",
        "        # Unfreeze LoRA parameters\n",
        "        print(\"Unfreezing LoRA parameters\")\n",
        "        self.embeddings_lora_A.requires_grad = True\n",
        "        self.embeddings_lora_B.requires_grad = True\n",
        "        self.linear1_lora_A.requires_grad = True\n",
        "        self.linear1_lora_B.requires_grad = True\n",
        "        self.linear2_lora_A.requires_grad = True\n",
        "        self.linear2_lora_B.requires_grad = True\n",
        "\n",
        "    def disable_LoRA(self):\n",
        "        self.LoRA_enabled = False\n",
        "        print(\"Unfreezing Embeddings\")\n",
        "        self.embeddings.weight.requires_grad = True\n",
        "        print(\"Unfreezing Layer 1\")\n",
        "        self.linear1.weight.requires_grad = True\n",
        "        print(\"Unfreezing Layer 2\")\n",
        "        self.linear2.weight.requires_grad = True\n",
        "        print(\"Freezing LoRA parameters\")\n",
        "        self.embeddings_lora_A.requires_grad = False\n",
        "        self.embeddings_lora_B.requires_grad = False\n",
        "        self.linear1_lora_A.requires_grad = False\n",
        "        self.linear1_lora_B.requires_grad = False\n",
        "        self.linear2_lora_A.requires_grad = False\n",
        "        self.linear2_lora_B.requires_grad = False\n",
        "\n",
        "    \n",
        "    def apply_LoRA_weights(self):\n",
        "        # Apply LoRA weights to the main model.\n",
        "        \n",
        "        lora_embeddings_weights = (self.embeddings_lora_B @ self.embeddings_lora_A) * self.scaling\n",
        "        lora_linear1_weights = (self.linear1_lora_B @ self.linear1_lora_A).transpose(0, 1) * self.scaling\n",
        "        lora_linear2_weights = (self.linear2_lora_B @ self.linear2_lora_A).transpose(0, 1) * self.scaling\n",
        "        self.embeddings.weight.data += lora_embeddings_weights\n",
        "        self.linear1.weight.data += lora_linear1_weights\n",
        "        self.linear2.weight.data += lora_linear2_weights"
      ]
    },
    {
      "cell_type": "code",
      "execution_count": 15,
      "metadata": {
        "id": "7yjQ1KXOzJ_K",
        "metadata": {}
      },
      "outputs": [],
      "source": [
        "model = BengioModel()"
      ]
    },
    {
      "cell_type": "markdown",
      "metadata": {},
      "source": [
        "#### Teste básico do modelo"
      ]
    },
    {
      "cell_type": "code",
      "execution_count": 16,
      "metadata": {
        "id": "xmsD59TfzJ_K",
        "metadata": {}
      },
      "outputs": [
        {
          "name": "stdout",
          "output_type": "stream",
          "text": [
            "torch.Size([32, 9])\n",
            "torch.Size([32])\n",
            "tensor([1070,  284, 1289, 1302, 1778, 1751, 1253, 1855,  365, 2701,  801, 2274,\n",
            "         610, 1739,  732,  720, 1156, 2264,  997, 1212, 1088, 1770, 1111, 1946,\n",
            "        2015,  118,  717, 2730,  633,  863, 1518, 1828])\n",
            "tensor([2127,  230,    6,  132,    4,    3,  160,   53,   21,   64,   25,  253,\n",
            "          93,    8,    7, 1571,    2,    5,    5,  513,   36, 1092,   11, 1670,\n",
            "          18,    2,    5,  442,   45,    3,  134,    2])\n"
          ]
        }
      ],
      "source": [
        "sample = next(iter(train_loader))\n",
        "input = sample[0]\n",
        "target = sample[1]\n",
        "\n",
        "print(input.shape)\n",
        "print(target.shape)\n",
        "\n",
        "output = model(input)\n",
        "pred = output.argmax(dim=1)\n",
        "\n",
        "print(pred)\n",
        "print(target)"
      ]
    },
    {
      "cell_type": "markdown",
      "metadata": {
        "id": "UngUhyu7zJ_L"
      },
      "source": [
        "## Treinamento e Avaliação"
      ]
    },
    {
      "cell_type": "markdown",
      "metadata": {},
      "source": [
        "### Funções de Treinamento e Avaliação do Modelo"
      ]
    },
    {
      "cell_type": "markdown",
      "metadata": {},
      "source": [
        "#### Função para Contagem de Parâmetros do Modelo"
      ]
    },
    {
      "cell_type": "code",
      "execution_count": 17,
      "metadata": {
        "metadata": {}
      },
      "outputs": [
        {
          "name": "stdout",
          "output_type": "stream",
          "text": [
            "O modelo tem um total de 910,665 parâmetros.\n"
          ]
        }
      ],
      "source": [
        "def count_parameters(model):\n",
        "    return sum(p.numel() for p in model.parameters() if p.requires_grad)\n",
        "\n",
        "# Exemplo de uso:\n",
        "total_params = count_parameters(model)\n",
        "print(f'O modelo tem um total de {total_params:,} parâmetros.')"
      ]
    },
    {
      "cell_type": "markdown",
      "metadata": {},
      "source": [
        "#### Função para Avaliação Inicial do Modelo"
      ]
    },
    {
      "cell_type": "code",
      "execution_count": 18,
      "metadata": {
        "metadata": {}
      },
      "outputs": [],
      "source": [
        "def init_eval(model):\n",
        "    # Initial Perplexity and Loss\n",
        "    # Before training\n",
        "    model.eval()\n",
        "\n",
        "    loss = 0\n",
        "    perp = 0\n",
        "\n",
        "    with torch.no_grad():\n",
        "        for inputs, targets in tqdm(train_loader):\n",
        "            inputs = inputs.to(device)\n",
        "            targets = targets.to(device)\n",
        "            outputs = model(inputs)\n",
        "            loss += criterion(outputs, targets).item()\n",
        "\n",
        "    loss /= len(train_loader)\n",
        "    perp = torch.exp(torch.tensor(loss))\n",
        "\n",
        "    print(f'Initial Loss: {loss:.4f}')\n",
        "    print(f'Initial Perplexity: {perp:.4f}')"
      ]
    },
    {
      "cell_type": "markdown",
      "metadata": {},
      "source": [
        "#### Função para Treinamento do Modelo"
      ]
    },
    {
      "cell_type": "code",
      "execution_count": 19,
      "metadata": {
        "metadata": {}
      },
      "outputs": [],
      "source": [
        "def train(model, epochs):\n",
        "      # Training Loop\n",
        "      model.train()\n",
        "\n",
        "      # Overall training time stats\n",
        "      epoch_time_total = 0\n",
        "      epoch_time_fwd_total = 0\n",
        "      \n",
        "      for epoch in range(epochs):\n",
        "\n",
        "            epoch_start = time.time()\n",
        "            # Metrics\n",
        "            epoch_loss = 0\n",
        "            epoch_correct = 0\n",
        "            epoch_samples = 0\n",
        "            \n",
        "            # Training times\n",
        "            forward_time = 0\n",
        "\n",
        "            for inputs, targets in tqdm(train_loader):\n",
        "                  inputs = inputs.to(device)  # Move input data to the device\n",
        "                  targets = targets.to(device)\n",
        "\n",
        "                  # Forward pass\n",
        "                  forward_start = time.time()\n",
        "                  outputs = model(inputs)\n",
        "                  forward_time += (time.time() - forward_start)\n",
        "\n",
        "                  loss = criterion(outputs, targets)\n",
        "\n",
        "                  # Backward pass and optimization\n",
        "                  optimizer.zero_grad()\n",
        "                  loss.backward()\n",
        "\n",
        "                  optimizer.step()\n",
        "\n",
        "                  # Loss\n",
        "                  epoch_loss += loss.item()\n",
        "\n",
        "                  # Predicted\n",
        "                  predicted = outputs.argmax(dim=1)\n",
        "                  epoch_correct += (predicted == targets).sum().item()\n",
        "                  epoch_samples += targets.size(0)\n",
        "\n",
        "            # Calculate average loss and accuracy for epoch\n",
        "            avg_loss = epoch_loss / len(train_loader)\n",
        "            acc = epoch_correct / epoch_samples\n",
        "\n",
        "            # Perplexity\n",
        "            perp = torch.exp(torch.tensor(avg_loss))\n",
        "\n",
        "            epoch_end = time.time()\n",
        "            epoch_time = epoch_end - epoch_start\n",
        "            \n",
        "            # Total training time\n",
        "            epoch_time_total += epoch_time\n",
        "            epoch_time_fwd_total += forward_time\n",
        "            \n",
        "            # Print epoch statistics\n",
        "            print(f'Epoch [{epoch+1}/{epochs}], Epoch Time: {epoch_time:.2f}, Loss: {avg_loss:.4f}, Accuracy: {acc:.2f}%, Perplexity: {perp:.4f}')\n",
        "      \n",
        "      # Overall training average times\n",
        "      epoch_time_avg = epoch_time_total / epochs\n",
        "      epoch_time_fwd_avg = epoch_time_fwd_total / epochs\n",
        "      epoch_time_bwd_avg = epoch_time_avg - epoch_time_fwd_avg\n",
        "      print()\n",
        "      print(f'Average Times per Epoch: {epoch_time_avg:.2f}, Forward Pass: {epoch_time_fwd_avg:.2f}, Backward Pass: {epoch_time_bwd_avg:.2f}')\n"
      ]
    },
    {
      "cell_type": "markdown",
      "metadata": {
        "id": "PSXfwYISDoPN"
      },
      "source": [
        "#### Função para Avaliação na Base de Validação"
      ]
    },
    {
      "cell_type": "code",
      "execution_count": 20,
      "metadata": {
        "id": "nXXO78GSDqPg",
        "metadata": {}
      },
      "outputs": [],
      "source": [
        "def eval(model):\n",
        "    model.eval()\n",
        "\n",
        "    loss_sum = 0\n",
        "    total_sum = 0\n",
        "    correct_sum = 0\n",
        "    eval_round = 0\n",
        "\n",
        "    loss = 0\n",
        "    perp = 0\n",
        "\n",
        "    with torch.no_grad():\n",
        "        for inputs, targets in tqdm(val_loader):\n",
        "            inputs = inputs.to(device)\n",
        "            targets = targets.to(device)\n",
        "\n",
        "            outputs = model(inputs)\n",
        "            loss = criterion(outputs, targets)      \n",
        "            loss_sum += loss\n",
        "\n",
        "            # Get the predicted labels\n",
        "            predicted = outputs.argmax(dim=1)\n",
        "\n",
        "            total_sum += targets.size(0)\n",
        "            correct_sum += (predicted == targets).sum().item()\n",
        "            eval_round += 1\n",
        "\n",
        "    # Calculate accuracy\n",
        "    acc = 100 * correct_sum / total_sum\n",
        "\n",
        "    # Calculate average perplexity\n",
        "    average_loss = loss_sum / len(val_loader)\n",
        "    average_perplexity = torch.exp(average_loss)\n",
        "\n",
        "    print(f'Test Accuracy: {acc:.2f}%')\n",
        "    print(f'Average Loss: {average_loss:.2f}')\n",
        "    print(f'Average Perplexity: {average_perplexity:.2f}')"
      ]
    },
    {
      "cell_type": "markdown",
      "metadata": {},
      "source": [
        "### Treinamento e Avaliação do modelo base (sem LoRA)"
      ]
    },
    {
      "cell_type": "code",
      "execution_count": 21,
      "metadata": {
        "metadata": {}
      },
      "outputs": [
        {
          "name": "stdout",
          "output_type": "stream",
          "text": [
            "BengioModel(\n",
            "  (embeddings): Embedding(3001, 64)\n",
            "  (linear1): Linear(in_features=576, out_features=200, bias=True)\n",
            "  (tanh): Tanh()\n",
            "  (dropout): Dropout(p=0.2, inplace=False)\n",
            "  (linear2): Linear(in_features=200, out_features=3001, bias=True)\n",
            ")\n",
            "\n",
            "Base model parameters = 910665\n"
          ]
        }
      ],
      "source": [
        "# Cross Entropy\n",
        "criterion = nn.CrossEntropyLoss()\n",
        "\n",
        "# Optimizer\n",
        "optimizer = torch.optim.SGD(model.parameters(), lr)\n",
        "\n",
        "model.to(device)\n",
        "print(model)\n",
        "\n",
        "base_parameters = count_parameters(model)\n",
        "print()\n",
        "print(f'Base model parameters = {base_parameters}')"
      ]
    },
    {
      "cell_type": "code",
      "execution_count": 22,
      "metadata": {
        "metadata": {}
      },
      "outputs": [
        {
          "name": "stdout",
          "output_type": "stream",
          "text": [
            "Base Model - No LoRA\n",
            "\n",
            "Initial Evaluation\n",
            "\n"
          ]
        },
        {
          "name": "stderr",
          "output_type": "stream",
          "text": [
            "100%|██████████| 762/762 [00:01<00:00, 571.53it/s]\n"
          ]
        },
        {
          "name": "stdout",
          "output_type": "stream",
          "text": [
            "Initial Loss: 8.0416\n",
            "Initial Perplexity: 3107.6384\n",
            "\n",
            "Training the Model\n",
            "\n"
          ]
        },
        {
          "name": "stderr",
          "output_type": "stream",
          "text": [
            "100%|██████████| 762/762 [00:02<00:00, 272.97it/s]\n"
          ]
        },
        {
          "name": "stdout",
          "output_type": "stream",
          "text": [
            "Epoch [1/10], Epoch Time: 2.79, Loss: 6.5736, Accuracy: 0.08%, Perplexity: 715.9240\n"
          ]
        },
        {
          "name": "stderr",
          "output_type": "stream",
          "text": [
            "100%|██████████| 762/762 [00:02<00:00, 282.00it/s]\n"
          ]
        },
        {
          "name": "stdout",
          "output_type": "stream",
          "text": [
            "Epoch [2/10], Epoch Time: 2.71, Loss: 5.6918, Accuracy: 0.11%, Perplexity: 296.4340\n"
          ]
        },
        {
          "name": "stderr",
          "output_type": "stream",
          "text": [
            "100%|██████████| 762/762 [00:03<00:00, 239.79it/s]\n"
          ]
        },
        {
          "name": "stdout",
          "output_type": "stream",
          "text": [
            "Epoch [3/10], Epoch Time: 3.18, Loss: 5.4045, Accuracy: 0.13%, Perplexity: 222.4151\n"
          ]
        },
        {
          "name": "stderr",
          "output_type": "stream",
          "text": [
            "100%|██████████| 762/762 [00:03<00:00, 250.90it/s]\n"
          ]
        },
        {
          "name": "stdout",
          "output_type": "stream",
          "text": [
            "Epoch [4/10], Epoch Time: 3.04, Loss: 5.1889, Accuracy: 0.14%, Perplexity: 179.2778\n"
          ]
        },
        {
          "name": "stderr",
          "output_type": "stream",
          "text": [
            "100%|██████████| 762/762 [00:04<00:00, 154.24it/s]\n"
          ]
        },
        {
          "name": "stdout",
          "output_type": "stream",
          "text": [
            "Epoch [5/10], Epoch Time: 4.95, Loss: 4.9947, Accuracy: 0.16%, Perplexity: 147.6358\n"
          ]
        },
        {
          "name": "stderr",
          "output_type": "stream",
          "text": [
            "100%|██████████| 762/762 [00:05<00:00, 147.48it/s]\n"
          ]
        },
        {
          "name": "stdout",
          "output_type": "stream",
          "text": [
            "Epoch [6/10], Epoch Time: 5.17, Loss: 4.8240, Accuracy: 0.17%, Perplexity: 124.4591\n"
          ]
        },
        {
          "name": "stderr",
          "output_type": "stream",
          "text": [
            "100%|██████████| 762/762 [00:04<00:00, 159.33it/s]\n"
          ]
        },
        {
          "name": "stdout",
          "output_type": "stream",
          "text": [
            "Epoch [7/10], Epoch Time: 4.79, Loss: 4.6572, Accuracy: 0.18%, Perplexity: 105.3412\n"
          ]
        },
        {
          "name": "stderr",
          "output_type": "stream",
          "text": [
            "100%|██████████| 762/762 [00:04<00:00, 176.32it/s]\n"
          ]
        },
        {
          "name": "stdout",
          "output_type": "stream",
          "text": [
            "Epoch [8/10], Epoch Time: 4.33, Loss: 4.4906, Accuracy: 0.20%, Perplexity: 89.1755\n"
          ]
        },
        {
          "name": "stderr",
          "output_type": "stream",
          "text": [
            "100%|██████████| 762/762 [00:03<00:00, 197.23it/s]\n"
          ]
        },
        {
          "name": "stdout",
          "output_type": "stream",
          "text": [
            "Epoch [9/10], Epoch Time: 3.87, Loss: 4.3426, Accuracy: 0.21%, Perplexity: 76.9094\n"
          ]
        },
        {
          "name": "stderr",
          "output_type": "stream",
          "text": [
            "100%|██████████| 762/762 [00:03<00:00, 193.21it/s]\n"
          ]
        },
        {
          "name": "stdout",
          "output_type": "stream",
          "text": [
            "Epoch [10/10], Epoch Time: 3.95, Loss: 4.1908, Accuracy: 0.23%, Perplexity: 66.0756\n",
            "\n",
            "Average Times per Epoch: 3.88, Forward Pass: 0.43, Backward Pass: 3.44\n",
            "\n",
            "Evaluation on the Validation Dataset\n"
          ]
        },
        {
          "name": "stderr",
          "output_type": "stream",
          "text": [
            "100%|██████████| 183/183 [00:00<00:00, 424.88it/s]"
          ]
        },
        {
          "name": "stdout",
          "output_type": "stream",
          "text": [
            "Test Accuracy: 10.39%\n",
            "Average Loss: 5.64\n",
            "Average Perplexity: 280.23\n"
          ]
        },
        {
          "name": "stderr",
          "output_type": "stream",
          "text": [
            "\n"
          ]
        }
      ],
      "source": [
        "print(\"Base Model - No LoRA\")\n",
        "print()\n",
        "print(\"Initial Evaluation\")\n",
        "print()\n",
        "init_eval(model)\n",
        "print()\n",
        "print(\"Training the Model\")\n",
        "print()\n",
        "train(model, base_epochs)\n",
        "print()\n",
        "print(\"Evaluation on the Validation Dataset\")\n",
        "eval(model)"
      ]
    },
    {
      "cell_type": "markdown",
      "metadata": {},
      "source": [
        "### Ativação do LoRA e *fine-tuning* do modelo"
      ]
    },
    {
      "cell_type": "code",
      "execution_count": 23,
      "metadata": {
        "metadata": {}
      },
      "outputs": [
        {
          "name": "stdout",
          "output_type": "stream",
          "text": [
            "Freezing Embeddings\n",
            "Freezing Layer 1\n",
            "Freezing Layer 2\n",
            "Unfreezing LoRA parameters\n",
            "BengioModel(\n",
            "  (embeddings): Embedding(3001, 64)\n",
            "  (linear1): Linear(in_features=576, out_features=200, bias=True)\n",
            "  (tanh): Tanh()\n",
            "  (dropout): Dropout(p=0.2, inplace=False)\n",
            "  (linear2): Linear(in_features=200, out_features=3001, bias=True)\n",
            ")\n",
            "\n",
            "LoRA model parameters = 10243\n",
            "Percentage of base = 0.01%\n"
          ]
        }
      ],
      "source": [
        "model.enable_LoRA()\n",
        "print(model)\n",
        "\n",
        "lora_parameters = count_parameters(model)\n",
        "\n",
        "print()\n",
        "print(f'LoRA model parameters = {lora_parameters}')\n",
        "print(f'Percentage of base = {lora_parameters/base_parameters:.2f}%')"
      ]
    },
    {
      "cell_type": "code",
      "execution_count": 24,
      "metadata": {
        "metadata": {}
      },
      "outputs": [
        {
          "name": "stdout",
          "output_type": "stream",
          "text": [
            "Base Model - LoRA enabled\n",
            "Keep On training the model\n",
            "\n"
          ]
        },
        {
          "name": "stderr",
          "output_type": "stream",
          "text": [
            "100%|██████████| 762/762 [00:05<00:00, 138.50it/s]\n"
          ]
        },
        {
          "name": "stdout",
          "output_type": "stream",
          "text": [
            "Epoch [1/10], Epoch Time: 5.51, Loss: 4.2173, Accuracy: 0.23%, Perplexity: 67.8506\n"
          ]
        },
        {
          "name": "stderr",
          "output_type": "stream",
          "text": [
            "100%|██████████| 762/762 [00:05<00:00, 138.36it/s]\n"
          ]
        },
        {
          "name": "stdout",
          "output_type": "stream",
          "text": [
            "Epoch [2/10], Epoch Time: 5.51, Loss: 4.1437, Accuracy: 0.24%, Perplexity: 63.0328\n"
          ]
        },
        {
          "name": "stderr",
          "output_type": "stream",
          "text": [
            "100%|██████████| 762/762 [00:06<00:00, 110.57it/s]\n"
          ]
        },
        {
          "name": "stdout",
          "output_type": "stream",
          "text": [
            "Epoch [3/10], Epoch Time: 6.90, Loss: 4.1023, Accuracy: 0.24%, Perplexity: 60.4804\n"
          ]
        },
        {
          "name": "stderr",
          "output_type": "stream",
          "text": [
            "100%|██████████| 762/762 [00:07<00:00, 95.43it/s] \n"
          ]
        },
        {
          "name": "stdout",
          "output_type": "stream",
          "text": [
            "Epoch [4/10], Epoch Time: 7.99, Loss: 4.0659, Accuracy: 0.25%, Perplexity: 58.3173\n"
          ]
        },
        {
          "name": "stderr",
          "output_type": "stream",
          "text": [
            "100%|██████████| 762/762 [00:07<00:00, 104.89it/s]\n"
          ]
        },
        {
          "name": "stdout",
          "output_type": "stream",
          "text": [
            "Epoch [5/10], Epoch Time: 7.27, Loss: 4.0398, Accuracy: 0.26%, Perplexity: 56.8131\n"
          ]
        },
        {
          "name": "stderr",
          "output_type": "stream",
          "text": [
            "100%|██████████| 762/762 [00:05<00:00, 128.28it/s]\n"
          ]
        },
        {
          "name": "stdout",
          "output_type": "stream",
          "text": [
            "Epoch [6/10], Epoch Time: 5.95, Loss: 4.0226, Accuracy: 0.26%, Perplexity: 55.8461\n"
          ]
        },
        {
          "name": "stderr",
          "output_type": "stream",
          "text": [
            "100%|██████████| 762/762 [00:06<00:00, 114.61it/s]\n"
          ]
        },
        {
          "name": "stdout",
          "output_type": "stream",
          "text": [
            "Epoch [7/10], Epoch Time: 6.65, Loss: 4.0090, Accuracy: 0.26%, Perplexity: 55.0909\n"
          ]
        },
        {
          "name": "stderr",
          "output_type": "stream",
          "text": [
            "100%|██████████| 762/762 [00:05<00:00, 129.08it/s]\n"
          ]
        },
        {
          "name": "stdout",
          "output_type": "stream",
          "text": [
            "Epoch [8/10], Epoch Time: 5.91, Loss: 3.9992, Accuracy: 0.26%, Perplexity: 54.5566\n"
          ]
        },
        {
          "name": "stderr",
          "output_type": "stream",
          "text": [
            "100%|██████████| 762/762 [00:06<00:00, 120.57it/s]\n"
          ]
        },
        {
          "name": "stdout",
          "output_type": "stream",
          "text": [
            "Epoch [9/10], Epoch Time: 6.33, Loss: 3.9969, Accuracy: 0.26%, Perplexity: 54.4313\n"
          ]
        },
        {
          "name": "stderr",
          "output_type": "stream",
          "text": [
            "100%|██████████| 762/762 [00:06<00:00, 126.49it/s]\n"
          ]
        },
        {
          "name": "stdout",
          "output_type": "stream",
          "text": [
            "Epoch [10/10], Epoch Time: 6.03, Loss: 3.9858, Accuracy: 0.27%, Perplexity: 53.8273\n",
            "\n",
            "Average Times per Epoch: 6.41, Forward Pass: 1.41, Backward Pass: 5.00\n",
            "\n",
            "Evaluation on the Validation Dataset\n"
          ]
        },
        {
          "name": "stderr",
          "output_type": "stream",
          "text": [
            "100%|██████████| 183/183 [00:00<00:00, 213.39it/s]"
          ]
        },
        {
          "name": "stdout",
          "output_type": "stream",
          "text": [
            "Test Accuracy: 10.24%\n",
            "Average Loss: 5.66\n",
            "Average Perplexity: 287.13\n"
          ]
        },
        {
          "name": "stderr",
          "output_type": "stream",
          "text": [
            "\n"
          ]
        }
      ],
      "source": [
        "print(\"Base Model - LoRA enabled\")\n",
        "print(\"Keep On training the model\")\n",
        "print()\n",
        "train(model, lora_epochs)\n",
        "print()\n",
        "print(\"Evaluation on the Validation Dataset\")\n",
        "eval(model)"
      ]
    },
    {
      "cell_type": "markdown",
      "metadata": {},
      "source": [
        "### Desativação do LoRA e Avaliação do Modelo com os novos pesos"
      ]
    },
    {
      "cell_type": "code",
      "execution_count": 25,
      "metadata": {
        "metadata": {}
      },
      "outputs": [
        {
          "name": "stdout",
          "output_type": "stream",
          "text": [
            "Unfreezing Embeddings\n",
            "Unfreezing Layer 1\n",
            "Unfreezing Layer 2\n",
            "Freezing LoRA parameters\n",
            "BengioModel(\n",
            "  (embeddings): Embedding(3001, 64)\n",
            "  (linear1): Linear(in_features=576, out_features=200, bias=True)\n",
            "  (tanh): Tanh()\n",
            "  (dropout): Dropout(p=0.2, inplace=False)\n",
            "  (linear2): Linear(in_features=200, out_features=3001, bias=True)\n",
            ")\n"
          ]
        },
        {
          "data": {
            "text/plain": [
              "910665"
            ]
          },
          "execution_count": 25,
          "metadata": {},
          "output_type": "execute_result"
        }
      ],
      "source": [
        "model.apply_LoRA_weights()\n",
        "model.disable_LoRA()\n",
        "print(model)\n",
        "count_parameters(model)"
      ]
    },
    {
      "cell_type": "code",
      "execution_count": 26,
      "metadata": {
        "metadata": {}
      },
      "outputs": [
        {
          "name": "stdout",
          "output_type": "stream",
          "text": [
            "Base Model - Weights = W + LoRA\n",
            "Evaluation on the Validation Dataset\n"
          ]
        },
        {
          "name": "stderr",
          "output_type": "stream",
          "text": [
            "100%|██████████| 183/183 [00:00<00:00, 308.43it/s]"
          ]
        },
        {
          "name": "stdout",
          "output_type": "stream",
          "text": [
            "Test Accuracy: 10.24%\n",
            "Average Loss: 5.66\n",
            "Average Perplexity: 287.03\n"
          ]
        },
        {
          "name": "stderr",
          "output_type": "stream",
          "text": [
            "\n"
          ]
        }
      ],
      "source": [
        "print(\"Base Model - Weights = W + LoRA\")\n",
        "print(\"Evaluation on the Validation Dataset\")\n",
        "eval(model)"
      ]
    }
  ],
  "metadata": {
    "accelerator": "GPU",
    "colab": {
      "gpuType": "T4",
      "provenance": []
    },
    "kernelspec": {
      "display_name": "IA024",
      "language": "python",
      "name": "ia024"
    },
    "language_info": {
      "codemirror_mode": {
        "name": "ipython",
        "version": 3
      },
      "file_extension": ".py",
      "mimetype": "text/x-python",
      "name": "python",
      "nbconvert_exporter": "python",
      "pygments_lexer": "ipython3",
      "version": "3.11.4"
    }
  },
  "nbformat": 4,
  "nbformat_minor": 0
}
