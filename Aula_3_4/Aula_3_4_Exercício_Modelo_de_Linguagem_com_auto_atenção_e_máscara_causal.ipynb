{
  "cells": [
    {
      "cell_type": "markdown",
      "metadata": {
        "id": "fMI0JT_YuYF3"
      },
      "source": [
        "## Exercício: Modelo de Linguagem com auto-atenção e máscaras causais\n",
        "\n",
        "Seguimos na mesma linha de treinar um modelo de linguagem a partir dos textos do livro \"O Guarani\", de José de Alencar.\n",
        "\n",
        "Neste exercício, vamos treinar um modelo de linguagem com auto-atenção e com máscara causal. A máscara causal é necessária para que o modelo não tenha acesso a palavras futuras, que é a abordagem usada por grandes modelos de linguagem, como o GPT.\n",
        "\n",
        "Use a implementação matricial de auto-atenção da aula passada.\n",
        "\n",
        "### Modificações necessárias\n",
        "\n",
        "* Adicione a máscara causal na função `forward` da cabeça de auto-atenção.\n",
        "* Modifique o nosso dataloader para retornar inputs (uma lista de tokens de tamanho $n$), targets (uma lista de tokens de tamanho $n$ deslocada para a esquerda em 1 token). Exemplo `input = [1, 2, 3, 4]`, `target = [2, 3, 4, 5]` para a sequência `[1, 2, 3, 4, 5]` com `seq_len=4`, por exemplo (Ver slide 50).\n",
        "\n",
        "### Extra\n",
        "* MultiHeadAttention: modifique a cabeça de auto-atenção para ter múltiplas cabeças. Isso não é obrigatório, mas pode ser interessante para ver como o modelo se comporta.\n",
        "* Diagrama da geração: fazer diagrama que mostre os passos da geração de tokens (conforme slide 47).\n",
        "\n",
        "### Dicas\n",
        "\n",
        "* Use como base o vídeo do Karpathy: https://www.youtube.com/watch?v=kCc8FmEb1nY. Observe que, no vídeo, ele primeiro implementa um modelo bi-grama, depois um modelo de linguagem com auto-atenção. O modelo de auto-atenção é implementado por volta do minuto 40, mas vale a pena assistir o vídeo todo.\n",
        "* Use esta implementação como base: https://colab.research.google.com/drive/1vFTg4MSXVJwNSzPjaCcvmqhxTP7gK7HA?usp=sharing. Observe como o modelo é organizado e como a máscara é implementada na classe MultiHeadAttention.\n",
        "* Use `context_size=9`"
      ]
    },
    {
      "cell_type": "markdown",
      "metadata": {},
      "source": [
        "## Imports"
      ]
    },
    {
      "cell_type": "code",
      "execution_count": 1,
      "metadata": {},
      "outputs": [],
      "source": [
        "import os\n",
        "import sys\n",
        "import random\n",
        "import torch\n",
        "import torch.nn as nn\n",
        "import torch.nn.functional as F\n",
        "import time\n",
        "import math\n",
        "import re\n",
        "from sklearn.model_selection import train_test_split\n",
        "from torch import nn\n",
        "from torch.utils.data import Dataset, DataLoader\n",
        "from collections import Counter"
      ]
    },
    {
      "cell_type": "markdown",
      "metadata": {},
      "source": [
        "## Variáveis Globais e Inicialização"
      ]
    },
    {
      "cell_type": "code",
      "execution_count": 2,
      "metadata": {},
      "outputs": [
        {
          "name": "stdout",
          "output_type": "stream",
          "text": [
            "cuda\n"
          ]
        }
      ],
      "source": [
        "# Global variables\n",
        "\n",
        "# Vocabulary\n",
        "vocab_size = 10000\n",
        "seq_len = 9\n",
        "pattern = r'\\w+|[,;.:!?\\']'\n",
        "\n",
        "# Training\n",
        "batch_size = 64\n",
        "epochs = 10\n",
        "lr = 0.0001\n",
        "\n",
        "# Model\n",
        "embedding_dim = 64\n",
        "dropout_rate = 0.2\n",
        "\n",
        "# Colab environment\n",
        "IN_COLAB = 'google.colab' in sys.modules\n",
        "\n",
        "if (IN_COLAB):\n",
        "    %pip install colorama\n",
        "\n",
        "    # Google Drive\n",
        "    from google.colab import drive\n",
        "    drive.mount('/content/drive', force_remount=True)\n",
        "\n",
        "    project_folder=\"/content/drive/MyDrive/Classes/IA024/Aula_2_3\"\n",
        "    os.chdir(project_folder)\n",
        "    !ls -la\n",
        "\n",
        "device = 'cuda' if torch.cuda.is_available() else 'cpu'\n",
        "print(device)"
      ]
    },
    {
      "cell_type": "markdown",
      "metadata": {
        "id": "bYbkEzdD37sZ"
      },
      "source": [
        "## Faz download e carrega o dataset"
      ]
    },
    {
      "cell_type": "code",
      "execution_count": 3,
      "metadata": {
        "colab": {
          "base_uri": "https://localhost:8080/"
        },
        "id": "9qAnqY_q0beK",
        "outputId": "f810fdb0-138d-4917-b7ef-69ab266acef6"
      },
      "outputs": [],
      "source": [
        "# Check if download is necessary\n",
        "if not os.path.exists(\"67724.txt.utf-8\"):\n",
        "    print(\"Downloading Gutenberg texts\")\n",
        "\n",
        "    !wget https://www.gutenberg.org/ebooks/67724.txt.utf-8\n",
        "    !wget https://www.gutenberg.org/ebooks/67725.txt.utf-8"
      ]
    },
    {
      "cell_type": "code",
      "execution_count": 4,
      "metadata": {
        "colab": {
          "base_uri": "https://localhost:8080/"
        },
        "id": "6_UzC9pV091C",
        "outputId": "1553b04f-24c4-4027-8cab-0907f92f04df"
      },
      "outputs": [
        {
          "data": {
            "text/plain": [
              "4969"
            ]
          },
          "execution_count": 4,
          "metadata": {},
          "output_type": "execute_result"
        }
      ],
      "source": [
        "text = open(\"67724.txt.utf-8\",\"r\").read()\n",
        "text += open(\"67725.txt.utf-8\",\"r\").read()\n",
        "\n",
        "paragraphs = text.split(\"\\n\\n\")\n",
        "\n",
        "len(paragraphs)"
      ]
    },
    {
      "cell_type": "code",
      "execution_count": 5,
      "metadata": {
        "colab": {
          "base_uri": "https://localhost:8080/"
        },
        "id": "UhUFjtNdDuG0",
        "outputId": "78798c0c-deca-4454-d3fb-7d3ba70f3e91"
      },
      "outputs": [
        {
          "name": "stdout",
          "output_type": "stream",
          "text": [
            "The Project Gutenberg eBook of O Guarany: romance brazileiro, Vol. 1 (of 2)\n",
            "    \n",
            "This ebook is for the use of anyone anywhere in the United States and\n",
            "most other parts of the world at no cost and with almost no restrictions\n",
            "whatsoever. You may copy it, give it away or re-use it under the terms\n",
            "of the Project Gutenberg License included with this ebook or online\n",
            "at www.gutenberg.org. If you are not located in the United States,\n",
            "you will have to check the laws of the country where you are located\n",
            "before using this eBook.\n"
          ]
        }
      ],
      "source": [
        "# Checking the text\n",
        "print(paragraphs[0])"
      ]
    },
    {
      "cell_type": "code",
      "execution_count": 6,
      "metadata": {},
      "outputs": [
        {
          "name": "stdout",
          "output_type": "stream",
          "text": [
            "--Agora deixai a tristeza; quero-vos risonhos; eu o estou, vêde! A tranquillidade sobre o futuro vai remoçar-me de novo; e esperareis muito tempo talvez, antes que tenhais de executar a minha vontade, que até lá fica sepultada no vosso coração, como testamento que é.\n",
            "\n",
            "Loredano foi o primeiro; apenas tocou o chão, ergueu-se com extraordinaria rapidez, e seguido pelos seus companheiros caminhou direito ao gabinete onde se achava recolhida a familia.\n",
            "\n",
            "Consolava-o porém essa esperança que estava prestes a realisar-se; esse gozo ineffavel de salvar sua senhora, e de deixa-la feliz no seio de sua familia, protegida pelo amor de Alvaro.\n",
            "\n",
            "--Meu pãi, dizei-me o que significa _Cecy_ nessa lingua selvagem que fallais.\n",
            "\n",
            "Assim, apenas deo o primeiro passo sobre a ponte improvisada, o italiano mio se descuidou de estender o braço e agarrar a ponta da corda, que logo atou á cintura: então se o apoio lhe faltasse ficaria suspenso no ar, e, embora com mais difficuldade, realisaria o seu intento.\n",
            "\n",
            "Number of paragraphs: 4892\n"
          ]
        },
        {
          "data": {
            "text/plain": [
              "4892"
            ]
          },
          "execution_count": 6,
          "metadata": {},
          "output_type": "execute_result"
        }
      ],
      "source": [
        "cleaned_paragraphs = [paragraph.replace(\"\\n\", \" \") for paragraph in paragraphs if paragraph.strip()]\n",
        "\n",
        "# Print 5 random paragraphs\n",
        "num_paragraphs = len(cleaned_paragraphs)\n",
        "for i in range(0,5):\n",
        "    idx = random.randrange(num_paragraphs)\n",
        "    print(f\"{cleaned_paragraphs[idx]}\\n\")\n",
        "\n",
        "print(\"Number of paragraphs: \" + str(num_paragraphs))\n",
        "\n",
        "len(cleaned_paragraphs)"
      ]
    },
    {
      "cell_type": "markdown",
      "metadata": {
        "id": "bFVN2ihb33Rf"
      },
      "source": [
        "## Análise do dataset"
      ]
    },
    {
      "cell_type": "code",
      "execution_count": 7,
      "metadata": {
        "colab": {
          "base_uri": "https://localhost:8080/"
        },
        "id": "qSRHqe3H4ZFw",
        "outputId": "4a985c7a-ce1d-4b72-d253-c9fbbc5f9440"
      },
      "outputs": [
        {
          "data": {
            "text/plain": [
              "12603"
            ]
          },
          "execution_count": 7,
          "metadata": {},
          "output_type": "execute_result"
        }
      ],
      "source": [
        "# Conta as palavras no dataset\n",
        "def count_words(texts):\n",
        "    word_counts = Counter()\n",
        "    for text in texts:\n",
        "        word_counts.update(re.findall(r'\\w+', text.lower()))\n",
        "    return word_counts\n",
        "\n",
        "word_counts = count_words(cleaned_paragraphs)\n",
        "\n",
        "len(word_counts)"
      ]
    },
    {
      "cell_type": "markdown",
      "metadata": {
        "id": "EyGVDL9KzJ_I"
      },
      "source": [
        "## Criando um vocabulário"
      ]
    },
    {
      "cell_type": "code",
      "execution_count": 8,
      "metadata": {
        "id": "FiP7OCo9zJ_I"
      },
      "outputs": [],
      "source": [
        "most_frequent_words = [word for word, count in word_counts.most_common(vocab_size)]\n",
        "vocab = {word: i for i, word in enumerate(most_frequent_words, 1)}"
      ]
    },
    {
      "cell_type": "code",
      "execution_count": 9,
      "metadata": {
        "colab": {
          "base_uri": "https://localhost:8080/"
        },
        "id": "RhbhAsZbzJ_J",
        "outputId": "6a53c9e0-308d-4082-e225-cfa376e8f39a"
      },
      "outputs": [
        {
          "name": "stdout",
          "output_type": "stream",
          "text": [
            " Publicando este livro em 1857, se disse ser aquella primeira edição uma prova typographica, que algum dia talvez o autor se dispuzesse a rever.\n",
            "[6594, 139, 4376, 19, 6595, 0, 6, 44, 110, 269, 259, 2662, 10, 1064, 6596, 0, 2, 186, 130, 280, 3, 2257, 6, 6597, 1, 2665, 0]\n"
          ]
        }
      ],
      "source": [
        "def encode_sentence(sentence, vocab):\n",
        "    return [vocab.get(word, 0) for word in re.findall(pattern, sentence.lower())]\n",
        "\n",
        "print(cleaned_paragraphs[20])\n",
        "print(encode_sentence(cleaned_paragraphs[20], vocab))"
      ]
    },
    {
      "cell_type": "markdown",
      "metadata": {
        "id": "wia_ygbvzJ_J"
      },
      "source": [
        "## Classe do dataset"
      ]
    },
    {
      "cell_type": "markdown",
      "metadata": {},
      "source": [
        "### Dataset Modificado para Máscara Causal\n",
        "\n",
        "Modifique o nosso dataloader para retornar inputs (uma lista de tokens de tamanho $n$), targets (uma lista de tokens de tamanho $n$ deslocada para a esquerda em 1 token). Exemplo `input = [1, 2, 3, 4]`, `target = [2, 3, 4, 5]` para a sequência `[1, 2, 3, 4, 5]` com `seq_len=4`, por exemplo (Ver slide 50)."
      ]
    },
    {
      "cell_type": "code",
      "execution_count": 10,
      "metadata": {},
      "outputs": [],
      "source": [
        "# Dataset class\n",
        "import torch\n",
        "from torch.utils.data import Dataset, DataLoader\n",
        "\n",
        "class CausalMaskDataset(Dataset):\n",
        "  def __init__(self, paragraphs, vocab, seq_len):\n",
        "    self.paragraphs = paragraphs\n",
        "    self.vocab = vocab\n",
        "    self.seq_len = seq_len\n",
        "    self.tokens, self.targets = self.setup()\n",
        "\n",
        "  def __len__(self):\n",
        "    return len(self.tokens)\n",
        "\n",
        "  def __getitem__(self, idx):\n",
        "    tokens = torch.tensor(self.tokens[idx])\n",
        "    targets = torch.tensor(self.targets[idx])\n",
        "    return tokens, targets\n",
        "  \n",
        "  def setup(self):\n",
        "    tokens = []\n",
        "    targets = []\n",
        "    for paragraph in self.paragraphs:\n",
        "      encoded = encode_sentence(paragraph, self.vocab)\n",
        "      \n",
        "      # If paragraph is smaller than the sequence length, skip it.\n",
        "      if len(encoded) < self.seq_len + 1:\n",
        "          continue\n",
        "\n",
        "      for i in range(len(encoded) - self.seq_len):\n",
        "        tks = encoded[i:i+self.seq_len]\n",
        "        # Return targets with seq_len instead of a single one.\n",
        "        tgt = encoded[i+1:i+1+self.seq_len]\n",
        "        # Only add if there are no unknown tokens in both context and target.\n",
        "        bad_token = 0\n",
        "        if not (bad_token in tks or tgt == bad_token):\n",
        "          tokens.append(tks)\n",
        "          targets.append(tgt)\n",
        "    return tokens, targets"
      ]
    },
    {
      "cell_type": "markdown",
      "metadata": {},
      "source": [
        "#### Verificação básica do Dataset modificado"
      ]
    },
    {
      "cell_type": "code",
      "execution_count": 11,
      "metadata": {},
      "outputs": [
        {
          "name": "stdout",
          "output_type": "stream",
          "text": [
            "Input and Target Tensors:\n"
          ]
        },
        {
          "data": {
            "text/plain": [
              "(tensor([133,  47, 712, 144, 537, 324, 275,  35, 499]),\n",
              " tensor([ 47, 712, 144, 537, 324, 275,  35, 499,  47]))"
            ]
          },
          "execution_count": 11,
          "metadata": {},
          "output_type": "execute_result"
        }
      ],
      "source": [
        "tst_paragraphs = cleaned_paragraphs[:50]\n",
        "tst_seq_len = 9\n",
        "tst_dataset = CausalMaskDataset(tst_paragraphs, vocab, tst_seq_len)\n",
        "\n",
        "print(\"Input and Target Tensors:\")\n",
        "tst_dataset[0]\n"
      ]
    },
    {
      "cell_type": "markdown",
      "metadata": {},
      "source": [
        "### Verificação do Dataset"
      ]
    },
    {
      "cell_type": "code",
      "execution_count": 12,
      "metadata": {
        "id": "y1aetOpmDeQd"
      },
      "outputs": [
        {
          "name": "stdout",
          "output_type": "stream",
          "text": [
            "Training samples: 3913\n",
            "Validation samples: 979\n",
            "\n",
            "Training dataset samples: 15993\n",
            "Validation dataset samples: 4197\n"
          ]
        }
      ],
      "source": [
        "# Train/Validation split\n",
        "train_data, val_data = train_test_split(cleaned_paragraphs, test_size=0.2, random_state=18)\n",
        "\n",
        "train_dataset = CausalMaskDataset(train_data, vocab, seq_len)\n",
        "val_dataset = CausalMaskDataset(val_data, vocab, seq_len)\n",
        "\n",
        "# Counting all Samples\n",
        "print(f\"Training samples: {len(train_data)}\")\n",
        "print(f\"Validation samples: {len(val_data)}\")\n",
        "print()\n",
        "print(f\"Training dataset samples: {len(train_dataset)}\")\n",
        "print(f\"Validation dataset samples: {len(val_dataset)}\")"
      ]
    },
    {
      "cell_type": "code",
      "execution_count": 13,
      "metadata": {
        "colab": {
          "base_uri": "https://localhost:8080/"
        },
        "id": "aD1CVci2zJ_J",
        "outputId": "5bf0839e-f30e-4ff2-ed6f-4f3fda782b7c"
      },
      "outputs": [
        {
          "name": "stdout",
          "output_type": "stream",
          "text": [
            "[tensor([[   3,    2,  361,   30,   61,    8,  154, 2670,    1],\n",
            "        [2163,    3,    1,  219,    4,    2,    1, 1903,   19],\n",
            "        [   1, 5568, 4889,    4, 1465,   31,   10,   45, 9878],\n",
            "        [ 198,  123,  846,   26,  853,    3,   16, 2507, 2547],\n",
            "        [   3,   60,   28, 2182,    5, 3430,   21,   74,   12],\n",
            "        [ 970,  251,    5,    2,  176, 2129,  327,  552,   19],\n",
            "        [   2,   12, 1087,    6, 6915,   11, 3455,    2, 1555],\n",
            "        [  46,    1,  266,   21,    2, 4731,   19,  297,    4],\n",
            "        [ 993,    6, 1067,    2,    3,   37,  437,  186, 2628],\n",
            "        [ 711,   47,   35, 2225,  334,  184,   85, 1156,  275],\n",
            "        [  63,   40,  901,   28,    2,   57,    9,    3, 2095],\n",
            "        [9079,    5, 2681, 9080,  203, 9081,    8,  517,  679],\n",
            "        [   2,  162,   12, 4469,  690,   64,    4, 9717,   10],\n",
            "        [  11,   61,    5,    3,  112,    4,  125,    1,  172],\n",
            "        [2733,    4, 3419,    5,    4,  215,   12, 4492, 6882],\n",
            "        [3227,  325,    1, 5760,   47, 3228,   85,  708,    8],\n",
            "        [  11,  197,   15,  147,   29,    2, 1825,    6,   22],\n",
            "        [ 430, 2194,  587,   83,  985,  109,  184, 3219,  141],\n",
            "        [  10, 2179,    4, 1299,    5, 1761,    2, 9356,   12],\n",
            "        [   2,   31,  149,    4,  365, 2422, 8168,    1,   14],\n",
            "        [   5, 1486,    1, 4073,    3,  782,    4, 1412,   22],\n",
            "        [   1,  692,    5,    7,  195,    4, 1380, 5414, 9642],\n",
            "        [5228,    6,  491,   96,    9,  962,    3,   95,  788],\n",
            "        [1274,   27,  116,    3,  470, 6861,    4, 4481,  351],\n",
            "        [  10, 3545, 1646,    9, 1473, 2466,   12,   39,  140],\n",
            "        [ 215,   18, 1057, 5728,    6,   32,    3,  115,    4],\n",
            "        [ 178,   24,    3,    2,   28,  249,   36,   78,   68],\n",
            "        [  89,  349,   14,   51,    5,  962,    3,  788,    2],\n",
            "        [  34,  216,   40,  609,    8,    2,   12,   49,    4],\n",
            "        [ 735,   96,    3,  286,    4,   88, 3006,    9, 8856],\n",
            "        [  34,  239,    1,  212,   45,  884,    6, 1039,    4],\n",
            "        [ 494,    4,  619, 1870,   22,  242,    2, 9547,  965],\n",
            "        [1713,   97,  484,   79, 6005, 6006, 2210, 1706,   47],\n",
            "        [2105, 1460,    5, 5470,    2,  531,    8,  214,    8],\n",
            "        [  30, 6908,   36,  829,    5, 6909,    4,  189,    1],\n",
            "        [   7,   60,    9,  598, 9220,  506,    1,   14,  380],\n",
            "        [ 227,   28,   48,    2,   62, 5609,   93,  235,    8],\n",
            "        [5426,    6,  693,   21,  925,    8,  679,    3,  746],\n",
            "        [ 464,    8, 5746, 3212,  109,   35,  463,  375,  141],\n",
            "        [ 108,  110,  255,   75,  695,    4,   10,  206, 3024],\n",
            "        [  21,  293,    4,    7,   80,    2,    9,  937,   26],\n",
            "        [  17, 1965,    2,  337, 1097,  316,   10, 2940, 4869],\n",
            "        [4617,  159,   12, 1025,  688,   93,  191,   15, 3541],\n",
            "        [   4,   10, 2810,   11, 1475, 4219,    2,   24,  662],\n",
            "        [  20,   69,   19,    2,   62,    4,  213, 3937,    1],\n",
            "        [  77,   72,  233,    6,   22,  755,    4, 1861,    1],\n",
            "        [  10,  157, 1042, 1278, 9325,    6,   32,    1,  658],\n",
            "        [   3,  115,   27,   63,   20,  155,    1,  359,    4],\n",
            "        [1166,    2,    6, 5072,    1,  181,  408,   32,    1],\n",
            "        [ 899,   15,    1,   61,    2,    6,  667,   22,  209],\n",
            "        [  85,  820,  930,   79, 1506,   35,  677,   47,   35],\n",
            "        [   2,    3,  243, 2966,   30,   92,   15, 6313,    3],\n",
            "        [ 352,  143, 9458,   13,    3,  369,    4,    7,  582],\n",
            "        [  35,  558,   67,   59,  395,  333,  482,  144,  148],\n",
            "        [ 152,  944,    3,   73, 1523,   20,  443,    4,   14],\n",
            "        [5968, 5969,  877,   35,   67,   59,  559,  560,  304],\n",
            "        [ 581,    8,  214,    8, 9084,   12, 9085,   45, 9086],\n",
            "        [  35, 1709,  325,  109,   35, 2208, 3230,  109,   35],\n",
            "        [  10, 1847,    1,  298,  189, 5170, 2475,   53, 1674],\n",
            "        [ 515,   12,   49,   22,  803,    4,  245,    5,  508],\n",
            "        [ 121,    4,   43,   15, 1502,  118, 6118,   75,  489],\n",
            "        [ 192,   28,    1,  219,    4,    2,   99,  383,    2],\n",
            "        [  35,  463,  375,  872, 2192,  184, 1720,   83, 5799],\n",
            "        [2624,    4, 4792,    5, 2030,    5,  128,    4,   87]]), tensor([[   2,  361,   30,   61,    8,  154, 2670,    1, 1492],\n",
            "        [   3,    1,  219,    4,    2,    1, 1903,   19,    2],\n",
            "        [5568, 4889,    4, 1465,   31,   10,   45, 9878,   45],\n",
            "        [ 123,  846,   26,  853,    3,   16, 2507, 2547,    0],\n",
            "        [  60,   28, 2182,    5, 3430,   21,   74,   12,   68],\n",
            "        [ 251,    5,    2,  176, 2129,  327,  552,   19,    2],\n",
            "        [  12, 1087,    6, 6915,   11, 3455,    2, 1555,   26],\n",
            "        [   1,  266,   21,    2, 4731,   19,  297,    4, 4510],\n",
            "        [   6, 1067,    2,    3,   37,  437,  186, 2628, 2544],\n",
            "        [  47,   35, 2225,  334,  184,   85, 1156,  275,  465],\n",
            "        [  40,  901,   28,    2,   57,    9,    3, 2095,   13],\n",
            "        [   5, 2681, 9080,  203, 9081,    8,  517,  679, 1232],\n",
            "        [ 162,   12, 4469,  690,   64,    4, 9717,   10,  664],\n",
            "        [  61,    5,    3,  112,    4,  125,    1,  172,    1],\n",
            "        [   4, 3419,    5,    4,  215,   12, 4492, 6882,  690],\n",
            "        [ 325,    1, 5760,   47, 3228,   85,  708,    8,  141],\n",
            "        [ 197,   15,  147,   29,    2, 1825,    6,   22,  100],\n",
            "        [2194,  587,   83,  985,  109,  184, 3219,  141, 1370],\n",
            "        [2179,    4, 1299,    5, 1761,    2, 9356,   12,   39],\n",
            "        [  31,  149,    4,  365, 2422, 8168,    1,   14,  645],\n",
            "        [1486,    1, 4073,    3,  782,    4, 1412,   22,  208],\n",
            "        [ 692,    5,    7,  195,    4, 1380, 5414, 9642,  215],\n",
            "        [   6,  491,   96,    9,  962,    3,   95,  788,    0],\n",
            "        [  27,  116,    3,  470, 6861,    4, 4481,  351,    0],\n",
            "        [3545, 1646,    9, 1473, 2466,   12,   39,  140, 3554],\n",
            "        [  18, 1057, 5728,    6,   32,    3,  115,    4,   91],\n",
            "        [  24,    3,    2,   28,  249,   36,   78,   68,    0],\n",
            "        [ 349,   14,   51,    5,  962,    3,  788,    2,   27],\n",
            "        [ 216,   40,  609,    8,    2,   12,   49,    4,  589],\n",
            "        [  96,    3,  286,    4,   88, 3006,    9, 8856,    1],\n",
            "        [ 239,    1,  212,   45,  884,    6, 1039,    4,  474],\n",
            "        [   4,  619, 1870,   22,  242,    2, 9547,  965,   15],\n",
            "        [  97,  484,   79, 6005, 6006, 2210, 1706,   47, 6007],\n",
            "        [1460,    5, 5470,    2,  531,    8,  214,    8,  790],\n",
            "        [6908,   36,  829,    5, 6909,    4,  189,    1, 4501],\n",
            "        [  60,    9,  598, 9220,  506,    1,   14,  380,  366],\n",
            "        [  28,   48,    2,   62, 5609,   93,  235,    8,  113],\n",
            "        [   6,  693,   21,  925,    8,  679,    3,  746, 3075],\n",
            "        [   8, 5746, 3212,  109,   35,  463,  375,  141,  984],\n",
            "        [ 110,  255,   75,  695,    4,   10,  206, 3024,    2],\n",
            "        [ 293,    4,    7,   80,    2,    9,  937,   26,   14],\n",
            "        [1965,    2,  337, 1097,  316,   10, 2940, 4869,    2],\n",
            "        [ 159,   12, 1025,  688,   93,  191,   15, 3541,   24],\n",
            "        [  10, 2810,   11, 1475, 4219,    2,   24,  662,    4],\n",
            "        [  69,   19,    2,   62,    4,  213, 3937,    1,   99],\n",
            "        [  72,  233,    6,   22,  755,    4, 1861,    1, 4948],\n",
            "        [ 157, 1042, 1278, 9325,    6,   32,    1,  658,    8],\n",
            "        [ 115,   27,   63,   20,  155,    1,  359,    4,  911],\n",
            "        [   2,    6, 5072,    1,  181,  408,   32,    1, 1132],\n",
            "        [  15,    1,   61,    2,    6,  667,   22,  209,   32],\n",
            "        [ 820,  930,   79, 1506,   35,  677,   47,   35, 1507],\n",
            "        [   3,  243, 2966,   30,   92,   15, 6313,    3,  457],\n",
            "        [ 143, 9458,   13,    3,  369,    4,    7,  582, 1981],\n",
            "        [ 558,   67,   59,  395,  333,  482,  144,  148,    0],\n",
            "        [ 944,    3,   73, 1523,   20,  443,    4,   14,   51],\n",
            "        [5969,  877,   35,   67,   59,  559,  560,  304,   97],\n",
            "        [   8,  214,    8, 9084,   12, 9085,   45, 9086,    0],\n",
            "        [1709,  325,  109,   35, 2208, 3230,  109,   35,  463],\n",
            "        [1847,    1,  298,  189, 5170, 2475,   53, 1674,    0],\n",
            "        [  12,   49,   22,  803,    4,  245,    5,  508,    7],\n",
            "        [   4,   43,   15, 1502,  118, 6118,   75,  489,    5],\n",
            "        [  28,    1,  219,    4,    2,   99,  383,    2, 5405],\n",
            "        [ 463,  375,  872, 2192,  184, 1720,   83, 5799,    0],\n",
            "        [   4, 4792,    5, 2030,    5,  128,    4,   87,  107]])]\n"
          ]
        }
      ],
      "source": [
        "train_loader = DataLoader(train_dataset, batch_size=batch_size, shuffle=True)\n",
        "val_loader = DataLoader(val_dataset, batch_size=batch_size, shuffle=True)\n",
        "\n",
        "sample = next(iter(train_loader))\n",
        "print(sample)"
      ]
    },
    {
      "cell_type": "markdown",
      "metadata": {
        "id": "-5_-Yud0zJ_K"
      },
      "source": [
        "### Implementação do Modelo com Máscara Causal"
      ]
    },
    {
      "cell_type": "code",
      "execution_count": 14,
      "metadata": {},
      "outputs": [],
      "source": [
        "# Código baseado no tutorial do Andrej Karpathy https://github.com/karpathy/ng-video-lecture\n",
        "class Head(nn.Module):\n",
        "\n",
        "    def __init__(self, head_size, seq_len):\n",
        "        super(Head, self).__init__()\n",
        "        self.key = nn.Linear(embedding_dim, head_size, bias=False)\n",
        "        self.query = nn.Linear(embedding_dim, head_size, bias=False)\n",
        "        self.value = nn.Linear(embedding_dim, head_size, bias=False)\n",
        "        self.register_buffer('tril', torch.tril(torch.ones(seq_len, seq_len)))\n",
        "\n",
        "        self.dropout = nn.Dropout(dropout_rate)\n",
        "\n",
        "    def forward(self, x):\n",
        "        B,T,C = x.shape\n",
        "        k = self.key(x)   # (B,T,C)\n",
        "        q = self.query(x) # (B,T,C)\n",
        "\n",
        "        # compute attention scores (\"affinities\")\n",
        "        wei = q @ k.transpose(-2,-1) * C**-0.5 # (B, T, C) @ (B, C, T) -> (B, T, T)\n",
        "\n",
        "        wei = wei.masked_fill(self.tril[:T, :T] == 0, float('-inf')) # (B, T, T)\n",
        "\n",
        "        wei = F.softmax(wei, dim=-1) # (B, T, T)\n",
        "\n",
        "        wei = self.dropout(wei)\n",
        "\n",
        "        # perform the weighted aggregation of the values\n",
        "        v = self.value(x) # (B,T,C)\n",
        "        out = wei @ v # (B, T, T) @ (B, T, C) -> (B, T, C)\n",
        "\n",
        "        return out\n",
        "    \n",
        "class FeedForward(nn.Module):\n",
        "    \"\"\" a simple linear layer followed by a non-linearity \"\"\"\n",
        "\n",
        "    def __init__(self, embedding_dim):\n",
        "        super(FeedForward, self).__init__()\n",
        "        self.net = nn.Sequential(\n",
        "            nn.Linear(embedding_dim, 4 * embedding_dim),\n",
        "            nn.ReLU(),\n",
        "            nn.Linear(4 * embedding_dim, embedding_dim),\n",
        "            nn.Dropout(dropout_rate),\n",
        "        )\n",
        "\n",
        "    def forward(self, x):\n",
        "        return self.net(x)\n",
        "    \n",
        "class KarpathyModel(torch.nn.Module):\n",
        "    def __init__(self, vocab_size, embedding_dim, seq_len):\n",
        "      super(KarpathyModel, self).__init__()\n",
        "    \n",
        "      # Embedding\n",
        "      self.embedding = nn.Embedding(vocab_size+1, embedding_dim)\n",
        "      # Positional Embedding (simpler?)\n",
        "      self.positional_embedding = nn.Embedding(seq_len, embedding_dim)\n",
        "      # Single Head Attention\n",
        "      self.attention = Head(embedding_dim, seq_len)\n",
        "      # Projection\n",
        "      self.WO = nn.Linear(embedding_dim, embedding_dim)\n",
        "      # Linear Layers\n",
        "      self.ffwd = FeedForward(embedding_dim)\n",
        "\n",
        "      # Normalization Layers\n",
        "      self.ln_attention = nn.LayerNorm(embedding_dim)\n",
        "      self.ln_ffwd = nn.LayerNorm(embedding_dim)\n",
        "      self.ln_f = nn.LayerNorm(embedding_dim) # final layer norm\n",
        "\n",
        "      self.lm_head = nn.Linear(embedding_dim, vocab_size+1)\n",
        "      self.dropout = nn.Dropout(dropout_rate)\n",
        "\n",
        "    def forward(self, input):\n",
        "      B,T = input.shape\n",
        "      # idx and targets are both (B,T) tensor of integers\n",
        "      embedding_input = self.embedding(input) # (B,T,C)\n",
        "      positions = self.positional_embedding(torch.arange(T, device=device)) # (T,C)\n",
        "      x = embedding_input + positions # (B,T,C)\n",
        "      # Auto Atenção\n",
        "      attention = self.ln_attention(x)\n",
        "      attention = self.attention(attention)\n",
        "      attention = self.WO(attention)\n",
        "      attention = self.dropout(attention)\n",
        "      x = x + attention\n",
        "      # MLP\n",
        "      ffwd = self.ln_ffwd(x)\n",
        "      ffwd = self.ffwd(ffwd)\n",
        "\n",
        "      x = x + ffwd\n",
        "      # Camada de saida\n",
        "      x = self.ln_f(x)\n",
        "      logits = self.lm_head(x)\n",
        "\n",
        "      return logits\n",
        "\n",
        "    def generate(self, idx, max_new_tokens=10, seq_len=9):\n",
        "      # idx is (B, T) array of indices in the current context\n",
        "      for _ in range(max_new_tokens):\n",
        "          # crop idx to the last block_size tokens\n",
        "          idx_cond = idx[:, -seq_len:]\n",
        "          # get the predictions\n",
        "          logits = self(idx_cond)\n",
        "          # focus only on the last time step\n",
        "          logits = logits[:, -1, :] # becomes (B, C)\n",
        "          # apply softmax to get probabilities\n",
        "          probs = F.softmax(logits, dim=-1) # (B, C)\n",
        "          #Extraido do Ramon Simoes --> Excluir o token <unk> (codificado como 0) atribuindo probabilidade zero\n",
        "          probs[:,0] = 0.0\n",
        "          probs = probs / probs.sum(dim=-1, keepdim=True)\n",
        "          # sample from the distribution\n",
        "          idx_next = torch.multinomial(probs, num_samples=1) # (B, 1)\n",
        "          # append sampled index to the running sequence\n",
        "          idx = torch.cat((idx, idx_next), dim=1) # (B, T+1)\n",
        "      return idx"
      ]
    },
    {
      "cell_type": "markdown",
      "metadata": {},
      "source": [
        "## Treinamento e Avaliação"
      ]
    },
    {
      "cell_type": "markdown",
      "metadata": {},
      "source": [
        "### Funções de Treinamento e Avaliação"
      ]
    },
    {
      "cell_type": "markdown",
      "metadata": {},
      "source": [
        "#### Contagem de Parâmetros do Modelo"
      ]
    },
    {
      "cell_type": "code",
      "execution_count": 15,
      "metadata": {},
      "outputs": [],
      "source": [
        "def count_parameters(model):\n",
        "    total_params = sum(p.numel() for p in model.parameters() if p.requires_grad)\n",
        "    print(f'The model has a total of {total_params:,} parameters.')"
      ]
    },
    {
      "cell_type": "markdown",
      "metadata": {},
      "source": [
        "#### Avaliação Inicial Pré-Treinamento"
      ]
    },
    {
      "cell_type": "code",
      "execution_count": 16,
      "metadata": {
        "id": "7yjQ1KXOzJ_K"
      },
      "outputs": [],
      "source": [
        "def initial_eval(model, criterion, device):\n",
        "    # Initial Perplexity and Loss\n",
        "    # Before training\n",
        "    model.eval()\n",
        "\n",
        "    loss = 0\n",
        "    perp = 0\n",
        "\n",
        "    with torch.no_grad():\n",
        "        for inputs, targets in train_loader:\n",
        "            inputs = inputs.to(device)\n",
        "            targets = targets.to(device)\n",
        "\n",
        "            logits = model(inputs)\n",
        "            B, T, C = logits.shape\n",
        "            logits = logits.view(B*T, C)\n",
        "            targets = targets.view(B*T)\n",
        "\n",
        "            loss += criterion(logits, targets)\n",
        "            \n",
        "    loss /= len(train_loader)\n",
        "\n",
        "    perp = torch.exp(loss)\n",
        "\n",
        "    print(f'Initial Loss: {loss:.4f}')\n",
        "    print(f'Initial Perplexity: {perp:.4f}')"
      ]
    },
    {
      "cell_type": "markdown",
      "metadata": {},
      "source": [
        "#### Função de Treinamento"
      ]
    },
    {
      "cell_type": "code",
      "execution_count": 17,
      "metadata": {},
      "outputs": [],
      "source": [
        "def train(model, criterion, optimizer, device):\n",
        "      # Training Loop\n",
        "      model.train()\n",
        "      for epoch in range(epochs):\n",
        "\n",
        "            epoch_start = time.time()\n",
        "            # Metrics\n",
        "            epoch_loss = 0\n",
        "            epoch_correct = 0\n",
        "            epoch_samples = 0\n",
        "\n",
        "            for inputs, targets in train_loader:\n",
        "                  inputs = inputs.to(device)  # Move input data to the device\n",
        "                  targets = targets.to(device)\n",
        "\n",
        "                  # Forward pass\n",
        "                  logits = model(inputs)\n",
        "                  B, T, C = logits.shape\n",
        "                  logits = logits.view(B*T, C)\n",
        "                  targets = targets.view(B*T)\n",
        "                  loss = criterion(logits, targets)\n",
        "\n",
        "                  # Backward pass and optimization\n",
        "                  optimizer.zero_grad()\n",
        "                  loss.backward()\n",
        "                  optimizer.step()\n",
        "\n",
        "                  # Loss\n",
        "                  epoch_loss += loss.item()\n",
        "\n",
        "                  # Predicted\n",
        "                  _, predicted = torch.max(logits, 1)\n",
        "                  epoch_correct += (predicted == targets).sum().item()\n",
        "                  epoch_samples += targets.size(0)\n",
        "\n",
        "            # Calculate average loss and accuracy for epoch\n",
        "            avg_loss = epoch_loss / len(train_loader)\n",
        "            acc = epoch_correct / epoch_samples\n",
        "\n",
        "            # Perplexity\n",
        "            perp = torch.exp(torch.tensor(avg_loss))\n",
        "\n",
        "            epoch_end = time.time()\n",
        "            epoch_time = epoch_end - epoch_start\n",
        "            # Print epoch statistics\n",
        "            print(f'Epoch [{epoch+1}/{epochs}], Time:{epoch_time:.2f}, Loss: {avg_loss:.4f}, Accuracy: {acc:.2f}%, Perplexity: {perp:.4f}')\n"
      ]
    },
    {
      "cell_type": "markdown",
      "metadata": {},
      "source": [
        "#### Função de Avaliação do Modelo Treinado"
      ]
    },
    {
      "cell_type": "code",
      "execution_count": 18,
      "metadata": {},
      "outputs": [],
      "source": [
        "def eval(model, criterion, device):\n",
        "    model.eval()\n",
        "\n",
        "    loss_sum = 0\n",
        "    total_sum = 0\n",
        "    correct_sum = 0\n",
        "    eval_round = 0\n",
        "\n",
        "    loss = 0\n",
        "\n",
        "    with torch.no_grad():\n",
        "        for inputs, targets in val_loader:\n",
        "            inputs = inputs.to(device)\n",
        "            targets = targets.to(device)\n",
        "\n",
        "            logits = model(inputs)\n",
        "            B, T, C = logits.shape\n",
        "            logits = logits.view(B*T, C)\n",
        "            targets = targets.view(B*T)\n",
        "            loss = criterion(logits, targets)     \n",
        "\n",
        "            loss_sum += loss\n",
        "\n",
        "            # Get the predicted labels\n",
        "            _, predicted = torch.max(logits, 1)\n",
        "\n",
        "            total_sum += targets.size(0)\n",
        "            correct_sum += (predicted == targets).sum().item()\n",
        "            eval_round += 1\n",
        "\n",
        "    # Calculate accuracy\n",
        "    acc = 100 * correct_sum / total_sum\n",
        "\n",
        "    # Calculate average perplexity\n",
        "    average_loss = loss_sum / len(val_loader)\n",
        "    average_perplexity = torch.exp(average_loss)\n",
        "\n",
        "    print(f'Test Accuracy: {acc:.2f}%')\n",
        "    print(f'Average Loss: {average_loss:.2f}')\n",
        "    print(f'Average Perplexity: {average_perplexity:.2f}')"
      ]
    },
    {
      "cell_type": "markdown",
      "metadata": {},
      "source": [
        "### Avaliação Inicial"
      ]
    },
    {
      "cell_type": "code",
      "execution_count": 19,
      "metadata": {},
      "outputs": [
        {
          "name": "stdout",
          "output_type": "stream",
          "text": [
            "KarpathyModel(\n",
            "  (embedding): Embedding(10001, 64)\n",
            "  (positional_embedding): Embedding(9, 64)\n",
            "  (attention): Head(\n",
            "    (key): Linear(in_features=64, out_features=64, bias=False)\n",
            "    (query): Linear(in_features=64, out_features=64, bias=False)\n",
            "    (value): Linear(in_features=64, out_features=64, bias=False)\n",
            "    (dropout): Dropout(p=0.2, inplace=False)\n",
            "  )\n",
            "  (WO): Linear(in_features=64, out_features=64, bias=True)\n",
            "  (ffwd): FeedForward(\n",
            "    (net): Sequential(\n",
            "      (0): Linear(in_features=64, out_features=256, bias=True)\n",
            "      (1): ReLU()\n",
            "      (2): Linear(in_features=256, out_features=64, bias=True)\n",
            "      (3): Dropout(p=0.2, inplace=False)\n",
            "    )\n",
            "  )\n",
            "  (ln_attention): LayerNorm((64,), eps=1e-05, elementwise_affine=True)\n",
            "  (ln_ffwd): LayerNorm((64,), eps=1e-05, elementwise_affine=True)\n",
            "  (ln_f): LayerNorm((64,), eps=1e-05, elementwise_affine=True)\n",
            "  (lm_head): Linear(in_features=64, out_features=10001, bias=True)\n",
            "  (dropout): Dropout(p=0.2, inplace=False)\n",
            ")\n"
          ]
        }
      ],
      "source": [
        "model_attn = KarpathyModel(vocab_size, embedding_dim, seq_len)\n",
        "print(model_attn)"
      ]
    },
    {
      "cell_type": "code",
      "execution_count": 20,
      "metadata": {},
      "outputs": [
        {
          "name": "stdout",
          "output_type": "stream",
          "text": [
            "Model with Self Attention:\n",
            "\n",
            "The model has a total of 1,340,625 parameters.\n",
            "\n",
            "Initial Evaluation\n",
            "\n",
            "Initial Loss: 9.3613\n",
            "Initial Perplexity: 11629.9131\n"
          ]
        }
      ],
      "source": [
        "print(\"Model with Self Attention:\")\n",
        "print()\n",
        "count_parameters(model_attn)\n",
        "\n",
        "# Cross Entropy\n",
        "criterion = nn.CrossEntropyLoss()\n",
        "\n",
        "model_attn.to(device)\n",
        "\n",
        "print()\n",
        "print(\"Initial Evaluation\")\n",
        "print()\n",
        "initial_eval(model_attn, criterion, device)"
      ]
    },
    {
      "cell_type": "markdown",
      "metadata": {
        "id": "UngUhyu7zJ_L"
      },
      "source": [
        "### Treinamento do Modelo"
      ]
    },
    {
      "cell_type": "code",
      "execution_count": 21,
      "metadata": {
        "id": "vRwSPiwizJ_L"
      },
      "outputs": [
        {
          "name": "stdout",
          "output_type": "stream",
          "text": [
            "Model with Self Attention and Causal Mask:\n",
            "\n",
            "\n",
            "Training Start\n",
            "\n",
            "Epoch [1/10], Time:2.32, Loss: 8.6731, Accuracy: 0.02%, Perplexity: 5843.5894\n",
            "Epoch [2/10], Time:2.28, Loss: 7.2742, Accuracy: 0.03%, Perplexity: 1442.5869\n",
            "Epoch [3/10], Time:2.31, Loss: 6.7287, Accuracy: 0.05%, Perplexity: 836.0662\n",
            "Epoch [4/10], Time:2.25, Loss: 6.6030, Accuracy: 0.07%, Perplexity: 737.3250\n",
            "Epoch [5/10], Time:2.21, Loss: 6.5421, Accuracy: 0.07%, Perplexity: 693.7402\n",
            "Epoch [6/10], Time:2.24, Loss: 6.4641, Accuracy: 0.07%, Perplexity: 641.6706\n",
            "Epoch [7/10], Time:2.21, Loss: 6.3529, Accuracy: 0.08%, Perplexity: 574.1271\n",
            "Epoch [8/10], Time:2.28, Loss: 6.2210, Accuracy: 0.09%, Perplexity: 503.2281\n",
            "Epoch [9/10], Time:2.46, Loss: 6.0830, Accuracy: 0.10%, Perplexity: 438.3407\n",
            "Epoch [10/10], Time:2.30, Loss: 5.9445, Accuracy: 0.11%, Perplexity: 381.6386\n"
          ]
        }
      ],
      "source": [
        "print(\"Model with Self Attention and Causal Mask:\")\n",
        "print()\n",
        "\n",
        "# Cross Entropy\n",
        "criterion = nn.CrossEntropyLoss()\n",
        "\n",
        "# Optimizer\n",
        "optimizer = torch.optim.AdamW(model_attn.parameters(), lr)\n",
        "\n",
        "model_attn.to(device)\n",
        "\n",
        "print()\n",
        "print(\"Training Start\")\n",
        "print()\n",
        "train(model_attn, criterion, optimizer, device)"
      ]
    },
    {
      "cell_type": "markdown",
      "metadata": {
        "id": "PSXfwYISDoPN"
      },
      "source": [
        "### Avaliação do Modelo"
      ]
    },
    {
      "cell_type": "code",
      "execution_count": 22,
      "metadata": {},
      "outputs": [
        {
          "name": "stdout",
          "output_type": "stream",
          "text": [
            "\n",
            "Evaluation Start\n",
            "\n",
            "Test Accuracy: 9.98%\n",
            "Average Loss: 6.48\n",
            "Average Perplexity: 655.14\n"
          ]
        }
      ],
      "source": [
        "print()\n",
        "print(\"Evaluation Start\")\n",
        "print()\n",
        "eval(model_attn, criterion, device)"
      ]
    },
    {
      "cell_type": "markdown",
      "metadata": {
        "id": "A1zhxVqfzJ_M"
      },
      "source": [
        "## Exemplo de uso"
      ]
    },
    {
      "cell_type": "code",
      "execution_count": 23,
      "metadata": {},
      "outputs": [
        {
          "name": "stdout",
          "output_type": "stream",
          "text": [
            "E do as então ver rosto companheiros repente feito dever conheceu boa ataque profunda julgava complying feitas missão obtivera presinta.\n"
          ]
        }
      ],
      "source": [
        "# Simple decoder for tokens into a sentence\n",
        "def decode(tokens):\n",
        "  words = []\n",
        "  for key, value in vocab.items():\n",
        "    if value in tokens:\n",
        "      words.append(key)\n",
        "  \n",
        "  sentence = ' '.join(words)\n",
        "  sentence = sentence.capitalize() + '.'\n",
        "  return sentence\n",
        "\n",
        "seq = torch.zeros((1, 1), dtype=torch.long, device=device)\n",
        "tokens = model_attn.generate(seq, 20, seq_len)[0].tolist()\n",
        "print(decode(tokens))"
      ]
    }
  ],
  "metadata": {
    "accelerator": "GPU",
    "colab": {
      "gpuType": "T4",
      "provenance": []
    },
    "kernelspec": {
      "display_name": "ml_pytorch",
      "language": "python",
      "name": "python3"
    },
    "language_info": {
      "codemirror_mode": {
        "name": "ipython",
        "version": 3
      },
      "file_extension": ".py",
      "mimetype": "text/x-python",
      "name": "python",
      "nbconvert_exporter": "python",
      "pygments_lexer": "ipython3",
      "version": "3.12.2"
    }
  },
  "nbformat": 4,
  "nbformat_minor": 0
}
