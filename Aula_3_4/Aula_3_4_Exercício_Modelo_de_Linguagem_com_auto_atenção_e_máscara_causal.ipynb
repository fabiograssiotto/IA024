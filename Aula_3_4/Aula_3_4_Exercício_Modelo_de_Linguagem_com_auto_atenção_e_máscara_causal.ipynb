{
  "cells": [
    {
      "cell_type": "markdown",
      "metadata": {
        "id": "fMI0JT_YuYF3"
      },
      "source": [
        "## Exercício: Modelo de Linguagem com auto-atenção e máscaras causais\n",
        "\n",
        "Seguimos na mesma linha de treinar um modelo de linguagem a partir dos textos do livro \"O Guarani\", de José de Alencar.\n",
        "\n",
        "Neste exercício, vamos treinar um modelo de linguagem com auto-atenção e com máscara causal. A máscara causal é necessária para que o modelo não tenha acesso a palavras futuras, que é a abordagem usada por grandes modelos de linguagem, como o GPT.\n",
        "\n",
        "Use a implementação matricial de auto-atenção da aula passada.\n",
        "\n",
        "### Modificações necessárias\n",
        "\n",
        "* Adicione a máscara causal na função `forward` da cabeça de auto-atenção.\n",
        "* Modifique o nosso dataloader para retornar inputs (uma lista de tokens de tamanho $n$), targets (uma lista de tokens de tamanho $n$ deslocada para a esquerda em 1 token). Exemplo `input = [1, 2, 3, 4]`, `target = [2, 3, 4, 5]` para a sequência `[1, 2, 3, 4, 5]` com `seq_len=4`, por exemplo (Ver slide 50).\n",
        "\n",
        "### Extra\n",
        "* MultiHeadAttention: modifique a cabeça de auto-atenção para ter múltiplas cabeças. Isso não é obrigatório, mas pode ser interessante para ver como o modelo se comporta.\n",
        "* Diagrama da geração: fazer diagrama que mostre os passos da geração de tokens (conforme slide 47).\n",
        "\n",
        "### Dicas\n",
        "\n",
        "* Use como base o vídeo do Karpathy: https://www.youtube.com/watch?v=kCc8FmEb1nY. Observe que, no vídeo, ele primeiro implementa um modelo bi-grama, depois um modelo de linguagem com auto-atenção. O modelo de auto-atenção é implementado por volta do minuto 40, mas vale a pena assistir o vídeo todo.\n",
        "* Use esta implementação como base: https://colab.research.google.com/drive/1vFTg4MSXVJwNSzPjaCcvmqhxTP7gK7HA?usp=sharing. Observe como o modelo é organizado e como a máscara é implementada na classe MultiHeadAttention.\n",
        "* Use `context_size=9`"
      ]
    },
    {
      "cell_type": "markdown",
      "metadata": {},
      "source": [
        "## Imports"
      ]
    },
    {
      "cell_type": "code",
      "execution_count": 1,
      "metadata": {},
      "outputs": [],
      "source": [
        "import os\n",
        "import sys\n",
        "import random\n",
        "import torch\n",
        "import torch.nn as nn\n",
        "import torch.nn.functional as F\n",
        "import time\n",
        "import math\n",
        "import re\n",
        "from sklearn.model_selection import train_test_split\n",
        "from torch import nn\n",
        "from torch.utils.data import Dataset, DataLoader\n",
        "from collections import Counter"
      ]
    },
    {
      "cell_type": "markdown",
      "metadata": {},
      "source": [
        "## Variáveis Globais e Inicialização"
      ]
    },
    {
      "cell_type": "code",
      "execution_count": 2,
      "metadata": {},
      "outputs": [
        {
          "name": "stdout",
          "output_type": "stream",
          "text": [
            "cuda\n"
          ]
        }
      ],
      "source": [
        "# Global variables\n",
        "\n",
        "# Vocabulary\n",
        "vocab_size = 10000\n",
        "seq_len = 9\n",
        "pattern = r'\\w+|[,;.:!?\\']'\n",
        "\n",
        "# Training\n",
        "batch_size = 64\n",
        "epochs = 100\n",
        "lr = 0.0001\n",
        "\n",
        "# Model\n",
        "embedding_dim = 256\n",
        "dropout_rate = 0.2\n",
        "\n",
        "# Colab environment\n",
        "IN_COLAB = 'google.colab' in sys.modules\n",
        "\n",
        "if (IN_COLAB):\n",
        "    %pip install colorama\n",
        "\n",
        "    # Google Drive\n",
        "    from google.colab import drive\n",
        "    drive.mount('/content/drive', force_remount=True)\n",
        "\n",
        "    project_folder=\"/content/drive/MyDrive/Classes/IA024/Aula_2_3\"\n",
        "    os.chdir(project_folder)\n",
        "    !ls -la\n",
        "\n",
        "device = 'cuda' if torch.cuda.is_available() else 'cpu'\n",
        "print(device)"
      ]
    },
    {
      "cell_type": "markdown",
      "metadata": {
        "id": "bYbkEzdD37sZ"
      },
      "source": [
        "## Faz download e carrega o dataset"
      ]
    },
    {
      "cell_type": "code",
      "execution_count": 3,
      "metadata": {
        "colab": {
          "base_uri": "https://localhost:8080/"
        },
        "id": "9qAnqY_q0beK",
        "outputId": "f810fdb0-138d-4917-b7ef-69ab266acef6"
      },
      "outputs": [],
      "source": [
        "# Check if download is necessary\n",
        "if not os.path.exists(\"67724.txt.utf-8\"):\n",
        "    print(\"Downloading Gutenberg texts\")\n",
        "\n",
        "    !wget https://www.gutenberg.org/ebooks/67724.txt.utf-8\n",
        "    !wget https://www.gutenberg.org/ebooks/67725.txt.utf-8"
      ]
    },
    {
      "cell_type": "code",
      "execution_count": 4,
      "metadata": {
        "colab": {
          "base_uri": "https://localhost:8080/"
        },
        "id": "6_UzC9pV091C",
        "outputId": "1553b04f-24c4-4027-8cab-0907f92f04df"
      },
      "outputs": [
        {
          "data": {
            "text/plain": [
              "4969"
            ]
          },
          "execution_count": 4,
          "metadata": {},
          "output_type": "execute_result"
        }
      ],
      "source": [
        "text = open(\"67724.txt.utf-8\",\"r\").read()\n",
        "text += open(\"67725.txt.utf-8\",\"r\").read()\n",
        "\n",
        "paragraphs = text.split(\"\\n\\n\")\n",
        "\n",
        "len(paragraphs)"
      ]
    },
    {
      "cell_type": "code",
      "execution_count": 5,
      "metadata": {
        "colab": {
          "base_uri": "https://localhost:8080/"
        },
        "id": "UhUFjtNdDuG0",
        "outputId": "78798c0c-deca-4454-d3fb-7d3ba70f3e91"
      },
      "outputs": [
        {
          "name": "stdout",
          "output_type": "stream",
          "text": [
            "The Project Gutenberg eBook of O Guarany: romance brazileiro, Vol. 1 (of 2)\n",
            "    \n",
            "This ebook is for the use of anyone anywhere in the United States and\n",
            "most other parts of the world at no cost and with almost no restrictions\n",
            "whatsoever. You may copy it, give it away or re-use it under the terms\n",
            "of the Project Gutenberg License included with this ebook or online\n",
            "at www.gutenberg.org. If you are not located in the United States,\n",
            "you will have to check the laws of the country where you are located\n",
            "before using this eBook.\n"
          ]
        }
      ],
      "source": [
        "# Checking the text\n",
        "print(paragraphs[0])"
      ]
    },
    {
      "cell_type": "code",
      "execution_count": 6,
      "metadata": {},
      "outputs": [
        {
          "name": "stdout",
          "output_type": "stream",
          "text": [
            "--Incumbo-me de fallar eu mesmo a Pery! Dir-lhe-has de minha parte, Ayres Gomes, que venha ter comigo.\n",
            "\n",
            "--Pery!... exclamou a menina offendida.\n",
            "\n",
            "--Deixa! respondeu o indio sem se mover.\n",
            "\n",
            "A dansa continuava no meio dos cantos, dos alaridos e das constantes libações, quando de repente tudo emmudeceo, e o mais profundo silencio reinou no campo dos Aymorés.\n",
            "\n",
            "Depois vinha a idéa de que era a elle que Isabel amava; sem querer repassava na memoria as ternas palavras; revia o sorriso triste e os olhares de fogo que se avelludavão com alanguidez do amor.\n",
            "\n",
            "Number of paragraphs: 4892\n"
          ]
        },
        {
          "data": {
            "text/plain": [
              "4892"
            ]
          },
          "execution_count": 6,
          "metadata": {},
          "output_type": "execute_result"
        }
      ],
      "source": [
        "cleaned_paragraphs = [paragraph.replace(\"\\n\", \" \") for paragraph in paragraphs if paragraph.strip()]\n",
        "\n",
        "# Print 5 random paragraphs\n",
        "num_paragraphs = len(cleaned_paragraphs)\n",
        "for i in range(0,5):\n",
        "    idx = random.randrange(num_paragraphs)\n",
        "    print(f\"{cleaned_paragraphs[idx]}\\n\")\n",
        "\n",
        "print(\"Number of paragraphs: \" + str(num_paragraphs))\n",
        "\n",
        "len(cleaned_paragraphs)"
      ]
    },
    {
      "cell_type": "markdown",
      "metadata": {
        "id": "bFVN2ihb33Rf"
      },
      "source": [
        "## Análise do dataset"
      ]
    },
    {
      "cell_type": "code",
      "execution_count": 7,
      "metadata": {
        "colab": {
          "base_uri": "https://localhost:8080/"
        },
        "id": "qSRHqe3H4ZFw",
        "outputId": "4a985c7a-ce1d-4b72-d253-c9fbbc5f9440"
      },
      "outputs": [
        {
          "data": {
            "text/plain": [
              "12603"
            ]
          },
          "execution_count": 7,
          "metadata": {},
          "output_type": "execute_result"
        }
      ],
      "source": [
        "# Conta as palavras no dataset\n",
        "def count_words(texts):\n",
        "    word_counts = Counter()\n",
        "    for text in texts:\n",
        "        word_counts.update(re.findall(r'\\w+', text.lower()))\n",
        "    return word_counts\n",
        "\n",
        "word_counts = count_words(cleaned_paragraphs)\n",
        "\n",
        "len(word_counts)"
      ]
    },
    {
      "cell_type": "markdown",
      "metadata": {
        "id": "EyGVDL9KzJ_I"
      },
      "source": [
        "## Criando um vocabulário"
      ]
    },
    {
      "cell_type": "code",
      "execution_count": 8,
      "metadata": {
        "id": "FiP7OCo9zJ_I"
      },
      "outputs": [],
      "source": [
        "most_frequent_words = [word for word, count in word_counts.most_common(vocab_size)]\n",
        "vocab = {word: i for i, word in enumerate(most_frequent_words, 1)}"
      ]
    },
    {
      "cell_type": "code",
      "execution_count": 9,
      "metadata": {
        "colab": {
          "base_uri": "https://localhost:8080/"
        },
        "id": "RhbhAsZbzJ_J",
        "outputId": "6a53c9e0-308d-4082-e225-cfa376e8f39a"
      },
      "outputs": [
        {
          "name": "stdout",
          "output_type": "stream",
          "text": [
            " Publicando este livro em 1857, se disse ser aquella primeira edição uma prova typographica, que algum dia talvez o autor se dispuzesse a rever.\n",
            "[6594, 139, 4376, 19, 6595, 0, 6, 44, 110, 269, 259, 2662, 10, 1064, 6596, 0, 2, 186, 130, 280, 3, 2257, 6, 6597, 1, 2665, 0]\n"
          ]
        }
      ],
      "source": [
        "def encode_sentence(sentence, vocab):\n",
        "    return [vocab.get(word, 0) for word in re.findall(pattern, sentence.lower())]\n",
        "\n",
        "print(cleaned_paragraphs[20])\n",
        "print(encode_sentence(cleaned_paragraphs[20], vocab))"
      ]
    },
    {
      "cell_type": "markdown",
      "metadata": {
        "id": "wia_ygbvzJ_J"
      },
      "source": [
        "## Classe do dataset"
      ]
    },
    {
      "cell_type": "markdown",
      "metadata": {},
      "source": [
        "### Dataset Modificado para Máscara Causal\n",
        "\n",
        "Modifique o nosso dataloader para retornar inputs (uma lista de tokens de tamanho $n$), targets (uma lista de tokens de tamanho $n$ deslocada para a esquerda em 1 token). Exemplo `input = [1, 2, 3, 4]`, `target = [2, 3, 4, 5]` para a sequência `[1, 2, 3, 4, 5]` com `seq_len=4`, por exemplo (Ver slide 50)."
      ]
    },
    {
      "cell_type": "code",
      "execution_count": 10,
      "metadata": {},
      "outputs": [],
      "source": [
        "# Dataset class\n",
        "import torch\n",
        "from torch.utils.data import Dataset, DataLoader\n",
        "\n",
        "class CausalMaskDataset(Dataset):\n",
        "  def __init__(self, paragraphs, vocab, seq_len):\n",
        "    self.paragraphs = paragraphs\n",
        "    self.vocab = vocab\n",
        "    self.seq_len = seq_len\n",
        "    self.tokens, self.targets = self.setup()\n",
        "\n",
        "  def __len__(self):\n",
        "    return len(self.tokens)\n",
        "\n",
        "  def __getitem__(self, idx):\n",
        "    tokens = torch.tensor(self.tokens[idx])\n",
        "    targets = torch.tensor(self.targets[idx])\n",
        "    return tokens, targets\n",
        "  \n",
        "  def setup(self):\n",
        "    tokens = []\n",
        "    targets = []\n",
        "    for paragraph in self.paragraphs:\n",
        "      encoded = encode_sentence(paragraph, self.vocab)\n",
        "      \n",
        "      # If paragraph is smaller than the sequence length, skip it.\n",
        "      if len(encoded) < self.seq_len + 1:\n",
        "          continue\n",
        "\n",
        "      for i in range(len(encoded) - self.seq_len):\n",
        "        tks = encoded[i:i+self.seq_len]\n",
        "        # Return targets with seq_len instead of a single one.\n",
        "        tgt = encoded[i+1:i+1+self.seq_len]\n",
        "        # Only add if there are no unknown tokens in both context and target.\n",
        "        bad_token = 0\n",
        "        if not (bad_token in tks or tgt == bad_token):\n",
        "          tokens.append(tks)\n",
        "          targets.append(tgt)\n",
        "    return tokens, targets"
      ]
    },
    {
      "cell_type": "markdown",
      "metadata": {},
      "source": [
        "#### Verificação básica do Dataset modificado"
      ]
    },
    {
      "cell_type": "code",
      "execution_count": 11,
      "metadata": {},
      "outputs": [
        {
          "name": "stdout",
          "output_type": "stream",
          "text": [
            "Input and Target Tensors:\n"
          ]
        },
        {
          "data": {
            "text/plain": [
              "(tensor([133,  47, 712, 144, 537, 324, 275,  35, 499]),\n",
              " tensor([ 47, 712, 144, 537, 324, 275,  35, 499,  47]))"
            ]
          },
          "execution_count": 11,
          "metadata": {},
          "output_type": "execute_result"
        }
      ],
      "source": [
        "tst_paragraphs = cleaned_paragraphs[:50]\n",
        "tst_seq_len = 9\n",
        "tst_dataset = CausalMaskDataset(tst_paragraphs, vocab, tst_seq_len)\n",
        "\n",
        "print(\"Input and Target Tensors:\")\n",
        "tst_dataset[0]\n"
      ]
    },
    {
      "cell_type": "markdown",
      "metadata": {},
      "source": [
        "### Verificação do Dataset"
      ]
    },
    {
      "cell_type": "code",
      "execution_count": 12,
      "metadata": {
        "id": "y1aetOpmDeQd"
      },
      "outputs": [
        {
          "name": "stdout",
          "output_type": "stream",
          "text": [
            "Training samples: 3913\n",
            "Validation samples: 979\n",
            "\n",
            "Training dataset samples: 15993\n",
            "Validation dataset samples: 4197\n"
          ]
        }
      ],
      "source": [
        "# Train/Validation split\n",
        "train_data, val_data = train_test_split(cleaned_paragraphs, test_size=0.2, random_state=18)\n",
        "\n",
        "train_dataset = CausalMaskDataset(train_data, vocab, seq_len)\n",
        "val_dataset = CausalMaskDataset(val_data, vocab, seq_len)\n",
        "\n",
        "# Counting all Samples\n",
        "print(f\"Training samples: {len(train_data)}\")\n",
        "print(f\"Validation samples: {len(val_data)}\")\n",
        "print()\n",
        "print(f\"Training dataset samples: {len(train_dataset)}\")\n",
        "print(f\"Validation dataset samples: {len(val_dataset)}\")"
      ]
    },
    {
      "cell_type": "code",
      "execution_count": 13,
      "metadata": {
        "colab": {
          "base_uri": "https://localhost:8080/"
        },
        "id": "aD1CVci2zJ_J",
        "outputId": "5bf0839e-f30e-4ff2-ed6f-4f3fda782b7c"
      },
      "outputs": [
        {
          "name": "stdout",
          "output_type": "stream",
          "text": [
            "[tensor([[ 720,  116,   12, 2146,    2,  358, 5692,   15, 6313],\n",
            "        [   4, 3419,    5,    4,  215,   12, 4492, 6882,  690],\n",
            "        [ 208,   15, 8875,  138,   20,  445,   11,  102,    8],\n",
            "        [  36,  210, 4054,   10, 1079,  158, 1005,    4, 1001],\n",
            "        [ 425,    4,   10, 2428,    3,  169,    2,    6, 4216],\n",
            "        [2109,   86, 5545,   21,   14,  165,    2,  424, 9269],\n",
            "        [2987,   86,   17, 3982,    1,   14,  573,   26,  750],\n",
            "        [ 862, 4313,    2, 2155, 6284,   12, 1544,   11,   61],\n",
            "        [1426,  125,    1,  167, 8870,    4,   14, 1902,    4],\n",
            "        [3121, 5314, 4003,    6,    2,    1,  290,   12, 8723],\n",
            "        [   3, 1256, 1698,   21,  271,   13,    1, 9748,    4],\n",
            "        [2801,  203,   39,  205, 1141,  486,   22,  516,  103],\n",
            "        [   5,    2,   48,   20,   16, 2594, 4180,    4,  233],\n",
            "        [   4,   43,   15, 1502,  118, 6118,   75,  489,    5],\n",
            "        [1753, 5699,   12,  378, 9745,   23,   12, 5700,    8],\n",
            "        [   4,   17, 3731,   13,    3,  362,    4,    7, 1224],\n",
            "        [1230,   15,    7,   80,    4,  270,   11,   14, 4447],\n",
            "        [   2, 8808,    4,    2,   43,  370,   91,  120,  104],\n",
            "        [3331,   36,  145,  164,    1,   98,  433,    4,  434],\n",
            "        [  20,    2,   34,   50,  893,    5, 3571,    3,    2],\n",
            "        [   3, 3665,   27, 7495,   12, 4808, 7496,  282, 1628],\n",
            "        [ 617,  415,   22,  187,   36,  639, 1238,    5,   22],\n",
            "        [ 838,    3,  155,   15,    9,  147,    3, 1352,  519],\n",
            "        [1915,   32,    3, 1129,  225, 9250,   38,    4,  189],\n",
            "        [ 568,    1,  326,  331,    4, 1135,   12, 4242,   26],\n",
            "        [1270,   28,  233,  177,    1,   43,    5,   22,   60],\n",
            "        [ 307,    1, 3478,   21,  103,   27, 2801,    1, 1776],\n",
            "        [1504,   85,    1, 3272, 5905,   79, 3268,   35,  148],\n",
            "        [  77,    2,    3,  296, 1490, 8508,    3,  833, 5242],\n",
            "        [3131,  143,    2,    1,  136,  572,   93,  140,   56],\n",
            "        [4413,   20, 6698,  656,   13,   10, 1524,    5,  637],\n",
            "        [ 392,    7,  169,    4,   14,  773,    5,    4,   14],\n",
            "        [   5,    2,   74, 1090, 5446,    3,   16,  486,    4],\n",
            "        [4953,    7,  961,  547,    4, 7827,    2, 3716,   19],\n",
            "        [ 395, 1938,  141,  144,  537,   83, 1505,  538,  739],\n",
            "        [  18, 2782,    2,   21, 1791, 4333,   30,  605,   15],\n",
            "        [   5, 1414,    2,    3,   72,  490,  421,    1,   95],\n",
            "        [ 101,   18, 1111, 3872,    2,    6, 1892,   30,   14],\n",
            "        [5861,   47,  221,  587, 5862,  333, 2211,  325,  873],\n",
            "        [ 349,   14,   51,    5,  962,    3,  788,    2,   27],\n",
            "        [9643,    2,  530, 1682,    1,  947, 5673,    2,   34],\n",
            "        [ 909,   60,    2,   46, 9960,    3,  755,    4, 9961],\n",
            "        [   2,   89, 1218,    1, 1618,    2, 2937,   20,  297],\n",
            "        [1862,    8,    2,    6,  196,   20,  594,   11,   61],\n",
            "        [ 831, 6757,    4, 2702,  830,    5, 6758,    4,  684],\n",
            "        [ 325,  109,   35, 2208, 3230,  109,   35,  463,  375],\n",
            "        [ 487,    4,   10,  614,  850,    2,  494,   32,    1],\n",
            "        [  47,   35, 2228,   47, 5953,   47, 1376,   97,  484],\n",
            "        [ 274,  221,  334,   85, 5761,   35,  333,   47,  144],\n",
            "        [ 145, 1613,   19, 1831,    8,  267,    1, 6370,  128],\n",
            "        [   4,  183,  518,   24,   70,    5,    3,   16,  728],\n",
            "        [   2,   24, 3693,    3,  321,   42,  305,  269,   52],\n",
            "        [ 230, 2151,   10,  824,  343, 9146,    2, 3830,   20],\n",
            "        [   4,  609,   13,   10, 6728,    4,  540,   32,    1],\n",
            "        [ 104,  657,    1, 1197,    9, 3537, 3538,   26,   14],\n",
            "        [ 155,    4,   17, 3731,   13,    3,  362,    4,    7],\n",
            "        [   3,  659,   36,   68,    2, 2865,   20,  535,  867],\n",
            "        [1424,   11,  132,    5,   20,   84,    8, 2140, 5149],\n",
            "        [ 606,  879,    5, 1801,  308,  143,    2, 1192, 4915],\n",
            "        [   1, 3476,   23,   12,   49,    4,   10,   52,    2],\n",
            "        [  13,    7,   90, 5012,    4,  990,    5,    4,  669],\n",
            "        [ 634, 5974, 5975, 5976, 1061,   35,  677,   47,   35],\n",
            "        [   1,  102, 2578,   32,    1, 6535,    8, 2472,  895],\n",
            "        [   7,  452,  335,    4,    2,   12,  210,   65,  694]]), tensor([[ 116,   12, 2146,    2,  358, 5692,   15, 6313,   12],\n",
            "        [3419,    5,    4,  215,   12, 4492, 6882,  690,   64],\n",
            "        [  15, 8875,  138,   20,  445,   11,  102,    8,   73],\n",
            "        [ 210, 4054,   10, 1079,  158, 1005,    4, 1001,    0],\n",
            "        [   4,   10, 2428,    3,  169,    2,    6, 4216,  843],\n",
            "        [  86, 5545,   21,   14,  165,    2,  424, 9269,  138],\n",
            "        [  86,   17, 3982,    1,   14,  573,   26,  750,    0],\n",
            "        [4313,    2, 2155, 6284,   12, 1544,   11,   61,    0],\n",
            "        [ 125,    1,  167, 8870,    4,   14, 1902,    4, 1134],\n",
            "        [5314, 4003,    6,    2,    1,  290,   12, 8723,   13],\n",
            "        [1256, 1698,   21,  271,   13,    1, 9748,    4, 9749],\n",
            "        [ 203,   39,  205, 1141,  486,   22,  516,  103,    6],\n",
            "        [   2,   48,   20,   16, 2594, 4180,    4,  233,   24],\n",
            "        [  43,   15, 1502,  118, 6118,   75,  489,    5,  203],\n",
            "        [5699,   12,  378, 9745,   23,   12, 5700,    8, 2030],\n",
            "        [  17, 3731,   13,    3,  362,    4,    7, 1224, 1622],\n",
            "        [  15,    7,   80,    4,  270,   11,   14, 4447,    0],\n",
            "        [8808,    4,    2,   43,  370,   91,  120,  104,    3],\n",
            "        [  36,  145,  164,    1,   98,  433,    4,  434,  819],\n",
            "        [   2,   34,   50,  893,    5, 3571,    3,    2,   34],\n",
            "        [3665,   27, 7495,   12, 4808, 7496,  282, 1628,  145],\n",
            "        [ 415,   22,  187,   36,  639, 1238,    5,   22,  329],\n",
            "        [   3,  155,   15,    9,  147,    3, 1352,  519,    2],\n",
            "        [  32,    3, 1129,  225, 9250,   38,    4,  189,    0],\n",
            "        [   1,  326,  331,    4, 1135,   12, 4242,   26,  478],\n",
            "        [  28,  233,  177,    1,   43,    5,   22,   60,    0],\n",
            "        [   1, 3478,   21,  103,   27, 2801,    1, 1776,    0],\n",
            "        [  85,    1, 3272, 5905,   79, 3268,   35,  148, 3271],\n",
            "        [   2,    3,  296, 1490, 8508,    3,  833, 5242,    2],\n",
            "        [ 143,    2,    1,  136,  572,   93,  140,   56,  552],\n",
            "        [  20, 6698,  656,   13,   10, 1524,    5,  637, 1074],\n",
            "        [   7,  169,    4,   14,  773,    5,    4,   14,  766],\n",
            "        [   2,   74, 1090, 5446,    3,   16,  486,    4, 2664],\n",
            "        [   7,  961,  547,    4, 7827,    2, 3716,   19,  439],\n",
            "        [1938,  141,  144,  537,   83, 1505,  538,  739,    0],\n",
            "        [2782,    2,   21, 1791, 4333,   30,  605,   15, 5362],\n",
            "        [1414,    2,    3,   72,  490,  421,    1,   95,  448],\n",
            "        [  18, 1111, 3872,    2,    6, 1892,   30,   14,  102],\n",
            "        [  47,  221,  587, 5862,  333, 2211,  325,  873,  874],\n",
            "        [  14,   51,    5,  962,    3,  788,    2,   27, 1071],\n",
            "        [   2,  530, 1682,    1,  947, 5673,    2,   34,   58],\n",
            "        [  60,    2,   46, 9960,    3,  755,    4, 9961, 4164],\n",
            "        [  89, 1218,    1, 1618,    2, 2937,   20,  297,    0],\n",
            "        [   8,    2,    6,  196,   20,  594,   11,   61,    0],\n",
            "        [6757,    4, 2702,  830,    5, 6758,    4,  684, 1760],\n",
            "        [ 109,   35, 2208, 3230,  109,   35,  463,  375,    0],\n",
            "        [   4,   10,  614,  850,    2,  494,   32,    1,  177],\n",
            "        [  35, 2228,   47, 5953,   47, 1376,   97,  484,  482],\n",
            "        [ 221,  334,   85, 5761,   35,  333,   47,  144,  404],\n",
            "        [1613,   19, 1831,    8,  267,    1, 6370,  128,    3],\n",
            "        [ 183,  518,   24,   70,    5,    3,   16,  728,    0],\n",
            "        [  24, 3693,    3,  321,   42,  305,  269,   52,  623],\n",
            "        [2151,   10,  824,  343, 9146,    2, 3830,   20,  503],\n",
            "        [ 609,   13,   10, 6728,    4,  540,   32,    1,  102],\n",
            "        [ 657,    1, 1197,    9, 3537, 3538,   26,   14, 1024],\n",
            "        [   4,   17, 3731,   13,    3,  362,    4,    7, 1224],\n",
            "        [ 659,   36,   68,    2, 2865,   20,  535,  867,    1],\n",
            "        [  11,  132,    5,   20,   84,    8, 2140, 5149,   45],\n",
            "        [ 879,    5, 1801,  308,  143,    2, 1192, 4915,   24],\n",
            "        [3476,   23,   12,   49,    4,   10,   52,    2,    6],\n",
            "        [   7,   90, 5012,    4,  990,    5,    4,  669,    0],\n",
            "        [5974, 5975, 5976, 1061,   35,  677,   47,   35, 1157],\n",
            "        [ 102, 2578,   32,    1, 6535,    8, 2472,  895,   63],\n",
            "        [ 452,  335,    4,    2,   12,  210,   65,  694,    9]])]\n"
          ]
        }
      ],
      "source": [
        "train_loader = DataLoader(train_dataset, batch_size=batch_size, shuffle=True)\n",
        "val_loader = DataLoader(val_dataset, batch_size=batch_size, shuffle=True)\n",
        "\n",
        "sample = next(iter(train_loader))\n",
        "print(sample)"
      ]
    },
    {
      "cell_type": "markdown",
      "metadata": {
        "id": "-5_-Yud0zJ_K"
      },
      "source": [
        "### Implementação do Modelo com Máscara Causal"
      ]
    },
    {
      "cell_type": "code",
      "execution_count": 14,
      "metadata": {},
      "outputs": [],
      "source": [
        "# Código baseado no tutorial do Andrej Karpathy https://github.com/karpathy/ng-video-lecture\n",
        "class Head(nn.Module):\n",
        "\n",
        "    def __init__(self, head_size, seq_len):\n",
        "        super(Head, self).__init__()\n",
        "        self.key = nn.Linear(embedding_dim, head_size, bias=False)\n",
        "        self.query = nn.Linear(embedding_dim, head_size, bias=False)\n",
        "        self.value = nn.Linear(embedding_dim, head_size, bias=False)\n",
        "        self.register_buffer('tril', torch.tril(torch.ones(seq_len, seq_len)))\n",
        "\n",
        "        self.dropout = nn.Dropout(dropout_rate)\n",
        "\n",
        "    def forward(self, x):\n",
        "        B,T,C = x.shape\n",
        "        k = self.key(x)   # (B,T,C)\n",
        "        q = self.query(x) # (B,T,C)\n",
        "\n",
        "        # compute attention scores (\"affinities\")\n",
        "        wei = q @ k.transpose(-2,-1) * C**-0.5 # (B, T, C) @ (B, C, T) -> (B, T, T)\n",
        "\n",
        "        wei = wei.masked_fill(self.tril[:T, :T] == 0, float('-inf')) # (B, T, T)\n",
        "\n",
        "        wei = F.softmax(wei, dim=-1) # (B, T, T)\n",
        "\n",
        "        wei = self.dropout(wei)\n",
        "\n",
        "        # perform the weighted aggregation of the values\n",
        "        v = self.value(x) # (B,T,C)\n",
        "        out = wei @ v # (B, T, T) @ (B, T, C) -> (B, T, C)\n",
        "\n",
        "        return out\n",
        "    \n",
        "class FeedForward(nn.Module):\n",
        "    \"\"\" a simple linear layer followed by a non-linearity \"\"\"\n",
        "\n",
        "    def __init__(self, embedding_dim):\n",
        "        super(FeedForward, self).__init__()\n",
        "        self.net = nn.Sequential(\n",
        "            nn.Linear(embedding_dim, 4 * embedding_dim),\n",
        "            nn.ReLU(),\n",
        "            nn.Linear(4 * embedding_dim, embedding_dim),\n",
        "            nn.Dropout(dropout_rate),\n",
        "        )\n",
        "\n",
        "    def forward(self, x):\n",
        "        return self.net(x)\n",
        "    \n",
        "class KarpathyModel(torch.nn.Module):\n",
        "    def __init__(self, vocab_size, embedding_dim, seq_len):\n",
        "      super(KarpathyModel, self).__init__()\n",
        "    \n",
        "      # Embedding\n",
        "      self.embedding = nn.Embedding(vocab_size+1, embedding_dim)\n",
        "      # Positional Embedding (simpler?)\n",
        "      self.positional_embedding = nn.Embedding(seq_len, embedding_dim)\n",
        "      # Single Head Attention\n",
        "      self.attention = Head(embedding_dim, seq_len)\n",
        "      # Projection\n",
        "      self.WO = nn.Linear(embedding_dim, embedding_dim)\n",
        "      # Linear Layers\n",
        "      self.ffwd = FeedForward(embedding_dim)\n",
        "\n",
        "      # Normalization Layers\n",
        "      self.ln_attention = nn.LayerNorm(embedding_dim)\n",
        "      self.ln_ffwd = nn.LayerNorm(embedding_dim)\n",
        "      self.ln_f = nn.LayerNorm(embedding_dim) # final layer norm\n",
        "\n",
        "      self.lm_head = nn.Linear(embedding_dim, vocab_size+1)\n",
        "      self.dropout = nn.Dropout(dropout_rate)\n",
        "\n",
        "    def forward(self, input):\n",
        "      B,T = input.shape\n",
        "      # idx and targets are both (B,T) tensor of integers\n",
        "      embedding_input = self.embedding(input) # (B,T,C)\n",
        "      positions = self.positional_embedding(torch.arange(T, device=device)) # (T,C)\n",
        "      x = embedding_input + positions # (B,T,C)\n",
        "      # Auto Atenção\n",
        "      attention = self.ln_attention(x)\n",
        "      attention = self.attention(attention)\n",
        "      attention = self.WO(attention)\n",
        "      attention = self.dropout(attention)\n",
        "      x = x + attention\n",
        "      # MLP\n",
        "      ffwd = self.ln_ffwd(x)\n",
        "      ffwd = self.ffwd(ffwd)\n",
        "\n",
        "      x = x + ffwd\n",
        "      # Camada de saida\n",
        "      x = self.ln_f(x)\n",
        "      logits = self.lm_head(x)\n",
        "\n",
        "      return logits\n",
        "\n",
        "    def generate(self, idx, max_new_tokens=10, seq_len=9):\n",
        "      # idx is (B, T) array of indices in the current context\n",
        "      for _ in range(max_new_tokens):\n",
        "          # crop idx to the last block_size tokens\n",
        "          idx_cond = idx[:, -seq_len:]\n",
        "          # get the predictions\n",
        "          logits = self(idx_cond)\n",
        "          # focus only on the last time step\n",
        "          logits = logits[:, -1, :] # becomes (B, C)\n",
        "          # apply softmax to get probabilities\n",
        "          probs = F.softmax(logits, dim=-1) # (B, C)\n",
        "          #Extraido do Ramon Simoes --> Excluir o token <unk> (codificado como 0) atribuindo probabilidade zero\n",
        "          probs[:,0] = 0.0\n",
        "          probs = probs / probs.sum(dim=-1, keepdim=True)\n",
        "          # sample from the distribution\n",
        "          idx_next = torch.multinomial(probs, num_samples=1) # (B, 1)\n",
        "          # append sampled index to the running sequence\n",
        "          idx = torch.cat((idx, idx_next), dim=1) # (B, T+1)\n",
        "      return idx"
      ]
    },
    {
      "cell_type": "markdown",
      "metadata": {},
      "source": [
        "## Treinamento e Avaliação"
      ]
    },
    {
      "cell_type": "markdown",
      "metadata": {},
      "source": [
        "### Funções de Treinamento e Avaliação"
      ]
    },
    {
      "cell_type": "markdown",
      "metadata": {},
      "source": [
        "#### Contagem de Parâmetros do Modelo"
      ]
    },
    {
      "cell_type": "code",
      "execution_count": 15,
      "metadata": {},
      "outputs": [],
      "source": [
        "def count_parameters(model):\n",
        "    total_params = sum(p.numel() for p in model.parameters() if p.requires_grad)\n",
        "    print(f'The model has a total of {total_params:,} parameters.')"
      ]
    },
    {
      "cell_type": "markdown",
      "metadata": {},
      "source": [
        "#### Avaliação Inicial Pré-Treinamento"
      ]
    },
    {
      "cell_type": "code",
      "execution_count": 16,
      "metadata": {
        "id": "7yjQ1KXOzJ_K"
      },
      "outputs": [],
      "source": [
        "def initial_eval(model, criterion, device):\n",
        "    # Initial Perplexity and Loss\n",
        "    # Before training\n",
        "    model.eval()\n",
        "\n",
        "    loss = 0\n",
        "    perp = 0\n",
        "\n",
        "    with torch.no_grad():\n",
        "        for inputs, targets in train_loader:\n",
        "            inputs = inputs.to(device)\n",
        "            targets = targets.to(device)\n",
        "\n",
        "            logits = model(inputs)\n",
        "            B, T, C = logits.shape\n",
        "            logits = logits.view(B*T, C)\n",
        "            targets = targets.view(B*T)\n",
        "\n",
        "            loss = criterion(logits, targets)\n",
        "            \n",
        "    loss /= len(train_loader)\n",
        "\n",
        "    perp = torch.exp(loss)\n",
        "\n",
        "    print(f'Initial Loss: {loss:.4f}')\n",
        "    print(f'Initial Perplexity: {perp:.4f}')"
      ]
    },
    {
      "cell_type": "markdown",
      "metadata": {},
      "source": [
        "#### Função de Treinamento"
      ]
    },
    {
      "cell_type": "code",
      "execution_count": 17,
      "metadata": {},
      "outputs": [],
      "source": [
        "def train(model, criterion, optimizer, device):\n",
        "      # Training Loop\n",
        "      model.train()\n",
        "      for epoch in range(epochs):\n",
        "\n",
        "            epoch_start = time.time()\n",
        "            # Metrics\n",
        "            epoch_loss = 0\n",
        "            epoch_correct = 0\n",
        "            epoch_samples = 0\n",
        "\n",
        "            for inputs, targets in train_loader:\n",
        "                  inputs = inputs.to(device)  # Move input data to the device\n",
        "                  targets = targets.to(device)\n",
        "\n",
        "                  # Forward pass\n",
        "                  logits = model(inputs)\n",
        "                  B, T, C = logits.shape\n",
        "                  logits = logits.view(B*T, C)\n",
        "                  targets = targets.view(B*T)\n",
        "                  loss = criterion(logits, targets)\n",
        "\n",
        "                  # Backward pass and optimization\n",
        "                  optimizer.zero_grad()\n",
        "                  loss.backward()\n",
        "                  optimizer.step()\n",
        "\n",
        "                  # Loss\n",
        "                  epoch_loss += loss.item()\n",
        "\n",
        "                  # Predicted\n",
        "                  _, predicted = torch.max(logits, 1)\n",
        "                  epoch_correct += (predicted == targets).sum().item()\n",
        "                  epoch_samples += targets.size(0)\n",
        "\n",
        "            # Calculate average loss and accuracy for epoch\n",
        "            avg_loss = epoch_loss / len(train_loader)\n",
        "            acc = epoch_correct / epoch_samples\n",
        "\n",
        "            # Perplexity\n",
        "            perp = torch.exp(torch.tensor(avg_loss))\n",
        "\n",
        "            epoch_end = time.time()\n",
        "            epoch_time = epoch_end - epoch_start\n",
        "            # Print epoch statistics\n",
        "            print(f'Epoch [{epoch+1}/{epochs}], Time:{epoch_time:.2f}, Loss: {avg_loss:.4f}, Accuracy: {acc:.2f}%, Perplexity: {perp:.4f}')\n"
      ]
    },
    {
      "cell_type": "markdown",
      "metadata": {},
      "source": [
        "#### Função de Avaliação do Modelo Treinado"
      ]
    },
    {
      "cell_type": "code",
      "execution_count": 18,
      "metadata": {},
      "outputs": [],
      "source": [
        "def eval(model, criterion, device):\n",
        "    model.eval()\n",
        "\n",
        "    loss_sum = 0\n",
        "    total_sum = 0\n",
        "    correct_sum = 0\n",
        "    eval_round = 0\n",
        "\n",
        "    loss = 0\n",
        "    perp = 0\n",
        "\n",
        "    with torch.no_grad():\n",
        "        for inputs, targets in val_loader:\n",
        "            inputs = inputs.to(device)\n",
        "            targets = targets.to(device)\n",
        "\n",
        "            logits = model(inputs)\n",
        "            B, T, C = logits.shape\n",
        "            logits = logits.view(B*T, C)\n",
        "            targets = targets.view(B*T)\n",
        "            loss = criterion(logits, targets)     \n",
        "\n",
        "            loss_sum += loss\n",
        "\n",
        "            # Get the predicted labels\n",
        "            _, predicted = torch.max(logits, 1)\n",
        "\n",
        "            total_sum += targets.size(0)\n",
        "            correct_sum += (predicted == targets).sum().item()\n",
        "            eval_round += 1\n",
        "\n",
        "    # Calculate accuracy\n",
        "    acc = 100 * correct_sum / total_sum\n",
        "\n",
        "    # Calculate average perplexity\n",
        "    average_loss = loss_sum / len(val_loader)\n",
        "    average_perplexity = torch.exp(average_loss)\n",
        "\n",
        "    print(f'Test Accuracy: {acc:.2f}%')\n",
        "    print(f'Average Loss: {average_loss:.2f}')\n",
        "    print(f'Average Perplexity: {average_perplexity:.2f}')"
      ]
    },
    {
      "cell_type": "markdown",
      "metadata": {},
      "source": [
        "### Avaliação Inicial"
      ]
    },
    {
      "cell_type": "code",
      "execution_count": 19,
      "metadata": {},
      "outputs": [
        {
          "name": "stdout",
          "output_type": "stream",
          "text": [
            "KarpathyModel(\n",
            "  (embedding): Embedding(10001, 256)\n",
            "  (positional_embedding): Embedding(9, 256)\n",
            "  (attention): Head(\n",
            "    (key): Linear(in_features=256, out_features=256, bias=False)\n",
            "    (query): Linear(in_features=256, out_features=256, bias=False)\n",
            "    (value): Linear(in_features=256, out_features=256, bias=False)\n",
            "    (dropout): Dropout(p=0.2, inplace=False)\n",
            "  )\n",
            "  (WO): Linear(in_features=256, out_features=256, bias=True)\n",
            "  (ffwd): FeedForward(\n",
            "    (net): Sequential(\n",
            "      (0): Linear(in_features=256, out_features=1024, bias=True)\n",
            "      (1): ReLU()\n",
            "      (2): Linear(in_features=1024, out_features=256, bias=True)\n",
            "      (3): Dropout(p=0.2, inplace=False)\n",
            "    )\n",
            "  )\n",
            "  (ln_attention): LayerNorm((256,), eps=1e-05, elementwise_affine=True)\n",
            "  (ln_ffwd): LayerNorm((256,), eps=1e-05, elementwise_affine=True)\n",
            "  (ln_f): LayerNorm((256,), eps=1e-05, elementwise_affine=True)\n",
            "  (lm_head): Linear(in_features=256, out_features=10001, bias=True)\n",
            "  (dropout): Dropout(p=0.2, inplace=False)\n",
            ")\n"
          ]
        }
      ],
      "source": [
        "model_attn = KarpathyModel(vocab_size, embedding_dim, seq_len)\n",
        "print(model_attn)"
      ]
    },
    {
      "cell_type": "code",
      "execution_count": 20,
      "metadata": {},
      "outputs": [
        {
          "name": "stdout",
          "output_type": "stream",
          "text": [
            "Model with Self Attention:\n",
            "\n",
            "The model has a total of 5,922,321 parameters.\n",
            "\n",
            "Initial Evaluation\n",
            "\n",
            "Initial Loss: 0.0375\n",
            "Initial Perplexity: 1.0382\n"
          ]
        }
      ],
      "source": [
        "print(\"Model with Self Attention:\")\n",
        "print()\n",
        "count_parameters(model_attn)\n",
        "\n",
        "# Cross Entropy\n",
        "criterion = nn.CrossEntropyLoss()\n",
        "\n",
        "model_attn.to(device)\n",
        "\n",
        "print()\n",
        "print(\"Initial Evaluation\")\n",
        "print()\n",
        "initial_eval(model_attn, criterion, device)"
      ]
    },
    {
      "cell_type": "markdown",
      "metadata": {
        "id": "UngUhyu7zJ_L"
      },
      "source": [
        "### Treinamento do Modelo"
      ]
    },
    {
      "cell_type": "code",
      "execution_count": 21,
      "metadata": {
        "id": "vRwSPiwizJ_L"
      },
      "outputs": [
        {
          "name": "stdout",
          "output_type": "stream",
          "text": [
            "Model with Self Attention and Causal Mask:\n",
            "\n",
            "\n",
            "Training Start\n",
            "\n",
            "Epoch [1/100], Time:1.79, Loss: 7.3226, Accuracy: 0.05%, Perplexity: 1514.1442\n",
            "Epoch [2/100], Time:1.68, Loss: 6.4210, Accuracy: 0.08%, Perplexity: 614.6174\n",
            "Epoch [3/100], Time:1.66, Loss: 5.9423, Accuracy: 0.11%, Perplexity: 380.8034\n",
            "Epoch [4/100], Time:1.68, Loss: 5.4804, Accuracy: 0.13%, Perplexity: 239.9538\n",
            "Epoch [5/100], Time:1.68, Loss: 5.1143, Accuracy: 0.15%, Perplexity: 166.3846\n",
            "Epoch [6/100], Time:1.66, Loss: 4.8225, Accuracy: 0.17%, Perplexity: 124.2771\n",
            "Epoch [7/100], Time:1.63, Loss: 4.5729, Accuracy: 0.18%, Perplexity: 96.8197\n",
            "Epoch [8/100], Time:1.62, Loss: 4.3563, Accuracy: 0.20%, Perplexity: 77.9710\n",
            "Epoch [9/100], Time:1.65, Loss: 4.1679, Accuracy: 0.21%, Perplexity: 64.5793\n",
            "Epoch [10/100], Time:1.60, Loss: 3.9989, Accuracy: 0.23%, Perplexity: 54.5390\n",
            "Epoch [11/100], Time:1.60, Loss: 3.8471, Accuracy: 0.24%, Perplexity: 46.8587\n",
            "Epoch [12/100], Time:1.62, Loss: 3.7095, Accuracy: 0.26%, Perplexity: 40.8351\n",
            "Epoch [13/100], Time:1.58, Loss: 3.5838, Accuracy: 0.27%, Perplexity: 36.0104\n",
            "Epoch [14/100], Time:1.58, Loss: 3.4682, Accuracy: 0.29%, Perplexity: 32.0782\n",
            "Epoch [15/100], Time:1.57, Loss: 3.3603, Accuracy: 0.30%, Perplexity: 28.7977\n",
            "Epoch [16/100], Time:1.57, Loss: 3.2549, Accuracy: 0.32%, Perplexity: 25.9171\n",
            "Epoch [17/100], Time:1.58, Loss: 3.1609, Accuracy: 0.33%, Perplexity: 23.5913\n",
            "Epoch [18/100], Time:1.56, Loss: 3.0662, Accuracy: 0.34%, Perplexity: 21.4596\n",
            "Epoch [19/100], Time:1.57, Loss: 2.9768, Accuracy: 0.36%, Perplexity: 19.6254\n",
            "Epoch [20/100], Time:1.58, Loss: 2.8909, Accuracy: 0.37%, Perplexity: 18.0104\n",
            "Epoch [21/100], Time:1.58, Loss: 2.8098, Accuracy: 0.39%, Perplexity: 16.6073\n",
            "Epoch [22/100], Time:1.56, Loss: 2.7346, Accuracy: 0.40%, Perplexity: 15.4034\n",
            "Epoch [23/100], Time:1.58, Loss: 2.6597, Accuracy: 0.41%, Perplexity: 14.2926\n",
            "Epoch [24/100], Time:1.60, Loss: 2.5868, Accuracy: 0.43%, Perplexity: 13.2869\n",
            "Epoch [25/100], Time:1.70, Loss: 2.5207, Accuracy: 0.44%, Perplexity: 12.4372\n",
            "Epoch [26/100], Time:1.80, Loss: 2.4587, Accuracy: 0.45%, Perplexity: 11.6895\n",
            "Epoch [27/100], Time:1.78, Loss: 2.3948, Accuracy: 0.46%, Perplexity: 10.9664\n",
            "Epoch [28/100], Time:1.79, Loss: 2.3401, Accuracy: 0.47%, Perplexity: 10.3824\n",
            "Epoch [29/100], Time:1.76, Loss: 2.2857, Accuracy: 0.48%, Perplexity: 9.8326\n",
            "Epoch [30/100], Time:1.78, Loss: 2.2351, Accuracy: 0.50%, Perplexity: 9.3477\n",
            "Epoch [31/100], Time:1.77, Loss: 2.1843, Accuracy: 0.50%, Perplexity: 8.8843\n",
            "Epoch [32/100], Time:1.77, Loss: 2.1338, Accuracy: 0.51%, Perplexity: 8.4471\n",
            "Epoch [33/100], Time:1.78, Loss: 2.0897, Accuracy: 0.52%, Perplexity: 8.0828\n",
            "Epoch [34/100], Time:1.78, Loss: 2.0479, Accuracy: 0.53%, Perplexity: 7.7517\n",
            "Epoch [35/100], Time:1.78, Loss: 2.0124, Accuracy: 0.54%, Perplexity: 7.4813\n",
            "Epoch [36/100], Time:1.78, Loss: 1.9728, Accuracy: 0.54%, Perplexity: 7.1908\n",
            "Epoch [37/100], Time:1.71, Loss: 1.9389, Accuracy: 0.55%, Perplexity: 6.9510\n",
            "Epoch [38/100], Time:1.62, Loss: 1.9071, Accuracy: 0.56%, Perplexity: 6.7333\n",
            "Epoch [39/100], Time:1.60, Loss: 1.8678, Accuracy: 0.57%, Perplexity: 6.4737\n",
            "Epoch [40/100], Time:1.62, Loss: 1.8411, Accuracy: 0.57%, Perplexity: 6.3034\n",
            "Epoch [41/100], Time:1.62, Loss: 1.8059, Accuracy: 0.58%, Perplexity: 6.0854\n",
            "Epoch [42/100], Time:1.61, Loss: 1.7783, Accuracy: 0.58%, Perplexity: 5.9198\n",
            "Epoch [43/100], Time:1.64, Loss: 1.7467, Accuracy: 0.59%, Perplexity: 5.7357\n",
            "Epoch [44/100], Time:1.62, Loss: 1.7219, Accuracy: 0.59%, Perplexity: 5.5954\n",
            "Epoch [45/100], Time:1.61, Loss: 1.6975, Accuracy: 0.60%, Perplexity: 5.4601\n",
            "Epoch [46/100], Time:1.62, Loss: 1.6749, Accuracy: 0.60%, Perplexity: 5.3382\n",
            "Epoch [47/100], Time:1.62, Loss: 1.6490, Accuracy: 0.61%, Perplexity: 5.2019\n",
            "Epoch [48/100], Time:1.57, Loss: 1.6238, Accuracy: 0.61%, Perplexity: 5.0722\n",
            "Epoch [49/100], Time:1.56, Loss: 1.6050, Accuracy: 0.62%, Perplexity: 4.9780\n",
            "Epoch [50/100], Time:1.58, Loss: 1.5865, Accuracy: 0.62%, Perplexity: 4.8866\n",
            "Epoch [51/100], Time:1.55, Loss: 1.5636, Accuracy: 0.63%, Perplexity: 4.7762\n",
            "Epoch [52/100], Time:1.54, Loss: 1.5461, Accuracy: 0.63%, Perplexity: 4.6931\n",
            "Epoch [53/100], Time:1.54, Loss: 1.5287, Accuracy: 0.63%, Perplexity: 4.6123\n",
            "Epoch [54/100], Time:1.54, Loss: 1.5032, Accuracy: 0.64%, Perplexity: 4.4961\n",
            "Epoch [55/100], Time:1.48, Loss: 1.4904, Accuracy: 0.64%, Perplexity: 4.4390\n",
            "Epoch [56/100], Time:1.49, Loss: 1.4715, Accuracy: 0.65%, Perplexity: 4.3556\n",
            "Epoch [57/100], Time:1.54, Loss: 1.4513, Accuracy: 0.65%, Perplexity: 4.2688\n",
            "Epoch [58/100], Time:1.41, Loss: 1.4391, Accuracy: 0.65%, Perplexity: 4.2168\n",
            "Epoch [59/100], Time:1.49, Loss: 1.4257, Accuracy: 0.66%, Perplexity: 4.1608\n",
            "Epoch [60/100], Time:1.55, Loss: 1.4165, Accuracy: 0.66%, Perplexity: 4.1227\n",
            "Epoch [61/100], Time:1.52, Loss: 1.4057, Accuracy: 0.66%, Perplexity: 4.0783\n",
            "Epoch [62/100], Time:1.52, Loss: 1.3904, Accuracy: 0.66%, Perplexity: 4.0163\n",
            "Epoch [63/100], Time:1.52, Loss: 1.3686, Accuracy: 0.67%, Perplexity: 3.9299\n",
            "Epoch [64/100], Time:1.51, Loss: 1.3603, Accuracy: 0.67%, Perplexity: 3.8972\n",
            "Epoch [65/100], Time:1.51, Loss: 1.3458, Accuracy: 0.67%, Perplexity: 3.8414\n",
            "Epoch [66/100], Time:1.52, Loss: 1.3360, Accuracy: 0.68%, Perplexity: 3.8037\n",
            "Epoch [67/100], Time:1.51, Loss: 1.3228, Accuracy: 0.68%, Perplexity: 3.7537\n",
            "Epoch [68/100], Time:1.51, Loss: 1.3182, Accuracy: 0.68%, Perplexity: 3.7368\n",
            "Epoch [69/100], Time:1.51, Loss: 1.2975, Accuracy: 0.68%, Perplexity: 3.6601\n",
            "Epoch [70/100], Time:1.52, Loss: 1.2897, Accuracy: 0.69%, Perplexity: 3.6316\n",
            "Epoch [71/100], Time:1.51, Loss: 1.2838, Accuracy: 0.69%, Perplexity: 3.6104\n",
            "Epoch [72/100], Time:1.52, Loss: 1.2678, Accuracy: 0.69%, Perplexity: 3.5531\n",
            "Epoch [73/100], Time:1.51, Loss: 1.2574, Accuracy: 0.69%, Perplexity: 3.5162\n",
            "Epoch [74/100], Time:1.51, Loss: 1.2565, Accuracy: 0.69%, Perplexity: 3.5130\n",
            "Epoch [75/100], Time:1.51, Loss: 1.2420, Accuracy: 0.70%, Perplexity: 3.4625\n",
            "Epoch [76/100], Time:1.51, Loss: 1.2348, Accuracy: 0.70%, Perplexity: 3.4376\n",
            "Epoch [77/100], Time:1.51, Loss: 1.2252, Accuracy: 0.70%, Perplexity: 3.4047\n",
            "Epoch [78/100], Time:1.51, Loss: 1.2167, Accuracy: 0.70%, Perplexity: 3.3761\n",
            "Epoch [79/100], Time:1.51, Loss: 1.2033, Accuracy: 0.70%, Perplexity: 3.3309\n",
            "Epoch [80/100], Time:1.52, Loss: 1.1968, Accuracy: 0.71%, Perplexity: 3.3095\n",
            "Epoch [81/100], Time:1.52, Loss: 1.1888, Accuracy: 0.71%, Perplexity: 3.2832\n",
            "Epoch [82/100], Time:1.52, Loss: 1.1852, Accuracy: 0.71%, Perplexity: 3.2713\n",
            "Epoch [83/100], Time:1.52, Loss: 1.1724, Accuracy: 0.71%, Perplexity: 3.2299\n",
            "Epoch [84/100], Time:1.51, Loss: 1.1660, Accuracy: 0.71%, Perplexity: 3.2092\n",
            "Epoch [85/100], Time:1.52, Loss: 1.1564, Accuracy: 0.71%, Perplexity: 3.1783\n",
            "Epoch [86/100], Time:1.51, Loss: 1.1575, Accuracy: 0.71%, Perplexity: 3.1819\n",
            "Epoch [87/100], Time:1.51, Loss: 1.1538, Accuracy: 0.71%, Perplexity: 3.1703\n",
            "Epoch [88/100], Time:1.51, Loss: 1.1465, Accuracy: 0.72%, Perplexity: 3.1472\n",
            "Epoch [89/100], Time:1.52, Loss: 1.1342, Accuracy: 0.72%, Perplexity: 3.1087\n",
            "Epoch [90/100], Time:1.52, Loss: 1.1271, Accuracy: 0.72%, Perplexity: 3.0868\n",
            "Epoch [91/100], Time:1.52, Loss: 1.1241, Accuracy: 0.72%, Perplexity: 3.0774\n",
            "Epoch [92/100], Time:1.52, Loss: 1.1153, Accuracy: 0.72%, Perplexity: 3.0503\n",
            "Epoch [93/100], Time:1.53, Loss: 1.1086, Accuracy: 0.72%, Perplexity: 3.0302\n",
            "Epoch [94/100], Time:1.54, Loss: 1.1068, Accuracy: 0.73%, Perplexity: 3.0247\n",
            "Epoch [95/100], Time:1.53, Loss: 1.1053, Accuracy: 0.73%, Perplexity: 3.0201\n",
            "Epoch [96/100], Time:1.55, Loss: 1.0995, Accuracy: 0.73%, Perplexity: 3.0027\n",
            "Epoch [97/100], Time:1.52, Loss: 1.0874, Accuracy: 0.73%, Perplexity: 2.9667\n",
            "Epoch [98/100], Time:1.53, Loss: 1.0819, Accuracy: 0.73%, Perplexity: 2.9502\n",
            "Epoch [99/100], Time:1.52, Loss: 1.0790, Accuracy: 0.73%, Perplexity: 2.9417\n",
            "Epoch [100/100], Time:1.56, Loss: 1.0720, Accuracy: 0.73%, Perplexity: 2.9213\n"
          ]
        }
      ],
      "source": [
        "print(\"Model with Self Attention and Causal Mask:\")\n",
        "print()\n",
        "\n",
        "# Cross Entropy\n",
        "criterion = nn.CrossEntropyLoss()\n",
        "\n",
        "# Optimizer\n",
        "optimizer = torch.optim.AdamW(model_attn.parameters(), lr)\n",
        "\n",
        "model_attn.to(device)\n",
        "\n",
        "print()\n",
        "print(\"Training Start\")\n",
        "print()\n",
        "train(model_attn, criterion, optimizer, device)"
      ]
    },
    {
      "cell_type": "markdown",
      "metadata": {
        "id": "PSXfwYISDoPN"
      },
      "source": [
        "### Avaliação do Modelo"
      ]
    },
    {
      "cell_type": "code",
      "execution_count": 22,
      "metadata": {},
      "outputs": [
        {
          "name": "stdout",
          "output_type": "stream",
          "text": [
            "\n",
            "Evaluation Start\n",
            "\n",
            "Test Accuracy: 20.87%\n",
            "Average Loss: 8.46\n",
            "Average Perplexity: 4731.55\n"
          ]
        }
      ],
      "source": [
        "print()\n",
        "print(\"Evaluation Start\")\n",
        "print()\n",
        "eval(model_attn, criterion, device)"
      ]
    },
    {
      "cell_type": "markdown",
      "metadata": {
        "id": "A1zhxVqfzJ_M"
      },
      "source": [
        "## Exemplo de uso"
      ]
    },
    {
      "cell_type": "code",
      "execution_count": 23,
      "metadata": {},
      "outputs": [
        {
          "name": "stdout",
          "output_type": "stream",
          "text": [
            "Que de e se da em ao estava mesmo entre arvore tronco cheio aberta vigor soffrimento destacava encostado amasse.\n"
          ]
        }
      ],
      "source": [
        "# Simple decoder for tokens into a sentence\n",
        "def decode(tokens):\n",
        "  words = []\n",
        "  for key, value in vocab.items():\n",
        "    if value in tokens:\n",
        "      words.append(key)\n",
        "  \n",
        "  sentence = ' '.join(words)\n",
        "  sentence = sentence.capitalize() + '.'\n",
        "  return sentence\n",
        "\n",
        "seq = torch.zeros((1, 1), dtype=torch.long, device=device)\n",
        "tokens = model_attn.generate(seq, 20, seq_len)[0].tolist()\n",
        "print(decode(tokens))"
      ]
    }
  ],
  "metadata": {
    "accelerator": "GPU",
    "colab": {
      "gpuType": "T4",
      "provenance": []
    },
    "kernelspec": {
      "display_name": "ml_pytorch",
      "language": "python",
      "name": "python3"
    },
    "language_info": {
      "codemirror_mode": {
        "name": "ipython",
        "version": 3
      },
      "file_extension": ".py",
      "mimetype": "text/x-python",
      "name": "python",
      "nbconvert_exporter": "python",
      "pygments_lexer": "ipython3",
      "version": "3.12.2"
    }
  },
  "nbformat": 4,
  "nbformat_minor": 0
}
