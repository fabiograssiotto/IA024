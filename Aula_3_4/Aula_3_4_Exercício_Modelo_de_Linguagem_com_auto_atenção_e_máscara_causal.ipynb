{
  "cells": [
    {
      "cell_type": "markdown",
      "metadata": {
        "id": "fMI0JT_YuYF3"
      },
      "source": [
        "## Exercício: Modelo de Linguagem com auto-atenção e máscaras causais\n",
        "\n",
        "Seguimos na mesma linha de treinar um modelo de linguagem a partir dos textos do livro \"O Guarani\", de José de Alencar.\n",
        "\n",
        "Neste exercício, vamos treinar um modelo de linguagem com auto-atenção e com máscara causal. A máscara causal é necessária para que o modelo não tenha acesso a palavras futuras, que é a abordagem usada por grandes modelos de linguagem, como o GPT.\n",
        "\n",
        "Use a implementação matricial de auto-atenção da aula passada.\n",
        "\n",
        "### Modificações necessárias\n",
        "\n",
        "* Adicione a máscara causal na função `forward` da cabeça de auto-atenção.\n",
        "* Modifique o nosso dataloader para retornar inputs (uma lista de tokens de tamanho $n$), targets (uma lista de tokens de tamanho $n$ deslocada para a esquerda em 1 token). Exemplo `input = [1, 2, 3, 4]`, `target = [2, 3, 4, 5]` para a sequência `[1, 2, 3, 4, 5]` com `seq_len=4`, por exemplo (Ver slide 50).\n",
        "\n",
        "### Extra\n",
        "* MultiHeadAttention: modifique a cabeça de auto-atenção para ter múltiplas cabeças. Isso não é obrigatório, mas pode ser interessante para ver como o modelo se comporta.\n",
        "* Diagrama da geração: fazer diagrama que mostre os passos da geração de tokens (conforme slide 47).\n",
        "\n",
        "### Dicas\n",
        "\n",
        "* Use como base o vídeo do Karpathy: https://www.youtube.com/watch?v=kCc8FmEb1nY. Observe que, no vídeo, ele primeiro implementa um modelo bi-grama, depois um modelo de linguagem com auto-atenção. O modelo de auto-atenção é implementado por volta do minuto 40, mas vale a pena assistir o vídeo todo.\n",
        "* Use esta implementação como base: https://colab.research.google.com/drive/1vFTg4MSXVJwNSzPjaCcvmqhxTP7gK7HA?usp=sharing. Observe como o modelo é organizado e como a máscara é implementada na classe MultiHeadAttention.\n",
        "* Use `context_size=9`"
      ]
    },
    {
      "cell_type": "markdown",
      "metadata": {},
      "source": [
        "## Imports"
      ]
    },
    {
      "cell_type": "code",
      "execution_count": 1,
      "metadata": {},
      "outputs": [],
      "source": [
        "import os\n",
        "import sys\n",
        "import random\n",
        "import torch.nn as nn\n",
        "import torch.nn.functional as F\n",
        "import time\n",
        "import math\n",
        "from sklearn.model_selection import train_test_split\n",
        "from torch import nn"
      ]
    },
    {
      "cell_type": "markdown",
      "metadata": {},
      "source": [
        "## Variáveis Globais e Inicialização"
      ]
    },
    {
      "cell_type": "code",
      "execution_count": 2,
      "metadata": {},
      "outputs": [],
      "source": [
        "# Global variables\n",
        "\n",
        "# Vocabulary\n",
        "vocab_size = 5000\n",
        "context_size = 5\n",
        "pattern = r'\\w+|[,;.:!?\\']'\n",
        "\n",
        "# Training\n",
        "batch_size = 128\n",
        "epochs = 10\n",
        "lr = 0.1\n",
        "\n",
        "# Model\n",
        "embedding_dim = 256\n",
        "hidden_dim = 128\n",
        "dropout_rate = 0.2\n",
        "\n",
        "# Colab environment\n",
        "IN_COLAB = 'google.colab' in sys.modules\n",
        "\n",
        "if (IN_COLAB):\n",
        "    %pip install colorama\n",
        "\n",
        "    # Google Drive\n",
        "    from google.colab import drive\n",
        "    drive.mount('/content/drive', force_remount=True)\n",
        "\n",
        "    project_folder=\"/content/drive/MyDrive/Classes/IA024/Aula_2_3\"\n",
        "    os.chdir(project_folder)\n",
        "    !ls -la"
      ]
    },
    {
      "cell_type": "markdown",
      "metadata": {
        "id": "bYbkEzdD37sZ"
      },
      "source": [
        "## Faz download e carrega o dataset"
      ]
    },
    {
      "cell_type": "code",
      "execution_count": 3,
      "metadata": {
        "colab": {
          "base_uri": "https://localhost:8080/"
        },
        "id": "9qAnqY_q0beK",
        "outputId": "f810fdb0-138d-4917-b7ef-69ab266acef6"
      },
      "outputs": [],
      "source": [
        "# Check if download is necessary\n",
        "if not os.path.exists(\"67724.txt.utf-8\"):\n",
        "    print(\"Downloading Gutenberg texts\")\n",
        "\n",
        "    !wget https://www.gutenberg.org/ebooks/67724.txt.utf-8\n",
        "    !wget https://www.gutenberg.org/ebooks/67725.txt.utf-8"
      ]
    },
    {
      "cell_type": "code",
      "execution_count": 4,
      "metadata": {
        "colab": {
          "base_uri": "https://localhost:8080/"
        },
        "id": "6_UzC9pV091C",
        "outputId": "1553b04f-24c4-4027-8cab-0907f92f04df"
      },
      "outputs": [
        {
          "data": {
            "text/plain": [
              "4969"
            ]
          },
          "execution_count": 4,
          "metadata": {},
          "output_type": "execute_result"
        }
      ],
      "source": [
        "text = open(\"67724.txt.utf-8\",\"r\").read()\n",
        "text += open(\"67725.txt.utf-8\",\"r\").read()\n",
        "\n",
        "paragraphs = text.split(\"\\n\\n\")\n",
        "\n",
        "len(paragraphs)"
      ]
    },
    {
      "cell_type": "code",
      "execution_count": 5,
      "metadata": {
        "colab": {
          "base_uri": "https://localhost:8080/"
        },
        "id": "UhUFjtNdDuG0",
        "outputId": "78798c0c-deca-4454-d3fb-7d3ba70f3e91"
      },
      "outputs": [
        {
          "name": "stdout",
          "output_type": "stream",
          "text": [
            "The Project Gutenberg eBook of O Guarany: romance brazileiro, Vol. 1 (of 2)\n",
            "    \n",
            "This ebook is for the use of anyone anywhere in the United States and\n",
            "most other parts of the world at no cost and with almost no restrictions\n",
            "whatsoever. You may copy it, give it away or re-use it under the terms\n",
            "of the Project Gutenberg License included with this ebook or online\n",
            "at www.gutenberg.org. If you are not located in the United States,\n",
            "you will have to check the laws of the country where you are located\n",
            "before using this eBook.\n"
          ]
        }
      ],
      "source": [
        "# Checking the text\n",
        "print(paragraphs[0])"
      ]
    },
    {
      "cell_type": "code",
      "execution_count": 6,
      "metadata": {},
      "outputs": [
        {
          "name": "stdout",
          "output_type": "stream",
          "text": [
            "--Não tenhais esse receio; qualquer que seja a desgraça que me annunciardes, será bem vinda pelos vossos labios; é sempre um consolo receber-se a má nova de voz amiga!\n",
            "\n",
            "--Pery ia salvar-te!\n",
            "\n",
            "Depois, fatigado do esforço supremo, se estende sobre a terra, e adormece n'uma linda bacia que a natureza formou, e onde o recebe como em um leito de noiva, sob as cortinas de trepadeiras e flores agrestes.\n",
            "\n",
            "While we cannot and do not solicit contributions from states where we have not met the solicitation requirements, we know of no prohibition against accepting unsolicited donations from donors in such states who approach us with offers to donate.\n",
            "\n",
            " PAG. 42.--=Biribá=.\n",
            "\n",
            "Number of paragraphs: 4892\n"
          ]
        },
        {
          "data": {
            "text/plain": [
              "4892"
            ]
          },
          "execution_count": 6,
          "metadata": {},
          "output_type": "execute_result"
        }
      ],
      "source": [
        "cleaned_paragraphs = [paragraph.replace(\"\\n\", \" \") for paragraph in paragraphs if paragraph.strip()]\n",
        "\n",
        "# Print 5 random paragraphs\n",
        "num_paragraphs = len(cleaned_paragraphs)\n",
        "for i in range(0,5):\n",
        "    idx = random.randrange(num_paragraphs)\n",
        "    print(f\"{cleaned_paragraphs[idx]}\\n\")\n",
        "\n",
        "print(\"Number of paragraphs: \" + str(num_paragraphs))\n",
        "\n",
        "len(cleaned_paragraphs)"
      ]
    },
    {
      "cell_type": "markdown",
      "metadata": {
        "id": "bFVN2ihb33Rf"
      },
      "source": [
        "## Análise do dataset"
      ]
    },
    {
      "cell_type": "code",
      "execution_count": 7,
      "metadata": {
        "colab": {
          "base_uri": "https://localhost:8080/"
        },
        "id": "qSRHqe3H4ZFw",
        "outputId": "4a985c7a-ce1d-4b72-d253-c9fbbc5f9440"
      },
      "outputs": [
        {
          "data": {
            "text/plain": [
              "12603"
            ]
          },
          "execution_count": 7,
          "metadata": {},
          "output_type": "execute_result"
        }
      ],
      "source": [
        "# Conta as palavras no dataset\n",
        "from collections import Counter\n",
        "import re\n",
        "\n",
        "def count_words(texts):\n",
        "    word_counts = Counter()\n",
        "    for text in texts:\n",
        "        word_counts.update(re.findall(r'\\w+', text.lower()))\n",
        "    return word_counts\n",
        "\n",
        "word_counts = count_words(cleaned_paragraphs)\n",
        "\n",
        "len(word_counts)"
      ]
    },
    {
      "cell_type": "markdown",
      "metadata": {
        "id": "EyGVDL9KzJ_I"
      },
      "source": [
        "## Criando um vocabulário"
      ]
    },
    {
      "cell_type": "code",
      "execution_count": 8,
      "metadata": {
        "id": "FiP7OCo9zJ_I"
      },
      "outputs": [],
      "source": [
        "most_frequent_words = [word for word, count in word_counts.most_common(vocab_size)]\n",
        "vocab = {word: i for i, word in enumerate(most_frequent_words, 1)}"
      ]
    },
    {
      "cell_type": "code",
      "execution_count": 9,
      "metadata": {
        "colab": {
          "base_uri": "https://localhost:8080/"
        },
        "id": "RhbhAsZbzJ_J",
        "outputId": "6a53c9e0-308d-4082-e225-cfa376e8f39a"
      },
      "outputs": [
        {
          "name": "stdout",
          "output_type": "stream",
          "text": [
            " Publicando este livro em 1857, se disse ser aquella primeira edição uma prova typographica, que algum dia talvez o autor se dispuzesse a rever.\n",
            "[0, 139, 4376, 19, 0, 0, 6, 44, 110, 269, 259, 2662, 10, 1064, 0, 0, 2, 186, 130, 280, 3, 2257, 6, 0, 1, 2665, 0]\n"
          ]
        }
      ],
      "source": [
        "def encode_sentence(sentence, vocab):\n",
        "    return [vocab.get(word, 0) for word in re.findall(pattern, sentence.lower())]\n",
        "\n",
        "print(cleaned_paragraphs[20])\n",
        "print(encode_sentence(cleaned_paragraphs[20], vocab))"
      ]
    },
    {
      "cell_type": "markdown",
      "metadata": {
        "id": "wia_ygbvzJ_J"
      },
      "source": [
        "## Classe do dataset"
      ]
    },
    {
      "cell_type": "code",
      "execution_count": 10,
      "metadata": {
        "id": "Iy-elI1magRR"
      },
      "outputs": [],
      "source": [
        "# Dataset class\n",
        "import torch\n",
        "from torch.utils.data import Dataset, DataLoader\n",
        "\n",
        "class CustomDataset(Dataset):\n",
        "  def __init__(self, paragraphs, vocab, context):\n",
        "    self.paragraphs = paragraphs\n",
        "    self.vocab = vocab\n",
        "    self.context = context\n",
        "    self.tokens, self.targets = self.setup()\n",
        "\n",
        "  def __len__(self):\n",
        "    return len(self.tokens)\n",
        "\n",
        "  def __getitem__(self, idx):\n",
        "    return torch.tensor(self.tokens[idx]), torch.tensor(self.targets[idx])\n",
        "  \n",
        "  def setup(self):\n",
        "    tokens = []\n",
        "    targets = []\n",
        "    for paragraph in self.paragraphs:\n",
        "      encoded = encode_sentence(paragraph, self.vocab)\n",
        "      \n",
        "      # If paragraph is smaller than the context, skip it.\n",
        "      if len(encoded) < self.context + 1:\n",
        "          continue\n",
        "\n",
        "      for i in range(len(encoded) - self.context):\n",
        "        tks = encoded[i:i+self.context]\n",
        "        tgt = encoded[i+self.context]\n",
        "        # Only add if there are no unknown tokens in both context and target.\n",
        "        bad_token = 0\n",
        "        if not (bad_token in tks or tgt == bad_token):\n",
        "          tokens.append(tks)\n",
        "          targets.append(tgt)\n",
        "    return tokens, targets"
      ]
    },
    {
      "cell_type": "code",
      "execution_count": 11,
      "metadata": {
        "id": "y1aetOpmDeQd"
      },
      "outputs": [
        {
          "name": "stdout",
          "output_type": "stream",
          "text": [
            "Training samples: 3913\n",
            "Validation samples: 979\n",
            "\n",
            "Training dataset samples: 22886\n",
            "Validation dataset samples: 5853\n"
          ]
        }
      ],
      "source": [
        "# Train/Validation split\n",
        "train_data, val_data = train_test_split(cleaned_paragraphs, test_size=0.2, random_state=18)\n",
        "\n",
        "train_dataset = CustomDataset(train_data, vocab, context_size)\n",
        "val_dataset = CustomDataset(val_data, vocab, context_size)\n",
        "\n",
        "# Counting all Samples\n",
        "print(f\"Training samples: {len(train_data)}\")\n",
        "print(f\"Validation samples: {len(val_data)}\")\n",
        "print()\n",
        "print(f\"Training dataset samples: {len(train_dataset)}\")\n",
        "print(f\"Validation dataset samples: {len(val_dataset)}\")"
      ]
    },
    {
      "cell_type": "code",
      "execution_count": 12,
      "metadata": {
        "colab": {
          "base_uri": "https://localhost:8080/"
        },
        "id": "aD1CVci2zJ_J",
        "outputId": "5bf0839e-f30e-4ff2-ed6f-4f3fda782b7c"
      },
      "outputs": [
        {
          "name": "stdout",
          "output_type": "stream",
          "text": [
            "[tensor([[  15,   10,  292,  594,    2],\n",
            "        [   2,   48,  247,    7,  320],\n",
            "        [   5, 4046,    3,   37,   11],\n",
            "        [1336,  544,  813,   26,  156],\n",
            "        [   2,    6, 1220,  953,  585],\n",
            "        [  20,   84,   11,  669,    2],\n",
            "        [  94,   23,  337,    4,  125],\n",
            "        [   8,  355,    2,   39,  140],\n",
            "        [   1, 1104,    2,   17, 1306],\n",
            "        [ 514,    4, 2061,   11,  177],\n",
            "        [1648,   19,    7,   36, 2266],\n",
            "        [   9,  216,   80,   15,    9],\n",
            "        [   1,   76,  595,   80,   38],\n",
            "        [   6,  101,    3, 2012,   11],\n",
            "        [   6,   15, 1031,    3,   16],\n",
            "        [ 214, 1696,    6,    3,  746],\n",
            "        [1754,    4,  934,  539,  743],\n",
            "        [ 292,   19,    2,    6, 1140],\n",
            "        [ 215,   18, 4248,   77, 1567],\n",
            "        [1829, 4621,    4,   10,  365],\n",
            "        [ 385,    7, 2632,    5,   10],\n",
            "        [  17,  867,   77, 1834,   18],\n",
            "        [   3, 1878,    2,    6,  674],\n",
            "        [ 162,   12,   49, 1131,   32],\n",
            "        [ 175,   64,    2,  488,    3],\n",
            "        [   2,    6,  667,    1,    7],\n",
            "        [  91, 1905,    3,  185,  598],\n",
            "        [ 235,    8,  344,    4,   14],\n",
            "        [   2,   46, 1346,  227,  119],\n",
            "        [   5, 3735,    2,    3,   37],\n",
            "        [4009,    6,   26, 1455,  912],\n",
            "        [ 391, 1237,   13,    3,  346],\n",
            "        [  15, 1740,    8,  169,    2],\n",
            "        [   5,   91,   50, 3041,  167],\n",
            "        [  21,   92,  134,    2,   48],\n",
            "        [  13,    1,   14, 1180,    5],\n",
            "        [ 722,    1,  487,    4,    7],\n",
            "        [ 331, 2162, 2444,   24,    3],\n",
            "        [   1, 2119,    3, 4877,  836],\n",
            "        [  12,   49, 1131,   56,  294],\n",
            "        [   9,  108,    6, 4009,    4],\n",
            "        [3945,   46, 3461,   19,    2],\n",
            "        [ 386,    1,   99,  405,    7],\n",
            "        [ 255,   19,    7, 1466,   11],\n",
            "        [  47,  144,   83,  184,   67],\n",
            "        [   3,   16,  155, 1568,    6],\n",
            "        [   5,    3, 3314,    4,    7],\n",
            "        [1696,   20,   84,   45, 1056],\n",
            "        [ 316,   99,    3,   16,  185],\n",
            "        [ 365,  608,    4, 4065,    2],\n",
            "        [  52,  686,    6,   15, 4320],\n",
            "        [  77,  233,   64,    1,    2],\n",
            "        [1413,    5,  623,   52,  716],\n",
            "        [ 629,   20,  332,    2,   58],\n",
            "        [   6,   20,  344, 1755,    4],\n",
            "        [  28,    3, 1216,  759,    4],\n",
            "        [4825,    2,    6,  828,   26],\n",
            "        [1279,    4,  308,  607,  439],\n",
            "        [   2,    3, 1076, 4420, 3780],\n",
            "        [ 501,    2, 1432,   13,    3],\n",
            "        [ 251,  921,    3,   13,    7],\n",
            "        [   7,   90,   56,   49,    4],\n",
            "        [ 117,   19,   42,    7,  313],\n",
            "        [   2, 3422,   10,  827,  564],\n",
            "        [  41,    4,   66,    5,   14],\n",
            "        [ 630,   30,   14,  651,  308],\n",
            "        [  21,  415,    4,  797,  338],\n",
            "        [  99,  566,   13,    7,  335],\n",
            "        [ 283,  352, 1364,    2,    3],\n",
            "        [   1,  207,   19,  262,   11],\n",
            "        [   1, 4225,   19,    2,    6],\n",
            "        [2933,   12, 3736,    4,  362],\n",
            "        [ 906,    6,  239,    1,  326],\n",
            "        [ 549, 1286,    5, 1367,    2],\n",
            "        [   7, 1066,    2,   24,  370],\n",
            "        [ 408,    2,   12, 1767,   11],\n",
            "        [  21,   14,  117,   13,    1],\n",
            "        [ 486,   10,  177, 2297,   30],\n",
            "        [ 141, 1151,   47,   35,  372],\n",
            "        [   3,  462,   27, 2525, 2004],\n",
            "        [ 316,   16, 1337,   11,  727],\n",
            "        [   5,  681,    2,    6,  825],\n",
            "        [  19,  297,    4, 4510,    1],\n",
            "        [   1,  734,    2,  577,   57],\n",
            "        [ 246,  355, 2426,   13,    2],\n",
            "        [ 146,  665,    5,  542,    7],\n",
            "        [  28,  154,  255,    3,  706],\n",
            "        [1507, 1252,   85,  325,  929],\n",
            "        [   1, 4475,   28, 3434,   21],\n",
            "        [   4, 4792,    5, 2030,    5],\n",
            "        [  22,  755,    4, 1861,    1],\n",
            "        [  20,  618,   36,  210,  674],\n",
            "        [   1,  448,    8,  610,   21],\n",
            "        [ 252,  929,  109,   35,  463],\n",
            "        [  96,    7, 2174,   13,    2],\n",
            "        [   3, 1366, 4173,   26,  212],\n",
            "        [1640,   36,  145,    2, 4110],\n",
            "        [4062,    4,    2,   12,  145],\n",
            "        [   1,  774,    8,   37,    1],\n",
            "        [ 164,    3,  154,   77,  950],\n",
            "        [   3,  313,   31,    1,  402],\n",
            "        [   2,  596,   69,  298,    7],\n",
            "        [  19,    2,    6,  541,   70],\n",
            "        [  41,  546,    6,    4,   17],\n",
            "        [ 197,   12,   39,  205,   65],\n",
            "        [ 291,  603, 1318,    2,    1],\n",
            "        [ 685,   32,    7,   36,  306],\n",
            "        [  17,  749,   56,   39,  798],\n",
            "        [   3, 4187,  772,    1,   92],\n",
            "        [   4,  346,   32,    1, 1949],\n",
            "        [   6, 1040, 1897, 1687,   75],\n",
            "        [ 385, 1091,  384,  234,  124],\n",
            "        [ 868,    4, 4207,    4,  189],\n",
            "        [   4,  804,   10,  121,   22],\n",
            "        [ 167,    4,  549,    5,    1],\n",
            "        [   1,  759,   57,  441,    2],\n",
            "        [   8,  309,    2, 4987,   14],\n",
            "        [  23,    7,   60,  834,  176],\n",
            "        [   6,    8,  582,    8,  462],\n",
            "        [4009,    4,    7,  222,  254],\n",
            "        [1909,   30, 3146,    4,  126],\n",
            "        [ 185,  382,    6,  530, 2606],\n",
            "        [ 359,    8,  362, 1318,    5],\n",
            "        [1042,    9,   31,   11,  131],\n",
            "        [ 357,  247,   63,   53,  207],\n",
            "        [ 366, 3056,   23,    1, 1494],\n",
            "        [2174, 1315,    6,    1, 1819],\n",
            "        [1151,  275,   35,  499,   47]]), tensor([ 662,    2,  150,   51,    3,   24,    1,  129, 2095,    4,    8,    6,\n",
            "        1124,   14,  489, 1925,  123, 4264,   10, 3545,  142,  143,   19,    1,\n",
            "         174,  236,  110,   51,  637,   24,    2,   32,   89,   15,  672,    1,\n",
            "        3566,  134,    2,  437,    7,   87, 4295, 2084,   59, 1186,  137,    5,\n",
            "        2585,   27,    3,    3, 2473, 1876,   29,  486,  444, 1467,  101,  214,\n",
            "         362,   43,    2,    5,  172, 3131,   11, 2789, 4500, 1520,  541,    5,\n",
            "           2,    6,  745, 3455,  402, 2264, 1719,   11,   15,   30, 4726,   86,\n",
            "          58,  606, 2837, 1508,    7,  128, 4948,  477,    2,  375,  716,    8,\n",
            "          13, 2279,    7,    6,   40,   36,    5,    5, 2939,  759,  508,    3,\n",
            "           4,   19,  174,  108,    1,  288,  366,  162,  168,  273,   21,    4,\n",
            "          18,    3, 1460,    5,    1,    2, 1253,   35])]\n"
          ]
        }
      ],
      "source": [
        "train_loader = DataLoader(train_dataset, batch_size=batch_size, shuffle=True)\n",
        "val_loader = DataLoader(val_dataset, batch_size=batch_size, shuffle=True)\n",
        "\n",
        "sample = next(iter(train_loader))\n",
        "print(sample)"
      ]
    },
    {
      "cell_type": "markdown",
      "metadata": {
        "id": "-5_-Yud0zJ_K"
      },
      "source": [
        "## Model"
      ]
    },
    {
      "cell_type": "code",
      "execution_count": 13,
      "metadata": {
        "id": "I2qKG9YczJ_K"
      },
      "outputs": [],
      "source": [
        "# Positional Embedding - as described in \"Attention is All You Need\"\n",
        "class PositionalEncoding(nn.Module):\n",
        "    def __init__(self, max_sequence, embedding_dim):\n",
        "        super().__init__()\n",
        "        device = torch.device('cuda' if torch.cuda.is_available() else 'cpu')\n",
        "        self.positional_encoding = torch.zeros(max_sequence, embedding_dim, device=device)\n",
        "        position = torch.arange(0, max_sequence, device=device).unsqueeze(1)\n",
        "        div_term = torch.exp(torch.arange(0, embedding_dim, 2, device=device) * (-math.log(10000.0) / embedding_dim))\n",
        "        self.positional_encoding[:, 0::2] = torch.sin(position * div_term)\n",
        "        self.positional_encoding[:, 1::2] = torch.cos(position * div_term)\n",
        "        self.positional_encoding = self.positional_encoding.unsqueeze(0)\n",
        "\n",
        "    def forward(self, x):\n",
        "        _, seq_length, _ = x.size()\n",
        "        positional_encoding = self.positional_encoding[:, :seq_length, :]\n",
        "        positional_encoding = positional_encoding.to(x.device)\n",
        "        # Position encoding is added to the input embeddings.\n",
        "        return x + positional_encoding   "
      ]
    },
    {
      "cell_type": "code",
      "execution_count": 14,
      "metadata": {},
      "outputs": [],
      "source": [
        "# Matrix Implementation\n",
        "class SelfAttention_Matrix(nn.Module):\n",
        "  def __init__(self, embedding_dim, vocab_size):\n",
        "    super().__init__()\n",
        "\n",
        "    self.WQ = nn.Linear(embedding_dim, embedding_dim, bias=False)\n",
        "    self.WK = nn.Linear(embedding_dim, embedding_dim, bias=False)\n",
        "    self.WV = nn.Linear(embedding_dim, embedding_dim, bias=False)\n",
        "    self.WO = nn.Linear(embedding_dim, embedding_dim, bias=False)\n",
        "\n",
        "  def setProjections(self, WQ, WK, WV, WO):\n",
        "    self.WQ = WQ\n",
        "    self.WK = WK\n",
        "    self.WV = WV\n",
        "    self.WO = WO\n",
        "\n",
        "  def forward(self, inputs):\n",
        "    # Linear projections\n",
        "    Q = self.WQ(inputs)\n",
        "    K = self.WK(inputs)\n",
        "    V = self.WV(inputs)\n",
        "\n",
        "    scores = torch.matmul(Q, K.transpose(-2, -1))\n",
        "    probs = F.softmax(scores, dim=-1)\n",
        "    new_embedding = torch.matmul(probs, V)\n",
        "    # Projection in WO\n",
        "    new_embedding = self.WO(new_embedding)\n",
        "    return new_embedding"
      ]
    },
    {
      "cell_type": "code",
      "execution_count": 15,
      "metadata": {},
      "outputs": [],
      "source": [
        "class LanguageModel(torch.nn.Module):\n",
        "    def __init__(self, vocab_size, embedding_dim, context_size, h):\n",
        "        super(LanguageModel, self).__init__()\n",
        "        self.embeddings = nn.Embedding(vocab_size+1, embedding_dim)\n",
        "        self.posencoding = PositionalEncoding(context_size, embedding_dim)\n",
        "        self.attention = SelfAttention_Matrix(embedding_dim, vocab_size)        \n",
        "        self.linear1 = nn.Linear(context_size * embedding_dim, h)\n",
        "        self.dropout1 = nn.Dropout(p = dropout_rate)\n",
        "        self.relu = torch.nn.ReLU()\n",
        "        self.linear2 = nn.Linear(h, vocab_size+1)\n",
        "        self.dropout2 = nn.Dropout(p = dropout_rate)\n",
        "        # Softmax to scale outputs\n",
        "        self.logSoftMax = torch.nn.LogSoftmax(dim=1)\n",
        "\n",
        "    def forward(self, inputs):\n",
        "        embeds = self.embeddings(inputs)\n",
        "        embeds_pos = self.posencoding(embeds)\n",
        "        x = torch.stack(torch.unbind(embeds_pos, dim=1), dim=1)\n",
        "        # Camada de autoatenção\n",
        "        attention  = self.attention(x)\n",
        "        # Flatten embeddings\n",
        "        embeds = embeds.view(attention.size(0), -1)\n",
        "        # Linear layer\n",
        "        out = self.linear1(embeds)\n",
        "        out = self.dropout1(out)\n",
        "        out = self.relu(out)\n",
        "        # Second layer\n",
        "        out = self.linear2(out)\n",
        "        out = self.dropout2(out)\n",
        "        # Softmax output\n",
        "        out = self.logSoftMax(out)\n",
        "        return out"
      ]
    },
    {
      "cell_type": "markdown",
      "metadata": {},
      "source": [
        "## Funções de Treinamento e Avaliação do Modelo"
      ]
    },
    {
      "cell_type": "code",
      "execution_count": 16,
      "metadata": {},
      "outputs": [],
      "source": [
        "def count_parameters(model):\n",
        "    total_params = sum(p.numel() for p in model.parameters() if p.requires_grad)\n",
        "    print(f'The model has a total of {total_params:,} parameters.')"
      ]
    },
    {
      "cell_type": "code",
      "execution_count": 17,
      "metadata": {
        "id": "7yjQ1KXOzJ_K"
      },
      "outputs": [],
      "source": [
        "def initial_eval(model):\n",
        "    # Initial Perplexity and Loss\n",
        "    # Before training\n",
        "    model.eval()\n",
        "\n",
        "    loss = 0\n",
        "    perp = 0\n",
        "\n",
        "    with torch.no_grad():\n",
        "        for inputs, targets in train_loader:\n",
        "            inputs = inputs.to(device)\n",
        "            targets = targets.to(device)\n",
        "            outputs = model(inputs)\n",
        "            loss += criterion(outputs, targets).item()\n",
        "\n",
        "    loss /= len(train_loader)\n",
        "    perp = torch.exp(torch.tensor(loss))\n",
        "\n",
        "    print(f'Initial Loss: {loss:.4f}')\n",
        "    print(f'Initial Perplexity: {perp:.4f}')"
      ]
    },
    {
      "cell_type": "code",
      "execution_count": 18,
      "metadata": {},
      "outputs": [],
      "source": [
        "def train(model, criterion, optimizer):\n",
        "      # Training Loop\n",
        "      model.train()\n",
        "      for epoch in range(epochs):\n",
        "\n",
        "            epoch_start = time.time()\n",
        "            # Metrics\n",
        "            epoch_loss = 0\n",
        "            epoch_correct = 0\n",
        "            epoch_samples = 0\n",
        "\n",
        "            for inputs, targets in train_loader:\n",
        "                  inputs = inputs.to(device)  # Move input data to the device\n",
        "                  targets = targets.to(device)\n",
        "\n",
        "                  # Forward pass\n",
        "                  outputs = model(inputs)\n",
        "                  loss = criterion(outputs, targets)\n",
        "\n",
        "                  # Backward pass and optimization\n",
        "                  optimizer.zero_grad()\n",
        "                  loss.backward()\n",
        "                  optimizer.step()\n",
        "\n",
        "                  # Loss\n",
        "                  epoch_loss += loss.item()\n",
        "\n",
        "                  # Predicted\n",
        "                  _, predicted = torch.max(outputs, 1)\n",
        "                  epoch_correct += (predicted == targets).sum().item()\n",
        "                  epoch_samples += targets.size(0)\n",
        "\n",
        "            # Calculate average loss and accuracy for epoch\n",
        "            avg_loss = epoch_loss / len(train_loader)\n",
        "            acc = epoch_correct / epoch_samples\n",
        "\n",
        "            # Perplexity\n",
        "            perp = torch.exp(torch.tensor(avg_loss))\n",
        "\n",
        "            epoch_end = time.time()\n",
        "            epoch_time = epoch_end - epoch_start\n",
        "            # Print epoch statistics\n",
        "            print(f'Epoch [{epoch+1}/{epochs}], Time:{epoch_time:.2f}, Loss: {avg_loss:.4f}, Accuracy: {acc:.2f}%, Perplexity: {perp:.4f}')\n"
      ]
    },
    {
      "cell_type": "code",
      "execution_count": 19,
      "metadata": {},
      "outputs": [],
      "source": [
        "def eval(model, criterion):\n",
        "    model.eval()\n",
        "\n",
        "    loss_sum = 0\n",
        "    total_sum = 0\n",
        "    correct_sum = 0\n",
        "    eval_round = 0\n",
        "\n",
        "    loss = 0\n",
        "    perp = 0\n",
        "\n",
        "    with torch.no_grad():\n",
        "        for inputs, targets in val_loader:\n",
        "            inputs = inputs.to(device)\n",
        "            targets = targets.to(device)\n",
        "\n",
        "            outputs = model(inputs)\n",
        "            loss = criterion(outputs, targets)      \n",
        "            loss_sum += loss\n",
        "\n",
        "            # Get the predicted labels\n",
        "            _, predicted = torch.max(outputs, 1)\n",
        "\n",
        "            total_sum += targets.size(0)\n",
        "            correct_sum += (predicted == targets).sum().item()\n",
        "            eval_round += 1\n",
        "\n",
        "    # Calculate accuracy\n",
        "    acc = 100 * correct_sum / total_sum\n",
        "\n",
        "    # Calculate average perplexity\n",
        "    average_loss = loss_sum / len(val_loader)\n",
        "    average_perplexity = torch.exp(average_loss)\n",
        "\n",
        "    print(f'Test Accuracy: {acc:.2f}%')\n",
        "    print(f'Average Loss: {average_loss:.2f}')\n",
        "    print(f'Average Perplexity: {average_perplexity:.2f}')"
      ]
    },
    {
      "cell_type": "code",
      "execution_count": 20,
      "metadata": {},
      "outputs": [
        {
          "data": {
            "text/plain": [
              "device(type='cuda')"
            ]
          },
          "execution_count": 20,
          "metadata": {},
          "output_type": "execute_result"
        }
      ],
      "source": [
        "device = torch.device('cuda' if torch.cuda.is_available() else 'cpu')\n",
        "device"
      ]
    },
    {
      "cell_type": "markdown",
      "metadata": {
        "id": "UngUhyu7zJ_L"
      },
      "source": [
        "## Training"
      ]
    },
    {
      "cell_type": "code",
      "execution_count": 21,
      "metadata": {
        "id": "vRwSPiwizJ_L"
      },
      "outputs": [
        {
          "name": "stdout",
          "output_type": "stream",
          "text": [
            "Model with Self Attention:\n",
            "\n",
            "The model has a total of 2,351,497 parameters.\n",
            "\n",
            "Training Start\n",
            "\n",
            "Epoch [1/10], Time:2.14, Loss: 7.7416, Accuracy: 0.05%, Perplexity: 2302.1047\n",
            "Epoch [2/10], Time:1.24, Loss: 6.9527, Accuracy: 0.09%, Perplexity: 1045.9573\n",
            "Epoch [3/10], Time:1.25, Loss: 6.5878, Accuracy: 0.11%, Perplexity: 726.1639\n",
            "Epoch [4/10], Time:1.24, Loss: 6.2952, Accuracy: 0.14%, Perplexity: 541.9409\n",
            "Epoch [5/10], Time:1.25, Loss: 6.0578, Accuracy: 0.16%, Perplexity: 427.4146\n",
            "Epoch [6/10], Time:1.17, Loss: 5.8786, Accuracy: 0.17%, Perplexity: 357.3179\n",
            "Epoch [7/10], Time:1.16, Loss: 5.6768, Accuracy: 0.19%, Perplexity: 292.0055\n",
            "Epoch [8/10], Time:1.20, Loss: 5.5365, Accuracy: 0.21%, Perplexity: 253.7761\n",
            "Epoch [9/10], Time:1.24, Loss: 5.3893, Accuracy: 0.22%, Perplexity: 219.0574\n",
            "Epoch [10/10], Time:1.23, Loss: 5.2480, Accuracy: 0.23%, Perplexity: 190.1868\n"
          ]
        }
      ],
      "source": [
        "model_attn = LanguageModel(vocab_size, embedding_dim, context_size, hidden_dim)\n",
        "print(\"Model with Self Attention:\")\n",
        "print()\n",
        "count_parameters(model_attn)\n",
        "\n",
        "# Cross Entropy\n",
        "criterion = nn.CrossEntropyLoss()\n",
        "\n",
        "# Optimizer\n",
        "optimizer = torch.optim.SGD(model_attn.parameters(), lr)\n",
        "\n",
        "model_attn.to(device)\n",
        "\n",
        "print()\n",
        "print(\"Training Start\")\n",
        "print()\n",
        "train(model_attn, criterion, optimizer)"
      ]
    },
    {
      "cell_type": "markdown",
      "metadata": {
        "id": "PSXfwYISDoPN"
      },
      "source": [
        "## Avaliação"
      ]
    },
    {
      "cell_type": "code",
      "execution_count": 22,
      "metadata": {},
      "outputs": [
        {
          "name": "stdout",
          "output_type": "stream",
          "text": [
            "\n",
            "Evaluation Start\n",
            "\n",
            "Test Accuracy: 12.68%\n",
            "Average Loss: 6.13\n",
            "Average Perplexity: 459.38\n"
          ]
        }
      ],
      "source": [
        "print()\n",
        "print(\"Evaluation Start\")\n",
        "print()\n",
        "eval(model_attn, criterion)"
      ]
    },
    {
      "cell_type": "markdown",
      "metadata": {
        "id": "A1zhxVqfzJ_M"
      },
      "source": [
        "## Exemplo de uso"
      ]
    },
    {
      "cell_type": "code",
      "execution_count": 26,
      "metadata": {
        "id": "3PExkoWOzJ_M"
      },
      "outputs": [
        {
          "name": "stdout",
          "output_type": "stream",
          "text": [
            "Frase: --Sob pretexto de que os selvagens podem cortar-nos a entrada da casa por alguns dias, levamos provisão de viveres. Caminhamos sem parar, sem olhar atrás; e prometto-vos que nos salvaremos.\n",
            "[523, 2410, 4, 2, 12]\n",
            "[523, 2410, 4, 2, 12, 278]\n",
            "[523, 2410, 4, 2, 12, 278, 277]\n",
            "[523, 2410, 4, 2, 12, 278, 277, 579]\n",
            "[523, 2410, 4, 2, 12, 278, 277, 579, 12]\n",
            "[523, 2410, 4, 2, 12, 278, 277, 579, 12, 49]\n",
            "[523, 2410, 4, 2, 12, 278, 277, 579, 12, 49, 4986]\n",
            "[523, 2410, 4, 2, 12, 278, 277, 579, 12, 49, 4986, 24]\n",
            "[523, 2410, 4, 2, 12, 278, 277, 579, 12, 49, 4986, 24, 627]\n",
            "[523, 2410, 4, 2, 12, 278, 277, 579, 12, 49, 4986, 24, 627, 11]\n",
            "[523, 2410, 4, 2, 12, 278, 277, 579, 12, 49, 4986, 24, 627, 11, 2438]\n",
            "\u001b[34m['sob', 'pretexto', 'de', 'que', 'os']\u001b[0m \u001b[31m['passou', 'quanto', 'morto', 'os', 'olhos', 'ignorando', 'lhe', 'objecto', 'da', 'reptis']\u001b[0m \n"
          ]
        }
      ],
      "source": [
        "# Código adaptado da implementação do Cesar Bastos\n",
        "from colorama import Fore, Style\n",
        "\n",
        "text = cleaned_paragraphs\n",
        "model_attn.to(device)\n",
        "def generate_text(model, vocab, text, max_length, context_size):\n",
        "    words = []\n",
        "    # Ensure there are enough words for at least one sequence\n",
        "    while len(words) < context_size:\n",
        "        random_number = random.randint(1, 4891)\n",
        "        words = encode_sentence(text[random_number], vocab)\n",
        "        if not words:\n",
        "            words = []\n",
        "            continue  # Skip if the sentence cannot be encoded\n",
        "        words = words[:context_size]\n",
        "        #print(words)\n",
        "        if any(token == 0 for token in words):\n",
        "            words = []\n",
        "            continue  # Skip if any token is zero (assuming 0 is a special token)\n",
        "        context = words\n",
        "\n",
        "    print(f\"Frase: {cleaned_paragraphs[random_number]}\")\n",
        "    print(words)\n",
        "\n",
        "    for _ in range(max_length):\n",
        "        words_tensor = torch.tensor(context[-context_size:], dtype=torch.long).unsqueeze(0).to(device)\n",
        "        logits = model(words_tensor)\n",
        "        probs = F.softmax(logits, dim=1)\n",
        "        next_token = torch.multinomial(probs, num_samples=1)\n",
        "        context.append(next_token.item())\n",
        "        print(context)\n",
        "    frase = []\n",
        "    for i in context: ##Agradecimentos a Ramon Abilio\n",
        "        word = next((word for word, code in vocab.items() if code == i), \"<UNKNOWN>\")\n",
        "        frase.append(word)\n",
        "\n",
        "    print(f\"{Fore.BLUE}{frase[:context_size]}{Style.RESET_ALL} {Fore.RED}{frase[-max_length:]}{Style.RESET_ALL} \")\n",
        "\n",
        "\n",
        "max_length= 10\n",
        "generate_text(model_attn, vocab, text, max_length, context_size)"
      ]
    }
  ],
  "metadata": {
    "accelerator": "GPU",
    "colab": {
      "gpuType": "T4",
      "provenance": []
    },
    "kernelspec": {
      "display_name": "IA024",
      "language": "python",
      "name": "ia024"
    },
    "language_info": {
      "codemirror_mode": {
        "name": "ipython",
        "version": 3
      },
      "file_extension": ".py",
      "mimetype": "text/x-python",
      "name": "python",
      "nbconvert_exporter": "python",
      "pygments_lexer": "ipython3",
      "version": "3.11.4"
    }
  },
  "nbformat": 4,
  "nbformat_minor": 0
}
