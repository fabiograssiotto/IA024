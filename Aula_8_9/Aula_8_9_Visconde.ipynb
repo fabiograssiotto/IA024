{
 "cells": [
  {
   "cell_type": "markdown",
   "metadata": {},
   "source": [
    "Nome: Fabio Grassiotto  \n",
    "RA: 890441\n",
    "\n",
    "# Aula 8_9 - Reproduzindo o Visconde"
   ]
  },
  {
   "cell_type": "code",
   "execution_count": 1,
   "metadata": {},
   "outputs": [],
   "source": [
    "%%capture\n",
    "%pip install -q torch\n",
    "%pip install groq\n",
    "%pip install -U sentence-transformers\n",
    "%pip install faiss-cpu\n",
    "%pip install spacy\n",
    "%pip install pandas\n",
    "%python -m spacy download en_core_web_sm"
   ]
  },
  {
   "cell_type": "code",
   "execution_count": 2,
   "metadata": {},
   "outputs": [],
   "source": [
    "import os\n",
    "import torch\n",
    "import faiss\n",
    "import json\n",
    "from transformers import AutoTokenizer, AutoModel\n",
    "from sklearn.metrics.pairwise import cosine_similarity\n",
    "from sentence_transformers import SentenceTransformer\n",
    "import groq\n",
    "from groq import Groq\n",
    "from bs4 import BeautifulSoup\n",
    "import warnings\n",
    "warnings.simplefilter('ignore')\n",
    "from collections import Counter\n",
    "import string\n",
    "import re\n",
    "import spacy\n",
    "\n",
    "NUM_QUESTIONS = 150"
   ]
  },
  {
   "cell_type": "markdown",
   "metadata": {},
   "source": [
    "## Setup Groq Library"
   ]
  },
  {
   "cell_type": "code",
   "execution_count": 3,
   "metadata": {},
   "outputs": [],
   "source": [
    "def load_groq_key():\n",
    "    try:\n",
    "        # Open and read the entire content of the file\n",
    "        with open(\"groq-key.txt\", 'r') as file:\n",
    "            contents = file.read()\n",
    "        \n",
    "        return contents\n",
    "    \n",
    "    except FileNotFoundError:\n",
    "        print(f\"The file does not exist.\")\n",
    "        return None\n",
    "    except Exception as e:\n",
    "        # Handle other potential exceptions (e.g., permission errors)\n",
    "        print(f\"An error occurred while reading the file: {str(e)}\")\n",
    "        return None\n",
    "    \n",
    "groq_key = load_groq_key()\n",
    "os.environ[\"GROQ_API_KEY\"] = groq_key\n",
    "\n",
    "client = Groq(\n",
    "    api_key=os.environ.get(\"GROQ_API_KEY\"),\n",
    ")\n",
    "\n",
    "def groq_chat(content):\n",
    "    try:\n",
    "        chat_completion = client.chat.completions.create(\n",
    "            messages=[\n",
    "                {   \"role\": \"system\",\n",
    "                    \"content\": \"You are a helpful reader who reads a list of documents and uses them as evidence to answer a question given by the user. For each example, you will write an explanation for the answer based on the documents and the question. Then, after explaining your reasoning, you will give your final answer, which should be short (less than 10 words).\"},\n",
    "                {\n",
    "                    \"role\": \"user\",\n",
    "                    \"content\": content,\n",
    "                }\n",
    "            ],\n",
    "            model=\"llama3-70b-8192\",\n",
    "        )\n",
    "\n",
    "    except groq.APIConnectionError as e:\n",
    "        print(\"The server could not be reached\")\n",
    "        print(e.__cause__)  # an underlying Exception, likely raised within httpx.\n",
    "    except groq.RateLimitError as e:\n",
    "        print(\"A 429 status code was received; we should back off a bit.\")\n",
    "    except groq.APIStatusError as e:\n",
    "        print(\"Another non-200-range status code was received\")\n",
    "        print(e.status_code)\n",
    "        print(e.response)\n",
    "    \n",
    "    return chat_completion.choices[0].message.content"
   ]
  },
  {
   "cell_type": "markdown",
   "metadata": {},
   "source": [
    "## IIRC Dataset"
   ]
  },
  {
   "cell_type": "markdown",
   "metadata": {},
   "source": [
    "### Download"
   ]
  },
  {
   "cell_type": "code",
   "execution_count": 4,
   "metadata": {},
   "outputs": [],
   "source": [
    "import os\n",
    "\n",
    "if not os.path.exists(\"dataset/iirc_test.json\"):\n",
    "    !wget http://jamesf-incomplete-qa.s3.amazonaws.com/iirc.tar.gz\n",
    "    !tar -xzf iirc.tar.gz --directory dataset\n",
    "    !del iirc.tar.gz\n",
    "    !cd iirc\n",
    "\n",
    "    !wget http://jamesf-incomplete-qa.s3.amazonaws.com/context_articles.tar.gz\n",
    "    !tar -xzf context_articles.tar.gz --directory dataset\n",
    "    !del context_articles.tar.gz\n",
    "\n",
    "    !wget https://iirc-dataset.s3.us-west-2.amazonaws.com/iirc_test.json\n",
    "    ! mv iirc_test.json dataset"
   ]
  },
  {
   "cell_type": "markdown",
   "metadata": {},
   "source": [
    "### Load JSON files"
   ]
  },
  {
   "cell_type": "code",
   "execution_count": 5,
   "metadata": {},
   "outputs": [],
   "source": [
    "dev_dataset = json.load(open('dataset/iirc/dev.json','r'))\n",
    "test_dataset  = json.load(open('dataset/iirc_test.json', 'r'))\n",
    "articles = json.load(open(\"dataset/context_articles.json\",'r'))"
   ]
  },
  {
   "cell_type": "code",
   "execution_count": 6,
   "metadata": {},
   "outputs": [
    {
     "name": "stdout",
     "output_type": "stream",
     "text": [
      "Dataset types: dev_dataset: <class 'list'>\n",
      "test_dataset: <class 'list'>\n",
      "articles: <class 'dict'>\n"
     ]
    }
   ],
   "source": [
    "print(f'Dataset types: dev_dataset: {type(dev_dataset)}')\n",
    "print(f'test_dataset: {type(test_dataset)}')\n",
    "print(f'articles: {type(articles)}')"
   ]
  },
  {
   "cell_type": "markdown",
   "metadata": {},
   "source": [
    "### Select first 150 questions and related documents"
   ]
  },
  {
   "cell_type": "code",
   "execution_count": 7,
   "metadata": {},
   "outputs": [],
   "source": [
    "# Code adapted from Visconde implementation.\n",
    "# Added BeautifulSoup to remove html tags.\n",
    "\n",
    "def grab_documents(test_dataset, articles):\n",
    "    documents = []\n",
    "    all_titles = []\n",
    "\n",
    "    for item in test_dataset[:NUM_QUESTIONS]:\n",
    "\n",
    "        if item['title'].lower() not in all_titles:\n",
    "            # clean up html\n",
    "            soup = BeautifulSoup(item[\"text\"], 'html.parser')\n",
    "            clean_text = soup.get_text()\n",
    "\n",
    "            documents.append({\n",
    "                    \"title\": item['title'],\n",
    "                    \"content\": clean_text\n",
    "                }\n",
    "            )\n",
    "            all_titles.append(item['title'].lower())\n",
    "\n",
    "        for link in item[\"links\"]:\n",
    "            if link['target'].lower() in articles and link['target'].lower() not in all_titles:\n",
    "                # clean up html\n",
    "                soup = BeautifulSoup(articles[link['target'].lower()], 'html.parser')\n",
    "                clean_text = soup.get_text()\n",
    "\n",
    "                documents.append({\n",
    "                    \"title\": link['target'],\n",
    "                    \"content\": clean_text\n",
    "                })\n",
    "                all_titles.append(link['target'].lower())\n",
    "            #else:\n",
    "            #    print(link['target'].lower())\n",
    "        \n",
    "        return documents, all_titles"
   ]
  },
  {
   "cell_type": "code",
   "execution_count": 8,
   "metadata": {},
   "outputs": [],
   "source": [
    "texts, titles = grab_documents(test_dataset, articles)"
   ]
  },
  {
   "cell_type": "code",
   "execution_count": 9,
   "metadata": {},
   "outputs": [],
   "source": [
    "contents_list = []\n",
    "nlp = spacy.load('en_core_web_sm')\n",
    "\n",
    "for t in texts:\n",
    "    paragraph = t.get('content')\n",
    "\n",
    "    sentences = list(sent.text for sent in nlp(paragraph).sents)\n",
    "    for s in sentences:\n",
    "        contents_list.append(s)"
   ]
  },
  {
   "cell_type": "code",
   "execution_count": 10,
   "metadata": {},
   "outputs": [
    {
     "data": {
      "text/plain": [
       "['The Palici (Παλικοί in Greek), or Palaci, were a pair of indigenous Sicilian chthonic deities in Roman mythology, and to a lesser extent in Greek mythology.',\n",
       " \"They are mentioned in Ovid's Metamorphoses V, 406, and in Virgil's Aeneid IX, 585.\",\n",
       " 'Their cult centered on three small lakes that emitted sulphurous vapors in the Palagonia plain, and as a result these twin brothers were associated with geysers and the underworld.',\n",
       " 'There was also a shrine to the Palaci in Palacia, where people could subject themselves or others to tests of reliability through divine judgement; passing meant that an oath could be trusted.',\n",
       " 'The mythological lineage of the Palici is uncertain; one legend made the Palici the sons of Zeus, or possibly Hephaestus, by Aetna or Thalia, but another claimed that the Palici were the sons of the Sicilian deity Adranus.\\n']"
      ]
     },
     "execution_count": 10,
     "metadata": {},
     "output_type": "execute_result"
    }
   ],
   "source": [
    "contents_list[:5]"
   ]
  },
  {
   "cell_type": "markdown",
   "metadata": {},
   "source": [
    "### Format questions and answers"
   ]
  },
  {
   "cell_type": "code",
   "execution_count": 11,
   "metadata": {},
   "outputs": [],
   "source": [
    "# Código adaptado do Leandro Carísio, obrigado!\n",
    "\n",
    "questions_to_ask = []\n",
    "\n",
    "for i in range(len(test_dataset)):\n",
    "  pr = test_dataset[i]['questions'][0]\n",
    "  question = pr['question']\n",
    "  answer = pr['answer']\n",
    "  answer_type = answer['type']\n",
    "\n",
    "  if answer_type == 'binary' or answer_type == 'value':\n",
    "    final_answer = answer['answer_value']\n",
    "  elif answer_type == 'span':\n",
    "    final_answer = answer['answer_spans'][0]['text']\n",
    "  elif answer_type == 'none':\n",
    "    final_answer = 'none'\n",
    "  else:\n",
    "    final_answer = 'An error perhaps, bad type'\n",
    "    print(answer_type)\n",
    "\n",
    "  questions_to_ask.append({\"Question\": question, \"Answer\": final_answer})"
   ]
  },
  {
   "cell_type": "code",
   "execution_count": 12,
   "metadata": {},
   "outputs": [
    {
     "data": {
      "text/plain": [
       "[{'Question': 'What is Zeus know for in Greek mythology?',\n",
       "  'Answer': 'sky and thunder god'},\n",
       " {'Question': 'How long had the First World War been over when Messe was named aide-de-camp?',\n",
       "  'Answer': '5'},\n",
       " {'Question': 'How long had Angela Scoular been acting professionally when she appeared in the movie \"On Her Majesty\\'s Secret Service\"?',\n",
       "  'Answer': '2'}]"
      ]
     },
     "execution_count": 12,
     "metadata": {},
     "output_type": "execute_result"
    }
   ],
   "source": [
    "questions_to_ask[:3]"
   ]
  },
  {
   "cell_type": "code",
   "execution_count": 13,
   "metadata": {},
   "outputs": [
    {
     "name": "stdout",
     "output_type": "stream",
     "text": [
      "cuda\n"
     ]
    }
   ],
   "source": [
    "device = 'cuda' if torch.cuda.is_available() else 'cpu'\n",
    "print(device)"
   ]
  },
  {
   "cell_type": "markdown",
   "metadata": {},
   "source": [
    "## Indexing the dataset"
   ]
  },
  {
   "cell_type": "markdown",
   "metadata": {},
   "source": [
    "### Creating Embeddings with Sentence Transformer"
   ]
  },
  {
   "cell_type": "code",
   "execution_count": 14,
   "metadata": {},
   "outputs": [
    {
     "data": {
      "application/vnd.jupyter.widget-view+json": {
       "model_id": "dfba199d8c704e3a825c2374879a70b5",
       "version_major": 2,
       "version_minor": 0
      },
      "text/plain": [
       "Batches:   0%|          | 0/75 [00:00<?, ?it/s]"
      ]
     },
     "metadata": {},
     "output_type": "display_data"
    }
   ],
   "source": [
    "model = SentenceTransformer('sentence-transformers/all-MiniLM-L6-v2')\n",
    "model.to(device)\n",
    "\n",
    "embeddings = model.encode(contents_list, show_progress_bar=True)"
   ]
  },
  {
   "cell_type": "markdown",
   "metadata": {},
   "source": [
    "### Indexing with FAISS"
   ]
  },
  {
   "cell_type": "code",
   "execution_count": 15,
   "metadata": {},
   "outputs": [],
   "source": [
    "# Create a FAISS index from the embeddings\n",
    "index = faiss.IndexFlatL2(embeddings.shape[1])\n",
    "index.add(embeddings)"
   ]
  },
  {
   "cell_type": "markdown",
   "metadata": {},
   "source": [
    "### Basic Test "
   ]
  },
  {
   "cell_type": "code",
   "execution_count": 16,
   "metadata": {},
   "outputs": [
    {
     "name": "stdout",
     "output_type": "stream",
     "text": [
      "How many months was the Northwest Indian War?\n",
      "\n",
      "The re-conquests marked an end to over 150 years of accommodationist policies with tribal invaders.\n",
      "Ancient tribes.\n",
      "In the southeast lie the lower Hyblaean Mountains, 1000 m. The mines of the Enna and Caltanissetta districts were part of a leading sulphur-producing area throughout the 19th century, but have declined since the 1950s.\n",
      "\n",
      "\n",
      "No evidence survives of any warring between the tribes, but the Sicanians moved eastwards when the Elymians settled in the northwest corner of the island.\n",
      "They also introduced their own culture, customs, and politics in the region.\n",
      "\n",
      "\n"
     ]
    }
   ],
   "source": [
    "# Small test\n",
    "input_sequence = questions_to_ask[40].get('Question')\n",
    "\n",
    "def SentenceTransformer_getContext(question, base, k):\n",
    "    xq = model.encode([question])\n",
    "    _, I = index.search(xq, k)  # search\n",
    "    str = \"\"\n",
    "    for i in range(0, k):\n",
    "        str = str + base[I[0][i]] + \"\\n\"\n",
    "    return str\n",
    "    \n",
    "\n",
    "print(input_sequence)\n",
    "print()\n",
    "print(SentenceTransformer_getContext(input_sequence, contents_list, 5))\n",
    "print()"
   ]
  },
  {
   "cell_type": "markdown",
   "metadata": {},
   "source": [
    "## Evaluation comparing with LLama3-70b"
   ]
  },
  {
   "cell_type": "markdown",
   "metadata": {},
   "source": [
    "### Evaluation Functions - From Visconde implementation"
   ]
  },
  {
   "cell_type": "code",
   "execution_count": 17,
   "metadata": {},
   "outputs": [],
   "source": [
    "def normalize_answer(s):\n",
    "  \"\"\"\n",
    "  Taken from the official evaluation script for v1.1 of the SQuAD dataset.\n",
    "  Lower text and remove punctuation, articles and extra whitespace.\n",
    "  \"\"\"\n",
    "\n",
    "  def remove_articles(text):\n",
    "      return re.sub(r\"\\b(a|an|the)\\b\", \" \", text)\n",
    "\n",
    "  def white_space_fix(text):\n",
    "      return \" \".join(text.split())\n",
    "\n",
    "  def remove_punc(text):\n",
    "      exclude = set(string.punctuation)\n",
    "      return \"\".join(ch for ch in text if ch not in exclude)\n",
    "\n",
    "  def lower(text):\n",
    "      return text.lower()\n",
    "\n",
    "  return white_space_fix(remove_articles(remove_punc(lower(s))))\n",
    "\n",
    "def token_f1_score(prediction, ground_truth):\n",
    "  \"\"\"\n",
    "  Taken from the official evaluation script for v1.1 of the SQuAD dataset.\n",
    "  \"\"\"\n",
    "  prediction_tokens = normalize_answer(prediction).split()\n",
    "  ground_truth_tokens = normalize_answer(ground_truth).split()\n",
    "  common = Counter(prediction_tokens) & Counter(ground_truth_tokens)\n",
    "  num_same = sum(common.values())\n",
    "  if num_same == 0:\n",
    "      return 0\n",
    "  precision = 1.0 * num_same / len(prediction_tokens)\n",
    "  recall = 1.0 * num_same / len(ground_truth_tokens)\n",
    "  f1 = (2 * precision * recall) / (precision + recall)\n",
    "  return f1"
   ]
  },
  {
   "cell_type": "markdown",
   "metadata": {},
   "source": [
    "### Get responses from LLama3 and compute F1-score"
   ]
  },
  {
   "cell_type": "code",
   "execution_count": null,
   "metadata": {},
   "outputs": [],
   "source": [
    "def create_llm_prompt(question):\n",
    "    prompt = SentenceTransformer_getContext(question, contents_list, 5) + question\n",
    "    prompt = prompt + \"\\n\" + \"Answer:\"\n",
    "    return prompt"
   ]
  },
  {
   "cell_type": "code",
   "execution_count": 18,
   "metadata": {},
   "outputs": [],
   "source": [
    "# Create dataframe with question, answer, Llama answer and scores\n",
    "import pandas as pd\n",
    "df_results = pd.DataFrame(columns=['question', 'answer', 'Llama3 answer', 'F1 score'])\n",
    "\n",
    "for item in questions_to_ask:\n",
    "    question = item.get('Question')\n",
    "    answer = normalize_answer(item.get('Answer'))\n",
    "\n",
    "    # RAG context using search\n",
    "\n",
    "    llama3_answer = normalize_answer(create_llm_prompt(prompt))\n",
    "\n",
    "    f1_score = token_f1_score(llama3_answer, answer)\n",
    "    \n",
    "    row = pd.Series([question, answer, llama3_answer, f1_score], index=df_results.columns)\n",
    "    df_results = pd.concat([df_results, pd.DataFrame([row])], ignore_index=True)\n"
   ]
  },
  {
   "cell_type": "code",
   "execution_count": 19,
   "metadata": {},
   "outputs": [
    {
     "data": {
      "text/html": [
       "<div>\n",
       "<style scoped>\n",
       "    .dataframe tbody tr th:only-of-type {\n",
       "        vertical-align: middle;\n",
       "    }\n",
       "\n",
       "    .dataframe tbody tr th {\n",
       "        vertical-align: top;\n",
       "    }\n",
       "\n",
       "    .dataframe thead th {\n",
       "        text-align: right;\n",
       "    }\n",
       "</style>\n",
       "<table border=\"1\" class=\"dataframe\">\n",
       "  <thead>\n",
       "    <tr style=\"text-align: right;\">\n",
       "      <th></th>\n",
       "      <th>question</th>\n",
       "      <th>answer</th>\n",
       "      <th>Llama3 answer</th>\n",
       "      <th>F1 score</th>\n",
       "    </tr>\n",
       "  </thead>\n",
       "  <tbody>\n",
       "    <tr>\n",
       "      <th>0</th>\n",
       "      <td>What is Zeus know for in Greek mythology?</td>\n",
       "      <td>sky and thunder god</td>\n",
       "      <td>zeus in bible zeus in philosophy oracles of ze...</td>\n",
       "      <td>0.071429</td>\n",
       "    </tr>\n",
       "    <tr>\n",
       "      <th>1</th>\n",
       "      <td>How long had the First World War been over whe...</td>\n",
       "      <td>5</td>\n",
       "      <td>there was allied invasion of sicily during wor...</td>\n",
       "      <td>0.000000</td>\n",
       "    </tr>\n",
       "    <tr>\n",
       "      <th>2</th>\n",
       "      <td>How long had Angela Scoular been acting profes...</td>\n",
       "      <td>2</td>\n",
       "      <td>she was already pregnant with athena however a...</td>\n",
       "      <td>0.000000</td>\n",
       "    </tr>\n",
       "    <tr>\n",
       "      <th>3</th>\n",
       "      <td>What is the capacity of the stadium where Brun...</td>\n",
       "      <td>26688</td>\n",
       "      <td>31–78 glennon ja 2007 leipzig main remaining f...</td>\n",
       "      <td>0.000000</td>\n",
       "    </tr>\n",
       "    <tr>\n",
       "      <th>4</th>\n",
       "      <td>In which country was Wilhelm Müller born?</td>\n",
       "      <td>germany</td>\n",
       "      <td>max müller attempted to understand indoeuropea...</td>\n",
       "      <td>0.000000</td>\n",
       "    </tr>\n",
       "    <tr>\n",
       "      <th>...</th>\n",
       "      <td>...</td>\n",
       "      <td>...</td>\n",
       "      <td>...</td>\n",
       "      <td>...</td>\n",
       "    </tr>\n",
       "    <tr>\n",
       "      <th>509</th>\n",
       "      <td>Where is the paper that felt that Witness was ...</td>\n",
       "      <td>london</td>\n",
       "      <td>fifth book focuses on song of muses which desc...</td>\n",
       "      <td>0.000000</td>\n",
       "    </tr>\n",
       "    <tr>\n",
       "      <th>510</th>\n",
       "      <td>Which of the three commands that No. 59 Squadr...</td>\n",
       "      <td>none</td>\n",
       "      <td>there was allied invasion of sicily during wor...</td>\n",
       "      <td>0.000000</td>\n",
       "    </tr>\n",
       "    <tr>\n",
       "      <th>511</th>\n",
       "      <td>How long was the rule of the Dai Viet emperor ...</td>\n",
       "      <td>33 years</td>\n",
       "      <td>he had been appointed viceroy of emperor to ru...</td>\n",
       "      <td>0.000000</td>\n",
       "    </tr>\n",
       "    <tr>\n",
       "      <th>512</th>\n",
       "      <td>How old was the person that defeated Stuart in...</td>\n",
       "      <td>36</td>\n",
       "      <td>charles martindale however in 1849 bourbons re...</td>\n",
       "      <td>0.000000</td>\n",
       "    </tr>\n",
       "    <tr>\n",
       "      <th>513</th>\n",
       "      <td>Who was the producer of Spiteri's band's secon...</td>\n",
       "      <td>tim palmer</td>\n",
       "      <td>thebans told that union of ares and aphrodite ...</td>\n",
       "      <td>0.000000</td>\n",
       "    </tr>\n",
       "  </tbody>\n",
       "</table>\n",
       "<p>514 rows × 4 columns</p>\n",
       "</div>"
      ],
      "text/plain": [
       "                                              question               answer  \\\n",
       "0            What is Zeus know for in Greek mythology?  sky and thunder god   \n",
       "1    How long had the First World War been over whe...                    5   \n",
       "2    How long had Angela Scoular been acting profes...                    2   \n",
       "3    What is the capacity of the stadium where Brun...                26688   \n",
       "4            In which country was Wilhelm Müller born?              germany   \n",
       "..                                                 ...                  ...   \n",
       "509  Where is the paper that felt that Witness was ...               london   \n",
       "510  Which of the three commands that No. 59 Squadr...                 none   \n",
       "511  How long was the rule of the Dai Viet emperor ...             33 years   \n",
       "512  How old was the person that defeated Stuart in...                   36   \n",
       "513  Who was the producer of Spiteri's band's secon...           tim palmer   \n",
       "\n",
       "                                         Llama3 answer  F1 score  \n",
       "0    zeus in bible zeus in philosophy oracles of ze...  0.071429  \n",
       "1    there was allied invasion of sicily during wor...  0.000000  \n",
       "2    she was already pregnant with athena however a...  0.000000  \n",
       "3    31–78 glennon ja 2007 leipzig main remaining f...  0.000000  \n",
       "4    max müller attempted to understand indoeuropea...  0.000000  \n",
       "..                                                 ...       ...  \n",
       "509  fifth book focuses on song of muses which desc...  0.000000  \n",
       "510  there was allied invasion of sicily during wor...  0.000000  \n",
       "511  he had been appointed viceroy of emperor to ru...  0.000000  \n",
       "512  charles martindale however in 1849 bourbons re...  0.000000  \n",
       "513  thebans told that union of ares and aphrodite ...  0.000000  \n",
       "\n",
       "[514 rows x 4 columns]"
      ]
     },
     "execution_count": 19,
     "metadata": {},
     "output_type": "execute_result"
    }
   ],
   "source": [
    "df_results"
   ]
  },
  {
   "cell_type": "code",
   "execution_count": 21,
   "metadata": {},
   "outputs": [
    {
     "data": {
      "text/html": [
       "<div>\n",
       "<style scoped>\n",
       "    .dataframe tbody tr th:only-of-type {\n",
       "        vertical-align: middle;\n",
       "    }\n",
       "\n",
       "    .dataframe tbody tr th {\n",
       "        vertical-align: top;\n",
       "    }\n",
       "\n",
       "    .dataframe thead th {\n",
       "        text-align: right;\n",
       "    }\n",
       "</style>\n",
       "<table border=\"1\" class=\"dataframe\">\n",
       "  <thead>\n",
       "    <tr style=\"text-align: right;\">\n",
       "      <th></th>\n",
       "      <th>question</th>\n",
       "      <th>answer</th>\n",
       "      <th>Llama3 answer</th>\n",
       "      <th>F1 score</th>\n",
       "    </tr>\n",
       "  </thead>\n",
       "  <tbody>\n",
       "    <tr>\n",
       "      <th>164</th>\n",
       "      <td>What's the difference between territories and ...</td>\n",
       "      <td>unlike provinces territories of canada have no...</td>\n",
       "      <td>administratively sicily is divided into nine p...</td>\n",
       "      <td>0.142857</td>\n",
       "    </tr>\n",
       "    <tr>\n",
       "      <th>134</th>\n",
       "      <td>Why did President Trump fire FBI director Jame...</td>\n",
       "      <td>dismissing comey relieved unnecessary pressure...</td>\n",
       "      <td>when he did so he was hoisted only halfway up ...</td>\n",
       "      <td>0.100000</td>\n",
       "    </tr>\n",
       "    <tr>\n",
       "      <th>506</th>\n",
       "      <td>Which of the two universities in the United St...</td>\n",
       "      <td>university of california</td>\n",
       "      <td>oxford and new york oxford oxford univ oxford ...</td>\n",
       "      <td>0.095238</td>\n",
       "    </tr>\n",
       "    <tr>\n",
       "      <th>323</th>\n",
       "      <td>What does the acronym NICE stand for?</td>\n",
       "      <td>national institute for health and care excellence</td>\n",
       "      <td>etymology regional symbols epithets spelling t...</td>\n",
       "      <td>0.086957</td>\n",
       "    </tr>\n",
       "    <tr>\n",
       "      <th>204</th>\n",
       "      <td>Which battle lasted longer, the Battle of Gutt...</td>\n",
       "      <td>battle of leipzig</td>\n",
       "      <td>leipzig münchen leipzig saur 2006 bibliotheca ...</td>\n",
       "      <td>0.083333</td>\n",
       "    </tr>\n",
       "    <tr>\n",
       "      <th>...</th>\n",
       "      <td>...</td>\n",
       "      <td>...</td>\n",
       "      <td>...</td>\n",
       "      <td>...</td>\n",
       "    </tr>\n",
       "    <tr>\n",
       "      <th>172</th>\n",
       "      <td>How many top 10 finishes did Hut Stricklin hav...</td>\n",
       "      <td>none</td>\n",
       "      <td>anderson ws and ln quartarone kelly wd wood cl...</td>\n",
       "      <td>0.000000</td>\n",
       "    </tr>\n",
       "    <tr>\n",
       "      <th>170</th>\n",
       "      <td>What were the names of the three British Musli...</td>\n",
       "      <td>ruhal ahmed</td>\n",
       "      <td>muslim army was then sent to island consisting...</td>\n",
       "      <td>0.000000</td>\n",
       "    </tr>\n",
       "    <tr>\n",
       "      <th>169</th>\n",
       "      <td>Who was the author of document that Bordiga co...</td>\n",
       "      <td>karl marx</td>\n",
       "      <td>wauconda bolchazycarducci 2000 montaigne for e...</td>\n",
       "      <td>0.000000</td>\n",
       "    </tr>\n",
       "    <tr>\n",
       "      <th>168</th>\n",
       "      <td>How long did the Civil War sparked by the atte...</td>\n",
       "      <td>9</td>\n",
       "      <td>parts of island were reoccupied before revolts...</td>\n",
       "      <td>0.000000</td>\n",
       "    </tr>\n",
       "    <tr>\n",
       "      <th>513</th>\n",
       "      <td>Who was the producer of Spiteri's band's secon...</td>\n",
       "      <td>tim palmer</td>\n",
       "      <td>thebans told that union of ares and aphrodite ...</td>\n",
       "      <td>0.000000</td>\n",
       "    </tr>\n",
       "  </tbody>\n",
       "</table>\n",
       "<p>514 rows × 4 columns</p>\n",
       "</div>"
      ],
      "text/plain": [
       "                                              question  \\\n",
       "164  What's the difference between territories and ...   \n",
       "134  Why did President Trump fire FBI director Jame...   \n",
       "506  Which of the two universities in the United St...   \n",
       "323              What does the acronym NICE stand for?   \n",
       "204  Which battle lasted longer, the Battle of Gutt...   \n",
       "..                                                 ...   \n",
       "172  How many top 10 finishes did Hut Stricklin hav...   \n",
       "170  What were the names of the three British Musli...   \n",
       "169  Who was the author of document that Bordiga co...   \n",
       "168  How long did the Civil War sparked by the atte...   \n",
       "513  Who was the producer of Spiteri's band's secon...   \n",
       "\n",
       "                                                answer  \\\n",
       "164  unlike provinces territories of canada have no...   \n",
       "134  dismissing comey relieved unnecessary pressure...   \n",
       "506                           university of california   \n",
       "323  national institute for health and care excellence   \n",
       "204                                  battle of leipzig   \n",
       "..                                                 ...   \n",
       "172                                               none   \n",
       "170                                        ruhal ahmed   \n",
       "169                                          karl marx   \n",
       "168                                                  9   \n",
       "513                                         tim palmer   \n",
       "\n",
       "                                         Llama3 answer  F1 score  \n",
       "164  administratively sicily is divided into nine p...  0.142857  \n",
       "134  when he did so he was hoisted only halfway up ...  0.100000  \n",
       "506  oxford and new york oxford oxford univ oxford ...  0.095238  \n",
       "323  etymology regional symbols epithets spelling t...  0.086957  \n",
       "204  leipzig münchen leipzig saur 2006 bibliotheca ...  0.083333  \n",
       "..                                                 ...       ...  \n",
       "172  anderson ws and ln quartarone kelly wd wood cl...  0.000000  \n",
       "170  muslim army was then sent to island consisting...  0.000000  \n",
       "169  wauconda bolchazycarducci 2000 montaigne for e...  0.000000  \n",
       "168  parts of island were reoccupied before revolts...  0.000000  \n",
       "513  thebans told that union of ares and aphrodite ...  0.000000  \n",
       "\n",
       "[514 rows x 4 columns]"
      ]
     },
     "execution_count": 21,
     "metadata": {},
     "output_type": "execute_result"
    }
   ],
   "source": [
    "df_results.sort_values(by=['F1 score'], ascending=False)"
   ]
  }
 ],
 "metadata": {
  "kernelspec": {
   "display_name": "Python 3",
   "language": "python",
   "name": "python3"
  },
  "language_info": {
   "codemirror_mode": {
    "name": "ipython",
    "version": 3
   },
   "file_extension": ".py",
   "mimetype": "text/x-python",
   "name": "python",
   "nbconvert_exporter": "python",
   "pygments_lexer": "ipython3",
   "version": "3.12.2"
  }
 },
 "nbformat": 4,
 "nbformat_minor": 2
}
