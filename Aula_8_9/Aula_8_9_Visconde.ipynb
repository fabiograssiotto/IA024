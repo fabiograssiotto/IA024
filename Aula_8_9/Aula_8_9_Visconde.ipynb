{
 "cells": [
  {
   "cell_type": "markdown",
   "metadata": {},
   "source": [
    "Nome: Fabio Grassiotto  \n",
    "RA: 890441\n",
    "\n",
    "# Aula 8_9 - Reproduzindo o Visconde"
   ]
  },
  {
   "cell_type": "code",
   "execution_count": 1,
   "metadata": {},
   "outputs": [],
   "source": [
    "%%capture\n",
    "%pip install -q torch\n",
    "%pip install groq\n",
    "%pip install -U sentence-transformers\n",
    "%pip install faiss-cpu\n",
    "%pip install spacy\n",
    "%pip install pandas\n",
    "%python -m spacy download en_core_web_sm"
   ]
  },
  {
   "cell_type": "markdown",
   "metadata": {},
   "source": [
    "## Setup Environment"
   ]
  },
  {
   "cell_type": "markdown",
   "metadata": {},
   "source": [
    "### Imports"
   ]
  },
  {
   "cell_type": "code",
   "execution_count": 2,
   "metadata": {},
   "outputs": [],
   "source": [
    "import os\n",
    "import sys\n",
    "import torch\n",
    "import faiss\n",
    "import json\n",
    "from transformers import AutoTokenizer, AutoModel\n",
    "from sklearn.metrics.pairwise import cosine_similarity\n",
    "from sentence_transformers import SentenceTransformer\n",
    "import groq\n",
    "from groq import Groq\n",
    "from bs4 import BeautifulSoup\n",
    "import warnings\n",
    "warnings.simplefilter('ignore')\n",
    "from collections import Counter\n",
    "import string\n",
    "import re\n",
    "import spacy\n",
    "from tqdm import tqdm"
   ]
  },
  {
   "cell_type": "markdown",
   "metadata": {},
   "source": [
    "### Global Variables"
   ]
  },
  {
   "cell_type": "code",
   "execution_count": 3,
   "metadata": {},
   "outputs": [],
   "source": [
    "NUM_QUESTIONS = 150\n",
    "model_name = \"sentence-transformers/msmarco-MiniLM-L-6-v3\""
   ]
  },
  {
   "cell_type": "markdown",
   "metadata": {},
   "source": [
    "### Collab Env Setup and GPU Device"
   ]
  },
  {
   "cell_type": "code",
   "execution_count": 4,
   "metadata": {},
   "outputs": [
    {
     "name": "stdout",
     "output_type": "stream",
     "text": [
      "cuda\n"
     ]
    }
   ],
   "source": [
    "# Colab environment\n",
    "IN_COLAB = 'google.colab' in sys.modules\n",
    "\n",
    "if (IN_COLAB):\n",
    "    # Google Drive\n",
    "    from google.colab import drive\n",
    "    drive.mount('/content/drive', force_remount=True)\n",
    "\n",
    "    project_folder=\"/content/drive/MyDrive/Classes/IA024/Aula_8_9\"\n",
    "    os.chdir(project_folder)\n",
    "    !ls -la\n",
    "\n",
    "device = 'cuda' if torch.cuda.is_available() else 'cpu'\n",
    "print(device)"
   ]
  },
  {
   "cell_type": "markdown",
   "metadata": {},
   "source": [
    "### Setup Groq Library"
   ]
  },
  {
   "cell_type": "code",
   "execution_count": 5,
   "metadata": {},
   "outputs": [],
   "source": [
    "def load_groq_key():\n",
    "    try:\n",
    "        # Open and read the entire content of the file\n",
    "        with open(\"groq-key.txt\", 'r') as file:\n",
    "            contents = file.read()\n",
    "        \n",
    "        return contents\n",
    "    \n",
    "    except FileNotFoundError:\n",
    "        print(f\"The file does not exist.\")\n",
    "        return None\n",
    "    except Exception as e:\n",
    "        # Handle other potential exceptions (e.g., permission errors)\n",
    "        print(f\"An error occurred while reading the file: {str(e)}\")\n",
    "        return None\n",
    "    \n",
    "groq_key = load_groq_key()\n",
    "os.environ[\"GROQ_API_KEY\"] = groq_key\n",
    "\n",
    "client = Groq(\n",
    "    api_key=os.environ.get(\"GROQ_API_KEY\"),\n",
    ")\n",
    "\n",
    "def groq_chat(content):\n",
    "    try:\n",
    "        chat_completion = client.chat.completions.create(\n",
    "            messages=[\n",
    "                {\n",
    "                    \"role\": \"user\",\n",
    "                    \"content\": content,\n",
    "                }\n",
    "            ],\n",
    "            model=\"llama3-70b-8192\",\n",
    "        )\n",
    "\n",
    "    except groq.APIConnectionError as e:\n",
    "        print(\"The server could not be reached\")\n",
    "        print(e.__cause__)  # an underlying Exception, likely raised within httpx.\n",
    "    except groq.RateLimitError as e:\n",
    "        print(\"A 429 status code was received; we should back off a bit.\")\n",
    "    except groq.APIStatusError as e:\n",
    "        print(\"Another non-200-range status code was received\")\n",
    "        print(e.status_code)\n",
    "        print(e.response)\n",
    "    \n",
    "    return chat_completion.choices[0].message.content"
   ]
  },
  {
   "cell_type": "markdown",
   "metadata": {},
   "source": [
    "## IIRC Dataset"
   ]
  },
  {
   "cell_type": "markdown",
   "metadata": {},
   "source": [
    "### Download"
   ]
  },
  {
   "cell_type": "code",
   "execution_count": 6,
   "metadata": {},
   "outputs": [],
   "source": [
    "import os\n",
    "\n",
    "if not os.path.exists(\"dataset/iirc_test.json\"):\n",
    "    !wget http://jamesf-incomplete-qa.s3.amazonaws.com/iirc.tar.gz\n",
    "    !tar -xzf iirc.tar.gz --directory dataset\n",
    "    !del iirc.tar.gz\n",
    "    !cd iirc\n",
    "\n",
    "    !wget http://jamesf-incomplete-qa.s3.amazonaws.com/context_articles.tar.gz\n",
    "    !tar -xzf context_articles.tar.gz --directory dataset\n",
    "    !del context_articles.tar.gz\n",
    "\n",
    "    !wget https://iirc-dataset.s3.us-west-2.amazonaws.com/iirc_test.json\n",
    "    ! mv iirc_test.json dataset"
   ]
  },
  {
   "cell_type": "markdown",
   "metadata": {},
   "source": [
    "### Load JSON files"
   ]
  },
  {
   "cell_type": "code",
   "execution_count": 7,
   "metadata": {},
   "outputs": [],
   "source": [
    "dev_dataset = json.load(open('dataset/iirc/dev.json','r'))\n",
    "test_dataset  = json.load(open('dataset/iirc_test.json', 'r'))\n",
    "articles = json.load(open(\"dataset/context_articles.json\",'r'))"
   ]
  },
  {
   "cell_type": "code",
   "execution_count": 8,
   "metadata": {},
   "outputs": [
    {
     "name": "stdout",
     "output_type": "stream",
     "text": [
      "Dataset types: dev_dataset: <class 'list'>\n",
      "test_dataset: <class 'list'>\n",
      "articles: <class 'dict'>\n"
     ]
    }
   ],
   "source": [
    "print(f'Dataset types: dev_dataset: {type(dev_dataset)}')\n",
    "print(f'test_dataset: {type(test_dataset)}')\n",
    "print(f'articles: {type(articles)}')"
   ]
  },
  {
   "cell_type": "markdown",
   "metadata": {},
   "source": [
    "### Select first 150 questions and related documents"
   ]
  },
  {
   "cell_type": "code",
   "execution_count": 9,
   "metadata": {},
   "outputs": [],
   "source": [
    "# Code adapted from Visconde implementation.\n",
    "# Added BeautifulSoup to remove html tags.\n",
    "\n",
    "def grab_documents(test_dataset, articles):\n",
    "    documents = []\n",
    "    all_titles = []\n",
    "\n",
    "    for item in test_dataset[:NUM_QUESTIONS]:\n",
    "\n",
    "        if item['title'].lower() not in all_titles:\n",
    "            # clean up html\n",
    "            soup = BeautifulSoup(item[\"text\"], 'html.parser')\n",
    "            clean_text = soup.get_text()\n",
    "\n",
    "            documents.append({\n",
    "                    \"title\": item['title'],\n",
    "                    \"content\": clean_text\n",
    "                }\n",
    "            )\n",
    "            all_titles.append(item['title'].lower())\n",
    "\n",
    "        for link in item[\"links\"]:\n",
    "            if link['target'].lower() in articles and link['target'].lower() not in all_titles:\n",
    "                # clean up html\n",
    "                soup = BeautifulSoup(articles[link['target'].lower()], 'html.parser')\n",
    "                clean_text = soup.get_text()\n",
    "\n",
    "                documents.append({\n",
    "                    \"title\": link['target'],\n",
    "                    \"content\": clean_text\n",
    "                })\n",
    "                all_titles.append(link['target'].lower())\n",
    "            #else:\n",
    "            #    print(link['target'].lower())\n",
    "        \n",
    "    return documents, all_titles"
   ]
  },
  {
   "cell_type": "code",
   "execution_count": 10,
   "metadata": {},
   "outputs": [],
   "source": [
    "texts, titles = grab_documents(test_dataset, articles)"
   ]
  },
  {
   "cell_type": "code",
   "execution_count": 21,
   "metadata": {},
   "outputs": [
    {
     "name": "stderr",
     "output_type": "stream",
     "text": [
      "100%|██████████| 2164/2164 [00:27<00:00, 79.88it/s]\n"
     ]
    }
   ],
   "source": [
    "contents_list = []\n",
    "nlp = spacy.load('en_core_web_sm')\n",
    "\n",
    "for t in tqdm(texts):\n",
    "    paragraph = t.get('content')\n",
    "    paragraph = paragraph[:512] # max_seq_len of the sequence transformers\n",
    "\n",
    "    sentences = list(sent.text for sent in nlp(paragraph).sents)\n",
    "    sentences = sentences[:3]\n",
    "    excerpt = \"\"\n",
    "    for s in sentences:\n",
    "        excerpt += s\n",
    "    contents_list.append(excerpt)"
   ]
  },
  {
   "cell_type": "code",
   "execution_count": 22,
   "metadata": {},
   "outputs": [
    {
     "data": {
      "text/plain": [
       "[\"The Palici (Παλικοί in Greek), or Palaci, were a pair of indigenous Sicilian chthonic deities in Roman mythology, and to a lesser extent in Greek mythology.They are mentioned in Ovid's Metamorphoses V, 406, and in Virgil's Aeneid IX, 585.Their cult centered on three small lakes that emitted sulphurous vapors in the Palagonia plain, and as a result these twin brothers were associated with geysers and the underworld.\",\n",
       " 'Sicily ( ; ) is the largest island in the Mediterranean Sea and one of the 20 regions of Italy.It is one of the five Italian autonomous regions, in Southern Italy along with surrounding minor islands, officially referred to as Regione Siciliana.\\n\\nSicily is located in the central Mediterranean Sea, south of the Italian Peninsula, from which it is separated by the narrow Strait of Messina.',\n",
       " 'Chthonic (, ; from , \"in, under, or beneath the earth\", from \"earth\") literally means \"subterranean\", but the word in English describes deities or spirits of the underworld, especially in Ancient Greek religion.The Greek word is one of several for \"earth\"; it typically refers to that which is under the earth, rather than the living surface of the land (as Gaia or Ge does), or the land as territory (as does).\\n\\nChthonic cults.',\n",
       " 'Roman mythology is the body of traditional stories pertaining to ancient Rome\\'s legendary origins and religious system, as represented in the literature and visual arts of the Romans.\"Roman mythology\" may also refer to the modern study of these representations, and to the subject matter as represented in the literature and art of other cultures in any period.\\n\\nThe Romans usually treated their traditional narratives as historical, even when these have miraculous or supernatural elements.',\n",
       " \"Greek mythology is the body of myths originally told by the ancient Greeks and a genre of Ancient Greek folklore.These stories concern the origin and the nature of the world, the lives and activities of deities, heroes, and mythological creatures, and the origins and significance of the ancient Greeks' own cult and ritual practices.Modern scholars study the myths in an attempt to shed light on the religious and political institutions of ancient Greece and its civilization, and to gain understanding of the\"]"
      ]
     },
     "execution_count": 22,
     "metadata": {},
     "output_type": "execute_result"
    }
   ],
   "source": [
    "contents_list[:5]"
   ]
  },
  {
   "cell_type": "markdown",
   "metadata": {},
   "source": [
    "### Format questions and answers"
   ]
  },
  {
   "cell_type": "code",
   "execution_count": 23,
   "metadata": {},
   "outputs": [],
   "source": [
    "# Código adaptado do Leandro Carísio, obrigado!\n",
    "\n",
    "questions_to_ask = []\n",
    "\n",
    "for i in range(len(test_dataset)):\n",
    "  pr = test_dataset[i]['questions'][0]\n",
    "  question = pr['question']\n",
    "  answer = pr['answer']\n",
    "  answer_type = answer['type']\n",
    "\n",
    "  if answer_type == 'binary' or answer_type == 'value':\n",
    "    final_answer = answer['answer_value']\n",
    "  elif answer_type == 'span':\n",
    "    final_answer = answer['answer_spans'][0]['text']\n",
    "  elif answer_type == 'none':\n",
    "    final_answer = 'none'\n",
    "  else:\n",
    "    final_answer = 'An error perhaps, bad type'\n",
    "    print(answer_type)\n",
    "\n",
    "  questions_to_ask.append({\"Question\": question, \"Answer\": final_answer})\n"
   ]
  },
  {
   "cell_type": "code",
   "execution_count": 24,
   "metadata": {},
   "outputs": [],
   "source": [
    "questions_to_ask = questions_to_ask[:150]"
   ]
  },
  {
   "cell_type": "code",
   "execution_count": 25,
   "metadata": {},
   "outputs": [
    {
     "data": {
      "text/plain": [
       "150"
      ]
     },
     "execution_count": 25,
     "metadata": {},
     "output_type": "execute_result"
    }
   ],
   "source": [
    "len(questions_to_ask)"
   ]
  },
  {
   "cell_type": "markdown",
   "metadata": {},
   "source": [
    "## Indexing the dataset"
   ]
  },
  {
   "cell_type": "markdown",
   "metadata": {},
   "source": [
    "### Creating Embeddings with Sentence Transformer"
   ]
  },
  {
   "cell_type": "code",
   "execution_count": 26,
   "metadata": {},
   "outputs": [
    {
     "data": {
      "text/plain": [
       "2164"
      ]
     },
     "execution_count": 26,
     "metadata": {},
     "output_type": "execute_result"
    }
   ],
   "source": [
    "len(contents_list)"
   ]
  },
  {
   "cell_type": "code",
   "execution_count": 27,
   "metadata": {},
   "outputs": [
    {
     "data": {
      "application/vnd.jupyter.widget-view+json": {
       "model_id": "67781c100a8f4136bf020eecafec0492",
       "version_major": 2,
       "version_minor": 0
      },
      "text/plain": [
       "Batches:   0%|          | 0/68 [00:00<?, ?it/s]"
      ]
     },
     "metadata": {},
     "output_type": "display_data"
    }
   ],
   "source": [
    "model = SentenceTransformer(model_name)\n",
    "model.to(device)\n",
    "\n",
    "embeddings = model.encode(contents_list, show_progress_bar=True)"
   ]
  },
  {
   "cell_type": "code",
   "execution_count": 28,
   "metadata": {},
   "outputs": [
    {
     "data": {
      "text/plain": [
       "512"
      ]
     },
     "execution_count": 28,
     "metadata": {},
     "output_type": "execute_result"
    }
   ],
   "source": [
    "model.get_max_seq_length()"
   ]
  },
  {
   "cell_type": "markdown",
   "metadata": {},
   "source": [
    "### Indexing with FAISS"
   ]
  },
  {
   "cell_type": "code",
   "execution_count": 29,
   "metadata": {},
   "outputs": [],
   "source": [
    "# Create a FAISS index from the embeddings\n",
    "index = faiss.IndexFlatL2(embeddings.shape[1])\n",
    "index.add(embeddings)"
   ]
  },
  {
   "cell_type": "markdown",
   "metadata": {},
   "source": [
    "### Basic Test "
   ]
  },
  {
   "cell_type": "code",
   "execution_count": 30,
   "metadata": {},
   "outputs": [
    {
     "name": "stdout",
     "output_type": "stream",
     "text": [
      "How many months was the Northwest Indian War?\n",
      "\n",
      "The Northwest Indian War (1785–1795), also known as the Ohio War, Little Turtle's War, and by other names, was a war between the United States and a confederation of numerous Native American tribes, with support from the British, for control of the Northwest Territory.It followed centuries of conflict over this territory, first among Native American tribes, and then with the added shifting alliances among the tribes and the European powers of France and Great Britain, and their colonials.The United States\n",
      "The Battle of Fallen Timbers (20 August 1794) was the final battle of the Northwest Indian War, a struggle between Native American tribes affiliated with the Western Confederacy and their British allies, against the nascent United States for control of the Northwest Territory.The battle took place amid trees toppled by a tornado near the Maumee River in northwestern Ohio at the site of the present-day city of Maumee, Ohio.Major General \"Mad Anthony\" Wayne's Legion of the United States, supported by Genera\n",
      "The 1991 Indian economic crisis had its roots in 1985 when India began having balance of payments problems as imports swelled, leaving the country in a twin deficit: the Indian trade balance was in deficit at a time when the government was running on a large fiscal deficit.By the end of 1990 in the run-up to the Gulf War, the situation became so serious that the Indian foreign exchange reserves could barely finance three weeks’ worth of imports while the government came close to defaulting on its financial\n",
      "The Jassy–Kishinev Operation, named after the two major cities, Iași and Chișinău, in the staging area, was a Soviet offensive against Axis forces, which took place in Eastern Romania from 20 to 29 August 1944 during World War II.The 2nd and 3rd Ukrainian Fronts of the Red Army engaged Army Group South Ukraine, which consisted of combined German and Romanian formations, in an operation to reclaim the Moldavian SSR and destroy the Axis forces in the region, opening the way into Romania and the Balkans.\n",
      "\n",
      "The\n",
      "The Xhosa Wars (also known as the Cape Frontier Wars, or Africa's 100 Years War) were a series of nine wars or flare-ups (from 1779 to 1879) between the Xhosa Kingdom and European settlers in what is now the Eastern Cape in South Africa.These events were the longest-running military action in the history of African colonialism.\n",
      "\n",
      "The reality of the conflicts between the Europeans and Xhosa involves a balance of tension.\n",
      "\n",
      "\n"
     ]
    }
   ],
   "source": [
    "# Small test\n",
    "input_sequence = questions_to_ask[40].get('Question')\n",
    "\n",
    "def SentenceTransformer_getContext(question, base, k):\n",
    "    xq = model.encode([question])\n",
    "    _, I = index.search(xq, k)  # search\n",
    "    str = \"\"\n",
    "    for i in range(0, k):\n",
    "        str = str + base[I[0][i]] + \"\\n\"\n",
    "    return str\n",
    "    \n",
    "\n",
    "print(input_sequence)\n",
    "print()\n",
    "print(SentenceTransformer_getContext(input_sequence, contents_list, 5))\n",
    "print()"
   ]
  },
  {
   "cell_type": "markdown",
   "metadata": {},
   "source": [
    "## Evaluation"
   ]
  },
  {
   "cell_type": "markdown",
   "metadata": {},
   "source": [
    "### Evaluation Functions\n",
    "\n",
    "All code in this section comes from the Visconde implementation.  \n",
    "https://github.com/neuralmind-ai/visconde/blob/main/qasper_evaluator.py"
   ]
  },
  {
   "cell_type": "code",
   "execution_count": 31,
   "metadata": {},
   "outputs": [],
   "source": [
    "def normalize_answer(s):\n",
    "  \"\"\"\n",
    "  Taken from the official evaluation script for v1.1 of the SQuAD dataset.\n",
    "  Lower text and remove punctuation, articles and extra whitespace.\n",
    "  \"\"\"\n",
    "\n",
    "  def remove_articles(text):\n",
    "      return re.sub(r\"\\b(a|an|the)\\b\", \" \", text)\n",
    "\n",
    "  def white_space_fix(text):\n",
    "      return \" \".join(text.split())\n",
    "\n",
    "  def remove_punc(text):\n",
    "      exclude = set(string.punctuation)\n",
    "      return \"\".join(ch for ch in text if ch not in exclude)\n",
    "\n",
    "  def lower(text):\n",
    "      return text.lower()\n",
    "\n",
    "  return white_space_fix(remove_articles(remove_punc(lower(s))))\n",
    "\n",
    "def token_f1_score(prediction, ground_truth):\n",
    "  \"\"\"\n",
    "  Taken from the official evaluation script for v1.1 of the SQuAD dataset.\n",
    "  \"\"\"\n",
    "  prediction_tokens = normalize_answer(prediction).split()\n",
    "  ground_truth_tokens = normalize_answer(ground_truth).split()\n",
    "  common = Counter(prediction_tokens) & Counter(ground_truth_tokens)\n",
    "  num_same = sum(common.values())\n",
    "  if num_same == 0:\n",
    "      return 0\n",
    "  precision = 1.0 * num_same / len(prediction_tokens)\n",
    "  recall = 1.0 * num_same / len(ground_truth_tokens)\n",
    "  f1 = (2 * precision * recall) / (precision + recall)\n",
    "  return f1"
   ]
  },
  {
   "cell_type": "markdown",
   "metadata": {},
   "source": [
    "### Get responses from LLama3 and compute scores"
   ]
  },
  {
   "cell_type": "code",
   "execution_count": 32,
   "metadata": {},
   "outputs": [],
   "source": [
    "def create_llm_prompt(question):\n",
    "    template = \"\"\"Your task is read the sentences I will write below and reply to the question with a single sentence of no more than 10 words.\n",
    "If you cannot answer, please reply 'none'.\n",
    "These are the sentences:\n",
    "{0}\n",
    "This is my question: {1}\n",
    "Answer:\"\"\"\n",
    "    sentences = SentenceTransformer_getContext(question, contents_list, 5)\n",
    "    return template.format(sentences, question)"
   ]
  },
  {
   "cell_type": "markdown",
   "metadata": {},
   "source": [
    "### Testing prompt"
   ]
  },
  {
   "cell_type": "code",
   "execution_count": 33,
   "metadata": {},
   "outputs": [
    {
     "name": "stdout",
     "output_type": "stream",
     "text": [
      "Your task is read the sentences I will write below and reply to the question with a single sentence of no more than 10 words.\n",
      "If you cannot answer, please reply 'none'.\n",
      "These are the sentences:\n",
      "Angela Margaret Scoular (8 November 1945 – 11 April 2011) was an English actress.\n",
      "\n",
      "Early life.Her father was an engineer and she was born in London.\n",
      "In Old California is a 1942 American Western film directed by William C. McGann starring John Wayne, Binnie Barnes and Albert Dekker.as a Boston pharmacist who relocates to Sacramento during the Gold Rush.\n",
      "\n",
      "Cast.- John Wayne as Tom Craig\n",
      "- Binnie Barnes as Lacey Miller\n",
      "- Albert Dekker as Britt Dawson\n",
      "- Helen Parrish as Ellen Sanford\n",
      "- Patsy Kelly as Helga\n",
      "- Edgar Kennedy as Kegs McKeever\n",
      "- Dick Purcell as Joe Dawson\n",
      "- Harry Shannon as Mr. Carlin\n",
      "- Charles Halton as Mr. Hayes\n",
      "- Emmett Lynn as Whitey\n",
      "- Rober\n",
      "Barbara Hale (April 18, 1922 – January 26, 2017) was an American actress best known for her role as legal secretary Della Street in the television series Perry Mason (1957–1966), earning her a 1959 Emmy Award for Outstanding Supporting Actress in a Drama Series.She reprised the role in 30 Perry Mason movies for television (1985–1995).Her film roles included The Window (1949), in which she starred as the mother of a boy who witnesses a murder.\n",
      "\n",
      "\n",
      "Lea Michele Sarfati (born August 29, 1986) is an American actress, singer, and author.She began her career as a child actress on Broadway, appearing in productions of Les Misérables (1995–1996), Ragtime (1997–1999), Fiddler on the Roof (2004–2005), and Spring Awakening (2006–2008).Michele came to major prominence playing Rachel Berry on the Fox series Glee (2009–2015), for which she received an Emmy Award nomination and two Golden Globe nominations.\n",
      "Casino Royale also takes credit for the greatest number of actors in a Bond film either to have appeared or to go on to appear in the rest of the Eon series – besides Ursula Andress in Dr. No, Vladek Sheybal appeared as Kronsteen in From Russia with Love, Burt Kwouk featured as Mr. Ling in Goldfinger and an unnamed SPECTRE operative in You Only Live Twice, Jeanne Roland plays a masseuse in You Only Live Twice, and Angela Scoular appeared as Ruby Bartlett in On Her Majesty's Secret Service.Jack Gwillim, who\n",
      "\n",
      "This is my question: How long had Angela Scoular been acting professionally when she appeared in the movie \"On Her Majesty's Secret Service\"?\n",
      "Answer:\n"
     ]
    }
   ],
   "source": [
    "question = questions_to_ask[2].get('Question')\n",
    "print(create_llm_prompt(question))"
   ]
  },
  {
   "cell_type": "code",
   "execution_count": 34,
   "metadata": {},
   "outputs": [
    {
     "name": "stderr",
     "output_type": "stream",
     "text": [
      "100%|██████████| 150/150 [13:07<00:00,  5.25s/it]\n"
     ]
    }
   ],
   "source": [
    "# Create dataframe with question, answer, Llm answer and scores\n",
    "import pandas as pd\n",
    "df_results = pd.DataFrame(columns=['question', 'answer', 'LLM answer', 'F1', 'Exact Match'])\n",
    "\n",
    "for item in tqdm(questions_to_ask):\n",
    "    question = item.get('Question')\n",
    "    answer = normalize_answer(item.get('Answer'))\n",
    "\n",
    "    # RAG context using search\n",
    "    llm_answer = normalize_answer(groq_chat(create_llm_prompt(question)))\n",
    "    f1_score = token_f1_score(llm_answer, answer)\n",
    "    e_match_score = 1 if llm_answer == answer else 0\n",
    "    \n",
    "    row = pd.Series([question, answer, llm_answer, f1_score, e_match_score], index=df_results.columns)\n",
    "    df_results = pd.concat([df_results, pd.DataFrame([row])], ignore_index=True)\n"
   ]
  },
  {
   "cell_type": "markdown",
   "metadata": {},
   "source": [
    "### Results"
   ]
  },
  {
   "cell_type": "code",
   "execution_count": 35,
   "metadata": {},
   "outputs": [
    {
     "data": {
      "text/html": [
       "<div>\n",
       "<style scoped>\n",
       "    .dataframe tbody tr th:only-of-type {\n",
       "        vertical-align: middle;\n",
       "    }\n",
       "\n",
       "    .dataframe tbody tr th {\n",
       "        vertical-align: top;\n",
       "    }\n",
       "\n",
       "    .dataframe thead th {\n",
       "        text-align: right;\n",
       "    }\n",
       "</style>\n",
       "<table border=\"1\" class=\"dataframe\">\n",
       "  <thead>\n",
       "    <tr style=\"text-align: right;\">\n",
       "      <th></th>\n",
       "      <th>question</th>\n",
       "      <th>answer</th>\n",
       "      <th>LLM answer</th>\n",
       "      <th>F1</th>\n",
       "      <th>Exact Match</th>\n",
       "    </tr>\n",
       "  </thead>\n",
       "  <tbody>\n",
       "    <tr>\n",
       "      <th>0</th>\n",
       "      <td>What is Zeus know for in Greek mythology?</td>\n",
       "      <td>sky and thunder god</td>\n",
       "      <td>ruling as king of gods of mount olympus</td>\n",
       "      <td>0</td>\n",
       "      <td>0</td>\n",
       "    </tr>\n",
       "    <tr>\n",
       "      <th>1</th>\n",
       "      <td>How long had the First World War been over whe...</td>\n",
       "      <td>5</td>\n",
       "      <td>none</td>\n",
       "      <td>0</td>\n",
       "      <td>0</td>\n",
       "    </tr>\n",
       "    <tr>\n",
       "      <th>2</th>\n",
       "      <td>How long had Angela Scoular been acting profes...</td>\n",
       "      <td>2</td>\n",
       "      <td>based on provided information id say angela sc...</td>\n",
       "      <td>0</td>\n",
       "      <td>0</td>\n",
       "    </tr>\n",
       "    <tr>\n",
       "      <th>3</th>\n",
       "      <td>What is the capacity of the stadium where Brun...</td>\n",
       "      <td>26688</td>\n",
       "      <td>none</td>\n",
       "      <td>0</td>\n",
       "      <td>0</td>\n",
       "    </tr>\n",
       "    <tr>\n",
       "      <th>4</th>\n",
       "      <td>In which country was Wilhelm Müller born?</td>\n",
       "      <td>germany</td>\n",
       "      <td>germany</td>\n",
       "      <td>1.0</td>\n",
       "      <td>1</td>\n",
       "    </tr>\n",
       "    <tr>\n",
       "      <th>...</th>\n",
       "      <td>...</td>\n",
       "      <td>...</td>\n",
       "      <td>...</td>\n",
       "      <td>...</td>\n",
       "      <td>...</td>\n",
       "    </tr>\n",
       "    <tr>\n",
       "      <th>145</th>\n",
       "      <td>Which of the destinations had the largest popu...</td>\n",
       "      <td>none</td>\n",
       "      <td>new york city had largest population</td>\n",
       "      <td>0</td>\n",
       "      <td>0</td>\n",
       "    </tr>\n",
       "    <tr>\n",
       "      <th>146</th>\n",
       "      <td>Was Rao alive when Manmohan Singh was prime mi...</td>\n",
       "      <td>yes</td>\n",
       "      <td>no</td>\n",
       "      <td>0</td>\n",
       "      <td>0</td>\n",
       "    </tr>\n",
       "    <tr>\n",
       "      <th>147</th>\n",
       "      <td>Who was in charge of the London County Council...</td>\n",
       "      <td>municipal reformers</td>\n",
       "      <td>none</td>\n",
       "      <td>0</td>\n",
       "      <td>0</td>\n",
       "    </tr>\n",
       "    <tr>\n",
       "      <th>148</th>\n",
       "      <td>How many years passed between the sack of Cons...</td>\n",
       "      <td>4</td>\n",
       "      <td>four years passed between sack of constantinop...</td>\n",
       "      <td>0</td>\n",
       "      <td>0</td>\n",
       "    </tr>\n",
       "    <tr>\n",
       "      <th>149</th>\n",
       "      <td>How many weeks did \"What Hurts the Most\" spend...</td>\n",
       "      <td>none</td>\n",
       "      <td>one week at number one</td>\n",
       "      <td>0</td>\n",
       "      <td>0</td>\n",
       "    </tr>\n",
       "  </tbody>\n",
       "</table>\n",
       "<p>150 rows × 5 columns</p>\n",
       "</div>"
      ],
      "text/plain": [
       "                                              question               answer  \\\n",
       "0            What is Zeus know for in Greek mythology?  sky and thunder god   \n",
       "1    How long had the First World War been over whe...                    5   \n",
       "2    How long had Angela Scoular been acting profes...                    2   \n",
       "3    What is the capacity of the stadium where Brun...                26688   \n",
       "4            In which country was Wilhelm Müller born?              germany   \n",
       "..                                                 ...                  ...   \n",
       "145  Which of the destinations had the largest popu...                 none   \n",
       "146  Was Rao alive when Manmohan Singh was prime mi...                  yes   \n",
       "147  Who was in charge of the London County Council...  municipal reformers   \n",
       "148  How many years passed between the sack of Cons...                    4   \n",
       "149  How many weeks did \"What Hurts the Most\" spend...                 none   \n",
       "\n",
       "                                            LLM answer   F1 Exact Match  \n",
       "0              ruling as king of gods of mount olympus    0           0  \n",
       "1                                                 none    0           0  \n",
       "2    based on provided information id say angela sc...    0           0  \n",
       "3                                                 none    0           0  \n",
       "4                                              germany  1.0           1  \n",
       "..                                                 ...  ...         ...  \n",
       "145               new york city had largest population    0           0  \n",
       "146                                                 no    0           0  \n",
       "147                                               none    0           0  \n",
       "148  four years passed between sack of constantinop...    0           0  \n",
       "149                             one week at number one    0           0  \n",
       "\n",
       "[150 rows x 5 columns]"
      ]
     },
     "execution_count": 35,
     "metadata": {},
     "output_type": "execute_result"
    }
   ],
   "source": [
    "df_results"
   ]
  },
  {
   "cell_type": "code",
   "execution_count": 36,
   "metadata": {},
   "outputs": [],
   "source": [
    "df_results.to_csv(\"results/rag_results.csv\")"
   ]
  },
  {
   "cell_type": "code",
   "execution_count": 37,
   "metadata": {},
   "outputs": [
    {
     "name": "stdout",
     "output_type": "stream",
     "text": [
      "Metrics:\n",
      "F1 score: Avg: 0.41. Std: 0.45\n",
      "Exact Match score: Avg: 0.32. Std: 0.47\n"
     ]
    }
   ],
   "source": [
    "print(\"Metrics:\")\n",
    "print(f\"F1 score: Avg: {df_results['F1'].mean():.2f}. Std: {df_results['F1'].std():.2f}\")\n",
    "print(f\"Exact Match score: Avg: {df_results['Exact Match'].mean():.2f}. Std: {df_results['Exact Match'].std():.2f}\")"
   ]
  }
 ],
 "metadata": {
  "kernelspec": {
   "display_name": "Python 3",
   "language": "python",
   "name": "python3"
  },
  "language_info": {
   "codemirror_mode": {
    "name": "ipython",
    "version": 3
   },
   "file_extension": ".py",
   "mimetype": "text/x-python",
   "name": "python",
   "nbconvert_exporter": "python",
   "pygments_lexer": "ipython3",
   "version": "3.12.2"
  }
 },
 "nbformat": 4,
 "nbformat_minor": 2
}
