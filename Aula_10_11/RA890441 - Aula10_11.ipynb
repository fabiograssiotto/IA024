{
 "cells": [
  {
   "cell_type": "markdown",
   "metadata": {},
   "source": [
    "Nome: Fabio Grassiotto  \n",
    "RA: 890441\n",
    "\n",
    "# Aula 10_11 - Implementação do RAGAS\n",
    "\n",
    "-Implementar o RAGAS com o LLaMA-3 70B para avaliar a qualidade das 50 anotações do IIRC usadas no exercício passado.  \n",
    "-O RAGAS considera context, question, answer, keys que estão disponíveis no conjunto de teste do IIRC.  \n",
    "Opcional:  \n",
    "-Avaliar as respostas do exercício da aula 9_10  \n",
    "-Usar multi agents  \n"
   ]
  },
  {
   "cell_type": "markdown",
   "metadata": {},
   "source": [
    "## Setup Environment\n",
    "### Install packages"
   ]
  },
  {
   "cell_type": "code",
   "execution_count": 1,
   "metadata": {},
   "outputs": [],
   "source": [
    "%%capture\n",
    "%pip install -q torch\n",
    "%pip install groq\n",
    "%pip install llama-index-llms-groq\n",
    "%pip install langchain\n",
    "%pip install langchain-groq\n",
    "%pip install -U sentence-transformers\n",
    "%pip install faiss-cpu\n",
    "%pip install rank_bm25\n",
    "%pip install bs4\n",
    "%pip install spacy\n",
    "!python -m spacy download en_core_web_sm\n",
    "%pip install ragas"
   ]
  },
  {
   "cell_type": "markdown",
   "metadata": {},
   "source": [
    "### Imports"
   ]
  },
  {
   "cell_type": "code",
   "execution_count": 2,
   "metadata": {},
   "outputs": [],
   "source": [
    "import os\n",
    "import sys\n",
    "import json\n",
    "import torch\n",
    "from collections import Counter\n",
    "import string\n",
    "import re\n",
    "from bs4 import BeautifulSoup\n",
    "from tqdm import tqdm\n",
    "import spacy\n",
    "import pandas as pd\n",
    "import warnings\n",
    "warnings.simplefilter('ignore')\n",
    "\n",
    "# Langchain\n",
    "from langchain_core.prompts import ChatPromptTemplate\n",
    "from langchain_groq import ChatGroq\n",
    "from langchain.tools import tool\n",
    "from langchain.agents import AgentExecutor, create_react_agent\n",
    "from langchain_core.prompts import PromptTemplate\n",
    "\n",
    "# Sentence Transformers\n",
    "from sentence_transformers import SentenceTransformer, CrossEncoder\n",
    "import faiss\n",
    "\n",
    "# Ragas\n",
    "from ragas.metrics import (\n",
    "    answer_relevancy,\n",
    "    faithfulness,\n",
    "    context_recall,\n",
    "    context_precision,\n",
    ")\n",
    "from ragas import evaluate"
   ]
  },
  {
   "cell_type": "markdown",
   "metadata": {},
   "source": [
    "### Collab setup"
   ]
  },
  {
   "cell_type": "code",
   "execution_count": 3,
   "metadata": {},
   "outputs": [
    {
     "name": "stdout",
     "output_type": "stream",
     "text": [
      "cuda\n"
     ]
    }
   ],
   "source": [
    "# Colab environment\n",
    "IN_COLAB = 'google.colab' in sys.modules\n",
    "\n",
    "if (IN_COLAB):\n",
    "    # Google Drive\n",
    "    from google.colab import drive\n",
    "    drive.mount('/content/drive', force_remount=True)\n",
    "\n",
    "    project_folder=\"/content/drive/MyDrive/Classes/IA024/Aula_9_10\"\n",
    "    os.chdir(project_folder)\n",
    "    !ls -la\n",
    "\n",
    "device = 'cuda' if torch.cuda.is_available() else 'cpu'\n",
    "print(device)"
   ]
  },
  {
   "cell_type": "markdown",
   "metadata": {},
   "source": [
    "## Globals"
   ]
  },
  {
   "cell_type": "code",
   "execution_count": 4,
   "metadata": {},
   "outputs": [],
   "source": [
    "NUM_QUESTIONS = 50\n",
    "LLM_MODEL_NAME=\"llama3-70b-8192\"\n",
    "SEARCH_MODEL_NAME = \"sentence-transformers/msmarco-MiniLM-L-6-v3\"\n",
    "CROSSENCODER_MODEL_NAME = \"cross-encoder/ms-marco-MiniLM-L-6-v2\""
   ]
  },
  {
   "cell_type": "markdown",
   "metadata": {},
   "source": [
    "## IIRC Dataset"
   ]
  },
  {
   "cell_type": "code",
   "execution_count": 5,
   "metadata": {},
   "outputs": [],
   "source": [
    "if not os.path.exists(\"dataset/context_articles.json\"):\n",
    "    !wget http://jamesf-incomplete-qa.s3.amazonaws.com/context_articles.tar.gz\n",
    "    !tar -xzf context_articles.tar.gz --directory dataset\n",
    "    !rm context_articles.tar.gz"
   ]
  },
  {
   "cell_type": "code",
   "execution_count": 6,
   "metadata": {},
   "outputs": [],
   "source": [
    "test_dataset  = json.load(open('dataset/test_questions.json', 'r'))\n",
    "articles = json.load(open('dataset/context_articles.json', 'r'))"
   ]
  },
  {
   "cell_type": "code",
   "execution_count": 7,
   "metadata": {},
   "outputs": [
    {
     "data": {
      "text/plain": [
       "{'answer': {'type': 'span',\n",
       "  'answer_spans': [{'text': 'White Hart Lane',\n",
       "    'passage': 'Chris Brunt',\n",
       "    'type': 'answer',\n",
       "    'start': 622,\n",
       "    'end': 637}]},\n",
       " 'question': 'Which stadium where Brunt played can hold more people, The Hawthorns or White Hart Lane?',\n",
       " 'context': [{'text': 'at The Hawthorns',\n",
       "   'passage': 'main',\n",
       "   'indices': [139, 155]},\n",
       "  {'text': 'at White Hart Lane', 'passage': 'main', 'indices': [619, 637]},\n",
       "  {'text': 'The Hawthorns is an all-seater football stadium in West Bromwich, West Midlands, England, with a capacity of 26,688',\n",
       "   'passage': 'The Hawthorns',\n",
       "   'indices': [0, 115]},\n",
       "  {'text': ' Its capacity varied over the years; when changed to all-seater it had a capacity of 36,284 before demolition.',\n",
       "   'passage': 'White Hart Lane',\n",
       "   'indices': [132, 242]}],\n",
       " 'question_links': ['The Hawthorns', 'White Hart Lane'],\n",
       " 'title': 'Chris Brunt'}"
      ]
     },
     "execution_count": 7,
     "metadata": {},
     "output_type": "execute_result"
    }
   ],
   "source": [
    "test_dataset[5]"
   ]
  },
  {
   "cell_type": "markdown",
   "metadata": {},
   "source": [
    "### Load and parse"
   ]
  },
  {
   "cell_type": "code",
   "execution_count": 8,
   "metadata": {},
   "outputs": [],
   "source": [
    "# Grab the first 50 questions  # type: ignorewith an answer\n",
    "def grab_documents():\n",
    "\n",
    "  questions_found = []\n",
    "  num_questions_found = 0\n",
    "  documents = []\n",
    "  all_titles = []\n",
    "\n",
    "  for item in test_dataset:\n",
    "    question = item['question']\n",
    "    answer = item['answer']\n",
    "    answer_type = answer['type']\n",
    "\n",
    "    if answer_type == 'binary' or answer_type == 'value':\n",
    "      final_answer = answer['answer_value']\n",
    "    elif answer_type == 'span':\n",
    "      final_answer = answer['answer_spans'][0]['text']\n",
    "    elif answer_type == 'none':\n",
    "      final_answer = 'none'\n",
    "    else:\n",
    "      final_answer = 'An error perhaps, bad type'\n",
    "      print(answer_type)\n",
    "\n",
    "    if (final_answer == 'none'):\n",
    "      # Skip this one.\n",
    "      continue\n",
    "    else:\n",
    "      # Thats a good question.\n",
    "      \n",
    "      # First add some extra info in the context-part\n",
    "      for context in item['context']:\n",
    "          # Cleanup html tags\n",
    "          soup = BeautifulSoup(context['text'], 'html.parser')\n",
    "          clean_text = soup.get_text()\n",
    "\n",
    "          documents.append({\n",
    "                  \"title\": item['title'].lower(),\n",
    "                  \"content\": clean_text\n",
    "            }\n",
    "          )\n",
    "          \n",
    "      all_titles.append(item['title'].lower())\n",
    "\n",
    "      # And then grab the text from the articles json \n",
    "      for link in item[\"question_links\"]:\n",
    "        if link.lower() in articles and link.lower() not in all_titles:\n",
    "          # Cleanup html tags\n",
    "          soup = BeautifulSoup(articles[link.lower()], 'html.parser')\n",
    "          clean_text = soup.get_text()\n",
    "\n",
    "          documents.append({\n",
    "            \"title\": link,\n",
    "            \"content\": clean_text\n",
    "          })\n",
    "        all_titles.append(link.lower())\n",
    "\n",
    "      # Fix leading, trailing and excessive spaces between words.\n",
    "      question = question.strip()\n",
    "      question = \" \".join(question.split())\n",
    "\n",
    "      questions_found.append({\"Id\": num_questions_found, \"Question\": question.strip(), \"Answer\": final_answer.strip()})\n",
    "      num_questions_found += 1\n",
    "      if (num_questions_found == NUM_QUESTIONS):\n",
    "        # found our questions\n",
    "        break\n",
    "\n",
    "  return questions_found, documents, all_titles\n",
    "\n",
    "questions_to_ask, documents, all_titles = grab_documents()"
   ]
  },
  {
   "cell_type": "markdown",
   "metadata": {},
   "source": [
    "### Sequence segmentation (3 per document)"
   ]
  },
  {
   "cell_type": "code",
   "execution_count": 9,
   "metadata": {},
   "outputs": [
    {
     "name": "stderr",
     "output_type": "stream",
     "text": [
      "100%|██████████| 192/192 [00:01<00:00, 124.90it/s]\n"
     ]
    }
   ],
   "source": [
    "contents_list = []\n",
    "nlp = spacy.load('en_core_web_sm')\n",
    "\n",
    "for t in tqdm(documents):\n",
    "    paragraph = t.get('content')\n",
    "    paragraph = paragraph[:512] \n",
    "\n",
    "    sentences = list(sent.text for sent in nlp(paragraph).sents)\n",
    "    sentences = sentences[:3]\n",
    "    excerpt = \"\"\n",
    "    for s in sentences:\n",
    "        excerpt += s\n",
    "    contents_list.append(excerpt)"
   ]
  },
  {
   "cell_type": "markdown",
   "metadata": {},
   "source": [
    "### Inspecting data"
   ]
  },
  {
   "cell_type": "code",
   "execution_count": 10,
   "metadata": {},
   "outputs": [
    {
     "data": {
      "text/plain": [
       "50"
      ]
     },
     "execution_count": 10,
     "metadata": {},
     "output_type": "execute_result"
    }
   ],
   "source": [
    "len(questions_to_ask)"
   ]
  },
  {
   "cell_type": "code",
   "execution_count": 11,
   "metadata": {},
   "outputs": [
    {
     "data": {
      "text/plain": [
       "192"
      ]
     },
     "execution_count": 11,
     "metadata": {},
     "output_type": "execute_result"
    }
   ],
   "source": [
    "len(contents_list)"
   ]
  },
  {
   "cell_type": "code",
   "execution_count": 12,
   "metadata": {},
   "outputs": [
    {
     "data": {
      "text/plain": [
       "['he Palici the sons of Zeus',\n",
       " 'in Greek mythology',\n",
       " 'Zeus (British English , North American English ; , Zeús ) is the sky and thunder god in ancient Greek religion',\n",
       " \"Greek mythology is the body of myths originally told by the ancient Greeks and a genre of Ancient Greek folklore.These stories concern the origin and the nature of the world, the lives and activities of deities, heroes, and mythological creatures, and the origins and significance of the ancient Greeks' own cult and ritual practices.Modern scholars study the myths in an attempt to shed light on the religious and political institutions of ancient Greece and its civilization, and to gain understanding of the\",\n",
       " 'Zeus (British English , North American English ; , Zeús ) is the sky and thunder god in ancient Greek religion, who rules as king of the gods of Mount Olympus.His name is cognate with the first element of his Roman equivalent Jupiter.His mythologies and powers are similar, though not identical, to those of Indo-European deities such as Jupiter, Perkūnas, Perun, Indra and Thor.\\n\\n',\n",
       " 'he became aide-de-camp to King Victor Emmanuel III, holding this post from 1923 to 1927',\n",
       " 'a global war originating in Europe that lasted from 28 July 1914 to 11 November 1918',\n",
       " 'World War I (often abbreviated as WWI or WW1), also known as the First World War, the Great War, the Seminal Catastrophe, and initially in North America as the European War, was a global war originating in Europe that lasted from 28 July 1914 to 11 November 1918.Contemporaneously described as \"the war to end all wars\", it led to the mobilisation of more than 70\\xa0million military personnel, including 60 million Europeans, making it one of the largest wars in history.It is also one of the deadliest conflicts',\n",
       " 'Messe was born in Mesagne, in the Province of Brindisi in the Apulia region of Italy on 10 December 1883.',\n",
       " 'a global war originating in Europe that lasted from 28 July 1914 to 11 November 1918']"
      ]
     },
     "execution_count": 12,
     "metadata": {},
     "output_type": "execute_result"
    }
   ],
   "source": [
    "contents_list[:10]"
   ]
  },
  {
   "cell_type": "code",
   "execution_count": 13,
   "metadata": {},
   "outputs": [
    {
     "data": {
      "text/plain": [
       "['palici',\n",
       " 'greek mythology',\n",
       " 'zeus',\n",
       " 'giovanni messe',\n",
       " 'world war i',\n",
       " 'giovanni messe',\n",
       " 'world war i',\n",
       " 'casino royale (1967 film)',\n",
       " 'angela scoular',\n",
       " \"on her majesty's secret service (film)\"]"
      ]
     },
     "execution_count": 13,
     "metadata": {},
     "output_type": "execute_result"
    }
   ],
   "source": [
    "all_titles[:10]"
   ]
  },
  {
   "cell_type": "code",
   "execution_count": 14,
   "metadata": {},
   "outputs": [
    {
     "data": {
      "text/plain": [
       "{'Id': 0,\n",
       " 'Question': 'What is Zeus know for in Greek mythology?',\n",
       " 'Answer': 'sky and thunder god'}"
      ]
     },
     "execution_count": 14,
     "metadata": {},
     "output_type": "execute_result"
    }
   ],
   "source": [
    "questions_to_ask[0]"
   ]
  },
  {
   "cell_type": "markdown",
   "metadata": {},
   "source": [
    "## FAISS Indexing"
   ]
  },
  {
   "cell_type": "code",
   "execution_count": 15,
   "metadata": {},
   "outputs": [
    {
     "name": "stderr",
     "output_type": "stream",
     "text": [
      "Batches: 100%|██████████| 6/6 [00:00<00:00,  9.17it/s]\n"
     ]
    }
   ],
   "source": [
    "model = SentenceTransformer(SEARCH_MODEL_NAME)\n",
    "model.to(device)\n",
    "\n",
    "embeddings = model.encode(contents_list, show_progress_bar=True)"
   ]
  },
  {
   "cell_type": "code",
   "execution_count": 18,
   "metadata": {},
   "outputs": [],
   "source": [
    "# Create a FAISS index from the embeddings\n",
    "index = faiss.IndexFlatL2(embeddings.shape[1])\n",
    "index.add(embeddings)"
   ]
  },
  {
   "cell_type": "markdown",
   "metadata": {},
   "source": [
    "## Langchain Groq API"
   ]
  },
  {
   "cell_type": "code",
   "execution_count": 19,
   "metadata": {},
   "outputs": [],
   "source": [
    "def load_groq_key():\n",
    "    try:\n",
    "        # Open and read the entire content of the file\n",
    "        with open(\"groq-key.txt\", 'r') as file:\n",
    "            contents = file.read()\n",
    "        \n",
    "        return contents\n",
    "    \n",
    "    except FileNotFoundError:\n",
    "        print(f\"The file does not exist.\")\n",
    "        return None\n",
    "    except Exception as e:\n",
    "        # Handle other potential exceptions (e.g., permission errors)\n",
    "        print(f\"An error occurred while reading the file: {str(e)}\")\n",
    "        return None\n",
    "    \n",
    "chat = ChatGroq(temperature=0, groq_api_key=load_groq_key(), model_name=LLM_MODEL_NAME)"
   ]
  },
  {
   "cell_type": "code",
   "execution_count": 20,
   "metadata": {},
   "outputs": [
    {
     "data": {
      "text/plain": [
       "AIMessage(content='Low-latency Large Language Models (LLMs) are crucial in various applications where real-time or near-real-time processing is essential. Here are some reasons why low-latency LLMs are important:\\n\\n1. **Interactive Systems**: In applications like chatbots, virtual assistants, and conversational AI, low-latency LLMs enable rapid response times, creating a more natural and engaging user experience. This is particularly important in customer-facing applications where delayed responses can lead to frustration and abandonment.\\n2. **Real-time Decision Making**: In areas like finance, healthcare, and cybersecurity, timely decision-making is critical. Low-latency LLMs can quickly analyze vast amounts of data, enabling swift identification of patterns, anomalies, and insights, which inform timely decisions.\\n3. **Live Content Generation**: Low-latency LLMs are essential for generating content in real-time, such as live subtitles, closed captions, or automated summarization of live events. This enables a more inclusive and engaging experience for audiences.\\n4. **Gaming and Simulation**: In online gaming and simulation environments, low-latency LLMs can generate realistic NPC (non-player character) interactions, dialogue, and responses, creating a more immersive experience for players.\\n5. **Autonomous Systems**: In autonomous vehicles, drones, or robots, low-latency LLMs can quickly process and respond to sensor data, enabling faster and more accurate decision-making, which is critical for safety and efficiency.\\n6. **Edge AI and IoT**: As IoT devices proliferate, low-latency LLMs can be deployed at the edge to process data in real-time, reducing latency and improving responsiveness in applications like smart homes, cities, or industrial automation.\\n7. **Accessibility and Inclusivity**: Low-latency LLMs can facilitate real-time language translation, enabling people with disabilities or language barriers to communicate more effectively.\\n8. **Competitive Advantage**: In industries like customer service, sales, or marketing, low-latency LLMs can provide a competitive edge by enabling faster response times, improved customer engagement, and more efficient operations.\\n9. **Scalability and Efficiency**: By reducing latency, LLMs can handle a higher volume of requests, making them more scalable and efficient, which is essential for large-scale deployments.\\n10. **Future-Proofing**: As AI continues to advance, low-latency LLMs will be essential for future applications like augmented reality, virtual reality, and brain-computer interfaces, which require rapid processing and response times.\\n\\nIn summary, low-latency LLMs are crucial for applications that require real-time or near-real-time processing, enabling faster decision-making, improved user experiences, and competitive advantages.', response_metadata={'token_usage': {'completion_time': 1.7610000000000001, 'completion_tokens': 543, 'prompt_time': 0.013, 'prompt_tokens': 32, 'queue_time': None, 'total_time': 1.774, 'total_tokens': 575}, 'model_name': 'llama3-70b-8192', 'system_fingerprint': 'fp_753a4aecf6', 'finish_reason': 'stop', 'logprobs': None}, id='run-35d386ac-d2d7-4d18-b6f7-6dfd33b4ca6f-0')"
      ]
     },
     "execution_count": 20,
     "metadata": {},
     "output_type": "execute_result"
    }
   ],
   "source": [
    "system = \"You are a helpful assistant.\"\n",
    "human = \"{text}\"\n",
    "prompt = ChatPromptTemplate.from_messages([(\"system\", system), (\"human\", human)])\n",
    "\n",
    "chain = prompt | chat\n",
    "chain.invoke({\"text\": \"Explain the importance of low latency LLMs.\"})"
   ]
  },
  {
   "cell_type": "markdown",
   "metadata": {},
   "source": [
    "## ReAct Agent Implementation"
   ]
  },
  {
   "cell_type": "markdown",
   "metadata": {},
   "source": [
    "### Prompt from Langchain (https://smith.langchain.com/hub/hwchase17/react-chat)\n",
    "\n",
    "This prompt was modified:\n",
    "\n",
    "- to remove the chat history, so every question is a new chat with the LLM.\n",
    "- to request the model to use short answers, and to answer with numerals instead of words for numbers, to increase our F1 score."
   ]
  },
  {
   "cell_type": "code",
   "execution_count": 21,
   "metadata": {},
   "outputs": [],
   "source": [
    "LANGCHAIN_CHAT_SYSTEM_HEADER = \"\"\"\\\n",
    "\n",
    "Assistant is a large language model trained by Meta AI.\n",
    "Assistant is designed to be able to assist with a wide range of tasks, from answering simple questions to providing in-depth explanations and discussions on a wide range of topics. As a language model, Assistant is able to generate human-like text based on the input it receives, allowing it to engage in natural-sounding conversations and provide responses that are coherent and relevant to the topic at hand.\n",
    "Assistant is constantly learning and improving, and its capabilities are constantly evolving. It is able to process and understand large amounts of text, and can use this knowledge to provide accurate and informative responses to a wide range of questions. Additionally, Assistant is able to generate its own text based on the input it receives, allowing it to engage in discussions and provide explanations and descriptions on a wide range of topics.\n",
    "Overall, Assistant is a powerful tool that can help with a wide range of tasks and provide valuable insights and information on a wide range of topics. Whether you need help with a specific question or just want to have a conversation about a particular topic, Assistant is here to assist.\n",
    "\n",
    "TOOLS:\n",
    "------\n",
    "Assistant has access to the following tools:\n",
    "{tools}\n",
    "To use a tool, please use the following format:\n",
    "```\n",
    "Thought: Do I need to use a tool? Yes\n",
    "Action: the action to take, should be one of [{tool_names}]\n",
    "Action Input: the input to the action\n",
    "Observation: the result of the action\n",
    "```\n",
    "When you have a response to say to the Human, or if you do not need to use a tool, you MUST use the format:\n",
    "```\n",
    "Thought: Do I need to use a tool? No\n",
    "Final Answer: [your response here]\n",
    "```\n",
    "Your final answer must be short, no more than 10 words, and use numerals instead of words for numbers.\n",
    "Begin!\n",
    "New input: {input}\n",
    "{agent_scratchpad}\n",
    "\"\"\""
   ]
  },
  {
   "cell_type": "markdown",
   "metadata": {},
   "source": [
    "### Agent tool definition\n",
    "\n",
    "Top 5 hits returned from the search, using a crossencoder for reranking."
   ]
  },
  {
   "cell_type": "code",
   "execution_count": 27,
   "metadata": {},
   "outputs": [
    {
     "name": "stderr",
     "output_type": "stream",
     "text": [
      "100%|██████████| 50/50 [00:38<00:00,  1.30it/s]\n"
     ]
    }
   ],
   "source": [
    "# Prepare context list for Ragas evaluation\n",
    "contexts = []\n",
    "for item in tqdm(questions_to_ask):\n",
    "    question_id = item.get(\"Id\")\n",
    "    question = item.get('Question')\n",
    "                        \n",
    "    xq = model.encode([question])\n",
    "    D, I = index.search(xq, 5)  # search\n",
    "    results = []\n",
    "    for i in range(0, 5):\n",
    "        results.append(contents_list[I[0][i]]) \n",
    "\n",
    "    crossencoder = CrossEncoder(CROSSENCODER_MODEL_NAME)\n",
    "    # Concatenate the query and all passages and predict the scores for the pairs [query, passage]\n",
    "    crossencoder_inputs = [[question, passage] for passage in results]\n",
    "    scores = crossencoder.predict(crossencoder_inputs)\n",
    "\n",
    "    # Sort the scores in decreasing order\n",
    "    reranked_results = [{\"input\": inp, \"score\": score} for inp, score in zip(crossencoder_inputs, scores)]\n",
    "    reranked_results = sorted(reranked_results, key=lambda x: x[\"score\"], reverse=True)\n",
    "\n",
    "    cross_enc_res = []\n",
    "    for res in reranked_results:\n",
    "        cross_enc_res.append(res['input'][1])\n",
    "\n",
    "    contexts.append(cross_enc_res)\n",
    "    \n",
    "@tool\n",
    "def get_top5_rerank(question: str) -> list[str]:\n",
    "    \"\"\"Returns a list of five strings with texts to help solve a question, using a cross-encoder for re-ranking.\"\"\"\n",
    "    xq = model.encode([question])\n",
    "    D, I = index.search(xq, 5)  # search\n",
    "    results = []\n",
    "    for i in range(0, 5):\n",
    "        results.append(contents_list[I[0][i]]) \n",
    "\n",
    "    crossencoder = CrossEncoder(CROSSENCODER_MODEL_NAME)\n",
    "    # Concatenate the query and all passages and predict the scores for the pairs [query, passage]\n",
    "    crossencoder_inputs = [[question, passage] for passage in results]\n",
    "    scores = crossencoder.predict(crossencoder_inputs)\n",
    "\n",
    "    # Sort the scores in decreasing order\n",
    "    reranked_results = [{\"input\": inp, \"score\": score} for inp, score in zip(crossencoder_inputs, scores)]\n",
    "    reranked_results = sorted(reranked_results, key=lambda x: x[\"score\"], reverse=True)\n",
    "\n",
    "    cross_enc_res = []\n",
    "    for res in reranked_results:\n",
    "        cross_enc_res.append(res['input'][1])\n",
    "    return cross_enc_res"
   ]
  },
  {
   "cell_type": "markdown",
   "metadata": {},
   "source": [
    "## Execution Run"
   ]
  },
  {
   "cell_type": "markdown",
   "metadata": {},
   "source": [
    "### Evaluation functions"
   ]
  },
  {
   "cell_type": "code",
   "execution_count": 29,
   "metadata": {},
   "outputs": [],
   "source": [
    "def normalize_answer(s):\n",
    "  \"\"\"\n",
    "  Taken from the official evaluation script for v1.1 of the SQuAD dataset.\n",
    "  Lower text and remove punctuation, articles and extra whitespace.\n",
    "  \"\"\"\n",
    "\n",
    "  def remove_articles(text):\n",
    "      return re.sub(r\"\\b(a|an|the)\\b\", \" \", text)\n",
    "\n",
    "  def white_space_fix(text):\n",
    "      return \" \".join(text.split())\n",
    "\n",
    "  def remove_punc(text):\n",
    "      exclude = set(string.punctuation)\n",
    "      return \"\".join(ch for ch in text if ch not in exclude)\n",
    "\n",
    "  def lower(text):\n",
    "      return text.lower()\n",
    "\n",
    "  return white_space_fix(remove_articles(remove_punc(lower(s))))\n",
    "\n",
    "def token_f1_score(prediction, ground_truth):\n",
    "  \"\"\"\n",
    "  Taken from the official evaluation script for v1.1 of the SQuAD dataset.\n",
    "  \"\"\"\n",
    "  prediction_tokens = normalize_answer(prediction).split()\n",
    "  ground_truth_tokens = normalize_answer(ground_truth).split()\n",
    "  common = Counter(prediction_tokens) & Counter(ground_truth_tokens)\n",
    "  num_same = sum(common.values())\n",
    "  if num_same == 0:\n",
    "      return 0\n",
    "  precision = 1.0 * num_same / len(prediction_tokens)\n",
    "  recall = 1.0 * num_same / len(ground_truth_tokens)\n",
    "  f1 = (2 * precision * recall) / (precision + recall)\n",
    "  return f1"
   ]
  },
  {
   "cell_type": "markdown",
   "metadata": {},
   "source": [
    "### Analysing the output for 50 questions"
   ]
  },
  {
   "cell_type": "code",
   "execution_count": 30,
   "metadata": {},
   "outputs": [],
   "source": [
    "def evaluate(executor):\n",
    "    # Create dataframe with question, answer, Llm answer and scores\n",
    "    df_results = pd.DataFrame(columns=['question', 'answer', 'LLM answer', 'F1', 'Exact Match'])\n",
    "\n",
    "    for item in tqdm(questions_to_ask):\n",
    "        question = item.get('Question')\n",
    "        answer = normalize_answer(item.get('Answer'))\n",
    "\n",
    "        # RAG context using search\n",
    "        agent_answer = executor.invoke({\"input\": \"Question: \" + question})\n",
    "        llm_answer = normalize_answer(agent_answer['output'])\n",
    "        f1_score = token_f1_score(llm_answer, answer)\n",
    "        e_match_score = 1 if llm_answer == answer else 0\n",
    "        \n",
    "        row = pd.Series([question, answer, llm_answer, f1_score, e_match_score], index=df_results.columns)\n",
    "        df_results = pd.concat([df_results, pd.DataFrame([row])], ignore_index=True)\n",
    "\n",
    "    return df_results"
   ]
  },
  {
   "cell_type": "code",
   "execution_count": 31,
   "metadata": {},
   "outputs": [],
   "source": [
    "def run_agent(tool):\n",
    "    prompt = PromptTemplate.from_template(LANGCHAIN_CHAT_SYSTEM_HEADER)\n",
    "    llm = ChatGroq(temperature=0,\n",
    "                model_name=LLM_MODEL_NAME,\n",
    "                api_key=load_groq_key())\n",
    "    tools = [tool]\n",
    "    agent = create_react_agent(llm, tools, prompt)\n",
    "    agent_executor = AgentExecutor(agent=agent, tools=tools, verbose=True, handle_parsing_errors=True)\n",
    "    df = evaluate(agent_executor)\n",
    "    return df\n",
    "\n",
    "def print_results(df, results_file):\n",
    "    display(df)\n",
    "    df.to_csv(results_file)\n",
    "    print()\n",
    "    print(\"Metrics:\")\n",
    "    print(f\"F1 score: Avg: {df['F1'].mean():.2f}. Std: {df['F1'].std():.2f}\")\n",
    "    print(f\"Exact Match score: Avg: {df['Exact Match'].mean():.2f}. Std: {df['Exact Match'].std():.2f}\")"
   ]
  },
  {
   "cell_type": "markdown",
   "metadata": {},
   "source": [
    "### Searching with Tool returning top 5 hits with Rerank"
   ]
  },
  {
   "cell_type": "code",
   "execution_count": 32,
   "metadata": {},
   "outputs": [
    {
     "name": "stderr",
     "output_type": "stream",
     "text": [
      "  0%|          | 0/50 [00:00<?, ?it/s]"
     ]
    },
    {
     "name": "stdout",
     "output_type": "stream",
     "text": [
      "\n",
      "\n",
      "\u001b[1m> Entering new AgentExecutor chain...\u001b[0m\n",
      "\u001b[32;1m\u001b[1;3mThought: Do I need to use a tool? Yes\n",
      "Action: get_top5_rerank\n",
      "Action Input: What is Zeus know for in Greek mythology?\u001b[0m\u001b[36;1m\u001b[1;3m['Zeus (British English , North American English ; , Zeús ) is the sky and thunder god in ancient Greek religion, who rules as king of the gods of Mount Olympus.His name is cognate with the first element of his Roman equivalent Jupiter.His mythologies and powers are similar, though not identical, to those of Indo-European deities such as Jupiter, Perkūnas, Perun, Indra and Thor.\\n\\n', 'Zeus (British English , North American English ; , Zeús ) is the sky and thunder god in ancient Greek religion', \"Greek mythology is the body of myths originally told by the ancient Greeks and a genre of Ancient Greek folklore.These stories concern the origin and the nature of the world, the lives and activities of deities, heroes, and mythological creatures, and the origins and significance of the ancient Greeks' own cult and ritual practices.Modern scholars study the myths in an attempt to shed light on the religious and political institutions of ancient Greece and its civilization, and to gain understanding of the\", 'in Greek mythology', 'he Palici the sons of Zeus']\u001b[0m"
     ]
    },
    {
     "name": "stderr",
     "output_type": "stream",
     "text": [
      "  2%|▏         | 1/50 [00:02<02:08,  2.62s/it]"
     ]
    },
    {
     "name": "stdout",
     "output_type": "stream",
     "text": [
      "\u001b[32;1m\u001b[1;3mDo I need to use a tool? No\n",
      "Final Answer: King of gods in Greek mythology\u001b[0m\n",
      "\n",
      "\u001b[1m> Finished chain.\u001b[0m\n",
      "\n",
      "\n",
      "\u001b[1m> Entering new AgentExecutor chain...\u001b[0m\n",
      "\u001b[32;1m\u001b[1;3mThought: Do I need to use a tool? Yes\n",
      "Action: get_top5_rerank\n",
      "Action Input: How long had the First World War been over when Messe was named aide-de-camp?\u001b[0m\u001b[36;1m\u001b[1;3m['he became aide-de-camp to King Victor Emmanuel III, holding this post from 1923 to 1927', 'World War I (often abbreviated as WWI or WW1), also known as the First World War, the Great War, the Seminal Catastrophe, and initially in North America as the European War, was a global war originating in Europe that lasted from 28 July 1914 to 11 November 1918.Contemporaneously described as \"the war to end all wars\", it led to the mobilisation of more than 70\\xa0million military personnel, including 60 million Europeans, making it one of the largest wars in history.It is also one of the deadliest conflicts', 'The 1936 Summer Olympics (German: Olympische Sommerspiele 1936), officially known as the Games of the XI Olympiad, was an international multi-sport event held in 1936 in Berlin, Nazi Germany.Berlin won the bid to host the Games over Barcelona, Spain, on 26 April 1931, at the 29th IOC Session in Barcelona.It marked the second and final time the International Olympic Committee gathered to vote in a city that was bidding to host those Games.\\n\\n', 'In the Battle of Bautzen (20–21 May 1813) a combined Russian–Prussian army, that was massively outnumbered, was pushed back by Napoleon I of France but escaped destruction, some sources claiming that Michel Ney failed to block their retreat.The Prussians under Count Gebhard von Blücher and Russians under Prince Peter Wittgenstein, retreating after their defeat at Lützen were attacked by French forces under Napoleon.\\n\\nPrelude.', \"In the Battle of Lützen (German: Schlacht von Großgörschen, 2 May 1813), Napoleon I of France halted the advances of the Sixth Coalition after the French invasion of Russia and the massive French losses in the campaign.The Russian commander, Prince Peter Wittgenstein, attempting to forestall Napoleon's capture of Leipzig, attacked the isolated French right wing near Lützen, Germany.After a day of heavy fighting, the combined Prussian and Russian force retreated; due to French losses and a shortage of Fren\"]\u001b[0m"
     ]
    },
    {
     "name": "stderr",
     "output_type": "stream",
     "text": [
      "  4%|▍         | 2/50 [00:04<01:56,  2.42s/it]"
     ]
    },
    {
     "name": "stdout",
     "output_type": "stream",
     "text": [
      "\u001b[32;1m\u001b[1;3mThought: Do I need to use a tool? No\n",
      "Final Answer: 5 years\u001b[0m\n",
      "\n",
      "\u001b[1m> Finished chain.\u001b[0m\n",
      "\n",
      "\n",
      "\u001b[1m> Entering new AgentExecutor chain...\u001b[0m\n",
      "\u001b[32;1m\u001b[1;3mThought: Do I need to use a tool? Yes\n",
      "Action: get_top5_rerank\n",
      "Action Input: How old was Messe when the First World War started?\u001b[0m\u001b[36;1m\u001b[1;3m['World War I (often abbreviated as WWI or WW1), also known as the First World War, the Great War, the Seminal Catastrophe, and initially in North America as the European War, was a global war originating in Europe that lasted from 28 July 1914 to 11 November 1918.Contemporaneously described as \"the war to end all wars\", it led to the mobilisation of more than 70\\xa0million military personnel, including 60 million Europeans, making it one of the largest wars in history.It is also one of the deadliest conflicts', 'Messe was born in Mesagne, in the Province of Brindisi in the Apulia region of Italy on 10 December 1883.', 'a global war originating in Europe that lasted from 28 July 1914 to 11 November 1918', 'a global war originating in Europe that lasted from 28 July 1914 to 11 November 1918', \"World War\\xa0II (often abbreviated to WWII or WW2), also known as the Second World War, was a global war that lasted from 1939 to 1945.The vast majority of the world's countries—including all the great powers—eventually formed two opposing military alliances: the Allies and the Axis.A state of total war emerged, directly involving more than 100 million people from more than 30 countries.\"]\u001b[0m"
     ]
    },
    {
     "name": "stderr",
     "output_type": "stream",
     "text": [
      "  6%|▌         | 3/50 [00:07<01:47,  2.29s/it]"
     ]
    },
    {
     "name": "stdout",
     "output_type": "stream",
     "text": [
      "\u001b[32;1m\u001b[1;3mThought: Do I need to use a tool? No\n",
      "Final Answer: 31\u001b[0m\n",
      "\n",
      "\u001b[1m> Finished chain.\u001b[0m\n",
      "\n",
      "\n",
      "\u001b[1m> Entering new AgentExecutor chain...\u001b[0m\n",
      "\u001b[32;1m\u001b[1;3mThought: Do I need to use a tool? Yes\n",
      "Action: get_top5_rerank\n",
      "Action Input: How long had Angela Scoular been acting professionally when she appeared in the movie \"On Her Majesty's Secret Service\"?\u001b[0m\u001b[36;1m\u001b[1;3m[\"Angela Scoular appeared as Ruby Bartlett in On Her Majesty's Secret Service\", 'Angela Margaret Scoular (8 November 1945 – 11 April 2011) was an English actress.\\n\\nEarly life.Her father was an engineer and she was born in London.', \"On Her Majesty's Secret Service is a 1969 British spy film and the sixth in the James Bond series produced by Eon Productions.It is based on the 1963 novel of the same name by Ian Fleming.Following Sean Connery's decision to retire from the role after You Only Live Twice, Eon Productions selected an unknown actor and model, George Lazenby, to play the part of James Bond.\", 'On 7 May 1946, Ibuka was joined by Akio Morita to establish a company called (Tokyo Telecommunications Engineering Corporation).The company built Japan\\'s first tape recorder, called the Type-G. In 1958, the company changed its name to \"Sony\".\\n\\n', \"He was fully fit for the club's season opening match against , where he contributed 14 disposals.The loss of All-Australian defender and teammate Alex Rance to an ACL injury in that match however, would force Vlastuin into a more defensive role\"]\u001b[0m"
     ]
    },
    {
     "name": "stderr",
     "output_type": "stream",
     "text": [
      "  8%|▊         | 4/50 [00:09<01:43,  2.24s/it]"
     ]
    },
    {
     "name": "stdout",
     "output_type": "stream",
     "text": [
      "\u001b[32;1m\u001b[1;3mDo I need to use a tool? No\n",
      "Final Answer: 14 years\u001b[0m\n",
      "\n",
      "\u001b[1m> Finished chain.\u001b[0m\n",
      "\n",
      "\n",
      "\u001b[1m> Entering new AgentExecutor chain...\u001b[0m\n",
      "\u001b[32;1m\u001b[1;3mThought: Do I need to use a tool? Yes\n",
      "Action: get_top5_rerank\n",
      "Action Input: What is the capacity of the stadium where Brunt returned to action after a torn ACL?\u001b[0m\u001b[36;1m\u001b[1;3m['Brunt returned to first-team action after eight months out with an anterior cruciate knee', \"He was fully fit for the club's season opening match against , where he contributed 14 disposals.The loss of All-Australian defender and teammate Alex Rance to an ACL injury in that match however, would force Vlastuin into a more defensive role\", 'his 200th AFL match in the season opening match against Carlton at the MCG in late March.Late in the third quarter of that match, Rance landed awkwardly during a marking contest and severely injured his right knee in what coach Damien Hardwick labelled a \"suspected ACL (tear)\"', 'he was left out of both the final team and even the squad of 40 players for the official All-Australian award and was identified by Fox Footy and the Herald Sun as one of the most notable omissions.', 'Reservoir Dogs opened in the United States in 19 theaters with a first week total of $147,839.It was expanded to 61 theaters and totaled $2,832,029 at the domestic box office.The film grossed more than double that in the United Kingdom']\u001b[0m"
     ]
    },
    {
     "name": "stderr",
     "output_type": "stream",
     "text": [
      " 10%|█         | 5/50 [00:11<01:38,  2.20s/it]"
     ]
    },
    {
     "name": "stdout",
     "output_type": "stream",
     "text": [
      "\u001b[32;1m\u001b[1;3mDo I need to use a tool? No\n",
      "Final Answer: MCG has 100,024 capacity.\u001b[0m\n",
      "\n",
      "\u001b[1m> Finished chain.\u001b[0m\n",
      "\n",
      "\n",
      "\u001b[1m> Entering new AgentExecutor chain...\u001b[0m\n",
      "\u001b[32;1m\u001b[1;3mThought: Do I need to use a tool? Yes\n",
      "Action: get_top5_rerank\n",
      "Action Input: Which stadium where Brunt played can hold more people, The Hawthorns or White Hart Lane?\u001b[0m\u001b[36;1m\u001b[1;3m[\"White Hart Lane was a football stadium in Tottenham, North London and the home of Tottenham Hotspur Football Club from 1899 to 2017.Its capacity varied over the years; when changed to all-seater it had a capacity of 36,284 before demolition.The stadium was fully demolished after the end of the 2016–17 season and was replaced by Tottenham Hotspur Stadium as the club's home ground.\\n\\n\", 'The Hawthorns is an all-seater football stadium in West Bromwich, West Midlands, England, with a capacity of 26,688', 'The Hawthorns is an all-seater football stadium in West Bromwich, West Midlands, England, with a capacity of 26,688', 'The Hawthorns is an all-seater football stadium in West Bromwich, West Midlands, England, with a capacity of 26,688.It has been the home of West Bromwich Albion F.C. since 1900, when it became the sixth ground to be used by the club.The Hawthorns was the last Football League ground to be built in the 19th century opening in September 1900, after construction work took only 4 months.', 'at The Hawthorns']\u001b[0m"
     ]
    },
    {
     "name": "stderr",
     "output_type": "stream",
     "text": [
      " 12%|█▏        | 6/50 [00:13<01:36,  2.18s/it]"
     ]
    },
    {
     "name": "stdout",
     "output_type": "stream",
     "text": [
      "\u001b[32;1m\u001b[1;3mDo I need to use a tool? No\n",
      "Final Answer: White Hart Lane\u001b[0m\n",
      "\n",
      "\u001b[1m> Finished chain.\u001b[0m\n",
      "\n",
      "\n",
      "\u001b[1m> Entering new AgentExecutor chain...\u001b[0m\n",
      "\u001b[32;1m\u001b[1;3mThought: Do I need to use a tool? Yes\n",
      "Action: get_top5_rerank\n",
      "Action Input: In which country was Wilhelm Müller born?\u001b[0m\u001b[36;1m\u001b[1;3m['Wilhelm Max Müller (15 May 1862 – July 1919) was an American orientalist.\\n\\nBiography.He was born at Gleißenberg, Germany, the son of Friedrich Max Müller and the grandson of German romantic poet Wilhelm Müller.', 'Wilhelm Müller was born on 7 October 1794 at Dessau', 'Friedrich Max Müller (; 6 December 1823\\xa0– 28 October 1900) was a German-born philologist and Orientalist, who lived and studied in Britain for most of his life.He was one of the founders of the western academic field of Indian studies and the discipline of Study of religions (science of religion, Religionswissenschaft).Müller wrote both scholarly and popular works on the subject of Indology.', 'Max Müller was born into a cultured family on 6 December 1823 in Dessau,', 'Friedrich Max Müller (; 6 December 1823\\xa0– 28 October 1900)']\u001b[0m"
     ]
    },
    {
     "name": "stderr",
     "output_type": "stream",
     "text": [
      " 14%|█▍        | 7/50 [00:39<07:10, 10.01s/it]"
     ]
    },
    {
     "name": "stdout",
     "output_type": "stream",
     "text": [
      "\u001b[32;1m\u001b[1;3mThought: Do I need to use a tool? No\n",
      "Final Answer: Germany\u001b[0m\n",
      "\n",
      "\u001b[1m> Finished chain.\u001b[0m\n",
      "\n",
      "\n",
      "\u001b[1m> Entering new AgentExecutor chain...\u001b[0m\n",
      "\u001b[32;1m\u001b[1;3mThought: Do I need to use a tool? Yes\n",
      "Action: get_top5_rerank\n",
      "Action Input: Which battle Wilhelm Müller fought in while in the Prussian army had the highest casualty?\u001b[0m\u001b[36;1m\u001b[1;3m['In the Battle of Bautzen (20–21 May 1813) a combined Russian–Prussian army, that was massively outnumbered, was pushed back by Napoleon I of France but escaped destruction, some sources claiming that Michel Ney failed to block their retreat.The Prussians under Count Gebhard von Blücher and Russians under Prince Peter Wittgenstein, retreating after their defeat at Lützen were attacked by French forces under Napoleon.\\n\\nPrelude.', 'Friedrich Max Müller (; 6 December 1823\\xa0– 28 October 1900)', 'Wilhelm Max Müller (15 May 1862 – July 1919) was an American orientalist.\\n\\nBiography.He was born at Gleißenberg, Germany, the son of Friedrich Max Müller and the grandson of German romantic poet Wilhelm Müller.', 'The Battle of Kulm was a battle near the town Kulm (Chlumec) and the village Přestanov in northern Bohemia.It was fought on 29–30 August 1813, during the War of the Sixth Coalition.32,000 French troops under Dominique Vandamme attacked an army of about 50-60,000 Austrians, Russians and Prussians under Alexander Ostermann-Tolstoy, but were defeated with heavy losses on both sides.\\n\\nBackground.', \"In the Battle of Lützen (German: Schlacht von Großgörschen, 2 May 1813), Napoleon I of France halted the advances of the Sixth Coalition after the French invasion of Russia and the massive French losses in the campaign.The Russian commander, Prince Peter Wittgenstein, attempting to forestall Napoleon's capture of Leipzig, attacked the isolated French right wing near Lützen, Germany.After a day of heavy fighting, the combined Prussian and Russian force retreated; due to French losses and a shortage of Fren\"]\u001b[0m"
     ]
    },
    {
     "name": "stderr",
     "output_type": "stream",
     "text": [
      " 16%|█▌        | 8/50 [00:59<09:12, 13.16s/it]"
     ]
    },
    {
     "name": "stdout",
     "output_type": "stream",
     "text": [
      "\u001b[32;1m\u001b[1;3mDo I need to use a tool? No\n",
      "Final Answer: Battle of Kulm\u001b[0m\n",
      "\n",
      "\u001b[1m> Finished chain.\u001b[0m\n",
      "\n",
      "\n",
      "\u001b[1m> Entering new AgentExecutor chain...\u001b[0m\n",
      "\u001b[32;1m\u001b[1;3mThought: Do I need to use a tool? Yes\n",
      "Action: get_top5_rerank\n",
      "Action Input: How much time had passed between Wilhelm's return to studies at Berlin and the birth of his son Friedrich?\u001b[0m\u001b[36;1m\u001b[1;3m['In 1814 he returned to his studies at Berlin.', 'Friedrich Max Müller (; 6 December 1823\\xa0– 28 October 1900)', 'Wilhelm Max Müller (15 May 1862 – July 1919) was an American orientalist.\\n\\nBiography.He was born at Gleißenberg, Germany, the son of Friedrich Max Müller and the grandson of German romantic poet Wilhelm Müller.', 'Friedrich Max Müller (; 6 December 1823\\xa0– 28 October 1900) was a German-born philologist and Orientalist, who lived and studied in Britain for most of his life.He was one of the founders of the western academic field of Indian studies and the discipline of Study of religions (science of religion, Religionswissenschaft).Müller wrote both scholarly and popular works on the subject of Indology.', 'In the Battle of Bautzen (20–21 May 1813) a combined Russian–Prussian army, that was massively outnumbered, was pushed back by Napoleon I of France but escaped destruction, some sources claiming that Michel Ney failed to block their retreat.The Prussians under Count Gebhard von Blücher and Russians under Prince Peter Wittgenstein, retreating after their defeat at Lützen were attacked by French forces under Napoleon.\\n\\nPrelude.']\u001b[0m"
     ]
    },
    {
     "name": "stderr",
     "output_type": "stream",
     "text": [
      " 18%|█▊        | 9/50 [01:28<12:17, 17.98s/it]"
     ]
    },
    {
     "name": "stdout",
     "output_type": "stream",
     "text": [
      "\u001b[32;1m\u001b[1;3mThought: Do I need to use a tool? No\n",
      "Final Answer: 9 years\u001b[0m\n",
      "\n",
      "\u001b[1m> Finished chain.\u001b[0m\n",
      "\n",
      "\n",
      "\u001b[1m> Entering new AgentExecutor chain...\u001b[0m\n",
      "\u001b[32;1m\u001b[1;3mThought: Do I need to use a tool? Yes\n",
      "Action: get_top5_rerank\n",
      "Action Input: Which of Wilhelm's direct male descendants lived the longest?\u001b[0m\u001b[36;1m\u001b[1;3m['his grandson Wilhelm Max Müller', 'Wilhelm Max Müller (15 May 1862 – July 1919) was an American orientalist.\\n\\nBiography.He was born at Gleißenberg, Germany, the son of Friedrich Max Müller and the grandson of German romantic poet Wilhelm Müller.', 'Friedrich Max Müller (; 6 December 1823\\xa0– 28 October 1900)', 'Friedrich Max Müller (; 6 December 1823\\xa0– 28 October 1900) was a German-born philologist and Orientalist, who lived and studied in Britain for most of his life.He was one of the founders of the western academic field of Indian studies and the discipline of Study of religions (science of religion, Religionswissenschaft).Müller wrote both scholarly and popular works on the subject of Indology.', 'Max Müller was born into a cultured family on 6 December 1823 in Dessau,']\u001b[0m"
     ]
    },
    {
     "name": "stderr",
     "output_type": "stream",
     "text": [
      " 20%|██        | 10/50 [01:54<13:42, 20.57s/it]"
     ]
    },
    {
     "name": "stdout",
     "output_type": "stream",
     "text": [
      "\u001b[32;1m\u001b[1;3mDo I need to use a tool? No\n",
      "Final Answer: Wilhelm Max Müller (1919)\u001b[0m\n",
      "\n",
      "\u001b[1m> Finished chain.\u001b[0m\n",
      "\n",
      "\n",
      "\u001b[1m> Entering new AgentExecutor chain...\u001b[0m\n",
      "\u001b[32;1m\u001b[1;3mThought: Do I need to use a tool? Yes\n",
      "Action: get_top5_rerank\n",
      "Action Input: In which Italian region did Pesce studied medicine?\u001b[0m\u001b[36;1m\u001b[1;3m['and studied medicine at the University of Genoa in Italy.', 'The University of Genoa, known also with the acronym UniGe (), is one of the largest universities in Italy.It is located in the city of Genoa and regional Metropolitan City of Genoa, on the Italian Riviera in the Liguria region of northwestern Italy.The original university was founded in 1481.\\n\\n', \"In the Battle of Lützen (German: Schlacht von Großgörschen, 2 May 1813), Napoleon I of France halted the advances of the Sixth Coalition after the French invasion of Russia and the massive French losses in the campaign.The Russian commander, Prince Peter Wittgenstein, attempting to forestall Napoleon's capture of Leipzig, attacked the isolated French right wing near Lützen, Germany.After a day of heavy fighting, the combined Prussian and Russian force retreated; due to French losses and a shortage of Fren\", 'In the Battle of Bautzen (20–21 May 1813) a combined Russian–Prussian army, that was massively outnumbered, was pushed back by Napoleon I of France but escaped destruction, some sources claiming that Michel Ney failed to block their retreat.The Prussians under Count Gebhard von Blücher and Russians under Prince Peter Wittgenstein, retreating after their defeat at Lützen were attacked by French forces under Napoleon.\\n\\nPrelude.', 'In 1813-1814 he took part, as a volunteer in the Prussian army, in the national rising against Napoleon.He participated in the battles of Lützen, Bautzen, Hanau and Kulm.']\u001b[0m"
     ]
    },
    {
     "name": "stderr",
     "output_type": "stream",
     "text": [
      " 22%|██▏       | 11/50 [02:17<13:51, 21.31s/it]"
     ]
    },
    {
     "name": "stdout",
     "output_type": "stream",
     "text": [
      "\u001b[32;1m\u001b[1;3mDo I need to use a tool? No\n",
      "Final Answer: Liguria\u001b[0m\n",
      "\n",
      "\u001b[1m> Finished chain.\u001b[0m\n",
      "\n",
      "\n",
      "\u001b[1m> Entering new AgentExecutor chain...\u001b[0m\n",
      "\u001b[32;1m\u001b[1;3mThought: Do I need to use a tool? Yes\n",
      "Action: get_top5_rerank\n",
      "Action Input: Which country hosted the 1948 Leprosy Congress?\u001b[0m\u001b[36;1m\u001b[1;3m['The 1948 World Leprosy Congress in Havana endorsed the Latin-American strategy', 'The 1936 Summer Olympics (German: Olympische Sommerspiele 1936), officially known as the Games of the XI Olympiad, was an international multi-sport event held in 1936 in Berlin, Nazi Germany.Berlin won the bid to host the Games over Barcelona, Spain, on 26 April 1931, at the 29th IOC Session in Barcelona.It marked the second and final time the International Olympic Committee gathered to vote in a city that was bidding to host those Games.\\n\\n', ' It was founded as the Imperial Cricket Conference in 1909', 'he became aide-de-camp to King Victor Emmanuel III, holding this post from 1923 to 1927', ' In 1900, with the approval of Western League president Ban Johnson, Charles Comiskey moved the Saints into his hometown neighborhood of Bridgeport, Chicago, where they became known as the White Stockings']\u001b[0m"
     ]
    },
    {
     "name": "stderr",
     "output_type": "stream",
     "text": [
      " 24%|██▍       | 12/50 [02:45<14:50, 23.44s/it]"
     ]
    },
    {
     "name": "stdout",
     "output_type": "stream",
     "text": [
      "\u001b[32;1m\u001b[1;3mDo I need to use a tool? No\n",
      "Final Answer: Cuba\u001b[0m\n",
      "\n",
      "\u001b[1m> Finished chain.\u001b[0m\n",
      "\n",
      "\n",
      "\u001b[1m> Entering new AgentExecutor chain...\u001b[0m\n",
      "\u001b[32;1m\u001b[1;3mThought: Do I need to use a tool? Yes\n",
      "Action: get_top5_rerank\n",
      "Action Input: When was the sports organization that the Turks and Caicos Islands became affiliate members in 2002 founded?\u001b[0m\u001b[36;1m\u001b[1;3m['Cricket is the national sport of the Turks and Caicos Islands.They became an affiliate member of the International Cricket Council (ICC) in 2002', 'The Atlanta Silverbacks FC was an American professional soccer club based in Atlanta, Georgia.Founded in 1998 as Atlanta Ruckus, the club played in many leagues over the years before folding after the 2015 season.The team played its home games at Atlanta Silverbacks Park, a large soccer complex featuring a 5,000-seat soccer-specific stadium in Atlanta, 15 miles northeast of downtown.', 'In July 1994, the American Professional Soccer League announced it had accepted the Atlanta Magic, owned by Sam Chase, as a new franchise for the 1995 season', \"Jordan then further surprised the sports world by signing a minor league baseball contract with the Chicago White Sox.He reported to spring training and was assigned to the team's minor league system on March 31, 1994\", 'He had an unspectacular professional baseball career for the Birmingham Barons, a Chicago White Sox farm team']\u001b[0m"
     ]
    },
    {
     "name": "stderr",
     "output_type": "stream",
     "text": [
      " 26%|██▌       | 13/50 [03:08<14:22, 23.30s/it]"
     ]
    },
    {
     "name": "stdout",
     "output_type": "stream",
     "text": [
      "\u001b[32;1m\u001b[1;3mDo I need to use a tool? No\n",
      "Final Answer: International Cricket Council founded in 1909\u001b[0m\n",
      "\n",
      "\u001b[1m> Finished chain.\u001b[0m\n",
      "\n",
      "\n",
      "\u001b[1m> Entering new AgentExecutor chain...\u001b[0m\n",
      "\u001b[32;1m\u001b[1;3mThought: Do I need to use a tool? Yes\n",
      "Action: get_top5_rerank\n",
      "Action Input: What was the founding date of the championship the Turks and Caicos Islands national cricket team finished as runners up in 2006?\u001b[0m\u001b[36;1m\u001b[1;3m['Cricket is the national sport of the Turks and Caicos Islands.They became an affiliate member of the International Cricket Council (ICC) in 2002', ' It was founded as the Imperial Cricket Conference in 1909', 'The 2004 National League Division Series (NLDS), the opening round of the 2004 National League playoffs, began on Tuesday, October 5, and ended on Monday, October 11, with the champions of the three NL divisions—along with a \"wild card\" team—participating in two best-of-five series.They were:\\n\\n- (1) St. Louis Cardinals (Central Division champion, 105–57) vs. (3) Los Angeles Dodgers (Western Division champion, 93–69):Cardinals win series, 3–1.\\n- (2) Atlanta Braves (Eastern Division champion, 96–66) vs. (4)', 'and 1996 World Cup of Hockey (Finalists)', \"Jordan then further surprised the sports world by signing a minor league baseball contract with the Chicago White Sox.He reported to spring training and was assigned to the team's minor league system on March 31, 1994\"]\u001b[0m"
     ]
    },
    {
     "name": "stderr",
     "output_type": "stream",
     "text": [
      " 28%|██▊       | 14/50 [03:34<14:26, 24.06s/it]"
     ]
    },
    {
     "name": "stdout",
     "output_type": "stream",
     "text": [
      "\u001b[32;1m\u001b[1;3mDo I need to use a tool? No\n",
      "Final Answer: 1909\u001b[0m\n",
      "\n",
      "\u001b[1m> Finished chain.\u001b[0m\n",
      "\n",
      "\n",
      "\u001b[1m> Entering new AgentExecutor chain...\u001b[0m\n",
      "\u001b[32;1m\u001b[1;3mThought: Do I need to use a tool? Yes\n",
      "Action: get_top5_rerank\n",
      "Action Input: How many years did the player who top-scored for Turks and Caicos Islands during the 2008 Standford 20/20 play for the team?\u001b[0m\u001b[36;1m\u001b[1;3m['Matthews played a single Twenty20 match for the Turks and Caicos Islands against Montserrat in the 2008 Stanford 20/20 at the Stanford Cricket Ground.', 'Donovan Anthony Matthews (born 29 October 1971) is a Guyanese-born cricketer who played for the Turks and Caicos Islands.Matthews was a right-handed batsman who fielded as a wicket-keeper.\\n\\nMatthews played a single Twenty20 match for the Turks and Caicos Islands against Montserrat in the 2008 Stanford 20/20 at the Stanford Cricket Ground.', 'They were invited to take part in the 2008 Standford 20/20, playing one match in a preliminary round against Montserrat.', 'He had an unspectacular professional baseball career for the Birmingham Barons, a Chicago White Sox farm team', 'The 2004 National League Division Series (NLDS), the opening round of the 2004 National League playoffs, began on Tuesday, October 5, and ended on Monday, October 11, with the champions of the three NL divisions—along with a \"wild card\" team—participating in two best-of-five series.They were:\\n\\n- (1) St. Louis Cardinals (Central Division champion, 105–57) vs. (3) Los Angeles Dodgers (Western Division champion, 93–69):Cardinals win series, 3–1.\\n- (2) Atlanta Braves (Eastern Division champion, 96–66) vs. (4)']\u001b[0m"
     ]
    },
    {
     "name": "stderr",
     "output_type": "stream",
     "text": [
      " 30%|███       | 15/50 [04:02<14:40, 25.14s/it]"
     ]
    },
    {
     "name": "stdout",
     "output_type": "stream",
     "text": [
      "\u001b[32;1m\u001b[1;3mDo I need to use a tool? No\n",
      "Final Answer: 1\u001b[0m\n",
      "\n",
      "\u001b[1m> Finished chain.\u001b[0m\n",
      "\n",
      "\n",
      "\u001b[1m> Entering new AgentExecutor chain...\u001b[0m\n",
      "\u001b[32;1m\u001b[1;3mThought: Do I need to use a tool? Yes\n",
      "Action: get_top5_rerank\n",
      "Action Input: How many teams play in the NHL?\u001b[0m\u001b[36;1m\u001b[1;3m['The National Hockey League (NHL; ) is a professional ice hockey league in North America, currently comprising 31 teams: 24 in the United States and 7 in Canada.', 'The National Hockey League (NHL; ) is a professional ice hockey league in North America, currently comprising 31 teams: 24 in the United States and 7 in Canada.The NHL is considered to be the premier professional ice hockey league in the world, and one of the major professional sports leagues in the United States and Canada.The Stanley Cup, the oldest professional sports trophy in North America, is awarded annually to the league playoff champion at the end of each season.\\n\\n', 'the New York Rangers of the National Hockey League (NHL)', 'The first World Cup of Hockey (WCH), or 1996 World Cup of Hockey, replaced the Canada Cup as one of the premier championships for professional ice hockey.\\n\\nInaugural World Cup of Hockey.The first edition of the Cup featured eight teams divided into two groups.', 'The following chart identifies the NCAA-recognized consensus All-Americans and displays which first-team designations they received. \\n\\nEnds.-Frank McPhee, Princeton\\n- Bernie Flowers, Purdue\\n- Eddie Bell, Pennsylvania\\n- Tom Stolhandske, Texas\\n- Tom Scott, Virginia\\n- Joe Collier, Northwestern\\n- Don Branby, Colorado\\n- Buck Martin, Georgia Tech\\n- Steve Mellinger, Kentucky\\n- Ed Luke, Michigan State\\n- Harry Babcock, Georgia\\n']\u001b[0m"
     ]
    },
    {
     "name": "stderr",
     "output_type": "stream",
     "text": [
      " 32%|███▏      | 16/50 [04:29<14:34, 25.73s/it]"
     ]
    },
    {
     "name": "stdout",
     "output_type": "stream",
     "text": [
      "\u001b[32;1m\u001b[1;3mDo I need to use a tool? No\n",
      "Final Answer: 31\u001b[0m\n",
      "\n",
      "\u001b[1m> Finished chain.\u001b[0m\n",
      "\n",
      "\n",
      "\u001b[1m> Entering new AgentExecutor chain...\u001b[0m\n",
      "\u001b[32;1m\u001b[1;3mThought: Do I need to use a tool? Yes\n",
      "Action: get_top5_rerank\n",
      "Action Input: Which hockey team won the World Cup in 1996?\u001b[0m\u001b[36;1m\u001b[1;3m['The first World Cup of Hockey (WCH), or 1996 World Cup of Hockey, replaced the Canada Cup as one of the premier championships for professional ice hockey.\\n\\nInaugural World Cup of Hockey.The first edition of the Cup featured eight teams divided into two groups.', 'and 1996 World Cup of Hockey (Finalists)', 'The National Hockey League (NHL; ) is a professional ice hockey league in North America, currently comprising 31 teams: 24 in the United States and 7 in Canada.The NHL is considered to be the premier professional ice hockey league in the world, and one of the major professional sports leagues in the United States and Canada.The Stanley Cup, the oldest professional sports trophy in North America, is awarded annually to the league playoff champion at the end of each season.\\n\\n', 'the New York Rangers of the National Hockey League (NHL)', 'The 1936 Summer Olympics saw two Koreans win Olympic medals: Sohn Kee-chung took the gold while Nam Sung-yong was the bronze medallist.']\u001b[0m"
     ]
    },
    {
     "name": "stderr",
     "output_type": "stream",
     "text": [
      " 34%|███▍      | 17/50 [04:55<14:13, 25.86s/it]"
     ]
    },
    {
     "name": "stdout",
     "output_type": "stream",
     "text": [
      "\u001b[32;1m\u001b[1;3mDo I need to use a tool? No\n",
      "Final Answer: No hockey team won World Cup in 1996.\u001b[0m\n",
      "\n",
      "\u001b[1m> Finished chain.\u001b[0m\n",
      "\n",
      "\n",
      "\u001b[1m> Entering new AgentExecutor chain...\u001b[0m\n",
      "\u001b[32;1m\u001b[1;3mThought: Do I need to use a tool? Yes\n",
      "Action: get_top5_rerank\n",
      "Action Input: Who is the mayor of the city where the album was mixed by Andy Wallace?\u001b[0m\u001b[36;1m\u001b[1;3m['It was produced by Mike Elizondo and mixed in New York City by noted engineer Andy Wallace.', 'It was produced by Mike Elizondo and mixed in New York City by noted engineer Andy Wallace.', 'The present mayor is Bill de Blasio', \"Monty Python's Life of Brian, also known as Life of Brian, is a 1979 British comedy film starring and written by the comedy group Monty Python (Graham Chapman, John Cleese, Terry Gilliam, Eric Idle, Terry Jones and Michael Palin).It was also directed by Jones.The film tells the story of Brian Cohen (played by Chapman), a young Jewish man who is born on the same day as—and next door to—Jesus Christ, and is subsequently mistaken for the Messiah.\\n\\n\", 'Baghdad (; ) is the capital of Iraq and the second-largest city in the Arab world.Located along the Tigris River, the city was founded in the 8th century and became the capital of the Abbasid Caliphate.Within a short time of its inception, Baghdad evolved into a significant cultural, commercial, and intellectual center of the Muslim world.']\u001b[0m"
     ]
    },
    {
     "name": "stderr",
     "output_type": "stream",
     "text": [
      " 36%|███▌      | 18/50 [05:19<13:25, 25.17s/it]"
     ]
    },
    {
     "name": "stdout",
     "output_type": "stream",
     "text": [
      "\u001b[32;1m\u001b[1;3mDo I need to use a tool? No\n",
      "Final Answer: Bill de Blasio\u001b[0m\n",
      "\n",
      "\u001b[1m> Finished chain.\u001b[0m\n",
      "\n",
      "\n",
      "\u001b[1m> Entering new AgentExecutor chain...\u001b[0m\n",
      "\u001b[32;1m\u001b[1;3mThought: Do I need to use a tool? Yes\n",
      "Action: get_top5_rerank\n",
      "Action Input: How long had Alex Rance been a professional player when he suffered an ACL injury during a season opening match?\u001b[0m\u001b[36;1m\u001b[1;3m['his 200th AFL match in the season opening match against Carlton at the MCG in late March.Late in the third quarter of that match, Rance landed awkwardly during a marking contest and severely injured his right knee in what coach Damien Hardwick labelled a \"suspected ACL (tear)\"', \"He was fully fit for the club's season opening match against , where he contributed 14 disposals.The loss of All-Australian defender and teammate Alex Rance to an ACL injury in that match however, would force Vlastuin into a more defensive role\", \"Alex James Rance (born 9 October 1989) is a professional Australian rules footballer playing for the Richmond Football Club in the Australian Football League (AFL).Rance is a premiership player, five time All-Australian, a one time All-Australian captain and a winner of Richmond's best-and-fairest award.He is currently the club's co-vice captain, alongside Jack Riewoldt.\", \"Rance was drafted by with the club's second selection and the 18th overall in the 2007 AFL national draft.\", \"Jordan then further surprised the sports world by signing a minor league baseball contract with the Chicago White Sox.He reported to spring training and was assigned to the team's minor league system on March 31, 1994\"]\u001b[0m"
     ]
    },
    {
     "name": "stderr",
     "output_type": "stream",
     "text": [
      " 38%|███▊      | 19/50 [05:43<12:53, 24.95s/it]"
     ]
    },
    {
     "name": "stdout",
     "output_type": "stream",
     "text": [
      "\u001b[32;1m\u001b[1;3mDo I need to use a tool? No\n",
      "Final Answer: 11 years\u001b[0m\n",
      "\n",
      "\u001b[1m> Finished chain.\u001b[0m\n",
      "\n",
      "\n",
      "\u001b[1m> Entering new AgentExecutor chain...\u001b[0m\n",
      "\u001b[32;1m\u001b[1;3mThought: Do I need to use a tool? Yes\n",
      "Action: get_top5_rerank\n",
      "Action Input: Which media that noticed the omission of accolade for Vlastuin was in operation first?\u001b[0m\u001b[36;1m\u001b[1;3m[\"Vlastuin started the 2019 season with appearances in each of the club's two pre-season matches\", \"He was fully fit for the club's season opening match against , where he contributed 14 disposals.The loss of All-Australian defender and teammate Alex Rance to an ACL injury in that match however, would force Vlastuin into a more defensive role\", 'he was left out of both the final team and even the squad of 40 players for the official All-Australian award and was identified by Fox Footy and the Herald Sun as one of the most notable omissions.', 'Edward Stephen Waitkus (September 4, 1919\\xa0– September 16, 1972) was a Lithuanian American first baseman in Major League Baseball who had an 11-year career (1941, 1946–1955).He played for the Chicago Cubs and Philadelphia Phillies in the National League and for the Baltimore Orioles of the American League.He was elected to the National League All-Star team twice (1948 and 1949).\\n\\n', 'he was selected by the Associated Press as a first-team player on its 1952 College Football All-America Teams.']\u001b[0m"
     ]
    },
    {
     "name": "stderr",
     "output_type": "stream",
     "text": [
      " 40%|████      | 20/50 [06:10<12:44, 25.49s/it]"
     ]
    },
    {
     "name": "stdout",
     "output_type": "stream",
     "text": [
      "\u001b[32;1m\u001b[1;3mDo I need to use a tool? No\n",
      "Final Answer: Herald Sun\u001b[0m\n",
      "\n",
      "\u001b[1m> Finished chain.\u001b[0m\n",
      "\n",
      "\n",
      "\u001b[1m> Entering new AgentExecutor chain...\u001b[0m\n",
      "\u001b[32;1m\u001b[1;3mThought: Do I need to use a tool? Yes\n",
      "Action: get_top5_rerank\n",
      "Action Input: In what country is the city located where the Arabic dialect is spoken by Jews?\u001b[0m\u001b[36;1m\u001b[1;3m['Baghdad Jewish Arabic (, ) or autonym haki mal yihud (Jewish Speech) or el-haki malna (our speech) is the Arabic dialect spoken by the Jews of Baghdad', 'Baghdad (; ) is the capital of Iraq and the second-largest city in the Arab world.Located along the Tigris River, the city was founded in the 8th century and became the capital of the Abbasid Caliphate.Within a short time of its inception, Baghdad evolved into a significant cultural, commercial, and intellectual center of the Muslim world.', 'Eduard van Beinum (; 3 September 1901 – 13 April 1959, Amsterdam) was a Dutch conductor.\\n\\nBiography.Van Beinum was born in Arnhem, Netherlands, where he received his first violin and piano lessons at an early age.', 'World War I (often abbreviated as WWI or WW1), also known as the First World War, the Great War, the Seminal Catastrophe, and initially in North America as the European War, was a global war originating in Europe that lasted from 28 July 1914 to 11 November 1918.Contemporaneously described as \"the war to end all wars\", it led to the mobilisation of more than 70\\xa0million military personnel, including 60 million Europeans, making it one of the largest wars in history.It is also one of the deadliest conflicts', 'In the Battle of Bautzen (20–21 May 1813) a combined Russian–Prussian army, that was massively outnumbered, was pushed back by Napoleon I of France but escaped destruction, some sources claiming that Michel Ney failed to block their retreat.The Prussians under Count Gebhard von Blücher and Russians under Prince Peter Wittgenstein, retreating after their defeat at Lützen were attacked by French forces under Napoleon.\\n\\nPrelude.']\u001b[0m"
     ]
    },
    {
     "name": "stderr",
     "output_type": "stream",
     "text": [
      " 42%|████▏     | 21/50 [06:36<12:29, 25.84s/it]"
     ]
    },
    {
     "name": "stdout",
     "output_type": "stream",
     "text": [
      "\u001b[32;1m\u001b[1;3mDo I need to use a tool? No\n",
      "Final Answer: Iraq\u001b[0m\n",
      "\n",
      "\u001b[1m> Finished chain.\u001b[0m\n",
      "\n",
      "\n",
      "\u001b[1m> Entering new AgentExecutor chain...\u001b[0m\n",
      "\u001b[32;1m\u001b[1;3mThought: Do I need to use a tool? Yes\n",
      "Action: get_top5_rerank\n",
      "Action Input: How many years were there between Pompeii's destruction and the discovery of the Maya site of Cerén?\u001b[0m\u001b[36;1m\u001b[1;3m['His largest known body of research comes from the archaeology of the Maya site of Cerén, or Joya de Cerén, in the Zapotitan Valley of El Salvador which has been ongoing since its discovery in 1978.', 'Joya de Cerén (Jewel of Cerén in the Spanish language) is an archaeological site in La Libertad Department, El Salvador, featuring a pre-Columbian Maya farming village.\\nThe ancient Maya site of Joya de Cerén is located in the Zapotitán Valley 36 kilometers northwest of San Salvador, El Salvador.It is often referred to as the \"Pompeii of the Americas\", in comparison to the famed Ancient Roman ruins.', 'Pompeii, along with Herculaneum and many villas in the surrounding area (e.g. at Boscoreale, Stabiae), was buried under 4 to 6 m of volcanic ash and pumice in the eruption of Mount Vesuvius in AD 79.', 'His largest known body of research comes from the archaeology of the Maya site of Cerén, or Joya de Cerén, in the Zapotitan Valley of El Salvador', 'Pompeii (, ) was an ancient Roman city located in the modern comune of Pompei near Naples in the Campania region of Italy.Pompeii, along with Herculaneum and many villas in the surrounding area (e.g. at Boscoreale, Stabiae), was buried under 4 to 6 m of volcanic ash and pumice in the eruption of Mount Vesuvius in AD 79.\\n\\nLargely preserved under the ash, the excavated city offers a unique snapshot of Roman life, frozen at the moment it was buried and providing an extraordinarily detailed insight into the ev']\u001b[0m"
     ]
    },
    {
     "name": "stderr",
     "output_type": "stream",
     "text": [
      " 44%|████▍     | 22/50 [07:07<12:39, 27.13s/it]"
     ]
    },
    {
     "name": "stdout",
     "output_type": "stream",
     "text": [
      "\u001b[32;1m\u001b[1;3mDo I need to use a tool? No\n",
      "Final Answer: 1733\u001b[0m\n",
      "\n",
      "\u001b[1m> Finished chain.\u001b[0m\n",
      "\n",
      "\n",
      "\u001b[1m> Entering new AgentExecutor chain...\u001b[0m\n",
      "\u001b[32;1m\u001b[1;3mThought: Do I need to use a tool? Yes\n",
      "Action: get_top5_rerank\n",
      "Action Input: Which Central American country Payson D. Sheets worked at is the largest in area?\u001b[0m\u001b[36;1m\u001b[1;3m['His largest known body of research comes from the archaeology of the Maya site of Cerén, or Joya de Cerén, in the Zapotitan Valley of El Salvador', 'His largest known body of research comes from the archaeology of the Maya site of Cerén, or Joya de Cerén, in the Zapotitan Valley of El Salvador which has been ongoing since its discovery in 1978.', 'Eduard van Beinum (; 3 September 1901 – 13 April 1959, Amsterdam) was a Dutch conductor.\\n\\nBiography.Van Beinum was born in Arnhem, Netherlands, where he received his first violin and piano lessons at an early age.', 'New Comiskey Park (redubbed U.S. Cellular in 2003 and Guaranteed Rate Field in 2016)', 'The following chart identifies the NCAA-recognized consensus All-Americans and displays which first-team designations they received. \\n\\nEnds.-Frank McPhee, Princeton\\n- Bernie Flowers, Purdue\\n- Eddie Bell, Pennsylvania\\n- Tom Stolhandske, Texas\\n- Tom Scott, Virginia\\n- Joe Collier, Northwestern\\n- Don Branby, Colorado\\n- Buck Martin, Georgia Tech\\n- Steve Mellinger, Kentucky\\n- Ed Luke, Michigan State\\n- Harry Babcock, Georgia\\n']\u001b[0m"
     ]
    },
    {
     "name": "stderr",
     "output_type": "stream",
     "text": [
      " 46%|████▌     | 23/50 [07:31<11:49, 26.28s/it]"
     ]
    },
    {
     "name": "stdout",
     "output_type": "stream",
     "text": [
      "\u001b[32;1m\u001b[1;3mDo I need to use a tool? No\n",
      "Final Answer: El Salvador\u001b[0m\n",
      "\n",
      "\u001b[1m> Finished chain.\u001b[0m\n",
      "\n",
      "\n",
      "\u001b[1m> Entering new AgentExecutor chain...\u001b[0m\n",
      "\u001b[32;1m\u001b[1;3mThought: Do I need to use a tool? Yes\n",
      "Action: get_top5_rerank\n",
      "Action Input: Which university did Don Branby played college football for?\u001b[0m\u001b[36;1m\u001b[1;3m['Branby played college football at the end position for the Colorado Buffaloes football team.', 'Branby played college football at the end position for the Colorado Buffaloes football team', 'he was selected by the Associated Press as a first-team player on its 1952 College Football All-America Teams.', 'The Colorado Buffaloes football program represents the University of Colorado Boulder in college football at the NCAA Division I FBS level.The team is currently a member of the Pac-12 Conference, having previously been a charter member of the Big 12 Conference.Before joining the Big 12, they were members of the Big Eight Conference.', 'Suh Yun-bok, a sports coach at Anyang Technical College, won the first race and later took victory at the Boston Marathon.']\u001b[0m"
     ]
    },
    {
     "name": "stderr",
     "output_type": "stream",
     "text": [
      " 48%|████▊     | 24/50 [08:02<11:59, 27.67s/it]"
     ]
    },
    {
     "name": "stdout",
     "output_type": "stream",
     "text": [
      "\u001b[32;1m\u001b[1;3mDo I need to use a tool? No\n",
      "Final Answer: University of Colorado\u001b[0m\n",
      "\n",
      "\u001b[1m> Finished chain.\u001b[0m\n",
      "\n",
      "\n",
      "\u001b[1m> Entering new AgentExecutor chain...\u001b[0m\n",
      "\u001b[32;1m\u001b[1;3mThought: Do I need to use a tool? Yes\n",
      "Action: get_top5_rerank\n",
      "Action Input: Who were the other end position players on the All-America Teams the same year Don Branby was selected?\u001b[0m\u001b[36;1m\u001b[1;3m['Branby played college football at the end position for the Colorado Buffaloes football team.', 'Branby played college football at the end position for the Colorado Buffaloes football team', 'The following chart identifies the NCAA-recognized consensus All-Americans and displays which first-team designations they received. \\n\\nEnds.-Frank McPhee, Princeton\\n- Bernie Flowers, Purdue\\n- Eddie Bell, Pennsylvania\\n- Tom Stolhandske, Texas\\n- Tom Scott, Virginia\\n- Joe Collier, Northwestern\\n- Don Branby, Colorado\\n- Buck Martin, Georgia Tech\\n- Steve Mellinger, Kentucky\\n- Ed Luke, Michigan State\\n- Harry Babcock, Georgia\\n', 'he was selected by the Associated Press as a first-team player on its 1952 College Football All-America Teams.', 'he was left out of both the final team and even the squad of 40 players for the official All-Australian award and was identified by Fox Footy and the Herald Sun as one of the most notable omissions.']\u001b[0m"
     ]
    },
    {
     "name": "stderr",
     "output_type": "stream",
     "text": [
      " 50%|█████     | 25/50 [08:20<10:19, 24.79s/it]"
     ]
    },
    {
     "name": "stdout",
     "output_type": "stream",
     "text": [
      "\u001b[32;1m\u001b[1;3mDo I need to use a tool? No\n",
      "Final Answer: Frank McPhee, Bernie Flowers\u001b[0m\n",
      "\n",
      "\u001b[1m> Finished chain.\u001b[0m\n",
      "\n",
      "\n",
      "\u001b[1m> Entering new AgentExecutor chain...\u001b[0m\n",
      "\u001b[32;1m\u001b[1;3mThought: Do I need to use a tool? Yes\n",
      "Action: get_top5_rerank\n",
      "Action Input: How long had the Associated Press been in operation when they selected Don Branby for the All-America Teams?\u001b[0m\u001b[36;1m\u001b[1;3m['he was selected by the Associated Press as a first-team player on its 1952 College Football All-America Teams.', 'The Associated Press (AP) is a U.S.-based not-for-profit news agency headquartered in New York City.Founded in 1846', 'The Associated Press (AP) is a U.S.-based not-for-profit news agency headquartered in New York City.Founded in 1846, it operates as a cooperative, unincorporated association.Its members are U.S. newspapers and broadcasters.\\n\\n', 'The following chart identifies the NCAA-recognized consensus All-Americans and displays which first-team designations they received. \\n\\nEnds.-Frank McPhee, Princeton\\n- Bernie Flowers, Purdue\\n- Eddie Bell, Pennsylvania\\n- Tom Stolhandske, Texas\\n- Tom Scott, Virginia\\n- Joe Collier, Northwestern\\n- Don Branby, Colorado\\n- Buck Martin, Georgia Tech\\n- Steve Mellinger, Kentucky\\n- Ed Luke, Michigan State\\n- Harry Babcock, Georgia\\n', 'he was left out of both the final team and even the squad of 40 players for the official All-Australian award and was identified by Fox Footy and the Herald Sun as one of the most notable omissions.']\u001b[0m"
     ]
    },
    {
     "name": "stderr",
     "output_type": "stream",
     "text": [
      " 52%|█████▏    | 26/50 [08:44<09:50, 24.61s/it]"
     ]
    },
    {
     "name": "stdout",
     "output_type": "stream",
     "text": [
      "\u001b[32;1m\u001b[1;3mDo I need to use a tool? No\n",
      "Final Answer: 106 years\u001b[0m\n",
      "\n",
      "\u001b[1m> Finished chain.\u001b[0m\n",
      "\n",
      "\n",
      "\u001b[1m> Entering new AgentExecutor chain...\u001b[0m\n",
      "\u001b[32;1m\u001b[1;3mThought: Do I need to use a tool? Yes\n",
      "Action: get_top5_rerank\n",
      "Action Input: How long had the Perthshire Regiment been a going concern for when Harison joined it as a captain?\u001b[0m\u001b[36;1m\u001b[1;3m['He first arrived in the Cape of Good Hope in 1849 as a captain in the Perthshire Regiment', 'The 73rd Regiment of Foot was an infantry regiment of the British Army, raised in 1780.Under the Childers Reforms it amalgamated with the 42nd Regiment of Foot to form the Black Watch (Royal Highlanders) in 1881.\\n\\nFormation.', 'he was left out of both the final team and even the squad of 40 players for the official All-Australian award and was identified by Fox Footy and the Herald Sun as one of the most notable omissions.', 'They were invited to take part in the 2008 Standford 20/20, playing one match in a preliminary round against Montserrat.', \"He was fully fit for the club's season opening match against , where he contributed 14 disposals.The loss of All-Australian defender and teammate Alex Rance to an ACL injury in that match however, would force Vlastuin into a more defensive role\"]\u001b[0m"
     ]
    },
    {
     "name": "stderr",
     "output_type": "stream",
     "text": [
      " 54%|█████▍    | 27/50 [09:10<09:39, 25.18s/it]"
     ]
    },
    {
     "name": "stdout",
     "output_type": "stream",
     "text": [
      "\u001b[32;1m\u001b[1;3mDo I need to use a tool? No\n",
      "Final Answer: 1780\u001b[0m\n",
      "\n",
      "\u001b[1m> Finished chain.\u001b[0m\n",
      "\n",
      "\n",
      "\u001b[1m> Entering new AgentExecutor chain...\u001b[0m\n",
      "\u001b[32;1m\u001b[1;3mThought: Do I need to use a tool? Yes\n",
      "Action: get_top5_rerank\n",
      "Action Input: When was the company for which Tookey called a protest for founded?\u001b[0m\u001b[36;1m\u001b[1;3m['Tookey called for readers to boycott the products of distributor Sony,', 'Tookey called for readers to boycott the products of distributor Sony, and questioned the suitability to the role of the then director of the British Board of Film Classification.', 'Tookey denied charges that he was in favour of blanket censorship, writing in a letter to The Guardian that he has \"frequently written and spoken against censorship and jumped to the defence of films (such as Pulp Fiction, Reservoir Dogs and The Life Of Brian)', 'The 1948 World Leprosy Congress in Havana endorsed the Latin-American strategy', 'he was selected by the Associated Press as a first-team player on its 1952 College Football All-America Teams.']\u001b[0m"
     ]
    },
    {
     "name": "stderr",
     "output_type": "stream",
     "text": [
      " 56%|█████▌    | 28/50 [09:35<09:08, 24.92s/it]"
     ]
    },
    {
     "name": "stdout",
     "output_type": "stream",
     "text": [
      "\u001b[32;1m\u001b[1;3mDo I need to use a tool? No\n",
      "Final Answer: Sony founded in 1946\u001b[0m\n",
      "\n",
      "\u001b[1m> Finished chain.\u001b[0m\n",
      "\n",
      "\n",
      "\u001b[1m> Entering new AgentExecutor chain...\u001b[0m\n",
      "\u001b[32;1m\u001b[1;3mThought: Do I need to use a tool? Yes\n",
      "Action: get_top5_rerank\n",
      "Action Input: Of the films Tookey claimed to have defended against censorship, which one had the highest box office?\u001b[0m\u001b[36;1m\u001b[1;3m['Tookey denied charges that he was in favour of blanket censorship, writing in a letter to The Guardian that he has \"frequently written and spoken against censorship and jumped to the defence of films (such as Pulp Fiction, Reservoir Dogs and The Life Of Brian)', 'Tookey called for readers to boycott the products of distributor Sony, and questioned the suitability to the role of the then director of the British Board of Film Classification.', 'Tookey called for readers to boycott the products of distributor Sony,', 'Life of Brian opened on 17 August 1979 in five North American theatres and grossed US$140,034 ($28,007 per screen) in its opening weekend.Its total gross was $19,398,164.It was the highest grossing British film in North America that year.', 'Reservoir Dogs opened in the United States in 19 theaters with a first week total of $147,839.It was expanded to 61 theaters and totaled $2,832,029 at the domestic box office.The film grossed more than double that in the United Kingdom']\u001b[0m"
     ]
    },
    {
     "name": "stderr",
     "output_type": "stream",
     "text": [
      " 58%|█████▊    | 29/50 [09:58<08:32, 24.40s/it]"
     ]
    },
    {
     "name": "stdout",
     "output_type": "stream",
     "text": [
      "\u001b[32;1m\u001b[1;3mDo I need to use a tool? No\n",
      "Final Answer: Life of Brian ($19,398,164)\u001b[0m\n",
      "\n",
      "\u001b[1m> Finished chain.\u001b[0m\n",
      "\n",
      "\n",
      "\u001b[1m> Entering new AgentExecutor chain...\u001b[0m\n",
      "\u001b[32;1m\u001b[1;3mThought: Do I need to use a tool? Yes\n",
      "Action: get_top5_rerank\n",
      "Action Input: Who is the current director of the board which Tookey questioned the suitability?\u001b[0m\u001b[36;1m\u001b[1;3m['Tookey called for readers to boycott the products of distributor Sony, and questioned the suitability to the role of the then director of the British Board of Film Classification.', 'Tookey denied charges that he was in favour of blanket censorship, writing in a letter to The Guardian that he has \"frequently written and spoken against censorship and jumped to the defence of films (such as Pulp Fiction, Reservoir Dogs and The Life Of Brian)', 'Tookey called for readers to boycott the products of distributor Sony,', 'David Rodney Lewis (born July 3, 1953) is a Canadian former National Hockey League (NHL) defenceman and coach.He was most recently an assistant coach of the Carolina Hurricanes of the NHL.He has both Canadian and American citizenship.\\n\\n', 'The following chart identifies the NCAA-recognized consensus All-Americans and displays which first-team designations they received. \\n\\nEnds.-Frank McPhee, Princeton\\n- Bernie Flowers, Purdue\\n- Eddie Bell, Pennsylvania\\n- Tom Stolhandske, Texas\\n- Tom Scott, Virginia\\n- Joe Collier, Northwestern\\n- Don Branby, Colorado\\n- Buck Martin, Georgia Tech\\n- Steve Mellinger, Kentucky\\n- Ed Luke, Michigan State\\n- Harry Babcock, Georgia\\n']\u001b[0m"
     ]
    },
    {
     "name": "stderr",
     "output_type": "stream",
     "text": [
      " 60%|██████    | 30/50 [10:23<08:12, 24.61s/it]"
     ]
    },
    {
     "name": "stdout",
     "output_type": "stream",
     "text": [
      "\u001b[32;1m\u001b[1;3mDo I need to use a tool? No\n",
      "Final Answer: None mentioned in text.\u001b[0m\n",
      "\n",
      "\u001b[1m> Finished chain.\u001b[0m\n",
      "\n",
      "\n",
      "\u001b[1m> Entering new AgentExecutor chain...\u001b[0m\n",
      "\u001b[32;1m\u001b[1;3mThought: Do I need to use a tool? Yes\n",
      "Action: get_top5_rerank\n",
      "Action Input: Which team won the first game in the 2004 National League Division Series?\u001b[0m\u001b[36;1m\u001b[1;3m['The 2004 National League Division Series (NLDS), the opening round of the 2004 National League playoffs, began on Tuesday, October 5, and ended on Monday, October 11, with the champions of the three NL divisions—along with a \"wild card\" team—participating in two best-of-five series.They were:\\n\\n- (1) St. Louis Cardinals (Central Division champion, 105–57) vs. (3) Los Angeles Dodgers (Western Division champion, 93–69):Cardinals win series, 3–1.\\n- (2) Atlanta Braves (Eastern Division champion, 96–66) vs. (4)', 'the USA recorded a memorable pair of 5–2 victories in Montreal to win the series.', 'The first World Cup of Hockey (WCH), or 1996 World Cup of Hockey, replaced the Canada Cup as one of the premier championships for professional ice hockey.\\n\\nInaugural World Cup of Hockey.The first edition of the Cup featured eight teams divided into two groups.', 'At the end of the season, he was selected by the Associated Press as a first-team player on its 1952 College Football All-America Teams.', 'WHL Championship history.- 1972–73: Loss, 2–0–3 vs Medicine Hat\\n- 1974–75: Loss, 3–4 vs New Westminster\\n- 1975–76: Loss, 1–2–4 vs New Westminster\\n- 1991–92: Loss, 3–4 vs Kamloops\\n- 1993–94: Loss, 3–4 vs Kamloops']\u001b[0m"
     ]
    },
    {
     "name": "stderr",
     "output_type": "stream",
     "text": [
      " 62%|██████▏   | 31/50 [10:48<07:49, 24.71s/it]"
     ]
    },
    {
     "name": "stdout",
     "output_type": "stream",
     "text": [
      "\u001b[32;1m\u001b[1;3mDo I need to use a tool? No\n",
      "Final Answer: St. Louis Cardinals\u001b[0m\n",
      "\n",
      "\u001b[1m> Finished chain.\u001b[0m\n",
      "\n",
      "\n",
      "\u001b[1m> Entering new AgentExecutor chain...\u001b[0m\n",
      "\u001b[32;1m\u001b[1;3mThought: Do I need to use a tool? Yes\n",
      "Action: get_top5_rerank\n",
      "Action Input: How old was the Grand Olympic Auditorium at the time of New Regime playing a landmark concert there?\u001b[0m\u001b[36;1m\u001b[1;3m['That landmark concert was held at the Grand Olympic Auditorium on April 13, 1984.', 'The Grand Olympic Auditorium is a former sports venue in southern Downtown Los Angeles, California.The venue was built in 1924 at 1801 South Grand Avenue, now just south of the Santa Monica Freeway.The grand opening of the Olympic Auditorium was on August 5, 1925, and was a major media event, attended by such celebrities as Jack Dempsey and Rudolph Valentino.', 'The 1936 Summer Olympics (German: Olympische Sommerspiele 1936), officially known as the Games of the XI Olympiad, was an international multi-sport event held in 1936 in Berlin, Nazi Germany.Berlin won the bid to host the Games over Barcelona, Spain, on 26 April 1931, at the 29th IOC Session in Barcelona.It marked the second and final time the International Olympic Committee gathered to vote in a city that was bidding to host those Games.\\n\\n', 'Suh Yun-bok (9 January 1923 – 27 June 2017) was a South Korean marathoner, who is best known as the winner of the 1947 Boston Marathon. \\n\\nHe won the race with a world best time of 2:25:39 under the coach Sohn Kee-chung, the Korean winner of the marathon at the 1936 Berlin Olympics.His participation in the Boston Marathon was financed by donations from servicemen in the United States Forces Korea.', 'The 1936 Summer Olympics saw two Koreans win Olympic medals: Sohn Kee-chung took the gold while Nam Sung-yong was the bronze medallist.']\u001b[0m"
     ]
    },
    {
     "name": "stderr",
     "output_type": "stream",
     "text": [
      " 64%|██████▍   | 32/50 [11:15<07:38, 25.45s/it]"
     ]
    },
    {
     "name": "stdout",
     "output_type": "stream",
     "text": [
      "\u001b[32;1m\u001b[1;3mDo I need to use a tool? No\n",
      "Final Answer: 60 years old\u001b[0m\n",
      "\n",
      "\u001b[1m> Finished chain.\u001b[0m\n",
      "\n",
      "\n",
      "\u001b[1m> Entering new AgentExecutor chain...\u001b[0m\n",
      "\u001b[32;1m\u001b[1;3mThought: Do I need to use a tool? Yes\n",
      "Action: get_top5_rerank\n",
      "Action Input: Who owned the Rochester Rhinos when Glenn left the team?\u001b[0m\u001b[36;1m\u001b[1;3m['Glenn had intended to continue playing for the Rhinos, but had contract disagreements with them and left the team in May 2001.In June, he signed with the Atlanta Silverbacks where he finished his career.', 'The Rochester Rhinos are an American professional soccer team based in Rochester, New York, United States.Founded in 1996, as the Rochester Raging Rhinos, the team formerly played in the United Soccer League in the second tier of the United States soccer league system, and is currently on hiatus.They changed their name to Rochester Rhinos to start the 2008 season.', 'The Rochester Rhinos are an American professional soccer team based in Rochester, New York, United States', 'He would remain with the Rhinos until May 2001.', 'Donovan Anthony Matthews (born 29 October 1971) is a Guyanese-born cricketer who played for the Turks and Caicos Islands.Matthews was a right-handed batsman who fielded as a wicket-keeper.\\n\\nMatthews played a single Twenty20 match for the Turks and Caicos Islands against Montserrat in the 2008 Stanford 20/20 at the Stanford Cricket Ground.']\u001b[0m"
     ]
    },
    {
     "name": "stderr",
     "output_type": "stream",
     "text": [
      " 66%|██████▌   | 33/50 [11:44<07:29, 26.45s/it]"
     ]
    },
    {
     "name": "stdout",
     "output_type": "stream",
     "text": [
      "\u001b[32;1m\u001b[1;3mDo I need to use a tool? No\n",
      "Final Answer: Steve Holroyd owned the team.\u001b[0m\n",
      "\n",
      "\u001b[1m> Finished chain.\u001b[0m\n",
      "\n",
      "\n",
      "\u001b[1m> Entering new AgentExecutor chain...\u001b[0m\n",
      "\u001b[32;1m\u001b[1;3mThought: Do I need to use a tool? Yes\n",
      "Action: get_top5_rerank\n",
      "Action Input: Who owned the last team Glenn ever played for when he first signed with them?\u001b[0m\u001b[36;1m\u001b[1;3m['Glenn had intended to continue playing for the Rhinos, but had contract disagreements with them and left the team in May 2001.In June, he signed with the Atlanta Silverbacks where he finished his career.', 'Edward Stephen Waitkus (September 4, 1919\\xa0– September 16, 1972) was a Lithuanian American first baseman in Major League Baseball who had an 11-year career (1941, 1946–1955).He played for the Chicago Cubs and Philadelphia Phillies in the National League and for the Baltimore Orioles of the American League.He was elected to the National League All-Star team twice (1948 and 1949).\\n\\n', 'He had an unspectacular professional baseball career for the Birmingham Barons, a Chicago White Sox farm team', 'The Atlanta Silverbacks FC was an American professional soccer club based in Atlanta, Georgia.Founded in 1998 as Atlanta Ruckus, the club played in many leagues over the years before folding after the 2015 season.The team played its home games at Atlanta Silverbacks Park, a large soccer complex featuring a 5,000-seat soccer-specific stadium in Atlanta, 15 miles northeast of downtown.', \"He was fully fit for the club's season opening match against , where he contributed 14 disposals.The loss of All-Australian defender and teammate Alex Rance to an ACL injury in that match however, would force Vlastuin into a more defensive role\"]\u001b[0m"
     ]
    },
    {
     "name": "stderr",
     "output_type": "stream",
     "text": [
      " 68%|██████▊   | 34/50 [12:09<06:55, 25.96s/it]"
     ]
    },
    {
     "name": "stdout",
     "output_type": "stream",
     "text": [
      "\u001b[32;1m\u001b[1;3mDo I need to use a tool? No\n",
      "Final Answer: Atlanta Silverbacks\u001b[0m\n",
      "\n",
      "\u001b[1m> Finished chain.\u001b[0m\n",
      "\n",
      "\n",
      "\u001b[1m> Entering new AgentExecutor chain...\u001b[0m\n",
      "\u001b[32;1m\u001b[1;3mThought: Do I need to use a tool? Yes\n",
      "Action: get_top5_rerank\n",
      "Action Input: What state did Glenn finish his career in?\u001b[0m\u001b[36;1m\u001b[1;3m['Glenn had intended to continue playing for the Rhinos, but had contract disagreements with them and left the team in May 2001.In June, he signed with the Atlanta Silverbacks where he finished his career.', 'In June, he signed with the Atlanta Silverbacks where he finished his career.', 'He had an unspectacular professional baseball career for the Birmingham Barons, a Chicago White Sox farm team', 'Edward Stephen Waitkus (September 4, 1919\\xa0– September 16, 1972) was a Lithuanian American first baseman in Major League Baseball who had an 11-year career (1941, 1946–1955).He played for the Chicago Cubs and Philadelphia Phillies in the National League and for the Baltimore Orioles of the American League.He was elected to the National League All-Star team twice (1948 and 1949).\\n\\n', 'Matthews played a single Twenty20 match for the Turks and Caicos Islands against Montserrat in the 2008 Stanford 20/20 at the Stanford Cricket Ground.']\u001b[0m"
     ]
    },
    {
     "name": "stderr",
     "output_type": "stream",
     "text": [
      " 70%|███████   | 35/50 [12:33<06:23, 25.54s/it]"
     ]
    },
    {
     "name": "stdout",
     "output_type": "stream",
     "text": [
      "\u001b[32;1m\u001b[1;3mDo I need to use a tool? No\n",
      "Final Answer: Georgia\u001b[0m\n",
      "\n",
      "\u001b[1m> Finished chain.\u001b[0m\n",
      "\n",
      "\n",
      "\u001b[1m> Entering new AgentExecutor chain...\u001b[0m\n",
      "\u001b[32;1m\u001b[1;3mThought: Do I need to use a tool? Yes\n",
      "Action: get_top5_rerank\n",
      "Action Input: How many championship appearances has the team where Ashton played junior hockey had?\u001b[0m\u001b[36;1m\u001b[1;3m['Ashton played junior hockey for his hometown Saskatoon Blades of the Western Canadian Hockey League (now WHL), playing his first full season in 1972-73 with future NHL and WHA players Bob Bourne, Dave Lewis and George Pesut,', 'Ashton played junior hockey for his hometown Saskatoon Blades', 'Ashton played junior hockey for his hometown Saskatoon Blades', 'he was left out of both the final team and even the squad of 40 players for the official All-Australian award and was identified by Fox Footy and the Herald Sun as one of the most notable omissions.', 'his 200th AFL match in the season opening match against Carlton at the MCG in late March.Late in the third quarter of that match, Rance landed awkwardly during a marking contest and severely injured his right knee in what coach Damien Hardwick labelled a \"suspected ACL (tear)\"']\u001b[0m"
     ]
    },
    {
     "name": "stderr",
     "output_type": "stream",
     "text": [
      " 72%|███████▏  | 36/50 [13:02<06:09, 26.41s/it]"
     ]
    },
    {
     "name": "stdout",
     "output_type": "stream",
     "text": [
      "\u001b[32;1m\u001b[1;3mDo I need to use a tool? No\n",
      "Final Answer: Saskatoon Blades had 2 championships.\u001b[0m\n",
      "\n",
      "\u001b[1m> Finished chain.\u001b[0m\n",
      "\n",
      "\n",
      "\u001b[1m> Entering new AgentExecutor chain...\u001b[0m\n",
      "\u001b[32;1m\u001b[1;3mThought: Do I need to use a tool? Yes\n",
      "Action: get_top5_rerank\n",
      "Action Input: In what year was the team founded who Ashton played junior hockey for?\u001b[0m\u001b[36;1m\u001b[1;3m['Ashton played junior hockey for his hometown Saskatoon Blades of the Western Canadian Hockey League (now WHL), playing his first full season in 1972-73 with future NHL and WHA players Bob Bourne, Dave Lewis and George Pesut,', 'Ashton played junior hockey for his hometown Saskatoon Blades', 'Ashton played junior hockey for his hometown Saskatoon Blades', 'he was selected by the Associated Press as a first-team player on its 1952 College Football All-America Teams.', 'At the end of the season, he was selected by the Associated Press as a first-team player on its 1952 College Football All-America Teams.']\u001b[0m"
     ]
    },
    {
     "name": "stderr",
     "output_type": "stream",
     "text": [
      " 74%|███████▍  | 37/50 [13:22<05:19, 24.58s/it]"
     ]
    },
    {
     "name": "stdout",
     "output_type": "stream",
     "text": [
      "\u001b[32;1m\u001b[1;3mThought: Do I need to use a tool? No\n",
      "Final Answer: 1966\u001b[0m\n",
      "\n",
      "\u001b[1m> Finished chain.\u001b[0m\n",
      "\n",
      "\n",
      "\u001b[1m> Entering new AgentExecutor chain...\u001b[0m\n",
      "\u001b[32;1m\u001b[1;3mThought: Do I need to use a tool? Yes\n",
      "Action: get_top5_rerank\n",
      "Action Input: Who is the oldest teammate of Ashton's when he played junior hockey?\u001b[0m\u001b[36;1m\u001b[1;3m['Ashton played junior hockey for his hometown Saskatoon Blades of the Western Canadian Hockey League (now WHL), playing his first full season in 1972-73 with future NHL and WHA players Bob Bourne, Dave Lewis and George Pesut,', 'Ashton played junior hockey for his hometown Saskatoon Blades', 'Ashton played junior hockey for his hometown Saskatoon Blades', 'Edward Stephen Waitkus (September 4, 1919\\xa0– September 16, 1972) was a Lithuanian American first baseman in Major League Baseball who had an 11-year career (1941, 1946–1955).He played for the Chicago Cubs and Philadelphia Phillies in the National League and for the Baltimore Orioles of the American League.He was elected to the National League All-Star team twice (1948 and 1949).\\n\\n', 'his 200th AFL match in the season opening match against Carlton at the MCG in late March.Late in the third quarter of that match, Rance landed awkwardly during a marking contest and severely injured his right knee in what coach Damien Hardwick labelled a \"suspected ACL (tear)\"']\u001b[0m"
     ]
    },
    {
     "name": "stderr",
     "output_type": "stream",
     "text": [
      " 76%|███████▌  | 38/50 [13:44<04:44, 23.71s/it]"
     ]
    },
    {
     "name": "stdout",
     "output_type": "stream",
     "text": [
      "\u001b[32;1m\u001b[1;3mDo I need to use a tool? No\n",
      "Final Answer: Bob Bourne\u001b[0m\n",
      "\n",
      "\u001b[1m> Finished chain.\u001b[0m\n",
      "\n",
      "\n",
      "\u001b[1m> Entering new AgentExecutor chain...\u001b[0m\n",
      "\u001b[32;1m\u001b[1;3mThought: Do I need to use a tool? Yes\n",
      "Action: get_top5_rerank\n",
      "Action Input: Had the Chicago White Sox been around longer than the Birminham Barons when he was assigned to the White Sox's minor league system?\u001b[0m\u001b[36;1m\u001b[1;3m[\"Jordan then further surprised the sports world by signing a minor league baseball contract with the Chicago White Sox.He reported to spring training and was assigned to the team's minor league system on March 31, 1994\", \"The Chicago White Sox are an American professional baseball team based in Chicago, Illinois.They compete in Major League Baseball (MLB) as a member club of the American League (AL) Central division.The White Sox are owned by Jerry Reinsdorf, and play their home games at Guaranteed Rate Field, located on the city's South Side.\", 'Jordan then further surprised the sports world by signing a minor league baseball contract with the Chicago White Sox.', 'He had an unspectacular professional baseball career for the Birmingham Barons, a Chicago White Sox farm team', \"He was fully fit for the club's season opening match against , where he contributed 14 disposals.The loss of All-Australian defender and teammate Alex Rance to an ACL injury in that match however, would force Vlastuin into a more defensive role\"]\u001b[0m"
     ]
    },
    {
     "name": "stderr",
     "output_type": "stream",
     "text": [
      " 78%|███████▊  | 39/50 [14:10<04:30, 24.56s/it]"
     ]
    },
    {
     "name": "stdout",
     "output_type": "stream",
     "text": [
      "\u001b[32;1m\u001b[1;3mDo I need to use a tool? No\n",
      "Final Answer: White Sox older than Barons\u001b[0m\n",
      "\n",
      "\u001b[1m> Finished chain.\u001b[0m\n",
      "\n",
      "\n",
      "\u001b[1m> Entering new AgentExecutor chain...\u001b[0m\n",
      "\u001b[32;1m\u001b[1;3mThought: Do I need to use a tool? Yes\n",
      "Action: get_top5_rerank\n",
      "Action Input: Did the Bulls owner also own the Chicago White Sox?\u001b[0m\u001b[36;1m\u001b[1;3m[\"Jerry M. Reinsdorf (born February 25, 1936) is a CPA, lawyer and an owner of the NBA's Chicago Bulls and the MLB's Chicago White Sox.He started his professional life as a tax attorney with the Internal Revenue Service.He has been the head of the White Sox and Bulls for over 25 years.\\n\\n\", \"Jerry M. Reinsdorf (born February 25, 1936) is a CPA, lawyer and an owner of the NBA's Chicago Bulls and the MLB's Chicago White Sox.\", \"The Chicago White Sox are an American professional baseball team based in Chicago, Illinois.They compete in Major League Baseball (MLB) as a member club of the American League (AL) Central division.The White Sox are owned by Jerry Reinsdorf, and play their home games at Guaranteed Rate Field, located on the city's South Side.\", 'Bulls owner Jerry Reinsdorf,', ' In 1900, with the approval of Western League president Ban Johnson, Charles Comiskey moved the Saints into his hometown neighborhood of Bridgeport, Chicago, where they became known as the White Stockings']\u001b[0m"
     ]
    },
    {
     "name": "stderr",
     "output_type": "stream",
     "text": [
      " 80%|████████  | 40/50 [14:36<04:10, 25.01s/it]"
     ]
    },
    {
     "name": "stdout",
     "output_type": "stream",
     "text": [
      "\u001b[32;1m\u001b[1;3mDo I need to use a tool? No\n",
      "Final Answer: Yes, Jerry Reinsdorf owns both.\u001b[0m\n",
      "\n",
      "\u001b[1m> Finished chain.\u001b[0m\n",
      "\n",
      "\n",
      "\u001b[1m> Entering new AgentExecutor chain...\u001b[0m\n",
      "\u001b[32;1m\u001b[1;3mThought: Do I need to use a tool? Yes\n",
      "Action: get_top5_rerank\n",
      "Action Input: What stadium do the Chicago White Sox play in?\u001b[0m\u001b[36;1m\u001b[1;3m[\"The Chicago White Sox are an American professional baseball team based in Chicago, Illinois.They compete in Major League Baseball (MLB) as a member club of the American League (AL) Central division.The White Sox are owned by Jerry Reinsdorf, and play their home games at Guaranteed Rate Field, located on the city's South Side.\", \"White Hart Lane was a football stadium in Tottenham, North London and the home of Tottenham Hotspur Football Club from 1899 to 2017.Its capacity varied over the years; when changed to all-seater it had a capacity of 36,284 before demolition.The stadium was fully demolished after the end of the 2016–17 season and was replaced by Tottenham Hotspur Stadium as the club's home ground.\\n\\n\", ' In 1900, with the approval of Western League president Ban Johnson, Charles Comiskey moved the Saints into his hometown neighborhood of Bridgeport, Chicago, where they became known as the White Stockings', 'The 2004 National League Division Series (NLDS), the opening round of the 2004 National League playoffs, began on Tuesday, October 5, and ended on Monday, October 11, with the champions of the three NL divisions—along with a \"wild card\" team—participating in two best-of-five series.They were:\\n\\n- (1) St. Louis Cardinals (Central Division champion, 105–57) vs. (3) Los Angeles Dodgers (Western Division champion, 93–69):Cardinals win series, 3–1.\\n- (2) Atlanta Braves (Eastern Division champion, 96–66) vs. (4)', \"He was fully fit for the club's season opening match against , where he contributed 14 disposals.The loss of All-Australian defender and teammate Alex Rance to an ACL injury in that match however, would force Vlastuin into a more defensive role\"]\u001b[0m"
     ]
    },
    {
     "name": "stderr",
     "output_type": "stream",
     "text": [
      " 82%|████████▏ | 41/50 [15:02<03:46, 25.22s/it]"
     ]
    },
    {
     "name": "stdout",
     "output_type": "stream",
     "text": [
      "\u001b[32;1m\u001b[1;3mDo I need to use a tool? No\n",
      "Final Answer: Guaranteed Rate Field\u001b[0m\n",
      "\n",
      "\u001b[1m> Finished chain.\u001b[0m\n",
      "\n",
      "\n",
      "\u001b[1m> Entering new AgentExecutor chain...\u001b[0m\n",
      "\u001b[32;1m\u001b[1;3mThought: Do I need to use a tool? Yes\n",
      "Action: get_top5_rerank\n",
      "Action Input: How old was the person who shot Waitkus the year he was shot?\u001b[0m\u001b[36;1m\u001b[1;3m['Ruth Ann Steinhagen (December 23, 1929 – December 29, 2012) was an American woman who shot and nearly killed Eddie Waitkus, star first baseman of the Philadelphia Phillies, on June 14, 1949 in one of the first instances of what later became known as stalker crimes.The incident is one of the inspirations for the 1952 baseball book The Natural, made into a film in 1984.\\n\\nEarly life.', 'Although Waitkus would miss much of the 1949 season after being shot by an obsessed fan', 'Edward Stephen Waitkus (September 4, 1919\\xa0– September 16, 1972) was a Lithuanian American first baseman in Major League Baseball who had an 11-year career (1941, 1946–1955).He played for the Chicago Cubs and Philadelphia Phillies in the National League and for the Baltimore Orioles of the American League.He was elected to the National League All-Star team twice (1948 and 1949).\\n\\n', 'Eduard van Beinum (; 3 September 1901 – 13 April 1959, Amsterdam) was a Dutch conductor.\\n\\nBiography.Van Beinum was born in Arnhem, Netherlands, where he received his first violin and piano lessons at an early age.', 'He first arrived in the Cape of Good Hope in 1849 as a captain in the Perthshire Regiment']\u001b[0m"
     ]
    },
    {
     "name": "stderr",
     "output_type": "stream",
     "text": [
      " 84%|████████▍ | 42/50 [15:32<03:33, 26.65s/it]"
     ]
    },
    {
     "name": "stdout",
     "output_type": "stream",
     "text": [
      "\u001b[32;1m\u001b[1;3mDo I need to use a tool? No\n",
      "Final Answer: 19\u001b[0m\n",
      "\n",
      "\u001b[1m> Finished chain.\u001b[0m\n",
      "\n",
      "\n",
      "\u001b[1m> Entering new AgentExecutor chain...\u001b[0m\n",
      "\u001b[32;1m\u001b[1;3mThought: Do I need to use a tool? Yes\n",
      "Action: get_top5_rerank\n",
      "Action Input: How long had Eddie Waitkus been playing professionally when he was traded to the Phils?\u001b[0m\u001b[36;1m\u001b[1;3m['Edward Stephen Waitkus (September 4, 1919\\xa0– September 16, 1972) was a Lithuanian American first baseman in Major League Baseball who had an 11-year career (1941, 1946–1955).He played for the Chicago Cubs and Philadelphia Phillies in the National League and for the Baltimore Orioles of the American League.He was elected to the National League All-Star team twice (1948 and 1949).\\n\\n', 'After the 1948 campaign, Dubiel was traded to the Cubs in a four-player swap that brought first baseman Eddie Waitkus to the Phils.', 'Although Waitkus would miss much of the 1949 season after being shot by an obsessed fan', \"He was fully fit for the club's season opening match against , where he contributed 14 disposals.The loss of All-Australian defender and teammate Alex Rance to an ACL injury in that match however, would force Vlastuin into a more defensive role\", 'Donovan Anthony Matthews (born 29 October 1971) is a Guyanese-born cricketer who played for the Turks and Caicos Islands.Matthews was a right-handed batsman who fielded as a wicket-keeper.\\n\\nMatthews played a single Twenty20 match for the Turks and Caicos Islands against Montserrat in the 2008 Stanford 20/20 at the Stanford Cricket Ground.']\u001b[0m"
     ]
    },
    {
     "name": "stderr",
     "output_type": "stream",
     "text": [
      " 86%|████████▌ | 43/50 [16:07<03:23, 29.05s/it]"
     ]
    },
    {
     "name": "stdout",
     "output_type": "stream",
     "text": [
      "\u001b[32;1m\u001b[1;3mDo I need to use a tool? No\n",
      "Final Answer: 11 years\u001b[0m\n",
      "\n",
      "\u001b[1m> Finished chain.\u001b[0m\n",
      "\n",
      "\n",
      "\u001b[1m> Entering new AgentExecutor chain...\u001b[0m\n",
      "\u001b[32;1m\u001b[1;3mThought: Do I need to use a tool? Yes\n",
      "Action: get_top5_rerank\n",
      "Action Input: In what race was Sohn Kee-chung the gold medalist?\u001b[0m\u001b[36;1m\u001b[1;3m['Sohn Kee-chung (; ; August 29, 1912 – November 15, 2002) was a Korean athlete and long-distance runner.He became the first Korean to win a medal at the Olympic Games, winning gold in the marathon at the 1936 Berlin Olympics as a member of the Japanese delegation.\\n\\nSohn competed under the Japanese name Son Kitei, as Korea was under the colonial rule of the Japanese Empire during his career.\\n', 'Sohn, competing for the Empire of Japan, won the gold medal at the 1936 Summer Olympics in the marathon.He ran the 42.195 km course in 2:29:19.2', 'The 1936 Summer Olympics saw two Koreans win Olympic medals: Sohn Kee-chung took the gold while Nam Sung-yong was the bronze medallist.', 'Nam Sung-yong (November 23, 1912 – February 20, 2001) was a Korean Olympian who won a bronze medal in the marathon at the 1936 Summer Olympics, completing the run in 2 hours, 31 minutes, and 42 seconds.\\n\\nHe was born in Junten (Suncheon), Japanese Korea and received higher education in Japan.Like the gold medalist Sohn Kee-chung, Nam Sung-yong used the Japanese pronunciation of his name, Nan Shōryū as Korea was then a part of the Japanese Empire.\\n\\n', 'The 1936 Summer Olympics saw two Koreans win Olympic medals: Sohn Kee-chung']\u001b[0m"
     ]
    },
    {
     "name": "stderr",
     "output_type": "stream",
     "text": [
      " 88%|████████▊ | 44/50 [16:24<02:32, 25.44s/it]"
     ]
    },
    {
     "name": "stdout",
     "output_type": "stream",
     "text": [
      "\u001b[32;1m\u001b[1;3mDo I need to use a tool? No\n",
      "Final Answer: Marathon\u001b[0m\n",
      "\n",
      "\u001b[1m> Finished chain.\u001b[0m\n",
      "\n",
      "\n",
      "\u001b[1m> Entering new AgentExecutor chain...\u001b[0m\n",
      "\u001b[32;1m\u001b[1;3mThought: Do I need to use a tool? Yes\n",
      "Action: get_top5_rerank\n",
      "Action Input: How much behind did the bronze medalist from the gold medalist?\u001b[0m\u001b[36;1m\u001b[1;3m['The 1936 Summer Olympics saw two Koreans win Olympic medals: Sohn Kee-chung took the gold while Nam Sung-yong was the bronze medallist.', 'Nam Sung-yong (November 23, 1912 – February 20, 2001) was a Korean Olympian who won a bronze medal in the marathon at the 1936 Summer Olympics, completing the run in 2 hours, 31 minutes, and 42 seconds.\\n\\nHe was born in Junten (Suncheon), Japanese Korea and received higher education in Japan.Like the gold medalist Sohn Kee-chung, Nam Sung-yong used the Japanese pronunciation of his name, Nan Shōryū as Korea was then a part of the Japanese Empire.\\n\\n', 'Nam Sung-yong (November 23, 1912 – February 20, 2001) was a Korean Olympian who won a bronze medal in the marathon at the 1936 Summer Olympics, completing the run in 2 hours, 31 minutes, and 42 seconds.', 'He became the first Korean to win a medal at the Olympic Games, winning gold in the marathon at the 1936 Berlin Olympics as a member of the Japanese delegation.', 'They were invited to take part in the 2008 Standford 20/20, playing one match in a preliminary round against Montserrat.']\u001b[0m"
     ]
    },
    {
     "name": "stderr",
     "output_type": "stream",
     "text": [
      " 90%|█████████ | 45/50 [16:50<02:08, 25.80s/it]"
     ]
    },
    {
     "name": "stdout",
     "output_type": "stream",
     "text": [
      "\u001b[32;1m\u001b[1;3mDo I need to use a tool? No\n",
      "Final Answer: 3 min 42 sec\u001b[0m\n",
      "\n",
      "\u001b[1m> Finished chain.\u001b[0m\n",
      "\n",
      "\n",
      "\u001b[1m> Entering new AgentExecutor chain...\u001b[0m\n",
      "\u001b[32;1m\u001b[1;3mThought: Do I need to use a tool? Yes\n",
      "Action: get_top5_rerank\n",
      "Action Input: In what year was Japan defeated in World War II?\u001b[0m\u001b[36;1m\u001b[1;3m[' On 15 August 1945, Japan surrendered, with the surrender documents finally signed at Tokyo Bay on the deck of the American battleship USS Missouri on 2 September 1945, ending the war.', 'When Japan was defeated in World War II', \"World War\\xa0II (often abbreviated to WWII or WW2), also known as the Second World War, was a global war that lasted from 1939 to 1945.The vast majority of the world's countries—including all the great powers—eventually formed two opposing military alliances: the Allies and the Axis.A state of total war emerged, directly involving more than 100 million people from more than 30 countries.\", 'Sohn, competing for the Empire of Japan, won the gold medal at the 1936 Summer Olympics in the marathon.He ran the 42.195 km course in 2:29:19.2', 'The 1936 Summer Olympics (German: Olympische Sommerspiele 1936), officially known as the Games of the XI Olympiad, was an international multi-sport event held in 1936 in Berlin, Nazi Germany.Berlin won the bid to host the Games over Barcelona, Spain, on 26 April 1931, at the 29th IOC Session in Barcelona.It marked the second and final time the International Olympic Committee gathered to vote in a city that was bidding to host those Games.\\n\\n']\u001b[0m"
     ]
    },
    {
     "name": "stderr",
     "output_type": "stream",
     "text": [
      " 92%|█████████▏| 46/50 [17:15<01:41, 25.48s/it]"
     ]
    },
    {
     "name": "stdout",
     "output_type": "stream",
     "text": [
      "\u001b[32;1m\u001b[1;3mDo I need to use a tool? No\n",
      "Final Answer: 1945\u001b[0m\n",
      "\n",
      "\u001b[1m> Finished chain.\u001b[0m\n",
      "\n",
      "\n",
      "\u001b[1m> Entering new AgentExecutor chain...\u001b[0m\n",
      "\u001b[32;1m\u001b[1;3mThought: Do I need to use a tool? Yes\n",
      "Action: get_top5_rerank\n",
      "Action Input: What year did Suh Yun-bok win the Boston Marathon?\u001b[0m\u001b[36;1m\u001b[1;3m['Suh Yun-bok (9 January 1923 – 27 June 2017) was a South Korean marathoner, who is best known as the winner of the 1947 Boston Marathon. \\n\\nHe won the race with a world best time of 2:25:39 under the coach Sohn Kee-chung, the Korean winner of the marathon at the 1936 Berlin Olympics.His participation in the Boston Marathon was financed by donations from servicemen in the United States Forces Korea.', 'Suh Yun-bok, a sports coach at Anyang Technical College, won the first race and later took victory at the Boston Marathon.', \"The Boston Marathon is an annual marathon race hosted by several cities in greater Boston in eastern Massachusetts, United States.It is always held on Patriots' Day, the third Monday of April.Begun in 1897, the event was inspired by the success of the first marathon competition in the 1896 Summer Olympics.\", 'Nam Sung-yong (November 23, 1912 – February 20, 2001) was a Korean Olympian who won a bronze medal in the marathon at the 1936 Summer Olympics, completing the run in 2 hours, 31 minutes, and 42 seconds.', 'Sohn, competing for the Empire of Japan, won the gold medal at the 1936 Summer Olympics in the marathon.He ran the 42.195 km course in 2:29:19.2']\u001b[0m"
     ]
    },
    {
     "name": "stderr",
     "output_type": "stream",
     "text": [
      " 94%|█████████▍| 47/50 [17:42<01:18, 26.05s/it]"
     ]
    },
    {
     "name": "stdout",
     "output_type": "stream",
     "text": [
      "\u001b[32;1m\u001b[1;3mDo I need to use a tool? No\n",
      "Final Answer: 1947\u001b[0m\n",
      "\n",
      "\u001b[1m> Finished chain.\u001b[0m\n",
      "\n",
      "\n",
      "\u001b[1m> Entering new AgentExecutor chain...\u001b[0m\n",
      "\u001b[32;1m\u001b[1;3mThought: Do I need to use a tool? Yes\n",
      "Action: get_top5_rerank\n",
      "Action Input: Was Eduard van Beinum still alive when Gilmore retired?\u001b[0m\u001b[36;1m\u001b[1;3m['Eduard van Beinum (; 3 September 1901 – 13 April 1959, Amsterdam)', 'Eduard van Beinum (; 3 September 1901 – 13 April 1959, Amsterdam) was a Dutch conductor.\\n\\nBiography.Van Beinum was born in Arnhem, Netherlands, where he received his first violin and piano lessons at an early age.', 'Edward Stephen Waitkus (September 4, 1919\\xa0– September 16, 1972) was a Lithuanian American first baseman in Major League Baseball who had an 11-year career (1941, 1946–1955).He played for the Chicago Cubs and Philadelphia Phillies in the National League and for the Baltimore Orioles of the American League.He was elected to the National League All-Star team twice (1948 and 1949).\\n\\n', 'Ruth Ann Steinhagen (December 23, 1929 – December 29, 2012) was an American woman who shot and nearly killed Eddie Waitkus, star first baseman of the Philadelphia Phillies, on June 14, 1949 in one of the first instances of what later became known as stalker crimes.The incident is one of the inspirations for the 1952 baseball book The Natural, made into a film in 1984.\\n\\nEarly life.', 'In the Battle of Bautzen (20–21 May 1813) a combined Russian–Prussian army, that was massively outnumbered, was pushed back by Napoleon I of France but escaped destruction, some sources claiming that Michel Ney failed to block their retreat.The Prussians under Count Gebhard von Blücher and Russians under Prince Peter Wittgenstein, retreating after their defeat at Lützen were attacked by French forces under Napoleon.\\n\\nPrelude.']\u001b[0m"
     ]
    },
    {
     "name": "stderr",
     "output_type": "stream",
     "text": [
      " 96%|█████████▌| 48/50 [18:07<00:50, 25.50s/it]"
     ]
    },
    {
     "name": "stdout",
     "output_type": "stream",
     "text": [
      "\u001b[32;1m\u001b[1;3mDo I need to use a tool? No\n",
      "Final Answer: No, he was not alive.\u001b[0m\n",
      "\n",
      "\u001b[1m> Finished chain.\u001b[0m\n",
      "\n",
      "\n",
      "\u001b[1m> Entering new AgentExecutor chain...\u001b[0m\n",
      "\u001b[32;1m\u001b[1;3mThought: Do I need to use a tool? Yes\n",
      "Action: get_top5_rerank\n",
      "Action Input: Which of the battles Sherman fought during a winter campaign had higher Union casualty rate?\u001b[0m\u001b[36;1m\u001b[1;3m['Sherman returned to serve under General Ulysses S. Grant in the winter of 1862 during the battles of forts Henry and Donelson.', \"In the Battle of Lützen (German: Schlacht von Großgörschen, 2 May 1813), Napoleon I of France halted the advances of the Sixth Coalition after the French invasion of Russia and the massive French losses in the campaign.The Russian commander, Prince Peter Wittgenstein, attempting to forestall Napoleon's capture of Leipzig, attacked the isolated French right wing near Lützen, Germany.After a day of heavy fighting, the combined Prussian and Russian force retreated; due to French losses and a shortage of Fren\", 'The Battle of Kulm was a battle near the town Kulm (Chlumec) and the village Přestanov in northern Bohemia.It was fought on 29–30 August 1813, during the War of the Sixth Coalition.32,000 French troops under Dominique Vandamme attacked an army of about 50-60,000 Austrians, Russians and Prussians under Alexander Ostermann-Tolstoy, but were defeated with heavy losses on both sides.\\n\\nBackground.', 'In the Battle of Bautzen (20–21 May 1813) a combined Russian–Prussian army, that was massively outnumbered, was pushed back by Napoleon I of France but escaped destruction, some sources claiming that Michel Ney failed to block their retreat.The Prussians under Count Gebhard von Blücher and Russians under Prince Peter Wittgenstein, retreating after their defeat at Lützen were attacked by French forces under Napoleon.\\n\\nPrelude.', \"He was fully fit for the club's season opening match against , where he contributed 14 disposals.The loss of All-Australian defender and teammate Alex Rance to an ACL injury in that match however, would force Vlastuin into a more defensive role\"]\u001b[0m"
     ]
    },
    {
     "name": "stderr",
     "output_type": "stream",
     "text": [
      " 98%|█████████▊| 49/50 [18:38<00:27, 27.09s/it]"
     ]
    },
    {
     "name": "stdout",
     "output_type": "stream",
     "text": [
      "\u001b[32;1m\u001b[1;3mDo I need to use a tool? No\n",
      "Final Answer: Fort Donelson had higher Union casualty rate.\u001b[0m\n",
      "\n",
      "\u001b[1m> Finished chain.\u001b[0m\n",
      "\n",
      "\n",
      "\u001b[1m> Entering new AgentExecutor chain...\u001b[0m\n",
      "\u001b[32;1m\u001b[1;3mThought: Do I need to use a tool? Yes\n",
      "Action: get_top5_rerank\n",
      "Action Input: Which country did some of the tribes escaped to after their deportation from northern Mexico?\u001b[0m\u001b[36;1m\u001b[1;3m['Those who escaped deportation were dispersed across northern Mexico and some even settled across the international border in southern Arizona', 'In the Battle of Bautzen (20–21 May 1813) a combined Russian–Prussian army, that was massively outnumbered, was pushed back by Napoleon I of France but escaped destruction, some sources claiming that Michel Ney failed to block their retreat.The Prussians under Count Gebhard von Blücher and Russians under Prince Peter Wittgenstein, retreating after their defeat at Lützen were attacked by French forces under Napoleon.\\n\\nPrelude.', \"In the Battle of Lützen (German: Schlacht von Großgörschen, 2 May 1813), Napoleon I of France halted the advances of the Sixth Coalition after the French invasion of Russia and the massive French losses in the campaign.The Russian commander, Prince Peter Wittgenstein, attempting to forestall Napoleon's capture of Leipzig, attacked the isolated French right wing near Lützen, Germany.After a day of heavy fighting, the combined Prussian and Russian force retreated; due to French losses and a shortage of Fren\", 'Eduard van Beinum (; 3 September 1901 – 13 April 1959, Amsterdam) was a Dutch conductor.\\n\\nBiography.Van Beinum was born in Arnhem, Netherlands, where he received his first violin and piano lessons at an early age.', 'In 1813-1814 he took part, as a volunteer in the Prussian army, in the national rising against Napoleon.He participated in the battles of Lützen, Bautzen, Hanau and Kulm.']\u001b[0m"
     ]
    },
    {
     "name": "stderr",
     "output_type": "stream",
     "text": [
      "100%|██████████| 50/50 [19:06<00:00, 22.93s/it]"
     ]
    },
    {
     "name": "stdout",
     "output_type": "stream",
     "text": [
      "\u001b[32;1m\u001b[1;3mDo I need to use a tool? No\n",
      "Final Answer: United States\u001b[0m\n",
      "\n",
      "\u001b[1m> Finished chain.\u001b[0m\n"
     ]
    },
    {
     "name": "stderr",
     "output_type": "stream",
     "text": [
      "\n"
     ]
    }
   ],
   "source": [
    "df = run_agent(get_top5_rerank)"
   ]
  },
  {
   "cell_type": "code",
   "execution_count": 33,
   "metadata": {},
   "outputs": [
    {
     "data": {
      "text/html": [
       "<div>\n",
       "<style scoped>\n",
       "    .dataframe tbody tr th:only-of-type {\n",
       "        vertical-align: middle;\n",
       "    }\n",
       "\n",
       "    .dataframe tbody tr th {\n",
       "        vertical-align: top;\n",
       "    }\n",
       "\n",
       "    .dataframe thead th {\n",
       "        text-align: right;\n",
       "    }\n",
       "</style>\n",
       "<table border=\"1\" class=\"dataframe\">\n",
       "  <thead>\n",
       "    <tr style=\"text-align: right;\">\n",
       "      <th></th>\n",
       "      <th>question</th>\n",
       "      <th>answer</th>\n",
       "      <th>LLM answer</th>\n",
       "      <th>F1</th>\n",
       "      <th>Exact Match</th>\n",
       "    </tr>\n",
       "  </thead>\n",
       "  <tbody>\n",
       "    <tr>\n",
       "      <th>0</th>\n",
       "      <td>What is Zeus know for in Greek mythology?</td>\n",
       "      <td>sky and thunder god</td>\n",
       "      <td>king of gods in greek mythology</td>\n",
       "      <td>0</td>\n",
       "      <td>0</td>\n",
       "    </tr>\n",
       "    <tr>\n",
       "      <th>1</th>\n",
       "      <td>How long had the First World War been over whe...</td>\n",
       "      <td>5</td>\n",
       "      <td>5 years</td>\n",
       "      <td>0.666667</td>\n",
       "      <td>0</td>\n",
       "    </tr>\n",
       "    <tr>\n",
       "      <th>2</th>\n",
       "      <td>How old was Messe when the First World War sta...</td>\n",
       "      <td>30</td>\n",
       "      <td>31</td>\n",
       "      <td>0</td>\n",
       "      <td>0</td>\n",
       "    </tr>\n",
       "    <tr>\n",
       "      <th>3</th>\n",
       "      <td>How long had Angela Scoular been acting profes...</td>\n",
       "      <td>2</td>\n",
       "      <td>14 years</td>\n",
       "      <td>0</td>\n",
       "      <td>0</td>\n",
       "    </tr>\n",
       "    <tr>\n",
       "      <th>4</th>\n",
       "      <td>What is the capacity of the stadium where Brun...</td>\n",
       "      <td>26688</td>\n",
       "      <td>mcg has 100024 capacity</td>\n",
       "      <td>0</td>\n",
       "      <td>0</td>\n",
       "    </tr>\n",
       "    <tr>\n",
       "      <th>5</th>\n",
       "      <td>Which stadium where Brunt played can hold more...</td>\n",
       "      <td>white hart lane</td>\n",
       "      <td>white hart lane</td>\n",
       "      <td>1.0</td>\n",
       "      <td>1</td>\n",
       "    </tr>\n",
       "    <tr>\n",
       "      <th>6</th>\n",
       "      <td>In which country was Wilhelm Müller born?</td>\n",
       "      <td>germany</td>\n",
       "      <td>germany</td>\n",
       "      <td>1.0</td>\n",
       "      <td>1</td>\n",
       "    </tr>\n",
       "    <tr>\n",
       "      <th>7</th>\n",
       "      <td>Which battle Wilhelm Müller fought in while in...</td>\n",
       "      <td>kulm</td>\n",
       "      <td>battle of kulm</td>\n",
       "      <td>0.5</td>\n",
       "      <td>0</td>\n",
       "    </tr>\n",
       "    <tr>\n",
       "      <th>8</th>\n",
       "      <td>How much time had passed between Wilhelm's ret...</td>\n",
       "      <td>9</td>\n",
       "      <td>9 years</td>\n",
       "      <td>0.666667</td>\n",
       "      <td>0</td>\n",
       "    </tr>\n",
       "    <tr>\n",
       "      <th>9</th>\n",
       "      <td>Which of Wilhelm's direct male descendants liv...</td>\n",
       "      <td>friedrich max müller</td>\n",
       "      <td>wilhelm max müller 1919</td>\n",
       "      <td>0.571429</td>\n",
       "      <td>0</td>\n",
       "    </tr>\n",
       "    <tr>\n",
       "      <th>10</th>\n",
       "      <td>In which Italian region did Pesce studied medi...</td>\n",
       "      <td>liguria</td>\n",
       "      <td>liguria</td>\n",
       "      <td>1.0</td>\n",
       "      <td>1</td>\n",
       "    </tr>\n",
       "    <tr>\n",
       "      <th>11</th>\n",
       "      <td>Which country hosted the 1948 Leprosy Congress?</td>\n",
       "      <td>cuba</td>\n",
       "      <td>cuba</td>\n",
       "      <td>1.0</td>\n",
       "      <td>1</td>\n",
       "    </tr>\n",
       "    <tr>\n",
       "      <th>12</th>\n",
       "      <td>When was the sports organization that the Turk...</td>\n",
       "      <td>1909</td>\n",
       "      <td>international cricket council founded in 1909</td>\n",
       "      <td>0.285714</td>\n",
       "      <td>0</td>\n",
       "    </tr>\n",
       "    <tr>\n",
       "      <th>13</th>\n",
       "      <td>What was the founding date of the championship...</td>\n",
       "      <td>2000</td>\n",
       "      <td>1909</td>\n",
       "      <td>0</td>\n",
       "      <td>0</td>\n",
       "    </tr>\n",
       "    <tr>\n",
       "      <th>14</th>\n",
       "      <td>How many years did the player who top-scored f...</td>\n",
       "      <td>1</td>\n",
       "      <td>1</td>\n",
       "      <td>1.0</td>\n",
       "      <td>1</td>\n",
       "    </tr>\n",
       "    <tr>\n",
       "      <th>15</th>\n",
       "      <td>How many teams play in the NHL?</td>\n",
       "      <td>31</td>\n",
       "      <td>31</td>\n",
       "      <td>1.0</td>\n",
       "      <td>1</td>\n",
       "    </tr>\n",
       "    <tr>\n",
       "      <th>16</th>\n",
       "      <td>Which hockey team won the World Cup in 1996?</td>\n",
       "      <td>usa</td>\n",
       "      <td>no hockey team won world cup in 1996</td>\n",
       "      <td>0</td>\n",
       "      <td>0</td>\n",
       "    </tr>\n",
       "    <tr>\n",
       "      <th>17</th>\n",
       "      <td>Who is the mayor of the city where the album w...</td>\n",
       "      <td>bill de blasio</td>\n",
       "      <td>bill de blasio</td>\n",
       "      <td>1.0</td>\n",
       "      <td>1</td>\n",
       "    </tr>\n",
       "    <tr>\n",
       "      <th>18</th>\n",
       "      <td>How long had Alex Rance been a professional pl...</td>\n",
       "      <td>11</td>\n",
       "      <td>11 years</td>\n",
       "      <td>0.666667</td>\n",
       "      <td>0</td>\n",
       "    </tr>\n",
       "    <tr>\n",
       "      <th>19</th>\n",
       "      <td>Which media that noticed the omission of accol...</td>\n",
       "      <td>herald sun</td>\n",
       "      <td>herald sun</td>\n",
       "      <td>1.0</td>\n",
       "      <td>1</td>\n",
       "    </tr>\n",
       "    <tr>\n",
       "      <th>20</th>\n",
       "      <td>In what country is the city located where the ...</td>\n",
       "      <td>iraq</td>\n",
       "      <td>iraq</td>\n",
       "      <td>1.0</td>\n",
       "      <td>1</td>\n",
       "    </tr>\n",
       "    <tr>\n",
       "      <th>21</th>\n",
       "      <td>How many years were there between Pompeii's de...</td>\n",
       "      <td>1897</td>\n",
       "      <td>1733</td>\n",
       "      <td>0</td>\n",
       "      <td>0</td>\n",
       "    </tr>\n",
       "    <tr>\n",
       "      <th>22</th>\n",
       "      <td>Which Central American country Payson D. Sheet...</td>\n",
       "      <td>costa rica</td>\n",
       "      <td>el salvador</td>\n",
       "      <td>0</td>\n",
       "      <td>0</td>\n",
       "    </tr>\n",
       "    <tr>\n",
       "      <th>23</th>\n",
       "      <td>Which university did Don Branby played college...</td>\n",
       "      <td>colorado buffaloes</td>\n",
       "      <td>university of colorado</td>\n",
       "      <td>0.4</td>\n",
       "      <td>0</td>\n",
       "    </tr>\n",
       "    <tr>\n",
       "      <th>24</th>\n",
       "      <td>Who were the other end position players on the...</td>\n",
       "      <td>frank mcphee princeton bernie flowers purdue e...</td>\n",
       "      <td>frank mcphee bernie flowers</td>\n",
       "      <td>0.205128</td>\n",
       "      <td>0</td>\n",
       "    </tr>\n",
       "    <tr>\n",
       "      <th>25</th>\n",
       "      <td>How long had the Associated Press been in oper...</td>\n",
       "      <td>106</td>\n",
       "      <td>106 years</td>\n",
       "      <td>0.666667</td>\n",
       "      <td>0</td>\n",
       "    </tr>\n",
       "    <tr>\n",
       "      <th>26</th>\n",
       "      <td>How long had the Perthshire Regiment been a go...</td>\n",
       "      <td>69</td>\n",
       "      <td>1780</td>\n",
       "      <td>0</td>\n",
       "      <td>0</td>\n",
       "    </tr>\n",
       "    <tr>\n",
       "      <th>27</th>\n",
       "      <td>When was the company for which Tookey called a...</td>\n",
       "      <td>7 may 1946</td>\n",
       "      <td>sony founded in 1946</td>\n",
       "      <td>0.285714</td>\n",
       "      <td>0</td>\n",
       "    </tr>\n",
       "    <tr>\n",
       "      <th>28</th>\n",
       "      <td>Of the films Tookey claimed to have defended a...</td>\n",
       "      <td>pulp fiction</td>\n",
       "      <td>life of brian 19398164</td>\n",
       "      <td>0</td>\n",
       "      <td>0</td>\n",
       "    </tr>\n",
       "    <tr>\n",
       "      <th>29</th>\n",
       "      <td>Who is the current director of the board which...</td>\n",
       "      <td>david austin</td>\n",
       "      <td>none mentioned in text</td>\n",
       "      <td>0</td>\n",
       "      <td>0</td>\n",
       "    </tr>\n",
       "    <tr>\n",
       "      <th>30</th>\n",
       "      <td>Which team won the first game in the 2004 Nati...</td>\n",
       "      <td>cardinals</td>\n",
       "      <td>st louis cardinals</td>\n",
       "      <td>0.5</td>\n",
       "      <td>0</td>\n",
       "    </tr>\n",
       "    <tr>\n",
       "      <th>31</th>\n",
       "      <td>How old was the Grand Olympic Auditorium at th...</td>\n",
       "      <td>60</td>\n",
       "      <td>60 years old</td>\n",
       "      <td>0.5</td>\n",
       "      <td>0</td>\n",
       "    </tr>\n",
       "    <tr>\n",
       "      <th>32</th>\n",
       "      <td>Who owned the Rochester Rhinos when Glenn left...</td>\n",
       "      <td>rochester new york</td>\n",
       "      <td>steve holroyd owned team</td>\n",
       "      <td>0</td>\n",
       "      <td>0</td>\n",
       "    </tr>\n",
       "    <tr>\n",
       "      <th>33</th>\n",
       "      <td>Who owned the last team Glenn ever played for ...</td>\n",
       "      <td>sam chase</td>\n",
       "      <td>atlanta silverbacks</td>\n",
       "      <td>0</td>\n",
       "      <td>0</td>\n",
       "    </tr>\n",
       "    <tr>\n",
       "      <th>34</th>\n",
       "      <td>What state did Glenn finish his career in?</td>\n",
       "      <td>georgia</td>\n",
       "      <td>georgia</td>\n",
       "      <td>1.0</td>\n",
       "      <td>1</td>\n",
       "    </tr>\n",
       "    <tr>\n",
       "      <th>35</th>\n",
       "      <td>How many championship appearances has the team...</td>\n",
       "      <td>5</td>\n",
       "      <td>saskatoon blades had 2 championships</td>\n",
       "      <td>0</td>\n",
       "      <td>0</td>\n",
       "    </tr>\n",
       "    <tr>\n",
       "      <th>36</th>\n",
       "      <td>In what year was the team founded who Ashton p...</td>\n",
       "      <td>1964</td>\n",
       "      <td>1966</td>\n",
       "      <td>0</td>\n",
       "      <td>0</td>\n",
       "    </tr>\n",
       "    <tr>\n",
       "      <th>37</th>\n",
       "      <td>Who is the oldest teammate of Ashton's when he...</td>\n",
       "      <td>george pesut</td>\n",
       "      <td>bob bourne</td>\n",
       "      <td>0</td>\n",
       "      <td>0</td>\n",
       "    </tr>\n",
       "    <tr>\n",
       "      <th>38</th>\n",
       "      <td>Had the Chicago White Sox been around longer t...</td>\n",
       "      <td>yes</td>\n",
       "      <td>white sox older than barons</td>\n",
       "      <td>0</td>\n",
       "      <td>0</td>\n",
       "    </tr>\n",
       "    <tr>\n",
       "      <th>39</th>\n",
       "      <td>Did the Bulls owner also own the Chicago White...</td>\n",
       "      <td>yes</td>\n",
       "      <td>yes jerry reinsdorf owns both</td>\n",
       "      <td>0.333333</td>\n",
       "      <td>0</td>\n",
       "    </tr>\n",
       "    <tr>\n",
       "      <th>40</th>\n",
       "      <td>What stadium do the Chicago White Sox play in?</td>\n",
       "      <td>guaranteed rate field</td>\n",
       "      <td>guaranteed rate field</td>\n",
       "      <td>1.0</td>\n",
       "      <td>1</td>\n",
       "    </tr>\n",
       "    <tr>\n",
       "      <th>41</th>\n",
       "      <td>How old was the person who shot Waitkus the ye...</td>\n",
       "      <td>20</td>\n",
       "      <td>19</td>\n",
       "      <td>0</td>\n",
       "      <td>0</td>\n",
       "    </tr>\n",
       "    <tr>\n",
       "      <th>42</th>\n",
       "      <td>How long had Eddie Waitkus been playing profes...</td>\n",
       "      <td>10</td>\n",
       "      <td>11 years</td>\n",
       "      <td>0</td>\n",
       "      <td>0</td>\n",
       "    </tr>\n",
       "    <tr>\n",
       "      <th>43</th>\n",
       "      <td>In what race was Sohn Kee-chung the gold medal...</td>\n",
       "      <td>marathon</td>\n",
       "      <td>marathon</td>\n",
       "      <td>1.0</td>\n",
       "      <td>1</td>\n",
       "    </tr>\n",
       "    <tr>\n",
       "      <th>44</th>\n",
       "      <td>How much behind did the was the bronze medalis...</td>\n",
       "      <td>1428</td>\n",
       "      <td>3 min 42 sec</td>\n",
       "      <td>0</td>\n",
       "      <td>0</td>\n",
       "    </tr>\n",
       "    <tr>\n",
       "      <th>45</th>\n",
       "      <td>In what year was Japan defeated in World War II?</td>\n",
       "      <td>1945</td>\n",
       "      <td>1945</td>\n",
       "      <td>1.0</td>\n",
       "      <td>1</td>\n",
       "    </tr>\n",
       "    <tr>\n",
       "      <th>46</th>\n",
       "      <td>What year did Suh Yun-bok win the Boston Marat...</td>\n",
       "      <td>1947</td>\n",
       "      <td>1947</td>\n",
       "      <td>1.0</td>\n",
       "      <td>1</td>\n",
       "    </tr>\n",
       "    <tr>\n",
       "      <th>47</th>\n",
       "      <td>Was Eduard van Beinum still alive whnen Gilmor...</td>\n",
       "      <td>no</td>\n",
       "      <td>no he was not alive</td>\n",
       "      <td>0.333333</td>\n",
       "      <td>0</td>\n",
       "    </tr>\n",
       "    <tr>\n",
       "      <th>48</th>\n",
       "      <td>Which of the battles Sherman fought during a w...</td>\n",
       "      <td>donelson</td>\n",
       "      <td>fort donelson had higher union casualty rate</td>\n",
       "      <td>0.25</td>\n",
       "      <td>0</td>\n",
       "    </tr>\n",
       "    <tr>\n",
       "      <th>49</th>\n",
       "      <td>Which country did some of the tribes escaped t...</td>\n",
       "      <td>united states</td>\n",
       "      <td>united states</td>\n",
       "      <td>1.0</td>\n",
       "      <td>1</td>\n",
       "    </tr>\n",
       "  </tbody>\n",
       "</table>\n",
       "</div>"
      ],
      "text/plain": [
       "                                             question  \\\n",
       "0           What is Zeus know for in Greek mythology?   \n",
       "1   How long had the First World War been over whe...   \n",
       "2   How old was Messe when the First World War sta...   \n",
       "3   How long had Angela Scoular been acting profes...   \n",
       "4   What is the capacity of the stadium where Brun...   \n",
       "5   Which stadium where Brunt played can hold more...   \n",
       "6           In which country was Wilhelm Müller born?   \n",
       "7   Which battle Wilhelm Müller fought in while in...   \n",
       "8   How much time had passed between Wilhelm's ret...   \n",
       "9   Which of Wilhelm's direct male descendants liv...   \n",
       "10  In which Italian region did Pesce studied medi...   \n",
       "11    Which country hosted the 1948 Leprosy Congress?   \n",
       "12  When was the sports organization that the Turk...   \n",
       "13  What was the founding date of the championship...   \n",
       "14  How many years did the player who top-scored f...   \n",
       "15                    How many teams play in the NHL?   \n",
       "16       Which hockey team won the World Cup in 1996?   \n",
       "17  Who is the mayor of the city where the album w...   \n",
       "18  How long had Alex Rance been a professional pl...   \n",
       "19  Which media that noticed the omission of accol...   \n",
       "20  In what country is the city located where the ...   \n",
       "21  How many years were there between Pompeii's de...   \n",
       "22  Which Central American country Payson D. Sheet...   \n",
       "23  Which university did Don Branby played college...   \n",
       "24  Who were the other end position players on the...   \n",
       "25  How long had the Associated Press been in oper...   \n",
       "26  How long had the Perthshire Regiment been a go...   \n",
       "27  When was the company for which Tookey called a...   \n",
       "28  Of the films Tookey claimed to have defended a...   \n",
       "29  Who is the current director of the board which...   \n",
       "30  Which team won the first game in the 2004 Nati...   \n",
       "31  How old was the Grand Olympic Auditorium at th...   \n",
       "32  Who owned the Rochester Rhinos when Glenn left...   \n",
       "33  Who owned the last team Glenn ever played for ...   \n",
       "34         What state did Glenn finish his career in?   \n",
       "35  How many championship appearances has the team...   \n",
       "36  In what year was the team founded who Ashton p...   \n",
       "37  Who is the oldest teammate of Ashton's when he...   \n",
       "38  Had the Chicago White Sox been around longer t...   \n",
       "39  Did the Bulls owner also own the Chicago White...   \n",
       "40     What stadium do the Chicago White Sox play in?   \n",
       "41  How old was the person who shot Waitkus the ye...   \n",
       "42  How long had Eddie Waitkus been playing profes...   \n",
       "43  In what race was Sohn Kee-chung the gold medal...   \n",
       "44  How much behind did the was the bronze medalis...   \n",
       "45   In what year was Japan defeated in World War II?   \n",
       "46  What year did Suh Yun-bok win the Boston Marat...   \n",
       "47  Was Eduard van Beinum still alive whnen Gilmor...   \n",
       "48  Which of the battles Sherman fought during a w...   \n",
       "49  Which country did some of the tribes escaped t...   \n",
       "\n",
       "                                               answer  \\\n",
       "0                                 sky and thunder god   \n",
       "1                                                   5   \n",
       "2                                                  30   \n",
       "3                                                   2   \n",
       "4                                               26688   \n",
       "5                                     white hart lane   \n",
       "6                                             germany   \n",
       "7                                                kulm   \n",
       "8                                                   9   \n",
       "9                                friedrich max müller   \n",
       "10                                            liguria   \n",
       "11                                               cuba   \n",
       "12                                               1909   \n",
       "13                                               2000   \n",
       "14                                                  1   \n",
       "15                                                 31   \n",
       "16                                                usa   \n",
       "17                                     bill de blasio   \n",
       "18                                                 11   \n",
       "19                                         herald sun   \n",
       "20                                               iraq   \n",
       "21                                               1897   \n",
       "22                                         costa rica   \n",
       "23                                 colorado buffaloes   \n",
       "24  frank mcphee princeton bernie flowers purdue e...   \n",
       "25                                                106   \n",
       "26                                                 69   \n",
       "27                                         7 may 1946   \n",
       "28                                       pulp fiction   \n",
       "29                                       david austin   \n",
       "30                                          cardinals   \n",
       "31                                                 60   \n",
       "32                                 rochester new york   \n",
       "33                                          sam chase   \n",
       "34                                            georgia   \n",
       "35                                                  5   \n",
       "36                                               1964   \n",
       "37                                       george pesut   \n",
       "38                                                yes   \n",
       "39                                                yes   \n",
       "40                              guaranteed rate field   \n",
       "41                                                 20   \n",
       "42                                                 10   \n",
       "43                                           marathon   \n",
       "44                                               1428   \n",
       "45                                               1945   \n",
       "46                                               1947   \n",
       "47                                                 no   \n",
       "48                                           donelson   \n",
       "49                                      united states   \n",
       "\n",
       "                                       LLM answer        F1 Exact Match  \n",
       "0                 king of gods in greek mythology         0           0  \n",
       "1                                         5 years  0.666667           0  \n",
       "2                                              31         0           0  \n",
       "3                                        14 years         0           0  \n",
       "4                         mcg has 100024 capacity         0           0  \n",
       "5                                 white hart lane       1.0           1  \n",
       "6                                         germany       1.0           1  \n",
       "7                                  battle of kulm       0.5           0  \n",
       "8                                         9 years  0.666667           0  \n",
       "9                         wilhelm max müller 1919  0.571429           0  \n",
       "10                                        liguria       1.0           1  \n",
       "11                                           cuba       1.0           1  \n",
       "12  international cricket council founded in 1909  0.285714           0  \n",
       "13                                           1909         0           0  \n",
       "14                                              1       1.0           1  \n",
       "15                                             31       1.0           1  \n",
       "16           no hockey team won world cup in 1996         0           0  \n",
       "17                                 bill de blasio       1.0           1  \n",
       "18                                       11 years  0.666667           0  \n",
       "19                                     herald sun       1.0           1  \n",
       "20                                           iraq       1.0           1  \n",
       "21                                           1733         0           0  \n",
       "22                                    el salvador         0           0  \n",
       "23                         university of colorado       0.4           0  \n",
       "24                    frank mcphee bernie flowers  0.205128           0  \n",
       "25                                      106 years  0.666667           0  \n",
       "26                                           1780         0           0  \n",
       "27                           sony founded in 1946  0.285714           0  \n",
       "28                         life of brian 19398164         0           0  \n",
       "29                         none mentioned in text         0           0  \n",
       "30                             st louis cardinals       0.5           0  \n",
       "31                                   60 years old       0.5           0  \n",
       "32                       steve holroyd owned team         0           0  \n",
       "33                            atlanta silverbacks         0           0  \n",
       "34                                        georgia       1.0           1  \n",
       "35           saskatoon blades had 2 championships         0           0  \n",
       "36                                           1966         0           0  \n",
       "37                                     bob bourne         0           0  \n",
       "38                    white sox older than barons         0           0  \n",
       "39                  yes jerry reinsdorf owns both  0.333333           0  \n",
       "40                          guaranteed rate field       1.0           1  \n",
       "41                                             19         0           0  \n",
       "42                                       11 years         0           0  \n",
       "43                                       marathon       1.0           1  \n",
       "44                                   3 min 42 sec         0           0  \n",
       "45                                           1945       1.0           1  \n",
       "46                                           1947       1.0           1  \n",
       "47                            no he was not alive  0.333333           0  \n",
       "48   fort donelson had higher union casualty rate      0.25           0  \n",
       "49                                  united states       1.0           1  "
      ]
     },
     "metadata": {},
     "output_type": "display_data"
    },
    {
     "name": "stdout",
     "output_type": "stream",
     "text": [
      "\n",
      "Metrics:\n",
      "F1 score: Avg: 0.44. Std: 0.43\n",
      "Exact Match score: Avg: 0.30. Std: 0.46\n"
     ]
    }
   ],
   "source": [
    "print_results(df, \"results/react_top5_rerank.csv\")"
   ]
  },
  {
   "cell_type": "code",
   "execution_count": 34,
   "metadata": {},
   "outputs": [],
   "source": [
    "# Add contexts for RAGAS\n",
    "df['contexts'] = contexts"
   ]
  },
  {
   "cell_type": "code",
   "execution_count": 35,
   "metadata": {},
   "outputs": [
    {
     "data": {
      "text/html": [
       "<div>\n",
       "<style scoped>\n",
       "    .dataframe tbody tr th:only-of-type {\n",
       "        vertical-align: middle;\n",
       "    }\n",
       "\n",
       "    .dataframe tbody tr th {\n",
       "        vertical-align: top;\n",
       "    }\n",
       "\n",
       "    .dataframe thead th {\n",
       "        text-align: right;\n",
       "    }\n",
       "</style>\n",
       "<table border=\"1\" class=\"dataframe\">\n",
       "  <thead>\n",
       "    <tr style=\"text-align: right;\">\n",
       "      <th></th>\n",
       "      <th>question</th>\n",
       "      <th>answer</th>\n",
       "      <th>LLM answer</th>\n",
       "      <th>F1</th>\n",
       "      <th>Exact Match</th>\n",
       "      <th>contexts</th>\n",
       "    </tr>\n",
       "  </thead>\n",
       "  <tbody>\n",
       "    <tr>\n",
       "      <th>0</th>\n",
       "      <td>What is Zeus know for in Greek mythology?</td>\n",
       "      <td>sky and thunder god</td>\n",
       "      <td>king of gods in greek mythology</td>\n",
       "      <td>0</td>\n",
       "      <td>0</td>\n",
       "      <td>[Zeus (British English , North American Englis...</td>\n",
       "    </tr>\n",
       "    <tr>\n",
       "      <th>1</th>\n",
       "      <td>How long had the First World War been over whe...</td>\n",
       "      <td>5</td>\n",
       "      <td>5 years</td>\n",
       "      <td>0.666667</td>\n",
       "      <td>0</td>\n",
       "      <td>[he became aide-de-camp to King Victor Emmanue...</td>\n",
       "    </tr>\n",
       "    <tr>\n",
       "      <th>2</th>\n",
       "      <td>How old was Messe when the First World War sta...</td>\n",
       "      <td>30</td>\n",
       "      <td>31</td>\n",
       "      <td>0</td>\n",
       "      <td>0</td>\n",
       "      <td>[World War I (often abbreviated as WWI or WW1)...</td>\n",
       "    </tr>\n",
       "    <tr>\n",
       "      <th>3</th>\n",
       "      <td>How long had Angela Scoular been acting profes...</td>\n",
       "      <td>2</td>\n",
       "      <td>14 years</td>\n",
       "      <td>0</td>\n",
       "      <td>0</td>\n",
       "      <td>[Angela Scoular appeared as Ruby Bartlett in O...</td>\n",
       "    </tr>\n",
       "    <tr>\n",
       "      <th>4</th>\n",
       "      <td>What is the capacity of the stadium where Brun...</td>\n",
       "      <td>26688</td>\n",
       "      <td>mcg has 100024 capacity</td>\n",
       "      <td>0</td>\n",
       "      <td>0</td>\n",
       "      <td>[Brunt returned to first-team action after eig...</td>\n",
       "    </tr>\n",
       "    <tr>\n",
       "      <th>5</th>\n",
       "      <td>Which stadium where Brunt played can hold more...</td>\n",
       "      <td>white hart lane</td>\n",
       "      <td>white hart lane</td>\n",
       "      <td>1.0</td>\n",
       "      <td>1</td>\n",
       "      <td>[White Hart Lane was a football stadium in Tot...</td>\n",
       "    </tr>\n",
       "    <tr>\n",
       "      <th>6</th>\n",
       "      <td>In which country was Wilhelm Müller born?</td>\n",
       "      <td>germany</td>\n",
       "      <td>germany</td>\n",
       "      <td>1.0</td>\n",
       "      <td>1</td>\n",
       "      <td>[Wilhelm Max Müller (15 May 1862 – July 1919) ...</td>\n",
       "    </tr>\n",
       "    <tr>\n",
       "      <th>7</th>\n",
       "      <td>Which battle Wilhelm Müller fought in while in...</td>\n",
       "      <td>kulm</td>\n",
       "      <td>battle of kulm</td>\n",
       "      <td>0.5</td>\n",
       "      <td>0</td>\n",
       "      <td>[In the Battle of Bautzen (20–21 May 1813) a c...</td>\n",
       "    </tr>\n",
       "    <tr>\n",
       "      <th>8</th>\n",
       "      <td>How much time had passed between Wilhelm's ret...</td>\n",
       "      <td>9</td>\n",
       "      <td>9 years</td>\n",
       "      <td>0.666667</td>\n",
       "      <td>0</td>\n",
       "      <td>[In 1814 he returned to his studies at Berlin....</td>\n",
       "    </tr>\n",
       "    <tr>\n",
       "      <th>9</th>\n",
       "      <td>Which of Wilhelm's direct male descendants liv...</td>\n",
       "      <td>friedrich max müller</td>\n",
       "      <td>wilhelm max müller 1919</td>\n",
       "      <td>0.571429</td>\n",
       "      <td>0</td>\n",
       "      <td>[his grandson Wilhelm Max Müller, Wilhelm Max ...</td>\n",
       "    </tr>\n",
       "    <tr>\n",
       "      <th>10</th>\n",
       "      <td>In which Italian region did Pesce studied medi...</td>\n",
       "      <td>liguria</td>\n",
       "      <td>liguria</td>\n",
       "      <td>1.0</td>\n",
       "      <td>1</td>\n",
       "      <td>[and studied medicine at the University of Gen...</td>\n",
       "    </tr>\n",
       "    <tr>\n",
       "      <th>11</th>\n",
       "      <td>Which country hosted the 1948 Leprosy Congress?</td>\n",
       "      <td>cuba</td>\n",
       "      <td>cuba</td>\n",
       "      <td>1.0</td>\n",
       "      <td>1</td>\n",
       "      <td>[The 1948 World Leprosy Congress in Havana end...</td>\n",
       "    </tr>\n",
       "    <tr>\n",
       "      <th>12</th>\n",
       "      <td>When was the sports organization that the Turk...</td>\n",
       "      <td>1909</td>\n",
       "      <td>international cricket council founded in 1909</td>\n",
       "      <td>0.285714</td>\n",
       "      <td>0</td>\n",
       "      <td>[Cricket is the national sport of the Turks an...</td>\n",
       "    </tr>\n",
       "    <tr>\n",
       "      <th>13</th>\n",
       "      <td>What was the founding date of the championship...</td>\n",
       "      <td>2000</td>\n",
       "      <td>1909</td>\n",
       "      <td>0</td>\n",
       "      <td>0</td>\n",
       "      <td>[Cricket is the national sport of the Turks an...</td>\n",
       "    </tr>\n",
       "    <tr>\n",
       "      <th>14</th>\n",
       "      <td>How many years did the player who top-scored f...</td>\n",
       "      <td>1</td>\n",
       "      <td>1</td>\n",
       "      <td>1.0</td>\n",
       "      <td>1</td>\n",
       "      <td>[Matthews played a single Twenty20 match for t...</td>\n",
       "    </tr>\n",
       "    <tr>\n",
       "      <th>15</th>\n",
       "      <td>How many teams play in the NHL?</td>\n",
       "      <td>31</td>\n",
       "      <td>31</td>\n",
       "      <td>1.0</td>\n",
       "      <td>1</td>\n",
       "      <td>[The National Hockey League (NHL; ) is a profe...</td>\n",
       "    </tr>\n",
       "    <tr>\n",
       "      <th>16</th>\n",
       "      <td>Which hockey team won the World Cup in 1996?</td>\n",
       "      <td>usa</td>\n",
       "      <td>no hockey team won world cup in 1996</td>\n",
       "      <td>0</td>\n",
       "      <td>0</td>\n",
       "      <td>[The first World Cup of Hockey (WCH), or 1996 ...</td>\n",
       "    </tr>\n",
       "    <tr>\n",
       "      <th>17</th>\n",
       "      <td>Who is the mayor of the city where the album w...</td>\n",
       "      <td>bill de blasio</td>\n",
       "      <td>bill de blasio</td>\n",
       "      <td>1.0</td>\n",
       "      <td>1</td>\n",
       "      <td>[It was produced by Mike Elizondo and mixed in...</td>\n",
       "    </tr>\n",
       "    <tr>\n",
       "      <th>18</th>\n",
       "      <td>How long had Alex Rance been a professional pl...</td>\n",
       "      <td>11</td>\n",
       "      <td>11 years</td>\n",
       "      <td>0.666667</td>\n",
       "      <td>0</td>\n",
       "      <td>[his 200th AFL match in the season opening mat...</td>\n",
       "    </tr>\n",
       "    <tr>\n",
       "      <th>19</th>\n",
       "      <td>Which media that noticed the omission of accol...</td>\n",
       "      <td>herald sun</td>\n",
       "      <td>herald sun</td>\n",
       "      <td>1.0</td>\n",
       "      <td>1</td>\n",
       "      <td>[Vlastuin started the 2019 season with appeara...</td>\n",
       "    </tr>\n",
       "    <tr>\n",
       "      <th>20</th>\n",
       "      <td>In what country is the city located where the ...</td>\n",
       "      <td>iraq</td>\n",
       "      <td>iraq</td>\n",
       "      <td>1.0</td>\n",
       "      <td>1</td>\n",
       "      <td>[Baghdad Jewish Arabic (, ) or autonym haki ma...</td>\n",
       "    </tr>\n",
       "    <tr>\n",
       "      <th>21</th>\n",
       "      <td>How many years were there between Pompeii's de...</td>\n",
       "      <td>1897</td>\n",
       "      <td>1733</td>\n",
       "      <td>0</td>\n",
       "      <td>0</td>\n",
       "      <td>[His largest known body of research comes from...</td>\n",
       "    </tr>\n",
       "    <tr>\n",
       "      <th>22</th>\n",
       "      <td>Which Central American country Payson D. Sheet...</td>\n",
       "      <td>costa rica</td>\n",
       "      <td>el salvador</td>\n",
       "      <td>0</td>\n",
       "      <td>0</td>\n",
       "      <td>[His largest known body of research comes from...</td>\n",
       "    </tr>\n",
       "    <tr>\n",
       "      <th>23</th>\n",
       "      <td>Which university did Don Branby played college...</td>\n",
       "      <td>colorado buffaloes</td>\n",
       "      <td>university of colorado</td>\n",
       "      <td>0.4</td>\n",
       "      <td>0</td>\n",
       "      <td>[Branby played college football at the end pos...</td>\n",
       "    </tr>\n",
       "    <tr>\n",
       "      <th>24</th>\n",
       "      <td>Who were the other end position players on the...</td>\n",
       "      <td>frank mcphee princeton bernie flowers purdue e...</td>\n",
       "      <td>frank mcphee bernie flowers</td>\n",
       "      <td>0.205128</td>\n",
       "      <td>0</td>\n",
       "      <td>[Branby played college football at the end pos...</td>\n",
       "    </tr>\n",
       "    <tr>\n",
       "      <th>25</th>\n",
       "      <td>How long had the Associated Press been in oper...</td>\n",
       "      <td>106</td>\n",
       "      <td>106 years</td>\n",
       "      <td>0.666667</td>\n",
       "      <td>0</td>\n",
       "      <td>[he was selected by the Associated Press as a ...</td>\n",
       "    </tr>\n",
       "    <tr>\n",
       "      <th>26</th>\n",
       "      <td>How long had the Perthshire Regiment been a go...</td>\n",
       "      <td>69</td>\n",
       "      <td>1780</td>\n",
       "      <td>0</td>\n",
       "      <td>0</td>\n",
       "      <td>[He first arrived in the Cape of Good Hope in ...</td>\n",
       "    </tr>\n",
       "    <tr>\n",
       "      <th>27</th>\n",
       "      <td>When was the company for which Tookey called a...</td>\n",
       "      <td>7 may 1946</td>\n",
       "      <td>sony founded in 1946</td>\n",
       "      <td>0.285714</td>\n",
       "      <td>0</td>\n",
       "      <td>[Tookey called for readers to boycott the prod...</td>\n",
       "    </tr>\n",
       "    <tr>\n",
       "      <th>28</th>\n",
       "      <td>Of the films Tookey claimed to have defended a...</td>\n",
       "      <td>pulp fiction</td>\n",
       "      <td>life of brian 19398164</td>\n",
       "      <td>0</td>\n",
       "      <td>0</td>\n",
       "      <td>[Tookey denied charges that he was in favour o...</td>\n",
       "    </tr>\n",
       "    <tr>\n",
       "      <th>29</th>\n",
       "      <td>Who is the current director of the board which...</td>\n",
       "      <td>david austin</td>\n",
       "      <td>none mentioned in text</td>\n",
       "      <td>0</td>\n",
       "      <td>0</td>\n",
       "      <td>[Tookey called for readers to boycott the prod...</td>\n",
       "    </tr>\n",
       "    <tr>\n",
       "      <th>30</th>\n",
       "      <td>Which team won the first game in the 2004 Nati...</td>\n",
       "      <td>cardinals</td>\n",
       "      <td>st louis cardinals</td>\n",
       "      <td>0.5</td>\n",
       "      <td>0</td>\n",
       "      <td>[The 2004 National League Division Series (NLD...</td>\n",
       "    </tr>\n",
       "    <tr>\n",
       "      <th>31</th>\n",
       "      <td>How old was the Grand Olympic Auditorium at th...</td>\n",
       "      <td>60</td>\n",
       "      <td>60 years old</td>\n",
       "      <td>0.5</td>\n",
       "      <td>0</td>\n",
       "      <td>[That landmark concert was held at the Grand O...</td>\n",
       "    </tr>\n",
       "    <tr>\n",
       "      <th>32</th>\n",
       "      <td>Who owned the Rochester Rhinos when Glenn left...</td>\n",
       "      <td>rochester new york</td>\n",
       "      <td>steve holroyd owned team</td>\n",
       "      <td>0</td>\n",
       "      <td>0</td>\n",
       "      <td>[Glenn had intended to continue playing for th...</td>\n",
       "    </tr>\n",
       "    <tr>\n",
       "      <th>33</th>\n",
       "      <td>Who owned the last team Glenn ever played for ...</td>\n",
       "      <td>sam chase</td>\n",
       "      <td>atlanta silverbacks</td>\n",
       "      <td>0</td>\n",
       "      <td>0</td>\n",
       "      <td>[Glenn had intended to continue playing for th...</td>\n",
       "    </tr>\n",
       "    <tr>\n",
       "      <th>34</th>\n",
       "      <td>What state did Glenn finish his career in?</td>\n",
       "      <td>georgia</td>\n",
       "      <td>georgia</td>\n",
       "      <td>1.0</td>\n",
       "      <td>1</td>\n",
       "      <td>[Glenn had intended to continue playing for th...</td>\n",
       "    </tr>\n",
       "    <tr>\n",
       "      <th>35</th>\n",
       "      <td>How many championship appearances has the team...</td>\n",
       "      <td>5</td>\n",
       "      <td>saskatoon blades had 2 championships</td>\n",
       "      <td>0</td>\n",
       "      <td>0</td>\n",
       "      <td>[Ashton played junior hockey for his hometown ...</td>\n",
       "    </tr>\n",
       "    <tr>\n",
       "      <th>36</th>\n",
       "      <td>In what year was the team founded who Ashton p...</td>\n",
       "      <td>1964</td>\n",
       "      <td>1966</td>\n",
       "      <td>0</td>\n",
       "      <td>0</td>\n",
       "      <td>[Ashton played junior hockey for his hometown ...</td>\n",
       "    </tr>\n",
       "    <tr>\n",
       "      <th>37</th>\n",
       "      <td>Who is the oldest teammate of Ashton's when he...</td>\n",
       "      <td>george pesut</td>\n",
       "      <td>bob bourne</td>\n",
       "      <td>0</td>\n",
       "      <td>0</td>\n",
       "      <td>[Ashton played junior hockey for his hometown ...</td>\n",
       "    </tr>\n",
       "    <tr>\n",
       "      <th>38</th>\n",
       "      <td>Had the Chicago White Sox been around longer t...</td>\n",
       "      <td>yes</td>\n",
       "      <td>white sox older than barons</td>\n",
       "      <td>0</td>\n",
       "      <td>0</td>\n",
       "      <td>[Jordan then further surprised the sports worl...</td>\n",
       "    </tr>\n",
       "    <tr>\n",
       "      <th>39</th>\n",
       "      <td>Did the Bulls owner also own the Chicago White...</td>\n",
       "      <td>yes</td>\n",
       "      <td>yes jerry reinsdorf owns both</td>\n",
       "      <td>0.333333</td>\n",
       "      <td>0</td>\n",
       "      <td>[Jerry M. Reinsdorf (born February 25, 1936) i...</td>\n",
       "    </tr>\n",
       "    <tr>\n",
       "      <th>40</th>\n",
       "      <td>What stadium do the Chicago White Sox play in?</td>\n",
       "      <td>guaranteed rate field</td>\n",
       "      <td>guaranteed rate field</td>\n",
       "      <td>1.0</td>\n",
       "      <td>1</td>\n",
       "      <td>[The Chicago White Sox are an American profess...</td>\n",
       "    </tr>\n",
       "    <tr>\n",
       "      <th>41</th>\n",
       "      <td>How old was the person who shot Waitkus the ye...</td>\n",
       "      <td>20</td>\n",
       "      <td>19</td>\n",
       "      <td>0</td>\n",
       "      <td>0</td>\n",
       "      <td>[Ruth Ann Steinhagen (December 23, 1929 – Dece...</td>\n",
       "    </tr>\n",
       "    <tr>\n",
       "      <th>42</th>\n",
       "      <td>How long had Eddie Waitkus been playing profes...</td>\n",
       "      <td>10</td>\n",
       "      <td>11 years</td>\n",
       "      <td>0</td>\n",
       "      <td>0</td>\n",
       "      <td>[Edward Stephen Waitkus (September 4, 1919 – S...</td>\n",
       "    </tr>\n",
       "    <tr>\n",
       "      <th>43</th>\n",
       "      <td>In what race was Sohn Kee-chung the gold medal...</td>\n",
       "      <td>marathon</td>\n",
       "      <td>marathon</td>\n",
       "      <td>1.0</td>\n",
       "      <td>1</td>\n",
       "      <td>[Sohn Kee-chung (; ; August 29, 1912 – Novembe...</td>\n",
       "    </tr>\n",
       "    <tr>\n",
       "      <th>44</th>\n",
       "      <td>How much behind did the was the bronze medalis...</td>\n",
       "      <td>1428</td>\n",
       "      <td>3 min 42 sec</td>\n",
       "      <td>0</td>\n",
       "      <td>0</td>\n",
       "      <td>[The 1936 Summer Olympics saw two Koreans win ...</td>\n",
       "    </tr>\n",
       "    <tr>\n",
       "      <th>45</th>\n",
       "      <td>In what year was Japan defeated in World War II?</td>\n",
       "      <td>1945</td>\n",
       "      <td>1945</td>\n",
       "      <td>1.0</td>\n",
       "      <td>1</td>\n",
       "      <td>[ On 15 August 1945, Japan surrendered, with t...</td>\n",
       "    </tr>\n",
       "    <tr>\n",
       "      <th>46</th>\n",
       "      <td>What year did Suh Yun-bok win the Boston Marat...</td>\n",
       "      <td>1947</td>\n",
       "      <td>1947</td>\n",
       "      <td>1.0</td>\n",
       "      <td>1</td>\n",
       "      <td>[Suh Yun-bok (9 January 1923 – 27 June 2017) w...</td>\n",
       "    </tr>\n",
       "    <tr>\n",
       "      <th>47</th>\n",
       "      <td>Was Eduard van Beinum still alive whnen Gilmor...</td>\n",
       "      <td>no</td>\n",
       "      <td>no he was not alive</td>\n",
       "      <td>0.333333</td>\n",
       "      <td>0</td>\n",
       "      <td>[Eduard van Beinum (; 3 September 1901 – 13 Ap...</td>\n",
       "    </tr>\n",
       "    <tr>\n",
       "      <th>48</th>\n",
       "      <td>Which of the battles Sherman fought during a w...</td>\n",
       "      <td>donelson</td>\n",
       "      <td>fort donelson had higher union casualty rate</td>\n",
       "      <td>0.25</td>\n",
       "      <td>0</td>\n",
       "      <td>[Sherman returned to serve under General Ulyss...</td>\n",
       "    </tr>\n",
       "    <tr>\n",
       "      <th>49</th>\n",
       "      <td>Which country did some of the tribes escaped t...</td>\n",
       "      <td>united states</td>\n",
       "      <td>united states</td>\n",
       "      <td>1.0</td>\n",
       "      <td>1</td>\n",
       "      <td>[Those who escaped deportation were dispersed ...</td>\n",
       "    </tr>\n",
       "  </tbody>\n",
       "</table>\n",
       "</div>"
      ],
      "text/plain": [
       "                                             question  \\\n",
       "0           What is Zeus know for in Greek mythology?   \n",
       "1   How long had the First World War been over whe...   \n",
       "2   How old was Messe when the First World War sta...   \n",
       "3   How long had Angela Scoular been acting profes...   \n",
       "4   What is the capacity of the stadium where Brun...   \n",
       "5   Which stadium where Brunt played can hold more...   \n",
       "6           In which country was Wilhelm Müller born?   \n",
       "7   Which battle Wilhelm Müller fought in while in...   \n",
       "8   How much time had passed between Wilhelm's ret...   \n",
       "9   Which of Wilhelm's direct male descendants liv...   \n",
       "10  In which Italian region did Pesce studied medi...   \n",
       "11    Which country hosted the 1948 Leprosy Congress?   \n",
       "12  When was the sports organization that the Turk...   \n",
       "13  What was the founding date of the championship...   \n",
       "14  How many years did the player who top-scored f...   \n",
       "15                    How many teams play in the NHL?   \n",
       "16       Which hockey team won the World Cup in 1996?   \n",
       "17  Who is the mayor of the city where the album w...   \n",
       "18  How long had Alex Rance been a professional pl...   \n",
       "19  Which media that noticed the omission of accol...   \n",
       "20  In what country is the city located where the ...   \n",
       "21  How many years were there between Pompeii's de...   \n",
       "22  Which Central American country Payson D. Sheet...   \n",
       "23  Which university did Don Branby played college...   \n",
       "24  Who were the other end position players on the...   \n",
       "25  How long had the Associated Press been in oper...   \n",
       "26  How long had the Perthshire Regiment been a go...   \n",
       "27  When was the company for which Tookey called a...   \n",
       "28  Of the films Tookey claimed to have defended a...   \n",
       "29  Who is the current director of the board which...   \n",
       "30  Which team won the first game in the 2004 Nati...   \n",
       "31  How old was the Grand Olympic Auditorium at th...   \n",
       "32  Who owned the Rochester Rhinos when Glenn left...   \n",
       "33  Who owned the last team Glenn ever played for ...   \n",
       "34         What state did Glenn finish his career in?   \n",
       "35  How many championship appearances has the team...   \n",
       "36  In what year was the team founded who Ashton p...   \n",
       "37  Who is the oldest teammate of Ashton's when he...   \n",
       "38  Had the Chicago White Sox been around longer t...   \n",
       "39  Did the Bulls owner also own the Chicago White...   \n",
       "40     What stadium do the Chicago White Sox play in?   \n",
       "41  How old was the person who shot Waitkus the ye...   \n",
       "42  How long had Eddie Waitkus been playing profes...   \n",
       "43  In what race was Sohn Kee-chung the gold medal...   \n",
       "44  How much behind did the was the bronze medalis...   \n",
       "45   In what year was Japan defeated in World War II?   \n",
       "46  What year did Suh Yun-bok win the Boston Marat...   \n",
       "47  Was Eduard van Beinum still alive whnen Gilmor...   \n",
       "48  Which of the battles Sherman fought during a w...   \n",
       "49  Which country did some of the tribes escaped t...   \n",
       "\n",
       "                                               answer  \\\n",
       "0                                 sky and thunder god   \n",
       "1                                                   5   \n",
       "2                                                  30   \n",
       "3                                                   2   \n",
       "4                                               26688   \n",
       "5                                     white hart lane   \n",
       "6                                             germany   \n",
       "7                                                kulm   \n",
       "8                                                   9   \n",
       "9                                friedrich max müller   \n",
       "10                                            liguria   \n",
       "11                                               cuba   \n",
       "12                                               1909   \n",
       "13                                               2000   \n",
       "14                                                  1   \n",
       "15                                                 31   \n",
       "16                                                usa   \n",
       "17                                     bill de blasio   \n",
       "18                                                 11   \n",
       "19                                         herald sun   \n",
       "20                                               iraq   \n",
       "21                                               1897   \n",
       "22                                         costa rica   \n",
       "23                                 colorado buffaloes   \n",
       "24  frank mcphee princeton bernie flowers purdue e...   \n",
       "25                                                106   \n",
       "26                                                 69   \n",
       "27                                         7 may 1946   \n",
       "28                                       pulp fiction   \n",
       "29                                       david austin   \n",
       "30                                          cardinals   \n",
       "31                                                 60   \n",
       "32                                 rochester new york   \n",
       "33                                          sam chase   \n",
       "34                                            georgia   \n",
       "35                                                  5   \n",
       "36                                               1964   \n",
       "37                                       george pesut   \n",
       "38                                                yes   \n",
       "39                                                yes   \n",
       "40                              guaranteed rate field   \n",
       "41                                                 20   \n",
       "42                                                 10   \n",
       "43                                           marathon   \n",
       "44                                               1428   \n",
       "45                                               1945   \n",
       "46                                               1947   \n",
       "47                                                 no   \n",
       "48                                           donelson   \n",
       "49                                      united states   \n",
       "\n",
       "                                       LLM answer        F1 Exact Match  \\\n",
       "0                 king of gods in greek mythology         0           0   \n",
       "1                                         5 years  0.666667           0   \n",
       "2                                              31         0           0   \n",
       "3                                        14 years         0           0   \n",
       "4                         mcg has 100024 capacity         0           0   \n",
       "5                                 white hart lane       1.0           1   \n",
       "6                                         germany       1.0           1   \n",
       "7                                  battle of kulm       0.5           0   \n",
       "8                                         9 years  0.666667           0   \n",
       "9                         wilhelm max müller 1919  0.571429           0   \n",
       "10                                        liguria       1.0           1   \n",
       "11                                           cuba       1.0           1   \n",
       "12  international cricket council founded in 1909  0.285714           0   \n",
       "13                                           1909         0           0   \n",
       "14                                              1       1.0           1   \n",
       "15                                             31       1.0           1   \n",
       "16           no hockey team won world cup in 1996         0           0   \n",
       "17                                 bill de blasio       1.0           1   \n",
       "18                                       11 years  0.666667           0   \n",
       "19                                     herald sun       1.0           1   \n",
       "20                                           iraq       1.0           1   \n",
       "21                                           1733         0           0   \n",
       "22                                    el salvador         0           0   \n",
       "23                         university of colorado       0.4           0   \n",
       "24                    frank mcphee bernie flowers  0.205128           0   \n",
       "25                                      106 years  0.666667           0   \n",
       "26                                           1780         0           0   \n",
       "27                           sony founded in 1946  0.285714           0   \n",
       "28                         life of brian 19398164         0           0   \n",
       "29                         none mentioned in text         0           0   \n",
       "30                             st louis cardinals       0.5           0   \n",
       "31                                   60 years old       0.5           0   \n",
       "32                       steve holroyd owned team         0           0   \n",
       "33                            atlanta silverbacks         0           0   \n",
       "34                                        georgia       1.0           1   \n",
       "35           saskatoon blades had 2 championships         0           0   \n",
       "36                                           1966         0           0   \n",
       "37                                     bob bourne         0           0   \n",
       "38                    white sox older than barons         0           0   \n",
       "39                  yes jerry reinsdorf owns both  0.333333           0   \n",
       "40                          guaranteed rate field       1.0           1   \n",
       "41                                             19         0           0   \n",
       "42                                       11 years         0           0   \n",
       "43                                       marathon       1.0           1   \n",
       "44                                   3 min 42 sec         0           0   \n",
       "45                                           1945       1.0           1   \n",
       "46                                           1947       1.0           1   \n",
       "47                            no he was not alive  0.333333           0   \n",
       "48   fort donelson had higher union casualty rate      0.25           0   \n",
       "49                                  united states       1.0           1   \n",
       "\n",
       "                                             contexts  \n",
       "0   [Zeus (British English , North American Englis...  \n",
       "1   [he became aide-de-camp to King Victor Emmanue...  \n",
       "2   [World War I (often abbreviated as WWI or WW1)...  \n",
       "3   [Angela Scoular appeared as Ruby Bartlett in O...  \n",
       "4   [Brunt returned to first-team action after eig...  \n",
       "5   [White Hart Lane was a football stadium in Tot...  \n",
       "6   [Wilhelm Max Müller (15 May 1862 – July 1919) ...  \n",
       "7   [In the Battle of Bautzen (20–21 May 1813) a c...  \n",
       "8   [In 1814 he returned to his studies at Berlin....  \n",
       "9   [his grandson Wilhelm Max Müller, Wilhelm Max ...  \n",
       "10  [and studied medicine at the University of Gen...  \n",
       "11  [The 1948 World Leprosy Congress in Havana end...  \n",
       "12  [Cricket is the national sport of the Turks an...  \n",
       "13  [Cricket is the national sport of the Turks an...  \n",
       "14  [Matthews played a single Twenty20 match for t...  \n",
       "15  [The National Hockey League (NHL; ) is a profe...  \n",
       "16  [The first World Cup of Hockey (WCH), or 1996 ...  \n",
       "17  [It was produced by Mike Elizondo and mixed in...  \n",
       "18  [his 200th AFL match in the season opening mat...  \n",
       "19  [Vlastuin started the 2019 season with appeara...  \n",
       "20  [Baghdad Jewish Arabic (, ) or autonym haki ma...  \n",
       "21  [His largest known body of research comes from...  \n",
       "22  [His largest known body of research comes from...  \n",
       "23  [Branby played college football at the end pos...  \n",
       "24  [Branby played college football at the end pos...  \n",
       "25  [he was selected by the Associated Press as a ...  \n",
       "26  [He first arrived in the Cape of Good Hope in ...  \n",
       "27  [Tookey called for readers to boycott the prod...  \n",
       "28  [Tookey denied charges that he was in favour o...  \n",
       "29  [Tookey called for readers to boycott the prod...  \n",
       "30  [The 2004 National League Division Series (NLD...  \n",
       "31  [That landmark concert was held at the Grand O...  \n",
       "32  [Glenn had intended to continue playing for th...  \n",
       "33  [Glenn had intended to continue playing for th...  \n",
       "34  [Glenn had intended to continue playing for th...  \n",
       "35  [Ashton played junior hockey for his hometown ...  \n",
       "36  [Ashton played junior hockey for his hometown ...  \n",
       "37  [Ashton played junior hockey for his hometown ...  \n",
       "38  [Jordan then further surprised the sports worl...  \n",
       "39  [Jerry M. Reinsdorf (born February 25, 1936) i...  \n",
       "40  [The Chicago White Sox are an American profess...  \n",
       "41  [Ruth Ann Steinhagen (December 23, 1929 – Dece...  \n",
       "42  [Edward Stephen Waitkus (September 4, 1919 – S...  \n",
       "43  [Sohn Kee-chung (; ; August 29, 1912 – Novembe...  \n",
       "44  [The 1936 Summer Olympics saw two Koreans win ...  \n",
       "45  [ On 15 August 1945, Japan surrendered, with t...  \n",
       "46  [Suh Yun-bok (9 January 1923 – 27 June 2017) w...  \n",
       "47  [Eduard van Beinum (; 3 September 1901 – 13 Ap...  \n",
       "48  [Sherman returned to serve under General Ulyss...  \n",
       "49  [Those who escaped deportation were dispersed ...  "
      ]
     },
     "execution_count": 35,
     "metadata": {},
     "output_type": "execute_result"
    }
   ],
   "source": [
    "df"
   ]
  },
  {
   "cell_type": "markdown",
   "metadata": {},
   "source": [
    "## Evaluation using RAGAS"
   ]
  },
  {
   "cell_type": "code",
   "execution_count": 37,
   "metadata": {},
   "outputs": [],
   "source": [
    "# Data necessary for RAGAS evaluation\n",
    "questions = df['question']\n",
    "responses = df['LLM answer']\n",
    "contexts = df['contexts']\n",
    "ground_truths = df['answer']"
   ]
  },
  {
   "cell_type": "code",
   "execution_count": 39,
   "metadata": {},
   "outputs": [],
   "source": [
    "# Code adapted from https://arize.com/blog/ragas-how-to-evaluate-rag-pipeline-phoenix\n",
    "from datasets import Dataset\n",
    "\n",
    "def generate_ragas_dataset(questions, responses, contexts, ground_truths):\n",
    "\n",
    "    dataset_dict = {\n",
    "        \"question\": questions, # From the dataset\n",
    "        \"answer\": responses, # From Llama3\n",
    "        \"contexts\": contexts,\n",
    "        \"ground_truth\": ground_truths,\n",
    "    }\n",
    "    ds = Dataset.from_dict(dataset_dict)\n",
    "    return ds\n",
    "\n",
    "ragas_dataset = generate_ragas_dataset(questions, responses, contexts, ground_truths)"
   ]
  },
  {
   "cell_type": "code",
   "execution_count": 41,
   "metadata": {},
   "outputs": [
    {
     "ename": "ValidationError",
     "evalue": "1 validation error for ChatOpenAI\n__root__\n  Did not find openai_api_key, please add an environment variable `OPENAI_API_KEY` which contains it, or pass `openai_api_key` as a named parameter. (type=value_error)",
     "output_type": "error",
     "traceback": [
      "\u001b[0;31m---------------------------------------------------------------------------\u001b[0m",
      "\u001b[0;31mValidationError\u001b[0m                           Traceback (most recent call last)",
      "Cell \u001b[0;32mIn[41], line 2\u001b[0m\n\u001b[1;32m      1\u001b[0m \u001b[38;5;28;01mfrom\u001b[39;00m \u001b[38;5;21;01mragas\u001b[39;00m \u001b[38;5;28;01mimport\u001b[39;00m evaluate\n\u001b[0;32m----> 2\u001b[0m evaluation_result \u001b[38;5;241m=\u001b[39m \u001b[43mevaluate\u001b[49m\u001b[43m(\u001b[49m\n\u001b[1;32m      3\u001b[0m \u001b[43m    \u001b[49m\u001b[43mdataset\u001b[49m\u001b[38;5;241;43m=\u001b[39;49m\u001b[43mragas_dataset\u001b[49m\u001b[43m,\u001b[49m\n\u001b[1;32m      4\u001b[0m \u001b[43m    \u001b[49m\u001b[43mmetrics\u001b[49m\u001b[38;5;241;43m=\u001b[39;49m\u001b[43m[\u001b[49m\u001b[43manswer_relevancy\u001b[49m\u001b[43m,\u001b[49m\u001b[43m \u001b[49m\u001b[43mfaithfulness\u001b[49m\u001b[43m,\u001b[49m\u001b[43m \u001b[49m\u001b[43mcontext_recall\u001b[49m\u001b[43m,\u001b[49m\u001b[43m \u001b[49m\u001b[43mcontext_precision\u001b[49m\u001b[43m]\u001b[49m\u001b[43m,\u001b[49m\n\u001b[1;32m      5\u001b[0m \u001b[43m)\u001b[49m\n\u001b[1;32m      6\u001b[0m df_ragas \u001b[38;5;241m=\u001b[39m pd\u001b[38;5;241m.\u001b[39mDataFrame(evaluation_result\u001b[38;5;241m.\u001b[39mscores)\n",
      "File \u001b[0;32m~/miniconda3/envs/ml_rag/lib/python3.12/site-packages/ragas/evaluation.py:166\u001b[0m, in \u001b[0;36mevaluate\u001b[0;34m(dataset, metrics, llm, embeddings, callbacks, is_async, run_config, raise_exceptions, column_map)\u001b[0m\n\u001b[1;32m    164\u001b[0m \u001b[38;5;28;01mif\u001b[39;00m \u001b[38;5;28misinstance\u001b[39m(metric, MetricWithLLM) \u001b[38;5;129;01mand\u001b[39;00m metric\u001b[38;5;241m.\u001b[39mllm \u001b[38;5;129;01mis\u001b[39;00m \u001b[38;5;28;01mNone\u001b[39;00m:\n\u001b[1;32m    165\u001b[0m     \u001b[38;5;28;01mif\u001b[39;00m llm \u001b[38;5;129;01mis\u001b[39;00m \u001b[38;5;28;01mNone\u001b[39;00m:\n\u001b[0;32m--> 166\u001b[0m         llm \u001b[38;5;241m=\u001b[39m \u001b[43mllm_factory\u001b[49m\u001b[43m(\u001b[49m\u001b[43m)\u001b[49m\n\u001b[1;32m    167\u001b[0m     metric\u001b[38;5;241m.\u001b[39mllm \u001b[38;5;241m=\u001b[39m llm\n\u001b[1;32m    168\u001b[0m     llm_changed\u001b[38;5;241m.\u001b[39mappend(i)\n",
      "File \u001b[0;32m~/miniconda3/envs/ml_rag/lib/python3.12/site-packages/ragas/llms/base.py:212\u001b[0m, in \u001b[0;36mllm_factory\u001b[0;34m(model, run_config)\u001b[0m\n\u001b[1;32m    210\u001b[0m \u001b[38;5;28;01mif\u001b[39;00m run_config \u001b[38;5;129;01mis\u001b[39;00m \u001b[38;5;129;01mnot\u001b[39;00m \u001b[38;5;28;01mNone\u001b[39;00m:\n\u001b[1;32m    211\u001b[0m     timeout \u001b[38;5;241m=\u001b[39m run_config\u001b[38;5;241m.\u001b[39mtimeout\n\u001b[0;32m--> 212\u001b[0m openai_model \u001b[38;5;241m=\u001b[39m \u001b[43mChatOpenAI\u001b[49m\u001b[43m(\u001b[49m\u001b[43mmodel\u001b[49m\u001b[38;5;241;43m=\u001b[39;49m\u001b[43mmodel\u001b[49m\u001b[43m,\u001b[49m\u001b[43m \u001b[49m\u001b[43mtimeout\u001b[49m\u001b[38;5;241;43m=\u001b[39;49m\u001b[43mtimeout\u001b[49m\u001b[43m)\u001b[49m\n\u001b[1;32m    213\u001b[0m \u001b[38;5;28;01mreturn\u001b[39;00m LangchainLLMWrapper(openai_model, run_config)\n",
      "File \u001b[0;32m~/miniconda3/envs/ml_rag/lib/python3.12/site-packages/pydantic/v1/main.py:341\u001b[0m, in \u001b[0;36mBaseModel.__init__\u001b[0;34m(__pydantic_self__, **data)\u001b[0m\n\u001b[1;32m    339\u001b[0m values, fields_set, validation_error \u001b[38;5;241m=\u001b[39m validate_model(__pydantic_self__\u001b[38;5;241m.\u001b[39m\u001b[38;5;18m__class__\u001b[39m, data)\n\u001b[1;32m    340\u001b[0m \u001b[38;5;28;01mif\u001b[39;00m validation_error:\n\u001b[0;32m--> 341\u001b[0m     \u001b[38;5;28;01mraise\u001b[39;00m validation_error\n\u001b[1;32m    342\u001b[0m \u001b[38;5;28;01mtry\u001b[39;00m:\n\u001b[1;32m    343\u001b[0m     object_setattr(__pydantic_self__, \u001b[38;5;124m'\u001b[39m\u001b[38;5;124m__dict__\u001b[39m\u001b[38;5;124m'\u001b[39m, values)\n",
      "\u001b[0;31mValidationError\u001b[0m: 1 validation error for ChatOpenAI\n__root__\n  Did not find openai_api_key, please add an environment variable `OPENAI_API_KEY` which contains it, or pass `openai_api_key` as a named parameter. (type=value_error)"
     ]
    }
   ],
   "source": [
    "from ragas import evaluate\n",
    "evaluation_result = evaluate(\n",
    "    dataset=ragas_dataset,\n",
    "    metrics=[answer_relevancy, faithfulness, context_recall, context_precision],\n",
    ")\n",
    "df_ragas = pd.DataFrame(evaluation_result.scores)"
   ]
  }
 ],
 "metadata": {
  "kernelspec": {
   "display_name": "Python 3",
   "language": "python",
   "name": "python3"
  },
  "language_info": {
   "codemirror_mode": {
    "name": "ipython",
    "version": 3
   },
   "file_extension": ".py",
   "mimetype": "text/x-python",
   "name": "python",
   "nbconvert_exporter": "python",
   "pygments_lexer": "ipython3",
   "version": "3.12.2"
  }
 },
 "nbformat": 4,
 "nbformat_minor": 2
}
