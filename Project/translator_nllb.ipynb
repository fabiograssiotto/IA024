{
 "cells": [
  {
   "cell_type": "code",
   "execution_count": 1,
   "metadata": {},
   "outputs": [],
   "source": [
    "%%capture\n",
    "%pip install pandas\n",
    "%pip install transformers"
   ]
  },
  {
   "cell_type": "code",
   "execution_count": 13,
   "metadata": {},
   "outputs": [],
   "source": [
    "import torch\n",
    "from transformers import AutoModelForSeq2SeqLM, AutoTokenizer, pipeline\n",
    "import pandas as pd\n",
    "from tqdm import tqdm\n",
    "\n",
    "import warnings\n",
    "warnings.simplefilter('ignore')"
   ]
  },
  {
   "cell_type": "markdown",
   "metadata": {},
   "source": [
    "### Initialize NLBB-3.3b model"
   ]
  },
  {
   "cell_type": "code",
   "execution_count": 3,
   "metadata": {},
   "outputs": [
    {
     "name": "stdout",
     "output_type": "stream",
     "text": [
      "cuda:0\n"
     ]
    }
   ],
   "source": [
    "device = \"cuda:0\" if torch.cuda.is_available() else \"cpu\"\n",
    "print(device)"
   ]
  },
  {
   "cell_type": "code",
   "execution_count": 4,
   "metadata": {},
   "outputs": [],
   "source": [
    "# Load the tokenizer and model\n",
    "model_name = \"facebook/nllb-200-distilled-1.3B\"\n",
    "\n",
    "model = AutoModelForSeq2SeqLM.from_pretrained(model_name).to(device)\n",
    "tokenizer = AutoTokenizer.from_pretrained(model_name)"
   ]
  },
  {
   "cell_type": "code",
   "execution_count": 35,
   "metadata": {},
   "outputs": [],
   "source": [
    "source_lang = \"eng_Latn\"\n",
    "target_lang = \"por_Latn\"\n",
    "enpt_pipeline = pipeline('translation', model=model, tokenizer=tokenizer, \n",
    "                          src_lang=source_lang, tgt_lang=target_lang,\n",
    "                          batch_size=64, device=device)"
   ]
  },
  {
   "cell_type": "markdown",
   "metadata": {},
   "source": [
    "### Read dataset from CSV"
   ]
  },
  {
   "cell_type": "code",
   "execution_count": 5,
   "metadata": {},
   "outputs": [],
   "source": [
    "df_dev = pd.read_csv('data/dev.csv')\n",
    "df_train = pd.read_csv('data/train.csv')\n",
    "df_tst = pd.read_csv('data/tst.csv')"
   ]
  },
  {
   "cell_type": "code",
   "execution_count": 6,
   "metadata": {},
   "outputs": [
    {
     "data": {
      "text/html": [
       "<div>\n",
       "<style scoped>\n",
       "    .dataframe tbody tr th:only-of-type {\n",
       "        vertical-align: middle;\n",
       "    }\n",
       "\n",
       "    .dataframe tbody tr th {\n",
       "        vertical-align: top;\n",
       "    }\n",
       "\n",
       "    .dataframe thead th {\n",
       "        text-align: right;\n",
       "    }\n",
       "</style>\n",
       "<table border=\"1\" class=\"dataframe\">\n",
       "  <thead>\n",
       "    <tr style=\"text-align: right;\">\n",
       "      <th></th>\n",
       "      <th>Unnamed: 0</th>\n",
       "      <th>context</th>\n",
       "      <th>question</th>\n",
       "      <th>answerA</th>\n",
       "      <th>answerB</th>\n",
       "      <th>answerC</th>\n",
       "      <th>correct</th>\n",
       "    </tr>\n",
       "  </thead>\n",
       "  <tbody>\n",
       "    <tr>\n",
       "      <th>0</th>\n",
       "      <td>0</td>\n",
       "      <td>Tracy didn't go home that evening and resisted...</td>\n",
       "      <td>What does Tracy need to do before this?</td>\n",
       "      <td>make a new plan</td>\n",
       "      <td>Go home and see Riley</td>\n",
       "      <td>Find somewhere to go</td>\n",
       "      <td>C</td>\n",
       "    </tr>\n",
       "    <tr>\n",
       "      <th>1</th>\n",
       "      <td>1</td>\n",
       "      <td>Sydney walked past a homeless woman asking for...</td>\n",
       "      <td>How would you describe Sydney?</td>\n",
       "      <td>sympathetic</td>\n",
       "      <td>like a person who was unable to help</td>\n",
       "      <td>incredulous</td>\n",
       "      <td>A</td>\n",
       "    </tr>\n",
       "    <tr>\n",
       "      <th>2</th>\n",
       "      <td>2</td>\n",
       "      <td>Sasha protected the patients' rights by making...</td>\n",
       "      <td>What will patients want to do next?</td>\n",
       "      <td>write new laws</td>\n",
       "      <td>get petitions signed</td>\n",
       "      <td>live longer</td>\n",
       "      <td>B</td>\n",
       "    </tr>\n",
       "    <tr>\n",
       "      <th>3</th>\n",
       "      <td>3</td>\n",
       "      <td>Jordan was in charge of taking the food on the...</td>\n",
       "      <td>How would Jordan feel afterwards?</td>\n",
       "      <td>horrible that he let his friends down on the c...</td>\n",
       "      <td>happy that he doesn't need to do the cooking o...</td>\n",
       "      <td>very proud and accomplished about the camping ...</td>\n",
       "      <td>A</td>\n",
       "    </tr>\n",
       "    <tr>\n",
       "      <th>4</th>\n",
       "      <td>4</td>\n",
       "      <td>Kendall opened their mouth to speak and what c...</td>\n",
       "      <td>How would you describe Kendall?</td>\n",
       "      <td>a very quiet person</td>\n",
       "      <td>a very passive person</td>\n",
       "      <td>a very aggressive and talkative person</td>\n",
       "      <td>C</td>\n",
       "    </tr>\n",
       "  </tbody>\n",
       "</table>\n",
       "</div>"
      ],
      "text/plain": [
       "   Unnamed: 0                                            context  \\\n",
       "0           0  Tracy didn't go home that evening and resisted...   \n",
       "1           1  Sydney walked past a homeless woman asking for...   \n",
       "2           2  Sasha protected the patients' rights by making...   \n",
       "3           3  Jordan was in charge of taking the food on the...   \n",
       "4           4  Kendall opened their mouth to speak and what c...   \n",
       "\n",
       "                                  question  \\\n",
       "0  What does Tracy need to do before this?   \n",
       "1           How would you describe Sydney?   \n",
       "2      What will patients want to do next?   \n",
       "3        How would Jordan feel afterwards?   \n",
       "4          How would you describe Kendall?   \n",
       "\n",
       "                                             answerA  \\\n",
       "0                                    make a new plan   \n",
       "1                                        sympathetic   \n",
       "2                                     write new laws   \n",
       "3  horrible that he let his friends down on the c...   \n",
       "4                                a very quiet person   \n",
       "\n",
       "                                             answerB  \\\n",
       "0                              Go home and see Riley   \n",
       "1               like a person who was unable to help   \n",
       "2                               get petitions signed   \n",
       "3  happy that he doesn't need to do the cooking o...   \n",
       "4                              a very passive person   \n",
       "\n",
       "                                             answerC correct  \n",
       "0                               Find somewhere to go       C  \n",
       "1                                        incredulous       A  \n",
       "2                                        live longer       B  \n",
       "3  very proud and accomplished about the camping ...       A  \n",
       "4             a very aggressive and talkative person       C  "
      ]
     },
     "execution_count": 6,
     "metadata": {},
     "output_type": "execute_result"
    }
   ],
   "source": [
    "df_dev.head()"
   ]
  },
  {
   "cell_type": "markdown",
   "metadata": {},
   "source": [
    "#### Test Run"
   ]
  },
  {
   "cell_type": "code",
   "execution_count": 7,
   "metadata": {},
   "outputs": [],
   "source": [
    "row_index = 0  # select the row index you're interested in\n",
    "columns_of_interest = ['context', 'question', 'answerA', 'answerB', 'answerC']  # select the columns you want\n",
    "\n",
    "row_values = df_train.loc[row_index, columns_of_interest].tolist()"
   ]
  },
  {
   "cell_type": "code",
   "execution_count": 8,
   "metadata": {},
   "outputs": [
    {
     "data": {
      "text/plain": [
       "['Even though she had homework to do that night, Jesse helped Skylar study.',\n",
       " 'What will Jesse want to do next?',\n",
       " 'read homework to Skylar',\n",
       " 'help Skylar finish',\n",
       " 'skip her studying']"
      ]
     },
     "execution_count": 8,
     "metadata": {},
     "output_type": "execute_result"
    }
   ],
   "source": [
    "row_values"
   ]
  },
  {
   "cell_type": "code",
   "execution_count": 19,
   "metadata": {},
   "outputs": [
    {
     "data": {
      "text/plain": [
       "[{'translation_text': 'Mesmo tendo de fazer o dever de casa naquela noite, Jesse ajudou a Skylar a estudar.'},\n",
       " {'translation_text': 'O que é que o Jesse vai querer fazer a seguir?'},\n",
       " {'translation_text': 'Leia os trabalhos de casa à Skylar.'},\n",
       " {'translation_text': 'Ajudem a Skylar a terminar .'},\n",
       " {'translation_text': 'Não a deixes estudar.'}]"
      ]
     },
     "execution_count": 19,
     "metadata": {},
     "output_type": "execute_result"
    }
   ],
   "source": [
    "enpt_pipeline(row_values)"
   ]
  },
  {
   "cell_type": "code",
   "execution_count": 20,
   "metadata": {},
   "outputs": [],
   "source": [
    "def translate(str_list, model):\n",
    "\n",
    "    translated = []\n",
    "\n",
    "    out = enpt_pipeline(str_list)\n",
    "    translated = [d['translation_text'] for d in out]\n",
    "    \n",
    "    return translated"
   ]
  },
  {
   "cell_type": "code",
   "execution_count": 21,
   "metadata": {},
   "outputs": [],
   "source": [
    "out = translate(row_values, model)"
   ]
  },
  {
   "cell_type": "code",
   "execution_count": 22,
   "metadata": {},
   "outputs": [
    {
     "data": {
      "text/plain": [
       "['Mesmo tendo de fazer o dever de casa naquela noite, Jesse ajudou a Skylar a estudar.',\n",
       " 'O que é que o Jesse vai querer fazer a seguir?',\n",
       " 'Leia os trabalhos de casa à Skylar.',\n",
       " 'Ajudem a Skylar a terminar .',\n",
       " 'Não a deixes estudar.']"
      ]
     },
     "execution_count": 22,
     "metadata": {},
     "output_type": "execute_result"
    }
   ],
   "source": [
    "out"
   ]
  },
  {
   "cell_type": "markdown",
   "metadata": {},
   "source": [
    "### Translate dev base first"
   ]
  },
  {
   "cell_type": "code",
   "execution_count": 23,
   "metadata": {},
   "outputs": [],
   "source": [
    "# New dataframe for the translation\n",
    "df_dev_pt = df_dev.copy()\n",
    "df_dev_pt.loc[:, ['context', 'question', 'answerA', 'answerB', 'answerC']] = None"
   ]
  },
  {
   "cell_type": "code",
   "execution_count": 24,
   "metadata": {},
   "outputs": [
    {
     "data": {
      "text/html": [
       "<div>\n",
       "<style scoped>\n",
       "    .dataframe tbody tr th:only-of-type {\n",
       "        vertical-align: middle;\n",
       "    }\n",
       "\n",
       "    .dataframe tbody tr th {\n",
       "        vertical-align: top;\n",
       "    }\n",
       "\n",
       "    .dataframe thead th {\n",
       "        text-align: right;\n",
       "    }\n",
       "</style>\n",
       "<table border=\"1\" class=\"dataframe\">\n",
       "  <thead>\n",
       "    <tr style=\"text-align: right;\">\n",
       "      <th></th>\n",
       "      <th>Unnamed: 0</th>\n",
       "      <th>context</th>\n",
       "      <th>question</th>\n",
       "      <th>answerA</th>\n",
       "      <th>answerB</th>\n",
       "      <th>answerC</th>\n",
       "      <th>correct</th>\n",
       "    </tr>\n",
       "  </thead>\n",
       "  <tbody>\n",
       "    <tr>\n",
       "      <th>0</th>\n",
       "      <td>0</td>\n",
       "      <td>None</td>\n",
       "      <td>None</td>\n",
       "      <td>None</td>\n",
       "      <td>None</td>\n",
       "      <td>None</td>\n",
       "      <td>C</td>\n",
       "    </tr>\n",
       "    <tr>\n",
       "      <th>1</th>\n",
       "      <td>1</td>\n",
       "      <td>None</td>\n",
       "      <td>None</td>\n",
       "      <td>None</td>\n",
       "      <td>None</td>\n",
       "      <td>None</td>\n",
       "      <td>A</td>\n",
       "    </tr>\n",
       "    <tr>\n",
       "      <th>2</th>\n",
       "      <td>2</td>\n",
       "      <td>None</td>\n",
       "      <td>None</td>\n",
       "      <td>None</td>\n",
       "      <td>None</td>\n",
       "      <td>None</td>\n",
       "      <td>B</td>\n",
       "    </tr>\n",
       "    <tr>\n",
       "      <th>3</th>\n",
       "      <td>3</td>\n",
       "      <td>None</td>\n",
       "      <td>None</td>\n",
       "      <td>None</td>\n",
       "      <td>None</td>\n",
       "      <td>None</td>\n",
       "      <td>A</td>\n",
       "    </tr>\n",
       "    <tr>\n",
       "      <th>4</th>\n",
       "      <td>4</td>\n",
       "      <td>None</td>\n",
       "      <td>None</td>\n",
       "      <td>None</td>\n",
       "      <td>None</td>\n",
       "      <td>None</td>\n",
       "      <td>C</td>\n",
       "    </tr>\n",
       "    <tr>\n",
       "      <th>...</th>\n",
       "      <td>...</td>\n",
       "      <td>...</td>\n",
       "      <td>...</td>\n",
       "      <td>...</td>\n",
       "      <td>...</td>\n",
       "      <td>...</td>\n",
       "      <td>...</td>\n",
       "    </tr>\n",
       "    <tr>\n",
       "      <th>1949</th>\n",
       "      <td>1949</td>\n",
       "      <td>None</td>\n",
       "      <td>None</td>\n",
       "      <td>None</td>\n",
       "      <td>None</td>\n",
       "      <td>None</td>\n",
       "      <td>A</td>\n",
       "    </tr>\n",
       "    <tr>\n",
       "      <th>1950</th>\n",
       "      <td>1950</td>\n",
       "      <td>None</td>\n",
       "      <td>None</td>\n",
       "      <td>None</td>\n",
       "      <td>None</td>\n",
       "      <td>None</td>\n",
       "      <td>B</td>\n",
       "    </tr>\n",
       "    <tr>\n",
       "      <th>1951</th>\n",
       "      <td>1951</td>\n",
       "      <td>None</td>\n",
       "      <td>None</td>\n",
       "      <td>None</td>\n",
       "      <td>None</td>\n",
       "      <td>None</td>\n",
       "      <td>C</td>\n",
       "    </tr>\n",
       "    <tr>\n",
       "      <th>1952</th>\n",
       "      <td>1952</td>\n",
       "      <td>None</td>\n",
       "      <td>None</td>\n",
       "      <td>None</td>\n",
       "      <td>None</td>\n",
       "      <td>None</td>\n",
       "      <td>B</td>\n",
       "    </tr>\n",
       "    <tr>\n",
       "      <th>1953</th>\n",
       "      <td>1953</td>\n",
       "      <td>None</td>\n",
       "      <td>None</td>\n",
       "      <td>None</td>\n",
       "      <td>None</td>\n",
       "      <td>None</td>\n",
       "      <td>B</td>\n",
       "    </tr>\n",
       "  </tbody>\n",
       "</table>\n",
       "<p>1954 rows × 7 columns</p>\n",
       "</div>"
      ],
      "text/plain": [
       "      Unnamed: 0 context question answerA answerB answerC correct\n",
       "0              0    None     None    None    None    None       C\n",
       "1              1    None     None    None    None    None       A\n",
       "2              2    None     None    None    None    None       B\n",
       "3              3    None     None    None    None    None       A\n",
       "4              4    None     None    None    None    None       C\n",
       "...          ...     ...      ...     ...     ...     ...     ...\n",
       "1949        1949    None     None    None    None    None       A\n",
       "1950        1950    None     None    None    None    None       B\n",
       "1951        1951    None     None    None    None    None       C\n",
       "1952        1952    None     None    None    None    None       B\n",
       "1953        1953    None     None    None    None    None       B\n",
       "\n",
       "[1954 rows x 7 columns]"
      ]
     },
     "execution_count": 24,
     "metadata": {},
     "output_type": "execute_result"
    }
   ],
   "source": [
    "df_dev_pt"
   ]
  },
  {
   "cell_type": "code",
   "execution_count": 27,
   "metadata": {},
   "outputs": [],
   "source": [
    "def create_batch(df, step, base):\n",
    "    row_values = []\n",
    "    for i in range(step):\n",
    "        columns_of_interest = ['context', 'question', 'answerA', 'answerB', 'answerC']  # select the columns you want\n",
    "        row_values += (df.loc[base + i, columns_of_interest].tolist())\n",
    "    return row_values"
   ]
  },
  {
   "cell_type": "code",
   "execution_count": 28,
   "metadata": {},
   "outputs": [],
   "source": [
    "batch_size = 1\n",
    "n_cols = 5\n",
    "\n",
    "def translate_base(df, df_pt, model):\n",
    "    for i in tqdm(range(0, len(df), batch_size)):\n",
    "        \n",
    "        strings = create_batch(df, batch_size, i)\n",
    "        translated_strings = translate(strings, model)\n",
    "\n",
    "        df_pt.iat[i, 1] = translated_strings[0]\n",
    "        df_pt.iat[i, 2] = translated_strings[1]\n",
    "        df_pt.iat[i, 3] = translated_strings[2]\n",
    "        df_pt.iat[i, 4] = translated_strings[3]\n",
    "        df_pt.iat[i, 5] = translated_strings[4]"
   ]
  },
  {
   "cell_type": "code",
   "execution_count": 31,
   "metadata": {},
   "outputs": [
    {
     "name": "stderr",
     "output_type": "stream",
     "text": [
      "100%|██████████| 1954/1954 [19:39<00:00,  1.66it/s]\n"
     ]
    }
   ],
   "source": [
    "translate_base(df_dev, df_dev_pt, model)"
   ]
  },
  {
   "cell_type": "code",
   "execution_count": 20,
   "metadata": {},
   "outputs": [
    {
     "data": {
      "text/html": [
       "<div>\n",
       "<style scoped>\n",
       "    .dataframe tbody tr th:only-of-type {\n",
       "        vertical-align: middle;\n",
       "    }\n",
       "\n",
       "    .dataframe tbody tr th {\n",
       "        vertical-align: top;\n",
       "    }\n",
       "\n",
       "    .dataframe thead th {\n",
       "        text-align: right;\n",
       "    }\n",
       "</style>\n",
       "<table border=\"1\" class=\"dataframe\">\n",
       "  <thead>\n",
       "    <tr style=\"text-align: right;\">\n",
       "      <th></th>\n",
       "      <th>Unnamed: 0</th>\n",
       "      <th>context</th>\n",
       "      <th>question</th>\n",
       "      <th>answerA</th>\n",
       "      <th>answerB</th>\n",
       "      <th>answerC</th>\n",
       "      <th>correct</th>\n",
       "    </tr>\n",
       "  </thead>\n",
       "  <tbody>\n",
       "    <tr>\n",
       "      <th>0</th>\n",
       "      <td>0</td>\n",
       "      <td>Tracy não ia para casa naquela noite e resisti...</td>\n",
       "      <td>O que é necessário para Tracy antes disso?</td>\n",
       "      <td>elaborar um novo plano</td>\n",
       "      <td>Ir para casa e ver Riley</td>\n",
       "      <td>Encontrar em algum lugar para ir</td>\n",
       "      <td>C</td>\n",
       "    </tr>\n",
       "    <tr>\n",
       "      <th>1</th>\n",
       "      <td>1</td>\n",
       "      <td>Sydney passou uma mulher em situação de rua pe...</td>\n",
       "      <td>Como descreveria Sydney?</td>\n",
       "      <td>simpática</td>\n",
       "      <td>como uma pessoa que não conseguiu ajudar</td>\n",
       "      <td>inchaço</td>\n",
       "      <td>A</td>\n",
       "    </tr>\n",
       "    <tr>\n",
       "      <th>2</th>\n",
       "      <td>2</td>\n",
       "      <td>Sasha protegeu os direitos dos pacientes ao fa...</td>\n",
       "      <td>O que os pacientes querem fazer a seguir?</td>\n",
       "      <td>redigidos novos diplomas</td>\n",
       "      <td>au</td>\n",
       "      <td>vida</td>\n",
       "      <td>B</td>\n",
       "    </tr>\n",
       "    <tr>\n",
       "      <th>3</th>\n",
       "      <td>3</td>\n",
       "      <td>Jordan foi responsável por levar a comida na v...</td>\n",
       "      <td>Como a Jordânia se sentiria depois?</td>\n",
       "      <td>horrível que ele deixe seus amigos para baixo ...</td>\n",
       "      <td>feliz que ele não precisa fazer o cozimento na...</td>\n",
       "      <td>muito orgulho e realizado com relação à viagem...</td>\n",
       "      <td>A</td>\n",
       "    </tr>\n",
       "    <tr>\n",
       "      <th>4</th>\n",
       "      <td>4</td>\n",
       "      <td>Kendall abriu a boca para falar e o que saiu c...</td>\n",
       "      <td>Como descrever Kendall?</td>\n",
       "      <td>uma pessoa muito silenciosa</td>\n",
       "      <td>uma pessoa muito passiva</td>\n",
       "      <td>uma pessoa muito agressiva e falante</td>\n",
       "      <td>C</td>\n",
       "    </tr>\n",
       "    <tr>\n",
       "      <th>...</th>\n",
       "      <td>...</td>\n",
       "      <td>...</td>\n",
       "      <td>...</td>\n",
       "      <td>...</td>\n",
       "      <td>...</td>\n",
       "      <td>...</td>\n",
       "      <td>...</td>\n",
       "    </tr>\n",
       "    <tr>\n",
       "      <th>1949</th>\n",
       "      <td>1949</td>\n",
       "      <td>Bailey destruiu o bunker do inimigo e venceu a...</td>\n",
       "      <td>O que é necessário para Bailey antes disso?</td>\n",
       "      <td>esperam os movimentos de tropas inimigas</td>\n",
       "      <td>da contra-inteligência dos inimigos</td>\n",
       "      <td>vencer a guerra pelo seu país</td>\n",
       "      <td>A</td>\n",
       "    </tr>\n",
       "    <tr>\n",
       "      <th>1950</th>\n",
       "      <td>1950</td>\n",
       "      <td>Kai contou o motivo do acidente no lago no últ...</td>\n",
       "      <td>Como descreveria Kai?</td>\n",
       "      <td>mais à vontade</td>\n",
       "      <td>como eles tiraram algo do peito</td>\n",
       "      <td>sentir- se triste</td>\n",
       "      <td>B</td>\n",
       "    </tr>\n",
       "    <tr>\n",
       "      <th>1951</th>\n",
       "      <td>1951</td>\n",
       "      <td>Kai melhorou a imagem de Jan e ela amava como ...</td>\n",
       "      <td>O que queremos Jan?</td>\n",
       "      <td>quis ser útil</td>\n",
       "      <td>quis a Jan para ser feliz</td>\n",
       "      <td>quadro da figura</td>\n",
       "      <td>C</td>\n",
       "    </tr>\n",
       "    <tr>\n",
       "      <th>1952</th>\n",
       "      <td>1952</td>\n",
       "      <td>Os filhos de Tracy queriam sorvete para que Au...</td>\n",
       "      <td>O que é necessário para o Aubrey?</td>\n",
       "      <td>contaram às crianças que responderam ao agrade...</td>\n",
       "      <td>gele sorvete</td>\n",
       "      <td>Agradecimentos à Aubrey</td>\n",
       "      <td>B</td>\n",
       "    </tr>\n",
       "    <tr>\n",
       "      <th>1953</th>\n",
       "      <td>1953</td>\n",
       "      <td>Aubrey o funcionário arrastou um motorista par...</td>\n",
       "      <td>Por que o Aubrey?</td>\n",
       "      <td>encontrar um local seguro para a transferência...</td>\n",
       "      <td>assim, as pessoas não dirigem para rápido</td>\n",
       "      <td>consulte o número da placa de matrícula da pessoa</td>\n",
       "      <td>B</td>\n",
       "    </tr>\n",
       "  </tbody>\n",
       "</table>\n",
       "<p>1954 rows × 7 columns</p>\n",
       "</div>"
      ],
      "text/plain": [
       "      Unnamed: 0                                            context  \\\n",
       "0              0  Tracy não ia para casa naquela noite e resisti...   \n",
       "1              1  Sydney passou uma mulher em situação de rua pe...   \n",
       "2              2  Sasha protegeu os direitos dos pacientes ao fa...   \n",
       "3              3  Jordan foi responsável por levar a comida na v...   \n",
       "4              4  Kendall abriu a boca para falar e o que saiu c...   \n",
       "...          ...                                                ...   \n",
       "1949        1949  Bailey destruiu o bunker do inimigo e venceu a...   \n",
       "1950        1950  Kai contou o motivo do acidente no lago no últ...   \n",
       "1951        1951  Kai melhorou a imagem de Jan e ela amava como ...   \n",
       "1952        1952  Os filhos de Tracy queriam sorvete para que Au...   \n",
       "1953        1953  Aubrey o funcionário arrastou um motorista par...   \n",
       "\n",
       "                                         question  \\\n",
       "0      O que é necessário para Tracy antes disso?   \n",
       "1                        Como descreveria Sydney?   \n",
       "2       O que os pacientes querem fazer a seguir?   \n",
       "3             Como a Jordânia se sentiria depois?   \n",
       "4                         Como descrever Kendall?   \n",
       "...                                           ...   \n",
       "1949  O que é necessário para Bailey antes disso?   \n",
       "1950                        Como descreveria Kai?   \n",
       "1951                          O que queremos Jan?   \n",
       "1952            O que é necessário para o Aubrey?   \n",
       "1953                            Por que o Aubrey?   \n",
       "\n",
       "                                                answerA  \\\n",
       "0                                elaborar um novo plano   \n",
       "1                                             simpática   \n",
       "2                              redigidos novos diplomas   \n",
       "3     horrível que ele deixe seus amigos para baixo ...   \n",
       "4                           uma pessoa muito silenciosa   \n",
       "...                                                 ...   \n",
       "1949           esperam os movimentos de tropas inimigas   \n",
       "1950                                     mais à vontade   \n",
       "1951                                      quis ser útil   \n",
       "1952  contaram às crianças que responderam ao agrade...   \n",
       "1953  encontrar um local seguro para a transferência...   \n",
       "\n",
       "                                                answerB  \\\n",
       "0                              Ir para casa e ver Riley   \n",
       "1              como uma pessoa que não conseguiu ajudar   \n",
       "2                                                    au   \n",
       "3     feliz que ele não precisa fazer o cozimento na...   \n",
       "4                              uma pessoa muito passiva   \n",
       "...                                                 ...   \n",
       "1949                da contra-inteligência dos inimigos   \n",
       "1950                    como eles tiraram algo do peito   \n",
       "1951                          quis a Jan para ser feliz   \n",
       "1952                                       gele sorvete   \n",
       "1953          assim, as pessoas não dirigem para rápido   \n",
       "\n",
       "                                                answerC correct  \n",
       "0                      Encontrar em algum lugar para ir       C  \n",
       "1                                               inchaço       A  \n",
       "2                                                  vida       B  \n",
       "3     muito orgulho e realizado com relação à viagem...       A  \n",
       "4                  uma pessoa muito agressiva e falante       C  \n",
       "...                                                 ...     ...  \n",
       "1949                      vencer a guerra pelo seu país       A  \n",
       "1950                                  sentir- se triste       B  \n",
       "1951                                   quadro da figura       C  \n",
       "1952                            Agradecimentos à Aubrey       B  \n",
       "1953  consulte o número da placa de matrícula da pessoa       B  \n",
       "\n",
       "[1954 rows x 7 columns]"
      ]
     },
     "execution_count": 20,
     "metadata": {},
     "output_type": "execute_result"
    }
   ],
   "source": [
    "df_dev_pt"
   ]
  },
  {
   "cell_type": "code",
   "execution_count": 32,
   "metadata": {},
   "outputs": [],
   "source": [
    "# Save to file\n",
    "df_dev_pt.to_csv('translated/nllb_1.3b/dev_pt.csv')"
   ]
  },
  {
   "cell_type": "markdown",
   "metadata": {},
   "source": [
    "### Translate testing base"
   ]
  },
  {
   "cell_type": "code",
   "execution_count": 33,
   "metadata": {},
   "outputs": [
    {
     "name": "stderr",
     "output_type": "stream",
     "text": [
      "100%|██████████| 2224/2224 [22:36<00:00,  1.64it/s]\n"
     ]
    }
   ],
   "source": [
    "df_tst_pt = df_tst.copy()\n",
    "df_tst_pt.loc[:, ['context', 'question', 'answerA', 'answerB', 'answerC']] = None\n",
    "\n",
    "translate_base(df_tst, df_tst_pt, model)\n",
    "\n",
    "df_tst_pt.to_csv('translated/nllb_1.3b/tst_pt.csv')"
   ]
  },
  {
   "cell_type": "markdown",
   "metadata": {},
   "source": [
    "### And the training base."
   ]
  },
  {
   "cell_type": "code",
   "execution_count": 36,
   "metadata": {},
   "outputs": [
    {
     "name": "stderr",
     "output_type": "stream",
     "text": [
      "100%|██████████| 33410/33410 [5:37:54<00:00,  1.65it/s]  \n"
     ]
    }
   ],
   "source": [
    "df_train_pt = df_train.copy()\n",
    "df_train_pt.loc[:, ['context', 'question', 'answerA', 'answerB', 'answerC']] = None\n",
    "\n",
    "translate_base(df_train, df_train_pt, model)\n",
    "\n",
    "df_train_pt.to_csv('translated/nllb_1.3b/train_pt.csv')"
   ]
  }
 ],
 "metadata": {
  "kernelspec": {
   "display_name": "ml_rag",
   "language": "python",
   "name": "python3"
  },
  "language_info": {
   "codemirror_mode": {
    "name": "ipython",
    "version": 3
   },
   "file_extension": ".py",
   "mimetype": "text/x-python",
   "name": "python",
   "nbconvert_exporter": "python",
   "pygments_lexer": "ipython3",
   "version": "3.12.2"
  }
 },
 "nbformat": 4,
 "nbformat_minor": 2
}
