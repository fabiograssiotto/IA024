{
 "cells": [
  {
   "cell_type": "code",
   "execution_count": 1,
   "metadata": {},
   "outputs": [
    {
     "name": "stderr",
     "output_type": "stream",
     "text": [
      "/home/fabiogr/miniconda3/envs/ml_rag/lib/python3.12/site-packages/tqdm/auto.py:21: TqdmWarning: IProgress not found. Please update jupyter and ipywidgets. See https://ipywidgets.readthedocs.io/en/stable/user_install.html\n",
      "  from .autonotebook import tqdm as notebook_tqdm\n",
      "/home/fabiogr/miniconda3/envs/ml_rag/lib/python3.12/site-packages/huggingface_hub/file_download.py:1132: FutureWarning: `resume_download` is deprecated and will be removed in version 1.0.0. Downloads always resume when possible. If you want to force a new download, use `force_download=True`.\n",
      "  warnings.warn(\n",
      "Loading checkpoint shards:  33%|███▎      | 1/3 [00:03<00:06,  3.03s/it]"
     ]
    },
    {
     "ename": "",
     "evalue": "",
     "output_type": "error",
     "traceback": [
      "\u001b[1;31mThe Kernel crashed while executing code in the current cell or a previous cell. \n",
      "\u001b[1;31mPlease review the code in the cell(s) to identify a possible cause of the failure. \n",
      "\u001b[1;31mClick <a href='https://aka.ms/vscodeJupyterKernelCrash'>here</a> for more info. \n",
      "\u001b[1;31mView Jupyter <a href='command:jupyter.viewOutput'>log</a> for further details."
     ]
    }
   ],
   "source": [
    "import torch\n",
    "from transformers import AutoModelForSeq2SeqLM, AutoTokenizer\n",
    "\n",
    "# Load the NLLB model and tokenizer\n",
    "model = AutoModelForSeq2SeqLM.from_pretrained(\"facebook/nllb-200-3.3B\")\n",
    "tokenizer = AutoTokenizer.from_pretrained(\"facebook/nllb-200-3.3B\")\n",
    "\n"
   ]
  },
  {
   "cell_type": "code",
   "execution_count": null,
   "metadata": {},
   "outputs": [],
   "source": [
    "# Define the source language and text\n",
    "src_LANGUAGE = \"en\"  # English\n",
    "src_TEXT = \"Hello, how are you?\"\n",
    "\n",
    "# Tokenize the input text\n",
    "input_ids = tokenizer.encode(src_TEXT, return_tensors=\"pt\")\n",
    "attention_mask = tokenizer.encode(src_TEXT, return_tensors=\"pt\", max_length=128, truncation=True)\n",
    "\n",
    "# Translate the text to the target language\n",
    "tgt_LANGUAGE = \"es\"  # Spanish\n",
    "tgt_TEXT = model.generate(input_ids, attention_mask=attention_mask, max_length=128)\n",
    "tgt_TEXT = tokenizer.decode(tgt_TEXT, skip_special_tokens=True)\n",
    "\n",
    "print(f\"Translated text: {tgt_TEXT}\")"
   ]
  }
 ],
 "metadata": {
  "kernelspec": {
   "display_name": "ml_rag",
   "language": "python",
   "name": "python3"
  },
  "language_info": {
   "codemirror_mode": {
    "name": "ipython",
    "version": 3
   },
   "file_extension": ".py",
   "mimetype": "text/x-python",
   "name": "python",
   "nbconvert_exporter": "python",
   "pygments_lexer": "ipython3",
   "version": "3.12.2"
  }
 },
 "nbformat": 4,
 "nbformat_minor": 2
}
