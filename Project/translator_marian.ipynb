{
 "cells": [
  {
   "cell_type": "code",
   "execution_count": 1,
   "metadata": {},
   "outputs": [],
   "source": [
    "%%capture\n",
    "%pip install pandas\n",
    "%pip install groq\n",
    "%pip install transformers"
   ]
  },
  {
   "cell_type": "code",
   "execution_count": 2,
   "metadata": {},
   "outputs": [
    {
     "name": "stderr",
     "output_type": "stream",
     "text": [
      "/home/fabiogr/miniconda3/envs/ml_proj/lib/python3.12/site-packages/tqdm/auto.py:21: TqdmWarning: IProgress not found. Please update jupyter and ipywidgets. See https://ipywidgets.readthedocs.io/en/stable/user_install.html\n",
      "  from .autonotebook import tqdm as notebook_tqdm\n"
     ]
    }
   ],
   "source": [
    "import torch\n",
    "import groq\n",
    "from groq import Groq\n",
    "from transformers import MarianMTModel, MarianTokenizer\n",
    "\n",
    "import pandas as pd\n",
    "import ast\n",
    "from tqdm import tqdm\n",
    "import time\n",
    "import os"
   ]
  },
  {
   "cell_type": "markdown",
   "metadata": {},
   "source": [
    "### Initialize MarianMTModel"
   ]
  },
  {
   "cell_type": "code",
   "execution_count": 3,
   "metadata": {},
   "outputs": [
    {
     "name": "stdout",
     "output_type": "stream",
     "text": [
      "cuda:0\n"
     ]
    }
   ],
   "source": [
    "device = \"cuda:0\" if torch.cuda.is_available() else \"cpu\"\n",
    "print(device)"
   ]
  },
  {
   "cell_type": "code",
   "execution_count": 4,
   "metadata": {},
   "outputs": [
    {
     "data": {
      "text/plain": [
       "MarianMTModel(\n",
       "  (model): MarianModel(\n",
       "    (shared): Embedding(54776, 1024, padding_idx=54775)\n",
       "    (encoder): MarianEncoder(\n",
       "      (embed_tokens): Embedding(54776, 1024, padding_idx=54775)\n",
       "      (embed_positions): MarianSinusoidalPositionalEmbedding(1024, 1024)\n",
       "      (layers): ModuleList(\n",
       "        (0-5): 6 x MarianEncoderLayer(\n",
       "          (self_attn): MarianAttention(\n",
       "            (k_proj): Linear(in_features=1024, out_features=1024, bias=True)\n",
       "            (v_proj): Linear(in_features=1024, out_features=1024, bias=True)\n",
       "            (q_proj): Linear(in_features=1024, out_features=1024, bias=True)\n",
       "            (out_proj): Linear(in_features=1024, out_features=1024, bias=True)\n",
       "          )\n",
       "          (self_attn_layer_norm): LayerNorm((1024,), eps=1e-05, elementwise_affine=True)\n",
       "          (activation_fn): ReLU()\n",
       "          (fc1): Linear(in_features=1024, out_features=4096, bias=True)\n",
       "          (fc2): Linear(in_features=4096, out_features=1024, bias=True)\n",
       "          (final_layer_norm): LayerNorm((1024,), eps=1e-05, elementwise_affine=True)\n",
       "        )\n",
       "      )\n",
       "    )\n",
       "    (decoder): MarianDecoder(\n",
       "      (embed_tokens): Embedding(54776, 1024, padding_idx=54775)\n",
       "      (embed_positions): MarianSinusoidalPositionalEmbedding(1024, 1024)\n",
       "      (layers): ModuleList(\n",
       "        (0-5): 6 x MarianDecoderLayer(\n",
       "          (self_attn): MarianAttention(\n",
       "            (k_proj): Linear(in_features=1024, out_features=1024, bias=True)\n",
       "            (v_proj): Linear(in_features=1024, out_features=1024, bias=True)\n",
       "            (q_proj): Linear(in_features=1024, out_features=1024, bias=True)\n",
       "            (out_proj): Linear(in_features=1024, out_features=1024, bias=True)\n",
       "          )\n",
       "          (activation_fn): ReLU()\n",
       "          (self_attn_layer_norm): LayerNorm((1024,), eps=1e-05, elementwise_affine=True)\n",
       "          (encoder_attn): MarianAttention(\n",
       "            (k_proj): Linear(in_features=1024, out_features=1024, bias=True)\n",
       "            (v_proj): Linear(in_features=1024, out_features=1024, bias=True)\n",
       "            (q_proj): Linear(in_features=1024, out_features=1024, bias=True)\n",
       "            (out_proj): Linear(in_features=1024, out_features=1024, bias=True)\n",
       "          )\n",
       "          (encoder_attn_layer_norm): LayerNorm((1024,), eps=1e-05, elementwise_affine=True)\n",
       "          (fc1): Linear(in_features=1024, out_features=4096, bias=True)\n",
       "          (fc2): Linear(in_features=4096, out_features=1024, bias=True)\n",
       "          (final_layer_norm): LayerNorm((1024,), eps=1e-05, elementwise_affine=True)\n",
       "        )\n",
       "      )\n",
       "    )\n",
       "  )\n",
       "  (lm_head): Linear(in_features=1024, out_features=54776, bias=False)\n",
       ")"
      ]
     },
     "execution_count": 4,
     "metadata": {},
     "output_type": "execute_result"
    }
   ],
   "source": [
    "model_name = \"Helsinki-NLP/opus-mt-tc-big-en-pt\"\n",
    "tokenizer = MarianTokenizer.from_pretrained(model_name)\n",
    "model = MarianMTModel.from_pretrained(model_name)\n",
    "\n",
    "model.to(device)"
   ]
  },
  {
   "cell_type": "markdown",
   "metadata": {},
   "source": [
    "### Read dataset from CSV"
   ]
  },
  {
   "cell_type": "code",
   "execution_count": 5,
   "metadata": {},
   "outputs": [],
   "source": [
    "df_dev = pd.read_csv('data/dev.csv')\n",
    "df_train = pd.read_csv('data/train.csv')\n",
    "df_tst = pd.read_csv('data/tst.csv')"
   ]
  },
  {
   "cell_type": "code",
   "execution_count": 6,
   "metadata": {},
   "outputs": [
    {
     "data": {
      "text/html": [
       "<div>\n",
       "<style scoped>\n",
       "    .dataframe tbody tr th:only-of-type {\n",
       "        vertical-align: middle;\n",
       "    }\n",
       "\n",
       "    .dataframe tbody tr th {\n",
       "        vertical-align: top;\n",
       "    }\n",
       "\n",
       "    .dataframe thead th {\n",
       "        text-align: right;\n",
       "    }\n",
       "</style>\n",
       "<table border=\"1\" class=\"dataframe\">\n",
       "  <thead>\n",
       "    <tr style=\"text-align: right;\">\n",
       "      <th></th>\n",
       "      <th>Unnamed: 0</th>\n",
       "      <th>context</th>\n",
       "      <th>question</th>\n",
       "      <th>answerA</th>\n",
       "      <th>answerB</th>\n",
       "      <th>answerC</th>\n",
       "      <th>correct</th>\n",
       "    </tr>\n",
       "  </thead>\n",
       "  <tbody>\n",
       "    <tr>\n",
       "      <th>0</th>\n",
       "      <td>0</td>\n",
       "      <td>Tracy didn't go home that evening and resisted...</td>\n",
       "      <td>What does Tracy need to do before this?</td>\n",
       "      <td>make a new plan</td>\n",
       "      <td>Go home and see Riley</td>\n",
       "      <td>Find somewhere to go</td>\n",
       "      <td>C</td>\n",
       "    </tr>\n",
       "    <tr>\n",
       "      <th>1</th>\n",
       "      <td>1</td>\n",
       "      <td>Sydney walked past a homeless woman asking for...</td>\n",
       "      <td>How would you describe Sydney?</td>\n",
       "      <td>sympathetic</td>\n",
       "      <td>like a person who was unable to help</td>\n",
       "      <td>incredulous</td>\n",
       "      <td>A</td>\n",
       "    </tr>\n",
       "    <tr>\n",
       "      <th>2</th>\n",
       "      <td>2</td>\n",
       "      <td>Sasha protected the patients' rights by making...</td>\n",
       "      <td>What will patients want to do next?</td>\n",
       "      <td>write new laws</td>\n",
       "      <td>get petitions signed</td>\n",
       "      <td>live longer</td>\n",
       "      <td>B</td>\n",
       "    </tr>\n",
       "    <tr>\n",
       "      <th>3</th>\n",
       "      <td>3</td>\n",
       "      <td>Jordan was in charge of taking the food on the...</td>\n",
       "      <td>How would Jordan feel afterwards?</td>\n",
       "      <td>horrible that he let his friends down on the c...</td>\n",
       "      <td>happy that he doesn't need to do the cooking o...</td>\n",
       "      <td>very proud and accomplished about the camping ...</td>\n",
       "      <td>A</td>\n",
       "    </tr>\n",
       "    <tr>\n",
       "      <th>4</th>\n",
       "      <td>4</td>\n",
       "      <td>Kendall opened their mouth to speak and what c...</td>\n",
       "      <td>How would you describe Kendall?</td>\n",
       "      <td>a very quiet person</td>\n",
       "      <td>a very passive person</td>\n",
       "      <td>a very aggressive and talkative person</td>\n",
       "      <td>C</td>\n",
       "    </tr>\n",
       "  </tbody>\n",
       "</table>\n",
       "</div>"
      ],
      "text/plain": [
       "   Unnamed: 0                                            context  \\\n",
       "0           0  Tracy didn't go home that evening and resisted...   \n",
       "1           1  Sydney walked past a homeless woman asking for...   \n",
       "2           2  Sasha protected the patients' rights by making...   \n",
       "3           3  Jordan was in charge of taking the food on the...   \n",
       "4           4  Kendall opened their mouth to speak and what c...   \n",
       "\n",
       "                                  question  \\\n",
       "0  What does Tracy need to do before this?   \n",
       "1           How would you describe Sydney?   \n",
       "2      What will patients want to do next?   \n",
       "3        How would Jordan feel afterwards?   \n",
       "4          How would you describe Kendall?   \n",
       "\n",
       "                                             answerA  \\\n",
       "0                                    make a new plan   \n",
       "1                                        sympathetic   \n",
       "2                                     write new laws   \n",
       "3  horrible that he let his friends down on the c...   \n",
       "4                                a very quiet person   \n",
       "\n",
       "                                             answerB  \\\n",
       "0                              Go home and see Riley   \n",
       "1               like a person who was unable to help   \n",
       "2                               get petitions signed   \n",
       "3  happy that he doesn't need to do the cooking o...   \n",
       "4                              a very passive person   \n",
       "\n",
       "                                             answerC correct  \n",
       "0                               Find somewhere to go       C  \n",
       "1                                        incredulous       A  \n",
       "2                                        live longer       B  \n",
       "3  very proud and accomplished about the camping ...       A  \n",
       "4             a very aggressive and talkative person       C  "
      ]
     },
     "execution_count": 6,
     "metadata": {},
     "output_type": "execute_result"
    }
   ],
   "source": [
    "df_dev.head()"
   ]
  },
  {
   "cell_type": "markdown",
   "metadata": {},
   "source": [
    "#### Test Run"
   ]
  },
  {
   "cell_type": "code",
   "execution_count": 7,
   "metadata": {},
   "outputs": [],
   "source": [
    "row_index = 0  # select the row index you're interested in\n",
    "columns_of_interest = ['context', 'question', 'answerA', 'answerB', 'answerC']  # select the columns you want\n",
    "\n",
    "row_values = df_train.loc[row_index, columns_of_interest].tolist()"
   ]
  },
  {
   "cell_type": "code",
   "execution_count": 8,
   "metadata": {},
   "outputs": [
    {
     "data": {
      "text/plain": [
       "['Even though she had homework to do that night, Jesse helped Skylar study.',\n",
       " 'What will Jesse want to do next?',\n",
       " 'read homework to Skylar',\n",
       " 'help Skylar finish',\n",
       " 'skip her studying']"
      ]
     },
     "execution_count": 8,
     "metadata": {},
     "output_type": "execute_result"
    }
   ],
   "source": [
    "row_values"
   ]
  },
  {
   "cell_type": "code",
   "execution_count": 9,
   "metadata": {},
   "outputs": [],
   "source": [
    "def translate(str_list, model):\n",
    "\n",
    "    translated = []\n",
    "    preamble_str = \">>por<< \"\n",
    "    str_list = [preamble_str + s for s in str_list]\n",
    "\n",
    "    translated_tokens = model.generate(**tokenizer(str_list, return_tensors=\"pt\", padding=True).to(device))\n",
    "    for t in translated_tokens:\n",
    "        translated.append(tokenizer.decode(t, skip_special_tokens=True))\n",
    "    \n",
    "    return translated"
   ]
  },
  {
   "cell_type": "code",
   "execution_count": 10,
   "metadata": {},
   "outputs": [],
   "source": [
    "out = translate(row_values, model)"
   ]
  },
  {
   "cell_type": "code",
   "execution_count": 11,
   "metadata": {},
   "outputs": [
    {
     "data": {
      "text/plain": [
       "['Mesmo que ela tivesse trabalho de casa para fazer naquela noite, Jesse ajudou Skylar a estudar.',\n",
       " 'O que Jesse vai querer fazer a seguir?',\n",
       " 'Leia lição de casa para Skylar',\n",
       " 'Ajuda Skylar finish',\n",
       " 'ignorá-la estudando']"
      ]
     },
     "execution_count": 11,
     "metadata": {},
     "output_type": "execute_result"
    }
   ],
   "source": [
    "out"
   ]
  },
  {
   "cell_type": "markdown",
   "metadata": {},
   "source": [
    "### Translate dev base first"
   ]
  },
  {
   "cell_type": "code",
   "execution_count": 12,
   "metadata": {},
   "outputs": [],
   "source": [
    "# New dataframe for the translation\n",
    "df_dev_pt = df_dev.copy()\n",
    "df_dev_pt.loc[:, ['context', 'question', 'answerA', 'answerB', 'answerC']] = None"
   ]
  },
  {
   "cell_type": "code",
   "execution_count": 13,
   "metadata": {},
   "outputs": [
    {
     "data": {
      "text/html": [
       "<div>\n",
       "<style scoped>\n",
       "    .dataframe tbody tr th:only-of-type {\n",
       "        vertical-align: middle;\n",
       "    }\n",
       "\n",
       "    .dataframe tbody tr th {\n",
       "        vertical-align: top;\n",
       "    }\n",
       "\n",
       "    .dataframe thead th {\n",
       "        text-align: right;\n",
       "    }\n",
       "</style>\n",
       "<table border=\"1\" class=\"dataframe\">\n",
       "  <thead>\n",
       "    <tr style=\"text-align: right;\">\n",
       "      <th></th>\n",
       "      <th>Unnamed: 0</th>\n",
       "      <th>context</th>\n",
       "      <th>question</th>\n",
       "      <th>answerA</th>\n",
       "      <th>answerB</th>\n",
       "      <th>answerC</th>\n",
       "      <th>correct</th>\n",
       "    </tr>\n",
       "  </thead>\n",
       "  <tbody>\n",
       "    <tr>\n",
       "      <th>0</th>\n",
       "      <td>0</td>\n",
       "      <td>None</td>\n",
       "      <td>None</td>\n",
       "      <td>None</td>\n",
       "      <td>None</td>\n",
       "      <td>None</td>\n",
       "      <td>C</td>\n",
       "    </tr>\n",
       "    <tr>\n",
       "      <th>1</th>\n",
       "      <td>1</td>\n",
       "      <td>None</td>\n",
       "      <td>None</td>\n",
       "      <td>None</td>\n",
       "      <td>None</td>\n",
       "      <td>None</td>\n",
       "      <td>A</td>\n",
       "    </tr>\n",
       "    <tr>\n",
       "      <th>2</th>\n",
       "      <td>2</td>\n",
       "      <td>None</td>\n",
       "      <td>None</td>\n",
       "      <td>None</td>\n",
       "      <td>None</td>\n",
       "      <td>None</td>\n",
       "      <td>B</td>\n",
       "    </tr>\n",
       "    <tr>\n",
       "      <th>3</th>\n",
       "      <td>3</td>\n",
       "      <td>None</td>\n",
       "      <td>None</td>\n",
       "      <td>None</td>\n",
       "      <td>None</td>\n",
       "      <td>None</td>\n",
       "      <td>A</td>\n",
       "    </tr>\n",
       "    <tr>\n",
       "      <th>4</th>\n",
       "      <td>4</td>\n",
       "      <td>None</td>\n",
       "      <td>None</td>\n",
       "      <td>None</td>\n",
       "      <td>None</td>\n",
       "      <td>None</td>\n",
       "      <td>C</td>\n",
       "    </tr>\n",
       "    <tr>\n",
       "      <th>...</th>\n",
       "      <td>...</td>\n",
       "      <td>...</td>\n",
       "      <td>...</td>\n",
       "      <td>...</td>\n",
       "      <td>...</td>\n",
       "      <td>...</td>\n",
       "      <td>...</td>\n",
       "    </tr>\n",
       "    <tr>\n",
       "      <th>1949</th>\n",
       "      <td>1949</td>\n",
       "      <td>None</td>\n",
       "      <td>None</td>\n",
       "      <td>None</td>\n",
       "      <td>None</td>\n",
       "      <td>None</td>\n",
       "      <td>A</td>\n",
       "    </tr>\n",
       "    <tr>\n",
       "      <th>1950</th>\n",
       "      <td>1950</td>\n",
       "      <td>None</td>\n",
       "      <td>None</td>\n",
       "      <td>None</td>\n",
       "      <td>None</td>\n",
       "      <td>None</td>\n",
       "      <td>B</td>\n",
       "    </tr>\n",
       "    <tr>\n",
       "      <th>1951</th>\n",
       "      <td>1951</td>\n",
       "      <td>None</td>\n",
       "      <td>None</td>\n",
       "      <td>None</td>\n",
       "      <td>None</td>\n",
       "      <td>None</td>\n",
       "      <td>C</td>\n",
       "    </tr>\n",
       "    <tr>\n",
       "      <th>1952</th>\n",
       "      <td>1952</td>\n",
       "      <td>None</td>\n",
       "      <td>None</td>\n",
       "      <td>None</td>\n",
       "      <td>None</td>\n",
       "      <td>None</td>\n",
       "      <td>B</td>\n",
       "    </tr>\n",
       "    <tr>\n",
       "      <th>1953</th>\n",
       "      <td>1953</td>\n",
       "      <td>None</td>\n",
       "      <td>None</td>\n",
       "      <td>None</td>\n",
       "      <td>None</td>\n",
       "      <td>None</td>\n",
       "      <td>B</td>\n",
       "    </tr>\n",
       "  </tbody>\n",
       "</table>\n",
       "<p>1954 rows × 7 columns</p>\n",
       "</div>"
      ],
      "text/plain": [
       "      Unnamed: 0 context question answerA answerB answerC correct\n",
       "0              0    None     None    None    None    None       C\n",
       "1              1    None     None    None    None    None       A\n",
       "2              2    None     None    None    None    None       B\n",
       "3              3    None     None    None    None    None       A\n",
       "4              4    None     None    None    None    None       C\n",
       "...          ...     ...      ...     ...     ...     ...     ...\n",
       "1949        1949    None     None    None    None    None       A\n",
       "1950        1950    None     None    None    None    None       B\n",
       "1951        1951    None     None    None    None    None       C\n",
       "1952        1952    None     None    None    None    None       B\n",
       "1953        1953    None     None    None    None    None       B\n",
       "\n",
       "[1954 rows x 7 columns]"
      ]
     },
     "execution_count": 13,
     "metadata": {},
     "output_type": "execute_result"
    }
   ],
   "source": [
    "df_dev_pt"
   ]
  },
  {
   "cell_type": "code",
   "execution_count": 14,
   "metadata": {},
   "outputs": [],
   "source": [
    "def create_batch(df, step, base):\n",
    "    row_values = []\n",
    "    for i in range(step):\n",
    "        columns_of_interest = ['context', 'question', 'answerA', 'answerB', 'answerC']  # select the columns you want\n",
    "        row_values += (df.loc[base + i, columns_of_interest].tolist())\n",
    "    return row_values"
   ]
  },
  {
   "cell_type": "code",
   "execution_count": 15,
   "metadata": {},
   "outputs": [],
   "source": [
    "batch_size = 1\n",
    "n_cols = 5\n",
    "\n",
    "def translate_base(df, df_pt, model):\n",
    "    for i in tqdm(range(0, len(df), batch_size)):\n",
    "        \n",
    "        strings = create_batch(df, batch_size, i)\n",
    "        translated_strings = translate(strings, model)\n",
    "\n",
    "        df_pt.iat[i, 1] = translated_strings[0]\n",
    "        df_pt.iat[i, 2] = translated_strings[1]\n",
    "        df_pt.iat[i, 3] = translated_strings[2]\n",
    "        df_pt.iat[i, 4] = translated_strings[3]\n",
    "        df_pt.iat[i, 5] = translated_strings[4]"
   ]
  },
  {
   "cell_type": "code",
   "execution_count": 16,
   "metadata": {},
   "outputs": [
    {
     "name": "stderr",
     "output_type": "stream",
     "text": [
      "100%|██████████| 1954/1954 [08:40<00:00,  3.75it/s]\n"
     ]
    }
   ],
   "source": [
    "translate_base(df_dev, df_dev_pt, model)"
   ]
  },
  {
   "cell_type": "code",
   "execution_count": 17,
   "metadata": {},
   "outputs": [
    {
     "data": {
      "text/html": [
       "<div>\n",
       "<style scoped>\n",
       "    .dataframe tbody tr th:only-of-type {\n",
       "        vertical-align: middle;\n",
       "    }\n",
       "\n",
       "    .dataframe tbody tr th {\n",
       "        vertical-align: top;\n",
       "    }\n",
       "\n",
       "    .dataframe thead th {\n",
       "        text-align: right;\n",
       "    }\n",
       "</style>\n",
       "<table border=\"1\" class=\"dataframe\">\n",
       "  <thead>\n",
       "    <tr style=\"text-align: right;\">\n",
       "      <th></th>\n",
       "      <th>Unnamed: 0</th>\n",
       "      <th>context</th>\n",
       "      <th>question</th>\n",
       "      <th>answerA</th>\n",
       "      <th>answerB</th>\n",
       "      <th>answerC</th>\n",
       "      <th>correct</th>\n",
       "    </tr>\n",
       "  </thead>\n",
       "  <tbody>\n",
       "    <tr>\n",
       "      <th>0</th>\n",
       "      <td>0</td>\n",
       "      <td>Tracy não foi para casa naquela noite e resist...</td>\n",
       "      <td>O que Tracy precisa fazer antes disso?</td>\n",
       "      <td>Faça um novo plano</td>\n",
       "      <td>Vá para casa e veja Riley</td>\n",
       "      <td>Encontre um lugar para ir</td>\n",
       "      <td>C</td>\n",
       "    </tr>\n",
       "    <tr>\n",
       "      <th>1</th>\n",
       "      <td>1</td>\n",
       "      <td>Sydney passou por uma mulher sem-teto pedindo ...</td>\n",
       "      <td>Como você descreveria Sydney?</td>\n",
       "      <td>simpático</td>\n",
       "      <td>como uma pessoa que não foi capaz de ajudar</td>\n",
       "      <td>incrédulo</td>\n",
       "      <td>A</td>\n",
       "    </tr>\n",
       "    <tr>\n",
       "      <th>2</th>\n",
       "      <td>2</td>\n",
       "      <td>Sasha protegeu os direitos dos pacientes, faze...</td>\n",
       "      <td>O que os pacientes vão querer fazer a seguir?</td>\n",
       "      <td>Escrever novas leis</td>\n",
       "      <td>obter petições assinadas</td>\n",
       "      <td>viver mais tempo</td>\n",
       "      <td>B</td>\n",
       "    </tr>\n",
       "    <tr>\n",
       "      <th>3</th>\n",
       "      <td>3</td>\n",
       "      <td>Jordan estava encarregado de levar a comida na...</td>\n",
       "      <td>Como Jordan se sentiria depois?</td>\n",
       "      <td>horrível que ele deixou seus amigos para baixo...</td>\n",
       "      <td>feliz que ele não precisa fazer o cozimento na...</td>\n",
       "      <td>muito orgulhoso e realizado sobre a viagem de ...</td>\n",
       "      <td>A</td>\n",
       "    </tr>\n",
       "    <tr>\n",
       "      <th>4</th>\n",
       "      <td>4</td>\n",
       "      <td>Kendall abriu a boca para falar e o que saiu c...</td>\n",
       "      <td>Como você descreveria Kendall?</td>\n",
       "      <td>uma pessoa muito tranquila</td>\n",
       "      <td>Uma pessoa muito passiva</td>\n",
       "      <td>uma pessoa muito agressiva e falante</td>\n",
       "      <td>C</td>\n",
       "    </tr>\n",
       "    <tr>\n",
       "      <th>...</th>\n",
       "      <td>...</td>\n",
       "      <td>...</td>\n",
       "      <td>...</td>\n",
       "      <td>...</td>\n",
       "      <td>...</td>\n",
       "      <td>...</td>\n",
       "      <td>...</td>\n",
       "    </tr>\n",
       "    <tr>\n",
       "      <th>1949</th>\n",
       "      <td>1949</td>\n",
       "      <td>Bailey destruiu o bunker do inimigo e ganhou a...</td>\n",
       "      <td>O que Bailey precisa fazer antes disso?</td>\n",
       "      <td>espionar os movimentos das tropas inimigas</td>\n",
       "      <td>Dê ao inimigo contra-inteligência</td>\n",
       "      <td>Vencer a guerra pelo seu país</td>\n",
       "      <td>A</td>\n",
       "    </tr>\n",
       "    <tr>\n",
       "      <th>1950</th>\n",
       "      <td>1950</td>\n",
       "      <td>Kai contou a Kendall a razão do acidente no la...</td>\n",
       "      <td>Como você descreveria Kai?</td>\n",
       "      <td>Mais à vontade</td>\n",
       "      <td>Como se tivessem tirado algo do peito</td>\n",
       "      <td>Sentindo-se triste</td>\n",
       "      <td>B</td>\n",
       "    </tr>\n",
       "    <tr>\n",
       "      <th>1951</th>\n",
       "      <td>1951</td>\n",
       "      <td>Kai melhorou a imagem de Jan e ela adorou como...</td>\n",
       "      <td>O que Jan vai querer fazer a seguir?</td>\n",
       "      <td>queria ser útil</td>\n",
       "      <td>queria que Jan fosse feliz</td>\n",
       "      <td>enquadrar a imagem</td>\n",
       "      <td>C</td>\n",
       "    </tr>\n",
       "    <tr>\n",
       "      <th>1952</th>\n",
       "      <td>1952</td>\n",
       "      <td>Os filhos da Tracy queriam gelado para que o A...</td>\n",
       "      <td>O que Aubrey precisa fazer antes disso?</td>\n",
       "      <td>Diga aos seus filhos para dizer obrigado</td>\n",
       "      <td>obter sorvete</td>\n",
       "      <td>Obrigado Aubrey</td>\n",
       "      <td>B</td>\n",
       "    </tr>\n",
       "    <tr>\n",
       "      <th>1953</th>\n",
       "      <td>1953</td>\n",
       "      <td>Aubrey o oficial puxou um motorista por excess...</td>\n",
       "      <td>Por que Aubrey fez isso?</td>\n",
       "      <td>Encontre um lugar seguro para puxar a pessoa</td>\n",
       "      <td>para que as pessoas não dirijam para o rápido</td>\n",
       "      <td>Procure o número da placa da pessoa</td>\n",
       "      <td>B</td>\n",
       "    </tr>\n",
       "  </tbody>\n",
       "</table>\n",
       "<p>1954 rows × 7 columns</p>\n",
       "</div>"
      ],
      "text/plain": [
       "      Unnamed: 0                                            context  \\\n",
       "0              0  Tracy não foi para casa naquela noite e resist...   \n",
       "1              1  Sydney passou por uma mulher sem-teto pedindo ...   \n",
       "2              2  Sasha protegeu os direitos dos pacientes, faze...   \n",
       "3              3  Jordan estava encarregado de levar a comida na...   \n",
       "4              4  Kendall abriu a boca para falar e o que saiu c...   \n",
       "...          ...                                                ...   \n",
       "1949        1949  Bailey destruiu o bunker do inimigo e ganhou a...   \n",
       "1950        1950  Kai contou a Kendall a razão do acidente no la...   \n",
       "1951        1951  Kai melhorou a imagem de Jan e ela adorou como...   \n",
       "1952        1952  Os filhos da Tracy queriam gelado para que o A...   \n",
       "1953        1953  Aubrey o oficial puxou um motorista por excess...   \n",
       "\n",
       "                                           question  \\\n",
       "0            O que Tracy precisa fazer antes disso?   \n",
       "1                     Como você descreveria Sydney?   \n",
       "2     O que os pacientes vão querer fazer a seguir?   \n",
       "3                   Como Jordan se sentiria depois?   \n",
       "4                    Como você descreveria Kendall?   \n",
       "...                                             ...   \n",
       "1949        O que Bailey precisa fazer antes disso?   \n",
       "1950                     Como você descreveria Kai?   \n",
       "1951           O que Jan vai querer fazer a seguir?   \n",
       "1952        O que Aubrey precisa fazer antes disso?   \n",
       "1953                       Por que Aubrey fez isso?   \n",
       "\n",
       "                                                answerA  \\\n",
       "0                                    Faça um novo plano   \n",
       "1                                             simpático   \n",
       "2                                   Escrever novas leis   \n",
       "3     horrível que ele deixou seus amigos para baixo...   \n",
       "4                            uma pessoa muito tranquila   \n",
       "...                                                 ...   \n",
       "1949         espionar os movimentos das tropas inimigas   \n",
       "1950                                     Mais à vontade   \n",
       "1951                                    queria ser útil   \n",
       "1952           Diga aos seus filhos para dizer obrigado   \n",
       "1953       Encontre um lugar seguro para puxar a pessoa   \n",
       "\n",
       "                                                answerB  \\\n",
       "0                             Vá para casa e veja Riley   \n",
       "1           como uma pessoa que não foi capaz de ajudar   \n",
       "2                              obter petições assinadas   \n",
       "3     feliz que ele não precisa fazer o cozimento na...   \n",
       "4                              Uma pessoa muito passiva   \n",
       "...                                                 ...   \n",
       "1949                  Dê ao inimigo contra-inteligência   \n",
       "1950              Como se tivessem tirado algo do peito   \n",
       "1951                         queria que Jan fosse feliz   \n",
       "1952                                      obter sorvete   \n",
       "1953      para que as pessoas não dirijam para o rápido   \n",
       "\n",
       "                                                answerC correct  \n",
       "0                             Encontre um lugar para ir       C  \n",
       "1                                             incrédulo       A  \n",
       "2                                      viver mais tempo       B  \n",
       "3     muito orgulhoso e realizado sobre a viagem de ...       A  \n",
       "4                  uma pessoa muito agressiva e falante       C  \n",
       "...                                                 ...     ...  \n",
       "1949                      Vencer a guerra pelo seu país       A  \n",
       "1950                                 Sentindo-se triste       B  \n",
       "1951                                 enquadrar a imagem       C  \n",
       "1952                                    Obrigado Aubrey       B  \n",
       "1953                Procure o número da placa da pessoa       B  \n",
       "\n",
       "[1954 rows x 7 columns]"
      ]
     },
     "execution_count": 17,
     "metadata": {},
     "output_type": "execute_result"
    }
   ],
   "source": [
    "df_dev_pt"
   ]
  },
  {
   "cell_type": "code",
   "execution_count": 18,
   "metadata": {},
   "outputs": [],
   "source": [
    "# Save to file\n",
    "df_dev_pt.to_csv('translated/marian_mt/dev_pt.csv')"
   ]
  },
  {
   "cell_type": "markdown",
   "metadata": {},
   "source": [
    "### Translate training and testing bases too"
   ]
  },
  {
   "cell_type": "code",
   "execution_count": 19,
   "metadata": {},
   "outputs": [
    {
     "name": "stderr",
     "output_type": "stream",
     "text": [
      "100%|██████████| 2224/2224 [09:48<00:00,  3.78it/s]\n",
      "100%|██████████| 33410/33410 [2:26:58<00:00,  3.79it/s]  \n"
     ]
    }
   ],
   "source": [
    "df_tst_pt = df_tst.copy()\n",
    "df_tst_pt.loc[:, ['context', 'question', 'answerA', 'answerB', 'answerC']] = None\n",
    "df_train_pt = df_train.copy()\n",
    "df_train_pt.loc[:, ['context', 'question', 'answerA', 'answerB', 'answerC']] = None\n",
    "\n",
    "translate_base(df_tst, df_tst_pt, model)\n",
    "translate_base(df_train, df_train_pt, model)"
   ]
  },
  {
   "cell_type": "code",
   "execution_count": 20,
   "metadata": {},
   "outputs": [],
   "source": [
    "# Save to file\n",
    "df_tst_pt.to_csv('translated/marian_mt/tst_pt.csv')\n",
    "df_train_pt.to_csv('translated/marian_mt/train_pt.csv')"
   ]
  }
 ],
 "metadata": {
  "kernelspec": {
   "display_name": "ml_rag",
   "language": "python",
   "name": "python3"
  },
  "language_info": {
   "codemirror_mode": {
    "name": "ipython",
    "version": 3
   },
   "file_extension": ".py",
   "mimetype": "text/x-python",
   "name": "python",
   "nbconvert_exporter": "python",
   "pygments_lexer": "ipython3",
   "version": "3.12.2"
  }
 },
 "nbformat": 4,
 "nbformat_minor": 2
}
