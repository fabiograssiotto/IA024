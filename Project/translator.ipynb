{
 "cells": [
  {
   "cell_type": "code",
   "execution_count": 47,
   "metadata": {},
   "outputs": [
    {
     "name": "stdout",
     "output_type": "stream",
     "text": [
      "Requirement already satisfied: groq in /home/fabiogr/miniconda3/envs/ml_rag/lib/python3.12/site-packages (0.5.0)\n",
      "Requirement already satisfied: anyio<5,>=3.5.0 in /home/fabiogr/miniconda3/envs/ml_rag/lib/python3.12/site-packages (from groq) (4.3.0)\n",
      "Requirement already satisfied: distro<2,>=1.7.0 in /home/fabiogr/miniconda3/envs/ml_rag/lib/python3.12/site-packages (from groq) (1.9.0)\n",
      "Requirement already satisfied: httpx<1,>=0.23.0 in /home/fabiogr/miniconda3/envs/ml_rag/lib/python3.12/site-packages (from groq) (0.27.0)\n",
      "Requirement already satisfied: pydantic<3,>=1.9.0 in /home/fabiogr/miniconda3/envs/ml_rag/lib/python3.12/site-packages (from groq) (2.7.1)\n",
      "Requirement already satisfied: sniffio in /home/fabiogr/miniconda3/envs/ml_rag/lib/python3.12/site-packages (from groq) (1.3.1)\n",
      "Requirement already satisfied: typing-extensions<5,>=4.7 in /home/fabiogr/miniconda3/envs/ml_rag/lib/python3.12/site-packages (from groq) (4.11.0)\n",
      "Requirement already satisfied: idna>=2.8 in /home/fabiogr/miniconda3/envs/ml_rag/lib/python3.12/site-packages (from anyio<5,>=3.5.0->groq) (3.7)\n",
      "Requirement already satisfied: certifi in /home/fabiogr/miniconda3/envs/ml_rag/lib/python3.12/site-packages (from httpx<1,>=0.23.0->groq) (2024.2.2)\n",
      "Requirement already satisfied: httpcore==1.* in /home/fabiogr/miniconda3/envs/ml_rag/lib/python3.12/site-packages (from httpx<1,>=0.23.0->groq) (1.0.5)\n",
      "Requirement already satisfied: h11<0.15,>=0.13 in /home/fabiogr/miniconda3/envs/ml_rag/lib/python3.12/site-packages (from httpcore==1.*->httpx<1,>=0.23.0->groq) (0.14.0)\n",
      "Requirement already satisfied: annotated-types>=0.4.0 in /home/fabiogr/miniconda3/envs/ml_rag/lib/python3.12/site-packages (from pydantic<3,>=1.9.0->groq) (0.6.0)\n",
      "Requirement already satisfied: pydantic-core==2.18.2 in /home/fabiogr/miniconda3/envs/ml_rag/lib/python3.12/site-packages (from pydantic<3,>=1.9.0->groq) (2.18.2)\n",
      "Note: you may need to restart the kernel to use updated packages.\n"
     ]
    }
   ],
   "source": [
    "#%%capture\n",
    "%pip install groq"
   ]
  },
  {
   "cell_type": "code",
   "execution_count": 48,
   "metadata": {},
   "outputs": [],
   "source": [
    "import groq\n",
    "from groq import Groq\n",
    "\n",
    "import pandas as pd\n",
    "import ast\n",
    "from tqdm import tqdm\n",
    "import time\n",
    "import os"
   ]
  },
  {
   "cell_type": "code",
   "execution_count": 49,
   "metadata": {},
   "outputs": [],
   "source": [
    "def load_groq_key():\n",
    "    try:\n",
    "        # Open and read the entire content of the file\n",
    "        with open(\"groq-key.txt\", 'r') as file:\n",
    "            contents = file.read()\n",
    "        \n",
    "        return contents\n",
    "    \n",
    "    except FileNotFoundError:\n",
    "        print(f\"The file does not exist.\")\n",
    "        return None\n",
    "    except Exception as e:\n",
    "        # Handle other potential exceptions (e.g., permission errors)\n",
    "        print(f\"An error occurred while reading the file: {str(e)}\")\n",
    "        return None\n",
    "    \n",
    "groq_key = load_groq_key()\n",
    "os.environ[\"GROQ_API_KEY\"] = groq_key\n",
    "\n",
    "client = Groq(\n",
    "    api_key=os.environ.get(\"GROQ_API_KEY\"),\n",
    ")\n",
    "\n",
    "def groq_chat(system, user):\n",
    "    try:\n",
    "        chat_completion = client.chat.completions.create(\n",
    "            messages=[\n",
    "                {\n",
    "                    \"role\": \"system\",\n",
    "                    \"content\": system\n",
    "                },\n",
    "                {\n",
    "                    \"role\": \"user\",\n",
    "                    \"content\": user,\n",
    "                }\n",
    "            ],\n",
    "            model=\"llama3-70b-8192\",\n",
    "            max_tokens=2048,\n",
    "        )\n",
    "\n",
    "    except groq.APIConnectionError as e:\n",
    "        print(\"The server could not be reached\")\n",
    "        print(e.__cause__)  # an underlying Exception, likely raised within httpx.\n",
    "    except groq.RateLimitError as e:\n",
    "        print(\"A 429 status code was received; we should back off a bit.\")\n",
    "    except groq.APIStatusError as e:\n",
    "        print(\"Another non-200-range status code was received\")\n",
    "        print(e.status_code)\n",
    "        print(e.response)\n",
    "    \n",
    "    return chat_completion.choices[0].message.content"
   ]
  },
  {
   "cell_type": "code",
   "execution_count": 50,
   "metadata": {},
   "outputs": [],
   "source": [
    "df_train = pd.read_csv('data/train.csv')"
   ]
  },
  {
   "cell_type": "code",
   "execution_count": 51,
   "metadata": {},
   "outputs": [
    {
     "data": {
      "text/html": [
       "<div>\n",
       "<style scoped>\n",
       "    .dataframe tbody tr th:only-of-type {\n",
       "        vertical-align: middle;\n",
       "    }\n",
       "\n",
       "    .dataframe tbody tr th {\n",
       "        vertical-align: top;\n",
       "    }\n",
       "\n",
       "    .dataframe thead th {\n",
       "        text-align: right;\n",
       "    }\n",
       "</style>\n",
       "<table border=\"1\" class=\"dataframe\">\n",
       "  <thead>\n",
       "    <tr style=\"text-align: right;\">\n",
       "      <th></th>\n",
       "      <th>Unnamed: 0</th>\n",
       "      <th>context</th>\n",
       "      <th>question</th>\n",
       "      <th>answerA</th>\n",
       "      <th>answerB</th>\n",
       "      <th>answerC</th>\n",
       "      <th>correct</th>\n",
       "    </tr>\n",
       "  </thead>\n",
       "  <tbody>\n",
       "    <tr>\n",
       "      <th>0</th>\n",
       "      <td>0</td>\n",
       "      <td>Even though she had homework to do that night,...</td>\n",
       "      <td>What will Jesse want to do next?</td>\n",
       "      <td>read homework to Skylar</td>\n",
       "      <td>help Skylar finish</td>\n",
       "      <td>skip her studying</td>\n",
       "      <td>B</td>\n",
       "    </tr>\n",
       "    <tr>\n",
       "      <th>1</th>\n",
       "      <td>1</td>\n",
       "      <td>After school, Casey met the friend at a bar so...</td>\n",
       "      <td>Why did Casey do this?</td>\n",
       "      <td>have a good idea of the material</td>\n",
       "      <td>goof around with a friend</td>\n",
       "      <td>have a few drinks and leave</td>\n",
       "      <td>A</td>\n",
       "    </tr>\n",
       "    <tr>\n",
       "      <th>2</th>\n",
       "      <td>2</td>\n",
       "      <td>Jesse went quickly to their mother and their m...</td>\n",
       "      <td>How would Jesse feel afterwards?</td>\n",
       "      <td>wasting their time</td>\n",
       "      <td>that they are a good child</td>\n",
       "      <td>that their mother always calls them</td>\n",
       "      <td>B</td>\n",
       "    </tr>\n",
       "    <tr>\n",
       "      <th>3</th>\n",
       "      <td>3</td>\n",
       "      <td>Robin knew that Kai really wanted her to the l...</td>\n",
       "      <td>Why did Robin do this?</td>\n",
       "      <td>paid her to say that she liked it</td>\n",
       "      <td>she never really liked Kai or her fashion</td>\n",
       "      <td>she knew Kai wanted Robin to like the outfit</td>\n",
       "      <td>C</td>\n",
       "    </tr>\n",
       "    <tr>\n",
       "      <th>4</th>\n",
       "      <td>4</td>\n",
       "      <td>Addison slept well last night after playing ba...</td>\n",
       "      <td>Why did Addison do this?</td>\n",
       "      <td>regain her energy</td>\n",
       "      <td>hit a home run</td>\n",
       "      <td>run the bases</td>\n",
       "      <td>A</td>\n",
       "    </tr>\n",
       "  </tbody>\n",
       "</table>\n",
       "</div>"
      ],
      "text/plain": [
       "   Unnamed: 0                                            context  \\\n",
       "0           0  Even though she had homework to do that night,...   \n",
       "1           1  After school, Casey met the friend at a bar so...   \n",
       "2           2  Jesse went quickly to their mother and their m...   \n",
       "3           3  Robin knew that Kai really wanted her to the l...   \n",
       "4           4  Addison slept well last night after playing ba...   \n",
       "\n",
       "                           question                            answerA  \\\n",
       "0  What will Jesse want to do next?            read homework to Skylar   \n",
       "1            Why did Casey do this?   have a good idea of the material   \n",
       "2  How would Jesse feel afterwards?                 wasting their time   \n",
       "3            Why did Robin do this?  paid her to say that she liked it   \n",
       "4          Why did Addison do this?                  regain her energy   \n",
       "\n",
       "                                     answerB  \\\n",
       "0                         help Skylar finish   \n",
       "1                  goof around with a friend   \n",
       "2                 that they are a good child   \n",
       "3  she never really liked Kai or her fashion   \n",
       "4                             hit a home run   \n",
       "\n",
       "                                        answerC correct  \n",
       "0                             skip her studying       B  \n",
       "1                   have a few drinks and leave       A  \n",
       "2           that their mother always calls them       B  \n",
       "3  she knew Kai wanted Robin to like the outfit       C  \n",
       "4                                 run the bases       A  "
      ]
     },
     "execution_count": 51,
     "metadata": {},
     "output_type": "execute_result"
    }
   ],
   "source": [
    "df_train.head()"
   ]
  },
  {
   "cell_type": "code",
   "execution_count": 52,
   "metadata": {},
   "outputs": [],
   "source": [
    "row_index = 0  # select the row index you're interested in\n",
    "columns_of_interest = ['context', 'question', 'answerA', 'answerB', 'answerC']  # select the columns you want\n",
    "\n",
    "row_values = df_train.loc[row_index, columns_of_interest].tolist()"
   ]
  },
  {
   "cell_type": "code",
   "execution_count": 53,
   "metadata": {},
   "outputs": [
    {
     "data": {
      "text/plain": [
       "['Even though she had homework to do that night, Jesse helped Skylar study.',\n",
       " 'What will Jesse want to do next?',\n",
       " 'read homework to Skylar',\n",
       " 'help Skylar finish',\n",
       " 'skip her studying']"
      ]
     },
     "execution_count": 53,
     "metadata": {},
     "output_type": "execute_result"
    }
   ],
   "source": [
    "row_values"
   ]
  },
  {
   "cell_type": "code",
   "execution_count": 54,
   "metadata": {},
   "outputs": [],
   "source": [
    "def translate(str_list):\n",
    "    system = \"Could you please translate the following list of strings to Portuguese, please. \\\\\\\n",
    "              Please reply in JSON format, without any extra text.\"\n",
    "\n",
    "    system = \"\"\"Could you please translate the following list of strings to Portuguese, please.\n",
    "Please reply in JSON format, without any extra text, following this example:\n",
    "{ \"translations\": [\"string 1\", \"string 2\", ...] }\n",
    "Do not add any extra text after the JSON format.\n",
    "\"\"\"\n",
    "    human = str(str_list)\n",
    "    response = groq_chat(system, human)\n",
    "    \n",
    "    return response"
   ]
  },
  {
   "cell_type": "code",
   "execution_count": 55,
   "metadata": {},
   "outputs": [],
   "source": [
    "out = translate(row_values)"
   ]
  },
  {
   "cell_type": "code",
   "execution_count": 56,
   "metadata": {},
   "outputs": [
    {
     "data": {
      "text/plain": [
       "'{ \"translations\": [\"Mesmo tendo tido lição de casa para fazer naquela noite, Jesse ajudou Skylar a estudar.\", \"O que Jesse vai querer fazer em seguida?\", \"ler lição de casa para Skylar\", \"ajudar Skylar a terminar\", \"pular o estudo dela\"] }'"
      ]
     },
     "execution_count": 56,
     "metadata": {},
     "output_type": "execute_result"
    }
   ],
   "source": [
    "out"
   ]
  },
  {
   "cell_type": "code",
   "execution_count": 58,
   "metadata": {},
   "outputs": [],
   "source": [
    "import json\n",
    "data = json.loads(out)"
   ]
  },
  {
   "cell_type": "code",
   "execution_count": 59,
   "metadata": {},
   "outputs": [
    {
     "data": {
      "text/plain": [
       "{'translations': ['Mesmo tendo tido lição de casa para fazer naquela noite, Jesse ajudou Skylar a estudar.',\n",
       "  'O que Jesse vai querer fazer em seguida?',\n",
       "  'ler lição de casa para Skylar',\n",
       "  'ajudar Skylar a terminar',\n",
       "  'pular o estudo dela']}"
      ]
     },
     "execution_count": 59,
     "metadata": {},
     "output_type": "execute_result"
    }
   ],
   "source": [
    "data"
   ]
  },
  {
   "cell_type": "code",
   "execution_count": 60,
   "metadata": {},
   "outputs": [
    {
     "name": "stdout",
     "output_type": "stream",
     "text": [
      "['Mesmo tendo tido lição de casa para fazer naquela noite, Jesse ajudou Skylar a estudar.', 'O que Jesse vai querer fazer em seguida?', 'ler lição de casa para Skylar', 'ajudar Skylar a terminar', 'pular o estudo dela']\n"
     ]
    }
   ],
   "source": [
    "d = data.get('translations')\n",
    "print(d)"
   ]
  },
  {
   "cell_type": "code",
   "execution_count": 62,
   "metadata": {},
   "outputs": [],
   "source": [
    "# New dataframe for the translation\n",
    "df_train_pt = df_train.copy()\n",
    "df_train_pt.loc[:, ['context', 'question', 'answerA', 'answerB', 'answerC']] = None"
   ]
  },
  {
   "cell_type": "code",
   "execution_count": 63,
   "metadata": {},
   "outputs": [
    {
     "data": {
      "text/html": [
       "<div>\n",
       "<style scoped>\n",
       "    .dataframe tbody tr th:only-of-type {\n",
       "        vertical-align: middle;\n",
       "    }\n",
       "\n",
       "    .dataframe tbody tr th {\n",
       "        vertical-align: top;\n",
       "    }\n",
       "\n",
       "    .dataframe thead th {\n",
       "        text-align: right;\n",
       "    }\n",
       "</style>\n",
       "<table border=\"1\" class=\"dataframe\">\n",
       "  <thead>\n",
       "    <tr style=\"text-align: right;\">\n",
       "      <th></th>\n",
       "      <th>Unnamed: 0</th>\n",
       "      <th>context</th>\n",
       "      <th>question</th>\n",
       "      <th>answerA</th>\n",
       "      <th>answerB</th>\n",
       "      <th>answerC</th>\n",
       "      <th>correct</th>\n",
       "    </tr>\n",
       "  </thead>\n",
       "  <tbody>\n",
       "    <tr>\n",
       "      <th>0</th>\n",
       "      <td>0</td>\n",
       "      <td>None</td>\n",
       "      <td>None</td>\n",
       "      <td>None</td>\n",
       "      <td>None</td>\n",
       "      <td>None</td>\n",
       "      <td>B</td>\n",
       "    </tr>\n",
       "    <tr>\n",
       "      <th>1</th>\n",
       "      <td>1</td>\n",
       "      <td>None</td>\n",
       "      <td>None</td>\n",
       "      <td>None</td>\n",
       "      <td>None</td>\n",
       "      <td>None</td>\n",
       "      <td>A</td>\n",
       "    </tr>\n",
       "    <tr>\n",
       "      <th>2</th>\n",
       "      <td>2</td>\n",
       "      <td>None</td>\n",
       "      <td>None</td>\n",
       "      <td>None</td>\n",
       "      <td>None</td>\n",
       "      <td>None</td>\n",
       "      <td>B</td>\n",
       "    </tr>\n",
       "    <tr>\n",
       "      <th>3</th>\n",
       "      <td>3</td>\n",
       "      <td>None</td>\n",
       "      <td>None</td>\n",
       "      <td>None</td>\n",
       "      <td>None</td>\n",
       "      <td>None</td>\n",
       "      <td>C</td>\n",
       "    </tr>\n",
       "    <tr>\n",
       "      <th>4</th>\n",
       "      <td>4</td>\n",
       "      <td>None</td>\n",
       "      <td>None</td>\n",
       "      <td>None</td>\n",
       "      <td>None</td>\n",
       "      <td>None</td>\n",
       "      <td>A</td>\n",
       "    </tr>\n",
       "    <tr>\n",
       "      <th>...</th>\n",
       "      <td>...</td>\n",
       "      <td>...</td>\n",
       "      <td>...</td>\n",
       "      <td>...</td>\n",
       "      <td>...</td>\n",
       "      <td>...</td>\n",
       "      <td>...</td>\n",
       "    </tr>\n",
       "    <tr>\n",
       "      <th>33405</th>\n",
       "      <td>33405</td>\n",
       "      <td>None</td>\n",
       "      <td>None</td>\n",
       "      <td>None</td>\n",
       "      <td>None</td>\n",
       "      <td>None</td>\n",
       "      <td>C</td>\n",
       "    </tr>\n",
       "    <tr>\n",
       "      <th>33406</th>\n",
       "      <td>33406</td>\n",
       "      <td>None</td>\n",
       "      <td>None</td>\n",
       "      <td>None</td>\n",
       "      <td>None</td>\n",
       "      <td>None</td>\n",
       "      <td>C</td>\n",
       "    </tr>\n",
       "    <tr>\n",
       "      <th>33407</th>\n",
       "      <td>33407</td>\n",
       "      <td>None</td>\n",
       "      <td>None</td>\n",
       "      <td>None</td>\n",
       "      <td>None</td>\n",
       "      <td>None</td>\n",
       "      <td>B</td>\n",
       "    </tr>\n",
       "    <tr>\n",
       "      <th>33408</th>\n",
       "      <td>33408</td>\n",
       "      <td>None</td>\n",
       "      <td>None</td>\n",
       "      <td>None</td>\n",
       "      <td>None</td>\n",
       "      <td>None</td>\n",
       "      <td>C</td>\n",
       "    </tr>\n",
       "    <tr>\n",
       "      <th>33409</th>\n",
       "      <td>33409</td>\n",
       "      <td>None</td>\n",
       "      <td>None</td>\n",
       "      <td>None</td>\n",
       "      <td>None</td>\n",
       "      <td>None</td>\n",
       "      <td>B</td>\n",
       "    </tr>\n",
       "  </tbody>\n",
       "</table>\n",
       "<p>33410 rows × 7 columns</p>\n",
       "</div>"
      ],
      "text/plain": [
       "       Unnamed: 0 context question answerA answerB answerC correct\n",
       "0               0    None     None    None    None    None       B\n",
       "1               1    None     None    None    None    None       A\n",
       "2               2    None     None    None    None    None       B\n",
       "3               3    None     None    None    None    None       C\n",
       "4               4    None     None    None    None    None       A\n",
       "...           ...     ...      ...     ...     ...     ...     ...\n",
       "33405       33405    None     None    None    None    None       C\n",
       "33406       33406    None     None    None    None    None       C\n",
       "33407       33407    None     None    None    None    None       B\n",
       "33408       33408    None     None    None    None    None       C\n",
       "33409       33409    None     None    None    None    None       B\n",
       "\n",
       "[33410 rows x 7 columns]"
      ]
     },
     "execution_count": 63,
     "metadata": {},
     "output_type": "execute_result"
    }
   ],
   "source": [
    "df_train_pt"
   ]
  },
  {
   "cell_type": "code",
   "execution_count": 64,
   "metadata": {},
   "outputs": [],
   "source": [
    "def create_batch(df, step, base):\n",
    "    row_values = []\n",
    "    for i in range(step):\n",
    "        columns_of_interest = ['context', 'question', 'answerA', 'answerB', 'answerC']  # select the columns you want\n",
    "        row_values += (df.loc[base + i, columns_of_interest].tolist())\n",
    "    return row_values"
   ]
  },
  {
   "cell_type": "code",
   "execution_count": 65,
   "metadata": {},
   "outputs": [],
   "source": [
    "def count_tokens(list_of_strings):\n",
    "    token_count = 0\n",
    "    for string in list_of_strings:\n",
    "        tokens = string.split()\n",
    "        token_count += len(tokens)\n",
    "    return token_count"
   ]
  },
  {
   "cell_type": "code",
   "execution_count": 66,
   "metadata": {},
   "outputs": [
    {
     "data": {
      "text/plain": [
       "37"
      ]
     },
     "execution_count": 66,
     "metadata": {},
     "output_type": "execute_result"
    }
   ],
   "source": [
    "count_tokens(d)"
   ]
  },
  {
   "cell_type": "code",
   "execution_count": 67,
   "metadata": {},
   "outputs": [
    {
     "name": "stderr",
     "output_type": "stream",
     "text": [
      "  2%|▏         | 38/1671 [11:35<7:04:44, 15.61s/it] "
     ]
    },
    {
     "name": "stdout",
     "output_type": "stream",
     "text": [
      "Error decoding JSON: Expecting ',' delimiter: line 2 column 4353 (char 4354)\n"
     ]
    },
    {
     "name": "stderr",
     "output_type": "stream",
     "text": [
      "  3%|▎         | 42/1671 [13:04<8:27:17, 18.68s/it]"
     ]
    },
    {
     "name": "stdout",
     "output_type": "stream",
     "text": [
      "A 429 status code was received; we should back off a bit.\n"
     ]
    },
    {
     "name": "stderr",
     "output_type": "stream",
     "text": [
      "\n"
     ]
    },
    {
     "ename": "UnboundLocalError",
     "evalue": "cannot access local variable 'chat_completion' where it is not associated with a value",
     "output_type": "error",
     "traceback": [
      "\u001b[0;31m---------------------------------------------------------------------------\u001b[0m",
      "\u001b[0;31mUnboundLocalError\u001b[0m                         Traceback (most recent call last)",
      "Cell \u001b[0;32mIn[67], line 9\u001b[0m\n\u001b[1;32m      6\u001b[0m strings \u001b[38;5;241m=\u001b[39m create_batch(df_train, batch_size, i)\n\u001b[1;32m      7\u001b[0m strings \u001b[38;5;241m=\u001b[39m [s\u001b[38;5;241m.\u001b[39mreplace(\u001b[38;5;124m'\u001b[39m\u001b[38;5;124m\"\u001b[39m\u001b[38;5;124m'\u001b[39m, \u001b[38;5;124m\"\u001b[39m\u001b[38;5;124m'\u001b[39m\u001b[38;5;124m\"\u001b[39m) \u001b[38;5;28;01mfor\u001b[39;00m s \u001b[38;5;129;01min\u001b[39;00m strings]\n\u001b[0;32m----> 9\u001b[0m translated_strings \u001b[38;5;241m=\u001b[39m \u001b[43mtranslate\u001b[49m\u001b[43m(\u001b[49m\u001b[43mstrings\u001b[49m\u001b[43m)\u001b[49m\n\u001b[1;32m     10\u001b[0m \u001b[38;5;28;01mtry\u001b[39;00m:\n\u001b[1;32m     11\u001b[0m     data \u001b[38;5;241m=\u001b[39m json\u001b[38;5;241m.\u001b[39mloads(translated_strings)\n",
      "Cell \u001b[0;32mIn[54], line 11\u001b[0m, in \u001b[0;36mtranslate\u001b[0;34m(str_list)\u001b[0m\n\u001b[1;32m      5\u001b[0m     system \u001b[38;5;241m=\u001b[39m \u001b[38;5;124m\"\"\"\u001b[39m\u001b[38;5;124mCould you please translate the following list of strings to Portuguese, please.\u001b[39m\n\u001b[1;32m      6\u001b[0m \u001b[38;5;124mPlease reply in JSON format, without any extra text, following this example:\u001b[39m\n\u001b[1;32m      7\u001b[0m \u001b[38;5;124m{\u001b[39m\u001b[38;5;124m \u001b[39m\u001b[38;5;124m\"\u001b[39m\u001b[38;5;124mtranslations\u001b[39m\u001b[38;5;124m\"\u001b[39m\u001b[38;5;124m: [\u001b[39m\u001b[38;5;124m\"\u001b[39m\u001b[38;5;124mstring 1\u001b[39m\u001b[38;5;124m\"\u001b[39m\u001b[38;5;124m, \u001b[39m\u001b[38;5;124m\"\u001b[39m\u001b[38;5;124mstring 2\u001b[39m\u001b[38;5;124m\"\u001b[39m\u001b[38;5;124m, ...] }\u001b[39m\n\u001b[1;32m      8\u001b[0m \u001b[38;5;124mDo not add any extra text after the JSON format.\u001b[39m\n\u001b[1;32m      9\u001b[0m \u001b[38;5;124m\"\"\"\u001b[39m\n\u001b[1;32m     10\u001b[0m     human \u001b[38;5;241m=\u001b[39m \u001b[38;5;28mstr\u001b[39m(str_list)\n\u001b[0;32m---> 11\u001b[0m     response \u001b[38;5;241m=\u001b[39m \u001b[43mgroq_chat\u001b[49m\u001b[43m(\u001b[49m\u001b[43msystem\u001b[49m\u001b[43m,\u001b[49m\u001b[43m \u001b[49m\u001b[43mhuman\u001b[49m\u001b[43m)\u001b[49m\n\u001b[1;32m     13\u001b[0m     \u001b[38;5;28;01mreturn\u001b[39;00m response\n",
      "Cell \u001b[0;32mIn[49], line 51\u001b[0m, in \u001b[0;36mgroq_chat\u001b[0;34m(system, user)\u001b[0m\n\u001b[1;32m     48\u001b[0m     \u001b[38;5;28mprint\u001b[39m(e\u001b[38;5;241m.\u001b[39mstatus_code)\n\u001b[1;32m     49\u001b[0m     \u001b[38;5;28mprint\u001b[39m(e\u001b[38;5;241m.\u001b[39mresponse)\n\u001b[0;32m---> 51\u001b[0m \u001b[38;5;28;01mreturn\u001b[39;00m \u001b[43mchat_completion\u001b[49m\u001b[38;5;241m.\u001b[39mchoices[\u001b[38;5;241m0\u001b[39m]\u001b[38;5;241m.\u001b[39mmessage\u001b[38;5;241m.\u001b[39mcontent\n",
      "\u001b[0;31mUnboundLocalError\u001b[0m: cannot access local variable 'chat_completion' where it is not associated with a value"
     ]
    }
   ],
   "source": [
    "batch_size = 20\n",
    "n_cols = 5\n",
    "\n",
    "for i in tqdm(range(0, len(df_train), batch_size)):\n",
    "    time.sleep(2)\n",
    "    strings = create_batch(df_train, batch_size, i)\n",
    "    strings = [s.replace('\"', \"'\") for s in strings]\n",
    "    \n",
    "    translated_strings = translate(strings)\n",
    "    try:\n",
    "        data = json.loads(translated_strings)\n",
    "    except json.JSONDecodeError as e:\n",
    "        print(f\"Error decoding JSON: {e}\")\n",
    "        # skip this batch\n",
    "        continue\n",
    "        \n",
    "    translated_raw = list(data.values())\n",
    "    translated_list = [item for sublist in translated_raw for item in sublist]\n",
    "\n",
    "    # debug\n",
    "    #total_tokens = count_tokens(strings) + count_tokens(translated_list)\n",
    "    #print(f\"Batch: {i/batch_size}  tokens: {total_tokens}\")\n",
    "    \n",
    "    for j in range(0, (int(len(translated_list)/n_cols))):\n",
    "        df_train_pt.iat[i+j, 1] = translated_list[(j*n_cols)]\n",
    "        df_train_pt.iat[i+j, 2] = translated_list[(j*n_cols)+1]\n",
    "        df_train_pt.iat[i+j, 3] = translated_list[(j*n_cols)+2]\n",
    "        df_train_pt.iat[i+j, 4] = translated_list[(j*n_cols)+3]\n",
    "        df_train_pt.iat[i+j, 5] = translated_list[(j*n_cols)+4]"
   ]
  },
  {
   "cell_type": "code",
   "execution_count": 46,
   "metadata": {},
   "outputs": [
    {
     "data": {
      "text/html": [
       "<div>\n",
       "<style scoped>\n",
       "    .dataframe tbody tr th:only-of-type {\n",
       "        vertical-align: middle;\n",
       "    }\n",
       "\n",
       "    .dataframe tbody tr th {\n",
       "        vertical-align: top;\n",
       "    }\n",
       "\n",
       "    .dataframe thead th {\n",
       "        text-align: right;\n",
       "    }\n",
       "</style>\n",
       "<table border=\"1\" class=\"dataframe\">\n",
       "  <thead>\n",
       "    <tr style=\"text-align: right;\">\n",
       "      <th></th>\n",
       "      <th>Unnamed: 0</th>\n",
       "      <th>context</th>\n",
       "      <th>question</th>\n",
       "      <th>answerA</th>\n",
       "      <th>answerB</th>\n",
       "      <th>answerC</th>\n",
       "      <th>correct</th>\n",
       "    </tr>\n",
       "  </thead>\n",
       "  <tbody>\n",
       "    <tr>\n",
       "      <th>0</th>\n",
       "      <td>0</td>\n",
       "      <td>Mesmo que tivesse dever de casa para fazer naq...</td>\n",
       "      <td>O que Jesse vai querer fazer em seguida?</td>\n",
       "      <td>ler o dever de casa para Skylar</td>\n",
       "      <td>ajudar Skylar a terminar</td>\n",
       "      <td>pular seu estudo</td>\n",
       "      <td>B</td>\n",
       "    </tr>\n",
       "    <tr>\n",
       "      <th>1</th>\n",
       "      <td>1</td>\n",
       "      <td>Depois da escola, Casey se encontrou com o ami...</td>\n",
       "      <td>Por que Casey fez isso?</td>\n",
       "      <td>ter uma boa ideia do material</td>\n",
       "      <td>brincar com um amigo</td>\n",
       "      <td>ter uns drinques e ir embora</td>\n",
       "      <td>A</td>\n",
       "    </tr>\n",
       "    <tr>\n",
       "      <th>2</th>\n",
       "      <td>2</td>\n",
       "      <td>Jesse foi rapidamente falar com a mãe e a mãe ...</td>\n",
       "      <td>Como Jesse se sentiria em seguida?</td>\n",
       "      <td>estando a perder seu tempo</td>\n",
       "      <td>que é uma boa criança</td>\n",
       "      <td>que a mãe sempre a chama</td>\n",
       "      <td>B</td>\n",
       "    </tr>\n",
       "    <tr>\n",
       "      <th>3</th>\n",
       "      <td>3</td>\n",
       "      <td>Robin sabia que Kai realmente queria que ela g...</td>\n",
       "      <td>Por que Robin fez isso?</td>\n",
       "      <td>foi paga para dizer que gostava</td>\n",
       "      <td>nunca gostou de Kai ou de sua moda</td>\n",
       "      <td>sabia que Kai queria que Robin gostasse do traje</td>\n",
       "      <td>C</td>\n",
       "    </tr>\n",
       "    <tr>\n",
       "      <th>4</th>\n",
       "      <td>4</td>\n",
       "      <td>Addison dormiu bem na noite passada após jogar...</td>\n",
       "      <td>Por que Addison fez isso?</td>\n",
       "      <td>recuperar sua energia</td>\n",
       "      <td>marcar um home run</td>\n",
       "      <td>correr as bases</td>\n",
       "      <td>A</td>\n",
       "    </tr>\n",
       "    <tr>\n",
       "      <th>...</th>\n",
       "      <td>...</td>\n",
       "      <td>...</td>\n",
       "      <td>...</td>\n",
       "      <td>...</td>\n",
       "      <td>...</td>\n",
       "      <td>...</td>\n",
       "      <td>...</td>\n",
       "    </tr>\n",
       "    <tr>\n",
       "      <th>33405</th>\n",
       "      <td>33405</td>\n",
       "      <td>None</td>\n",
       "      <td>None</td>\n",
       "      <td>None</td>\n",
       "      <td>None</td>\n",
       "      <td>None</td>\n",
       "      <td>C</td>\n",
       "    </tr>\n",
       "    <tr>\n",
       "      <th>33406</th>\n",
       "      <td>33406</td>\n",
       "      <td>None</td>\n",
       "      <td>None</td>\n",
       "      <td>None</td>\n",
       "      <td>None</td>\n",
       "      <td>None</td>\n",
       "      <td>C</td>\n",
       "    </tr>\n",
       "    <tr>\n",
       "      <th>33407</th>\n",
       "      <td>33407</td>\n",
       "      <td>None</td>\n",
       "      <td>None</td>\n",
       "      <td>None</td>\n",
       "      <td>None</td>\n",
       "      <td>None</td>\n",
       "      <td>B</td>\n",
       "    </tr>\n",
       "    <tr>\n",
       "      <th>33408</th>\n",
       "      <td>33408</td>\n",
       "      <td>None</td>\n",
       "      <td>None</td>\n",
       "      <td>None</td>\n",
       "      <td>None</td>\n",
       "      <td>None</td>\n",
       "      <td>C</td>\n",
       "    </tr>\n",
       "    <tr>\n",
       "      <th>33409</th>\n",
       "      <td>33409</td>\n",
       "      <td>None</td>\n",
       "      <td>None</td>\n",
       "      <td>None</td>\n",
       "      <td>None</td>\n",
       "      <td>None</td>\n",
       "      <td>B</td>\n",
       "    </tr>\n",
       "  </tbody>\n",
       "</table>\n",
       "<p>33410 rows × 7 columns</p>\n",
       "</div>"
      ],
      "text/plain": [
       "       Unnamed: 0                                            context  \\\n",
       "0               0  Mesmo que tivesse dever de casa para fazer naq...   \n",
       "1               1  Depois da escola, Casey se encontrou com o ami...   \n",
       "2               2  Jesse foi rapidamente falar com a mãe e a mãe ...   \n",
       "3               3  Robin sabia que Kai realmente queria que ela g...   \n",
       "4               4  Addison dormiu bem na noite passada após jogar...   \n",
       "...           ...                                                ...   \n",
       "33405       33405                                               None   \n",
       "33406       33406                                               None   \n",
       "33407       33407                                               None   \n",
       "33408       33408                                               None   \n",
       "33409       33409                                               None   \n",
       "\n",
       "                                       question  \\\n",
       "0      O que Jesse vai querer fazer em seguida?   \n",
       "1                       Por que Casey fez isso?   \n",
       "2            Como Jesse se sentiria em seguida?   \n",
       "3                       Por que Robin fez isso?   \n",
       "4                     Por que Addison fez isso?   \n",
       "...                                         ...   \n",
       "33405                                      None   \n",
       "33406                                      None   \n",
       "33407                                      None   \n",
       "33408                                      None   \n",
       "33409                                      None   \n",
       "\n",
       "                               answerA                             answerB  \\\n",
       "0      ler o dever de casa para Skylar            ajudar Skylar a terminar   \n",
       "1        ter uma boa ideia do material                brincar com um amigo   \n",
       "2           estando a perder seu tempo               que é uma boa criança   \n",
       "3      foi paga para dizer que gostava  nunca gostou de Kai ou de sua moda   \n",
       "4                recuperar sua energia                  marcar um home run   \n",
       "...                                ...                                 ...   \n",
       "33405                             None                                None   \n",
       "33406                             None                                None   \n",
       "33407                             None                                None   \n",
       "33408                             None                                None   \n",
       "33409                             None                                None   \n",
       "\n",
       "                                                answerC correct  \n",
       "0                                      pular seu estudo       B  \n",
       "1                          ter uns drinques e ir embora       A  \n",
       "2                              que a mãe sempre a chama       B  \n",
       "3      sabia que Kai queria que Robin gostasse do traje       C  \n",
       "4                                       correr as bases       A  \n",
       "...                                                 ...     ...  \n",
       "33405                                              None       C  \n",
       "33406                                              None       C  \n",
       "33407                                              None       B  \n",
       "33408                                              None       C  \n",
       "33409                                              None       B  \n",
       "\n",
       "[33410 rows x 7 columns]"
      ]
     },
     "metadata": {},
     "output_type": "display_data"
    }
   ],
   "source": [
    "display(df_train_pt)"
   ]
  },
  {
   "cell_type": "code",
   "execution_count": null,
   "metadata": {},
   "outputs": [],
   "source": [
    "# Save to file\n",
    "df_train_pt.to_csv('data/train_pt.csv')"
   ]
  }
 ],
 "metadata": {
  "kernelspec": {
   "display_name": "ml_rag",
   "language": "python",
   "name": "python3"
  },
  "language_info": {
   "codemirror_mode": {
    "name": "ipython",
    "version": 3
   },
   "file_extension": ".py",
   "mimetype": "text/x-python",
   "name": "python",
   "nbconvert_exporter": "python",
   "pygments_lexer": "ipython3",
   "version": "3.12.2"
  }
 },
 "nbformat": 4,
 "nbformat_minor": 2
}
