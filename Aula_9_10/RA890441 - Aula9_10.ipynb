{
 "cells": [
  {
   "cell_type": "markdown",
   "metadata": {},
   "source": [
    "Nome: Fabio Grassiotto  \n",
    "RA: 890441\n",
    "\n",
    "# Aula 9_10 - Implementar a ReAct  com LLaMa 3 70B (groq)\n",
    "\n",
    "- Testar no dataset do IIRC - 50 primeiras perguntas com resposta (test_questions.json em anexo)  \n",
    "- Usar o prompt do LLaMAIndex: https://github.com/run-llama/llama_index/blob/a87b63fce3cc3d24dc71ae170a8d431440025565/llama_index/agent/react/prompts.py  \n",
    "- Salvar as respostas finais das 50 perguntas no JSON para exercício futuro de avaliação  \n",
    "- Instruir o modelo a seguir a sequência Thougth, Action, Input, Observation (a observação não é do próprio modelo, mas resultado da busca)  \n",
    "- É necessário usar o parâmetro stop_sequence=\"Observation:\", para o modelo parar de gerar texto e esperar o retorno da busca. Implementem o código da busca e retornem os top-k documentos pro modelo (sugestão: k=5).  \n",
    "- Instruir o modelo agir passo-a-passo (decomposição da pergunta).  \n",
    "- Podem usar o LangChain, LLaMAindex ou outro framework. Ou implementar na mão.  \n",
    "- Usar a busca como ferramenta  \n",
    "- Usar o BM25 como buscador (repetir indexação do exercício passado)  \n",
    "- Usar a indexação do Visconde: https://github.com/neuralmind-ai/visconde/blob/main/iirc_create_indices.ipyn  \n"
   ]
  },
  {
   "cell_type": "markdown",
   "metadata": {},
   "source": [
    "## Setup Environment\n",
    "### Install packages"
   ]
  },
  {
   "cell_type": "code",
   "execution_count": 8,
   "metadata": {},
   "outputs": [],
   "source": [
    "%%capture\n",
    "%pip install -q torch\n",
    "%pip install groq\n",
    "%pip install -U sentence-transformers\n",
    "%pip install faiss-cpu\n",
    "%pip install spacy\n",
    "%pip install pandas\n",
    "%python -m spacy download en_core_web_sm"
   ]
  },
  {
   "cell_type": "markdown",
   "metadata": {},
   "source": [
    "### Imports"
   ]
  },
  {
   "cell_type": "code",
   "execution_count": 9,
   "metadata": {},
   "outputs": [],
   "source": [
    "import os\n",
    "import sys\n",
    "import torch\n",
    "import faiss\n",
    "import json\n",
    "from transformers import AutoTokenizer, AutoModel\n",
    "from sklearn.metrics.pairwise import cosine_similarity\n",
    "from sentence_transformers import SentenceTransformer\n",
    "import groq\n",
    "from groq import Groq\n",
    "from bs4 import BeautifulSoup\n",
    "import warnings\n",
    "warnings.simplefilter('ignore')\n",
    "from collections import Counter\n",
    "import string\n",
    "import re\n",
    "import spacy\n",
    "from tqdm import tqdm"
   ]
  },
  {
   "cell_type": "markdown",
   "metadata": {},
   "source": [
    "### Collab setup"
   ]
  },
  {
   "cell_type": "code",
   "execution_count": 10,
   "metadata": {},
   "outputs": [
    {
     "name": "stdout",
     "output_type": "stream",
     "text": [
      "cuda\n"
     ]
    }
   ],
   "source": [
    "# Colab environment\n",
    "IN_COLAB = 'google.colab' in sys.modules\n",
    "\n",
    "if (IN_COLAB):\n",
    "    # Google Drive\n",
    "    from google.colab import drive\n",
    "    drive.mount('/content/drive', force_remount=True)\n",
    "\n",
    "    project_folder=\"/content/drive/MyDrive/Classes/IA024/Aula_9_10\"\n",
    "    os.chdir(project_folder)\n",
    "    !ls -la\n",
    "\n",
    "device = 'cuda' if torch.cuda.is_available() else 'cpu'\n",
    "print(device)"
   ]
  },
  {
   "cell_type": "markdown",
   "metadata": {},
   "source": [
    "### Groq API"
   ]
  },
  {
   "cell_type": "code",
   "execution_count": 11,
   "metadata": {},
   "outputs": [],
   "source": [
    "def load_groq_key():\n",
    "    try:\n",
    "        # Open and read the entire content of the file\n",
    "        with open(\"groq-key.txt\", 'r') as file:\n",
    "            contents = file.read()\n",
    "        \n",
    "        return contents\n",
    "    \n",
    "    except FileNotFoundError:\n",
    "        print(f\"The file does not exist.\")\n",
    "        return None\n",
    "    except Exception as e:\n",
    "        # Handle other potential exceptions (e.g., permission errors)\n",
    "        print(f\"An error occurred while reading the file: {str(e)}\")\n",
    "        return None\n",
    "    \n",
    "groq_key = load_groq_key()\n",
    "os.environ[\"GROQ_API_KEY\"] = groq_key\n",
    "\n",
    "client = Groq(\n",
    "    api_key=os.environ.get(\"GROQ_API_KEY\"),\n",
    ")\n",
    "\n",
    "def groq_chat(content):\n",
    "    try:\n",
    "\n",
    "        chat_completion = client.chat.completions.create(\n",
    "            #\n",
    "            # Required parameters\n",
    "            #\n",
    "            messages=[\n",
    "                # Set an optional system message. This sets the behavior of the\n",
    "                # assistant and can be used to provide specific instructions for\n",
    "                # how it should behave throughout the conversation.\n",
    "                {\n",
    "                    \"role\": \"system\",\n",
    "                    \"content\": \"you are a helpful assistant.\"\n",
    "                },\n",
    "                # Set a user message for the assistant to respond to.\n",
    "                {\n",
    "                    \"role\": \"user\",\n",
    "                    \"content\": content,\n",
    "                }\n",
    "            ],\n",
    "\n",
    "            # The language model which will generate the completion.\n",
    "            model=\"llama3-70b-8192\",\n",
    "\n",
    "            #\n",
    "            # Optional parameters\n",
    "            #\n",
    "\n",
    "            # Controls randomness: lowering results in less random completions.\n",
    "            # As the temperature approaches zero, the model will become deterministic\n",
    "            # and repetitive.\n",
    "            temperature=0,\n",
    "\n",
    "            # The maximum number of tokens to generate. Requests can use up to\n",
    "            # 32,768 tokens shared between prompt and completion.\n",
    "            #max_tokens=10,\n",
    "\n",
    "            # Controls diversity via nucleus sampling: 0.5 means half of all\n",
    "            # likelihood-weighted options are considered.\n",
    "            top_p=1,\n",
    "\n",
    "            # A stop sequence is a predefined or user-specified text string that\n",
    "            # signals an AI to stop generating content, ensuring its responses\n",
    "            # remain focused and concise. Examples include punctuation marks and\n",
    "            # markers like \"[end]\".\n",
    "            stop=None,\n",
    "\n",
    "            # If set, partial message deltas will be sent.\n",
    "            stream=False,\n",
    "        )\n",
    "\n",
    "    except groq.APIConnectionError as e:\n",
    "        print(\"The server could not be reached\")\n",
    "        print(e.__cause__)  # an underlying Exception, likely raised within httpx.\n",
    "    except groq.RateLimitError as e:\n",
    "        print(\"A 429 status code was received; we should back off a bit.\")\n",
    "    except groq.APIStatusError as e:\n",
    "        print(\"Another non-200-range status code was received\")\n",
    "        print(e.status_code)\n",
    "        print(e.response)\n",
    "    \n",
    "    return chat_completion.choices[0].message.content"
   ]
  },
  {
   "cell_type": "markdown",
   "metadata": {},
   "source": [
    "## Globals"
   ]
  },
  {
   "cell_type": "code",
   "execution_count": 12,
   "metadata": {},
   "outputs": [],
   "source": [
    "NUM_QUESTIONS = 50\n",
    "model_name = \"sentence-transformers/msmarco-MiniLM-L-6-v3\""
   ]
  },
  {
   "cell_type": "markdown",
   "metadata": {},
   "source": [
    "## IIRC Dataset"
   ]
  },
  {
   "cell_type": "markdown",
   "metadata": {},
   "source": [
    "### Load and parse"
   ]
  },
  {
   "cell_type": "code",
   "execution_count": 13,
   "metadata": {},
   "outputs": [],
   "source": [
    "test_dataset  = json.load(open('dataset/test_questions.json', 'r'))"
   ]
  },
  {
   "cell_type": "code",
   "execution_count": 21,
   "metadata": {},
   "outputs": [
    {
     "data": {
      "text/plain": [
       "{'answer': {'answer_value': '30', 'type': 'value', 'answer_unit': 'years'},\n",
       " 'question': 'How old was Messe when the First World War started?',\n",
       " 'context': [{'text': 'Messe was born in Mesagne, in the Province of Brindisi in the Apulia region of Italy on 10 December 1883.',\n",
       "   'passage': 'main',\n",
       "   'indices': [0, 105]},\n",
       "  {'text': 'a global war originating in Europe that lasted from 28 July 1914 to 11 November 1918',\n",
       "   'passage': 'World War I',\n",
       "   'indices': [178, 262]}],\n",
       " 'question_links': ['World War I'],\n",
       " 'title': 'Giovanni Messe'}"
      ]
     },
     "execution_count": 21,
     "metadata": {},
     "output_type": "execute_result"
    }
   ],
   "source": [
    "test_dataset[2]"
   ]
  },
  {
   "cell_type": "code",
   "execution_count": 24,
   "metadata": {},
   "outputs": [
    {
     "data": {
      "text/plain": [
       "'Messe was born in Mesagne, in the Province of Brindisi in the Apulia region of Italy on 10 December 1883.'"
      ]
     },
     "execution_count": 24,
     "metadata": {},
     "output_type": "execute_result"
    }
   ],
   "source": [
    "test_dataset[2]['context'][0]['text']"
   ]
  },
  {
   "cell_type": "code",
   "execution_count": 26,
   "metadata": {},
   "outputs": [],
   "source": [
    "# Grab the first 50 questions with an answer\n",
    "questions_to_ask = []\n",
    "questions_found = 0\n",
    "\n",
    "documents = []\n",
    "all_titles = []\n",
    "\n",
    "for item in test_dataset:\n",
    "  \n",
    "  question = item['question']\n",
    "  answer = item['answer']\n",
    "  answer_type = answer['type']\n",
    "\n",
    "  if answer_type == 'binary' or answer_type == 'value':\n",
    "    final_answer = answer['answer_value']\n",
    "  elif answer_type == 'span':\n",
    "    final_answer = answer['answer_spans'][0]['text']\n",
    "  elif answer_type == 'none':\n",
    "    final_answer = 'none'\n",
    "  else:\n",
    "    final_answer = 'An error perhaps, bad type'\n",
    "    print(answer_type)\n",
    "\n",
    "  if (final_answer == 'none'):\n",
    "    # Skip this one.\n",
    "    continue\n",
    "  else:\n",
    "    # Thats a good question, grap the document and title associated with it.\n",
    "    if item['title'].lower() not in all_titles:\n",
    "      context_list = item['context']\n",
    "      for context in context_list:\n",
    "        text = context['text']\n",
    "        # clean up html\n",
    "        soup = BeautifulSoup(text, 'html.parser')\n",
    "        clean_text = soup.get_text()\n",
    "\n",
    "        documents.append({\n",
    "                \"title\": item['title'],\n",
    "                \"content\": clean_text\n",
    "            }\n",
    "        )\n",
    "        all_titles.append(item['title'].lower())\n",
    "\n",
    "    questions_to_ask.append({\"Question\": question, \"Answer\": final_answer})\n",
    "    questions_found += 1\n",
    "    if (questions_found == NUM_QUESTIONS):\n",
    "      # found our questions\n",
    "      break"
   ]
  },
  {
   "cell_type": "code",
   "execution_count": 27,
   "metadata": {},
   "outputs": [
    {
     "data": {
      "text/plain": [
       "[{'title': 'Palici', 'content': 'he Palici the sons of Zeus'},\n",
       " {'title': 'Palici', 'content': 'in Greek mythology'},\n",
       " {'title': 'Palici',\n",
       "  'content': 'Zeus (British English , North American English ; , Zeús ) is the sky and thunder god in ancient Greek religion'},\n",
       " {'title': 'Giovanni Messe',\n",
       "  'content': 'he became aide-de-camp to King Victor Emmanuel III, holding this post from 1923 to 1927'},\n",
       " {'title': 'Giovanni Messe',\n",
       "  'content': 'a global war originating in Europe that lasted from 28 July 1914 to 11 November 1918'},\n",
       " {'title': 'Casino Royale (1967 film)',\n",
       "  'content': \"Angela Scoular appeared as Ruby Bartlett in On Her Majesty's Secret Service\"},\n",
       " {'title': 'Casino Royale (1967 film)',\n",
       "  'content': \"laying Ruby in 1969's On Her Majesty's Secret Service\"},\n",
       " {'title': 'Casino Royale (1967 film)',\n",
       "  'content': 'Scoular played Buttercup in the 1967'},\n",
       " {'title': 'Chris Brunt',\n",
       "  'content': 'Brunt returned to first-team action after eight months out with an anterior cruciate knee'},\n",
       " {'title': 'Chris Brunt', 'content': 'at The Hawthorns on 15 October 2016'},\n",
       " {'title': 'Chris Brunt',\n",
       "  'content': 'The Hawthorns is an all-seater football stadium in West Bromwich, West Midlands, England, with a capacity of 26,688'},\n",
       " {'title': 'Wilhelm Müller',\n",
       "  'content': 'Wilhelm Müller was born on 7 October 1794 at Dessau'},\n",
       " {'title': 'Wilhelm Müller',\n",
       "  'content': 'Dessau is a town and former municipality in Germany'},\n",
       " {'title': 'Hugo Pesce',\n",
       "  'content': 'and studied medicine at the University of Genoa in Italy.'},\n",
       " {'title': 'Hugo Pesce',\n",
       "  'content': ' It is located in the city of Genoa and regional Metropolitan City of Genoa, on the Italian Riviera in the Liguria region of northwestern Italy.'},\n",
       " {'title': 'Turks and Caicos Islands national cricket team',\n",
       "  'content': 'Cricket is the national sport of the Turks and Caicos Islands. They became an affiliate member of the International Cricket Council (ICC) in 2002'},\n",
       " {'title': 'Turks and Caicos Islands national cricket team',\n",
       "  'content': ' It was founded as the Imperial Cricket Conference in 1909'},\n",
       " {'title': 'Glen Sather',\n",
       "  'content': 'the New York Rangers of the National Hockey League (NHL)'},\n",
       " {'title': 'Glen Sather',\n",
       "  'content': 'The National Hockey League (NHL; ) is a professional ice hockey league in North America, currently comprising 31 teams: 24 in the United States and 7 in Canada.'},\n",
       " {'title': 'Nightmare (Avenged Sevenfold album)',\n",
       "  'content': 'It was produced by Mike Elizondo and mixed in New York City by noted engineer Andy Wallace.'},\n",
       " {'title': 'Nightmare (Avenged Sevenfold album)',\n",
       "  'content': 'It was produced by Mike Elizondo and mixed in New York City by noted engineer Andy Wallace.'},\n",
       " {'title': 'Nightmare (Avenged Sevenfold album)',\n",
       "  'content': 'The present mayor is Bill de Blasio'},\n",
       " {'title': 'Nick Vlastuin',\n",
       "  'content': \"Vlastuin started the 2019 season with appearances in each of the club's two pre-season matches\"},\n",
       " {'title': 'Nick Vlastuin',\n",
       "  'content': \"He was fully fit for the club's season opening match against , where he contributed 14 disposals. The loss of All-Australian defender and teammate Alex Rance to an ACL injury in that match however, would force Vlastuin into a more defensive role\"},\n",
       " {'title': 'Nick Vlastuin',\n",
       "  'content': \"Rance was drafted by with the club's second selection and the 18th overall in the 2007 AFL national draft.\"},\n",
       " {'title': 'Nick Vlastuin', 'content': '2019 season'},\n",
       " {'title': 'Nick Vlastuin',\n",
       "  'content': 'his 200th AFL match in the season opening match against Carlton at the MCG in late March. Late in the third quarter of that match, Rance landed awkwardly during a marking contest and severely injured his right knee in what coach Damien Hardwick labelled a \"suspected ACL (tear)\"'},\n",
       " {'title': 'Baghdad Jewish Arabic',\n",
       "  'content': 'Baghdad Jewish Arabic (, ) or autonym haki mal yihud (Jewish Speech) or el-haki malna (our speech) is the Arabic dialect spoken by the Jews of Baghdad'},\n",
       " {'title': 'Baghdad Jewish Arabic',\n",
       "  'content': 'Baghdad (; ) is the capital of Iraq'},\n",
       " {'title': 'Payson D. Sheets',\n",
       "  'content': 'His largest known body of research comes from the archaeology of the Maya site of Cerén, or Joya de Cerén, in the Zapotitan Valley of El Salvador which has been ongoing since its discovery in 1978.'},\n",
       " {'title': 'Payson D. Sheets', 'content': 'The site was discovered in 1976'},\n",
       " {'title': 'Payson D. Sheets',\n",
       "  'content': 'Pompeii, along with Herculaneum and many villas in the surrounding area (e.g. at Boscoreale, Stabiae), was buried under 4 to 6 m of volcanic ash and pumice in the eruption of Mount Vesuvius in AD 79.'},\n",
       " {'title': 'Don Branby',\n",
       "  'content': 'Branby played college football at the end position for the Colorado Buffaloes football team.'},\n",
       " {'title': 'Don Branby',\n",
       "  'content': 'Branby played college football at the end position for the Colorado Buffaloes football team'},\n",
       " {'title': 'Christopher Harison',\n",
       "  'content': 'He first arrived in the Cape of Good Hope in 1849 as a captain in the Perthshire Regiment'},\n",
       " {'title': 'Christopher Harison',\n",
       "  'content': 'The 73rd Regiment of Foot was an infantry regiment of the British Army, raised in 1780. '},\n",
       " {'title': 'Christopher Tookey',\n",
       "  'content': 'Tookey called for readers to boycott the products of distributor Sony,'},\n",
       " {'title': 'Christopher Tookey',\n",
       "  'content': 'On 7 May 1946, Ibuka was joined by Akio Morita to establish a company called (Tokyo Telecommunications Engineering Corporation). The company built Japan\\'s first tape recorder, called the Type-G. In 1958, the company changed its name to \"Sony\".\\n\\n'},\n",
       " {'title': 'Tony La Russa', 'content': 'After a 2004 regular season'},\n",
       " {'title': 'Tony La Russa',\n",
       "  'content': \"La Russa's Cardinals defeated the Los Angeles Dodgers in the National League Division Series, 3 games to 1.\"},\n",
       " {'title': 'Tony La Russa',\n",
       "  'content': 'Jason Isringhausen closed out the game after allowing a home run to Tom Wilson in the ninth.'},\n",
       " {'title': 'New Regime (American band)',\n",
       "  'content': 'That landmark concert was held at the Grand Olympic Auditorium on April 13, 1984.'},\n",
       " {'title': 'New Regime (American band)',\n",
       "  'content': 'The venue was built in 1924'},\n",
       " {'title': 'Jimmy Glenn',\n",
       "  'content': 'He would remain with the Rhinos until May 2001.'},\n",
       " {'title': 'Jimmy Glenn',\n",
       "  'content': 'The Rochester Rhinos are an American professional soccer team based in Rochester, New York, United States'},\n",
       " {'title': 'Ron Ashton',\n",
       "  'content': 'Ashton played junior hockey for his hometown Saskatoon Blades'},\n",
       " {'title': 'Ron Ashton',\n",
       "  'content': 'WHL Championship history.- 1972–73: Loss, 2–0–3 vs Medicine Hat\\n- 1974–75: Loss, 3–4 vs New Westminster\\n- 1975–76: Loss, 1–2–4 vs New Westminster\\n- 1991–92: Loss, 3–4 vs Kamloops\\n- 1993–94: Loss, 3–4 vs Kamloops'},\n",
       " {'title': '1993–94 Chicago Bulls season',\n",
       "  'content': \"Jordan then further surprised the sports world by signing a minor league baseball contract with the Chicago White Sox. He reported to spring training and was assigned to the team's minor league system on March 31, 1994\"},\n",
       " {'title': '1993–94 Chicago Bulls season',\n",
       "  'content': 'He had an unspectacular professional baseball career for the Birmingham Barons, a Chicago White Sox farm team'},\n",
       " {'title': '1993–94 Chicago Bulls season',\n",
       "  'content': ' In 1900, with the approval of Western League president Ban Johnson, Charles Comiskey moved the Saints into his hometown neighborhood of Bridgeport, Chicago, where they became known as the White Stockings'},\n",
       " {'title': '1993–94 Chicago Bulls season',\n",
       "  'content': 'The current team arrived in the Birmingham area in 1981'},\n",
       " {'title': 'Monk Dubiel',\n",
       "  'content': 'Although Waitkus would miss much of the 1949 season after being shot by an obsessed fan'},\n",
       " {'title': 'Monk Dubiel',\n",
       "  'content': '\\n\\nRuth Ann Steinhagen (December 23, 1929 – December 29, 2012)'},\n",
       " {'title': 'Chuncheon Marathon',\n",
       "  'content': 'The 1936 Summer Olympics saw two Koreans win Olympic medals: Sohn Kee-chung'},\n",
       " {'title': 'Chuncheon Marathon',\n",
       "  'content': 'He became the first Korean to win a medal at the Olympic Games, winning gold in the marathon at the 1936 Berlin Olympics as a member of the Japanese delegation.'},\n",
       " {'title': 'Bernard Gilmore', 'content': 'Gilmore retired in 2006'},\n",
       " {'title': 'Bernard Gilmore',\n",
       "  'content': 'Eduard van Beinum (; 3 September 1901 – 13 April 1959, Amsterdam)'},\n",
       " {'title': 'Bernard Gilmore', 'content': 'Gilmore retired in 2006'},\n",
       " {'title': 'William Tecumseh Sherman',\n",
       "  'content': 'Sherman returned to serve under General Ulysses S. Grant in the winter of 1862 during the battles of forts Henry and Donelson.'},\n",
       " {'title': 'William Tecumseh Sherman',\n",
       "  'content': 'Thirty-two crewmen were killed or wounded, including commander William D. Porter'},\n",
       " {'title': 'William Tecumseh Sherman',\n",
       "  'content': 'Nearly 1,000 soldiers on both sides had been killed'},\n",
       " {'title': 'Battle of Mazocoba',\n",
       "  'content': 'Those who escaped deportation were dispersed across northern Mexico and some even settled across the international border in southern Arizona'},\n",
       " {'title': 'Battle of Mazocoba',\n",
       "  'content': 'Arizona (; ; ) is a state in the southwestern region of the United States.'}]"
      ]
     },
     "execution_count": 27,
     "metadata": {},
     "output_type": "execute_result"
    }
   ],
   "source": [
    "documents"
   ]
  }
 ],
 "metadata": {
  "kernelspec": {
   "display_name": "Python 3",
   "language": "python",
   "name": "python3"
  },
  "language_info": {
   "codemirror_mode": {
    "name": "ipython",
    "version": 3
   },
   "file_extension": ".py",
   "mimetype": "text/x-python",
   "name": "python",
   "nbconvert_exporter": "python",
   "pygments_lexer": "ipython3",
   "version": "3.12.2"
  }
 },
 "nbformat": 4,
 "nbformat_minor": 2
}
